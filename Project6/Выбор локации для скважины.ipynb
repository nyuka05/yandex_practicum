{
 "cells": [
  {
   "cell_type": "markdown",
   "metadata": {},
   "source": [
    "# Выбор локации для скважины"
   ]
  },
  {
   "cell_type": "markdown",
   "metadata": {},
   "source": [
    "Допустим, вы работаете в добывающей компании «ГлавРосГосНефть». Нужно решить, где бурить новую скважину.\n",
    "\n",
    "Вам предоставлены пробы нефти в трёх регионах: в каждом 10 000 месторождений, где измерили качество нефти и объём её запасов. Постройте модель машинного обучения, которая поможет определить регион, где добыча принесёт наибольшую прибыль. Проанализируйте возможную прибыль и риски техникой *Bootstrap.*\n",
    "\n",
    "Шаги для выбора локации:\n",
    "\n",
    "- В избранном регионе ищут месторождения, для каждого определяют значения признаков;\n",
    "- Строят модель и оценивают объём запасов;\n",
    "- Выбирают месторождения с самым высокими оценками значений. Количество месторождений зависит от бюджета компании и стоимости разработки одной скважины;\n",
    "- Прибыль равна суммарной прибыли отобранных месторождений."
   ]
  },
  {
   "cell_type": "markdown",
   "metadata": {},
   "source": [
    "## Загрузка и подготовка данных"
   ]
  },
  {
   "cell_type": "code",
   "execution_count": 1,
   "metadata": {},
   "outputs": [],
   "source": [
    "import pandas as pd\n",
    "from sklearn.tree import DecisionTreeClassifier\n",
    "from sklearn.ensemble import RandomForestClassifier\n",
    "from sklearn.model_selection import train_test_split\n",
    "from sklearn.metrics import mean_squared_error\n",
    "from sklearn.metrics import accuracy_score\n",
    "from sklearn.linear_model import LinearRegression \n",
    "from sklearn.dummy import DummyClassifier\n",
    "import seaborn as sns\n",
    "from sklearn.preprocessing import OrdinalEncoder\n",
    "from sklearn.preprocessing import StandardScaler\n",
    "from sklearn.metrics import f1_score\n",
    "from sklearn.metrics import roc_auc_score\n",
    "from sklearn.utils import shuffle\n",
    "import numpy as np\n",
    "from sklearn.preprocessing import OneHotEncoder\n",
    "from scipy import stats as st"
   ]
  },
  {
   "cell_type": "markdown",
   "metadata": {},
   "source": [
    "### датасет 1"
   ]
  },
  {
   "cell_type": "code",
   "execution_count": 3,
   "metadata": {},
   "outputs": [
    {
     "data": {
      "text/html": [
       "<div>\n",
       "<style scoped>\n",
       "    .dataframe tbody tr th:only-of-type {\n",
       "        vertical-align: middle;\n",
       "    }\n",
       "\n",
       "    .dataframe tbody tr th {\n",
       "        vertical-align: top;\n",
       "    }\n",
       "\n",
       "    .dataframe thead th {\n",
       "        text-align: right;\n",
       "    }\n",
       "</style>\n",
       "<table border=\"1\" class=\"dataframe\">\n",
       "  <thead>\n",
       "    <tr style=\"text-align: right;\">\n",
       "      <th></th>\n",
       "      <th>id</th>\n",
       "      <th>f0</th>\n",
       "      <th>f1</th>\n",
       "      <th>f2</th>\n",
       "      <th>product</th>\n",
       "    </tr>\n",
       "  </thead>\n",
       "  <tbody>\n",
       "    <tr>\n",
       "      <th>0</th>\n",
       "      <td>txEyH</td>\n",
       "      <td>0.705745</td>\n",
       "      <td>-0.497823</td>\n",
       "      <td>1.221170</td>\n",
       "      <td>105.280062</td>\n",
       "    </tr>\n",
       "    <tr>\n",
       "      <th>1</th>\n",
       "      <td>2acmU</td>\n",
       "      <td>1.334711</td>\n",
       "      <td>-0.340164</td>\n",
       "      <td>4.365080</td>\n",
       "      <td>73.037750</td>\n",
       "    </tr>\n",
       "    <tr>\n",
       "      <th>2</th>\n",
       "      <td>409Wp</td>\n",
       "      <td>1.022732</td>\n",
       "      <td>0.151990</td>\n",
       "      <td>1.419926</td>\n",
       "      <td>85.265647</td>\n",
       "    </tr>\n",
       "    <tr>\n",
       "      <th>3</th>\n",
       "      <td>iJLyR</td>\n",
       "      <td>-0.032172</td>\n",
       "      <td>0.139033</td>\n",
       "      <td>2.978566</td>\n",
       "      <td>168.620776</td>\n",
       "    </tr>\n",
       "    <tr>\n",
       "      <th>4</th>\n",
       "      <td>Xdl7t</td>\n",
       "      <td>1.988431</td>\n",
       "      <td>0.155413</td>\n",
       "      <td>4.751769</td>\n",
       "      <td>154.036647</td>\n",
       "    </tr>\n",
       "  </tbody>\n",
       "</table>\n",
       "</div>"
      ],
      "text/plain": [
       "      id        f0        f1        f2     product\n",
       "0  txEyH  0.705745 -0.497823  1.221170  105.280062\n",
       "1  2acmU  1.334711 -0.340164  4.365080   73.037750\n",
       "2  409Wp  1.022732  0.151990  1.419926   85.265647\n",
       "3  iJLyR -0.032172  0.139033  2.978566  168.620776\n",
       "4  Xdl7t  1.988431  0.155413  4.751769  154.036647"
      ]
     },
     "execution_count": 3,
     "metadata": {},
     "output_type": "execute_result"
    }
   ],
   "source": [
    "geo_data_0.head()"
   ]
  },
  {
   "cell_type": "code",
   "execution_count": 4,
   "metadata": {},
   "outputs": [
    {
     "data": {
      "text/html": [
       "<div>\n",
       "<style scoped>\n",
       "    .dataframe tbody tr th:only-of-type {\n",
       "        vertical-align: middle;\n",
       "    }\n",
       "\n",
       "    .dataframe tbody tr th {\n",
       "        vertical-align: top;\n",
       "    }\n",
       "\n",
       "    .dataframe thead th {\n",
       "        text-align: right;\n",
       "    }\n",
       "</style>\n",
       "<table border=\"1\" class=\"dataframe\">\n",
       "  <thead>\n",
       "    <tr style=\"text-align: right;\">\n",
       "      <th></th>\n",
       "      <th>f0</th>\n",
       "      <th>f1</th>\n",
       "      <th>f2</th>\n",
       "      <th>product</th>\n",
       "    </tr>\n",
       "  </thead>\n",
       "  <tbody>\n",
       "    <tr>\n",
       "      <th>f0</th>\n",
       "      <td>1.000000</td>\n",
       "      <td>-0.440723</td>\n",
       "      <td>-0.003153</td>\n",
       "      <td>0.143536</td>\n",
       "    </tr>\n",
       "    <tr>\n",
       "      <th>f1</th>\n",
       "      <td>-0.440723</td>\n",
       "      <td>1.000000</td>\n",
       "      <td>0.001724</td>\n",
       "      <td>-0.192356</td>\n",
       "    </tr>\n",
       "    <tr>\n",
       "      <th>f2</th>\n",
       "      <td>-0.003153</td>\n",
       "      <td>0.001724</td>\n",
       "      <td>1.000000</td>\n",
       "      <td>0.483663</td>\n",
       "    </tr>\n",
       "    <tr>\n",
       "      <th>product</th>\n",
       "      <td>0.143536</td>\n",
       "      <td>-0.192356</td>\n",
       "      <td>0.483663</td>\n",
       "      <td>1.000000</td>\n",
       "    </tr>\n",
       "  </tbody>\n",
       "</table>\n",
       "</div>"
      ],
      "text/plain": [
       "               f0        f1        f2   product\n",
       "f0       1.000000 -0.440723 -0.003153  0.143536\n",
       "f1      -0.440723  1.000000  0.001724 -0.192356\n",
       "f2      -0.003153  0.001724  1.000000  0.483663\n",
       "product  0.143536 -0.192356  0.483663  1.000000"
      ]
     },
     "execution_count": 4,
     "metadata": {},
     "output_type": "execute_result"
    }
   ],
   "source": [
    "geo_data_0.corr()"
   ]
  },
  {
   "cell_type": "code",
   "execution_count": 5,
   "metadata": {},
   "outputs": [
    {
     "data": {
      "text/html": [
       "<div>\n",
       "<style scoped>\n",
       "    .dataframe tbody tr th:only-of-type {\n",
       "        vertical-align: middle;\n",
       "    }\n",
       "\n",
       "    .dataframe tbody tr th {\n",
       "        vertical-align: top;\n",
       "    }\n",
       "\n",
       "    .dataframe thead th {\n",
       "        text-align: right;\n",
       "    }\n",
       "</style>\n",
       "<table border=\"1\" class=\"dataframe\">\n",
       "  <thead>\n",
       "    <tr style=\"text-align: right;\">\n",
       "      <th></th>\n",
       "      <th>f0</th>\n",
       "      <th>f1</th>\n",
       "      <th>f2</th>\n",
       "      <th>product</th>\n",
       "    </tr>\n",
       "  </thead>\n",
       "  <tbody>\n",
       "    <tr>\n",
       "      <th>count</th>\n",
       "      <td>100000.000000</td>\n",
       "      <td>100000.000000</td>\n",
       "      <td>100000.000000</td>\n",
       "      <td>100000.000000</td>\n",
       "    </tr>\n",
       "    <tr>\n",
       "      <th>mean</th>\n",
       "      <td>0.500419</td>\n",
       "      <td>0.250143</td>\n",
       "      <td>2.502647</td>\n",
       "      <td>92.500000</td>\n",
       "    </tr>\n",
       "    <tr>\n",
       "      <th>std</th>\n",
       "      <td>0.871832</td>\n",
       "      <td>0.504433</td>\n",
       "      <td>3.248248</td>\n",
       "      <td>44.288691</td>\n",
       "    </tr>\n",
       "    <tr>\n",
       "      <th>min</th>\n",
       "      <td>-1.408605</td>\n",
       "      <td>-0.848218</td>\n",
       "      <td>-12.088328</td>\n",
       "      <td>0.000000</td>\n",
       "    </tr>\n",
       "    <tr>\n",
       "      <th>25%</th>\n",
       "      <td>-0.072580</td>\n",
       "      <td>-0.200881</td>\n",
       "      <td>0.287748</td>\n",
       "      <td>56.497507</td>\n",
       "    </tr>\n",
       "    <tr>\n",
       "      <th>50%</th>\n",
       "      <td>0.502360</td>\n",
       "      <td>0.250252</td>\n",
       "      <td>2.515969</td>\n",
       "      <td>91.849972</td>\n",
       "    </tr>\n",
       "    <tr>\n",
       "      <th>75%</th>\n",
       "      <td>1.073581</td>\n",
       "      <td>0.700646</td>\n",
       "      <td>4.715088</td>\n",
       "      <td>128.564089</td>\n",
       "    </tr>\n",
       "    <tr>\n",
       "      <th>max</th>\n",
       "      <td>2.362331</td>\n",
       "      <td>1.343769</td>\n",
       "      <td>16.003790</td>\n",
       "      <td>185.364347</td>\n",
       "    </tr>\n",
       "  </tbody>\n",
       "</table>\n",
       "</div>"
      ],
      "text/plain": [
       "                  f0             f1             f2        product\n",
       "count  100000.000000  100000.000000  100000.000000  100000.000000\n",
       "mean        0.500419       0.250143       2.502647      92.500000\n",
       "std         0.871832       0.504433       3.248248      44.288691\n",
       "min        -1.408605      -0.848218     -12.088328       0.000000\n",
       "25%        -0.072580      -0.200881       0.287748      56.497507\n",
       "50%         0.502360       0.250252       2.515969      91.849972\n",
       "75%         1.073581       0.700646       4.715088     128.564089\n",
       "max         2.362331       1.343769      16.003790     185.364347"
      ]
     },
     "execution_count": 5,
     "metadata": {},
     "output_type": "execute_result"
    }
   ],
   "source": [
    "geo_data_0.describe()"
   ]
  },
  {
   "cell_type": "markdown",
   "metadata": {},
   "source": [
    "при аназе первого датасета для подготовки к обучению необходимо сделать следующее:\\\n",
    "1. Удалить столбец 'id', поскольку он не является фактором влияния на таргет, а является индетификатором\n",
    "2. выделить столбец 'product', как таргет.\n",
    "3. разделить на обучающую и валидационную выборки.  \n",
    "4. провести масштабирование данных "
   ]
  },
  {
   "cell_type": "code",
   "execution_count": 6,
   "metadata": {},
   "outputs": [],
   "source": [
    "target_0 = geo_data_0['product']\n",
    "geo_0 = geo_data_0.drop(columns =['product', 'id'])"
   ]
  },
  {
   "cell_type": "code",
   "execution_count": 7,
   "metadata": {},
   "outputs": [],
   "source": [
    "features_train_0, features_valid_0, target_train_0, target_valid_0 = train_test_split(\n",
    "    geo_0, target_0, test_size=0.25, random_state=12345)"
   ]
  },
  {
   "cell_type": "code",
   "execution_count": 8,
   "metadata": {},
   "outputs": [
    {
     "name": "stdout",
     "output_type": "stream",
     "text": [
      "Размер обучающей выборки 75000 75.0%\n",
      "Размер  валидационной выборки 25000 25.0%\n"
     ]
    }
   ],
   "source": [
    "print('Размер обучающей выборки', features_train_0.shape[0], f'{  features_train_0.shape[0]/geo_0.shape[0]:.1%}')\n",
    "print('Размер  валидационной выборки', features_valid_0.shape[0], f'{  features_valid_0.shape[0]/geo_0.shape[0]:.1%}')"
   ]
  },
  {
   "cell_type": "code",
   "execution_count": 9,
   "metadata": {},
   "outputs": [],
   "source": [
    "numeric = ['f0', 'f1', 'f2']\n",
    "scaler = StandardScaler()\n",
    "scaler.fit(features_train_0.loc[:, numeric])\n",
    "features_train_0 = scaler.transform(features_train_0.loc[:, numeric])\n",
    "features_valid_0 = scaler.transform(features_valid_0.loc[:, numeric])"
   ]
  },
  {
   "cell_type": "markdown",
   "metadata": {},
   "source": [
    "### Датасет 2"
   ]
  },
  {
   "cell_type": "code",
   "execution_count": 10,
   "metadata": {},
   "outputs": [
    {
     "name": "stdout",
     "output_type": "stream",
     "text": [
      "<class 'pandas.core.frame.DataFrame'>\n",
      "RangeIndex: 100000 entries, 0 to 99999\n",
      "Data columns (total 5 columns):\n",
      " #   Column   Non-Null Count   Dtype  \n",
      "---  ------   --------------   -----  \n",
      " 0   id       100000 non-null  object \n",
      " 1   f0       100000 non-null  float64\n",
      " 2   f1       100000 non-null  float64\n",
      " 3   f2       100000 non-null  float64\n",
      " 4   product  100000 non-null  float64\n",
      "dtypes: float64(4), object(1)\n",
      "memory usage: 3.8+ MB\n"
     ]
    }
   ],
   "source": [
    "geo_data_1 = pd.read_csv('/datasets/geo_data_1.csv')\n",
    "geo_data_1.info()"
   ]
  },
  {
   "cell_type": "code",
   "execution_count": 11,
   "metadata": {},
   "outputs": [
    {
     "data": {
      "text/html": [
       "<div>\n",
       "<style scoped>\n",
       "    .dataframe tbody tr th:only-of-type {\n",
       "        vertical-align: middle;\n",
       "    }\n",
       "\n",
       "    .dataframe tbody tr th {\n",
       "        vertical-align: top;\n",
       "    }\n",
       "\n",
       "    .dataframe thead th {\n",
       "        text-align: right;\n",
       "    }\n",
       "</style>\n",
       "<table border=\"1\" class=\"dataframe\">\n",
       "  <thead>\n",
       "    <tr style=\"text-align: right;\">\n",
       "      <th></th>\n",
       "      <th>id</th>\n",
       "      <th>f0</th>\n",
       "      <th>f1</th>\n",
       "      <th>f2</th>\n",
       "      <th>product</th>\n",
       "    </tr>\n",
       "  </thead>\n",
       "  <tbody>\n",
       "    <tr>\n",
       "      <th>0</th>\n",
       "      <td>kBEdx</td>\n",
       "      <td>-15.001348</td>\n",
       "      <td>-8.276000</td>\n",
       "      <td>-0.005876</td>\n",
       "      <td>3.179103</td>\n",
       "    </tr>\n",
       "    <tr>\n",
       "      <th>1</th>\n",
       "      <td>62mP7</td>\n",
       "      <td>14.272088</td>\n",
       "      <td>-3.475083</td>\n",
       "      <td>0.999183</td>\n",
       "      <td>26.953261</td>\n",
       "    </tr>\n",
       "    <tr>\n",
       "      <th>2</th>\n",
       "      <td>vyE1P</td>\n",
       "      <td>6.263187</td>\n",
       "      <td>-5.948386</td>\n",
       "      <td>5.001160</td>\n",
       "      <td>134.766305</td>\n",
       "    </tr>\n",
       "    <tr>\n",
       "      <th>3</th>\n",
       "      <td>KcrkZ</td>\n",
       "      <td>-13.081196</td>\n",
       "      <td>-11.506057</td>\n",
       "      <td>4.999415</td>\n",
       "      <td>137.945408</td>\n",
       "    </tr>\n",
       "    <tr>\n",
       "      <th>4</th>\n",
       "      <td>AHL4O</td>\n",
       "      <td>12.702195</td>\n",
       "      <td>-8.147433</td>\n",
       "      <td>5.004363</td>\n",
       "      <td>134.766305</td>\n",
       "    </tr>\n",
       "  </tbody>\n",
       "</table>\n",
       "</div>"
      ],
      "text/plain": [
       "      id         f0         f1        f2     product\n",
       "0  kBEdx -15.001348  -8.276000 -0.005876    3.179103\n",
       "1  62mP7  14.272088  -3.475083  0.999183   26.953261\n",
       "2  vyE1P   6.263187  -5.948386  5.001160  134.766305\n",
       "3  KcrkZ -13.081196 -11.506057  4.999415  137.945408\n",
       "4  AHL4O  12.702195  -8.147433  5.004363  134.766305"
      ]
     },
     "execution_count": 11,
     "metadata": {},
     "output_type": "execute_result"
    }
   ],
   "source": [
    "geo_data_1.head()"
   ]
  },
  {
   "cell_type": "code",
   "execution_count": 12,
   "metadata": {},
   "outputs": [
    {
     "data": {
      "text/html": [
       "<div>\n",
       "<style scoped>\n",
       "    .dataframe tbody tr th:only-of-type {\n",
       "        vertical-align: middle;\n",
       "    }\n",
       "\n",
       "    .dataframe tbody tr th {\n",
       "        vertical-align: top;\n",
       "    }\n",
       "\n",
       "    .dataframe thead th {\n",
       "        text-align: right;\n",
       "    }\n",
       "</style>\n",
       "<table border=\"1\" class=\"dataframe\">\n",
       "  <thead>\n",
       "    <tr style=\"text-align: right;\">\n",
       "      <th></th>\n",
       "      <th>f0</th>\n",
       "      <th>f1</th>\n",
       "      <th>f2</th>\n",
       "      <th>product</th>\n",
       "    </tr>\n",
       "  </thead>\n",
       "  <tbody>\n",
       "    <tr>\n",
       "      <th>f0</th>\n",
       "      <td>1.000000</td>\n",
       "      <td>0.182287</td>\n",
       "      <td>-0.001777</td>\n",
       "      <td>-0.030491</td>\n",
       "    </tr>\n",
       "    <tr>\n",
       "      <th>f1</th>\n",
       "      <td>0.182287</td>\n",
       "      <td>1.000000</td>\n",
       "      <td>-0.002595</td>\n",
       "      <td>-0.010155</td>\n",
       "    </tr>\n",
       "    <tr>\n",
       "      <th>f2</th>\n",
       "      <td>-0.001777</td>\n",
       "      <td>-0.002595</td>\n",
       "      <td>1.000000</td>\n",
       "      <td>0.999397</td>\n",
       "    </tr>\n",
       "    <tr>\n",
       "      <th>product</th>\n",
       "      <td>-0.030491</td>\n",
       "      <td>-0.010155</td>\n",
       "      <td>0.999397</td>\n",
       "      <td>1.000000</td>\n",
       "    </tr>\n",
       "  </tbody>\n",
       "</table>\n",
       "</div>"
      ],
      "text/plain": [
       "               f0        f1        f2   product\n",
       "f0       1.000000  0.182287 -0.001777 -0.030491\n",
       "f1       0.182287  1.000000 -0.002595 -0.010155\n",
       "f2      -0.001777 -0.002595  1.000000  0.999397\n",
       "product -0.030491 -0.010155  0.999397  1.000000"
      ]
     },
     "execution_count": 12,
     "metadata": {},
     "output_type": "execute_result"
    }
   ],
   "source": [
    "geo_data_1.corr()"
   ]
  },
  {
   "cell_type": "code",
   "execution_count": 13,
   "metadata": {},
   "outputs": [
    {
     "data": {
      "text/html": [
       "<div>\n",
       "<style scoped>\n",
       "    .dataframe tbody tr th:only-of-type {\n",
       "        vertical-align: middle;\n",
       "    }\n",
       "\n",
       "    .dataframe tbody tr th {\n",
       "        vertical-align: top;\n",
       "    }\n",
       "\n",
       "    .dataframe thead th {\n",
       "        text-align: right;\n",
       "    }\n",
       "</style>\n",
       "<table border=\"1\" class=\"dataframe\">\n",
       "  <thead>\n",
       "    <tr style=\"text-align: right;\">\n",
       "      <th></th>\n",
       "      <th>f0</th>\n",
       "      <th>f1</th>\n",
       "      <th>f2</th>\n",
       "      <th>product</th>\n",
       "    </tr>\n",
       "  </thead>\n",
       "  <tbody>\n",
       "    <tr>\n",
       "      <th>count</th>\n",
       "      <td>100000.000000</td>\n",
       "      <td>100000.000000</td>\n",
       "      <td>100000.000000</td>\n",
       "      <td>100000.000000</td>\n",
       "    </tr>\n",
       "    <tr>\n",
       "      <th>mean</th>\n",
       "      <td>1.141296</td>\n",
       "      <td>-4.796579</td>\n",
       "      <td>2.494541</td>\n",
       "      <td>68.825000</td>\n",
       "    </tr>\n",
       "    <tr>\n",
       "      <th>std</th>\n",
       "      <td>8.965932</td>\n",
       "      <td>5.119872</td>\n",
       "      <td>1.703572</td>\n",
       "      <td>45.944423</td>\n",
       "    </tr>\n",
       "    <tr>\n",
       "      <th>min</th>\n",
       "      <td>-31.609576</td>\n",
       "      <td>-26.358598</td>\n",
       "      <td>-0.018144</td>\n",
       "      <td>0.000000</td>\n",
       "    </tr>\n",
       "    <tr>\n",
       "      <th>25%</th>\n",
       "      <td>-6.298551</td>\n",
       "      <td>-8.267985</td>\n",
       "      <td>1.000021</td>\n",
       "      <td>26.953261</td>\n",
       "    </tr>\n",
       "    <tr>\n",
       "      <th>50%</th>\n",
       "      <td>1.153055</td>\n",
       "      <td>-4.813172</td>\n",
       "      <td>2.011479</td>\n",
       "      <td>57.085625</td>\n",
       "    </tr>\n",
       "    <tr>\n",
       "      <th>75%</th>\n",
       "      <td>8.621015</td>\n",
       "      <td>-1.332816</td>\n",
       "      <td>3.999904</td>\n",
       "      <td>107.813044</td>\n",
       "    </tr>\n",
       "    <tr>\n",
       "      <th>max</th>\n",
       "      <td>29.421755</td>\n",
       "      <td>18.734063</td>\n",
       "      <td>5.019721</td>\n",
       "      <td>137.945408</td>\n",
       "    </tr>\n",
       "  </tbody>\n",
       "</table>\n",
       "</div>"
      ],
      "text/plain": [
       "                  f0             f1             f2        product\n",
       "count  100000.000000  100000.000000  100000.000000  100000.000000\n",
       "mean        1.141296      -4.796579       2.494541      68.825000\n",
       "std         8.965932       5.119872       1.703572      45.944423\n",
       "min       -31.609576     -26.358598      -0.018144       0.000000\n",
       "25%        -6.298551      -8.267985       1.000021      26.953261\n",
       "50%         1.153055      -4.813172       2.011479      57.085625\n",
       "75%         8.621015      -1.332816       3.999904     107.813044\n",
       "max        29.421755      18.734063       5.019721     137.945408"
      ]
     },
     "execution_count": 13,
     "metadata": {},
     "output_type": "execute_result"
    }
   ],
   "source": [
    "geo_data_1.describe()"
   ]
  },
  {
   "cell_type": "markdown",
   "metadata": {},
   "source": [
    "Действия аналогичны, как с первым датасетом"
   ]
  },
  {
   "cell_type": "code",
   "execution_count": 14,
   "metadata": {},
   "outputs": [],
   "source": [
    "target_1 = geo_data_1['product']\n",
    "geo_1 = geo_data_1.drop(columns =['product', 'id'])"
   ]
  },
  {
   "cell_type": "code",
   "execution_count": 15,
   "metadata": {},
   "outputs": [],
   "source": [
    "#scaler.fit(geo_1.loc[:, numeric])\n",
    "#geo_1.loc[:, numeric] = scaler.transform(geo_1.loc[:, numeric])"
   ]
  },
  {
   "cell_type": "code",
   "execution_count": 16,
   "metadata": {},
   "outputs": [],
   "source": [
    "features_train_1, features_valid_1, target_train_1, target_valid_1 = train_test_split(\n",
    "    geo_1, target_1, test_size=0.25, random_state=12345)"
   ]
  },
  {
   "cell_type": "code",
   "execution_count": 17,
   "metadata": {},
   "outputs": [],
   "source": [
    "scaler = StandardScaler()\n",
    "scaler.fit(features_train_1.loc[:, numeric])\n",
    "features_train_1 = scaler.transform(features_train_1.loc[:, numeric])\n",
    "features_valid_1 = scaler.transform(features_valid_1.loc[:, numeric])"
   ]
  },
  {
   "cell_type": "code",
   "execution_count": 18,
   "metadata": {},
   "outputs": [
    {
     "name": "stdout",
     "output_type": "stream",
     "text": [
      "Размер обучающей выборки 75000 75.0%\n",
      "Размер  валидационной выборки 25000 25.0%\n"
     ]
    }
   ],
   "source": [
    "print('Размер обучающей выборки', features_train_1.shape[0], f'{  features_train_1.shape[0]/geo_1.shape[0]:.1%}')\n",
    "print('Размер  валидационной выборки', features_valid_1.shape[0], f'{  features_valid_1.shape[0]/geo_1.shape[0]:.1%}')"
   ]
  },
  {
   "cell_type": "markdown",
   "metadata": {},
   "source": [
    "### Датасет 3"
   ]
  },
  {
   "cell_type": "code",
   "execution_count": 19,
   "metadata": {},
   "outputs": [
    {
     "name": "stdout",
     "output_type": "stream",
     "text": [
      "<class 'pandas.core.frame.DataFrame'>\n",
      "RangeIndex: 100000 entries, 0 to 99999\n",
      "Data columns (total 5 columns):\n",
      " #   Column   Non-Null Count   Dtype  \n",
      "---  ------   --------------   -----  \n",
      " 0   id       100000 non-null  object \n",
      " 1   f0       100000 non-null  float64\n",
      " 2   f1       100000 non-null  float64\n",
      " 3   f2       100000 non-null  float64\n",
      " 4   product  100000 non-null  float64\n",
      "dtypes: float64(4), object(1)\n",
      "memory usage: 3.8+ MB\n"
     ]
    }
   ],
   "source": [
    "geo_data_2 = pd.read_csv('/datasets/geo_data_2.csv')\n",
    "geo_data_2.info()"
   ]
  },
  {
   "cell_type": "code",
   "execution_count": 20,
   "metadata": {},
   "outputs": [
    {
     "data": {
      "text/html": [
       "<div>\n",
       "<style scoped>\n",
       "    .dataframe tbody tr th:only-of-type {\n",
       "        vertical-align: middle;\n",
       "    }\n",
       "\n",
       "    .dataframe tbody tr th {\n",
       "        vertical-align: top;\n",
       "    }\n",
       "\n",
       "    .dataframe thead th {\n",
       "        text-align: right;\n",
       "    }\n",
       "</style>\n",
       "<table border=\"1\" class=\"dataframe\">\n",
       "  <thead>\n",
       "    <tr style=\"text-align: right;\">\n",
       "      <th></th>\n",
       "      <th>id</th>\n",
       "      <th>f0</th>\n",
       "      <th>f1</th>\n",
       "      <th>f2</th>\n",
       "      <th>product</th>\n",
       "    </tr>\n",
       "  </thead>\n",
       "  <tbody>\n",
       "    <tr>\n",
       "      <th>0</th>\n",
       "      <td>fwXo0</td>\n",
       "      <td>-1.146987</td>\n",
       "      <td>0.963328</td>\n",
       "      <td>-0.828965</td>\n",
       "      <td>27.758673</td>\n",
       "    </tr>\n",
       "    <tr>\n",
       "      <th>1</th>\n",
       "      <td>WJtFt</td>\n",
       "      <td>0.262778</td>\n",
       "      <td>0.269839</td>\n",
       "      <td>-2.530187</td>\n",
       "      <td>56.069697</td>\n",
       "    </tr>\n",
       "    <tr>\n",
       "      <th>2</th>\n",
       "      <td>ovLUW</td>\n",
       "      <td>0.194587</td>\n",
       "      <td>0.289035</td>\n",
       "      <td>-5.586433</td>\n",
       "      <td>62.871910</td>\n",
       "    </tr>\n",
       "    <tr>\n",
       "      <th>3</th>\n",
       "      <td>q6cA6</td>\n",
       "      <td>2.236060</td>\n",
       "      <td>-0.553760</td>\n",
       "      <td>0.930038</td>\n",
       "      <td>114.572842</td>\n",
       "    </tr>\n",
       "    <tr>\n",
       "      <th>4</th>\n",
       "      <td>WPMUX</td>\n",
       "      <td>-0.515993</td>\n",
       "      <td>1.716266</td>\n",
       "      <td>5.899011</td>\n",
       "      <td>149.600746</td>\n",
       "    </tr>\n",
       "  </tbody>\n",
       "</table>\n",
       "</div>"
      ],
      "text/plain": [
       "      id        f0        f1        f2     product\n",
       "0  fwXo0 -1.146987  0.963328 -0.828965   27.758673\n",
       "1  WJtFt  0.262778  0.269839 -2.530187   56.069697\n",
       "2  ovLUW  0.194587  0.289035 -5.586433   62.871910\n",
       "3  q6cA6  2.236060 -0.553760  0.930038  114.572842\n",
       "4  WPMUX -0.515993  1.716266  5.899011  149.600746"
      ]
     },
     "execution_count": 20,
     "metadata": {},
     "output_type": "execute_result"
    }
   ],
   "source": [
    "geo_data_2.head()"
   ]
  },
  {
   "cell_type": "code",
   "execution_count": 21,
   "metadata": {},
   "outputs": [
    {
     "data": {
      "text/html": [
       "<div>\n",
       "<style scoped>\n",
       "    .dataframe tbody tr th:only-of-type {\n",
       "        vertical-align: middle;\n",
       "    }\n",
       "\n",
       "    .dataframe tbody tr th {\n",
       "        vertical-align: top;\n",
       "    }\n",
       "\n",
       "    .dataframe thead th {\n",
       "        text-align: right;\n",
       "    }\n",
       "</style>\n",
       "<table border=\"1\" class=\"dataframe\">\n",
       "  <thead>\n",
       "    <tr style=\"text-align: right;\">\n",
       "      <th></th>\n",
       "      <th>f0</th>\n",
       "      <th>f1</th>\n",
       "      <th>f2</th>\n",
       "      <th>product</th>\n",
       "    </tr>\n",
       "  </thead>\n",
       "  <tbody>\n",
       "    <tr>\n",
       "      <th>f0</th>\n",
       "      <td>1.000000</td>\n",
       "      <td>0.000528</td>\n",
       "      <td>-0.000448</td>\n",
       "      <td>-0.001987</td>\n",
       "    </tr>\n",
       "    <tr>\n",
       "      <th>f1</th>\n",
       "      <td>0.000528</td>\n",
       "      <td>1.000000</td>\n",
       "      <td>0.000779</td>\n",
       "      <td>-0.001012</td>\n",
       "    </tr>\n",
       "    <tr>\n",
       "      <th>f2</th>\n",
       "      <td>-0.000448</td>\n",
       "      <td>0.000779</td>\n",
       "      <td>1.000000</td>\n",
       "      <td>0.445871</td>\n",
       "    </tr>\n",
       "    <tr>\n",
       "      <th>product</th>\n",
       "      <td>-0.001987</td>\n",
       "      <td>-0.001012</td>\n",
       "      <td>0.445871</td>\n",
       "      <td>1.000000</td>\n",
       "    </tr>\n",
       "  </tbody>\n",
       "</table>\n",
       "</div>"
      ],
      "text/plain": [
       "               f0        f1        f2   product\n",
       "f0       1.000000  0.000528 -0.000448 -0.001987\n",
       "f1       0.000528  1.000000  0.000779 -0.001012\n",
       "f2      -0.000448  0.000779  1.000000  0.445871\n",
       "product -0.001987 -0.001012  0.445871  1.000000"
      ]
     },
     "execution_count": 21,
     "metadata": {},
     "output_type": "execute_result"
    }
   ],
   "source": [
    "geo_data_2.corr()"
   ]
  },
  {
   "cell_type": "code",
   "execution_count": 22,
   "metadata": {},
   "outputs": [
    {
     "data": {
      "text/html": [
       "<div>\n",
       "<style scoped>\n",
       "    .dataframe tbody tr th:only-of-type {\n",
       "        vertical-align: middle;\n",
       "    }\n",
       "\n",
       "    .dataframe tbody tr th {\n",
       "        vertical-align: top;\n",
       "    }\n",
       "\n",
       "    .dataframe thead th {\n",
       "        text-align: right;\n",
       "    }\n",
       "</style>\n",
       "<table border=\"1\" class=\"dataframe\">\n",
       "  <thead>\n",
       "    <tr style=\"text-align: right;\">\n",
       "      <th></th>\n",
       "      <th>f0</th>\n",
       "      <th>f1</th>\n",
       "      <th>f2</th>\n",
       "      <th>product</th>\n",
       "    </tr>\n",
       "  </thead>\n",
       "  <tbody>\n",
       "    <tr>\n",
       "      <th>count</th>\n",
       "      <td>100000.000000</td>\n",
       "      <td>100000.000000</td>\n",
       "      <td>100000.000000</td>\n",
       "      <td>100000.000000</td>\n",
       "    </tr>\n",
       "    <tr>\n",
       "      <th>mean</th>\n",
       "      <td>0.002023</td>\n",
       "      <td>-0.002081</td>\n",
       "      <td>2.495128</td>\n",
       "      <td>95.000000</td>\n",
       "    </tr>\n",
       "    <tr>\n",
       "      <th>std</th>\n",
       "      <td>1.732045</td>\n",
       "      <td>1.730417</td>\n",
       "      <td>3.473445</td>\n",
       "      <td>44.749921</td>\n",
       "    </tr>\n",
       "    <tr>\n",
       "      <th>min</th>\n",
       "      <td>-8.760004</td>\n",
       "      <td>-7.084020</td>\n",
       "      <td>-11.970335</td>\n",
       "      <td>0.000000</td>\n",
       "    </tr>\n",
       "    <tr>\n",
       "      <th>25%</th>\n",
       "      <td>-1.162288</td>\n",
       "      <td>-1.174820</td>\n",
       "      <td>0.130359</td>\n",
       "      <td>59.450441</td>\n",
       "    </tr>\n",
       "    <tr>\n",
       "      <th>50%</th>\n",
       "      <td>0.009424</td>\n",
       "      <td>-0.009482</td>\n",
       "      <td>2.484236</td>\n",
       "      <td>94.925613</td>\n",
       "    </tr>\n",
       "    <tr>\n",
       "      <th>75%</th>\n",
       "      <td>1.158535</td>\n",
       "      <td>1.163678</td>\n",
       "      <td>4.858794</td>\n",
       "      <td>130.595027</td>\n",
       "    </tr>\n",
       "    <tr>\n",
       "      <th>max</th>\n",
       "      <td>7.238262</td>\n",
       "      <td>7.844801</td>\n",
       "      <td>16.739402</td>\n",
       "      <td>190.029838</td>\n",
       "    </tr>\n",
       "  </tbody>\n",
       "</table>\n",
       "</div>"
      ],
      "text/plain": [
       "                  f0             f1             f2        product\n",
       "count  100000.000000  100000.000000  100000.000000  100000.000000\n",
       "mean        0.002023      -0.002081       2.495128      95.000000\n",
       "std         1.732045       1.730417       3.473445      44.749921\n",
       "min        -8.760004      -7.084020     -11.970335       0.000000\n",
       "25%        -1.162288      -1.174820       0.130359      59.450441\n",
       "50%         0.009424      -0.009482       2.484236      94.925613\n",
       "75%         1.158535       1.163678       4.858794     130.595027\n",
       "max         7.238262       7.844801      16.739402     190.029838"
      ]
     },
     "execution_count": 22,
     "metadata": {},
     "output_type": "execute_result"
    }
   ],
   "source": [
    "geo_data_2.describe()"
   ]
  },
  {
   "cell_type": "code",
   "execution_count": 23,
   "metadata": {},
   "outputs": [],
   "source": [
    "target_2 = geo_data_2['product']\n",
    "geo_2 = geo_data_2.drop(columns =['product', 'id'])"
   ]
  },
  {
   "cell_type": "code",
   "execution_count": 24,
   "metadata": {},
   "outputs": [],
   "source": [
    "#scaler.fit(geo_2.loc[:, numeric])\n",
    "#geo_2.loc[:, numeric] = scaler.transform(geo_2.loc[:, numeric])"
   ]
  },
  {
   "cell_type": "code",
   "execution_count": 25,
   "metadata": {},
   "outputs": [],
   "source": [
    "features_train_2, features_valid_2, target_train_2, target_valid_2 = train_test_split(\n",
    "    geo_2, target_2, test_size=0.25, random_state=12345)"
   ]
  },
  {
   "cell_type": "code",
   "execution_count": 26,
   "metadata": {},
   "outputs": [],
   "source": [
    "scaler = StandardScaler()\n",
    "scaler.fit(features_train_2.loc[:, numeric])\n",
    "features_train_2 = scaler.transform(features_train_2.loc[:, numeric])\n",
    "features_valid_2 = scaler.transform(features_valid_2.loc[:, numeric])"
   ]
  },
  {
   "cell_type": "code",
   "execution_count": 27,
   "metadata": {},
   "outputs": [
    {
     "name": "stdout",
     "output_type": "stream",
     "text": [
      "Размер обучающей выборки 75000 75.0%\n",
      "Размер  валидационной выборки 25000 25.0%\n"
     ]
    }
   ],
   "source": [
    "print('Размер обучающей выборки', features_train_2.shape[0], f'{  features_train_2.shape[0]/geo_2.shape[0]:.1%}')\n",
    "print('Размер  валидационной выборки', features_valid_2.shape[0], f'{  features_valid_2.shape[0]/geo_2.shape[0]:.1%}')"
   ]
  },
  {
   "cell_type": "markdown",
   "metadata": {},
   "source": [
    "в ходе подготовки данных был удален столбец 'id' из всех датасетов\\\n",
    "проведено масштабирование влияющих признаков\\\n",
    "на этапе подготовки получены следующие датасеты: \\\n",
    "для 1 региона - features_train_0, features_valid_0, target_train_0, target_valid_0\\\n",
    "для 2 региона - features_train_1, features_valid_1, target_train_1, target_valid_1\\\n",
    "для 3 региона - features_train_2, features_valid_2, target_train_2, target_valid_2"
   ]
  },
  {
   "cell_type": "markdown",
   "metadata": {},
   "source": [
    "## Обучение и проверка модели"
   ]
  },
  {
   "cell_type": "code",
   "execution_count": 28,
   "metadata": {},
   "outputs": [],
   "source": [
    "model_0 = LinearRegression() \n",
    "model_0.fit(features_train_0, target_train_0) \n",
    "predictions_valid_0 = model_0.predict(features_valid_0)"
   ]
  },
  {
   "cell_type": "code",
   "execution_count": 29,
   "metadata": {},
   "outputs": [],
   "source": [
    "mse_0 = mean_squared_error(target_valid_0, predictions_valid_0)\n",
    "rmse_0 = mse_0 **0.5"
   ]
  },
  {
   "cell_type": "code",
   "execution_count": 30,
   "metadata": {},
   "outputs": [
    {
     "name": "stdout",
     "output_type": "stream",
     "text": [
      "средний запас фактического сырья для первого региона =  92.07859674082927\n",
      "средний запас предсказанного сырья для первого региона =  92.59256778438035\n"
     ]
    }
   ],
   "source": [
    "print('средний запас фактического сырья для первого региона = ', target_valid_0.mean())\n",
    "print('средний запас предсказанного сырья для первого региона = ', predictions_valid_0.mean())"
   ]
  },
  {
   "cell_type": "code",
   "execution_count": 31,
   "metadata": {},
   "outputs": [
    {
     "name": "stdout",
     "output_type": "stream",
     "text": [
      "RMSE =  37.5794217150813\n"
     ]
    }
   ],
   "source": [
    "print('RMSE = ', rmse_0)"
   ]
  },
  {
   "cell_type": "code",
   "execution_count": 32,
   "metadata": {},
   "outputs": [
    {
     "name": "stdout",
     "output_type": "stream",
     "text": [
      "средний запас фактического сырья для второго региона =  68.72313602435997\n",
      "средний запас предсказанного сырья для второго региона =  68.728546895446\n",
      "RMSE =  0.893099286775617\n"
     ]
    }
   ],
   "source": [
    "model_1 = LinearRegression() \n",
    "model_1.fit(features_train_1, target_train_1) \n",
    "predictions_valid_1 = model_1.predict(features_valid_1)\n",
    "mse_1 = mean_squared_error(target_valid_1, predictions_valid_1)\n",
    "rmse_1 = mse_1 **0.5\n",
    "print('средний запас фактического сырья для второго региона = ', target_valid_1.mean())\n",
    "print('средний запас предсказанного сырья для второго региона = ', predictions_valid_1.mean())\n",
    "print('RMSE = ', rmse_1)"
   ]
  },
  {
   "cell_type": "code",
   "execution_count": 33,
   "metadata": {},
   "outputs": [
    {
     "name": "stdout",
     "output_type": "stream",
     "text": [
      "средний запас фактического сырья для третьего региона =  94.88423280885438\n",
      "средний запас предсказанного сырья для третьего региона =  94.96504596800489\n",
      "RMSE =  40.02970873393434\n"
     ]
    }
   ],
   "source": [
    "model_2 = LinearRegression() \n",
    "model_2.fit(features_train_2, target_train_2) \n",
    "predictions_valid_2 = model_2.predict(features_valid_2)\n",
    "mse_2 = mean_squared_error(target_valid_2, predictions_valid_2)\n",
    "rmse_2 = mse_2 **0.5\n",
    "print('средний запас фактического сырья для третьего региона = ', target_valid_2.mean())\n",
    "print('средний запас предсказанного сырья для третьего региона = ', predictions_valid_2.mean())\n",
    "print('RMSE = ', rmse_2)"
   ]
  },
  {
   "cell_type": "markdown",
   "metadata": {},
   "source": [
    "В ходе обучения моделей наименьшее отклонение по второму региону\\\n",
    "наибольшее количество предсказанного и фактического среднего запаса у третьего региона.\\\n",
    "Среднее предсказанные и фактические запасы сырья приблизительно равны у всех регионов"
   ]
  },
  {
   "cell_type": "markdown",
   "metadata": {},
   "source": [
    "## Подготовка к расчёту прибыли"
   ]
  },
  {
   "cell_type": "code",
   "execution_count": 34,
   "metadata": {},
   "outputs": [],
   "source": [
    "deposit = 500\n",
    "best_deposit = 200\n",
    "priсe = 450 * 10**3\n",
    "total = 10 * 10**9\n",
    "bep = total / (priсe * best_deposit)"
   ]
  },
  {
   "cell_type": "code",
   "execution_count": 35,
   "metadata": {},
   "outputs": [
    {
     "name": "stdout",
     "output_type": "stream",
     "text": [
      "достаточный объем сырья для безубыточной разработки новой скважины 111.11111111111111\n",
      "средний запас фактического сырья для первого региона =  92.1 тыс. баррелей\n",
      "средний запас фактического сырья для второго региона =  68.7 тыс. баррелей\n",
      "средний запас фактического сырья для третьего региона =  94.9 тыс. баррелей\n"
     ]
    }
   ],
   "source": [
    "print('достаточный объем сырья для безубыточной разработки новой скважины', bep)\n",
    "print('средний запас фактического сырья для первого региона = ', f'{target_valid_0.mean():.3}', 'тыс. баррелей')\n",
    "print('средний запас фактического сырья для второго региона = ', f'{target_valid_1.mean():.3}', 'тыс. баррелей')\n",
    "print('средний запас фактического сырья для третьего региона = ', f'{target_valid_2.mean():.3}', 'тыс. баррелей')"
   ]
  },
  {
   "cell_type": "code",
   "execution_count": 36,
   "metadata": {},
   "outputs": [],
   "source": [
    "def profit(predictions, target):\n",
    "    max_predict = pd.Series(predictions).sort_values(\n",
    "        ascending = False).head(best_deposit)#.reset_index(drop=True)\n",
    "    target_m = target.reset_index(drop=True)[max_predict.index]#.sort_values(ascending = False).reset_index(drop=True).head(best_deposit)\n",
    "    a = (target_m.sum()*priсe) - total\n",
    "    return (a)\n",
    "   "
   ]
  },
  {
   "cell_type": "code",
   "execution_count": 37,
   "metadata": {},
   "outputs": [
    {
     "name": "stdout",
     "output_type": "stream",
     "text": [
      "Прибыль для лучших 200 скважен по первому региону =  3.32 млрд\n",
      "Прибыль для лучших 200 скважен по второму региону =  2.42 млрд\n",
      "Прибыль для лучших 200 скважен по третьему региону =  2.71 млрд\n"
     ]
    }
   ],
   "source": [
    "print('Прибыль для лучших 200 скважен по первому региону = ',\n",
    "      f'{ (profit(predictions_valid_0, target_valid_0) / 10**9):.3}', 'млрд')\n",
    "print('Прибыль для лучших 200 скважен по второму региону = ',\n",
    "      f'{ (profit(predictions_valid_1, target_valid_1) / 10**9):.3}', 'млрд')\n",
    "print('Прибыль для лучших 200 скважен по третьему региону = ',\n",
    "      f'{ (profit(predictions_valid_2, target_valid_2) / 10**9):.3}', 'млрд')\n",
    "      "
   ]
  },
  {
   "cell_type": "markdown",
   "metadata": {},
   "source": [
    "Наиболее перспективным можно выделить первый регион"
   ]
  },
  {
   "cell_type": "markdown",
   "metadata": {},
   "source": [
    "## Расчёт прибыли и рисков "
   ]
  },
  {
   "cell_type": "code",
   "execution_count": 38,
   "metadata": {},
   "outputs": [],
   "source": [
    "state = np.random.RandomState(12345)\n",
    "def prof_risk(predictions, target):\n",
    "    values = []\n",
    "    risk = 0\n",
    "    for i in range(1000):\n",
    "        #predictions = pd.Series(predictions)\n",
    "        target = target.reset_index(drop=True)\n",
    "        subsample_t = target.sample(n=500, replace=True, random_state=state)#.reset_index(drop=True)\n",
    "        subsample_p = predictions[subsample_t.index]\n",
    "        values.append(profit(subsample_p, subsample_t))\n",
    "    for i in values:\n",
    "        if i < 0:\n",
    "            risk += i\n",
    "       \n",
    "    values = pd.Series(values)\n",
    "    #confidence_interval = st.t.interval(0.95, df = (len(values) - 1), \n",
    "    #                loc = values.mean(), scale = values.sem())\n",
    "    risk = risk/sum(values)*100    \n",
    "    mean = values.mean()\n",
    "    lower = values.quantile(0.025)\n",
    "    upper = values.quantile(0.975)\n",
    "    risk2 = (values < 0).mean()\n",
    "\n",
    "    print('средняя прибыль = ', f' {mean/10**6:.5}', 'млн')\n",
    "    print('Риски = ', risk, risk2)\n",
    "    print('доверительный интервал от ',f'{lower/10**6:.5}', 'млн до', f'{upper/10**6:.5}', 'млн')"
   ]
  },
  {
   "cell_type": "code",
   "execution_count": 39,
   "metadata": {},
   "outputs": [
    {
     "name": "stdout",
     "output_type": "stream",
     "text": [
      "средняя прибыль =   396.16 млн\n",
      "Риски =  -1.9346917028984876 0.069\n",
      "доверительный интервал от  -111.22 млн до 909.77 млн\n"
     ]
    }
   ],
   "source": [
    "prof_risk(predictions_valid_0, target_valid_0)"
   ]
  },
  {
   "cell_type": "markdown",
   "metadata": {},
   "source": [
    "Для первого региона риски составляют менее 2 %, средняя прибыль варьируется от 111 млн убытков до 900 млн прибыли"
   ]
  },
  {
   "cell_type": "code",
   "execution_count": 40,
   "metadata": {},
   "outputs": [
    {
     "name": "stdout",
     "output_type": "stream",
     "text": [
      "средняя прибыль =   461.16 млн\n",
      "Риски =  -0.0689085358593326 0.007\n",
      "доверительный интервал от  78.051 млн до 862.95 млн\n"
     ]
    }
   ],
   "source": [
    "prof_risk(predictions_valid_1, target_valid_1)"
   ]
  },
  {
   "cell_type": "markdown",
   "metadata": {},
   "source": [
    "Для второго региона определены незначительные риски, средняя прибыль варьируется от 78 млн до 860 млн"
   ]
  },
  {
   "cell_type": "code",
   "execution_count": 41,
   "metadata": {},
   "outputs": [
    {
     "name": "stdout",
     "output_type": "stream",
     "text": [
      "средняя прибыль =   392.95 млн\n",
      "Риски =  -1.7405871695430963 0.065\n",
      "доверительный интервал от  -112.23 млн до 934.56 млн\n"
     ]
    }
   ],
   "source": [
    "prof_risk(predictions_valid_2, target_valid_2)"
   ]
  },
  {
   "cell_type": "markdown",
   "metadata": {},
   "source": [
    "Для третьего региона региона риски составляют менее 2 %, средняя прибыль варьируется от 112 млн убытков млрд до 930 млн прибыли"
   ]
  },
  {
   "cell_type": "markdown",
   "metadata": {},
   "source": [
    "## Общий вывод"
   ]
  },
  {
   "cell_type": "markdown",
   "metadata": {},
   "source": [
    "Для разработки рекомендуется второй регион, поскольку у данного региона средняя прибыль выше(средняя прибыль составит 461.16 млн), и практически отсутствуют  риски, но максимально возможная прибыль ниже, чем у других регионов, если учесть максимальную прибыль, но с большими рисками, то рекомендуется третий регион. "
   ]
  }
 ],
 "metadata": {
  "ExecuteTimeLog": [
   {
    "duration": 1594,
    "start_time": "2022-12-11T07:21:05.368Z"
   },
   {
    "duration": 239,
    "start_time": "2022-12-11T07:21:06.965Z"
   },
   {
    "duration": 13,
    "start_time": "2022-12-11T07:21:07.205Z"
   },
   {
    "duration": 16,
    "start_time": "2022-12-11T07:22:50.605Z"
   },
   {
    "duration": 38,
    "start_time": "2022-12-11T07:23:04.292Z"
   },
   {
    "duration": 133,
    "start_time": "2022-12-11T07:33:56.934Z"
   },
   {
    "duration": 5,
    "start_time": "2022-12-11T07:34:27.494Z"
   },
   {
    "duration": 9,
    "start_time": "2022-12-11T07:34:50.198Z"
   },
   {
    "duration": 12,
    "start_time": "2022-12-11T07:36:18.789Z"
   },
   {
    "duration": 8,
    "start_time": "2022-12-11T07:36:34.390Z"
   },
   {
    "duration": 7,
    "start_time": "2022-12-11T07:37:32.478Z"
   },
   {
    "duration": 9,
    "start_time": "2022-12-11T07:37:33.146Z"
   },
   {
    "duration": 5,
    "start_time": "2022-12-11T07:39:20.532Z"
   },
   {
    "duration": 13,
    "start_time": "2022-12-11T07:39:20.949Z"
   },
   {
    "duration": 8,
    "start_time": "2022-12-11T07:39:21.388Z"
   },
   {
    "duration": 9,
    "start_time": "2022-12-11T07:39:21.913Z"
   },
   {
    "duration": 11,
    "start_time": "2022-12-11T07:43:43.898Z"
   },
   {
    "duration": 7,
    "start_time": "2022-12-11T07:46:09.866Z"
   },
   {
    "duration": 16,
    "start_time": "2022-12-11T07:46:10.288Z"
   },
   {
    "duration": 13,
    "start_time": "2022-12-11T07:46:10.642Z"
   },
   {
    "duration": 17,
    "start_time": "2022-12-11T07:46:11.115Z"
   },
   {
    "duration": 3,
    "start_time": "2022-12-11T07:46:47.084Z"
   },
   {
    "duration": 146,
    "start_time": "2022-12-11T07:46:47.609Z"
   },
   {
    "duration": 9,
    "start_time": "2022-12-11T07:46:47.950Z"
   },
   {
    "duration": 17,
    "start_time": "2022-12-11T07:46:48.386Z"
   },
   {
    "duration": 37,
    "start_time": "2022-12-11T07:46:48.854Z"
   },
   {
    "duration": 4,
    "start_time": "2022-12-11T07:46:49.557Z"
   },
   {
    "duration": 11,
    "start_time": "2022-12-11T07:46:49.889Z"
   },
   {
    "duration": 12,
    "start_time": "2022-12-11T07:46:50.182Z"
   },
   {
    "duration": 13,
    "start_time": "2022-12-11T07:46:51.049Z"
   },
   {
    "duration": 11,
    "start_time": "2022-12-11T07:47:11.690Z"
   },
   {
    "duration": 4,
    "start_time": "2022-12-11T07:48:22.123Z"
   },
   {
    "duration": 13,
    "start_time": "2022-12-11T07:49:48.500Z"
   },
   {
    "duration": 19,
    "start_time": "2022-12-11T07:50:05.996Z"
   },
   {
    "duration": 13,
    "start_time": "2022-12-11T07:50:17.781Z"
   },
   {
    "duration": 18,
    "start_time": "2022-12-11T07:50:40.088Z"
   },
   {
    "duration": 23,
    "start_time": "2022-12-11T07:51:43.816Z"
   },
   {
    "duration": 18,
    "start_time": "2022-12-11T07:52:09.076Z"
   },
   {
    "duration": 20,
    "start_time": "2022-12-11T07:52:47.311Z"
   },
   {
    "duration": 16,
    "start_time": "2022-12-11T07:53:29.655Z"
   },
   {
    "duration": 15,
    "start_time": "2022-12-11T07:53:44.850Z"
   },
   {
    "duration": 11,
    "start_time": "2022-12-11T07:53:45.704Z"
   },
   {
    "duration": 4,
    "start_time": "2022-12-11T07:53:46.543Z"
   },
   {
    "duration": 8,
    "start_time": "2022-12-11T07:53:59.430Z"
   },
   {
    "duration": 232,
    "start_time": "2022-12-11T07:56:49.629Z"
   },
   {
    "duration": 10,
    "start_time": "2022-12-11T07:56:50.037Z"
   },
   {
    "duration": 18,
    "start_time": "2022-12-11T07:56:52.963Z"
   },
   {
    "duration": 36,
    "start_time": "2022-12-11T07:56:55.554Z"
   },
   {
    "duration": 5,
    "start_time": "2022-12-11T08:00:33.068Z"
   },
   {
    "duration": 14,
    "start_time": "2022-12-11T08:00:33.630Z"
   },
   {
    "duration": 12,
    "start_time": "2022-12-11T08:00:34.073Z"
   },
   {
    "duration": 4,
    "start_time": "2022-12-11T08:00:34.454Z"
   },
   {
    "duration": 253,
    "start_time": "2022-12-11T08:02:35.803Z"
   },
   {
    "duration": 13,
    "start_time": "2022-12-11T08:02:36.213Z"
   },
   {
    "duration": 151,
    "start_time": "2022-12-11T08:03:59.431Z"
   },
   {
    "duration": 14,
    "start_time": "2022-12-11T08:04:00.744Z"
   },
   {
    "duration": 34,
    "start_time": "2022-12-11T08:04:03.478Z"
   },
   {
    "duration": 9,
    "start_time": "2022-12-11T08:04:46.598Z"
   },
   {
    "duration": 15,
    "start_time": "2022-12-11T08:04:50.360Z"
   },
   {
    "duration": 39,
    "start_time": "2022-12-11T08:04:51.026Z"
   },
   {
    "duration": 4,
    "start_time": "2022-12-11T08:04:52.277Z"
   },
   {
    "duration": 14,
    "start_time": "2022-12-11T08:04:55.240Z"
   },
   {
    "duration": 10,
    "start_time": "2022-12-11T08:04:55.821Z"
   },
   {
    "duration": 4,
    "start_time": "2022-12-11T08:04:56.242Z"
   },
   {
    "duration": 15,
    "start_time": "2022-12-11T08:17:16.222Z"
   },
   {
    "duration": 6,
    "start_time": "2022-12-11T08:19:10.837Z"
   },
   {
    "duration": 13,
    "start_time": "2022-12-11T08:19:11.126Z"
   },
   {
    "duration": 11,
    "start_time": "2022-12-11T08:19:11.431Z"
   },
   {
    "duration": 5,
    "start_time": "2022-12-11T08:19:13.004Z"
   },
   {
    "duration": 23,
    "start_time": "2022-12-11T08:19:20.045Z"
   },
   {
    "duration": 5,
    "start_time": "2022-12-11T08:20:06.166Z"
   },
   {
    "duration": 162,
    "start_time": "2022-12-11T08:20:06.720Z"
   },
   {
    "duration": 10,
    "start_time": "2022-12-11T08:20:07.022Z"
   },
   {
    "duration": 17,
    "start_time": "2022-12-11T08:20:07.287Z"
   },
   {
    "duration": 39,
    "start_time": "2022-12-11T08:20:07.740Z"
   },
   {
    "duration": 4,
    "start_time": "2022-12-11T08:20:09.136Z"
   },
   {
    "duration": 11,
    "start_time": "2022-12-11T08:20:12.689Z"
   },
   {
    "duration": 5,
    "start_time": "2022-12-11T08:20:13.303Z"
   },
   {
    "duration": 15,
    "start_time": "2022-12-11T08:20:19.764Z"
   },
   {
    "duration": 15,
    "start_time": "2022-12-11T08:21:37.745Z"
   },
   {
    "duration": 18,
    "start_time": "2022-12-11T08:23:34.829Z"
   },
   {
    "duration": 14,
    "start_time": "2022-12-11T08:23:54.657Z"
   },
   {
    "duration": 6,
    "start_time": "2022-12-11T08:30:55.919Z"
   },
   {
    "duration": 72,
    "start_time": "2022-12-11T08:31:14.566Z"
   },
   {
    "duration": 5,
    "start_time": "2022-12-11T08:31:16.803Z"
   },
   {
    "duration": 4,
    "start_time": "2022-12-11T08:33:02.253Z"
   },
   {
    "duration": 4,
    "start_time": "2022-12-11T08:33:43.414Z"
   },
   {
    "duration": 17,
    "start_time": "2022-12-11T08:37:25.392Z"
   },
   {
    "duration": 14,
    "start_time": "2022-12-11T08:38:21.123Z"
   },
   {
    "duration": 3,
    "start_time": "2022-12-11T08:41:22.808Z"
   },
   {
    "duration": 10,
    "start_time": "2022-12-11T08:41:30.065Z"
   },
   {
    "duration": 3,
    "start_time": "2022-12-11T08:41:34.780Z"
   },
   {
    "duration": 6,
    "start_time": "2022-12-11T08:45:49.468Z"
   },
   {
    "duration": 26,
    "start_time": "2022-12-11T08:47:00.949Z"
   },
   {
    "duration": 23,
    "start_time": "2022-12-11T08:47:36.694Z"
   },
   {
    "duration": 3,
    "start_time": "2022-12-11T09:09:24.914Z"
   },
   {
    "duration": 4,
    "start_time": "2022-12-11T09:09:25.269Z"
   },
   {
    "duration": 6,
    "start_time": "2022-12-11T09:12:37.186Z"
   },
   {
    "duration": 4,
    "start_time": "2022-12-11T09:33:44.388Z"
   },
   {
    "duration": 24,
    "start_time": "2022-12-11T09:34:38.149Z"
   },
   {
    "duration": 4,
    "start_time": "2022-12-11T09:35:11.677Z"
   },
   {
    "duration": 28,
    "start_time": "2022-12-11T09:35:12.423Z"
   },
   {
    "duration": 3,
    "start_time": "2022-12-11T09:37:09.198Z"
   },
   {
    "duration": 16,
    "start_time": "2022-12-11T09:37:09.644Z"
   },
   {
    "duration": 4,
    "start_time": "2022-12-11T09:41:35.789Z"
   },
   {
    "duration": 41,
    "start_time": "2022-12-11T09:41:36.181Z"
   },
   {
    "duration": 4,
    "start_time": "2022-12-11T09:42:09.151Z"
   },
   {
    "duration": 23,
    "start_time": "2022-12-11T09:42:09.709Z"
   },
   {
    "duration": 16,
    "start_time": "2022-12-11T09:43:02.075Z"
   },
   {
    "duration": 47,
    "start_time": "2022-12-11T09:43:28.505Z"
   },
   {
    "duration": 4,
    "start_time": "2022-12-11T09:43:44.111Z"
   },
   {
    "duration": 16,
    "start_time": "2022-12-11T09:43:45.175Z"
   },
   {
    "duration": 3,
    "start_time": "2022-12-11T09:44:00.822Z"
   },
   {
    "duration": 10,
    "start_time": "2022-12-11T09:44:01.375Z"
   },
   {
    "duration": 24,
    "start_time": "2022-12-11T09:45:40.936Z"
   },
   {
    "duration": 11,
    "start_time": "2022-12-11T09:46:34.121Z"
   },
   {
    "duration": 13,
    "start_time": "2022-12-11T09:46:51.472Z"
   },
   {
    "duration": 6,
    "start_time": "2022-12-11T09:46:57.444Z"
   },
   {
    "duration": 10,
    "start_time": "2022-12-11T09:47:47.065Z"
   },
   {
    "duration": 9,
    "start_time": "2022-12-11T09:47:55.757Z"
   },
   {
    "duration": 5,
    "start_time": "2022-12-11T09:48:09.684Z"
   },
   {
    "duration": 10,
    "start_time": "2022-12-11T09:48:16.477Z"
   },
   {
    "duration": 3,
    "start_time": "2022-12-11T09:57:29.618Z"
   },
   {
    "duration": 11,
    "start_time": "2022-12-11T09:57:34.967Z"
   },
   {
    "duration": 4,
    "start_time": "2022-12-11T10:00:26.854Z"
   },
   {
    "duration": 11,
    "start_time": "2022-12-11T10:00:27.198Z"
   },
   {
    "duration": 4,
    "start_time": "2022-12-11T10:00:51.199Z"
   },
   {
    "duration": 11,
    "start_time": "2022-12-11T10:00:51.661Z"
   },
   {
    "duration": 57,
    "start_time": "2022-12-11T10:06:19.723Z"
   },
   {
    "duration": 12,
    "start_time": "2022-12-11T10:07:02.554Z"
   },
   {
    "duration": 22,
    "start_time": "2022-12-11T10:07:54.433Z"
   },
   {
    "duration": 11,
    "start_time": "2022-12-11T10:36:45.565Z"
   },
   {
    "duration": 30,
    "start_time": "2022-12-11T10:37:44.119Z"
   },
   {
    "duration": 15,
    "start_time": "2022-12-11T10:39:08.322Z"
   },
   {
    "duration": 20,
    "start_time": "2022-12-11T10:39:37.769Z"
   },
   {
    "duration": 14,
    "start_time": "2022-12-11T10:39:57.423Z"
   },
   {
    "duration": 7257,
    "start_time": "2022-12-11T10:40:12.292Z"
   },
   {
    "duration": 7245,
    "start_time": "2022-12-11T10:40:34.053Z"
   },
   {
    "duration": 4,
    "start_time": "2022-12-11T10:40:54.651Z"
   },
   {
    "duration": 7340,
    "start_time": "2022-12-11T10:42:01.505Z"
   },
   {
    "duration": 0,
    "start_time": "2022-12-11T10:42:08.846Z"
   },
   {
    "duration": 7214,
    "start_time": "2022-12-11T10:42:30.171Z"
   },
   {
    "duration": 5,
    "start_time": "2022-12-11T10:42:39.247Z"
   },
   {
    "duration": 7,
    "start_time": "2022-12-11T10:52:10.000Z"
   },
   {
    "duration": 7082,
    "start_time": "2022-12-11T10:52:35.155Z"
   },
   {
    "duration": 4,
    "start_time": "2022-12-11T10:53:08.309Z"
   },
   {
    "duration": 9,
    "start_time": "2022-12-11T10:53:15.745Z"
   },
   {
    "duration": 7284,
    "start_time": "2022-12-11T10:53:16.672Z"
   },
   {
    "duration": 7104,
    "start_time": "2022-12-11T10:53:35.895Z"
   },
   {
    "duration": 6,
    "start_time": "2022-12-11T10:53:47.811Z"
   },
   {
    "duration": 7042,
    "start_time": "2022-12-11T10:53:48.287Z"
   },
   {
    "duration": 6,
    "start_time": "2022-12-11T10:55:47.832Z"
   },
   {
    "duration": 7182,
    "start_time": "2022-12-11T10:55:48.353Z"
   },
   {
    "duration": 6,
    "start_time": "2022-12-11T10:56:04.520Z"
   },
   {
    "duration": 7031,
    "start_time": "2022-12-11T10:56:04.983Z"
   },
   {
    "duration": 9,
    "start_time": "2022-12-11T10:57:32.459Z"
   },
   {
    "duration": 7118,
    "start_time": "2022-12-11T10:57:32.946Z"
   },
   {
    "duration": 6,
    "start_time": "2022-12-11T10:57:51.419Z"
   },
   {
    "duration": 6997,
    "start_time": "2022-12-11T10:57:51.813Z"
   },
   {
    "duration": 6,
    "start_time": "2022-12-11T10:58:30.041Z"
   },
   {
    "duration": 7302,
    "start_time": "2022-12-11T10:58:31.340Z"
   },
   {
    "duration": 44,
    "start_time": "2022-12-11T10:58:58.949Z"
   },
   {
    "duration": 6934,
    "start_time": "2022-12-11T10:58:59.494Z"
   },
   {
    "duration": 47,
    "start_time": "2022-12-11T10:59:07.696Z"
   },
   {
    "duration": 10,
    "start_time": "2022-12-11T10:59:22.483Z"
   },
   {
    "duration": 6988,
    "start_time": "2022-12-11T10:59:24.875Z"
   },
   {
    "duration": 9,
    "start_time": "2022-12-11T10:59:49.049Z"
   },
   {
    "duration": 7128,
    "start_time": "2022-12-11T10:59:49.875Z"
   },
   {
    "duration": 7,
    "start_time": "2022-12-11T11:00:36.031Z"
   },
   {
    "duration": 7193,
    "start_time": "2022-12-11T11:00:36.616Z"
   },
   {
    "duration": 7,
    "start_time": "2022-12-11T11:02:12.598Z"
   },
   {
    "duration": 6935,
    "start_time": "2022-12-11T11:02:12.973Z"
   },
   {
    "duration": 6,
    "start_time": "2022-12-11T11:04:42.369Z"
   },
   {
    "duration": 6651,
    "start_time": "2022-12-11T11:04:42.797Z"
   },
   {
    "duration": 7,
    "start_time": "2022-12-11T11:05:11.726Z"
   },
   {
    "duration": 7021,
    "start_time": "2022-12-11T11:05:12.120Z"
   },
   {
    "duration": 7061,
    "start_time": "2022-12-11T11:06:17.963Z"
   },
   {
    "duration": 6771,
    "start_time": "2022-12-11T11:06:25.026Z"
   },
   {
    "duration": 7,
    "start_time": "2022-12-11T11:07:31.904Z"
   },
   {
    "duration": 6601,
    "start_time": "2022-12-11T11:07:33.373Z"
   },
   {
    "duration": 6054,
    "start_time": "2022-12-11T11:07:50.382Z"
   },
   {
    "duration": 7,
    "start_time": "2022-12-11T11:10:51.751Z"
   },
   {
    "duration": 7062,
    "start_time": "2022-12-11T11:10:52.158Z"
   },
   {
    "duration": 7,
    "start_time": "2022-12-11T11:11:17.506Z"
   },
   {
    "duration": 7378,
    "start_time": "2022-12-11T11:11:19.261Z"
   },
   {
    "duration": 7,
    "start_time": "2022-12-11T11:12:05.907Z"
   },
   {
    "duration": 7308,
    "start_time": "2022-12-11T11:12:06.234Z"
   },
   {
    "duration": 7,
    "start_time": "2022-12-11T11:12:48.600Z"
   },
   {
    "duration": 7193,
    "start_time": "2022-12-11T11:12:49.113Z"
   },
   {
    "duration": 5,
    "start_time": "2022-12-11T11:13:45.757Z"
   },
   {
    "duration": 6835,
    "start_time": "2022-12-11T11:13:46.622Z"
   },
   {
    "duration": 7,
    "start_time": "2022-12-11T11:16:14.830Z"
   },
   {
    "duration": 6959,
    "start_time": "2022-12-11T11:16:15.263Z"
   },
   {
    "duration": 5,
    "start_time": "2022-12-11T11:16:33.152Z"
   },
   {
    "duration": 6571,
    "start_time": "2022-12-11T11:16:33.481Z"
   },
   {
    "duration": 13,
    "start_time": "2022-12-11T11:16:40.054Z"
   },
   {
    "duration": 14,
    "start_time": "2022-12-11T11:16:58.815Z"
   },
   {
    "duration": 6,
    "start_time": "2022-12-11T11:17:04.614Z"
   },
   {
    "duration": 6215,
    "start_time": "2022-12-11T11:17:06.920Z"
   },
   {
    "duration": 6,
    "start_time": "2022-12-11T11:18:02.088Z"
   },
   {
    "duration": 7193,
    "start_time": "2022-12-11T11:18:03.564Z"
   },
   {
    "duration": 5691,
    "start_time": "2022-12-11T11:18:44.044Z"
   },
   {
    "duration": 7090,
    "start_time": "2022-12-11T11:19:20.013Z"
   },
   {
    "duration": 8,
    "start_time": "2022-12-11T11:24:26.018Z"
   },
   {
    "duration": 1427,
    "start_time": "2022-12-11T11:24:26.794Z"
   },
   {
    "duration": 1254,
    "start_time": "2022-12-11T11:24:31.808Z"
   },
   {
    "duration": 1363,
    "start_time": "2022-12-11T11:24:51.811Z"
   },
   {
    "duration": 6,
    "start_time": "2022-12-11T11:26:50.643Z"
   },
   {
    "duration": 1197,
    "start_time": "2022-12-11T11:26:52.495Z"
   },
   {
    "duration": 1304,
    "start_time": "2022-12-11T11:26:56.496Z"
   },
   {
    "duration": 1331,
    "start_time": "2022-12-11T11:27:12.904Z"
   },
   {
    "duration": 1729,
    "start_time": "2022-12-11T20:04:55.944Z"
   },
   {
    "duration": 145,
    "start_time": "2022-12-11T20:04:57.675Z"
   },
   {
    "duration": 13,
    "start_time": "2022-12-11T20:04:57.821Z"
   },
   {
    "duration": 25,
    "start_time": "2022-12-11T20:04:57.836Z"
   },
   {
    "duration": 37,
    "start_time": "2022-12-11T20:04:57.863Z"
   },
   {
    "duration": 4,
    "start_time": "2022-12-11T20:04:57.902Z"
   },
   {
    "duration": 19,
    "start_time": "2022-12-11T20:04:57.907Z"
   },
   {
    "duration": 34,
    "start_time": "2022-12-11T20:04:57.928Z"
   },
   {
    "duration": 5,
    "start_time": "2022-12-11T20:04:57.963Z"
   },
   {
    "duration": 141,
    "start_time": "2022-12-11T20:04:57.969Z"
   },
   {
    "duration": 9,
    "start_time": "2022-12-11T20:04:58.111Z"
   },
   {
    "duration": 23,
    "start_time": "2022-12-11T20:04:58.122Z"
   },
   {
    "duration": 34,
    "start_time": "2022-12-11T20:04:58.154Z"
   },
   {
    "duration": 4,
    "start_time": "2022-12-11T20:04:58.191Z"
   },
   {
    "duration": 24,
    "start_time": "2022-12-11T20:04:58.197Z"
   },
   {
    "duration": 12,
    "start_time": "2022-12-11T20:04:58.223Z"
   },
   {
    "duration": 21,
    "start_time": "2022-12-11T20:04:58.236Z"
   },
   {
    "duration": 151,
    "start_time": "2022-12-11T20:04:58.259Z"
   },
   {
    "duration": 9,
    "start_time": "2022-12-11T20:04:58.411Z"
   },
   {
    "duration": 19,
    "start_time": "2022-12-11T20:04:58.422Z"
   },
   {
    "duration": 35,
    "start_time": "2022-12-11T20:04:58.454Z"
   },
   {
    "duration": 3,
    "start_time": "2022-12-11T20:04:58.491Z"
   },
   {
    "duration": 17,
    "start_time": "2022-12-11T20:04:58.496Z"
   },
   {
    "duration": 15,
    "start_time": "2022-12-11T20:04:58.515Z"
   },
   {
    "duration": 3,
    "start_time": "2022-12-11T20:04:58.532Z"
   },
   {
    "duration": 122,
    "start_time": "2022-12-11T20:04:58.555Z"
   },
   {
    "duration": 0,
    "start_time": "2022-12-11T20:04:58.678Z"
   },
   {
    "duration": 0,
    "start_time": "2022-12-11T20:04:58.680Z"
   },
   {
    "duration": 0,
    "start_time": "2022-12-11T20:04:58.681Z"
   },
   {
    "duration": 0,
    "start_time": "2022-12-11T20:04:58.682Z"
   },
   {
    "duration": 0,
    "start_time": "2022-12-11T20:04:58.683Z"
   },
   {
    "duration": 0,
    "start_time": "2022-12-11T20:04:58.684Z"
   },
   {
    "duration": 0,
    "start_time": "2022-12-11T20:04:58.684Z"
   },
   {
    "duration": 0,
    "start_time": "2022-12-11T20:04:58.686Z"
   },
   {
    "duration": 0,
    "start_time": "2022-12-11T20:04:58.687Z"
   },
   {
    "duration": 0,
    "start_time": "2022-12-11T20:04:58.688Z"
   },
   {
    "duration": 0,
    "start_time": "2022-12-11T20:04:58.689Z"
   },
   {
    "duration": 0,
    "start_time": "2022-12-11T20:04:58.690Z"
   },
   {
    "duration": 0,
    "start_time": "2022-12-11T20:04:58.691Z"
   },
   {
    "duration": 1556,
    "start_time": "2022-12-11T20:05:42.050Z"
   },
   {
    "duration": 164,
    "start_time": "2022-12-11T20:05:43.608Z"
   },
   {
    "duration": 13,
    "start_time": "2022-12-11T20:05:43.774Z"
   },
   {
    "duration": 19,
    "start_time": "2022-12-11T20:05:43.788Z"
   },
   {
    "duration": 59,
    "start_time": "2022-12-11T20:05:43.810Z"
   },
   {
    "duration": 4,
    "start_time": "2022-12-11T20:05:43.871Z"
   },
   {
    "duration": 18,
    "start_time": "2022-12-11T20:05:43.877Z"
   },
   {
    "duration": 11,
    "start_time": "2022-12-11T20:05:43.896Z"
   },
   {
    "duration": 4,
    "start_time": "2022-12-11T20:05:43.909Z"
   },
   {
    "duration": 152,
    "start_time": "2022-12-11T20:05:43.915Z"
   },
   {
    "duration": 9,
    "start_time": "2022-12-11T20:05:44.069Z"
   },
   {
    "duration": 19,
    "start_time": "2022-12-11T20:05:44.080Z"
   },
   {
    "duration": 33,
    "start_time": "2022-12-11T20:05:44.101Z"
   },
   {
    "duration": 4,
    "start_time": "2022-12-11T20:05:44.156Z"
   },
   {
    "duration": 16,
    "start_time": "2022-12-11T20:05:44.162Z"
   },
   {
    "duration": 10,
    "start_time": "2022-12-11T20:05:44.179Z"
   },
   {
    "duration": 4,
    "start_time": "2022-12-11T20:05:44.190Z"
   },
   {
    "duration": 153,
    "start_time": "2022-12-11T20:05:44.196Z"
   },
   {
    "duration": 9,
    "start_time": "2022-12-11T20:05:44.355Z"
   },
   {
    "duration": 20,
    "start_time": "2022-12-11T20:05:44.365Z"
   },
   {
    "duration": 36,
    "start_time": "2022-12-11T20:05:44.386Z"
   },
   {
    "duration": 4,
    "start_time": "2022-12-11T20:05:44.423Z"
   },
   {
    "duration": 38,
    "start_time": "2022-12-11T20:05:44.429Z"
   },
   {
    "duration": 9,
    "start_time": "2022-12-11T20:05:44.469Z"
   },
   {
    "duration": 3,
    "start_time": "2022-12-11T20:05:44.480Z"
   },
   {
    "duration": 75,
    "start_time": "2022-12-11T20:05:44.485Z"
   },
   {
    "duration": 94,
    "start_time": "2022-12-11T20:05:44.564Z"
   },
   {
    "duration": 8,
    "start_time": "2022-12-11T20:05:44.660Z"
   },
   {
    "duration": 7,
    "start_time": "2022-12-11T20:05:44.670Z"
   },
   {
    "duration": 82,
    "start_time": "2022-12-11T20:05:44.679Z"
   },
   {
    "duration": 100,
    "start_time": "2022-12-11T20:05:44.763Z"
   },
   {
    "duration": 92,
    "start_time": "2022-12-11T20:05:44.865Z"
   },
   {
    "duration": 102,
    "start_time": "2022-12-11T20:05:44.959Z"
   },
   {
    "duration": 5,
    "start_time": "2022-12-11T20:05:45.063Z"
   },
   {
    "duration": 35,
    "start_time": "2022-12-11T20:05:45.070Z"
   },
   {
    "duration": 6,
    "start_time": "2022-12-11T20:05:45.107Z"
   },
   {
    "duration": 1225,
    "start_time": "2022-12-11T20:05:45.115Z"
   },
   {
    "duration": 1171,
    "start_time": "2022-12-11T20:05:46.342Z"
   },
   {
    "duration": 1124,
    "start_time": "2022-12-11T20:05:47.515Z"
   },
   {
    "duration": 1528,
    "start_time": "2022-12-12T02:38:01.115Z"
   },
   {
    "duration": 235,
    "start_time": "2022-12-12T02:38:02.645Z"
   },
   {
    "duration": 13,
    "start_time": "2022-12-12T02:38:02.883Z"
   },
   {
    "duration": 14,
    "start_time": "2022-12-12T02:38:03.144Z"
   },
   {
    "duration": 35,
    "start_time": "2022-12-12T02:38:03.488Z"
   },
   {
    "duration": 4,
    "start_time": "2022-12-12T02:38:04.215Z"
   },
   {
    "duration": 14,
    "start_time": "2022-12-12T02:38:04.759Z"
   },
   {
    "duration": 14,
    "start_time": "2022-12-12T02:38:05.161Z"
   },
   {
    "duration": 4,
    "start_time": "2022-12-12T02:38:05.615Z"
   },
   {
    "duration": 224,
    "start_time": "2022-12-12T02:38:06.744Z"
   },
   {
    "duration": 9,
    "start_time": "2022-12-12T02:38:07.807Z"
   },
   {
    "duration": 16,
    "start_time": "2022-12-12T02:38:08.470Z"
   },
   {
    "duration": 36,
    "start_time": "2022-12-12T02:38:09.146Z"
   },
   {
    "duration": 5,
    "start_time": "2022-12-12T02:38:12.050Z"
   },
   {
    "duration": 15,
    "start_time": "2022-12-12T02:38:12.416Z"
   },
   {
    "duration": 11,
    "start_time": "2022-12-12T02:38:22.697Z"
   },
   {
    "duration": 4,
    "start_time": "2022-12-12T02:38:22.966Z"
   },
   {
    "duration": 226,
    "start_time": "2022-12-12T02:38:23.658Z"
   },
   {
    "duration": 9,
    "start_time": "2022-12-12T02:38:23.983Z"
   },
   {
    "duration": 17,
    "start_time": "2022-12-12T02:38:24.426Z"
   },
   {
    "duration": 31,
    "start_time": "2022-12-12T02:38:24.694Z"
   },
   {
    "duration": 4,
    "start_time": "2022-12-12T02:38:24.948Z"
   },
   {
    "duration": 15,
    "start_time": "2022-12-12T02:38:25.570Z"
   },
   {
    "duration": 10,
    "start_time": "2022-12-12T02:38:25.800Z"
   },
   {
    "duration": 4,
    "start_time": "2022-12-12T02:38:26.021Z"
   },
   {
    "duration": 183,
    "start_time": "2022-12-12T02:38:28.433Z"
   },
   {
    "duration": 3,
    "start_time": "2022-12-12T02:38:28.828Z"
   },
   {
    "duration": 4,
    "start_time": "2022-12-12T02:38:30.191Z"
   },
   {
    "duration": 3,
    "start_time": "2022-12-12T02:38:32.399Z"
   },
   {
    "duration": 16,
    "start_time": "2022-12-12T02:38:33.658Z"
   },
   {
    "duration": 14,
    "start_time": "2022-12-12T02:38:40.245Z"
   },
   {
    "duration": 3,
    "start_time": "2022-12-12T02:39:37.454Z"
   },
   {
    "duration": 5,
    "start_time": "2022-12-12T02:39:40.733Z"
   },
   {
    "duration": 3,
    "start_time": "2022-12-12T02:39:53.982Z"
   },
   {
    "duration": 20,
    "start_time": "2022-12-12T02:41:36.108Z"
   },
   {
    "duration": 5,
    "start_time": "2022-12-12T02:41:41.467Z"
   },
   {
    "duration": 1077,
    "start_time": "2022-12-12T02:41:42.712Z"
   },
   {
    "duration": 1065,
    "start_time": "2022-12-12T02:41:43.790Z"
   },
   {
    "duration": 1078,
    "start_time": "2022-12-12T02:41:44.857Z"
   },
   {
    "duration": 4,
    "start_time": "2022-12-12T02:43:56.670Z"
   },
   {
    "duration": 15,
    "start_time": "2022-12-12T02:44:01.750Z"
   },
   {
    "duration": 5,
    "start_time": "2022-12-12T02:44:58.472Z"
   },
   {
    "duration": 107,
    "start_time": "2022-12-12T02:45:02.725Z"
   },
   {
    "duration": 5,
    "start_time": "2022-12-12T02:46:26.493Z"
   },
   {
    "duration": 3,
    "start_time": "2022-12-12T02:46:39.387Z"
   },
   {
    "duration": 8,
    "start_time": "2022-12-12T02:47:06.270Z"
   },
   {
    "duration": 5,
    "start_time": "2022-12-12T02:48:04.711Z"
   },
   {
    "duration": 10,
    "start_time": "2022-12-12T02:51:32.537Z"
   },
   {
    "duration": 5,
    "start_time": "2022-12-12T02:51:57.260Z"
   },
   {
    "duration": 9,
    "start_time": "2022-12-12T02:52:05.638Z"
   },
   {
    "duration": 6,
    "start_time": "2022-12-12T02:54:03.227Z"
   },
   {
    "duration": 15,
    "start_time": "2022-12-12T02:54:08.284Z"
   },
   {
    "duration": 5,
    "start_time": "2022-12-12T02:54:34.135Z"
   },
   {
    "duration": 31,
    "start_time": "2022-12-12T02:54:37.113Z"
   },
   {
    "duration": 7,
    "start_time": "2022-12-12T02:55:22.435Z"
   },
   {
    "duration": 903,
    "start_time": "2022-12-12T02:55:23.528Z"
   },
   {
    "duration": 880,
    "start_time": "2022-12-12T02:55:37.802Z"
   },
   {
    "duration": 915,
    "start_time": "2022-12-12T02:55:39.400Z"
   },
   {
    "duration": 929,
    "start_time": "2022-12-12T02:55:42.033Z"
   },
   {
    "duration": 78,
    "start_time": "2022-12-12T06:55:10.484Z"
   },
   {
    "duration": 1403,
    "start_time": "2022-12-12T07:02:49.867Z"
   },
   {
    "duration": 139,
    "start_time": "2022-12-12T07:02:51.598Z"
   },
   {
    "duration": 13,
    "start_time": "2022-12-12T07:02:54.183Z"
   },
   {
    "duration": 17,
    "start_time": "2022-12-12T07:02:55.052Z"
   },
   {
    "duration": 36,
    "start_time": "2022-12-12T07:02:55.820Z"
   },
   {
    "duration": 4,
    "start_time": "2022-12-12T07:02:57.632Z"
   },
   {
    "duration": 13,
    "start_time": "2022-12-12T07:03:00.122Z"
   },
   {
    "duration": 4,
    "start_time": "2022-12-12T07:03:00.524Z"
   },
   {
    "duration": 18,
    "start_time": "2022-12-12T07:03:01.756Z"
   },
   {
    "duration": 4,
    "start_time": "2022-12-12T07:11:17.862Z"
   },
   {
    "duration": 141,
    "start_time": "2022-12-12T07:11:18.988Z"
   },
   {
    "duration": 11,
    "start_time": "2022-12-12T07:11:19.719Z"
   },
   {
    "duration": 16,
    "start_time": "2022-12-12T07:11:20.224Z"
   },
   {
    "duration": 40,
    "start_time": "2022-12-12T07:11:21.046Z"
   },
   {
    "duration": 4,
    "start_time": "2022-12-12T07:11:23.165Z"
   },
   {
    "duration": 10,
    "start_time": "2022-12-12T07:11:24.698Z"
   },
   {
    "duration": 4,
    "start_time": "2022-12-12T07:11:25.443Z"
   },
   {
    "duration": 15,
    "start_time": "2022-12-12T07:11:25.979Z"
   },
   {
    "duration": 136,
    "start_time": "2022-12-12T07:11:28.622Z"
   },
   {
    "duration": 19,
    "start_time": "2022-12-12T07:11:32.325Z"
   },
   {
    "duration": 16,
    "start_time": "2022-12-12T07:11:33.290Z"
   },
   {
    "duration": 42,
    "start_time": "2022-12-12T07:11:33.967Z"
   },
   {
    "duration": 5,
    "start_time": "2022-12-12T07:11:35.820Z"
   },
   {
    "duration": 2,
    "start_time": "2022-12-12T07:11:40.163Z"
   },
   {
    "duration": 12,
    "start_time": "2022-12-12T07:11:42.457Z"
   },
   {
    "duration": 16,
    "start_time": "2022-12-12T07:11:43.001Z"
   },
   {
    "duration": 5,
    "start_time": "2022-12-12T07:11:44.001Z"
   },
   {
    "duration": 136,
    "start_time": "2022-12-12T07:11:47.197Z"
   },
   {
    "duration": 10,
    "start_time": "2022-12-12T07:11:48.192Z"
   },
   {
    "duration": 17,
    "start_time": "2022-12-12T07:11:48.541Z"
   },
   {
    "duration": 38,
    "start_time": "2022-12-12T07:11:49.162Z"
   },
   {
    "duration": 4,
    "start_time": "2022-12-12T07:11:50.612Z"
   },
   {
    "duration": 2,
    "start_time": "2022-12-12T07:11:50.999Z"
   },
   {
    "duration": 10,
    "start_time": "2022-12-12T07:11:51.620Z"
   },
   {
    "duration": 15,
    "start_time": "2022-12-12T07:11:54.424Z"
   },
   {
    "duration": 4,
    "start_time": "2022-12-12T07:11:55.217Z"
   },
   {
    "duration": 12,
    "start_time": "2022-12-12T07:11:58.811Z"
   },
   {
    "duration": 3,
    "start_time": "2022-12-12T07:12:02.219Z"
   },
   {
    "duration": 4,
    "start_time": "2022-12-12T07:12:03.272Z"
   },
   {
    "duration": 3,
    "start_time": "2022-12-12T07:12:04.110Z"
   },
   {
    "duration": 11,
    "start_time": "2022-12-12T07:12:07.040Z"
   },
   {
    "duration": 12,
    "start_time": "2022-12-12T07:12:22.396Z"
   },
   {
    "duration": 4,
    "start_time": "2022-12-12T07:13:43.999Z"
   },
   {
    "duration": 5,
    "start_time": "2022-12-12T07:13:46.262Z"
   },
   {
    "duration": 6,
    "start_time": "2022-12-12T07:14:42.772Z"
   },
   {
    "duration": 3,
    "start_time": "2022-12-12T07:14:43.750Z"
   },
   {
    "duration": 16,
    "start_time": "2022-12-12T07:14:46.441Z"
   },
   {
    "duration": 6,
    "start_time": "2022-12-12T07:14:48.884Z"
   },
   {
    "duration": 6,
    "start_time": "2022-12-12T07:14:49.459Z"
   },
   {
    "duration": 6,
    "start_time": "2022-12-12T07:14:49.885Z"
   },
   {
    "duration": 1005,
    "start_time": "2022-12-12T07:14:52.789Z"
   },
   {
    "duration": 940,
    "start_time": "2022-12-12T07:14:55.893Z"
   },
   {
    "duration": 971,
    "start_time": "2022-12-12T07:14:58.617Z"
   },
   {
    "duration": 2,
    "start_time": "2022-12-12T07:38:21.919Z"
   },
   {
    "duration": 4,
    "start_time": "2022-12-12T07:39:36.680Z"
   },
   {
    "duration": 118,
    "start_time": "2022-12-12T07:39:41.558Z"
   },
   {
    "duration": 4,
    "start_time": "2022-12-12T07:40:17.492Z"
   },
   {
    "duration": 16,
    "start_time": "2022-12-12T07:40:18.854Z"
   },
   {
    "duration": 66,
    "start_time": "2022-12-12T07:41:13.331Z"
   },
   {
    "duration": 73,
    "start_time": "2022-12-12T07:42:33.987Z"
   },
   {
    "duration": 6,
    "start_time": "2022-12-12T07:42:47.012Z"
   },
   {
    "duration": 5,
    "start_time": "2022-12-12T07:43:14.247Z"
   },
   {
    "duration": 4,
    "start_time": "2022-12-12T07:46:16.754Z"
   },
   {
    "duration": 20,
    "start_time": "2022-12-12T07:46:23.833Z"
   },
   {
    "duration": 4,
    "start_time": "2022-12-12T07:48:11.225Z"
   },
   {
    "duration": 15,
    "start_time": "2022-12-12T07:48:12.151Z"
   },
   {
    "duration": 4,
    "start_time": "2022-12-12T07:48:55.640Z"
   },
   {
    "duration": 17,
    "start_time": "2022-12-12T07:49:00.139Z"
   },
   {
    "duration": 4,
    "start_time": "2022-12-12T07:49:24.849Z"
   },
   {
    "duration": 23,
    "start_time": "2022-12-12T07:49:30.077Z"
   },
   {
    "duration": 6,
    "start_time": "2022-12-12T07:49:40.971Z"
   },
   {
    "duration": 6,
    "start_time": "2022-12-12T07:51:27.073Z"
   },
   {
    "duration": 1031,
    "start_time": "2022-12-12T07:51:29.018Z"
   },
   {
    "duration": 890,
    "start_time": "2022-12-12T07:51:40.824Z"
   },
   {
    "duration": 916,
    "start_time": "2022-12-12T07:51:46.066Z"
   },
   {
    "duration": 6,
    "start_time": "2022-12-12T07:55:27.295Z"
   },
   {
    "duration": 1020,
    "start_time": "2022-12-12T07:55:28.763Z"
   },
   {
    "duration": 938,
    "start_time": "2022-12-12T07:55:31.796Z"
   },
   {
    "duration": 919,
    "start_time": "2022-12-12T07:55:38.514Z"
   },
   {
    "duration": 7,
    "start_time": "2022-12-12T08:00:24.394Z"
   },
   {
    "duration": 982,
    "start_time": "2022-12-12T08:00:26.607Z"
   },
   {
    "duration": 912,
    "start_time": "2022-12-12T08:01:23.974Z"
   },
   {
    "duration": 892,
    "start_time": "2022-12-12T08:02:05.036Z"
   },
   {
    "duration": 916,
    "start_time": "2022-12-12T08:02:10.470Z"
   },
   {
    "duration": 3,
    "start_time": "2022-12-12T08:02:26.727Z"
   },
   {
    "duration": 151,
    "start_time": "2022-12-12T08:02:27.550Z"
   },
   {
    "duration": 9,
    "start_time": "2022-12-12T08:02:27.817Z"
   },
   {
    "duration": 17,
    "start_time": "2022-12-12T08:02:28.089Z"
   },
   {
    "duration": 38,
    "start_time": "2022-12-12T08:02:28.419Z"
   },
   {
    "duration": 4,
    "start_time": "2022-12-12T08:02:28.982Z"
   },
   {
    "duration": 13,
    "start_time": "2022-12-12T08:02:29.283Z"
   },
   {
    "duration": 5,
    "start_time": "2022-12-12T08:02:29.575Z"
   },
   {
    "duration": 17,
    "start_time": "2022-12-12T08:02:29.871Z"
   },
   {
    "duration": 136,
    "start_time": "2022-12-12T08:02:30.493Z"
   },
   {
    "duration": 9,
    "start_time": "2022-12-12T08:02:30.789Z"
   },
   {
    "duration": 16,
    "start_time": "2022-12-12T08:02:31.103Z"
   },
   {
    "duration": 36,
    "start_time": "2022-12-12T08:02:31.404Z"
   },
   {
    "duration": 5,
    "start_time": "2022-12-12T08:02:32.029Z"
   },
   {
    "duration": 2,
    "start_time": "2022-12-12T08:02:32.361Z"
   },
   {
    "duration": 10,
    "start_time": "2022-12-12T08:02:34.222Z"
   },
   {
    "duration": 13,
    "start_time": "2022-12-12T08:02:34.724Z"
   },
   {
    "duration": 4,
    "start_time": "2022-12-12T08:02:35.530Z"
   },
   {
    "duration": 127,
    "start_time": "2022-12-12T08:02:36.989Z"
   },
   {
    "duration": 9,
    "start_time": "2022-12-12T08:02:37.201Z"
   },
   {
    "duration": 14,
    "start_time": "2022-12-12T08:02:37.447Z"
   },
   {
    "duration": 31,
    "start_time": "2022-12-12T08:02:37.683Z"
   },
   {
    "duration": 3,
    "start_time": "2022-12-12T08:02:37.861Z"
   },
   {
    "duration": 3,
    "start_time": "2022-12-12T08:02:38.127Z"
   },
   {
    "duration": 11,
    "start_time": "2022-12-12T08:02:38.386Z"
   },
   {
    "duration": 13,
    "start_time": "2022-12-12T08:02:38.765Z"
   },
   {
    "duration": 4,
    "start_time": "2022-12-12T08:02:39.197Z"
   },
   {
    "duration": 17,
    "start_time": "2022-12-12T08:02:42.497Z"
   },
   {
    "duration": 4,
    "start_time": "2022-12-12T08:02:42.815Z"
   },
   {
    "duration": 4,
    "start_time": "2022-12-12T08:02:43.148Z"
   },
   {
    "duration": 4,
    "start_time": "2022-12-12T08:02:43.508Z"
   },
   {
    "duration": 12,
    "start_time": "2022-12-12T08:02:44.871Z"
   },
   {
    "duration": 13,
    "start_time": "2022-12-12T08:02:45.622Z"
   },
   {
    "duration": 3,
    "start_time": "2022-12-12T08:02:48.328Z"
   },
   {
    "duration": 7,
    "start_time": "2022-12-12T08:02:49.113Z"
   },
   {
    "duration": 3,
    "start_time": "2022-12-12T08:02:51.615Z"
   },
   {
    "duration": 16,
    "start_time": "2022-12-12T08:02:53.955Z"
   },
   {
    "duration": 6,
    "start_time": "2022-12-12T08:02:56.386Z"
   },
   {
    "duration": 1025,
    "start_time": "2022-12-12T08:02:58.777Z"
   },
   {
    "duration": 942,
    "start_time": "2022-12-12T08:03:03.345Z"
   },
   {
    "duration": 893,
    "start_time": "2022-12-12T08:03:16.981Z"
   },
   {
    "duration": 1006,
    "start_time": "2022-12-12T08:08:02.227Z"
   },
   {
    "duration": 898,
    "start_time": "2022-12-12T08:08:08.270Z"
   },
   {
    "duration": 956,
    "start_time": "2022-12-12T08:08:12.392Z"
   },
   {
    "duration": 4,
    "start_time": "2022-12-12T08:08:26.252Z"
   },
   {
    "duration": 143,
    "start_time": "2022-12-12T08:08:27.393Z"
   },
   {
    "duration": 10,
    "start_time": "2022-12-12T08:08:27.719Z"
   },
   {
    "duration": 18,
    "start_time": "2022-12-12T08:08:28.004Z"
   },
   {
    "duration": 36,
    "start_time": "2022-12-12T08:08:28.272Z"
   },
   {
    "duration": 4,
    "start_time": "2022-12-12T08:08:28.994Z"
   },
   {
    "duration": 11,
    "start_time": "2022-12-12T08:08:29.268Z"
   },
   {
    "duration": 5,
    "start_time": "2022-12-12T08:08:29.496Z"
   },
   {
    "duration": 16,
    "start_time": "2022-12-12T08:08:29.783Z"
   },
   {
    "duration": 138,
    "start_time": "2022-12-12T08:08:30.238Z"
   },
   {
    "duration": 10,
    "start_time": "2022-12-12T08:08:30.495Z"
   },
   {
    "duration": 16,
    "start_time": "2022-12-12T08:08:30.736Z"
   },
   {
    "duration": 37,
    "start_time": "2022-12-12T08:08:30.957Z"
   },
   {
    "duration": 4,
    "start_time": "2022-12-12T08:08:31.373Z"
   },
   {
    "duration": 3,
    "start_time": "2022-12-12T08:08:31.553Z"
   },
   {
    "duration": 10,
    "start_time": "2022-12-12T08:08:32.661Z"
   },
   {
    "duration": 15,
    "start_time": "2022-12-12T08:08:32.849Z"
   },
   {
    "duration": 4,
    "start_time": "2022-12-12T08:08:33.139Z"
   },
   {
    "duration": 155,
    "start_time": "2022-12-12T08:08:33.981Z"
   },
   {
    "duration": 9,
    "start_time": "2022-12-12T08:08:34.334Z"
   },
   {
    "duration": 24,
    "start_time": "2022-12-12T08:08:34.933Z"
   },
   {
    "duration": 33,
    "start_time": "2022-12-12T08:08:35.423Z"
   },
   {
    "duration": 4,
    "start_time": "2022-12-12T08:08:36.089Z"
   },
   {
    "duration": 2,
    "start_time": "2022-12-12T08:08:36.518Z"
   },
   {
    "duration": 10,
    "start_time": "2022-12-12T08:08:36.851Z"
   },
   {
    "duration": 14,
    "start_time": "2022-12-12T08:08:37.196Z"
   },
   {
    "duration": 3,
    "start_time": "2022-12-12T08:08:37.532Z"
   },
   {
    "duration": 8,
    "start_time": "2022-12-12T08:08:39.551Z"
   },
   {
    "duration": 4,
    "start_time": "2022-12-12T08:08:39.862Z"
   },
   {
    "duration": 4,
    "start_time": "2022-12-12T08:08:40.177Z"
   },
   {
    "duration": 4,
    "start_time": "2022-12-12T08:08:40.508Z"
   },
   {
    "duration": 12,
    "start_time": "2022-12-12T08:08:40.843Z"
   },
   {
    "duration": 12,
    "start_time": "2022-12-12T08:08:41.200Z"
   },
   {
    "duration": 3,
    "start_time": "2022-12-12T08:08:44.797Z"
   },
   {
    "duration": 6,
    "start_time": "2022-12-12T08:08:45.407Z"
   },
   {
    "duration": 3,
    "start_time": "2022-12-12T08:08:46.915Z"
   },
   {
    "duration": 6,
    "start_time": "2022-12-12T08:10:09.399Z"
   },
   {
    "duration": 4,
    "start_time": "2022-12-12T08:11:04.162Z"
   },
   {
    "duration": 15,
    "start_time": "2022-12-12T08:11:12.802Z"
   },
   {
    "duration": 6,
    "start_time": "2022-12-12T08:13:00.047Z"
   },
   {
    "duration": 933,
    "start_time": "2022-12-12T08:13:03.068Z"
   },
   {
    "duration": 897,
    "start_time": "2022-12-12T08:13:20.141Z"
   },
   {
    "duration": 990,
    "start_time": "2022-12-12T08:13:29.659Z"
   },
   {
    "duration": 72,
    "start_time": "2022-12-12T08:15:36.714Z"
   },
   {
    "duration": 4,
    "start_time": "2022-12-12T08:20:05.776Z"
   },
   {
    "duration": 1387,
    "start_time": "2022-12-12T08:20:38.083Z"
   },
   {
    "duration": 141,
    "start_time": "2022-12-12T08:20:39.472Z"
   },
   {
    "duration": 12,
    "start_time": "2022-12-12T08:20:39.615Z"
   },
   {
    "duration": 18,
    "start_time": "2022-12-12T08:20:39.629Z"
   },
   {
    "duration": 51,
    "start_time": "2022-12-12T08:20:39.649Z"
   },
   {
    "duration": 4,
    "start_time": "2022-12-12T08:20:39.702Z"
   },
   {
    "duration": 18,
    "start_time": "2022-12-12T08:20:39.707Z"
   },
   {
    "duration": 5,
    "start_time": "2022-12-12T08:20:39.727Z"
   },
   {
    "duration": 23,
    "start_time": "2022-12-12T08:20:39.733Z"
   },
   {
    "duration": 135,
    "start_time": "2022-12-12T08:20:39.760Z"
   },
   {
    "duration": 9,
    "start_time": "2022-12-12T08:20:39.897Z"
   },
   {
    "duration": 27,
    "start_time": "2022-12-12T08:20:39.907Z"
   },
   {
    "duration": 48,
    "start_time": "2022-12-12T08:20:39.936Z"
   },
   {
    "duration": 4,
    "start_time": "2022-12-12T08:20:39.986Z"
   },
   {
    "duration": 8,
    "start_time": "2022-12-12T08:20:39.992Z"
   },
   {
    "duration": 17,
    "start_time": "2022-12-12T08:20:40.001Z"
   },
   {
    "duration": 21,
    "start_time": "2022-12-12T08:20:40.020Z"
   },
   {
    "duration": 4,
    "start_time": "2022-12-12T08:20:40.043Z"
   },
   {
    "duration": 132,
    "start_time": "2022-12-12T08:20:40.048Z"
   },
   {
    "duration": 9,
    "start_time": "2022-12-12T08:20:40.182Z"
   },
   {
    "duration": 22,
    "start_time": "2022-12-12T08:20:40.192Z"
   },
   {
    "duration": 33,
    "start_time": "2022-12-12T08:20:40.216Z"
   },
   {
    "duration": 5,
    "start_time": "2022-12-12T08:20:40.250Z"
   },
   {
    "duration": 2,
    "start_time": "2022-12-12T08:20:40.278Z"
   },
   {
    "duration": 17,
    "start_time": "2022-12-12T08:20:40.282Z"
   },
   {
    "duration": 60,
    "start_time": "2022-12-12T08:20:40.300Z"
   },
   {
    "duration": 16,
    "start_time": "2022-12-12T08:20:40.362Z"
   },
   {
    "duration": 44,
    "start_time": "2022-12-12T08:20:40.382Z"
   },
   {
    "duration": 161,
    "start_time": "2022-12-12T08:20:40.428Z"
   },
   {
    "duration": 40,
    "start_time": "2022-12-12T08:20:40.590Z"
   },
   {
    "duration": 25,
    "start_time": "2022-12-12T08:20:40.631Z"
   },
   {
    "duration": 51,
    "start_time": "2022-12-12T08:20:40.658Z"
   },
   {
    "duration": 189,
    "start_time": "2022-12-12T08:20:40.710Z"
   },
   {
    "duration": 198,
    "start_time": "2022-12-12T08:20:40.900Z"
   },
   {
    "duration": 35,
    "start_time": "2022-12-12T08:20:41.099Z"
   },
   {
    "duration": 20,
    "start_time": "2022-12-12T08:20:41.136Z"
   },
   {
    "duration": 50,
    "start_time": "2022-12-12T08:20:41.158Z"
   },
   {
    "duration": 31,
    "start_time": "2022-12-12T08:20:41.211Z"
   },
   {
    "duration": 1045,
    "start_time": "2022-12-12T08:20:41.244Z"
   },
   {
    "duration": 975,
    "start_time": "2022-12-12T08:20:42.291Z"
   },
   {
    "duration": 1003,
    "start_time": "2022-12-12T08:20:43.268Z"
   },
   {
    "duration": 55,
    "start_time": "2022-12-13T03:15:08.613Z"
   }
  ],
  "kernelspec": {
   "display_name": "Python 3 (ipykernel)",
   "language": "python",
   "name": "python3"
  },
  "language_info": {
   "codemirror_mode": {
    "name": "ipython",
    "version": 3
   },
   "file_extension": ".py",
   "mimetype": "text/x-python",
   "name": "python",
   "nbconvert_exporter": "python",
   "pygments_lexer": "ipython3",
   "version": "3.9.13"
  },
  "toc": {
   "base_numbering": 1,
   "nav_menu": {},
   "number_sections": true,
   "sideBar": true,
   "skip_h1_title": true,
   "title_cell": "Table of Contents",
   "title_sidebar": "Contents",
   "toc_cell": false,
   "toc_position": {},
   "toc_section_display": true,
   "toc_window_display": false
  }
 },
 "nbformat": 4,
 "nbformat_minor": 2
}

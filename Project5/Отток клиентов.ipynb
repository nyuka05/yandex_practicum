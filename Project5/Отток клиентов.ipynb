{
 "cells": [
  {
   "cell_type": "markdown",
   "metadata": {},
   "source": [
    "# Отток клиентов"
   ]
  },
  {
   "cell_type": "markdown",
   "metadata": {},
   "source": [
    "Из «Бета-Банка» стали уходить клиенты. Каждый месяц. Немного, но заметно. Банковские маркетологи посчитали: сохранять текущих клиентов дешевле, чем привлекать новых.\n",
    "\n",
    "Нужно спрогнозировать, уйдёт клиент из банка в ближайшее время или нет. Вам предоставлены исторические данные о поведении клиентов и расторжении договоров с банком. \n",
    "\n",
    "Постройте модель с предельно большим значением *F1*-меры. Чтобы сдать проект успешно, нужно довести метрику до 0.59. Проверьте *F1*-меру на тестовой выборке самостоятельно.\n",
    "\n",
    "Дополнительно измеряйте *AUC-ROC*, сравнивайте её значение с *F1*-мерой.\n",
    "\n",
    "Источник данных: [https://www.kaggle.com/barelydedicated/bank-customer-churn-modeling](https://www.kaggle.com/barelydedicated/bank-customer-churn-modeling)"
   ]
  },
  {
   "cell_type": "code",
   "execution_count": 1,
   "metadata": {},
   "outputs": [],
   "source": [
    "import pandas as pd\n",
    "from sklearn.tree import DecisionTreeClassifier\n",
    "from sklearn.ensemble import RandomForestClassifier\n",
    "from sklearn.model_selection import train_test_split\n",
    "from sklearn.metrics import mean_squared_error\n",
    "from sklearn.metrics import accuracy_score\n",
    "from sklearn.linear_model import LogisticRegression \n",
    "from sklearn.dummy import DummyClassifier\n",
    "import seaborn as sns\n",
    "from sklearn.preprocessing import OrdinalEncoder\n",
    "from sklearn.preprocessing import StandardScaler\n",
    "from sklearn.metrics import f1_score\n",
    "from sklearn.metrics import roc_auc_score\n",
    "from sklearn.utils import shuffle\n",
    "import numpy as np\n",
    "from sklearn.preprocessing import OneHotEncoder"
   ]
  },
  {
   "cell_type": "markdown",
   "metadata": {},
   "source": [
    "## Подготовка данных"
   ]
  },
  {
   "cell_type": "code",
   "execution_count": 2,
   "metadata": {},
   "outputs": [],
   "source": [
    "df = pd.read_csv('/datasets/Churn.csv')"
   ]
  },
  {
   "cell_type": "code",
   "execution_count": 3,
   "metadata": {},
   "outputs": [
    {
     "name": "stdout",
     "output_type": "stream",
     "text": [
      "<class 'pandas.core.frame.DataFrame'>\n",
      "RangeIndex: 10000 entries, 0 to 9999\n",
      "Data columns (total 14 columns):\n",
      " #   Column           Non-Null Count  Dtype  \n",
      "---  ------           --------------  -----  \n",
      " 0   RowNumber        10000 non-null  int64  \n",
      " 1   CustomerId       10000 non-null  int64  \n",
      " 2   Surname          10000 non-null  object \n",
      " 3   CreditScore      10000 non-null  int64  \n",
      " 4   Geography        10000 non-null  object \n",
      " 5   Gender           10000 non-null  object \n",
      " 6   Age              10000 non-null  int64  \n",
      " 7   Tenure           9091 non-null   float64\n",
      " 8   Balance          10000 non-null  float64\n",
      " 9   NumOfProducts    10000 non-null  int64  \n",
      " 10  HasCrCard        10000 non-null  int64  \n",
      " 11  IsActiveMember   10000 non-null  int64  \n",
      " 12  EstimatedSalary  10000 non-null  float64\n",
      " 13  Exited           10000 non-null  int64  \n",
      "dtypes: float64(3), int64(8), object(3)\n",
      "memory usage: 1.1+ MB\n"
     ]
    }
   ],
   "source": [
    "df.info()"
   ]
  },
  {
   "cell_type": "code",
   "execution_count": 4,
   "metadata": {},
   "outputs": [
    {
     "data": {
      "text/html": [
       "<div>\n",
       "<style scoped>\n",
       "    .dataframe tbody tr th:only-of-type {\n",
       "        vertical-align: middle;\n",
       "    }\n",
       "\n",
       "    .dataframe tbody tr th {\n",
       "        vertical-align: top;\n",
       "    }\n",
       "\n",
       "    .dataframe thead th {\n",
       "        text-align: right;\n",
       "    }\n",
       "</style>\n",
       "<table border=\"1\" class=\"dataframe\">\n",
       "  <thead>\n",
       "    <tr style=\"text-align: right;\">\n",
       "      <th></th>\n",
       "      <th>RowNumber</th>\n",
       "      <th>CustomerId</th>\n",
       "      <th>Surname</th>\n",
       "      <th>CreditScore</th>\n",
       "      <th>Geography</th>\n",
       "      <th>Gender</th>\n",
       "      <th>Age</th>\n",
       "      <th>Tenure</th>\n",
       "      <th>Balance</th>\n",
       "      <th>NumOfProducts</th>\n",
       "      <th>HasCrCard</th>\n",
       "      <th>IsActiveMember</th>\n",
       "      <th>EstimatedSalary</th>\n",
       "      <th>Exited</th>\n",
       "    </tr>\n",
       "  </thead>\n",
       "  <tbody>\n",
       "    <tr>\n",
       "      <th>0</th>\n",
       "      <td>1</td>\n",
       "      <td>15634602</td>\n",
       "      <td>Hargrave</td>\n",
       "      <td>619</td>\n",
       "      <td>France</td>\n",
       "      <td>Female</td>\n",
       "      <td>42</td>\n",
       "      <td>2.0</td>\n",
       "      <td>0.00</td>\n",
       "      <td>1</td>\n",
       "      <td>1</td>\n",
       "      <td>1</td>\n",
       "      <td>101348.88</td>\n",
       "      <td>1</td>\n",
       "    </tr>\n",
       "    <tr>\n",
       "      <th>1</th>\n",
       "      <td>2</td>\n",
       "      <td>15647311</td>\n",
       "      <td>Hill</td>\n",
       "      <td>608</td>\n",
       "      <td>Spain</td>\n",
       "      <td>Female</td>\n",
       "      <td>41</td>\n",
       "      <td>1.0</td>\n",
       "      <td>83807.86</td>\n",
       "      <td>1</td>\n",
       "      <td>0</td>\n",
       "      <td>1</td>\n",
       "      <td>112542.58</td>\n",
       "      <td>0</td>\n",
       "    </tr>\n",
       "    <tr>\n",
       "      <th>2</th>\n",
       "      <td>3</td>\n",
       "      <td>15619304</td>\n",
       "      <td>Onio</td>\n",
       "      <td>502</td>\n",
       "      <td>France</td>\n",
       "      <td>Female</td>\n",
       "      <td>42</td>\n",
       "      <td>8.0</td>\n",
       "      <td>159660.80</td>\n",
       "      <td>3</td>\n",
       "      <td>1</td>\n",
       "      <td>0</td>\n",
       "      <td>113931.57</td>\n",
       "      <td>1</td>\n",
       "    </tr>\n",
       "    <tr>\n",
       "      <th>3</th>\n",
       "      <td>4</td>\n",
       "      <td>15701354</td>\n",
       "      <td>Boni</td>\n",
       "      <td>699</td>\n",
       "      <td>France</td>\n",
       "      <td>Female</td>\n",
       "      <td>39</td>\n",
       "      <td>1.0</td>\n",
       "      <td>0.00</td>\n",
       "      <td>2</td>\n",
       "      <td>0</td>\n",
       "      <td>0</td>\n",
       "      <td>93826.63</td>\n",
       "      <td>0</td>\n",
       "    </tr>\n",
       "    <tr>\n",
       "      <th>4</th>\n",
       "      <td>5</td>\n",
       "      <td>15737888</td>\n",
       "      <td>Mitchell</td>\n",
       "      <td>850</td>\n",
       "      <td>Spain</td>\n",
       "      <td>Female</td>\n",
       "      <td>43</td>\n",
       "      <td>2.0</td>\n",
       "      <td>125510.82</td>\n",
       "      <td>1</td>\n",
       "      <td>1</td>\n",
       "      <td>1</td>\n",
       "      <td>79084.10</td>\n",
       "      <td>0</td>\n",
       "    </tr>\n",
       "    <tr>\n",
       "      <th>5</th>\n",
       "      <td>6</td>\n",
       "      <td>15574012</td>\n",
       "      <td>Chu</td>\n",
       "      <td>645</td>\n",
       "      <td>Spain</td>\n",
       "      <td>Male</td>\n",
       "      <td>44</td>\n",
       "      <td>8.0</td>\n",
       "      <td>113755.78</td>\n",
       "      <td>2</td>\n",
       "      <td>1</td>\n",
       "      <td>0</td>\n",
       "      <td>149756.71</td>\n",
       "      <td>1</td>\n",
       "    </tr>\n",
       "    <tr>\n",
       "      <th>6</th>\n",
       "      <td>7</td>\n",
       "      <td>15592531</td>\n",
       "      <td>Bartlett</td>\n",
       "      <td>822</td>\n",
       "      <td>France</td>\n",
       "      <td>Male</td>\n",
       "      <td>50</td>\n",
       "      <td>7.0</td>\n",
       "      <td>0.00</td>\n",
       "      <td>2</td>\n",
       "      <td>1</td>\n",
       "      <td>1</td>\n",
       "      <td>10062.80</td>\n",
       "      <td>0</td>\n",
       "    </tr>\n",
       "    <tr>\n",
       "      <th>7</th>\n",
       "      <td>8</td>\n",
       "      <td>15656148</td>\n",
       "      <td>Obinna</td>\n",
       "      <td>376</td>\n",
       "      <td>Germany</td>\n",
       "      <td>Female</td>\n",
       "      <td>29</td>\n",
       "      <td>4.0</td>\n",
       "      <td>115046.74</td>\n",
       "      <td>4</td>\n",
       "      <td>1</td>\n",
       "      <td>0</td>\n",
       "      <td>119346.88</td>\n",
       "      <td>1</td>\n",
       "    </tr>\n",
       "    <tr>\n",
       "      <th>8</th>\n",
       "      <td>9</td>\n",
       "      <td>15792365</td>\n",
       "      <td>He</td>\n",
       "      <td>501</td>\n",
       "      <td>France</td>\n",
       "      <td>Male</td>\n",
       "      <td>44</td>\n",
       "      <td>4.0</td>\n",
       "      <td>142051.07</td>\n",
       "      <td>2</td>\n",
       "      <td>0</td>\n",
       "      <td>1</td>\n",
       "      <td>74940.50</td>\n",
       "      <td>0</td>\n",
       "    </tr>\n",
       "    <tr>\n",
       "      <th>9</th>\n",
       "      <td>10</td>\n",
       "      <td>15592389</td>\n",
       "      <td>H?</td>\n",
       "      <td>684</td>\n",
       "      <td>France</td>\n",
       "      <td>Male</td>\n",
       "      <td>27</td>\n",
       "      <td>2.0</td>\n",
       "      <td>134603.88</td>\n",
       "      <td>1</td>\n",
       "      <td>1</td>\n",
       "      <td>1</td>\n",
       "      <td>71725.73</td>\n",
       "      <td>0</td>\n",
       "    </tr>\n",
       "    <tr>\n",
       "      <th>10</th>\n",
       "      <td>11</td>\n",
       "      <td>15767821</td>\n",
       "      <td>Bearce</td>\n",
       "      <td>528</td>\n",
       "      <td>France</td>\n",
       "      <td>Male</td>\n",
       "      <td>31</td>\n",
       "      <td>6.0</td>\n",
       "      <td>102016.72</td>\n",
       "      <td>2</td>\n",
       "      <td>0</td>\n",
       "      <td>0</td>\n",
       "      <td>80181.12</td>\n",
       "      <td>0</td>\n",
       "    </tr>\n",
       "    <tr>\n",
       "      <th>11</th>\n",
       "      <td>12</td>\n",
       "      <td>15737173</td>\n",
       "      <td>Andrews</td>\n",
       "      <td>497</td>\n",
       "      <td>Spain</td>\n",
       "      <td>Male</td>\n",
       "      <td>24</td>\n",
       "      <td>3.0</td>\n",
       "      <td>0.00</td>\n",
       "      <td>2</td>\n",
       "      <td>1</td>\n",
       "      <td>0</td>\n",
       "      <td>76390.01</td>\n",
       "      <td>0</td>\n",
       "    </tr>\n",
       "    <tr>\n",
       "      <th>12</th>\n",
       "      <td>13</td>\n",
       "      <td>15632264</td>\n",
       "      <td>Kay</td>\n",
       "      <td>476</td>\n",
       "      <td>France</td>\n",
       "      <td>Female</td>\n",
       "      <td>34</td>\n",
       "      <td>10.0</td>\n",
       "      <td>0.00</td>\n",
       "      <td>2</td>\n",
       "      <td>1</td>\n",
       "      <td>0</td>\n",
       "      <td>26260.98</td>\n",
       "      <td>0</td>\n",
       "    </tr>\n",
       "    <tr>\n",
       "      <th>13</th>\n",
       "      <td>14</td>\n",
       "      <td>15691483</td>\n",
       "      <td>Chin</td>\n",
       "      <td>549</td>\n",
       "      <td>France</td>\n",
       "      <td>Female</td>\n",
       "      <td>25</td>\n",
       "      <td>5.0</td>\n",
       "      <td>0.00</td>\n",
       "      <td>2</td>\n",
       "      <td>0</td>\n",
       "      <td>0</td>\n",
       "      <td>190857.79</td>\n",
       "      <td>0</td>\n",
       "    </tr>\n",
       "    <tr>\n",
       "      <th>14</th>\n",
       "      <td>15</td>\n",
       "      <td>15600882</td>\n",
       "      <td>Scott</td>\n",
       "      <td>635</td>\n",
       "      <td>Spain</td>\n",
       "      <td>Female</td>\n",
       "      <td>35</td>\n",
       "      <td>7.0</td>\n",
       "      <td>0.00</td>\n",
       "      <td>2</td>\n",
       "      <td>1</td>\n",
       "      <td>1</td>\n",
       "      <td>65951.65</td>\n",
       "      <td>0</td>\n",
       "    </tr>\n",
       "    <tr>\n",
       "      <th>15</th>\n",
       "      <td>16</td>\n",
       "      <td>15643966</td>\n",
       "      <td>Goforth</td>\n",
       "      <td>616</td>\n",
       "      <td>Germany</td>\n",
       "      <td>Male</td>\n",
       "      <td>45</td>\n",
       "      <td>3.0</td>\n",
       "      <td>143129.41</td>\n",
       "      <td>2</td>\n",
       "      <td>0</td>\n",
       "      <td>1</td>\n",
       "      <td>64327.26</td>\n",
       "      <td>0</td>\n",
       "    </tr>\n",
       "    <tr>\n",
       "      <th>16</th>\n",
       "      <td>17</td>\n",
       "      <td>15737452</td>\n",
       "      <td>Romeo</td>\n",
       "      <td>653</td>\n",
       "      <td>Germany</td>\n",
       "      <td>Male</td>\n",
       "      <td>58</td>\n",
       "      <td>1.0</td>\n",
       "      <td>132602.88</td>\n",
       "      <td>1</td>\n",
       "      <td>1</td>\n",
       "      <td>0</td>\n",
       "      <td>5097.67</td>\n",
       "      <td>1</td>\n",
       "    </tr>\n",
       "    <tr>\n",
       "      <th>17</th>\n",
       "      <td>18</td>\n",
       "      <td>15788218</td>\n",
       "      <td>Henderson</td>\n",
       "      <td>549</td>\n",
       "      <td>Spain</td>\n",
       "      <td>Female</td>\n",
       "      <td>24</td>\n",
       "      <td>9.0</td>\n",
       "      <td>0.00</td>\n",
       "      <td>2</td>\n",
       "      <td>1</td>\n",
       "      <td>1</td>\n",
       "      <td>14406.41</td>\n",
       "      <td>0</td>\n",
       "    </tr>\n",
       "    <tr>\n",
       "      <th>18</th>\n",
       "      <td>19</td>\n",
       "      <td>15661507</td>\n",
       "      <td>Muldrow</td>\n",
       "      <td>587</td>\n",
       "      <td>Spain</td>\n",
       "      <td>Male</td>\n",
       "      <td>45</td>\n",
       "      <td>6.0</td>\n",
       "      <td>0.00</td>\n",
       "      <td>1</td>\n",
       "      <td>0</td>\n",
       "      <td>0</td>\n",
       "      <td>158684.81</td>\n",
       "      <td>0</td>\n",
       "    </tr>\n",
       "    <tr>\n",
       "      <th>19</th>\n",
       "      <td>20</td>\n",
       "      <td>15568982</td>\n",
       "      <td>Hao</td>\n",
       "      <td>726</td>\n",
       "      <td>France</td>\n",
       "      <td>Female</td>\n",
       "      <td>24</td>\n",
       "      <td>6.0</td>\n",
       "      <td>0.00</td>\n",
       "      <td>2</td>\n",
       "      <td>1</td>\n",
       "      <td>1</td>\n",
       "      <td>54724.03</td>\n",
       "      <td>0</td>\n",
       "    </tr>\n",
       "  </tbody>\n",
       "</table>\n",
       "</div>"
      ],
      "text/plain": [
       "    RowNumber  CustomerId    Surname  CreditScore Geography  Gender  Age  \\\n",
       "0           1    15634602   Hargrave          619    France  Female   42   \n",
       "1           2    15647311       Hill          608     Spain  Female   41   \n",
       "2           3    15619304       Onio          502    France  Female   42   \n",
       "3           4    15701354       Boni          699    France  Female   39   \n",
       "4           5    15737888   Mitchell          850     Spain  Female   43   \n",
       "5           6    15574012        Chu          645     Spain    Male   44   \n",
       "6           7    15592531   Bartlett          822    France    Male   50   \n",
       "7           8    15656148     Obinna          376   Germany  Female   29   \n",
       "8           9    15792365         He          501    France    Male   44   \n",
       "9          10    15592389         H?          684    France    Male   27   \n",
       "10         11    15767821     Bearce          528    France    Male   31   \n",
       "11         12    15737173    Andrews          497     Spain    Male   24   \n",
       "12         13    15632264        Kay          476    France  Female   34   \n",
       "13         14    15691483       Chin          549    France  Female   25   \n",
       "14         15    15600882      Scott          635     Spain  Female   35   \n",
       "15         16    15643966    Goforth          616   Germany    Male   45   \n",
       "16         17    15737452      Romeo          653   Germany    Male   58   \n",
       "17         18    15788218  Henderson          549     Spain  Female   24   \n",
       "18         19    15661507    Muldrow          587     Spain    Male   45   \n",
       "19         20    15568982        Hao          726    France  Female   24   \n",
       "\n",
       "    Tenure    Balance  NumOfProducts  HasCrCard  IsActiveMember  \\\n",
       "0      2.0       0.00              1          1               1   \n",
       "1      1.0   83807.86              1          0               1   \n",
       "2      8.0  159660.80              3          1               0   \n",
       "3      1.0       0.00              2          0               0   \n",
       "4      2.0  125510.82              1          1               1   \n",
       "5      8.0  113755.78              2          1               0   \n",
       "6      7.0       0.00              2          1               1   \n",
       "7      4.0  115046.74              4          1               0   \n",
       "8      4.0  142051.07              2          0               1   \n",
       "9      2.0  134603.88              1          1               1   \n",
       "10     6.0  102016.72              2          0               0   \n",
       "11     3.0       0.00              2          1               0   \n",
       "12    10.0       0.00              2          1               0   \n",
       "13     5.0       0.00              2          0               0   \n",
       "14     7.0       0.00              2          1               1   \n",
       "15     3.0  143129.41              2          0               1   \n",
       "16     1.0  132602.88              1          1               0   \n",
       "17     9.0       0.00              2          1               1   \n",
       "18     6.0       0.00              1          0               0   \n",
       "19     6.0       0.00              2          1               1   \n",
       "\n",
       "    EstimatedSalary  Exited  \n",
       "0         101348.88       1  \n",
       "1         112542.58       0  \n",
       "2         113931.57       1  \n",
       "3          93826.63       0  \n",
       "4          79084.10       0  \n",
       "5         149756.71       1  \n",
       "6          10062.80       0  \n",
       "7         119346.88       1  \n",
       "8          74940.50       0  \n",
       "9          71725.73       0  \n",
       "10         80181.12       0  \n",
       "11         76390.01       0  \n",
       "12         26260.98       0  \n",
       "13        190857.79       0  \n",
       "14         65951.65       0  \n",
       "15         64327.26       0  \n",
       "16          5097.67       1  \n",
       "17         14406.41       0  \n",
       "18        158684.81       0  \n",
       "19         54724.03       0  "
      ]
     },
     "execution_count": 4,
     "metadata": {},
     "output_type": "execute_result"
    }
   ],
   "source": [
    "df.head(20)"
   ]
  },
  {
   "cell_type": "code",
   "execution_count": 5,
   "metadata": {},
   "outputs": [
    {
     "data": {
      "text/html": [
       "<div>\n",
       "<style scoped>\n",
       "    .dataframe tbody tr th:only-of-type {\n",
       "        vertical-align: middle;\n",
       "    }\n",
       "\n",
       "    .dataframe tbody tr th {\n",
       "        vertical-align: top;\n",
       "    }\n",
       "\n",
       "    .dataframe thead th {\n",
       "        text-align: right;\n",
       "    }\n",
       "</style>\n",
       "<table border=\"1\" class=\"dataframe\">\n",
       "  <thead>\n",
       "    <tr style=\"text-align: right;\">\n",
       "      <th></th>\n",
       "      <th>RowNumber</th>\n",
       "      <th>CustomerId</th>\n",
       "      <th>CreditScore</th>\n",
       "      <th>Age</th>\n",
       "      <th>Tenure</th>\n",
       "      <th>Balance</th>\n",
       "      <th>NumOfProducts</th>\n",
       "      <th>HasCrCard</th>\n",
       "      <th>IsActiveMember</th>\n",
       "      <th>EstimatedSalary</th>\n",
       "      <th>Exited</th>\n",
       "    </tr>\n",
       "  </thead>\n",
       "  <tbody>\n",
       "    <tr>\n",
       "      <th>RowNumber</th>\n",
       "      <td>1.000000</td>\n",
       "      <td>0.004202</td>\n",
       "      <td>0.005840</td>\n",
       "      <td>0.000783</td>\n",
       "      <td>-0.007322</td>\n",
       "      <td>-0.009067</td>\n",
       "      <td>0.007246</td>\n",
       "      <td>0.000599</td>\n",
       "      <td>0.012044</td>\n",
       "      <td>-0.005988</td>\n",
       "      <td>-0.016571</td>\n",
       "    </tr>\n",
       "    <tr>\n",
       "      <th>CustomerId</th>\n",
       "      <td>0.004202</td>\n",
       "      <td>1.000000</td>\n",
       "      <td>0.005308</td>\n",
       "      <td>0.009497</td>\n",
       "      <td>-0.021418</td>\n",
       "      <td>-0.012419</td>\n",
       "      <td>0.016972</td>\n",
       "      <td>-0.014025</td>\n",
       "      <td>0.001665</td>\n",
       "      <td>0.015271</td>\n",
       "      <td>-0.006248</td>\n",
       "    </tr>\n",
       "    <tr>\n",
       "      <th>CreditScore</th>\n",
       "      <td>0.005840</td>\n",
       "      <td>0.005308</td>\n",
       "      <td>1.000000</td>\n",
       "      <td>-0.003965</td>\n",
       "      <td>-0.000062</td>\n",
       "      <td>0.006268</td>\n",
       "      <td>0.012238</td>\n",
       "      <td>-0.005458</td>\n",
       "      <td>0.025651</td>\n",
       "      <td>-0.001384</td>\n",
       "      <td>-0.027094</td>\n",
       "    </tr>\n",
       "    <tr>\n",
       "      <th>Age</th>\n",
       "      <td>0.000783</td>\n",
       "      <td>0.009497</td>\n",
       "      <td>-0.003965</td>\n",
       "      <td>1.000000</td>\n",
       "      <td>-0.013134</td>\n",
       "      <td>0.028308</td>\n",
       "      <td>-0.030680</td>\n",
       "      <td>-0.011721</td>\n",
       "      <td>0.085472</td>\n",
       "      <td>-0.007201</td>\n",
       "      <td>0.285323</td>\n",
       "    </tr>\n",
       "    <tr>\n",
       "      <th>Tenure</th>\n",
       "      <td>-0.007322</td>\n",
       "      <td>-0.021418</td>\n",
       "      <td>-0.000062</td>\n",
       "      <td>-0.013134</td>\n",
       "      <td>1.000000</td>\n",
       "      <td>-0.007911</td>\n",
       "      <td>0.011979</td>\n",
       "      <td>0.027232</td>\n",
       "      <td>-0.032178</td>\n",
       "      <td>0.010520</td>\n",
       "      <td>-0.016761</td>\n",
       "    </tr>\n",
       "    <tr>\n",
       "      <th>Balance</th>\n",
       "      <td>-0.009067</td>\n",
       "      <td>-0.012419</td>\n",
       "      <td>0.006268</td>\n",
       "      <td>0.028308</td>\n",
       "      <td>-0.007911</td>\n",
       "      <td>1.000000</td>\n",
       "      <td>-0.304180</td>\n",
       "      <td>-0.014858</td>\n",
       "      <td>-0.010084</td>\n",
       "      <td>0.012797</td>\n",
       "      <td>0.118533</td>\n",
       "    </tr>\n",
       "    <tr>\n",
       "      <th>NumOfProducts</th>\n",
       "      <td>0.007246</td>\n",
       "      <td>0.016972</td>\n",
       "      <td>0.012238</td>\n",
       "      <td>-0.030680</td>\n",
       "      <td>0.011979</td>\n",
       "      <td>-0.304180</td>\n",
       "      <td>1.000000</td>\n",
       "      <td>0.003183</td>\n",
       "      <td>0.009612</td>\n",
       "      <td>0.014204</td>\n",
       "      <td>-0.047820</td>\n",
       "    </tr>\n",
       "    <tr>\n",
       "      <th>HasCrCard</th>\n",
       "      <td>0.000599</td>\n",
       "      <td>-0.014025</td>\n",
       "      <td>-0.005458</td>\n",
       "      <td>-0.011721</td>\n",
       "      <td>0.027232</td>\n",
       "      <td>-0.014858</td>\n",
       "      <td>0.003183</td>\n",
       "      <td>1.000000</td>\n",
       "      <td>-0.011866</td>\n",
       "      <td>-0.009933</td>\n",
       "      <td>-0.007138</td>\n",
       "    </tr>\n",
       "    <tr>\n",
       "      <th>IsActiveMember</th>\n",
       "      <td>0.012044</td>\n",
       "      <td>0.001665</td>\n",
       "      <td>0.025651</td>\n",
       "      <td>0.085472</td>\n",
       "      <td>-0.032178</td>\n",
       "      <td>-0.010084</td>\n",
       "      <td>0.009612</td>\n",
       "      <td>-0.011866</td>\n",
       "      <td>1.000000</td>\n",
       "      <td>-0.011421</td>\n",
       "      <td>-0.156128</td>\n",
       "    </tr>\n",
       "    <tr>\n",
       "      <th>EstimatedSalary</th>\n",
       "      <td>-0.005988</td>\n",
       "      <td>0.015271</td>\n",
       "      <td>-0.001384</td>\n",
       "      <td>-0.007201</td>\n",
       "      <td>0.010520</td>\n",
       "      <td>0.012797</td>\n",
       "      <td>0.014204</td>\n",
       "      <td>-0.009933</td>\n",
       "      <td>-0.011421</td>\n",
       "      <td>1.000000</td>\n",
       "      <td>0.012097</td>\n",
       "    </tr>\n",
       "    <tr>\n",
       "      <th>Exited</th>\n",
       "      <td>-0.016571</td>\n",
       "      <td>-0.006248</td>\n",
       "      <td>-0.027094</td>\n",
       "      <td>0.285323</td>\n",
       "      <td>-0.016761</td>\n",
       "      <td>0.118533</td>\n",
       "      <td>-0.047820</td>\n",
       "      <td>-0.007138</td>\n",
       "      <td>-0.156128</td>\n",
       "      <td>0.012097</td>\n",
       "      <td>1.000000</td>\n",
       "    </tr>\n",
       "  </tbody>\n",
       "</table>\n",
       "</div>"
      ],
      "text/plain": [
       "                 RowNumber  CustomerId  CreditScore       Age    Tenure  \\\n",
       "RowNumber         1.000000    0.004202     0.005840  0.000783 -0.007322   \n",
       "CustomerId        0.004202    1.000000     0.005308  0.009497 -0.021418   \n",
       "CreditScore       0.005840    0.005308     1.000000 -0.003965 -0.000062   \n",
       "Age               0.000783    0.009497    -0.003965  1.000000 -0.013134   \n",
       "Tenure           -0.007322   -0.021418    -0.000062 -0.013134  1.000000   \n",
       "Balance          -0.009067   -0.012419     0.006268  0.028308 -0.007911   \n",
       "NumOfProducts     0.007246    0.016972     0.012238 -0.030680  0.011979   \n",
       "HasCrCard         0.000599   -0.014025    -0.005458 -0.011721  0.027232   \n",
       "IsActiveMember    0.012044    0.001665     0.025651  0.085472 -0.032178   \n",
       "EstimatedSalary  -0.005988    0.015271    -0.001384 -0.007201  0.010520   \n",
       "Exited           -0.016571   -0.006248    -0.027094  0.285323 -0.016761   \n",
       "\n",
       "                  Balance  NumOfProducts  HasCrCard  IsActiveMember  \\\n",
       "RowNumber       -0.009067       0.007246   0.000599        0.012044   \n",
       "CustomerId      -0.012419       0.016972  -0.014025        0.001665   \n",
       "CreditScore      0.006268       0.012238  -0.005458        0.025651   \n",
       "Age              0.028308      -0.030680  -0.011721        0.085472   \n",
       "Tenure          -0.007911       0.011979   0.027232       -0.032178   \n",
       "Balance          1.000000      -0.304180  -0.014858       -0.010084   \n",
       "NumOfProducts   -0.304180       1.000000   0.003183        0.009612   \n",
       "HasCrCard       -0.014858       0.003183   1.000000       -0.011866   \n",
       "IsActiveMember  -0.010084       0.009612  -0.011866        1.000000   \n",
       "EstimatedSalary  0.012797       0.014204  -0.009933       -0.011421   \n",
       "Exited           0.118533      -0.047820  -0.007138       -0.156128   \n",
       "\n",
       "                 EstimatedSalary    Exited  \n",
       "RowNumber              -0.005988 -0.016571  \n",
       "CustomerId              0.015271 -0.006248  \n",
       "CreditScore            -0.001384 -0.027094  \n",
       "Age                    -0.007201  0.285323  \n",
       "Tenure                  0.010520 -0.016761  \n",
       "Balance                 0.012797  0.118533  \n",
       "NumOfProducts           0.014204 -0.047820  \n",
       "HasCrCard              -0.009933 -0.007138  \n",
       "IsActiveMember         -0.011421 -0.156128  \n",
       "EstimatedSalary         1.000000  0.012097  \n",
       "Exited                  0.012097  1.000000  "
      ]
     },
     "execution_count": 5,
     "metadata": {},
     "output_type": "execute_result"
    }
   ],
   "source": [
    "df.corr()"
   ]
  },
  {
   "cell_type": "markdown",
   "metadata": {},
   "source": [
    "На целевой признак в большей степени влияют: баланс счета и возраст, в меньшей степени наличие кридитной карты, при необходимости этот столбец можно не использовать при обучении модели. "
   ]
  },
  {
   "cell_type": "markdown",
   "metadata": {},
   "source": [
    "для построения модели прогноза следующие столбцы не требуются для анализа:\\\n",
    "RowNumber — индекс строки в данных (не влияют на уход клиента из банка)\\\n",
    "CustomerId — уникальный идентификатор клиента\\\n",
    "Surname — фамилия"
   ]
  },
  {
   "cell_type": "code",
   "execution_count": 6,
   "metadata": {},
   "outputs": [
    {
     "data": {
      "text/plain": [
       "0    0.7963\n",
       "1    0.2037\n",
       "Name: Exited, dtype: float64"
      ]
     },
     "execution_count": 6,
     "metadata": {},
     "output_type": "execute_result"
    }
   ],
   "source": [
    "df['Exited'].value_counts(normalize= True )"
   ]
  },
  {
   "cell_type": "markdown",
   "metadata": {},
   "source": [
    "баланс классов 1 к 4"
   ]
  },
  {
   "cell_type": "code",
   "execution_count": 7,
   "metadata": {},
   "outputs": [],
   "source": [
    "#df.groupby('Exited')"
   ]
  },
  {
   "cell_type": "markdown",
   "metadata": {},
   "source": [
    "вероятно необходима болансировка."
   ]
  },
  {
   "cell_type": "code",
   "execution_count": 8,
   "metadata": {},
   "outputs": [],
   "source": [
    "df = df.drop(columns = ['RowNumber', 'CustomerId', 'Surname'])\n",
    "#df = df.drop(columns = ['HasCrCard'])"
   ]
  },
  {
   "cell_type": "markdown",
   "metadata": {},
   "source": [
    "Tenure в столбце присутсвую пропуски, думаю, что их стоит заменить на \"0\". с значением, что это новые клиенты. (возможно, их нужно удалить, поскольку это новые клиенты и они могут помешать обучению модели?) "
   ]
  },
  {
   "cell_type": "code",
   "execution_count": 9,
   "metadata": {},
   "outputs": [
    {
     "data": {
      "text/plain": [
       "909"
      ]
     },
     "execution_count": 9,
     "metadata": {},
     "output_type": "execute_result"
    }
   ],
   "source": [
    "df['Tenure'].isna().sum()"
   ]
  },
  {
   "cell_type": "code",
   "execution_count": 10,
   "metadata": {},
   "outputs": [
    {
     "data": {
      "text/plain": [
       "Tenure\n",
       "0.0     382\n",
       "1.0     952\n",
       "2.0     950\n",
       "3.0     928\n",
       "4.0     885\n",
       "5.0     927\n",
       "6.0     881\n",
       "7.0     925\n",
       "8.0     933\n",
       "9.0     882\n",
       "10.0    446\n",
       "Name: Exited, dtype: int64"
      ]
     },
     "execution_count": 10,
     "metadata": {},
     "output_type": "execute_result"
    }
   ],
   "source": [
    "df.groupby('Tenure')['Exited'].count()"
   ]
  },
  {
   "cell_type": "code",
   "execution_count": 11,
   "metadata": {},
   "outputs": [],
   "source": [
    "df['Tenure'] = df['Tenure'].fillna(0)"
   ]
  },
  {
   "cell_type": "code",
   "execution_count": 12,
   "metadata": {},
   "outputs": [
    {
     "name": "stdout",
     "output_type": "stream",
     "text": [
      "<class 'pandas.core.frame.DataFrame'>\n",
      "RangeIndex: 10000 entries, 0 to 9999\n",
      "Data columns (total 11 columns):\n",
      " #   Column           Non-Null Count  Dtype  \n",
      "---  ------           --------------  -----  \n",
      " 0   CreditScore      10000 non-null  int64  \n",
      " 1   Geography        10000 non-null  object \n",
      " 2   Gender           10000 non-null  object \n",
      " 3   Age              10000 non-null  int64  \n",
      " 4   Tenure           10000 non-null  float64\n",
      " 5   Balance          10000 non-null  float64\n",
      " 6   NumOfProducts    10000 non-null  int64  \n",
      " 7   HasCrCard        10000 non-null  int64  \n",
      " 8   IsActiveMember   10000 non-null  int64  \n",
      " 9   EstimatedSalary  10000 non-null  float64\n",
      " 10  Exited           10000 non-null  int64  \n",
      "dtypes: float64(3), int64(6), object(2)\n",
      "memory usage: 859.5+ KB\n"
     ]
    }
   ],
   "source": [
    "df.info()"
   ]
  },
  {
   "cell_type": "markdown",
   "metadata": {},
   "source": [
    "Для подготовки признаков применим OE"
   ]
  },
  {
   "cell_type": "code",
   "execution_count": 13,
   "metadata": {},
   "outputs": [],
   "source": [
    "#encoder = OrdinalEncoder()\n",
    "#df = pd.DataFrame(encoder.fit_transform(df), columns=df.columns)"
   ]
  },
  {
   "cell_type": "code",
   "execution_count": 14,
   "metadata": {},
   "outputs": [
    {
     "data": {
      "text/html": [
       "<div>\n",
       "<style scoped>\n",
       "    .dataframe tbody tr th:only-of-type {\n",
       "        vertical-align: middle;\n",
       "    }\n",
       "\n",
       "    .dataframe tbody tr th {\n",
       "        vertical-align: top;\n",
       "    }\n",
       "\n",
       "    .dataframe thead th {\n",
       "        text-align: right;\n",
       "    }\n",
       "</style>\n",
       "<table border=\"1\" class=\"dataframe\">\n",
       "  <thead>\n",
       "    <tr style=\"text-align: right;\">\n",
       "      <th></th>\n",
       "      <th>CreditScore</th>\n",
       "      <th>Geography</th>\n",
       "      <th>Gender</th>\n",
       "      <th>Age</th>\n",
       "      <th>Tenure</th>\n",
       "      <th>Balance</th>\n",
       "      <th>NumOfProducts</th>\n",
       "      <th>HasCrCard</th>\n",
       "      <th>IsActiveMember</th>\n",
       "      <th>EstimatedSalary</th>\n",
       "      <th>Exited</th>\n",
       "    </tr>\n",
       "  </thead>\n",
       "  <tbody>\n",
       "    <tr>\n",
       "      <th>0</th>\n",
       "      <td>619</td>\n",
       "      <td>France</td>\n",
       "      <td>Female</td>\n",
       "      <td>42</td>\n",
       "      <td>2.0</td>\n",
       "      <td>0.00</td>\n",
       "      <td>1</td>\n",
       "      <td>1</td>\n",
       "      <td>1</td>\n",
       "      <td>101348.88</td>\n",
       "      <td>1</td>\n",
       "    </tr>\n",
       "    <tr>\n",
       "      <th>1</th>\n",
       "      <td>608</td>\n",
       "      <td>Spain</td>\n",
       "      <td>Female</td>\n",
       "      <td>41</td>\n",
       "      <td>1.0</td>\n",
       "      <td>83807.86</td>\n",
       "      <td>1</td>\n",
       "      <td>0</td>\n",
       "      <td>1</td>\n",
       "      <td>112542.58</td>\n",
       "      <td>0</td>\n",
       "    </tr>\n",
       "    <tr>\n",
       "      <th>2</th>\n",
       "      <td>502</td>\n",
       "      <td>France</td>\n",
       "      <td>Female</td>\n",
       "      <td>42</td>\n",
       "      <td>8.0</td>\n",
       "      <td>159660.80</td>\n",
       "      <td>3</td>\n",
       "      <td>1</td>\n",
       "      <td>0</td>\n",
       "      <td>113931.57</td>\n",
       "      <td>1</td>\n",
       "    </tr>\n",
       "    <tr>\n",
       "      <th>3</th>\n",
       "      <td>699</td>\n",
       "      <td>France</td>\n",
       "      <td>Female</td>\n",
       "      <td>39</td>\n",
       "      <td>1.0</td>\n",
       "      <td>0.00</td>\n",
       "      <td>2</td>\n",
       "      <td>0</td>\n",
       "      <td>0</td>\n",
       "      <td>93826.63</td>\n",
       "      <td>0</td>\n",
       "    </tr>\n",
       "    <tr>\n",
       "      <th>4</th>\n",
       "      <td>850</td>\n",
       "      <td>Spain</td>\n",
       "      <td>Female</td>\n",
       "      <td>43</td>\n",
       "      <td>2.0</td>\n",
       "      <td>125510.82</td>\n",
       "      <td>1</td>\n",
       "      <td>1</td>\n",
       "      <td>1</td>\n",
       "      <td>79084.10</td>\n",
       "      <td>0</td>\n",
       "    </tr>\n",
       "    <tr>\n",
       "      <th>5</th>\n",
       "      <td>645</td>\n",
       "      <td>Spain</td>\n",
       "      <td>Male</td>\n",
       "      <td>44</td>\n",
       "      <td>8.0</td>\n",
       "      <td>113755.78</td>\n",
       "      <td>2</td>\n",
       "      <td>1</td>\n",
       "      <td>0</td>\n",
       "      <td>149756.71</td>\n",
       "      <td>1</td>\n",
       "    </tr>\n",
       "    <tr>\n",
       "      <th>6</th>\n",
       "      <td>822</td>\n",
       "      <td>France</td>\n",
       "      <td>Male</td>\n",
       "      <td>50</td>\n",
       "      <td>7.0</td>\n",
       "      <td>0.00</td>\n",
       "      <td>2</td>\n",
       "      <td>1</td>\n",
       "      <td>1</td>\n",
       "      <td>10062.80</td>\n",
       "      <td>0</td>\n",
       "    </tr>\n",
       "    <tr>\n",
       "      <th>7</th>\n",
       "      <td>376</td>\n",
       "      <td>Germany</td>\n",
       "      <td>Female</td>\n",
       "      <td>29</td>\n",
       "      <td>4.0</td>\n",
       "      <td>115046.74</td>\n",
       "      <td>4</td>\n",
       "      <td>1</td>\n",
       "      <td>0</td>\n",
       "      <td>119346.88</td>\n",
       "      <td>1</td>\n",
       "    </tr>\n",
       "    <tr>\n",
       "      <th>8</th>\n",
       "      <td>501</td>\n",
       "      <td>France</td>\n",
       "      <td>Male</td>\n",
       "      <td>44</td>\n",
       "      <td>4.0</td>\n",
       "      <td>142051.07</td>\n",
       "      <td>2</td>\n",
       "      <td>0</td>\n",
       "      <td>1</td>\n",
       "      <td>74940.50</td>\n",
       "      <td>0</td>\n",
       "    </tr>\n",
       "    <tr>\n",
       "      <th>9</th>\n",
       "      <td>684</td>\n",
       "      <td>France</td>\n",
       "      <td>Male</td>\n",
       "      <td>27</td>\n",
       "      <td>2.0</td>\n",
       "      <td>134603.88</td>\n",
       "      <td>1</td>\n",
       "      <td>1</td>\n",
       "      <td>1</td>\n",
       "      <td>71725.73</td>\n",
       "      <td>0</td>\n",
       "    </tr>\n",
       "  </tbody>\n",
       "</table>\n",
       "</div>"
      ],
      "text/plain": [
       "   CreditScore Geography  Gender  Age  Tenure    Balance  NumOfProducts  \\\n",
       "0          619    France  Female   42     2.0       0.00              1   \n",
       "1          608     Spain  Female   41     1.0   83807.86              1   \n",
       "2          502    France  Female   42     8.0  159660.80              3   \n",
       "3          699    France  Female   39     1.0       0.00              2   \n",
       "4          850     Spain  Female   43     2.0  125510.82              1   \n",
       "5          645     Spain    Male   44     8.0  113755.78              2   \n",
       "6          822    France    Male   50     7.0       0.00              2   \n",
       "7          376   Germany  Female   29     4.0  115046.74              4   \n",
       "8          501    France    Male   44     4.0  142051.07              2   \n",
       "9          684    France    Male   27     2.0  134603.88              1   \n",
       "\n",
       "   HasCrCard  IsActiveMember  EstimatedSalary  Exited  \n",
       "0          1               1        101348.88       1  \n",
       "1          0               1        112542.58       0  \n",
       "2          1               0        113931.57       1  \n",
       "3          0               0         93826.63       0  \n",
       "4          1               1         79084.10       0  \n",
       "5          1               0        149756.71       1  \n",
       "6          1               1         10062.80       0  \n",
       "7          1               0        119346.88       1  \n",
       "8          0               1         74940.50       0  \n",
       "9          1               1         71725.73       0  "
      ]
     },
     "execution_count": 14,
     "metadata": {},
     "output_type": "execute_result"
    }
   ],
   "source": [
    "df.head(10)"
   ]
  },
  {
   "cell_type": "code",
   "execution_count": 15,
   "metadata": {},
   "outputs": [],
   "source": [
    "features = df.drop(['Exited'], axis=1)\n",
    "target = df['Exited']"
   ]
  },
  {
   "cell_type": "code",
   "execution_count": 16,
   "metadata": {},
   "outputs": [],
   "source": [
    "features_train, features_valid1, target_train, target_valid1 = train_test_split(\n",
    "    features, target, test_size=0.4, random_state=12345)\n",
    "features_valid, features_test, target_valid, target_test = train_test_split(\n",
    "    features_valid1, target_valid1, test_size=0.5, random_state=12345)"
   ]
  },
  {
   "cell_type": "code",
   "execution_count": 17,
   "metadata": {},
   "outputs": [
    {
     "name": "stdout",
     "output_type": "stream",
     "text": [
      "Размер обучающей выборки 6000 60.0%\n",
      "Размер  валидационной выборки 2000 20.0%\n",
      "Размер тестовой выборки 2000 20.0%\n"
     ]
    }
   ],
   "source": [
    "print('Размер обучающей выборки', features_train.shape[0], f'{  features_train.shape[0]/df.shape[0]:.1%}')\n",
    "print('Размер  валидационной выборки', features_valid.shape[0], f'{  features_valid.shape[0]/df.shape[0]:.1%}')\n",
    "print('Размер тестовой выборки', features_test.shape[0], f'{  features_test.shape[0]/df.shape[0]:.1%}')"
   ]
  },
  {
   "cell_type": "markdown",
   "metadata": {},
   "source": [
    "применим кодирование OHE из sklearn."
   ]
  },
  {
   "cell_type": "code",
   "execution_count": 18,
   "metadata": {},
   "outputs": [],
   "source": [
    "var_categorical = ['Gender', 'Geography']"
   ]
  },
  {
   "cell_type": "code",
   "execution_count": 19,
   "metadata": {},
   "outputs": [],
   "source": [
    "#ohe_train = OneHotEncoder(handle_unknown='error',sparse=False)\n",
    "#ohe_train.set_params(drop= 'first')"
   ]
  },
  {
   "cell_type": "code",
   "execution_count": 20,
   "metadata": {},
   "outputs": [],
   "source": [
    "#features_train_ohe = ohe_train.fit_transform(features_train.loc[:,['Gender','Geography']])"
   ]
  },
  {
   "cell_type": "code",
   "execution_count": 21,
   "metadata": {},
   "outputs": [],
   "source": [
    "#ohe_train.get_feature_names()"
   ]
  },
  {
   "cell_type": "code",
   "execution_count": 22,
   "metadata": {},
   "outputs": [],
   "source": [
    "#features_train_temp = features_train.drop([var_categorical], axis=1).reset_index(drop=True)"
   ]
  },
  {
   "cell_type": "code",
   "execution_count": 23,
   "metadata": {},
   "outputs": [],
   "source": [
    "#array_temp_features_train_ohe = pd.DataFrame(features_train_ohe, columns =['Gender_Male',\n",
    "#        'Geography_Germany', 'Geography_Spain'])"
   ]
  },
  {
   "cell_type": "code",
   "execution_count": 24,
   "metadata": {},
   "outputs": [],
   "source": [
    "cat = pd.get_dummies(features_train[var_categorical], drop_first=True)\n",
    "features_train_ohe=pd.concat([features_train, cat], axis=1)"
   ]
  },
  {
   "cell_type": "code",
   "execution_count": 25,
   "metadata": {},
   "outputs": [],
   "source": [
    "cat2 = pd.get_dummies(features_valid[var_categorical], drop_first=True)\n",
    "features_valid_ohe=pd.concat([features_valid, cat2], axis=1)"
   ]
  },
  {
   "cell_type": "code",
   "execution_count": 26,
   "metadata": {},
   "outputs": [],
   "source": [
    "cat3 = pd.get_dummies(features_test[var_categorical], drop_first=True)\n",
    "features_test_ohe=pd.concat([features_test, cat3], axis=1)"
   ]
  },
  {
   "cell_type": "markdown",
   "metadata": {},
   "source": [
    "Большой разброс колличественных признаков требует применение масштабирования"
   ]
  },
  {
   "cell_type": "code",
   "execution_count": 27,
   "metadata": {},
   "outputs": [],
   "source": [
    "numeric = ['CreditScore', 'Age', 'Tenure', 'Balance', 'IsActiveMember', 'EstimatedSalary', 'NumOfProducts']\n",
    "scaler = StandardScaler()\n",
    "scaler.fit(features_train_ohe[numeric])\n",
    "features_train_ohe[numeric] = scaler.transform(features_train_ohe[numeric])\n",
    "features_valid_ohe[numeric] = scaler.transform(features_valid_ohe[numeric])\n",
    "features_test_ohe[numeric] = scaler.transform(features_test_ohe[numeric])"
   ]
  },
  {
   "cell_type": "code",
   "execution_count": 28,
   "metadata": {},
   "outputs": [
    {
     "data": {
      "text/html": [
       "<div>\n",
       "<style scoped>\n",
       "    .dataframe tbody tr th:only-of-type {\n",
       "        vertical-align: middle;\n",
       "    }\n",
       "\n",
       "    .dataframe tbody tr th {\n",
       "        vertical-align: top;\n",
       "    }\n",
       "\n",
       "    .dataframe thead th {\n",
       "        text-align: right;\n",
       "    }\n",
       "</style>\n",
       "<table border=\"1\" class=\"dataframe\">\n",
       "  <thead>\n",
       "    <tr style=\"text-align: right;\">\n",
       "      <th></th>\n",
       "      <th>CreditScore</th>\n",
       "      <th>Geography</th>\n",
       "      <th>Gender</th>\n",
       "      <th>Age</th>\n",
       "      <th>Tenure</th>\n",
       "      <th>Balance</th>\n",
       "      <th>NumOfProducts</th>\n",
       "      <th>HasCrCard</th>\n",
       "      <th>IsActiveMember</th>\n",
       "      <th>EstimatedSalary</th>\n",
       "      <th>Gender_Male</th>\n",
       "      <th>Geography_Germany</th>\n",
       "      <th>Geography_Spain</th>\n",
       "    </tr>\n",
       "  </thead>\n",
       "  <tbody>\n",
       "    <tr>\n",
       "      <th>7479</th>\n",
       "      <td>-0.886751</td>\n",
       "      <td>Spain</td>\n",
       "      <td>Male</td>\n",
       "      <td>-0.373192</td>\n",
       "      <td>1.104696</td>\n",
       "      <td>1.232271</td>\n",
       "      <td>-0.891560</td>\n",
       "      <td>1</td>\n",
       "      <td>-1.055187</td>\n",
       "      <td>-0.187705</td>\n",
       "      <td>1</td>\n",
       "      <td>0</td>\n",
       "      <td>1</td>\n",
       "    </tr>\n",
       "    <tr>\n",
       "      <th>3411</th>\n",
       "      <td>0.608663</td>\n",
       "      <td>France</td>\n",
       "      <td>Female</td>\n",
       "      <td>-0.183385</td>\n",
       "      <td>1.104696</td>\n",
       "      <td>0.600563</td>\n",
       "      <td>-0.891560</td>\n",
       "      <td>0</td>\n",
       "      <td>-1.055187</td>\n",
       "      <td>-0.333945</td>\n",
       "      <td>0</td>\n",
       "      <td>0</td>\n",
       "      <td>0</td>\n",
       "    </tr>\n",
       "    <tr>\n",
       "      <th>6027</th>\n",
       "      <td>2.052152</td>\n",
       "      <td>Germany</td>\n",
       "      <td>Male</td>\n",
       "      <td>0.480939</td>\n",
       "      <td>-0.503694</td>\n",
       "      <td>1.027098</td>\n",
       "      <td>0.830152</td>\n",
       "      <td>0</td>\n",
       "      <td>0.947699</td>\n",
       "      <td>1.503095</td>\n",
       "      <td>1</td>\n",
       "      <td>1</td>\n",
       "      <td>0</td>\n",
       "    </tr>\n",
       "    <tr>\n",
       "      <th>1247</th>\n",
       "      <td>-1.457915</td>\n",
       "      <td>France</td>\n",
       "      <td>Male</td>\n",
       "      <td>-1.417129</td>\n",
       "      <td>0.461340</td>\n",
       "      <td>-1.233163</td>\n",
       "      <td>0.830152</td>\n",
       "      <td>1</td>\n",
       "      <td>-1.055187</td>\n",
       "      <td>-1.071061</td>\n",
       "      <td>1</td>\n",
       "      <td>0</td>\n",
       "      <td>0</td>\n",
       "    </tr>\n",
       "    <tr>\n",
       "      <th>3716</th>\n",
       "      <td>0.130961</td>\n",
       "      <td>Germany</td>\n",
       "      <td>Female</td>\n",
       "      <td>-1.132419</td>\n",
       "      <td>-0.825373</td>\n",
       "      <td>1.140475</td>\n",
       "      <td>-0.891560</td>\n",
       "      <td>0</td>\n",
       "      <td>-1.055187</td>\n",
       "      <td>1.524268</td>\n",
       "      <td>0</td>\n",
       "      <td>1</td>\n",
       "      <td>0</td>\n",
       "    </tr>\n",
       "    <tr>\n",
       "      <th>8741</th>\n",
       "      <td>-0.315586</td>\n",
       "      <td>Spain</td>\n",
       "      <td>Female</td>\n",
       "      <td>-1.512032</td>\n",
       "      <td>1.104696</td>\n",
       "      <td>-1.233163</td>\n",
       "      <td>0.830152</td>\n",
       "      <td>1</td>\n",
       "      <td>0.947699</td>\n",
       "      <td>0.552345</td>\n",
       "      <td>0</td>\n",
       "      <td>0</td>\n",
       "      <td>1</td>\n",
       "    </tr>\n",
       "    <tr>\n",
       "      <th>7461</th>\n",
       "      <td>-0.585591</td>\n",
       "      <td>Spain</td>\n",
       "      <td>Male</td>\n",
       "      <td>-0.657902</td>\n",
       "      <td>-0.182016</td>\n",
       "      <td>-1.233163</td>\n",
       "      <td>0.830152</td>\n",
       "      <td>0</td>\n",
       "      <td>0.947699</td>\n",
       "      <td>0.814122</td>\n",
       "      <td>1</td>\n",
       "      <td>0</td>\n",
       "      <td>1</td>\n",
       "    </tr>\n",
       "    <tr>\n",
       "      <th>5106</th>\n",
       "      <td>-0.544052</td>\n",
       "      <td>France</td>\n",
       "      <td>Female</td>\n",
       "      <td>-0.657902</td>\n",
       "      <td>-1.147051</td>\n",
       "      <td>0.031212</td>\n",
       "      <td>-0.891560</td>\n",
       "      <td>1</td>\n",
       "      <td>-1.055187</td>\n",
       "      <td>-0.608723</td>\n",
       "      <td>0</td>\n",
       "      <td>0</td>\n",
       "      <td>0</td>\n",
       "    </tr>\n",
       "    <tr>\n",
       "      <th>6130</th>\n",
       "      <td>-0.211738</td>\n",
       "      <td>Germany</td>\n",
       "      <td>Female</td>\n",
       "      <td>-0.373192</td>\n",
       "      <td>-0.825373</td>\n",
       "      <td>1.190787</td>\n",
       "      <td>0.830152</td>\n",
       "      <td>0</td>\n",
       "      <td>-1.055187</td>\n",
       "      <td>-0.602263</td>\n",
       "      <td>0</td>\n",
       "      <td>1</td>\n",
       "      <td>0</td>\n",
       "    </tr>\n",
       "    <tr>\n",
       "      <th>4955</th>\n",
       "      <td>1.273291</td>\n",
       "      <td>Germany</td>\n",
       "      <td>Male</td>\n",
       "      <td>-0.562998</td>\n",
       "      <td>-1.468729</td>\n",
       "      <td>0.111168</td>\n",
       "      <td>0.830152</td>\n",
       "      <td>1</td>\n",
       "      <td>-1.055187</td>\n",
       "      <td>0.508214</td>\n",
       "      <td>1</td>\n",
       "      <td>1</td>\n",
       "      <td>0</td>\n",
       "    </tr>\n",
       "  </tbody>\n",
       "</table>\n",
       "</div>"
      ],
      "text/plain": [
       "      CreditScore Geography  Gender       Age    Tenure   Balance  \\\n",
       "7479    -0.886751     Spain    Male -0.373192  1.104696  1.232271   \n",
       "3411     0.608663    France  Female -0.183385  1.104696  0.600563   \n",
       "6027     2.052152   Germany    Male  0.480939 -0.503694  1.027098   \n",
       "1247    -1.457915    France    Male -1.417129  0.461340 -1.233163   \n",
       "3716     0.130961   Germany  Female -1.132419 -0.825373  1.140475   \n",
       "8741    -0.315586     Spain  Female -1.512032  1.104696 -1.233163   \n",
       "7461    -0.585591     Spain    Male -0.657902 -0.182016 -1.233163   \n",
       "5106    -0.544052    France  Female -0.657902 -1.147051  0.031212   \n",
       "6130    -0.211738   Germany  Female -0.373192 -0.825373  1.190787   \n",
       "4955     1.273291   Germany    Male -0.562998 -1.468729  0.111168   \n",
       "\n",
       "      NumOfProducts  HasCrCard  IsActiveMember  EstimatedSalary  Gender_Male  \\\n",
       "7479      -0.891560          1       -1.055187        -0.187705            1   \n",
       "3411      -0.891560          0       -1.055187        -0.333945            0   \n",
       "6027       0.830152          0        0.947699         1.503095            1   \n",
       "1247       0.830152          1       -1.055187        -1.071061            1   \n",
       "3716      -0.891560          0       -1.055187         1.524268            0   \n",
       "8741       0.830152          1        0.947699         0.552345            0   \n",
       "7461       0.830152          0        0.947699         0.814122            1   \n",
       "5106      -0.891560          1       -1.055187        -0.608723            0   \n",
       "6130       0.830152          0       -1.055187        -0.602263            0   \n",
       "4955       0.830152          1       -1.055187         0.508214            1   \n",
       "\n",
       "      Geography_Germany  Geography_Spain  \n",
       "7479                  0                1  \n",
       "3411                  0                0  \n",
       "6027                  1                0  \n",
       "1247                  0                0  \n",
       "3716                  1                0  \n",
       "8741                  0                1  \n",
       "7461                  0                1  \n",
       "5106                  0                0  \n",
       "6130                  1                0  \n",
       "4955                  1                0  "
      ]
     },
     "execution_count": 28,
     "metadata": {},
     "output_type": "execute_result"
    }
   ],
   "source": [
    "features_train_ohe.head(10)"
   ]
  },
  {
   "cell_type": "code",
   "execution_count": 29,
   "metadata": {},
   "outputs": [],
   "source": [
    "features_train_ohe = features_train_ohe.drop(columns = var_categorical)\n",
    "features_valid_ohe = features_valid_ohe.drop(columns = var_categorical)\n",
    "features_test_ohe = features_test_ohe.drop(columns = var_categorical)"
   ]
  },
  {
   "cell_type": "markdown",
   "metadata": {},
   "source": [
    "Разделим датафрейм на выборки"
   ]
  },
  {
   "cell_type": "code",
   "execution_count": 30,
   "metadata": {},
   "outputs": [],
   "source": [
    "#features = df.drop(['Exited'], axis=1)\n",
    "#target = df['Exited']"
   ]
  },
  {
   "cell_type": "code",
   "execution_count": 31,
   "metadata": {},
   "outputs": [],
   "source": [
    "#features_train, features_valid1, target_train, target_valid1 = train_test_split(\n",
    "#    features, target, test_size=0.4, random_state=12345)\n",
    "#features_valid, features_test, target_valid, target_test = train_test_split(\n",
    "#    features_valid1, target_valid1, test_size=0.5, random_state=12345)"
   ]
  },
  {
   "cell_type": "code",
   "execution_count": 32,
   "metadata": {},
   "outputs": [],
   "source": [
    "#print('Размер обучающей выборки', features_train.shape[0], f'{  features_train.shape[0]/df.shape[0]:.1%}')\n",
    "#print('Размер  валидационной выборки', features_valid.shape[0], f'{  features_valid.shape[0]/df.shape[0]:.1%}')\n",
    "#print('Размер тестовой выборки', features_test.shape[0], f'{  features_test.shape[0]/df.shape[0]:.1%}')"
   ]
  },
  {
   "cell_type": "markdown",
   "metadata": {},
   "source": [
    "на данном этапе:\\\n",
    "Удалили столбцы, которые не влияют на потерю клиента(фамилию, номер идентификатора)\\\n",
    "Пропуски в столбце с временем сотрудничества заменили на 0, считая пропуски за новых клиентов.\\\n",
    "обнаружили преобладание в целевом признаке значений \"0\", в 4 раза.\\\n",
    "применили кодирование и масштабирование к признакам\n",
    "    \n",
    "    "
   ]
  },
  {
   "cell_type": "markdown",
   "metadata": {},
   "source": [
    "## Исследование задачи"
   ]
  },
  {
   "cell_type": "markdown",
   "metadata": {},
   "source": [
    "Посторим различные модели прогноза, сравнивая метрику F1"
   ]
  },
  {
   "cell_type": "markdown",
   "metadata": {},
   "source": [
    "### Дерево решений"
   ]
  },
  {
   "cell_type": "code",
   "execution_count": 33,
   "metadata": {},
   "outputs": [
    {
     "name": "stdout",
     "output_type": "stream",
     "text": [
      "max_depth = 1 : 0.0 0.6925565119556736\n",
      "max_depth = 2 : 0.5217391304347825 0.7501814673449512\n",
      "max_depth = 3 : 0.4234875444839857 0.7973440741838507\n",
      "max_depth = 4 : 0.5528700906344411 0.813428129858032\n",
      "max_depth = 5 : 0.5406249999999999 0.8221680508592478\n",
      "max_depth = 6 : 0.5696969696969697 0.8164631712023421\n",
      "max_depth = 7 : 0.5446153846153846 0.8166264918127983\n",
      "max_depth = 8 : 0.5440729483282676 0.8097072931725936\n",
      "max_depth = 9 : 0.5746164574616458 0.7894116828676679\n",
      "max_depth = 10 : 0.5413744740532961 0.7758220470726293\n",
      "max_depth = 11 : 0.5194109772423025 0.7307387535612966\n",
      "max_depth = 12 : 0.5145118733509234 0.7173895619983184\n",
      "max_depth = 13 : 0.5257731958762887 0.6992745842885573\n",
      "max_depth = 14 : 0.4852374839537869 0.6814030752666058\n"
     ]
    }
   ],
   "source": [
    "for i in range(1,15):\n",
    "    model = DecisionTreeClassifier(random_state=12345, max_depth = i)\n",
    "    model.fit(features_train_ohe, target_train)\n",
    "    predictions_valid = model.predict(features_valid_ohe)\n",
    "    probabilities_valid = model.predict_proba(features_valid_ohe)\n",
    "    probabilities_one_valid = probabilities_valid[:, 1]\n",
    "    auc_roc = roc_auc_score(target_valid, probabilities_one_valid)\n",
    "    print(\"max_depth =\", i, \": \", end='')\n",
    "    print(f1_score(target_valid, predictions_valid), auc_roc)"
   ]
  },
  {
   "cell_type": "markdown",
   "metadata": {},
   "source": [
    "Дерево решений без балансировки дало максимальное значение F1 0,55"
   ]
  },
  {
   "cell_type": "markdown",
   "metadata": {},
   "source": [
    "### Случайный лес"
   ]
  },
  {
   "cell_type": "code",
   "execution_count": 34,
   "metadata": {},
   "outputs": [
    {
     "name": "stdout",
     "output_type": "stream",
     "text": [
      "Метрики качества 0.5975975975975975 Количество деревьев: 150 Максимальная глубина: 14\n",
      "0.8433120210018207\n"
     ]
    }
   ],
   "source": [
    "best_est = 0\n",
    "best_depth = 0\n",
    "best_result = 0\n",
    "best_roc_auc = 0\n",
    "for est in range(10, 151, 10):\n",
    "    for depth in range (1, 15):\n",
    "        model = RandomForestClassifier(random_state=12345,\n",
    "                                       n_estimators=est, \n",
    "                                       max_depth=depth)\n",
    "        model.fit(features_train_ohe, target_train)\n",
    "        predictions_valid = model.predict(features_valid_ohe)\n",
    "        result = f1_score(target_valid, predictions_valid)\n",
    "        probabilities_valid = model.predict_proba(features_valid_ohe)\n",
    "        probabilities_one_valid = probabilities_valid[:, 1]\n",
    "        auc_roc = roc_auc_score(target_valid, probabilities_one_valid)\n",
    "        if result > best_result:\n",
    "            best_model = model\n",
    "            best_result = result\n",
    "            best_est = est\n",
    "            best_depth = depth\n",
    "            best_roc_auc = auc_roc\n",
    "print(\"Метрики качества\", best_result, \"Количество деревьев:\", best_est, \"Максимальная глубина:\", best_depth)\n",
    "print(best_roc_auc)"
   ]
  },
  {
   "cell_type": "markdown",
   "metadata": {},
   "source": [
    "Случайный лес без балансировки дал максимальное значение F1 0,597, (параметры: Количество деревьев: 150 Максимальная глубина: 14) "
   ]
  },
  {
   "cell_type": "markdown",
   "metadata": {},
   "source": [
    "### Логистическая регрессия"
   ]
  },
  {
   "cell_type": "code",
   "execution_count": 35,
   "metadata": {},
   "outputs": [
    {
     "name": "stdout",
     "output_type": "stream",
     "text": [
      "0.33670033670033667\n",
      "0.7585728198210733\n"
     ]
    }
   ],
   "source": [
    "model = LogisticRegression(random_state=12345, solver='liblinear') \n",
    "model.fit(features_train_ohe, target_train) \n",
    "predictions_valid = model.predict(features_valid_ohe)\n",
    "probabilities_valid = model.predict_proba(features_valid_ohe)\n",
    "probabilities_one_valid = probabilities_valid[:, 1]\n",
    "auc_roc = roc_auc_score(target_valid, probabilities_one_valid)\n",
    "print(f1_score(target_valid, predictions_valid))\n",
    "print(auc_roc)"
   ]
  },
  {
   "cell_type": "markdown",
   "metadata": {},
   "source": [
    "Логистическая регрессия без балансировки дало значение F1 0,33."
   ]
  },
  {
   "cell_type": "markdown",
   "metadata": {},
   "source": [
    "### Общий вывод:"
   ]
  },
  {
   "cell_type": "markdown",
   "metadata": {},
   "source": [
    "Наилучшее значение показателя F1 у случайного леса (параметры: Количество деревьев: 150 Максимальная глубина: 14), но они не удовлетворительные, требуется балансировка. "
   ]
  },
  {
   "cell_type": "markdown",
   "metadata": {},
   "source": [
    "## Борьба с дисбалансом"
   ]
  },
  {
   "cell_type": "markdown",
   "metadata": {},
   "source": [
    "### Модели со взвешанным классом"
   ]
  },
  {
   "cell_type": "code",
   "execution_count": 36,
   "metadata": {},
   "outputs": [
    {
     "name": "stdout",
     "output_type": "stream",
     "text": [
      "Метрики качества 0.6374589266155531 Количество деревьев: 30 Максимальная глубина: 8\n",
      "0.8530492562863312\n"
     ]
    }
   ],
   "source": [
    "best_est = 0\n",
    "best_depth = 0\n",
    "best_result = 0\n",
    "best_roc_auc = 0\n",
    "for est in range(10, 151, 10):\n",
    "    for depth in range (1, 15):\n",
    "        model = RandomForestClassifier(random_state=12345,\n",
    "                                       n_estimators=est, \n",
    "                                       max_depth=depth, class_weight ='balanced')\n",
    "        model.fit(features_train_ohe, target_train)\n",
    "        predictions_valid = model.predict(features_valid_ohe)\n",
    "        result = f1_score(target_valid, predictions_valid)\n",
    "        probabilities_valid = model.predict_proba(features_valid_ohe)\n",
    "        probabilities_one_valid = probabilities_valid[:, 1]\n",
    "        auc_roc = roc_auc_score(target_valid, probabilities_one_valid)\n",
    "        if result > best_result:\n",
    "            best_model = model\n",
    "            best_result = result\n",
    "            best_est = est\n",
    "            best_depth = depth\n",
    "            best_roc_auc = auc_roc\n",
    "print(\"Метрики качества\", best_result, \"Количество деревьев:\", best_est, \"Максимальная глубина:\", best_depth)\n",
    "print(best_roc_auc)"
   ]
  },
  {
   "cell_type": "code",
   "execution_count": 37,
   "metadata": {},
   "outputs": [
    {
     "name": "stdout",
     "output_type": "stream",
     "text": [
      "0.4888888888888888\n",
      "0.7634376568936421\n"
     ]
    }
   ],
   "source": [
    "model = LogisticRegression(random_state=12345, solver='liblinear', class_weight ='balanced') \n",
    "model.fit(features_train_ohe, target_train) \n",
    "predictions_valid = model.predict(features_valid_ohe)\n",
    "probabilities_valid = model.predict_proba(features_valid_ohe)\n",
    "probabilities_one_valid = probabilities_valid[:, 1]\n",
    "auc_roc = roc_auc_score(target_valid, probabilities_one_valid)\n",
    "print(f1_score(target_valid, predictions_valid))\n",
    "print(auc_roc)"
   ]
  },
  {
   "cell_type": "code",
   "execution_count": 38,
   "metadata": {},
   "outputs": [
    {
     "name": "stdout",
     "output_type": "stream",
     "text": [
      "max_depth = 1 : 0.4994903160040775 0.6925565119556736\n",
      "max_depth = 2 : 0.541015625 0.7501814673449512\n",
      "max_depth = 3 : 0.541015625 0.7980472601455368\n",
      "max_depth = 4 : 0.5277777777777778 0.8190853743368881\n",
      "max_depth = 5 : 0.5963791267305644 0.8310244134068074\n",
      "max_depth = 6 : 0.5581835383159887 0.7999473744699641\n",
      "max_depth = 7 : 0.5565565565565564 0.7941313460642758\n",
      "max_depth = 8 : 0.54296875 0.7789100163925502\n",
      "max_depth = 9 : 0.5320197044334976 0.7620275044005831\n",
      "max_depth = 10 : 0.5188770571151984 0.7491176150351744\n",
      "max_depth = 11 : 0.5281473899692939 0.7417878465270176\n",
      "max_depth = 12 : 0.5015416238437821 0.7192465778283199\n",
      "max_depth = 13 : 0.5065217391304349 0.7094450728591389\n",
      "max_depth = 14 : 0.48437500000000006 0.6883479817806786\n"
     ]
    }
   ],
   "source": [
    "for i in range(1,15):\n",
    "    model = DecisionTreeClassifier(random_state=12345, max_depth = i, class_weight ='balanced')\n",
    "    model.fit(features_train_ohe, target_train)\n",
    "    predictions_valid = model.predict(features_valid_ohe)\n",
    "    probabilities_valid = model.predict_proba(features_valid_ohe)\n",
    "    probabilities_one_valid = probabilities_valid[:, 1]\n",
    "    auc_roc = roc_auc_score(target_valid, probabilities_one_valid)\n",
    "    print(\"max_depth =\", i, \": \", end='')\n",
    "    print(f1_score(target_valid, predictions_valid), auc_roc)"
   ]
  },
  {
   "cell_type": "markdown",
   "metadata": {},
   "source": [
    "Наибольшее значение F1 у случайного леса (0.637)с параметрами = Количество деревьев: 30 Максимальная глубина: 8"
   ]
  },
  {
   "cell_type": "markdown",
   "metadata": {},
   "source": [
    "### Увеличение числа меньших классов"
   ]
  },
  {
   "cell_type": "code",
   "execution_count": 39,
   "metadata": {},
   "outputs": [],
   "source": [
    "def upsample(features, target, repeat):\n",
    "    features_zeros = features[target == 0]\n",
    "    features_ones = features[target == 1]\n",
    "    target_zeros = target[target == 0]\n",
    "    target_ones = target[target == 1]\n",
    "\n",
    "    features_upsampled = pd.concat([features_zeros] + [features_ones] * repeat)\n",
    "    target_upsampled = pd.concat([target_zeros] + [target_ones] * repeat)\n",
    "    \n",
    "    features_upsampled, target_upsampled = shuffle(\n",
    "        features_upsampled, target_upsampled, random_state=12345)\n",
    "    \n",
    "    return features_upsampled, target_upsampled"
   ]
  },
  {
   "cell_type": "code",
   "execution_count": 40,
   "metadata": {},
   "outputs": [],
   "source": [
    "features_upsampled, target_upsampled = upsample(features_train_ohe, target_train, 40)"
   ]
  },
  {
   "cell_type": "code",
   "execution_count": 41,
   "metadata": {},
   "outputs": [
    {
     "name": "stdout",
     "output_type": "stream",
     "text": [
      "Метрики качества 0.554954954954955 Количество деревьев: 110 Максимальная глубина: 14\n",
      "0.8266260986335511\n"
     ]
    }
   ],
   "source": [
    "best_est = 0\n",
    "best_depth = 0\n",
    "best_result = 0\n",
    "best_roc_auc = 0\n",
    "for est in range(10, 151, 10):\n",
    "    for depth in range (1, 15):\n",
    "        model = RandomForestClassifier(random_state=12345,\n",
    "                                       n_estimators=est, \n",
    "                                       max_depth=depth)\n",
    "        model.fit(features_upsampled, target_upsampled)\n",
    "        predictions_valid = model.predict(features_valid_ohe)\n",
    "        result = f1_score(target_valid, predictions_valid)\n",
    "        probabilities_valid = model.predict_proba(features_valid_ohe)\n",
    "        probabilities_one_valid = probabilities_valid[:, 1]\n",
    "        auc_roc = roc_auc_score(target_valid, probabilities_one_valid)\n",
    "        if result > best_result:\n",
    "            best_model = model\n",
    "            best_result = result\n",
    "            best_est = est\n",
    "            best_depth = depth\n",
    "            best_roc_auc = auc_roc\n",
    "print(\"Метрики качества\", best_result, \"Количество деревьев:\", best_est, \"Максимальная глубина:\", best_depth)\n",
    "print(best_roc_auc)"
   ]
  },
  {
   "cell_type": "code",
   "execution_count": 42,
   "metadata": {},
   "outputs": [
    {
     "name": "stdout",
     "output_type": "stream",
     "text": [
      "max_depth = 1 : 0.3457402812241522 0.6898254284141567\n",
      "max_depth = 2 : 0.3457402812241522 0.7345374699822766\n",
      "max_depth = 3 : 0.34876929495202336 0.7820350352953986\n",
      "max_depth = 4 : 0.39922103213242455 0.7984873184570437\n",
      "max_depth = 5 : 0.3902439024390244 0.8191246922616274\n",
      "max_depth = 6 : 0.406850025947068 0.8102615246886322\n",
      "max_depth = 7 : 0.40855614973262033 0.8065573225098144\n",
      "max_depth = 8 : 0.4236111111111111 0.795277614793218\n",
      "max_depth = 9 : 0.42951409718056394 0.7883070004052771\n",
      "max_depth = 10 : 0.4323308270676692 0.777175491020391\n",
      "max_depth = 11 : 0.43087248322147653 0.7526758872240941\n",
      "max_depth = 12 : 0.4334277620396601 0.7428607722040419\n",
      "max_depth = 13 : 0.44324324324324327 0.7261385563667819\n",
      "max_depth = 14 : 0.4486133768352366 0.7196722699750181\n"
     ]
    }
   ],
   "source": [
    "for i in range(1,15):\n",
    "    model = DecisionTreeClassifier(random_state=12345, max_depth = i)\n",
    "    model.fit(features_upsampled, target_upsampled)\n",
    "    predictions_valid = model.predict(features_valid_ohe)\n",
    "    probabilities_valid = model.predict_proba(features_valid_ohe)\n",
    "    probabilities_one_valid = probabilities_valid[:, 1]\n",
    "    auc_roc = roc_auc_score(target_valid, probabilities_one_valid)\n",
    "    print(\"max_depth =\", i, \": \", end='')\n",
    "    print(f1_score(target_valid, predictions_valid), auc_roc)"
   ]
  },
  {
   "cell_type": "code",
   "execution_count": 43,
   "metadata": {},
   "outputs": [
    {
     "name": "stdout",
     "output_type": "stream",
     "text": [
      "0.3522966708807417 0.765489750119466\n"
     ]
    }
   ],
   "source": [
    "model = LogisticRegression(random_state=12345, solver='liblinear') \n",
    "model.fit(features_upsampled, target_upsampled)\n",
    "predictions_valid = model.predict(features_valid_ohe)\n",
    "f1 = f1_score(target_valid, predictions_valid)\n",
    "probabilities_valid = model.predict_proba(features_valid_ohe)\n",
    "probabilities_one_valid = probabilities_valid[:, 1]\n",
    "auc_roc = roc_auc_score(target_valid, probabilities_one_valid)\n",
    "print(f1, auc_roc)"
   ]
  },
  {
   "cell_type": "markdown",
   "metadata": {},
   "source": [
    "При увеличении числа меньших классов наибольшее значение у случайного леса(0,55) но наблюдается ухудшение по всем моделям "
   ]
  },
  {
   "cell_type": "markdown",
   "metadata": {},
   "source": [
    "### Уменьшение числа больших классов"
   ]
  },
  {
   "cell_type": "code",
   "execution_count": 44,
   "metadata": {},
   "outputs": [],
   "source": [
    "def downsample(features, target, fraction):\n",
    "    features_zeros = features[target == 0]\n",
    "    features_ones = features[target == 1]\n",
    "    target_zeros = target[target == 0]\n",
    "    target_ones = target[target == 1]\n",
    "\n",
    "    features_downsampled = pd.concat(\n",
    "        [features_zeros.sample(frac=fraction, random_state=12345)] + [features_ones])\n",
    "    target_downsampled = pd.concat(\n",
    "        [target_zeros.sample(frac=fraction, random_state=12345)] + [target_ones])\n",
    "    \n",
    "    features_downsampled, target_downsampled = shuffle(\n",
    "        features_downsampled, target_downsampled, random_state=12345)\n",
    "    \n",
    "    return features_downsampled, target_downsampled"
   ]
  },
  {
   "cell_type": "code",
   "execution_count": 45,
   "metadata": {},
   "outputs": [],
   "source": [
    "features_downsampled, target_downsampled = downsample(features_train_ohe, target_train, 0.25)"
   ]
  },
  {
   "cell_type": "code",
   "execution_count": 46,
   "metadata": {},
   "outputs": [
    {
     "name": "stdout",
     "output_type": "stream",
     "text": [
      "Метрики качества 0.603448275862069 Количество деревьев: 140 Максимальная глубина: 8\n",
      "0.8520043068249867\n"
     ]
    }
   ],
   "source": [
    "best_est = 0\n",
    "best_depth = 0\n",
    "best_result = 0\n",
    "best_roc_auc = 0\n",
    "for est in range(10, 150, 10):\n",
    "    for depth in range (1, 15):\n",
    "        model = RandomForestClassifier(random_state=12345,\n",
    "                                       n_estimators=est, \n",
    "                                       max_depth=depth)\n",
    "        model.fit(features_downsampled, target_downsampled)\n",
    "        predictions_valid = model.predict(features_valid_ohe)\n",
    "        result = f1_score(target_valid, predictions_valid)\n",
    "        probabilities_valid = model.predict_proba(features_valid_ohe)\n",
    "        probabilities_one_valid = probabilities_valid[:, 1]\n",
    "        auc_roc = roc_auc_score(target_valid, probabilities_one_valid)\n",
    "        if result > best_result:\n",
    "            best_model = model\n",
    "            best_result = result\n",
    "            best_est = est\n",
    "            best_depth = depth\n",
    "            best_roc_auc = auc_roc\n",
    "print(\"Метрики качества\", best_result, \"Количество деревьев:\", best_est, \"Максимальная глубина:\", best_depth)\n",
    "print(best_roc_auc)"
   ]
  },
  {
   "cell_type": "code",
   "execution_count": 47,
   "metadata": {},
   "outputs": [
    {
     "name": "stdout",
     "output_type": "stream",
     "text": [
      "max_depth = 1 : 0.5061845861084681 0.7021894035168371\n",
      "max_depth = 2 : 0.5394495412844036 0.7578892928217568\n",
      "max_depth = 3 : 0.5555555555555556 0.8027820456208905\n",
      "max_depth = 4 : 0.5357737104825291 0.8180268148246723\n",
      "max_depth = 5 : 0.5953109072375127 0.8240212861195628\n",
      "max_depth = 6 : 0.5741265344664779 0.8164707323417152\n",
      "max_depth = 7 : 0.5282005371530886 0.7930085168673897\n",
      "max_depth = 8 : 0.5302325581395348 0.7766991392398938\n",
      "max_depth = 9 : 0.5380333951762523 0.7695296668864438\n",
      "max_depth = 10 : 0.5257249766136577 0.7573138901154738\n",
      "max_depth = 11 : 0.5094170403587445 0.736717346463504\n",
      "max_depth = 12 : 0.47795414462081126 0.6997660583478004\n",
      "max_depth = 13 : 0.4982876712328767 0.7064576666928787\n",
      "max_depth = 14 : 0.48726655348047543 0.7049446827043473\n"
     ]
    }
   ],
   "source": [
    "for i in range(1,15):\n",
    "    model = DecisionTreeClassifier(random_state=12345, max_depth = i)\n",
    "    model.fit(features_downsampled, target_downsampled)\n",
    "    predictions_valid = model.predict(features_valid_ohe)\n",
    "    probabilities_valid = model.predict_proba(features_valid_ohe)\n",
    "    probabilities_one_valid = probabilities_valid[:, 1]\n",
    "    auc_roc = roc_auc_score(target_valid, probabilities_one_valid)\n",
    "    print(\"max_depth =\", i, \": \", end='')\n",
    "    print(f1_score(target_valid, predictions_valid), auc_roc)"
   ]
  },
  {
   "cell_type": "code",
   "execution_count": 48,
   "metadata": {},
   "outputs": [
    {
     "name": "stdout",
     "output_type": "stream",
     "text": [
      "0.3522966708807417 0.7625272957131364\n"
     ]
    }
   ],
   "source": [
    "model = LogisticRegression(random_state=12345, solver='liblinear') \n",
    "model.fit(features_downsampled, target_downsampled)\n",
    "predictions_valid = model.predict(features_valid_ohe)\n",
    "f1_score(target_valid, predictions_valid)\n",
    "probabilities_valid = model.predict_proba(features_valid_ohe)\n",
    "probabilities_one_valid = probabilities_valid[:, 1]\n",
    "auc_roc = roc_auc_score(target_valid, probabilities_one_valid)\n",
    "print(f1, auc_roc)"
   ]
  },
  {
   "cell_type": "markdown",
   "metadata": {},
   "source": [
    "Наибольшее значение метрики F1 (0,634) у случайного леса без взвешивания классов с параметрами = Количество деревьев: 50 Максимальная глубина: 7 при уменьшении больших классов."
   ]
  },
  {
   "cell_type": "markdown",
   "metadata": {},
   "source": [
    "### Изменение порога"
   ]
  },
  {
   "cell_type": "code",
   "execution_count": 49,
   "metadata": {},
   "outputs": [],
   "source": [
    "#probabilities_valid = model.predict_proba(features_valid)\n",
    "#probabilities_one_valid = probabilities_valid[:, 1]\n",
    "#\n",
    "#for threshold in np.arange(0.3, 1, 0.02):\n",
    "#    predicted_valid = probabilities_one_valid > threshold\n",
    "#    F1 = f1_score(target_valid,predicted_valid)\n",
    "#    print(\"Порог = {:.2f} | F1 = {:.3f}\".format(\n",
    "#        threshold, F1))"
   ]
  },
  {
   "cell_type": "markdown",
   "metadata": {},
   "source": [
    "Наибольший результат у порога 0,5"
   ]
  },
  {
   "cell_type": "markdown",
   "metadata": {},
   "source": [
    "### Общий вывод:"
   ]
  },
  {
   "cell_type": "code",
   "execution_count": 50,
   "metadata": {},
   "outputs": [],
   "source": [
    "col = ['модель', 'F1', 'auc_roc']\n",
    "data = [\n",
    "    [\"дерево решений\", 0.57, 0.78],\n",
    "    [\"случайный лес\", 0.59, 0.84],\n",
    "    [\"регрессия\", 0.33, 0.75],\n",
    "    [\"дерево решений баланс\", 0.59, 0.83],\n",
    "    [\"случайный лес баланс\", 0.637, 0.85],\n",
    "    [\"регрессия баланс\", 0.48, 0.76],\n",
    "    [\"дерево решений увеличение\",  0.44, 0.72],\n",
    "    [\"случайный лес баланс увеличение\", 0.55, 0.82],\n",
    "    [\"регрессия баланс увеличение\", 0.35, 0.76],       \n",
    "    [\"дерево решений уменьшение\", 0.59, 0.82],\n",
    "    [\"случайный лес уменьшение\" , 0.60, 0.85],\n",
    "    [\"регрессия уменьшение\", 0.35, 0.76]        \n",
    "    ]\n",
    "tab = pd.DataFrame(data = data, columns = col)"
   ]
  },
  {
   "cell_type": "code",
   "execution_count": 51,
   "metadata": {},
   "outputs": [
    {
     "data": {
      "text/html": [
       "<div>\n",
       "<style scoped>\n",
       "    .dataframe tbody tr th:only-of-type {\n",
       "        vertical-align: middle;\n",
       "    }\n",
       "\n",
       "    .dataframe tbody tr th {\n",
       "        vertical-align: top;\n",
       "    }\n",
       "\n",
       "    .dataframe thead th {\n",
       "        text-align: right;\n",
       "    }\n",
       "</style>\n",
       "<table border=\"1\" class=\"dataframe\">\n",
       "  <thead>\n",
       "    <tr style=\"text-align: right;\">\n",
       "      <th></th>\n",
       "      <th>модель</th>\n",
       "      <th>F1</th>\n",
       "      <th>auc_roc</th>\n",
       "    </tr>\n",
       "  </thead>\n",
       "  <tbody>\n",
       "    <tr>\n",
       "      <th>0</th>\n",
       "      <td>дерево решений</td>\n",
       "      <td>0.570</td>\n",
       "      <td>0.78</td>\n",
       "    </tr>\n",
       "    <tr>\n",
       "      <th>1</th>\n",
       "      <td>случайный лес</td>\n",
       "      <td>0.590</td>\n",
       "      <td>0.84</td>\n",
       "    </tr>\n",
       "    <tr>\n",
       "      <th>2</th>\n",
       "      <td>регрессия</td>\n",
       "      <td>0.330</td>\n",
       "      <td>0.75</td>\n",
       "    </tr>\n",
       "    <tr>\n",
       "      <th>3</th>\n",
       "      <td>дерево решений баланс</td>\n",
       "      <td>0.590</td>\n",
       "      <td>0.83</td>\n",
       "    </tr>\n",
       "    <tr>\n",
       "      <th>4</th>\n",
       "      <td>случайный лес баланс</td>\n",
       "      <td>0.637</td>\n",
       "      <td>0.85</td>\n",
       "    </tr>\n",
       "    <tr>\n",
       "      <th>5</th>\n",
       "      <td>регрессия баланс</td>\n",
       "      <td>0.480</td>\n",
       "      <td>0.76</td>\n",
       "    </tr>\n",
       "    <tr>\n",
       "      <th>6</th>\n",
       "      <td>дерево решений увеличение</td>\n",
       "      <td>0.440</td>\n",
       "      <td>0.72</td>\n",
       "    </tr>\n",
       "    <tr>\n",
       "      <th>7</th>\n",
       "      <td>случайный лес баланс увеличение</td>\n",
       "      <td>0.550</td>\n",
       "      <td>0.82</td>\n",
       "    </tr>\n",
       "    <tr>\n",
       "      <th>8</th>\n",
       "      <td>регрессия баланс увеличение</td>\n",
       "      <td>0.350</td>\n",
       "      <td>0.76</td>\n",
       "    </tr>\n",
       "    <tr>\n",
       "      <th>9</th>\n",
       "      <td>дерево решений уменьшение</td>\n",
       "      <td>0.590</td>\n",
       "      <td>0.82</td>\n",
       "    </tr>\n",
       "    <tr>\n",
       "      <th>10</th>\n",
       "      <td>случайный лес уменьшение</td>\n",
       "      <td>0.600</td>\n",
       "      <td>0.85</td>\n",
       "    </tr>\n",
       "    <tr>\n",
       "      <th>11</th>\n",
       "      <td>регрессия уменьшение</td>\n",
       "      <td>0.350</td>\n",
       "      <td>0.76</td>\n",
       "    </tr>\n",
       "  </tbody>\n",
       "</table>\n",
       "</div>"
      ],
      "text/plain": [
       "                             модель     F1  auc_roc\n",
       "0                    дерево решений  0.570     0.78\n",
       "1                     случайный лес  0.590     0.84\n",
       "2                         регрессия  0.330     0.75\n",
       "3             дерево решений баланс  0.590     0.83\n",
       "4              случайный лес баланс  0.637     0.85\n",
       "5                  регрессия баланс  0.480     0.76\n",
       "6         дерево решений увеличение  0.440     0.72\n",
       "7   случайный лес баланс увеличение  0.550     0.82\n",
       "8       регрессия баланс увеличение  0.350     0.76\n",
       "9         дерево решений уменьшение  0.590     0.82\n",
       "10         случайный лес уменьшение  0.600     0.85\n",
       "11             регрессия уменьшение  0.350     0.76"
      ]
     },
     "execution_count": 51,
     "metadata": {},
     "output_type": "execute_result"
    }
   ],
   "source": [
    "tab"
   ]
  },
  {
   "cell_type": "markdown",
   "metadata": {},
   "source": [
    "Наибольшее значение метрики F1 (0,637) у случайного леса c взвешиванием классов с параметрами = Количество деревьев: 30 Максимальная глубина: 8"
   ]
  },
  {
   "cell_type": "code",
   "execution_count": 52,
   "metadata": {},
   "outputs": [
    {
     "name": "stdout",
     "output_type": "stream",
     "text": [
      "для лучшей модели F1 =  0.6374589266155531 auc_roc =  0.8530492562863312\n"
     ]
    }
   ],
   "source": [
    "model = RandomForestClassifier(random_state=12345,\n",
    "                                       n_estimators=30, \n",
    "                                       max_depth=8, class_weight ='balanced')\n",
    "model.fit(features_train_ohe, target_train)\n",
    "predictions_valid = model.predict(features_valid_ohe)\n",
    "F1 = f1_score(target_valid, predictions_valid)\n",
    "probabilities_valid = model.predict_proba(features_valid_ohe)\n",
    "probabilities_one_valid = probabilities_valid[:, 1]\n",
    "auc_roc = roc_auc_score(target_valid, probabilities_one_valid)\n",
    "print('для лучшей модели','F1 = ', F1, 'auc_roc = ',  auc_roc)\n"
   ]
  },
  {
   "cell_type": "markdown",
   "metadata": {},
   "source": [
    "## Тестирование модели"
   ]
  },
  {
   "cell_type": "code",
   "execution_count": 53,
   "metadata": {},
   "outputs": [
    {
     "name": "stdout",
     "output_type": "stream",
     "text": [
      "для лучшей модели на тестовой выборке F1 =  0.5971459934138309 auc_roc =  0.8459759156071842\n"
     ]
    }
   ],
   "source": [
    "predictions_test = model.predict(features_test_ohe)\n",
    "F1_t = f1_score(target_test, predictions_test)\n",
    "probabilities_test = model.predict_proba(features_test_ohe)\n",
    "probabilities_one_test = probabilities_test[:, 1]\n",
    "auc_roc_t = roc_auc_score(target_test, probabilities_one_test)\n",
    "print('для лучшей модели на тестовой выборке','F1 = ', F1_t, 'auc_roc = ',  auc_roc_t)"
   ]
  },
  {
   "cell_type": "markdown",
   "metadata": {},
   "source": [
    "## Общий вывод"
   ]
  },
  {
   "cell_type": "markdown",
   "metadata": {},
   "source": [
    "В ходе исследования была подобрана модель случайного леса с балансировкой классов с параметрами:Количество деревьев: 30 Максимальная глубина: 8"
   ]
  }
 ],
 "metadata": {
  "ExecuteTimeLog": [
   {
    "duration": 1523,
    "start_time": "2022-11-27T11:07:53.710Z"
   },
   {
    "duration": 172,
    "start_time": "2022-11-27T11:10:16.897Z"
   },
   {
    "duration": 13,
    "start_time": "2022-11-27T11:10:17.242Z"
   },
   {
    "duration": 19,
    "start_time": "2022-11-27T11:10:17.580Z"
   },
   {
    "duration": 14,
    "start_time": "2022-11-27T11:22:45.971Z"
   },
   {
    "duration": 108,
    "start_time": "2022-11-27T11:23:05.387Z"
   },
   {
    "duration": 4,
    "start_time": "2022-11-27T11:23:13.855Z"
   },
   {
    "duration": 46,
    "start_time": "2022-11-27T11:23:14.493Z"
   },
   {
    "duration": 15,
    "start_time": "2022-11-27T11:23:14.727Z"
   },
   {
    "duration": 20,
    "start_time": "2022-11-27T11:23:15.048Z"
   },
   {
    "duration": 16,
    "start_time": "2022-11-27T11:23:15.963Z"
   },
   {
    "duration": 5,
    "start_time": "2022-11-27T11:25:56.072Z"
   },
   {
    "duration": 17,
    "start_time": "2022-11-27T11:26:02.620Z"
   },
   {
    "duration": 3,
    "start_time": "2022-11-27T11:26:06.378Z"
   },
   {
    "duration": 39,
    "start_time": "2022-11-27T11:26:06.795Z"
   },
   {
    "duration": 13,
    "start_time": "2022-11-27T11:26:07.014Z"
   },
   {
    "duration": 14,
    "start_time": "2022-11-27T11:26:07.221Z"
   },
   {
    "duration": 4,
    "start_time": "2022-11-27T11:26:08.473Z"
   },
   {
    "duration": 4,
    "start_time": "2022-11-27T11:26:10.260Z"
   },
   {
    "duration": 17,
    "start_time": "2022-11-27T11:26:24.703Z"
   },
   {
    "duration": 19,
    "start_time": "2022-11-27T11:34:21.369Z"
   },
   {
    "duration": 5,
    "start_time": "2022-11-27T11:40:45.653Z"
   },
   {
    "duration": 6,
    "start_time": "2022-11-27T11:45:42.135Z"
   },
   {
    "duration": 7,
    "start_time": "2022-11-27T11:45:42.784Z"
   },
   {
    "duration": 12,
    "start_time": "2022-11-27T11:46:02.381Z"
   },
   {
    "duration": 4,
    "start_time": "2022-11-27T11:46:27.136Z"
   },
   {
    "duration": 41,
    "start_time": "2022-11-27T11:46:27.687Z"
   },
   {
    "duration": 16,
    "start_time": "2022-11-27T11:46:27.945Z"
   },
   {
    "duration": 24,
    "start_time": "2022-11-27T11:46:28.207Z"
   },
   {
    "duration": 5,
    "start_time": "2022-11-27T11:46:29.055Z"
   },
   {
    "duration": 4,
    "start_time": "2022-11-27T11:46:29.606Z"
   },
   {
    "duration": 17,
    "start_time": "2022-11-27T11:46:29.885Z"
   },
   {
    "duration": 5,
    "start_time": "2022-11-27T11:46:30.785Z"
   },
   {
    "duration": 23,
    "start_time": "2022-11-27T11:46:31.179Z"
   },
   {
    "duration": 11,
    "start_time": "2022-11-27T11:46:32.322Z"
   },
   {
    "duration": 16,
    "start_time": "2022-11-27T11:47:00.361Z"
   },
   {
    "duration": 18,
    "start_time": "2022-11-27T11:47:39.470Z"
   },
   {
    "duration": 5,
    "start_time": "2022-11-27T11:47:59.760Z"
   },
   {
    "duration": 45,
    "start_time": "2022-11-27T11:48:00.306Z"
   },
   {
    "duration": 15,
    "start_time": "2022-11-27T11:48:00.768Z"
   },
   {
    "duration": 17,
    "start_time": "2022-11-27T11:48:01.545Z"
   },
   {
    "duration": 5,
    "start_time": "2022-11-27T11:48:03.778Z"
   },
   {
    "duration": 5,
    "start_time": "2022-11-27T11:48:04.329Z"
   },
   {
    "duration": 11,
    "start_time": "2022-11-27T11:48:05.030Z"
   },
   {
    "duration": 13,
    "start_time": "2022-11-27T11:48:09.255Z"
   },
   {
    "duration": 4,
    "start_time": "2022-11-27T11:48:32.755Z"
   },
   {
    "duration": 40,
    "start_time": "2022-11-27T11:48:33.250Z"
   },
   {
    "duration": 12,
    "start_time": "2022-11-27T11:48:33.474Z"
   },
   {
    "duration": 17,
    "start_time": "2022-11-27T11:48:33.730Z"
   },
   {
    "duration": 5,
    "start_time": "2022-11-27T11:48:34.421Z"
   },
   {
    "duration": 4,
    "start_time": "2022-11-27T11:48:35.005Z"
   },
   {
    "duration": 14,
    "start_time": "2022-11-27T11:48:35.332Z"
   },
   {
    "duration": 14,
    "start_time": "2022-11-27T11:48:36.304Z"
   },
   {
    "duration": 12,
    "start_time": "2022-11-27T11:50:16.458Z"
   },
   {
    "duration": 3,
    "start_time": "2022-11-27T11:50:21.189Z"
   },
   {
    "duration": 39,
    "start_time": "2022-11-27T11:50:21.768Z"
   },
   {
    "duration": 12,
    "start_time": "2022-11-27T11:50:22.024Z"
   },
   {
    "duration": 17,
    "start_time": "2022-11-27T11:50:22.331Z"
   },
   {
    "duration": 5,
    "start_time": "2022-11-27T11:50:24.797Z"
   },
   {
    "duration": 6,
    "start_time": "2022-11-27T11:50:25.259Z"
   },
   {
    "duration": 15,
    "start_time": "2022-11-27T11:50:25.514Z"
   },
   {
    "duration": 10,
    "start_time": "2022-11-27T11:50:27.140Z"
   },
   {
    "duration": 4,
    "start_time": "2022-11-27T11:53:12.709Z"
   },
   {
    "duration": 39,
    "start_time": "2022-11-27T11:53:13.215Z"
   },
   {
    "duration": 11,
    "start_time": "2022-11-27T11:53:13.439Z"
   },
   {
    "duration": 16,
    "start_time": "2022-11-27T11:53:13.681Z"
   },
   {
    "duration": 4,
    "start_time": "2022-11-27T11:53:15.244Z"
   },
   {
    "duration": 4,
    "start_time": "2022-11-27T11:53:15.697Z"
   },
   {
    "duration": 15,
    "start_time": "2022-11-27T11:53:15.962Z"
   },
   {
    "duration": 22,
    "start_time": "2022-11-27T11:53:18.192Z"
   },
   {
    "duration": 18,
    "start_time": "2022-11-27T11:53:19.538Z"
   },
   {
    "duration": 3,
    "start_time": "2022-11-27T11:56:14.915Z"
   },
   {
    "duration": 13,
    "start_time": "2022-11-27T11:59:39.158Z"
   },
   {
    "duration": 19,
    "start_time": "2022-11-27T11:59:47.600Z"
   },
   {
    "duration": 13,
    "start_time": "2022-11-27T12:05:43.992Z"
   },
   {
    "duration": 9,
    "start_time": "2022-11-27T12:05:44.331Z"
   },
   {
    "duration": 4,
    "start_time": "2022-11-27T12:05:53.274Z"
   },
   {
    "duration": 8,
    "start_time": "2022-11-27T12:05:54.972Z"
   },
   {
    "duration": 5,
    "start_time": "2022-11-27T12:06:15.130Z"
   },
   {
    "duration": 3,
    "start_time": "2022-11-27T12:10:36.078Z"
   },
   {
    "duration": 70,
    "start_time": "2022-11-27T12:11:40.506Z"
   },
   {
    "duration": 24,
    "start_time": "2022-11-27T12:19:42.697Z"
   },
   {
    "duration": 4,
    "start_time": "2022-11-27T12:19:52.462Z"
   },
   {
    "duration": 290,
    "start_time": "2022-11-27T12:19:57.872Z"
   },
   {
    "duration": 3,
    "start_time": "2022-11-27T12:20:46.730Z"
   },
   {
    "duration": 290,
    "start_time": "2022-11-27T12:20:59.323Z"
   },
   {
    "duration": 9700,
    "start_time": "2022-11-27T12:22:15.534Z"
   },
   {
    "duration": 678,
    "start_time": "2022-11-27T12:23:25.775Z"
   },
   {
    "duration": 384,
    "start_time": "2022-11-27T15:09:32.739Z"
   },
   {
    "duration": 118,
    "start_time": "2022-11-27T15:09:52.306Z"
   },
   {
    "duration": 14,
    "start_time": "2022-11-27T15:11:43.781Z"
   },
   {
    "duration": 333,
    "start_time": "2022-11-27T15:12:03.131Z"
   },
   {
    "duration": 10729,
    "start_time": "2022-11-27T15:12:45.128Z"
   },
   {
    "duration": 326,
    "start_time": "2022-11-27T15:13:35.743Z"
   },
   {
    "duration": 9996,
    "start_time": "2022-11-27T15:14:35.133Z"
   },
   {
    "duration": 251,
    "start_time": "2022-11-27T15:14:56.844Z"
   },
   {
    "duration": 740,
    "start_time": "2022-11-27T15:15:11.115Z"
   },
   {
    "duration": 572,
    "start_time": "2022-11-27T15:15:21.987Z"
   },
   {
    "duration": 9820,
    "start_time": "2022-11-27T15:16:08.669Z"
   },
   {
    "duration": 336,
    "start_time": "2022-11-27T15:19:12.620Z"
   },
   {
    "duration": 400,
    "start_time": "2022-11-27T15:19:40.453Z"
   },
   {
    "duration": 436,
    "start_time": "2022-11-27T15:22:38.826Z"
   },
   {
    "duration": 308,
    "start_time": "2022-11-27T15:22:43.944Z"
   },
   {
    "duration": 54,
    "start_time": "2022-11-27T15:24:58.797Z"
   },
   {
    "duration": 29,
    "start_time": "2022-11-27T15:25:28.753Z"
   },
   {
    "duration": 4,
    "start_time": "2022-11-27T15:28:22.916Z"
   },
   {
    "duration": 18,
    "start_time": "2022-11-27T15:28:24.164Z"
   },
   {
    "duration": 4,
    "start_time": "2022-11-27T15:28:41.350Z"
   },
   {
    "duration": 12,
    "start_time": "2022-11-27T15:28:47.450Z"
   },
   {
    "duration": 234,
    "start_time": "2022-11-27T15:29:03.942Z"
   },
   {
    "duration": 464,
    "start_time": "2022-11-27T15:29:30.794Z"
   },
   {
    "duration": 12,
    "start_time": "2022-11-27T15:29:44.799Z"
   },
   {
    "duration": 384,
    "start_time": "2022-11-27T15:29:45.169Z"
   },
   {
    "duration": 20,
    "start_time": "2022-11-27T15:29:53.599Z"
   },
   {
    "duration": 886,
    "start_time": "2022-11-27T15:29:55.175Z"
   },
   {
    "duration": 10,
    "start_time": "2022-11-27T15:30:02.104Z"
   },
   {
    "duration": 313,
    "start_time": "2022-11-27T15:30:03.531Z"
   },
   {
    "duration": 9,
    "start_time": "2022-11-27T15:30:09.158Z"
   },
   {
    "duration": 436,
    "start_time": "2022-11-27T15:30:10.489Z"
   },
   {
    "duration": 9,
    "start_time": "2022-11-27T15:30:15.660Z"
   },
   {
    "duration": 391,
    "start_time": "2022-11-27T15:30:16.508Z"
   },
   {
    "duration": 8,
    "start_time": "2022-11-27T15:30:27.615Z"
   },
   {
    "duration": 387,
    "start_time": "2022-11-27T15:30:28.431Z"
   },
   {
    "duration": 10,
    "start_time": "2022-11-27T15:30:33.297Z"
   },
   {
    "duration": 439,
    "start_time": "2022-11-27T15:30:34.458Z"
   },
   {
    "duration": 8,
    "start_time": "2022-11-27T15:30:50.438Z"
   },
   {
    "duration": 263,
    "start_time": "2022-11-27T15:30:50.967Z"
   },
   {
    "duration": 8,
    "start_time": "2022-11-27T15:30:56.924Z"
   },
   {
    "duration": 344,
    "start_time": "2022-11-27T15:30:58.071Z"
   },
   {
    "duration": 7,
    "start_time": "2022-11-27T15:31:03.713Z"
   },
   {
    "duration": 317,
    "start_time": "2022-11-27T15:31:04.870Z"
   },
   {
    "duration": 8,
    "start_time": "2022-11-27T15:31:10.332Z"
   },
   {
    "duration": 354,
    "start_time": "2022-11-27T15:31:11.195Z"
   },
   {
    "duration": 8,
    "start_time": "2022-11-27T15:31:16.294Z"
   },
   {
    "duration": 384,
    "start_time": "2022-11-27T15:31:16.871Z"
   },
   {
    "duration": 9,
    "start_time": "2022-11-27T15:34:46.520Z"
   },
   {
    "duration": 4,
    "start_time": "2022-11-27T15:35:23.526Z"
   },
   {
    "duration": 8,
    "start_time": "2022-11-27T15:35:24.336Z"
   },
   {
    "duration": 128,
    "start_time": "2022-11-27T15:35:25.149Z"
   },
   {
    "duration": 8,
    "start_time": "2022-11-27T15:35:35.682Z"
   },
   {
    "duration": 135,
    "start_time": "2022-11-27T15:35:36.471Z"
   },
   {
    "duration": 8,
    "start_time": "2022-11-27T15:35:42.941Z"
   },
   {
    "duration": 146,
    "start_time": "2022-11-27T15:35:44.321Z"
   },
   {
    "duration": 8,
    "start_time": "2022-11-27T15:35:49.681Z"
   },
   {
    "duration": 177,
    "start_time": "2022-11-27T15:35:50.893Z"
   },
   {
    "duration": 9,
    "start_time": "2022-11-27T15:35:54.495Z"
   },
   {
    "duration": 8,
    "start_time": "2022-11-27T15:35:58.800Z"
   },
   {
    "duration": 168,
    "start_time": "2022-11-27T15:35:59.311Z"
   },
   {
    "duration": 11,
    "start_time": "2022-11-27T15:36:04.608Z"
   },
   {
    "duration": 180,
    "start_time": "2022-11-27T15:36:05.661Z"
   },
   {
    "duration": 8,
    "start_time": "2022-11-27T15:36:11.329Z"
   },
   {
    "duration": 196,
    "start_time": "2022-11-27T15:36:11.809Z"
   },
   {
    "duration": 10,
    "start_time": "2022-11-27T15:36:19.123Z"
   },
   {
    "duration": 207,
    "start_time": "2022-11-27T15:36:19.642Z"
   },
   {
    "duration": 8,
    "start_time": "2022-11-27T15:36:25.088Z"
   },
   {
    "duration": 221,
    "start_time": "2022-11-27T15:36:25.554Z"
   },
   {
    "duration": 9,
    "start_time": "2022-11-27T15:36:30.743Z"
   },
   {
    "duration": 264,
    "start_time": "2022-11-27T15:36:31.270Z"
   },
   {
    "duration": 17,
    "start_time": "2022-11-27T15:36:39.944Z"
   },
   {
    "duration": 9,
    "start_time": "2022-11-27T15:36:45.301Z"
   },
   {
    "duration": 8,
    "start_time": "2022-11-27T15:36:58.103Z"
   },
   {
    "duration": 169,
    "start_time": "2022-11-27T15:36:58.795Z"
   },
   {
    "duration": 10,
    "start_time": "2022-11-27T15:37:04.236Z"
   },
   {
    "duration": 154,
    "start_time": "2022-11-27T15:37:04.869Z"
   },
   {
    "duration": 9,
    "start_time": "2022-11-27T15:41:45.678Z"
   },
   {
    "duration": 43,
    "start_time": "2022-11-27T15:42:44.241Z"
   },
   {
    "duration": 28,
    "start_time": "2022-11-27T15:53:15.371Z"
   },
   {
    "duration": 4,
    "start_time": "2022-11-27T15:53:30.332Z"
   },
   {
    "duration": 57,
    "start_time": "2022-11-27T15:53:36.907Z"
   },
   {
    "duration": 85,
    "start_time": "2022-11-27T15:54:04.305Z"
   },
   {
    "duration": 30,
    "start_time": "2022-11-27T15:54:54.407Z"
   },
   {
    "duration": 104,
    "start_time": "2022-11-27T15:55:02.174Z"
   },
   {
    "duration": 81,
    "start_time": "2022-11-27T15:55:19.698Z"
   },
   {
    "duration": 156,
    "start_time": "2022-11-27T15:57:19.829Z"
   },
   {
    "duration": 497,
    "start_time": "2022-11-27T15:57:46.851Z"
   },
   {
    "duration": 373,
    "start_time": "2022-11-27T15:58:01.197Z"
   },
   {
    "duration": 94,
    "start_time": "2022-11-27T15:58:10.821Z"
   },
   {
    "duration": 92,
    "start_time": "2022-11-27T15:58:27.876Z"
   },
   {
    "duration": 370,
    "start_time": "2022-11-27T15:58:31.257Z"
   },
   {
    "duration": 4,
    "start_time": "2022-11-27T15:58:32.310Z"
   },
   {
    "duration": 8,
    "start_time": "2022-11-27T15:58:33.024Z"
   },
   {
    "duration": 92,
    "start_time": "2022-11-27T15:58:33.710Z"
   },
   {
    "duration": 5,
    "start_time": "2022-11-27T15:58:56.435Z"
   },
   {
    "duration": 38,
    "start_time": "2022-11-27T15:58:56.976Z"
   },
   {
    "duration": 12,
    "start_time": "2022-11-27T15:58:57.265Z"
   },
   {
    "duration": 16,
    "start_time": "2022-11-27T15:58:57.546Z"
   },
   {
    "duration": 4,
    "start_time": "2022-11-27T15:58:58.197Z"
   },
   {
    "duration": 4,
    "start_time": "2022-11-27T15:58:58.858Z"
   },
   {
    "duration": 12,
    "start_time": "2022-11-27T15:58:59.362Z"
   },
   {
    "duration": 21,
    "start_time": "2022-11-27T15:59:00.202Z"
   },
   {
    "duration": 18,
    "start_time": "2022-11-27T15:59:00.607Z"
   },
   {
    "duration": 14,
    "start_time": "2022-11-27T15:59:01.544Z"
   },
   {
    "duration": 21,
    "start_time": "2022-11-27T15:59:01.854Z"
   },
   {
    "duration": 5,
    "start_time": "2022-11-27T15:59:02.678Z"
   },
   {
    "duration": 7,
    "start_time": "2022-11-27T15:59:03.062Z"
   },
   {
    "duration": 5,
    "start_time": "2022-11-27T15:59:03.543Z"
   },
   {
    "duration": 325,
    "start_time": "2022-11-27T15:59:08.004Z"
   },
   {
    "duration": 10168,
    "start_time": "2022-11-27T15:59:31.025Z"
   },
   {
    "duration": 64,
    "start_time": "2022-11-27T15:59:41.195Z"
   },
   {
    "duration": 236,
    "start_time": "2022-11-27T15:59:50.613Z"
   },
   {
    "duration": 20,
    "start_time": "2022-11-27T15:59:51.824Z"
   },
   {
    "duration": 22,
    "start_time": "2022-11-27T16:00:01.952Z"
   },
   {
    "duration": 296,
    "start_time": "2022-11-27T16:00:02.939Z"
   },
   {
    "duration": 4,
    "start_time": "2022-11-27T16:00:22.020Z"
   },
   {
    "duration": 9,
    "start_time": "2022-11-27T16:00:23.538Z"
   },
   {
    "duration": 370,
    "start_time": "2022-11-27T16:00:24.812Z"
   },
   {
    "duration": 4,
    "start_time": "2022-11-27T16:00:26.077Z"
   },
   {
    "duration": 9,
    "start_time": "2022-11-27T16:00:27.139Z"
   },
   {
    "duration": 71,
    "start_time": "2022-11-27T16:00:28.031Z"
   },
   {
    "duration": 159,
    "start_time": "2022-11-27T16:00:41.550Z"
   },
   {
    "duration": 167,
    "start_time": "2022-11-27T16:00:50.221Z"
   },
   {
    "duration": 137,
    "start_time": "2022-11-27T16:01:01.778Z"
   },
   {
    "duration": 152,
    "start_time": "2022-11-27T16:01:08.209Z"
   },
   {
    "duration": 333,
    "start_time": "2022-11-27T16:01:25.310Z"
   },
   {
    "duration": 240,
    "start_time": "2022-11-27T16:01:31.214Z"
   },
   {
    "duration": 231,
    "start_time": "2022-11-27T16:01:43.237Z"
   },
   {
    "duration": 344,
    "start_time": "2022-11-27T16:01:49.980Z"
   },
   {
    "duration": 321,
    "start_time": "2022-11-27T16:02:17.478Z"
   },
   {
    "duration": 245,
    "start_time": "2022-11-27T16:02:24.732Z"
   },
   {
    "duration": 4,
    "start_time": "2022-11-27T16:03:20.679Z"
   },
   {
    "duration": 9,
    "start_time": "2022-11-27T16:03:21.063Z"
   },
   {
    "duration": 360,
    "start_time": "2022-11-27T16:03:21.684Z"
   },
   {
    "duration": 423,
    "start_time": "2022-11-27T16:03:36.871Z"
   },
   {
    "duration": 382,
    "start_time": "2022-11-27T16:03:44.223Z"
   },
   {
    "duration": 4,
    "start_time": "2022-11-27T16:03:55.230Z"
   },
   {
    "duration": 8,
    "start_time": "2022-11-27T16:03:55.973Z"
   },
   {
    "duration": 156,
    "start_time": "2022-11-27T16:03:56.280Z"
   },
   {
    "duration": 83,
    "start_time": "2022-11-27T16:04:00.453Z"
   },
   {
    "duration": 10035,
    "start_time": "2022-11-27T16:04:56.028Z"
   },
   {
    "duration": 10069,
    "start_time": "2022-11-27T16:05:26.020Z"
   },
   {
    "duration": 69,
    "start_time": "2022-11-27T16:05:36.090Z"
   },
   {
    "duration": 11255,
    "start_time": "2022-11-27T16:20:42.140Z"
   },
   {
    "duration": 9,
    "start_time": "2022-11-27T16:22:52.731Z"
   },
   {
    "duration": 365,
    "start_time": "2022-11-27T16:22:53.079Z"
   },
   {
    "duration": 10,
    "start_time": "2022-11-27T16:22:59.576Z"
   },
   {
    "duration": 352,
    "start_time": "2022-11-27T16:23:01.172Z"
   },
   {
    "duration": 503,
    "start_time": "2022-11-27T16:23:19.971Z"
   },
   {
    "duration": 9,
    "start_time": "2022-11-27T16:23:26.428Z"
   },
   {
    "duration": 714,
    "start_time": "2022-11-27T16:23:27.251Z"
   },
   {
    "duration": 825,
    "start_time": "2022-11-27T16:23:44.222Z"
   },
   {
    "duration": 556,
    "start_time": "2022-11-27T16:23:50.452Z"
   },
   {
    "duration": 719,
    "start_time": "2022-11-27T16:24:02.485Z"
   },
   {
    "duration": 31,
    "start_time": "2022-11-27T16:26:05.731Z"
   },
   {
    "duration": 36,
    "start_time": "2022-11-27T16:26:11.690Z"
   },
   {
    "duration": 45,
    "start_time": "2022-11-27T16:26:16.619Z"
   },
   {
    "duration": 45,
    "start_time": "2022-11-27T16:26:22.645Z"
   },
   {
    "duration": 28,
    "start_time": "2022-11-27T16:26:59.386Z"
   },
   {
    "duration": 28,
    "start_time": "2022-11-27T16:27:25.970Z"
   },
   {
    "duration": 138,
    "start_time": "2022-11-27T16:27:49.021Z"
   },
   {
    "duration": 704,
    "start_time": "2022-11-27T16:28:19.732Z"
   },
   {
    "duration": 46,
    "start_time": "2022-11-27T16:28:29.153Z"
   },
   {
    "duration": 51,
    "start_time": "2022-11-27T16:28:36.421Z"
   },
   {
    "duration": 172,
    "start_time": "2022-11-27T16:32:57.675Z"
   },
   {
    "duration": 16,
    "start_time": "2022-11-27T16:32:58.787Z"
   },
   {
    "duration": 20,
    "start_time": "2022-11-27T16:33:00.383Z"
   },
   {
    "duration": 170,
    "start_time": "2022-11-27T16:33:10.720Z"
   },
   {
    "duration": 206,
    "start_time": "2022-11-27T16:33:17.234Z"
   },
   {
    "duration": 192,
    "start_time": "2022-11-27T16:33:34.841Z"
   },
   {
    "duration": 16,
    "start_time": "2022-11-27T16:33:36.727Z"
   },
   {
    "duration": 17,
    "start_time": "2022-11-27T16:33:46.837Z"
   },
   {
    "duration": 16,
    "start_time": "2022-11-27T16:33:51.285Z"
   },
   {
    "duration": 20,
    "start_time": "2022-11-27T16:33:59.081Z"
   },
   {
    "duration": 16,
    "start_time": "2022-11-27T16:34:07.670Z"
   },
   {
    "duration": 188,
    "start_time": "2022-11-27T16:40:33.099Z"
   },
   {
    "duration": 26,
    "start_time": "2022-11-27T16:41:37.687Z"
   },
   {
    "duration": 27,
    "start_time": "2022-11-27T16:42:05.824Z"
   },
   {
    "duration": 161,
    "start_time": "2022-11-27T16:43:02.926Z"
   },
   {
    "duration": 154,
    "start_time": "2022-11-27T16:43:10.223Z"
   },
   {
    "duration": 199,
    "start_time": "2022-11-27T16:43:15.529Z"
   },
   {
    "duration": 159,
    "start_time": "2022-11-27T16:43:21.948Z"
   },
   {
    "duration": 500,
    "start_time": "2022-11-27T16:46:29.224Z"
   },
   {
    "duration": 265,
    "start_time": "2022-11-27T16:47:17.676Z"
   },
   {
    "duration": 267,
    "start_time": "2022-11-27T16:47:32.037Z"
   },
   {
    "duration": 202,
    "start_time": "2022-11-27T16:47:46.142Z"
   },
   {
    "duration": 200,
    "start_time": "2022-11-27T16:47:57.479Z"
   },
   {
    "duration": 6818,
    "start_time": "2022-11-27T16:49:54.528Z"
   },
   {
    "duration": 7100,
    "start_time": "2022-11-27T16:50:20.991Z"
   },
   {
    "duration": 7228,
    "start_time": "2022-11-27T16:51:11.486Z"
   },
   {
    "duration": 7724,
    "start_time": "2022-11-27T16:51:43.549Z"
   },
   {
    "duration": 171,
    "start_time": "2022-11-27T16:53:24.675Z"
   },
   {
    "duration": 14,
    "start_time": "2022-11-27T16:53:51.259Z"
   },
   {
    "duration": 150,
    "start_time": "2022-11-27T16:53:51.792Z"
   },
   {
    "duration": 9,
    "start_time": "2022-11-27T16:54:01.243Z"
   },
   {
    "duration": 158,
    "start_time": "2022-11-27T16:54:02.233Z"
   },
   {
    "duration": 13,
    "start_time": "2022-11-27T16:54:07.939Z"
   },
   {
    "duration": 213,
    "start_time": "2022-11-27T16:54:08.478Z"
   },
   {
    "duration": 8,
    "start_time": "2022-11-27T16:54:14.513Z"
   },
   {
    "duration": 196,
    "start_time": "2022-11-27T16:54:15.080Z"
   },
   {
    "duration": 8,
    "start_time": "2022-11-27T16:54:23.010Z"
   },
   {
    "duration": 158,
    "start_time": "2022-11-27T16:54:23.488Z"
   },
   {
    "duration": 9,
    "start_time": "2022-11-27T16:54:29.283Z"
   },
   {
    "duration": 156,
    "start_time": "2022-11-27T16:54:30.733Z"
   },
   {
    "duration": 6965,
    "start_time": "2022-11-27T16:54:39.291Z"
   },
   {
    "duration": 164,
    "start_time": "2022-11-27T16:55:02.369Z"
   },
   {
    "duration": 129,
    "start_time": "2022-11-27T16:55:09.392Z"
   },
   {
    "duration": 11,
    "start_time": "2022-11-27T16:55:29.090Z"
   },
   {
    "duration": 247,
    "start_time": "2022-11-27T16:55:29.696Z"
   },
   {
    "duration": 183,
    "start_time": "2022-11-27T16:55:38.252Z"
   },
   {
    "duration": 8613,
    "start_time": "2022-11-27T16:55:42.244Z"
   },
   {
    "duration": 166,
    "start_time": "2022-11-27T16:56:06.368Z"
   },
   {
    "duration": 259,
    "start_time": "2022-11-27T16:56:12.093Z"
   },
   {
    "duration": 259,
    "start_time": "2022-11-27T16:56:25.048Z"
   },
   {
    "duration": 8,
    "start_time": "2022-11-27T16:56:40.107Z"
   },
   {
    "duration": 147,
    "start_time": "2022-11-27T16:56:40.483Z"
   },
   {
    "duration": 193,
    "start_time": "2022-11-27T16:57:37.687Z"
   },
   {
    "duration": 370,
    "start_time": "2022-11-27T16:58:08.060Z"
   },
   {
    "duration": 8,
    "start_time": "2022-11-27T16:59:14.486Z"
   },
   {
    "duration": 157,
    "start_time": "2022-11-27T16:59:15.128Z"
   },
   {
    "duration": 15,
    "start_time": "2022-11-27T16:59:16.269Z"
   },
   {
    "duration": 20,
    "start_time": "2022-11-27T16:59:16.822Z"
   },
   {
    "duration": 9,
    "start_time": "2022-11-27T16:59:22.632Z"
   },
   {
    "duration": 167,
    "start_time": "2022-11-27T16:59:22.928Z"
   },
   {
    "duration": 14,
    "start_time": "2022-11-27T16:59:23.927Z"
   },
   {
    "duration": 21,
    "start_time": "2022-11-27T16:59:24.422Z"
   },
   {
    "duration": 9,
    "start_time": "2022-11-27T16:59:30.885Z"
   },
   {
    "duration": 161,
    "start_time": "2022-11-27T16:59:31.176Z"
   },
   {
    "duration": 16,
    "start_time": "2022-11-27T16:59:34.202Z"
   },
   {
    "duration": 51,
    "start_time": "2022-11-27T16:59:38.819Z"
   },
   {
    "duration": 6757,
    "start_time": "2022-11-27T16:59:44.906Z"
   },
   {
    "duration": 240,
    "start_time": "2022-11-27T17:00:04.545Z"
   },
   {
    "duration": 362,
    "start_time": "2022-11-27T17:00:18.678Z"
   },
   {
    "duration": 158,
    "start_time": "2022-11-27T17:00:30.382Z"
   },
   {
    "duration": 280,
    "start_time": "2022-11-27T17:00:57.033Z"
   },
   {
    "duration": 162,
    "start_time": "2022-11-27T17:01:09.905Z"
   },
   {
    "duration": 169,
    "start_time": "2022-11-27T17:01:24.679Z"
   },
   {
    "duration": 156,
    "start_time": "2022-11-27T17:01:31.829Z"
   },
   {
    "duration": 175,
    "start_time": "2022-11-27T17:01:37.232Z"
   },
   {
    "duration": 12086,
    "start_time": "2022-11-27T17:01:48.018Z"
   },
   {
    "duration": 27692,
    "start_time": "2022-11-27T17:02:08.244Z"
   },
   {
    "duration": 11931,
    "start_time": "2022-11-27T17:02:54.882Z"
   },
   {
    "duration": 2635,
    "start_time": "2022-11-27T17:03:18.968Z"
   },
   {
    "duration": 23998,
    "start_time": "2022-11-27T17:03:29.188Z"
   },
   {
    "duration": 6650,
    "start_time": "2022-11-27T17:04:29.930Z"
   },
   {
    "duration": 117,
    "start_time": "2022-11-27T17:04:57.846Z"
   },
   {
    "duration": 110,
    "start_time": "2022-11-27T17:05:00.782Z"
   },
   {
    "duration": 164,
    "start_time": "2022-11-27T17:05:18.663Z"
   },
   {
    "duration": 20238,
    "start_time": "2022-11-27T17:06:05.458Z"
   },
   {
    "duration": 7273,
    "start_time": "2022-11-27T17:07:27.050Z"
   },
   {
    "duration": 18,
    "start_time": "2022-11-27T17:16:33.748Z"
   },
   {
    "duration": 18,
    "start_time": "2022-11-27T17:17:31.494Z"
   },
   {
    "duration": 17,
    "start_time": "2022-11-27T17:19:00.743Z"
   },
   {
    "duration": 4,
    "start_time": "2022-11-27T17:19:17.628Z"
   },
   {
    "duration": 39,
    "start_time": "2022-11-27T17:19:18.896Z"
   },
   {
    "duration": 18,
    "start_time": "2022-11-27T17:19:19.443Z"
   },
   {
    "duration": 17,
    "start_time": "2022-11-27T17:19:20.483Z"
   },
   {
    "duration": 24,
    "start_time": "2022-11-27T17:19:22.266Z"
   },
   {
    "duration": 5,
    "start_time": "2022-11-27T17:19:33.345Z"
   },
   {
    "duration": 4,
    "start_time": "2022-11-27T17:19:34.333Z"
   },
   {
    "duration": 11,
    "start_time": "2022-11-27T17:19:34.637Z"
   },
   {
    "duration": 22,
    "start_time": "2022-11-27T17:19:35.372Z"
   },
   {
    "duration": 17,
    "start_time": "2022-11-27T17:19:35.618Z"
   },
   {
    "duration": 11,
    "start_time": "2022-11-27T17:19:36.413Z"
   },
   {
    "duration": 15,
    "start_time": "2022-11-27T17:19:36.672Z"
   },
   {
    "duration": 5,
    "start_time": "2022-11-27T17:19:37.284Z"
   },
   {
    "duration": 7,
    "start_time": "2022-11-27T17:19:37.542Z"
   },
   {
    "duration": 4,
    "start_time": "2022-11-27T17:19:37.817Z"
   },
   {
    "duration": 335,
    "start_time": "2022-11-27T17:19:39.025Z"
   },
   {
    "duration": 11363,
    "start_time": "2022-11-27T17:19:48.312Z"
   },
   {
    "duration": 25,
    "start_time": "2022-11-27T17:20:12.584Z"
   },
   {
    "duration": 11339,
    "start_time": "2022-11-27T17:20:18.400Z"
   },
   {
    "duration": 26,
    "start_time": "2022-11-27T17:20:40.932Z"
   },
   {
    "duration": 351,
    "start_time": "2022-11-27T17:20:41.402Z"
   },
   {
    "duration": 4,
    "start_time": "2022-11-27T17:20:45.846Z"
   },
   {
    "duration": 9,
    "start_time": "2022-11-27T17:20:47.241Z"
   },
   {
    "duration": 509,
    "start_time": "2022-11-27T17:20:48.177Z"
   },
   {
    "duration": 34,
    "start_time": "2022-11-27T17:20:48.894Z"
   },
   {
    "duration": 504,
    "start_time": "2022-11-27T17:21:20.634Z"
   },
   {
    "duration": 28,
    "start_time": "2022-11-27T17:21:22.074Z"
   },
   {
    "duration": 116,
    "start_time": "2022-11-27T17:21:23.538Z"
   },
   {
    "duration": 4,
    "start_time": "2022-11-27T17:21:25.404Z"
   },
   {
    "duration": 7,
    "start_time": "2022-11-27T17:21:26.583Z"
   },
   {
    "duration": 167,
    "start_time": "2022-11-27T17:21:46.699Z"
   },
   {
    "duration": 215,
    "start_time": "2022-11-27T17:21:54.130Z"
   },
   {
    "duration": 215,
    "start_time": "2022-11-27T17:21:58.933Z"
   },
   {
    "duration": 207,
    "start_time": "2022-11-27T17:22:03.327Z"
   },
   {
    "duration": 177,
    "start_time": "2022-11-27T17:22:10.533Z"
   },
   {
    "duration": 190,
    "start_time": "2022-11-27T17:22:16.213Z"
   },
   {
    "duration": 162,
    "start_time": "2022-11-27T17:22:21.004Z"
   },
   {
    "duration": 167,
    "start_time": "2022-11-27T17:22:25.042Z"
   },
   {
    "duration": 15,
    "start_time": "2022-11-27T17:22:27.926Z"
   },
   {
    "duration": 15,
    "start_time": "2022-11-27T17:22:29.017Z"
   },
   {
    "duration": 189,
    "start_time": "2022-11-27T17:22:33.417Z"
   },
   {
    "duration": 6646,
    "start_time": "2022-11-27T17:22:51.061Z"
   },
   {
    "duration": 162,
    "start_time": "2022-11-27T17:23:21.238Z"
   },
   {
    "duration": 155,
    "start_time": "2022-11-27T17:23:34.819Z"
   },
   {
    "duration": 139,
    "start_time": "2022-11-27T17:23:40.693Z"
   },
   {
    "duration": 5,
    "start_time": "2022-11-27T17:31:51.548Z"
   },
   {
    "duration": 29,
    "start_time": "2022-11-27T17:32:42.540Z"
   },
   {
    "duration": 1652,
    "start_time": "2022-11-28T05:56:04.875Z"
   },
   {
    "duration": 81,
    "start_time": "2022-11-28T05:56:06.530Z"
   },
   {
    "duration": 16,
    "start_time": "2022-11-28T05:56:06.613Z"
   },
   {
    "duration": 22,
    "start_time": "2022-11-28T05:56:06.631Z"
   },
   {
    "duration": 25,
    "start_time": "2022-11-28T05:56:06.656Z"
   },
   {
    "duration": 13,
    "start_time": "2022-11-28T05:56:06.683Z"
   },
   {
    "duration": 6,
    "start_time": "2022-11-28T05:56:06.697Z"
   },
   {
    "duration": 7,
    "start_time": "2022-11-28T05:56:06.704Z"
   },
   {
    "duration": 14,
    "start_time": "2022-11-28T05:56:06.713Z"
   },
   {
    "duration": 26,
    "start_time": "2022-11-28T05:56:06.756Z"
   },
   {
    "duration": 17,
    "start_time": "2022-11-28T05:56:06.784Z"
   },
   {
    "duration": 16,
    "start_time": "2022-11-28T05:56:06.803Z"
   },
   {
    "duration": 39,
    "start_time": "2022-11-28T05:56:06.820Z"
   },
   {
    "duration": 23,
    "start_time": "2022-11-28T05:56:06.864Z"
   },
   {
    "duration": 14,
    "start_time": "2022-11-28T05:56:06.889Z"
   },
   {
    "duration": 8,
    "start_time": "2022-11-28T05:56:06.905Z"
   },
   {
    "duration": 357,
    "start_time": "2022-11-28T05:56:06.915Z"
   },
   {
    "duration": 11949,
    "start_time": "2022-11-28T05:56:07.274Z"
   },
   {
    "duration": 51,
    "start_time": "2022-11-28T05:56:19.225Z"
   },
   {
    "duration": 11991,
    "start_time": "2022-11-28T05:56:19.355Z"
   },
   {
    "duration": 28,
    "start_time": "2022-11-28T05:56:31.348Z"
   },
   {
    "duration": 506,
    "start_time": "2022-11-28T05:56:31.379Z"
   },
   {
    "duration": 4,
    "start_time": "2022-11-28T05:56:31.886Z"
   },
   {
    "duration": 19,
    "start_time": "2022-11-28T05:56:31.892Z"
   },
   {
    "duration": 536,
    "start_time": "2022-11-28T05:56:31.913Z"
   },
   {
    "duration": 34,
    "start_time": "2022-11-28T05:56:32.451Z"
   },
   {
    "duration": 69,
    "start_time": "2022-11-28T05:56:32.487Z"
   },
   {
    "duration": 91,
    "start_time": "2022-11-28T05:56:32.564Z"
   },
   {
    "duration": 23,
    "start_time": "2022-11-28T05:56:32.658Z"
   },
   {
    "duration": 163,
    "start_time": "2022-11-28T05:56:32.683Z"
   },
   {
    "duration": 24,
    "start_time": "2022-11-28T05:56:32.848Z"
   },
   {
    "duration": 85,
    "start_time": "2022-11-28T05:56:32.874Z"
   },
   {
    "duration": 333,
    "start_time": "2022-11-28T05:56:32.970Z"
   },
   {
    "duration": 7068,
    "start_time": "2022-11-28T05:56:33.305Z"
   },
   {
    "duration": 160,
    "start_time": "2022-11-28T05:56:40.375Z"
   },
   {
    "duration": 162,
    "start_time": "2022-11-28T05:56:40.536Z"
   },
   {
    "duration": 1384,
    "start_time": "2022-11-28T09:23:21.983Z"
   },
   {
    "duration": 41,
    "start_time": "2022-11-28T09:23:23.369Z"
   },
   {
    "duration": 14,
    "start_time": "2022-11-28T09:23:23.412Z"
   },
   {
    "duration": 23,
    "start_time": "2022-11-28T09:23:23.427Z"
   },
   {
    "duration": 23,
    "start_time": "2022-11-28T09:23:23.453Z"
   },
   {
    "duration": 12,
    "start_time": "2022-11-28T09:23:23.478Z"
   },
   {
    "duration": 5,
    "start_time": "2022-11-28T09:23:23.492Z"
   },
   {
    "duration": 18,
    "start_time": "2022-11-28T09:23:23.499Z"
   },
   {
    "duration": 14,
    "start_time": "2022-11-28T09:23:23.519Z"
   },
   {
    "duration": 38,
    "start_time": "2022-11-28T09:23:23.535Z"
   },
   {
    "duration": 18,
    "start_time": "2022-11-28T09:23:23.575Z"
   },
   {
    "duration": 15,
    "start_time": "2022-11-28T09:23:23.595Z"
   },
   {
    "duration": 20,
    "start_time": "2022-11-28T09:23:23.612Z"
   },
   {
    "duration": 4,
    "start_time": "2022-11-28T09:23:23.657Z"
   },
   {
    "duration": 18,
    "start_time": "2022-11-28T09:23:23.663Z"
   },
   {
    "duration": 9,
    "start_time": "2022-11-28T09:23:23.683Z"
   },
   {
    "duration": 349,
    "start_time": "2022-11-28T09:23:23.695Z"
   },
   {
    "duration": 12121,
    "start_time": "2022-11-28T09:23:24.046Z"
   },
   {
    "duration": 86,
    "start_time": "2022-11-28T09:23:36.169Z"
   },
   {
    "duration": 12200,
    "start_time": "2022-11-28T09:23:36.257Z"
   },
   {
    "duration": 100,
    "start_time": "2022-11-28T09:23:48.458Z"
   },
   {
    "duration": 428,
    "start_time": "2022-11-28T09:23:48.563Z"
   },
   {
    "duration": 5,
    "start_time": "2022-11-28T09:23:48.993Z"
   },
   {
    "duration": 28,
    "start_time": "2022-11-28T09:23:49.000Z"
   },
   {
    "duration": 539,
    "start_time": "2022-11-28T09:23:49.030Z"
   },
   {
    "duration": 32,
    "start_time": "2022-11-28T09:23:49.570Z"
   },
   {
    "duration": 161,
    "start_time": "2022-11-28T09:23:49.604Z"
   },
   {
    "duration": 7,
    "start_time": "2022-11-28T09:23:49.767Z"
   },
   {
    "duration": 88,
    "start_time": "2022-11-28T09:23:49.776Z"
   },
   {
    "duration": 165,
    "start_time": "2022-11-28T09:23:49.866Z"
   },
   {
    "duration": 23,
    "start_time": "2022-11-28T09:23:50.033Z"
   },
   {
    "duration": 100,
    "start_time": "2022-11-28T09:23:50.057Z"
   },
   {
    "duration": 357,
    "start_time": "2022-11-28T09:23:50.159Z"
   },
   {
    "duration": 7170,
    "start_time": "2022-11-28T09:23:50.518Z"
   },
   {
    "duration": 171,
    "start_time": "2022-11-28T09:23:57.690Z"
   },
   {
    "duration": 165,
    "start_time": "2022-11-28T09:23:57.863Z"
   },
   {
    "duration": 1676,
    "start_time": "2022-11-30T05:29:40.880Z"
   },
   {
    "duration": 163,
    "start_time": "2022-11-30T05:29:42.558Z"
   },
   {
    "duration": 13,
    "start_time": "2022-11-30T05:29:42.723Z"
   },
   {
    "duration": 20,
    "start_time": "2022-11-30T05:29:43.796Z"
   },
   {
    "duration": 18,
    "start_time": "2022-11-30T05:29:45.592Z"
   },
   {
    "duration": 142,
    "start_time": "2022-11-30T05:35:37.332Z"
   },
   {
    "duration": 12,
    "start_time": "2022-11-30T05:35:47.626Z"
   },
   {
    "duration": 9,
    "start_time": "2022-11-30T05:35:53.426Z"
   },
   {
    "duration": 9,
    "start_time": "2022-11-30T05:36:12.899Z"
   },
   {
    "duration": 18,
    "start_time": "2022-11-30T05:39:57.838Z"
   },
   {
    "duration": 10,
    "start_time": "2022-11-30T05:49:31.163Z"
   },
   {
    "duration": 5,
    "start_time": "2022-11-30T05:51:04.723Z"
   },
   {
    "duration": 2,
    "start_time": "2022-11-30T05:51:38.864Z"
   },
   {
    "duration": 7,
    "start_time": "2022-11-30T05:52:01.324Z"
   },
   {
    "duration": 2,
    "start_time": "2022-11-30T05:52:56.738Z"
   },
   {
    "duration": 4,
    "start_time": "2022-11-30T05:53:03.573Z"
   },
   {
    "duration": 5,
    "start_time": "2022-11-30T05:57:07.461Z"
   },
   {
    "duration": 4,
    "start_time": "2022-11-30T05:57:17.183Z"
   },
   {
    "duration": 7,
    "start_time": "2022-11-30T05:58:55.597Z"
   },
   {
    "duration": 4,
    "start_time": "2022-11-30T06:00:47.903Z"
   },
   {
    "duration": 3,
    "start_time": "2022-11-30T06:05:51.079Z"
   },
   {
    "duration": 11,
    "start_time": "2022-11-30T06:05:52.836Z"
   },
   {
    "duration": 11,
    "start_time": "2022-11-30T06:06:15.132Z"
   },
   {
    "duration": 71,
    "start_time": "2022-11-30T06:06:18.116Z"
   },
   {
    "duration": 2,
    "start_time": "2022-11-30T06:06:29.861Z"
   },
   {
    "duration": 12,
    "start_time": "2022-11-30T06:06:32.804Z"
   },
   {
    "duration": 4,
    "start_time": "2022-11-30T06:09:35.865Z"
   },
   {
    "duration": 9,
    "start_time": "2022-11-30T06:09:36.605Z"
   },
   {
    "duration": 5,
    "start_time": "2022-11-30T06:09:38.666Z"
   },
   {
    "duration": 90,
    "start_time": "2022-11-30T06:25:39.356Z"
   },
   {
    "duration": 11,
    "start_time": "2022-11-30T06:25:56.669Z"
   },
   {
    "duration": 4,
    "start_time": "2022-11-30T06:27:04.999Z"
   },
   {
    "duration": 9,
    "start_time": "2022-11-30T06:27:10.813Z"
   },
   {
    "duration": 3,
    "start_time": "2022-11-30T06:28:30.814Z"
   },
   {
    "duration": 568,
    "start_time": "2022-11-30T06:28:31.366Z"
   },
   {
    "duration": 569,
    "start_time": "2022-11-30T06:29:00.631Z"
   },
   {
    "duration": 2,
    "start_time": "2022-11-30T06:30:38.917Z"
   },
   {
    "duration": 12,
    "start_time": "2022-11-30T06:30:40.232Z"
   },
   {
    "duration": 2,
    "start_time": "2022-11-30T06:30:52.729Z"
   },
   {
    "duration": 15,
    "start_time": "2022-11-30T06:30:53.581Z"
   },
   {
    "duration": 15,
    "start_time": "2022-11-30T06:31:45.434Z"
   },
   {
    "duration": 12,
    "start_time": "2022-11-30T06:40:20.468Z"
   },
   {
    "duration": 83,
    "start_time": "2022-11-30T06:40:47.965Z"
   },
   {
    "duration": 12,
    "start_time": "2022-11-30T06:40:56.421Z"
   },
   {
    "duration": 11,
    "start_time": "2022-11-30T06:41:21.213Z"
   },
   {
    "duration": 11,
    "start_time": "2022-11-30T06:41:28.029Z"
   },
   {
    "duration": 8,
    "start_time": "2022-11-30T06:42:31.134Z"
   },
   {
    "duration": 11,
    "start_time": "2022-11-30T06:42:44.622Z"
   },
   {
    "duration": 75,
    "start_time": "2022-11-30T06:45:28.274Z"
   },
   {
    "duration": 95,
    "start_time": "2022-11-30T06:45:33.536Z"
   },
   {
    "duration": 12,
    "start_time": "2022-11-30T06:45:38.502Z"
   },
   {
    "duration": 14,
    "start_time": "2022-11-30T06:46:18.527Z"
   },
   {
    "duration": 14,
    "start_time": "2022-11-30T06:46:30.995Z"
   },
   {
    "duration": 79,
    "start_time": "2022-11-30T06:48:33.737Z"
   },
   {
    "duration": 16,
    "start_time": "2022-11-30T06:48:43.230Z"
   },
   {
    "duration": 13,
    "start_time": "2022-11-30T06:49:00.813Z"
   },
   {
    "duration": 3,
    "start_time": "2022-11-30T06:51:07.393Z"
   },
   {
    "duration": 8,
    "start_time": "2022-11-30T06:51:54.728Z"
   },
   {
    "duration": 8,
    "start_time": "2022-11-30T06:52:13.185Z"
   },
   {
    "duration": 8,
    "start_time": "2022-11-30T06:52:54.940Z"
   },
   {
    "duration": 2,
    "start_time": "2022-11-30T07:01:24.060Z"
   },
   {
    "duration": 15,
    "start_time": "2022-11-30T07:02:16.237Z"
   },
   {
    "duration": 13,
    "start_time": "2022-11-30T07:03:01.791Z"
   },
   {
    "duration": 8,
    "start_time": "2022-11-30T07:03:17.998Z"
   },
   {
    "duration": 8,
    "start_time": "2022-11-30T07:03:43.359Z"
   },
   {
    "duration": 23,
    "start_time": "2022-11-30T07:08:23.380Z"
   },
   {
    "duration": 8,
    "start_time": "2022-11-30T07:09:56.149Z"
   },
   {
    "duration": 10,
    "start_time": "2022-11-30T07:10:04.254Z"
   },
   {
    "duration": 11,
    "start_time": "2022-11-30T07:10:42.807Z"
   },
   {
    "duration": 9,
    "start_time": "2022-11-30T07:11:58.424Z"
   },
   {
    "duration": 8,
    "start_time": "2022-11-30T07:12:59.449Z"
   },
   {
    "duration": 9,
    "start_time": "2022-11-30T07:13:04.898Z"
   },
   {
    "duration": 8,
    "start_time": "2022-11-30T07:13:36.395Z"
   },
   {
    "duration": 10,
    "start_time": "2022-11-30T07:13:46.801Z"
   },
   {
    "duration": 11,
    "start_time": "2022-11-30T07:13:56.290Z"
   },
   {
    "duration": 10,
    "start_time": "2022-11-30T07:14:27.771Z"
   },
   {
    "duration": 10,
    "start_time": "2022-11-30T07:14:39.027Z"
   },
   {
    "duration": 3,
    "start_time": "2022-11-30T07:17:07.174Z"
   },
   {
    "duration": 2,
    "start_time": "2022-11-30T07:17:19.175Z"
   },
   {
    "duration": 3,
    "start_time": "2022-11-30T07:17:20.787Z"
   },
   {
    "duration": 5,
    "start_time": "2022-11-30T07:17:37.838Z"
   },
   {
    "duration": 10,
    "start_time": "2022-11-30T07:18:06.256Z"
   },
   {
    "duration": 4,
    "start_time": "2022-11-30T07:18:46.791Z"
   },
   {
    "duration": 8,
    "start_time": "2022-11-30T07:18:52.417Z"
   },
   {
    "duration": 8,
    "start_time": "2022-11-30T07:19:15.617Z"
   },
   {
    "duration": 4,
    "start_time": "2022-11-30T07:19:31.149Z"
   },
   {
    "duration": 6,
    "start_time": "2022-11-30T07:20:01.509Z"
   },
   {
    "duration": 3,
    "start_time": "2022-11-30T07:20:42.484Z"
   },
   {
    "duration": 9,
    "start_time": "2022-11-30T07:22:57.620Z"
   },
   {
    "duration": 20,
    "start_time": "2022-11-30T07:23:04.931Z"
   },
   {
    "duration": 8,
    "start_time": "2022-11-30T07:23:49.749Z"
   },
   {
    "duration": 5,
    "start_time": "2022-11-30T07:25:08.512Z"
   },
   {
    "duration": 11,
    "start_time": "2022-11-30T07:28:46.675Z"
   },
   {
    "duration": 10,
    "start_time": "2022-11-30T07:35:45.114Z"
   },
   {
    "duration": 8,
    "start_time": "2022-11-30T07:35:45.545Z"
   },
   {
    "duration": 13,
    "start_time": "2022-11-30T07:35:45.881Z"
   },
   {
    "duration": 27,
    "start_time": "2022-11-30T07:37:06.174Z"
   },
   {
    "duration": 17,
    "start_time": "2022-11-30T07:38:22.719Z"
   },
   {
    "duration": 24,
    "start_time": "2022-11-30T12:05:29.201Z"
   },
   {
    "duration": 8,
    "start_time": "2022-11-30T12:06:06.859Z"
   },
   {
    "duration": 22,
    "start_time": "2022-11-30T12:06:07.501Z"
   },
   {
    "duration": 3,
    "start_time": "2022-11-30T12:06:55.791Z"
   },
   {
    "duration": 3,
    "start_time": "2022-11-30T12:06:56.111Z"
   },
   {
    "duration": 2,
    "start_time": "2022-11-30T12:06:56.415Z"
   },
   {
    "duration": 3,
    "start_time": "2022-11-30T12:06:56.746Z"
   },
   {
    "duration": 2,
    "start_time": "2022-11-30T12:06:57.026Z"
   },
   {
    "duration": 2,
    "start_time": "2022-11-30T12:06:57.467Z"
   },
   {
    "duration": 11,
    "start_time": "2022-11-30T12:06:57.841Z"
   },
   {
    "duration": 10,
    "start_time": "2022-11-30T12:06:58.817Z"
   },
   {
    "duration": 9,
    "start_time": "2022-11-30T12:06:59.241Z"
   },
   {
    "duration": 1555,
    "start_time": "2022-11-30T15:25:44.465Z"
   },
   {
    "duration": 104,
    "start_time": "2022-11-30T15:25:46.022Z"
   },
   {
    "duration": 13,
    "start_time": "2022-11-30T15:25:46.127Z"
   },
   {
    "duration": 19,
    "start_time": "2022-11-30T15:25:46.850Z"
   },
   {
    "duration": 19,
    "start_time": "2022-11-30T15:25:47.902Z"
   },
   {
    "duration": 7,
    "start_time": "2022-11-30T15:26:12.236Z"
   },
   {
    "duration": 2,
    "start_time": "2022-11-30T15:26:13.584Z"
   },
   {
    "duration": 4,
    "start_time": "2022-11-30T15:26:15.001Z"
   },
   {
    "duration": 6,
    "start_time": "2022-11-30T15:26:28.880Z"
   },
   {
    "duration": 8,
    "start_time": "2022-11-30T15:26:33.080Z"
   },
   {
    "duration": 3,
    "start_time": "2022-11-30T15:26:51.698Z"
   },
   {
    "duration": 11,
    "start_time": "2022-11-30T15:26:55.957Z"
   },
   {
    "duration": 3,
    "start_time": "2022-11-30T15:27:03.930Z"
   },
   {
    "duration": 11,
    "start_time": "2022-11-30T15:27:09.628Z"
   },
   {
    "duration": 5,
    "start_time": "2022-11-30T15:27:44.919Z"
   },
   {
    "duration": 8,
    "start_time": "2022-11-30T15:27:45.334Z"
   },
   {
    "duration": 4,
    "start_time": "2022-11-30T15:27:46.166Z"
   },
   {
    "duration": 3,
    "start_time": "2022-11-30T15:27:48.980Z"
   },
   {
    "duration": 2,
    "start_time": "2022-11-30T15:27:52.979Z"
   },
   {
    "duration": 2,
    "start_time": "2022-11-30T15:27:59.474Z"
   },
   {
    "duration": 3,
    "start_time": "2022-11-30T15:27:59.768Z"
   },
   {
    "duration": 3,
    "start_time": "2022-11-30T15:28:00.027Z"
   },
   {
    "duration": 2,
    "start_time": "2022-11-30T15:28:00.306Z"
   },
   {
    "duration": 10,
    "start_time": "2022-11-30T15:28:00.928Z"
   },
   {
    "duration": 8,
    "start_time": "2022-11-30T15:28:01.539Z"
   },
   {
    "duration": 9,
    "start_time": "2022-11-30T15:28:01.887Z"
   },
   {
    "duration": 28,
    "start_time": "2022-11-30T15:37:21.663Z"
   },
   {
    "duration": 12,
    "start_time": "2022-11-30T15:37:22.733Z"
   },
   {
    "duration": 12,
    "start_time": "2022-11-30T15:37:54.046Z"
   },
   {
    "duration": 110,
    "start_time": "2022-11-30T15:41:20.582Z"
   },
   {
    "duration": 5,
    "start_time": "2022-11-30T15:41:30.393Z"
   },
   {
    "duration": 12,
    "start_time": "2022-11-30T15:41:49.328Z"
   },
   {
    "duration": 9,
    "start_time": "2022-11-30T15:42:03.811Z"
   },
   {
    "duration": 9,
    "start_time": "2022-11-30T15:42:04.082Z"
   },
   {
    "duration": 8,
    "start_time": "2022-11-30T15:42:04.357Z"
   },
   {
    "duration": 35,
    "start_time": "2022-11-30T15:42:05.253Z"
   },
   {
    "duration": 13,
    "start_time": "2022-11-30T15:42:05.584Z"
   },
   {
    "duration": 6,
    "start_time": "2022-11-30T15:42:07.588Z"
   },
   {
    "duration": 2,
    "start_time": "2022-11-30T15:42:09.455Z"
   },
   {
    "duration": 2,
    "start_time": "2022-11-30T15:42:09.660Z"
   },
   {
    "duration": 2,
    "start_time": "2022-11-30T15:42:09.882Z"
   },
   {
    "duration": 23,
    "start_time": "2022-11-30T15:55:25.857Z"
   },
   {
    "duration": 314,
    "start_time": "2022-11-30T15:56:36.738Z"
   },
   {
    "duration": 10048,
    "start_time": "2022-11-30T16:02:01.723Z"
   },
   {
    "duration": 35357,
    "start_time": "2022-11-30T16:04:01.222Z"
   },
   {
    "duration": 78966,
    "start_time": "2022-11-30T16:05:07.607Z"
   },
   {
    "duration": 137477,
    "start_time": "2022-11-30T16:09:42.440Z"
   },
   {
    "duration": 24,
    "start_time": "2022-11-30T16:12:38.016Z"
   },
   {
    "duration": 141143,
    "start_time": "2022-11-30T16:16:07.683Z"
   },
   {
    "duration": 24,
    "start_time": "2022-11-30T16:18:40.931Z"
   },
   {
    "duration": 315,
    "start_time": "2022-11-30T16:18:43.527Z"
   },
   {
    "duration": 4,
    "start_time": "2022-11-30T16:20:17.229Z"
   },
   {
    "duration": 18,
    "start_time": "2022-11-30T16:21:47.139Z"
   },
   {
    "duration": 2143,
    "start_time": "2022-11-30T16:46:27.373Z"
   },
   {
    "duration": 41,
    "start_time": "2022-11-30T16:46:30.184Z"
   },
   {
    "duration": 14,
    "start_time": "2022-11-30T16:46:30.554Z"
   },
   {
    "duration": 21,
    "start_time": "2022-11-30T16:46:30.891Z"
   },
   {
    "duration": 18,
    "start_time": "2022-11-30T16:46:31.417Z"
   },
   {
    "duration": 7,
    "start_time": "2022-11-30T16:46:33.851Z"
   },
   {
    "duration": 2,
    "start_time": "2022-11-30T16:46:34.504Z"
   },
   {
    "duration": 4,
    "start_time": "2022-11-30T16:46:35.418Z"
   },
   {
    "duration": 5,
    "start_time": "2022-11-30T16:46:36.679Z"
   },
   {
    "duration": 7,
    "start_time": "2022-11-30T16:46:37.259Z"
   },
   {
    "duration": 3,
    "start_time": "2022-11-30T16:46:37.634Z"
   },
   {
    "duration": 23,
    "start_time": "2022-11-30T16:46:38.676Z"
   },
   {
    "duration": 2,
    "start_time": "2022-11-30T16:46:39.511Z"
   },
   {
    "duration": 14,
    "start_time": "2022-11-30T16:46:39.845Z"
   },
   {
    "duration": 5,
    "start_time": "2022-11-30T16:46:40.864Z"
   },
   {
    "duration": 11,
    "start_time": "2022-11-30T16:46:41.218Z"
   },
   {
    "duration": 5,
    "start_time": "2022-11-30T16:46:41.563Z"
   },
   {
    "duration": 3,
    "start_time": "2022-11-30T16:46:42.307Z"
   },
   {
    "duration": 2,
    "start_time": "2022-11-30T16:46:42.697Z"
   },
   {
    "duration": 3,
    "start_time": "2022-11-30T16:46:43.049Z"
   },
   {
    "duration": 3,
    "start_time": "2022-11-30T16:46:43.357Z"
   },
   {
    "duration": 3,
    "start_time": "2022-11-30T16:46:43.677Z"
   },
   {
    "duration": 2,
    "start_time": "2022-11-30T16:46:43.987Z"
   },
   {
    "duration": 10,
    "start_time": "2022-11-30T16:46:44.306Z"
   },
   {
    "duration": 9,
    "start_time": "2022-11-30T16:46:44.634Z"
   },
   {
    "duration": 12,
    "start_time": "2022-11-30T16:46:44.949Z"
   },
   {
    "duration": 56,
    "start_time": "2022-11-30T16:46:45.844Z"
   },
   {
    "duration": 13,
    "start_time": "2022-11-30T16:46:46.110Z"
   },
   {
    "duration": 7,
    "start_time": "2022-11-30T16:46:46.930Z"
   },
   {
    "duration": 3,
    "start_time": "2022-11-30T16:46:47.398Z"
   },
   {
    "duration": 3,
    "start_time": "2022-11-30T16:46:47.643Z"
   },
   {
    "duration": 3,
    "start_time": "2022-11-30T16:46:47.869Z"
   },
   {
    "duration": 608,
    "start_time": "2022-11-30T16:46:49.636Z"
   },
   {
    "duration": 281752,
    "start_time": "2022-11-30T16:46:53.156Z"
   },
   {
    "duration": 89,
    "start_time": "2022-11-30T16:51:42.117Z"
   },
   {
    "duration": 288624,
    "start_time": "2022-11-30T16:51:46.207Z"
   },
   {
    "duration": 117,
    "start_time": "2022-11-30T16:57:18.382Z"
   },
   {
    "duration": 695,
    "start_time": "2022-11-30T16:57:19.609Z"
   },
   {
    "duration": 4,
    "start_time": "2022-11-30T16:57:30.715Z"
   },
   {
    "duration": 37,
    "start_time": "2022-11-30T16:57:31.666Z"
   },
   {
    "duration": 2351,
    "start_time": "2022-11-30T17:17:30.660Z"
   },
   {
    "duration": 86,
    "start_time": "2022-11-30T17:17:33.013Z"
   },
   {
    "duration": 14,
    "start_time": "2022-11-30T17:17:33.101Z"
   },
   {
    "duration": 27,
    "start_time": "2022-11-30T17:17:34.079Z"
   },
   {
    "duration": 18,
    "start_time": "2022-11-30T17:17:34.407Z"
   },
   {
    "duration": 7,
    "start_time": "2022-11-30T17:17:36.345Z"
   },
   {
    "duration": 2,
    "start_time": "2022-11-30T17:17:36.765Z"
   },
   {
    "duration": 4,
    "start_time": "2022-11-30T17:17:37.422Z"
   },
   {
    "duration": 6,
    "start_time": "2022-11-30T17:17:38.241Z"
   },
   {
    "duration": 7,
    "start_time": "2022-11-30T17:17:38.428Z"
   },
   {
    "duration": 4,
    "start_time": "2022-11-30T17:17:38.634Z"
   },
   {
    "duration": 12,
    "start_time": "2022-11-30T17:17:39.222Z"
   },
   {
    "duration": 2,
    "start_time": "2022-11-30T17:17:39.623Z"
   },
   {
    "duration": 12,
    "start_time": "2022-11-30T17:17:39.799Z"
   },
   {
    "duration": 5,
    "start_time": "2022-11-30T17:17:40.394Z"
   },
   {
    "duration": 21,
    "start_time": "2022-11-30T17:17:40.580Z"
   },
   {
    "duration": 5,
    "start_time": "2022-11-30T17:17:41.024Z"
   },
   {
    "duration": 3,
    "start_time": "2022-11-30T17:17:41.455Z"
   },
   {
    "duration": 2,
    "start_time": "2022-11-30T17:17:41.678Z"
   },
   {
    "duration": 2,
    "start_time": "2022-11-30T17:17:41.906Z"
   },
   {
    "duration": 2,
    "start_time": "2022-11-30T17:17:42.107Z"
   },
   {
    "duration": 3,
    "start_time": "2022-11-30T17:17:42.328Z"
   },
   {
    "duration": 3,
    "start_time": "2022-11-30T17:17:42.565Z"
   },
   {
    "duration": 11,
    "start_time": "2022-11-30T17:17:42.762Z"
   },
   {
    "duration": 8,
    "start_time": "2022-11-30T17:17:42.959Z"
   },
   {
    "duration": 9,
    "start_time": "2022-11-30T17:17:43.157Z"
   },
   {
    "duration": 36,
    "start_time": "2022-11-30T17:17:43.891Z"
   },
   {
    "duration": 15,
    "start_time": "2022-11-30T17:17:44.114Z"
   },
   {
    "duration": 16,
    "start_time": "2022-11-30T17:17:44.782Z"
   },
   {
    "duration": 2,
    "start_time": "2022-11-30T17:17:45.366Z"
   },
   {
    "duration": 2,
    "start_time": "2022-11-30T17:17:45.654Z"
   },
   {
    "duration": 2,
    "start_time": "2022-11-30T17:17:45.874Z"
   },
   {
    "duration": 659,
    "start_time": "2022-11-30T17:17:47.773Z"
   },
   {
    "duration": 165306,
    "start_time": "2022-11-30T17:17:52.020Z"
   },
   {
    "duration": 171,
    "start_time": "2022-11-30T17:20:37.328Z"
   },
   {
    "duration": 123328,
    "start_time": "2022-11-30T17:20:37.502Z"
   },
   {
    "duration": 67,
    "start_time": "2022-11-30T17:22:40.832Z"
   },
   {
    "duration": 431,
    "start_time": "2022-11-30T17:22:40.901Z"
   },
   {
    "duration": 314,
    "start_time": "2022-11-30T17:23:26.868Z"
   },
   {
    "duration": 3,
    "start_time": "2022-11-30T17:23:38.445Z"
   },
   {
    "duration": 22,
    "start_time": "2022-11-30T17:23:39.275Z"
   },
   {
    "duration": 313120,
    "start_time": "2022-11-30T17:23:41.660Z"
   },
   {
    "duration": 1052,
    "start_time": "2022-11-30T17:28:54.781Z"
   },
   {
    "duration": 219,
    "start_time": "2022-11-30T17:28:55.834Z"
   },
   {
    "duration": 0,
    "start_time": "2022-11-30T17:28:56.054Z"
   },
   {
    "duration": 0,
    "start_time": "2022-11-30T17:28:56.055Z"
   },
   {
    "duration": 0,
    "start_time": "2022-11-30T17:28:56.056Z"
   },
   {
    "duration": 0,
    "start_time": "2022-11-30T17:28:56.057Z"
   },
   {
    "duration": 0,
    "start_time": "2022-11-30T17:28:56.057Z"
   },
   {
    "duration": 0,
    "start_time": "2022-11-30T17:28:56.058Z"
   },
   {
    "duration": 147,
    "start_time": "2022-11-30T17:31:03.454Z"
   },
   {
    "duration": 4,
    "start_time": "2022-11-30T17:31:27.402Z"
   },
   {
    "duration": 14,
    "start_time": "2022-11-30T17:31:28.685Z"
   },
   {
    "duration": 559147,
    "start_time": "2022-11-30T17:31:37.989Z"
   },
   {
    "duration": 19,
    "start_time": "2022-11-30T17:40:57.137Z"
   },
   {
    "duration": 0,
    "start_time": "2022-11-30T17:40:57.157Z"
   },
   {
    "duration": 0,
    "start_time": "2022-11-30T17:40:57.159Z"
   },
   {
    "duration": 9,
    "start_time": "2022-11-30T17:43:42.264Z"
   },
   {
    "duration": 9,
    "start_time": "2022-11-30T17:44:12.025Z"
   },
   {
    "duration": 581491,
    "start_time": "2022-11-30T17:44:14.839Z"
   },
   {
    "duration": 238,
    "start_time": "2022-11-30T17:53:56.333Z"
   },
   {
    "duration": 40,
    "start_time": "2022-11-30T17:53:56.572Z"
   },
   {
    "duration": 0,
    "start_time": "2022-11-30T17:53:56.614Z"
   },
   {
    "duration": 50911,
    "start_time": "2022-11-30T17:59:41.481Z"
   },
   {
    "duration": 37,
    "start_time": "2022-11-30T18:00:32.400Z"
   },
   {
    "duration": 50053,
    "start_time": "2022-11-30T18:04:13.988Z"
   },
   {
    "duration": 225,
    "start_time": "2022-11-30T18:05:04.043Z"
   },
   {
    "duration": 40,
    "start_time": "2022-11-30T18:05:04.269Z"
   },
   {
    "duration": 20,
    "start_time": "2022-11-30T18:05:58.877Z"
   },
   {
    "duration": 3,
    "start_time": "2022-11-30T18:06:12.188Z"
   },
   {
    "duration": 8,
    "start_time": "2022-11-30T18:09:05.415Z"
   },
   {
    "duration": 42720,
    "start_time": "2022-11-30T18:09:06.570Z"
   },
   {
    "duration": 188,
    "start_time": "2022-11-30T18:09:49.298Z"
   },
   {
    "duration": 111,
    "start_time": "2022-11-30T18:09:49.488Z"
   },
   {
    "duration": 48,
    "start_time": "2022-11-30T18:15:23.350Z"
   },
   {
    "duration": 147,
    "start_time": "2022-11-30T18:15:36.715Z"
   },
   {
    "duration": 160,
    "start_time": "2022-11-30T18:16:03.340Z"
   },
   {
    "duration": 158,
    "start_time": "2022-11-30T18:16:47.581Z"
   },
   {
    "duration": 5,
    "start_time": "2022-11-30T18:16:56.853Z"
   },
   {
    "duration": 7,
    "start_time": "2022-11-30T18:17:06.738Z"
   },
   {
    "duration": 6,
    "start_time": "2022-11-30T18:18:05.600Z"
   },
   {
    "duration": 9,
    "start_time": "2022-11-30T18:18:06.393Z"
   },
   {
    "duration": 160,
    "start_time": "2022-11-30T18:18:08.147Z"
   },
   {
    "duration": 39,
    "start_time": "2022-11-30T18:20:49.990Z"
   },
   {
    "duration": 1666,
    "start_time": "2022-12-01T05:21:42.688Z"
   },
   {
    "duration": 163,
    "start_time": "2022-12-01T05:21:44.357Z"
   },
   {
    "duration": 16,
    "start_time": "2022-12-01T05:21:44.522Z"
   },
   {
    "duration": 30,
    "start_time": "2022-12-01T05:21:44.541Z"
   },
   {
    "duration": 20,
    "start_time": "2022-12-01T05:21:44.573Z"
   },
   {
    "duration": 28,
    "start_time": "2022-12-01T05:21:44.595Z"
   },
   {
    "duration": 2,
    "start_time": "2022-12-01T05:21:44.625Z"
   },
   {
    "duration": 9,
    "start_time": "2022-12-01T05:21:44.629Z"
   },
   {
    "duration": 9,
    "start_time": "2022-12-01T05:21:44.640Z"
   },
   {
    "duration": 11,
    "start_time": "2022-12-01T05:21:44.651Z"
   },
   {
    "duration": 4,
    "start_time": "2022-12-01T05:21:44.663Z"
   },
   {
    "duration": 14,
    "start_time": "2022-12-01T05:21:44.668Z"
   },
   {
    "duration": 2,
    "start_time": "2022-12-01T05:21:44.684Z"
   },
   {
    "duration": 39,
    "start_time": "2022-12-01T05:21:44.687Z"
   },
   {
    "duration": 6,
    "start_time": "2022-12-01T05:21:44.728Z"
   },
   {
    "duration": 11,
    "start_time": "2022-12-01T05:21:44.736Z"
   },
   {
    "duration": 5,
    "start_time": "2022-12-01T05:21:44.748Z"
   },
   {
    "duration": 5,
    "start_time": "2022-12-01T05:21:44.754Z"
   },
   {
    "duration": 11,
    "start_time": "2022-12-01T05:21:44.760Z"
   },
   {
    "duration": 6,
    "start_time": "2022-12-01T05:21:44.773Z"
   },
   {
    "duration": 6,
    "start_time": "2022-12-01T05:21:44.781Z"
   },
   {
    "duration": 5,
    "start_time": "2022-12-01T05:21:44.789Z"
   },
   {
    "duration": 4,
    "start_time": "2022-12-01T05:21:44.796Z"
   },
   {
    "duration": 28,
    "start_time": "2022-12-01T05:21:44.801Z"
   },
   {
    "duration": 10,
    "start_time": "2022-12-01T05:21:44.831Z"
   },
   {
    "duration": 9,
    "start_time": "2022-12-01T05:21:44.843Z"
   },
   {
    "duration": 29,
    "start_time": "2022-12-01T05:21:44.854Z"
   },
   {
    "duration": 37,
    "start_time": "2022-12-01T05:21:44.886Z"
   },
   {
    "duration": 11,
    "start_time": "2022-12-01T05:21:44.925Z"
   },
   {
    "duration": 9,
    "start_time": "2022-12-01T05:21:44.938Z"
   },
   {
    "duration": 5,
    "start_time": "2022-12-01T05:21:44.948Z"
   },
   {
    "duration": 6,
    "start_time": "2022-12-01T05:21:44.955Z"
   },
   {
    "duration": 349,
    "start_time": "2022-12-01T05:21:44.963Z"
   },
   {
    "duration": 82969,
    "start_time": "2022-12-01T05:21:45.314Z"
   },
   {
    "duration": 143,
    "start_time": "2022-12-01T05:23:08.285Z"
   },
   {
    "duration": 84619,
    "start_time": "2022-12-01T05:23:08.431Z"
   },
   {
    "duration": 71,
    "start_time": "2022-12-01T05:24:33.052Z"
   },
   {
    "duration": 445,
    "start_time": "2022-12-01T05:24:33.125Z"
   },
   {
    "duration": 3,
    "start_time": "2022-12-01T05:24:33.572Z"
   },
   {
    "duration": 29,
    "start_time": "2022-12-01T05:24:33.577Z"
   },
   {
    "duration": 344511,
    "start_time": "2022-12-01T05:24:33.622Z"
   },
   {
    "duration": 1125,
    "start_time": "2022-12-01T05:30:18.135Z"
   },
   {
    "duration": 160,
    "start_time": "2022-12-01T05:30:19.262Z"
   },
   {
    "duration": 4,
    "start_time": "2022-12-01T05:30:19.425Z"
   },
   {
    "duration": 99,
    "start_time": "2022-12-01T05:30:19.431Z"
   },
   {
    "duration": 45262,
    "start_time": "2022-12-01T05:30:19.532Z"
   },
   {
    "duration": 207,
    "start_time": "2022-12-01T05:31:04.795Z"
   },
   {
    "duration": 30,
    "start_time": "2022-12-01T05:31:05.004Z"
   },
   {
    "duration": 87,
    "start_time": "2022-12-01T05:31:05.036Z"
   },
   {
    "duration": 99,
    "start_time": "2022-12-01T05:31:05.125Z"
   },
   {
    "duration": 15,
    "start_time": "2022-12-01T05:31:05.226Z"
   },
   {
    "duration": 181,
    "start_time": "2022-12-01T05:31:05.243Z"
   },
   {
    "duration": 32,
    "start_time": "2022-12-01T05:31:05.426Z"
   },
   {
    "duration": 7,
    "start_time": "2022-12-01T06:33:40.327Z"
   },
   {
    "duration": 43,
    "start_time": "2022-12-01T06:33:41.405Z"
   },
   {
    "duration": 12,
    "start_time": "2022-12-01T06:33:41.883Z"
   },
   {
    "duration": 18,
    "start_time": "2022-12-01T06:33:42.386Z"
   },
   {
    "duration": 19,
    "start_time": "2022-12-01T06:33:42.695Z"
   },
   {
    "duration": 7,
    "start_time": "2022-12-01T06:33:45.465Z"
   },
   {
    "duration": 12,
    "start_time": "2022-12-01T06:33:46.134Z"
   },
   {
    "duration": 4,
    "start_time": "2022-12-01T06:33:47.384Z"
   },
   {
    "duration": 4,
    "start_time": "2022-12-01T06:33:48.981Z"
   },
   {
    "duration": 6,
    "start_time": "2022-12-01T06:33:49.355Z"
   },
   {
    "duration": 3,
    "start_time": "2022-12-01T06:33:49.877Z"
   },
   {
    "duration": 12,
    "start_time": "2022-12-01T06:33:51.766Z"
   },
   {
    "duration": 2,
    "start_time": "2022-12-01T06:33:55.936Z"
   },
   {
    "duration": 22,
    "start_time": "2022-12-01T06:33:56.313Z"
   },
   {
    "duration": 5,
    "start_time": "2022-12-01T06:33:58.075Z"
   },
   {
    "duration": 8,
    "start_time": "2022-12-01T06:33:59.045Z"
   },
   {
    "duration": 5,
    "start_time": "2022-12-01T06:33:59.496Z"
   },
   {
    "duration": 2,
    "start_time": "2022-12-01T06:34:05.196Z"
   },
   {
    "duration": 113,
    "start_time": "2022-12-01T06:35:42.271Z"
   },
   {
    "duration": 16,
    "start_time": "2022-12-01T06:35:53.840Z"
   },
   {
    "duration": 21,
    "start_time": "2022-12-01T06:36:00.105Z"
   },
   {
    "duration": 91,
    "start_time": "2022-12-01T06:40:57.200Z"
   },
   {
    "duration": 18,
    "start_time": "2022-12-01T06:41:07.619Z"
   },
   {
    "duration": 15,
    "start_time": "2022-12-01T06:49:45.940Z"
   },
   {
    "duration": 9,
    "start_time": "2022-12-01T06:50:01.383Z"
   },
   {
    "duration": 36,
    "start_time": "2022-12-01T07:15:44.491Z"
   },
   {
    "duration": 13,
    "start_time": "2022-12-01T07:15:44.810Z"
   },
   {
    "duration": 18,
    "start_time": "2022-12-01T07:15:45.139Z"
   },
   {
    "duration": 18,
    "start_time": "2022-12-01T07:15:45.370Z"
   },
   {
    "duration": 6,
    "start_time": "2022-12-01T07:15:47.760Z"
   },
   {
    "duration": 2,
    "start_time": "2022-12-01T07:15:48.881Z"
   },
   {
    "duration": 4,
    "start_time": "2022-12-01T07:15:50.929Z"
   },
   {
    "duration": 6,
    "start_time": "2022-12-01T07:15:56.621Z"
   },
   {
    "duration": 7,
    "start_time": "2022-12-01T07:15:57.250Z"
   },
   {
    "duration": 3,
    "start_time": "2022-12-01T07:15:58.630Z"
   },
   {
    "duration": 13,
    "start_time": "2022-12-01T07:16:03.250Z"
   },
   {
    "duration": 3,
    "start_time": "2022-12-01T07:16:08.648Z"
   },
   {
    "duration": 13,
    "start_time": "2022-12-01T07:16:09.131Z"
   },
   {
    "duration": 5,
    "start_time": "2022-12-01T07:16:11.782Z"
   },
   {
    "duration": 10,
    "start_time": "2022-12-01T07:16:12.331Z"
   },
   {
    "duration": 6,
    "start_time": "2022-12-01T07:16:12.873Z"
   },
   {
    "duration": 2,
    "start_time": "2022-12-01T07:16:14.592Z"
   },
   {
    "duration": 2,
    "start_time": "2022-12-01T07:16:15.142Z"
   },
   {
    "duration": 2,
    "start_time": "2022-12-01T07:16:15.420Z"
   },
   {
    "duration": 3,
    "start_time": "2022-12-01T07:16:15.670Z"
   },
   {
    "duration": 3,
    "start_time": "2022-12-01T07:16:15.937Z"
   },
   {
    "duration": 3,
    "start_time": "2022-12-01T07:16:16.450Z"
   },
   {
    "duration": 10,
    "start_time": "2022-12-01T07:16:17.561Z"
   },
   {
    "duration": 9,
    "start_time": "2022-12-01T07:16:18.103Z"
   },
   {
    "duration": 12,
    "start_time": "2022-12-01T07:16:18.970Z"
   },
   {
    "duration": 8,
    "start_time": "2022-12-01T07:16:50.226Z"
   },
   {
    "duration": 1190,
    "start_time": "2022-12-01T07:18:17.215Z"
   },
   {
    "duration": 1291,
    "start_time": "2022-12-01T07:19:04.986Z"
   },
   {
    "duration": 5,
    "start_time": "2022-12-01T07:19:40.453Z"
   },
   {
    "duration": 1435,
    "start_time": "2022-12-01T07:55:25.495Z"
   },
   {
    "duration": 41,
    "start_time": "2022-12-01T07:55:26.932Z"
   },
   {
    "duration": 14,
    "start_time": "2022-12-01T07:55:26.975Z"
   },
   {
    "duration": 22,
    "start_time": "2022-12-01T07:55:26.990Z"
   },
   {
    "duration": 19,
    "start_time": "2022-12-01T07:55:27.014Z"
   },
   {
    "duration": 7,
    "start_time": "2022-12-01T07:55:27.034Z"
   },
   {
    "duration": 5,
    "start_time": "2022-12-01T07:55:27.043Z"
   },
   {
    "duration": 7,
    "start_time": "2022-12-01T07:55:27.050Z"
   },
   {
    "duration": 9,
    "start_time": "2022-12-01T07:55:27.058Z"
   },
   {
    "duration": 9,
    "start_time": "2022-12-01T07:55:27.068Z"
   },
   {
    "duration": 3,
    "start_time": "2022-12-01T07:55:27.079Z"
   },
   {
    "duration": 13,
    "start_time": "2022-12-01T07:55:27.083Z"
   },
   {
    "duration": 26,
    "start_time": "2022-12-01T07:55:27.097Z"
   },
   {
    "duration": 16,
    "start_time": "2022-12-01T07:55:27.126Z"
   },
   {
    "duration": 7,
    "start_time": "2022-12-01T07:55:27.144Z"
   },
   {
    "duration": 12,
    "start_time": "2022-12-01T07:55:27.153Z"
   },
   {
    "duration": 5,
    "start_time": "2022-12-01T07:55:27.166Z"
   },
   {
    "duration": 7,
    "start_time": "2022-12-01T07:55:27.173Z"
   },
   {
    "duration": 5,
    "start_time": "2022-12-01T07:55:27.182Z"
   },
   {
    "duration": 17,
    "start_time": "2022-12-01T07:55:27.188Z"
   },
   {
    "duration": 16,
    "start_time": "2022-12-01T07:55:27.206Z"
   },
   {
    "duration": 8,
    "start_time": "2022-12-01T07:55:27.224Z"
   },
   {
    "duration": 6,
    "start_time": "2022-12-01T07:55:27.233Z"
   },
   {
    "duration": 12,
    "start_time": "2022-12-01T07:55:27.241Z"
   },
   {
    "duration": 9,
    "start_time": "2022-12-01T07:55:27.255Z"
   },
   {
    "duration": 9,
    "start_time": "2022-12-01T07:55:27.265Z"
   },
   {
    "duration": 49,
    "start_time": "2022-12-01T07:55:27.275Z"
   },
   {
    "duration": 15,
    "start_time": "2022-12-01T07:55:27.325Z"
   },
   {
    "duration": 9,
    "start_time": "2022-12-01T07:55:27.342Z"
   },
   {
    "duration": 9,
    "start_time": "2022-12-01T07:55:27.353Z"
   },
   {
    "duration": 14,
    "start_time": "2022-12-01T07:55:27.364Z"
   },
   {
    "duration": 8,
    "start_time": "2022-12-01T07:55:27.380Z"
   },
   {
    "duration": 339,
    "start_time": "2022-12-01T07:55:27.389Z"
   },
   {
    "duration": 82847,
    "start_time": "2022-12-01T07:55:27.730Z"
   },
   {
    "duration": 49,
    "start_time": "2022-12-01T07:56:50.579Z"
   },
   {
    "duration": 82886,
    "start_time": "2022-12-01T07:56:50.630Z"
   },
   {
    "duration": 105,
    "start_time": "2022-12-01T07:58:13.518Z"
   },
   {
    "duration": 454,
    "start_time": "2022-12-01T07:58:13.625Z"
   },
   {
    "duration": 5,
    "start_time": "2022-12-01T07:58:14.082Z"
   },
   {
    "duration": 62,
    "start_time": "2022-12-01T07:58:14.089Z"
   },
   {
    "duration": 1855,
    "start_time": "2023-10-30T10:46:23.683Z"
   },
   {
    "duration": 84,
    "start_time": "2023-10-30T10:46:25.546Z"
   },
   {
    "duration": 17,
    "start_time": "2023-10-30T10:46:25.632Z"
   },
   {
    "duration": 68,
    "start_time": "2023-10-30T10:46:25.651Z"
   },
   {
    "duration": 20,
    "start_time": "2023-10-30T10:46:25.721Z"
   },
   {
    "duration": 8,
    "start_time": "2023-10-30T10:46:25.743Z"
   },
   {
    "duration": 32,
    "start_time": "2023-10-30T10:46:25.752Z"
   },
   {
    "duration": 16,
    "start_time": "2023-10-30T10:46:25.786Z"
   },
   {
    "duration": 16,
    "start_time": "2023-10-30T10:46:25.804Z"
   },
   {
    "duration": 35,
    "start_time": "2023-10-30T10:46:25.822Z"
   },
   {
    "duration": 12,
    "start_time": "2023-10-30T10:46:25.858Z"
   },
   {
    "duration": 17,
    "start_time": "2023-10-30T10:46:25.872Z"
   },
   {
    "duration": 14,
    "start_time": "2023-10-30T10:46:25.891Z"
   },
   {
    "duration": 35,
    "start_time": "2023-10-30T10:46:25.907Z"
   },
   {
    "duration": 16,
    "start_time": "2023-10-30T10:46:25.944Z"
   },
   {
    "duration": 14,
    "start_time": "2023-10-30T10:46:25.961Z"
   },
   {
    "duration": 8,
    "start_time": "2023-10-30T10:46:25.977Z"
   },
   {
    "duration": 6,
    "start_time": "2023-10-30T10:46:25.987Z"
   },
   {
    "duration": 20,
    "start_time": "2023-10-30T10:46:25.995Z"
   },
   {
    "duration": 14,
    "start_time": "2023-10-30T10:46:26.017Z"
   },
   {
    "duration": 7,
    "start_time": "2023-10-30T10:46:26.033Z"
   },
   {
    "duration": 8,
    "start_time": "2023-10-30T10:46:26.042Z"
   },
   {
    "duration": 34,
    "start_time": "2023-10-30T10:46:26.051Z"
   },
   {
    "duration": 31,
    "start_time": "2023-10-30T10:46:26.087Z"
   },
   {
    "duration": 20,
    "start_time": "2023-10-30T10:46:26.120Z"
   },
   {
    "duration": 40,
    "start_time": "2023-10-30T10:46:26.142Z"
   },
   {
    "duration": 76,
    "start_time": "2023-10-30T10:46:26.183Z"
   },
   {
    "duration": 17,
    "start_time": "2023-10-30T10:46:26.264Z"
   },
   {
    "duration": 23,
    "start_time": "2023-10-30T10:46:26.283Z"
   },
   {
    "duration": 14,
    "start_time": "2023-10-30T10:46:26.307Z"
   },
   {
    "duration": 22,
    "start_time": "2023-10-30T10:46:26.323Z"
   },
   {
    "duration": 27,
    "start_time": "2023-10-30T10:46:26.347Z"
   },
   {
    "duration": 455,
    "start_time": "2023-10-30T10:46:26.376Z"
   },
   {
    "duration": 93870,
    "start_time": "2023-10-30T10:46:26.834Z"
   },
   {
    "duration": 144,
    "start_time": "2023-10-30T10:48:00.706Z"
   },
   {
    "duration": 93528,
    "start_time": "2023-10-30T10:48:00.856Z"
   },
   {
    "duration": 162,
    "start_time": "2023-10-30T10:49:34.385Z"
   },
   {
    "duration": 421,
    "start_time": "2023-10-30T10:49:34.549Z"
   },
   {
    "duration": 4,
    "start_time": "2023-10-30T10:49:34.972Z"
   },
   {
    "duration": 47,
    "start_time": "2023-10-30T10:49:34.978Z"
   },
   {
    "duration": 378345,
    "start_time": "2023-10-30T10:49:35.027Z"
   },
   {
    "duration": 1231,
    "start_time": "2023-10-30T10:55:53.374Z"
   },
   {
    "duration": 148,
    "start_time": "2023-10-30T10:55:54.607Z"
   },
   {
    "duration": 99,
    "start_time": "2023-10-30T10:55:54.757Z"
   },
   {
    "duration": 110,
    "start_time": "2023-10-30T10:55:54.857Z"
   },
   {
    "duration": 50471,
    "start_time": "2023-10-30T10:55:54.969Z"
   },
   {
    "duration": 308,
    "start_time": "2023-10-30T10:56:45.447Z"
   },
   {
    "duration": 93,
    "start_time": "2023-10-30T10:56:45.757Z"
   },
   {
    "duration": 5,
    "start_time": "2023-10-30T10:56:45.853Z"
   },
   {
    "duration": 8,
    "start_time": "2023-10-30T10:56:45.946Z"
   },
   {
    "duration": 44,
    "start_time": "2023-10-30T10:56:45.956Z"
   },
   {
    "duration": 215,
    "start_time": "2023-10-30T10:56:46.002Z"
   },
   {
    "duration": 43,
    "start_time": "2023-10-30T10:56:46.218Z"
   }
  ],
  "kernelspec": {
   "display_name": "Python 3 (ipykernel)",
   "language": "python",
   "name": "python3"
  },
  "language_info": {
   "codemirror_mode": {
    "name": "ipython",
    "version": 3
   },
   "file_extension": ".py",
   "mimetype": "text/x-python",
   "name": "python",
   "nbconvert_exporter": "python",
   "pygments_lexer": "ipython3",
   "version": "3.9.13"
  },
  "toc": {
   "base_numbering": 1,
   "nav_menu": {},
   "number_sections": true,
   "sideBar": true,
   "skip_h1_title": true,
   "title_cell": "Содержание",
   "title_sidebar": "Contents",
   "toc_cell": true,
   "toc_position": {
    "height": "calc(100% - 180px)",
    "left": "10px",
    "top": "150px",
    "width": "165px"
   },
   "toc_section_display": true,
   "toc_window_display": false
  }
 },
 "nbformat": 4,
 "nbformat_minor": 2
}

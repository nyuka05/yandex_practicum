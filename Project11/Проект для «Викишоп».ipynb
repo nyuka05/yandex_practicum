{
 "cells": [
  {
   "cell_type": "markdown",
   "metadata": {},
   "source": [
    "# Проект для «Викишоп»"
   ]
  },
  {
   "cell_type": "markdown",
   "metadata": {},
   "source": [
    "Интернет-магазин «Викишоп» запускает новый сервис. Теперь пользователи могут редактировать и дополнять описания товаров, как в вики-сообществах. То есть клиенты предлагают свои правки и комментируют изменения других. Магазину нужен инструмент, который будет искать токсичные комментарии и отправлять их на модерацию. \n",
    "\n",
    "Обучите модель классифицировать комментарии на позитивные и негативные. В вашем распоряжении набор данных с разметкой о токсичности правок.\n",
    "\n",
    "Постройте модель со значением метрики качества *F1* не меньше 0.75. \n",
    "\n",
    "**Инструкция по выполнению проекта**\n",
    "\n",
    "1. Загрузите и подготовьте данные.\n",
    "2. Обучите разные модели. \n",
    "3. Сделайте выводы.\n",
    "\n",
    "Для выполнения проекта применять *BERT* необязательно, но вы можете попробовать.\n",
    "\n",
    "**Описание данных**\n",
    "\n",
    "Данные находятся в файле `toxic_comments.csv`. Столбец *text* в нём содержит текст комментария, а *toxic* — целевой признак."
   ]
  },
  {
   "cell_type": "markdown",
   "metadata": {},
   "source": [
    "## Подготовка"
   ]
  },
  {
   "cell_type": "code",
   "execution_count": 1,
   "metadata": {},
   "outputs": [],
   "source": [
    "import pandas as pd\n",
    "from sklearn.tree import DecisionTreeClassifier\n",
    "from sklearn.ensemble import RandomForestClassifier\n",
    "from sklearn.model_selection import train_test_split\n",
    "from sklearn.metrics import mean_squared_error\n",
    "from sklearn.metrics import accuracy_score\n",
    "from sklearn.linear_model import LogisticRegression \n",
    "from pymystem3 import Mystem\n",
    "import nltk\n",
    "from nltk.stem import WordNetLemmatizer \n",
    "import re \n",
    "from sklearn.feature_extraction.text import TfidfVectorizer \n",
    "from sklearn.metrics import f1_score\n",
    "from nltk.corpus import stopwords\n",
    "from sklearn.model_selection import GridSearchCV\n",
    "from sklearn.model_selection import cross_val_score"
   ]
  },
  {
   "cell_type": "code",
   "execution_count": 2,
   "metadata": {},
   "outputs": [],
   "source": [
    "toxic_comments = pd.read_csv('/datasets/toxic_comments.csv')"
   ]
  },
  {
   "cell_type": "code",
   "execution_count": 3,
   "metadata": {},
   "outputs": [
    {
     "data": {
      "text/html": [
       "<div>\n",
       "<style scoped>\n",
       "    .dataframe tbody tr th:only-of-type {\n",
       "        vertical-align: middle;\n",
       "    }\n",
       "\n",
       "    .dataframe tbody tr th {\n",
       "        vertical-align: top;\n",
       "    }\n",
       "\n",
       "    .dataframe thead th {\n",
       "        text-align: right;\n",
       "    }\n",
       "</style>\n",
       "<table border=\"1\" class=\"dataframe\">\n",
       "  <thead>\n",
       "    <tr style=\"text-align: right;\">\n",
       "      <th></th>\n",
       "      <th>Unnamed: 0</th>\n",
       "      <th>text</th>\n",
       "      <th>toxic</th>\n",
       "    </tr>\n",
       "  </thead>\n",
       "  <tbody>\n",
       "    <tr>\n",
       "      <th>0</th>\n",
       "      <td>0</td>\n",
       "      <td>Explanation\\nWhy the edits made under my usern...</td>\n",
       "      <td>0</td>\n",
       "    </tr>\n",
       "    <tr>\n",
       "      <th>1</th>\n",
       "      <td>1</td>\n",
       "      <td>D'aww! He matches this background colour I'm s...</td>\n",
       "      <td>0</td>\n",
       "    </tr>\n",
       "    <tr>\n",
       "      <th>2</th>\n",
       "      <td>2</td>\n",
       "      <td>Hey man, I'm really not trying to edit war. It...</td>\n",
       "      <td>0</td>\n",
       "    </tr>\n",
       "    <tr>\n",
       "      <th>3</th>\n",
       "      <td>3</td>\n",
       "      <td>\"\\nMore\\nI can't make any real suggestions on ...</td>\n",
       "      <td>0</td>\n",
       "    </tr>\n",
       "    <tr>\n",
       "      <th>4</th>\n",
       "      <td>4</td>\n",
       "      <td>You, sir, are my hero. Any chance you remember...</td>\n",
       "      <td>0</td>\n",
       "    </tr>\n",
       "  </tbody>\n",
       "</table>\n",
       "</div>"
      ],
      "text/plain": [
       "   Unnamed: 0                                               text  toxic\n",
       "0           0  Explanation\\nWhy the edits made under my usern...      0\n",
       "1           1  D'aww! He matches this background colour I'm s...      0\n",
       "2           2  Hey man, I'm really not trying to edit war. It...      0\n",
       "3           3  \"\\nMore\\nI can't make any real suggestions on ...      0\n",
       "4           4  You, sir, are my hero. Any chance you remember...      0"
      ]
     },
     "execution_count": 3,
     "metadata": {},
     "output_type": "execute_result"
    }
   ],
   "source": [
    "toxic_comments.head()"
   ]
  },
  {
   "cell_type": "code",
   "execution_count": 4,
   "metadata": {},
   "outputs": [
    {
     "name": "stdout",
     "output_type": "stream",
     "text": [
      "<class 'pandas.core.frame.DataFrame'>\n",
      "RangeIndex: 159292 entries, 0 to 159291\n",
      "Data columns (total 3 columns):\n",
      " #   Column      Non-Null Count   Dtype \n",
      "---  ------      --------------   ----- \n",
      " 0   Unnamed: 0  159292 non-null  int64 \n",
      " 1   text        159292 non-null  object\n",
      " 2   toxic       159292 non-null  int64 \n",
      "dtypes: int64(2), object(1)\n",
      "memory usage: 3.6+ MB\n"
     ]
    }
   ],
   "source": [
    "toxic_comments.info()"
   ]
  },
  {
   "cell_type": "markdown",
   "metadata": {},
   "source": [
    "При первичном осмотре датасета нет пропусков, нет дубликатов, присутствует лишний столбец, который можно удалить"
   ]
  },
  {
   "cell_type": "code",
   "execution_count": 5,
   "metadata": {},
   "outputs": [],
   "source": [
    "toxic_comments = toxic_comments.drop(['Unnamed: 0'], axis=1)\n",
    "#toxic_comments = toxic_comments.loc[:10000]"
   ]
  },
  {
   "cell_type": "code",
   "execution_count": 6,
   "metadata": {},
   "outputs": [],
   "source": [
    "target = toxic_comments['toxic']"
   ]
  },
  {
   "cell_type": "code",
   "execution_count": 7,
   "metadata": {},
   "outputs": [
    {
     "data": {
      "text/html": [
       "<div>\n",
       "<style scoped>\n",
       "    .dataframe tbody tr th:only-of-type {\n",
       "        vertical-align: middle;\n",
       "    }\n",
       "\n",
       "    .dataframe tbody tr th {\n",
       "        vertical-align: top;\n",
       "    }\n",
       "\n",
       "    .dataframe thead th {\n",
       "        text-align: right;\n",
       "    }\n",
       "</style>\n",
       "<table border=\"1\" class=\"dataframe\">\n",
       "  <thead>\n",
       "    <tr style=\"text-align: right;\">\n",
       "      <th></th>\n",
       "      <th>text</th>\n",
       "      <th>toxic</th>\n",
       "    </tr>\n",
       "  </thead>\n",
       "  <tbody>\n",
       "    <tr>\n",
       "      <th>0</th>\n",
       "      <td>Explanation\\nWhy the edits made under my usern...</td>\n",
       "      <td>0</td>\n",
       "    </tr>\n",
       "    <tr>\n",
       "      <th>1</th>\n",
       "      <td>D'aww! He matches this background colour I'm s...</td>\n",
       "      <td>0</td>\n",
       "    </tr>\n",
       "    <tr>\n",
       "      <th>2</th>\n",
       "      <td>Hey man, I'm really not trying to edit war. It...</td>\n",
       "      <td>0</td>\n",
       "    </tr>\n",
       "    <tr>\n",
       "      <th>3</th>\n",
       "      <td>\"\\nMore\\nI can't make any real suggestions on ...</td>\n",
       "      <td>0</td>\n",
       "    </tr>\n",
       "    <tr>\n",
       "      <th>4</th>\n",
       "      <td>You, sir, are my hero. Any chance you remember...</td>\n",
       "      <td>0</td>\n",
       "    </tr>\n",
       "    <tr>\n",
       "      <th>5</th>\n",
       "      <td>\"\\n\\nCongratulations from me as well, use the ...</td>\n",
       "      <td>0</td>\n",
       "    </tr>\n",
       "    <tr>\n",
       "      <th>6</th>\n",
       "      <td>COCKSUCKER BEFORE YOU PISS AROUND ON MY WORK</td>\n",
       "      <td>1</td>\n",
       "    </tr>\n",
       "    <tr>\n",
       "      <th>7</th>\n",
       "      <td>Your vandalism to the Matt Shirvington article...</td>\n",
       "      <td>0</td>\n",
       "    </tr>\n",
       "    <tr>\n",
       "      <th>8</th>\n",
       "      <td>Sorry if the word 'nonsense' was offensive to ...</td>\n",
       "      <td>0</td>\n",
       "    </tr>\n",
       "    <tr>\n",
       "      <th>9</th>\n",
       "      <td>alignment on this subject and which are contra...</td>\n",
       "      <td>0</td>\n",
       "    </tr>\n",
       "  </tbody>\n",
       "</table>\n",
       "</div>"
      ],
      "text/plain": [
       "                                                text  toxic\n",
       "0  Explanation\\nWhy the edits made under my usern...      0\n",
       "1  D'aww! He matches this background colour I'm s...      0\n",
       "2  Hey man, I'm really not trying to edit war. It...      0\n",
       "3  \"\\nMore\\nI can't make any real suggestions on ...      0\n",
       "4  You, sir, are my hero. Any chance you remember...      0\n",
       "5  \"\\n\\nCongratulations from me as well, use the ...      0\n",
       "6       COCKSUCKER BEFORE YOU PISS AROUND ON MY WORK      1\n",
       "7  Your vandalism to the Matt Shirvington article...      0\n",
       "8  Sorry if the word 'nonsense' was offensive to ...      0\n",
       "9  alignment on this subject and which are contra...      0"
      ]
     },
     "execution_count": 7,
     "metadata": {},
     "output_type": "execute_result"
    }
   ],
   "source": [
    "toxic_comments.head(10)"
   ]
  },
  {
   "cell_type": "markdown",
   "metadata": {},
   "source": [
    "При более подробном рассмотрении отмечается наличие большого количества не нужных символов, которые необходимо удалить, или просто удалим все, кроме букв."
   ]
  },
  {
   "cell_type": "code",
   "execution_count": 8,
   "metadata": {},
   "outputs": [],
   "source": [
    "def clear_text(text):\n",
    "    a = re.sub(r'[^a-zA-Z ]', ' ', text) \n",
    "    b = \" \".join(a.split())\n",
    "    return b\n"
   ]
  },
  {
   "cell_type": "code",
   "execution_count": 9,
   "metadata": {},
   "outputs": [],
   "source": [
    "for a in range(toxic_comments.shape[0]):\n",
    "    toxic_comments.loc[a, 'text_cl'] = clear_text(toxic_comments.loc[a, 'text'])"
   ]
  },
  {
   "cell_type": "code",
   "execution_count": 10,
   "metadata": {},
   "outputs": [],
   "source": [
    "for a in range(toxic_comments.shape[0]):\n",
    "    toxic_comments.loc[a, 'text'] = toxic_comments.loc[a, 'text'].lower()"
   ]
  },
  {
   "cell_type": "code",
   "execution_count": 11,
   "metadata": {},
   "outputs": [
    {
     "data": {
      "text/html": [
       "<div>\n",
       "<style scoped>\n",
       "    .dataframe tbody tr th:only-of-type {\n",
       "        vertical-align: middle;\n",
       "    }\n",
       "\n",
       "    .dataframe tbody tr th {\n",
       "        vertical-align: top;\n",
       "    }\n",
       "\n",
       "    .dataframe thead th {\n",
       "        text-align: right;\n",
       "    }\n",
       "</style>\n",
       "<table border=\"1\" class=\"dataframe\">\n",
       "  <thead>\n",
       "    <tr style=\"text-align: right;\">\n",
       "      <th></th>\n",
       "      <th>text</th>\n",
       "      <th>toxic</th>\n",
       "      <th>text_cl</th>\n",
       "    </tr>\n",
       "  </thead>\n",
       "  <tbody>\n",
       "    <tr>\n",
       "      <th>0</th>\n",
       "      <td>explanation\\nwhy the edits made under my usern...</td>\n",
       "      <td>0</td>\n",
       "      <td>Explanation Why the edits made under my userna...</td>\n",
       "    </tr>\n",
       "    <tr>\n",
       "      <th>1</th>\n",
       "      <td>d'aww! he matches this background colour i'm s...</td>\n",
       "      <td>0</td>\n",
       "      <td>D aww He matches this background colour I m se...</td>\n",
       "    </tr>\n",
       "    <tr>\n",
       "      <th>2</th>\n",
       "      <td>hey man, i'm really not trying to edit war. it...</td>\n",
       "      <td>0</td>\n",
       "      <td>Hey man I m really not trying to edit war It s...</td>\n",
       "    </tr>\n",
       "    <tr>\n",
       "      <th>3</th>\n",
       "      <td>\"\\nmore\\ni can't make any real suggestions on ...</td>\n",
       "      <td>0</td>\n",
       "      <td>More I can t make any real suggestions on impr...</td>\n",
       "    </tr>\n",
       "    <tr>\n",
       "      <th>4</th>\n",
       "      <td>you, sir, are my hero. any chance you remember...</td>\n",
       "      <td>0</td>\n",
       "      <td>You sir are my hero Any chance you remember wh...</td>\n",
       "    </tr>\n",
       "    <tr>\n",
       "      <th>5</th>\n",
       "      <td>\"\\n\\ncongratulations from me as well, use the ...</td>\n",
       "      <td>0</td>\n",
       "      <td>Congratulations from me as well use the tools ...</td>\n",
       "    </tr>\n",
       "    <tr>\n",
       "      <th>6</th>\n",
       "      <td>cocksucker before you piss around on my work</td>\n",
       "      <td>1</td>\n",
       "      <td>COCKSUCKER BEFORE YOU PISS AROUND ON MY WORK</td>\n",
       "    </tr>\n",
       "    <tr>\n",
       "      <th>7</th>\n",
       "      <td>your vandalism to the matt shirvington article...</td>\n",
       "      <td>0</td>\n",
       "      <td>Your vandalism to the Matt Shirvington article...</td>\n",
       "    </tr>\n",
       "    <tr>\n",
       "      <th>8</th>\n",
       "      <td>sorry if the word 'nonsense' was offensive to ...</td>\n",
       "      <td>0</td>\n",
       "      <td>Sorry if the word nonsense was offensive to yo...</td>\n",
       "    </tr>\n",
       "    <tr>\n",
       "      <th>9</th>\n",
       "      <td>alignment on this subject and which are contra...</td>\n",
       "      <td>0</td>\n",
       "      <td>alignment on this subject and which are contra...</td>\n",
       "    </tr>\n",
       "  </tbody>\n",
       "</table>\n",
       "</div>"
      ],
      "text/plain": [
       "                                                text  toxic  \\\n",
       "0  explanation\\nwhy the edits made under my usern...      0   \n",
       "1  d'aww! he matches this background colour i'm s...      0   \n",
       "2  hey man, i'm really not trying to edit war. it...      0   \n",
       "3  \"\\nmore\\ni can't make any real suggestions on ...      0   \n",
       "4  you, sir, are my hero. any chance you remember...      0   \n",
       "5  \"\\n\\ncongratulations from me as well, use the ...      0   \n",
       "6       cocksucker before you piss around on my work      1   \n",
       "7  your vandalism to the matt shirvington article...      0   \n",
       "8  sorry if the word 'nonsense' was offensive to ...      0   \n",
       "9  alignment on this subject and which are contra...      0   \n",
       "\n",
       "                                             text_cl  \n",
       "0  Explanation Why the edits made under my userna...  \n",
       "1  D aww He matches this background colour I m se...  \n",
       "2  Hey man I m really not trying to edit war It s...  \n",
       "3  More I can t make any real suggestions on impr...  \n",
       "4  You sir are my hero Any chance you remember wh...  \n",
       "5  Congratulations from me as well use the tools ...  \n",
       "6       COCKSUCKER BEFORE YOU PISS AROUND ON MY WORK  \n",
       "7  Your vandalism to the Matt Shirvington article...  \n",
       "8  Sorry if the word nonsense was offensive to yo...  \n",
       "9  alignment on this subject and which are contra...  "
      ]
     },
     "execution_count": 11,
     "metadata": {},
     "output_type": "execute_result"
    }
   ],
   "source": [
    "toxic_comments.head(10)"
   ]
  },
  {
   "cell_type": "markdown",
   "metadata": {},
   "source": [
    "Тексты почистили, далее необходимо лемматизировать текст"
   ]
  },
  {
   "cell_type": "code",
   "execution_count": 12,
   "metadata": {},
   "outputs": [],
   "source": [
    "lem = WordNetLemmatizer()"
   ]
  },
  {
   "cell_type": "code",
   "execution_count": 13,
   "metadata": {},
   "outputs": [],
   "source": [
    "def lemmatiz(text):\n",
    "    a = nltk.word_tokenize(text)\n",
    "    b = ' '.join([lem.lemmatize(w) for w in a])\n",
    "    return b"
   ]
  },
  {
   "cell_type": "code",
   "execution_count": 14,
   "metadata": {},
   "outputs": [],
   "source": [
    "for a in range(toxic_comments.shape[0]):\n",
    "    toxic_comments.loc[a, 'text_cl_lm'] = lemmatiz(toxic_comments.loc[a, 'text_cl'])"
   ]
  },
  {
   "cell_type": "markdown",
   "metadata": {},
   "source": [
    "Разделим все данные на тестовую и обучающую выборки, кросс валидацию использовать из за массивного объема данных затратно по времени, используем валидационную выборку"
   ]
  },
  {
   "cell_type": "code",
   "execution_count": 15,
   "metadata": {},
   "outputs": [],
   "source": [
    "corpus_cl_lem = toxic_comments['text_cl_lm']"
   ]
  },
  {
   "cell_type": "code",
   "execution_count": 16,
   "metadata": {},
   "outputs": [],
   "source": [
    "train, val_test, target_train, target_val_test = train_test_split(\n",
    "    corpus_cl_lem, target, test_size=0.4, random_state=12345)\n",
    "valid, test, target_valid, target_test = train_test_split(\n",
    "    val_test, target_val_test, test_size=0.5, random_state=12345)"
   ]
  },
  {
   "cell_type": "markdown",
   "metadata": {},
   "source": [
    "Оценим частоту упоминания определенных слов величиной TFIDF с использованием стоп слов"
   ]
  },
  {
   "cell_type": "code",
   "execution_count": 17,
   "metadata": {},
   "outputs": [
    {
     "name": "stderr",
     "output_type": "stream",
     "text": [
      "[nltk_data] Downloading package stopwords to /home/jovyan/nltk_data...\n",
      "[nltk_data]   Package stopwords is already up-to-date!\n"
     ]
    }
   ],
   "source": [
    "nltk.download('stopwords')\n",
    "stopwords = set(stopwords.words('english'))\n",
    "count_tf_idf = TfidfVectorizer(stop_words=stopwords)\n",
    "train_idf = count_tf_idf.fit_transform(train)"
   ]
  },
  {
   "cell_type": "code",
   "execution_count": 18,
   "metadata": {},
   "outputs": [
    {
     "data": {
      "text/plain": [
       "<95575x121110 sparse matrix of type '<class 'numpy.float64'>'\n",
       "\twith 2598819 stored elements in Compressed Sparse Row format>"
      ]
     },
     "execution_count": 18,
     "metadata": {},
     "output_type": "execute_result"
    }
   ],
   "source": [
    "test_idf = count_tf_idf.transform(test)\n",
    "train_idf"
   ]
  },
  {
   "cell_type": "code",
   "execution_count": 19,
   "metadata": {},
   "outputs": [
    {
     "data": {
      "text/plain": [
       "<31858x121110 sparse matrix of type '<class 'numpy.float64'>'\n",
       "\twith 836790 stored elements in Compressed Sparse Row format>"
      ]
     },
     "execution_count": 19,
     "metadata": {},
     "output_type": "execute_result"
    }
   ],
   "source": [
    "valid_idf = count_tf_idf.transform(valid)\n",
    "valid_idf"
   ]
  },
  {
   "cell_type": "code",
   "execution_count": 20,
   "metadata": {},
   "outputs": [
    {
     "data": {
      "text/plain": [
       "<95575x121110 sparse matrix of type '<class 'numpy.float64'>'\n",
       "\twith 2598819 stored elements in Compressed Sparse Row format>"
      ]
     },
     "execution_count": 20,
     "metadata": {},
     "output_type": "execute_result"
    }
   ],
   "source": [
    "train_idf"
   ]
  },
  {
   "cell_type": "markdown",
   "metadata": {},
   "source": [
    "В ходе подготовки данных были проведены следующие манипуляции: \n",
    "1. Текст комментариев приведен к строчному виду\n",
    "2. Удалены неинформативные символы\n",
    "3. проведена лиммитизация текста\n",
    "4. Оценена частота употребления каждого слова\n"
   ]
  },
  {
   "cell_type": "markdown",
   "metadata": {},
   "source": [
    "## Обучение"
   ]
  },
  {
   "cell_type": "markdown",
   "metadata": {},
   "source": [
    "Для обучения использовали следующие модели: дерево решений, случайный лес и логистическая регрессия, параметры подбирали по валидационной выборке"
   ]
  },
  {
   "cell_type": "code",
   "execution_count": 21,
   "metadata": {},
   "outputs": [],
   "source": [
    "def F1(model, TR, TG):\n",
    "    pr = model.predict(TR)\n",
    "    a = f1_score(TG, pr)\n",
    "    return a"
   ]
  },
  {
   "cell_type": "code",
   "execution_count": 22,
   "metadata": {},
   "outputs": [
    {
     "name": "stdout",
     "output_type": "stream",
     "text": [
      "max_depth = 100 : 0.7174389216512215\n",
      "max_depth = 110 : 0.7208563304900485\n",
      "max_depth = 120 : 0.7215842902313195\n",
      "max_depth = 130 : 0.7232068908398213\n",
      "max_depth = 140 : 0.7229472988600694\n",
      "max_depth = 150 : 0.7200791295746786\n"
     ]
    }
   ],
   "source": [
    "for i in range(100,151,10):\n",
    "    model = DecisionTreeClassifier(random_state=12345, max_depth = i)\n",
    "    model.fit(train_idf, target_train)\n",
    "    predictions_valid = model.predict(valid_idf)\n",
    "    print(\"max_depth =\", i, \": \", end='')\n",
    "    print(f1_score(target_valid, predictions_valid))"
   ]
  },
  {
   "cell_type": "code",
   "execution_count": 23,
   "metadata": {},
   "outputs": [
    {
     "data": {
      "text/plain": [
       "DecisionTreeClassifier(max_depth=150)"
      ]
     },
     "execution_count": 23,
     "metadata": {},
     "output_type": "execute_result"
    }
   ],
   "source": [
    "#params_TREE = {'max_depth': [ 1, 5, 10]}\n",
    "TREE = DecisionTreeClassifier(max_depth = 150)\n",
    "#TREE = GridSearchCV(model_TREE, param_grid=params_TREE, scoring='f1', cv=3, verbose=True, n_jobs=-1)\n",
    "TREE.fit(train_idf, target_train)\n",
    "#TREE.best_params_\n"
   ]
  },
  {
   "cell_type": "code",
   "execution_count": 24,
   "metadata": {},
   "outputs": [],
   "source": [
    "#best_est = 0\n",
    "#best_depth = 0\n",
    "#best_result = 0\n",
    "#for est in range(100, 121, 10):\n",
    "#    for depth in range (100, 121, 20):\n",
    "#        model = RandomForestClassifier(random_state=12345,n_estimators=est, max_depth=depth)\n",
    "#        model.fit(train_idf, target_train)\n",
    "#        predictions_valid = model.predict(valid_idf)\n",
    "#       result = f1_score(target_valid, predictions_valid)\n",
    "#        if result > best_result:\n",
    "#            best_model = model\n",
    "#            best_result = result\n",
    "#            best_est = est\n",
    "#            best_depth = depth\n",
    "#print(\"Метрики качества\", best_result, \"Количество деревьев:\", best_est, \"Максимальная глубина:\", best_depth)"
   ]
  },
  {
   "cell_type": "code",
   "execution_count": 25,
   "metadata": {},
   "outputs": [
    {
     "data": {
      "text/plain": [
       "RandomForestClassifier(n_estimators=90)"
      ]
     },
     "execution_count": 25,
     "metadata": {},
     "output_type": "execute_result"
    }
   ],
   "source": [
    "params_RFC = {'n_estimators': range(10, 150, 10)}\n",
    "model_RFC = RandomForestClassifier()\n",
    "#RFC = GridSearchCV(model_RFC, param_grid=params_RFC, scoring='f1', cv=3)\n",
    "RFC = RandomForestClassifier(n_estimators = 90)\n",
    "RFC.fit(train_idf, target_train)\n",
    "#RFC.best_params_"
   ]
  },
  {
   "cell_type": "markdown",
   "metadata": {},
   "source": [
    "При обучении модели кросс валидацией били подобраны параметры на 10 000 строк датасета. Наибольшее значения метрики при колличестве деревьев равное 90. "
   ]
  },
  {
   "cell_type": "code",
   "execution_count": 26,
   "metadata": {},
   "outputs": [
    {
     "name": "stderr",
     "output_type": "stream",
     "text": [
      "/opt/conda/lib/python3.9/site-packages/sklearn/linear_model/_logistic.py:763: ConvergenceWarning: lbfgs failed to converge (status=1):\n",
      "STOP: TOTAL NO. of ITERATIONS REACHED LIMIT.\n",
      "\n",
      "Increase the number of iterations (max_iter) or scale the data as shown in:\n",
      "    https://scikit-learn.org/stable/modules/preprocessing.html\n",
      "Please also refer to the documentation for alternative solver options:\n",
      "    https://scikit-learn.org/stable/modules/linear_model.html#logistic-regression\n",
      "  n_iter_i = _check_optimize_result(\n"
     ]
    },
    {
     "data": {
      "text/plain": [
       "LogisticRegression(C=10, class_weight='balanced')"
      ]
     },
     "execution_count": 26,
     "metadata": {},
     "output_type": "execute_result"
    }
   ],
   "source": [
    "model_LR = LogisticRegression(solver='lbfgs', class_weight = 'balanced', C = 10) \n",
    "model_LR.fit(train_idf, target_train)"
   ]
  },
  {
   "cell_type": "code",
   "execution_count": 27,
   "metadata": {},
   "outputs": [],
   "source": [
    "#def F1_cv(model, features, target): \n",
    "#    a = cross_val_score(model, features, target, cv=3, scoring='f1') \n",
    "#    final_score = abs(sum(a) / len(a))\n",
    "#    return final_score"
   ]
  },
  {
   "cell_type": "code",
   "execution_count": 28,
   "metadata": {},
   "outputs": [
    {
     "data": {
      "text/plain": [
       "0.7247857613711272"
      ]
     },
     "execution_count": 28,
     "metadata": {},
     "output_type": "execute_result"
    }
   ],
   "source": [
    "TREE_F1 = F1(TREE, valid_idf, target_valid)\n",
    "#TREE_F1_cv = F1_cv(TREE, train_idf, target_train)\n",
    "TREE_F1"
   ]
  },
  {
   "cell_type": "code",
   "execution_count": 29,
   "metadata": {},
   "outputs": [
    {
     "data": {
      "text/plain": [
       "0.7014415781487101"
      ]
     },
     "execution_count": 29,
     "metadata": {},
     "output_type": "execute_result"
    }
   ],
   "source": [
    "RFC_F1 = F1(RFC, valid_idf, target_valid)\n",
    "#RFC_F1_cv = F1_cv(RFC, train_idf, target_train)\n",
    "RFC_F1"
   ]
  },
  {
   "cell_type": "code",
   "execution_count": 30,
   "metadata": {},
   "outputs": [
    {
     "data": {
      "text/plain": [
       "0.7617823479005998"
      ]
     },
     "execution_count": 30,
     "metadata": {},
     "output_type": "execute_result"
    }
   ],
   "source": [
    "LR_F1 = F1(model_LR, valid_idf, target_valid)\n",
    "#LR_F1_cv = F1_cv(model_LR, train_idf, target_train)\n",
    "LR_F1"
   ]
  },
  {
   "cell_type": "code",
   "execution_count": 31,
   "metadata": {},
   "outputs": [
    {
     "data": {
      "text/html": [
       "<div>\n",
       "<style scoped>\n",
       "    .dataframe tbody tr th:only-of-type {\n",
       "        vertical-align: middle;\n",
       "    }\n",
       "\n",
       "    .dataframe tbody tr th {\n",
       "        vertical-align: top;\n",
       "    }\n",
       "\n",
       "    .dataframe thead th {\n",
       "        text-align: right;\n",
       "    }\n",
       "</style>\n",
       "<table border=\"1\" class=\"dataframe\">\n",
       "  <thead>\n",
       "    <tr style=\"text-align: right;\">\n",
       "      <th></th>\n",
       "      <th>F1</th>\n",
       "    </tr>\n",
       "  </thead>\n",
       "  <tbody>\n",
       "    <tr>\n",
       "      <th>DecisionTreeClassifier</th>\n",
       "      <td>0.724786</td>\n",
       "    </tr>\n",
       "    <tr>\n",
       "      <th>RandomForestClassifier</th>\n",
       "      <td>0.701442</td>\n",
       "    </tr>\n",
       "    <tr>\n",
       "      <th>LogisticRegression</th>\n",
       "      <td>0.761782</td>\n",
       "    </tr>\n",
       "  </tbody>\n",
       "</table>\n",
       "</div>"
      ],
      "text/plain": [
       "                              F1\n",
       "DecisionTreeClassifier  0.724786\n",
       "RandomForestClassifier  0.701442\n",
       "LogisticRegression      0.761782"
      ]
     },
     "execution_count": 31,
     "metadata": {},
     "output_type": "execute_result"
    }
   ],
   "source": [
    "summ = pd.DataFrame(\n",
    "    {'F1': [TREE_F1, RFC_F1, LR_F1],\n",
    "    #'F1_cv': [TREE_F1_cv, RFC_F1_cv, LR_F1_cv]\n",
    "    },\n",
    "    index = ['DecisionTreeClassifier', 'RandomForestClassifier', 'LogisticRegression'])\n",
    "summ"
   ]
  },
  {
   "cell_type": "markdown",
   "metadata": {},
   "source": [
    "## Выводы"
   ]
  },
  {
   "cell_type": "code",
   "execution_count": 32,
   "metadata": {},
   "outputs": [],
   "source": [
    "LR_F1_T = F1(model_LR, test_idf, target_test)"
   ]
  },
  {
   "cell_type": "code",
   "execution_count": 33,
   "metadata": {},
   "outputs": [
    {
     "name": "stdout",
     "output_type": "stream",
     "text": [
      "результат метрики F1 на тестовой выборке = 0.7517854540154497\n"
     ]
    }
   ],
   "source": [
    "print(\"результат метрики F1 на тестовой выборке =\", LR_F1_T)"
   ]
  },
  {
   "cell_type": "markdown",
   "metadata": {},
   "source": [
    "Результат работы выбранной модели на тренировочной выборке удавлетворительный (0,75) "
   ]
  },
  {
   "cell_type": "markdown",
   "metadata": {},
   "source": [
    "### общий вывод"
   ]
  },
  {
   "cell_type": "markdown",
   "metadata": {},
   "source": [
    "В ходе подготовки данных были проведены следующие манипуляции:\n",
    "\n",
    "Текст комментариев приведен к строчному виду\n",
    "Удалены неинформативные символы\n",
    "проведена лиммитизация текста\n",
    "Оценена частота употребления каждого слова\n",
    "\n",
    "Для обучения изучали следующие модели: дерево решений, случайный лес и логистическая регрессия, параметры подбирали по валидационной выборке и кросс валидацией\n",
    "\n",
    "Лучший результат показала логистическая регрессия со следующими параметрами:\n",
    "LogisticRegression(solver='lbfgs', class_weight = 'balanced', C = 10)"
   ]
  }
 ],
 "metadata": {
  "ExecuteTimeLog": [
   {
    "duration": 1244,
    "start_time": "2023-02-18T07:17:44.201Z"
   },
   {
    "duration": 3437,
    "start_time": "2023-02-18T07:17:45.447Z"
   },
   {
    "duration": 13,
    "start_time": "2023-02-18T07:17:48.886Z"
   },
   {
    "duration": 42,
    "start_time": "2023-02-18T07:18:21.002Z"
   },
   {
    "duration": 12,
    "start_time": "2023-02-18T07:18:58.477Z"
   },
   {
    "duration": 45,
    "start_time": "2023-02-18T07:22:48.401Z"
   },
   {
    "duration": 1130,
    "start_time": "2023-02-18T07:22:52.781Z"
   },
   {
    "duration": 3575,
    "start_time": "2023-02-18T07:22:53.913Z"
   },
   {
    "duration": 16,
    "start_time": "2023-02-18T07:22:57.490Z"
   },
   {
    "duration": 41,
    "start_time": "2023-02-18T07:22:57.509Z"
   },
   {
    "duration": 11,
    "start_time": "2023-02-18T07:22:57.553Z"
   },
   {
    "duration": 1110,
    "start_time": "2023-02-18T07:23:49.330Z"
   },
   {
    "duration": 3561,
    "start_time": "2023-02-18T07:23:51.044Z"
   },
   {
    "duration": 15,
    "start_time": "2023-02-18T07:23:55.593Z"
   },
   {
    "duration": 34,
    "start_time": "2023-02-18T07:23:56.477Z"
   },
   {
    "duration": 12,
    "start_time": "2023-02-18T07:23:57.665Z"
   },
   {
    "duration": 63,
    "start_time": "2023-02-18T07:24:04.218Z"
   },
   {
    "duration": 1201,
    "start_time": "2023-02-18T07:24:06.981Z"
   },
   {
    "duration": 3429,
    "start_time": "2023-02-18T07:24:08.184Z"
   },
   {
    "duration": 17,
    "start_time": "2023-02-18T07:24:11.616Z"
   },
   {
    "duration": 40,
    "start_time": "2023-02-18T07:24:11.635Z"
   },
   {
    "duration": 29,
    "start_time": "2023-02-18T07:24:11.678Z"
   },
   {
    "duration": 1070,
    "start_time": "2023-02-18T07:25:15.147Z"
   },
   {
    "duration": 3475,
    "start_time": "2023-02-18T07:25:17.304Z"
   },
   {
    "duration": 15,
    "start_time": "2023-02-18T07:25:21.456Z"
   },
   {
    "duration": 33,
    "start_time": "2023-02-18T07:25:22.150Z"
   },
   {
    "duration": 11,
    "start_time": "2023-02-18T07:25:22.643Z"
   },
   {
    "duration": 1161,
    "start_time": "2023-02-18T07:27:00.755Z"
   },
   {
    "duration": 3482,
    "start_time": "2023-02-18T07:27:02.797Z"
   },
   {
    "duration": 17,
    "start_time": "2023-02-18T07:27:06.281Z"
   },
   {
    "duration": 41,
    "start_time": "2023-02-18T07:27:06.299Z"
   },
   {
    "duration": 10,
    "start_time": "2023-02-18T07:27:07.946Z"
   },
   {
    "duration": 1196,
    "start_time": "2023-02-18T07:27:24.581Z"
   },
   {
    "duration": 3362,
    "start_time": "2023-02-18T07:27:26.437Z"
   },
   {
    "duration": 15,
    "start_time": "2023-02-18T07:27:29.801Z"
   },
   {
    "duration": 39,
    "start_time": "2023-02-18T07:27:29.818Z"
   },
   {
    "duration": 11,
    "start_time": "2023-02-18T07:27:29.859Z"
   },
   {
    "duration": 108,
    "start_time": "2023-02-18T07:27:55.085Z"
   },
   {
    "duration": 13,
    "start_time": "2023-02-18T07:28:10.745Z"
   },
   {
    "duration": 4,
    "start_time": "2023-02-18T07:28:35.633Z"
   },
   {
    "duration": 12,
    "start_time": "2023-02-18T07:28:37.215Z"
   },
   {
    "duration": 1338,
    "start_time": "2023-02-18T10:31:53.794Z"
   },
   {
    "duration": 2508,
    "start_time": "2023-02-18T10:31:55.134Z"
   },
   {
    "duration": 13,
    "start_time": "2023-02-18T10:31:58.232Z"
   },
   {
    "duration": 40,
    "start_time": "2023-02-18T10:31:59.181Z"
   },
   {
    "duration": 14,
    "start_time": "2023-02-18T10:32:00.189Z"
   },
   {
    "duration": 10,
    "start_time": "2023-02-18T10:32:01.318Z"
   },
   {
    "duration": 4,
    "start_time": "2023-02-18T10:32:02.886Z"
   },
   {
    "duration": 160,
    "start_time": "2023-02-18T10:32:05.568Z"
   },
   {
    "duration": 16,
    "start_time": "2023-02-18T10:32:18.453Z"
   },
   {
    "duration": 3,
    "start_time": "2023-02-18T10:32:36.156Z"
   },
   {
    "duration": 3,
    "start_time": "2023-02-18T10:32:41.320Z"
   },
   {
    "duration": 17,
    "start_time": "2023-02-18T10:32:42.047Z"
   },
   {
    "duration": 2733,
    "start_time": "2023-02-18T10:33:03.296Z"
   },
   {
    "duration": 3,
    "start_time": "2023-02-18T10:33:09.023Z"
   },
   {
    "duration": 4,
    "start_time": "2023-02-18T10:33:10.268Z"
   },
   {
    "duration": 2975421,
    "start_time": "2023-02-18T10:33:31.394Z"
   },
   {
    "duration": 26,
    "start_time": "2023-02-18T11:23:06.817Z"
   },
   {
    "duration": 0,
    "start_time": "2023-02-18T11:23:06.846Z"
   },
   {
    "duration": 4,
    "start_time": "2023-02-18T11:23:46.349Z"
   },
   {
    "duration": 14,
    "start_time": "2023-02-18T11:23:54.466Z"
   },
   {
    "duration": 8,
    "start_time": "2023-02-18T11:25:14.980Z"
   },
   {
    "duration": 3,
    "start_time": "2023-02-18T11:26:43.932Z"
   },
   {
    "duration": 861,
    "start_time": "2023-02-18T11:26:44.836Z"
   },
   {
    "duration": 15,
    "start_time": "2023-02-18T11:26:47.124Z"
   },
   {
    "duration": 30,
    "start_time": "2023-02-18T11:26:48.429Z"
   },
   {
    "duration": 10,
    "start_time": "2023-02-18T11:26:53.374Z"
   },
   {
    "duration": 3,
    "start_time": "2023-02-18T11:26:54.733Z"
   },
   {
    "duration": 9,
    "start_time": "2023-02-18T11:26:55.628Z"
   },
   {
    "duration": 13,
    "start_time": "2023-02-18T11:28:48.838Z"
   },
   {
    "duration": 63897,
    "start_time": "2023-02-18T11:30:56.811Z"
   },
   {
    "duration": 14,
    "start_time": "2023-02-18T11:33:40.564Z"
   },
   {
    "duration": 4,
    "start_time": "2023-02-18T11:33:48.504Z"
   },
   {
    "duration": 772,
    "start_time": "2023-02-18T11:33:49.267Z"
   },
   {
    "duration": 8,
    "start_time": "2023-02-18T11:33:50.041Z"
   },
   {
    "duration": 29,
    "start_time": "2023-02-18T11:33:50.858Z"
   },
   {
    "duration": 10,
    "start_time": "2023-02-18T11:33:52.511Z"
   },
   {
    "duration": 2,
    "start_time": "2023-02-18T11:33:53.515Z"
   },
   {
    "duration": 9,
    "start_time": "2023-02-18T11:33:54.528Z"
   },
   {
    "duration": 398,
    "start_time": "2023-02-18T11:34:34.176Z"
   },
   {
    "duration": 7,
    "start_time": "2023-02-18T11:34:55.656Z"
   },
   {
    "duration": 367,
    "start_time": "2023-02-18T11:36:04.180Z"
   },
   {
    "duration": 9,
    "start_time": "2023-02-18T11:36:11.028Z"
   },
   {
    "duration": 11,
    "start_time": "2023-02-18T11:38:01.656Z"
   },
   {
    "duration": 913,
    "start_time": "2023-02-18T11:38:15.520Z"
   },
   {
    "duration": 9,
    "start_time": "2023-02-18T11:38:20.777Z"
   },
   {
    "duration": 10,
    "start_time": "2023-02-18T11:41:28.734Z"
   },
   {
    "duration": 311,
    "start_time": "2023-02-18T11:41:57.092Z"
   },
   {
    "duration": 8,
    "start_time": "2023-02-18T11:42:01.722Z"
   },
   {
    "duration": 4,
    "start_time": "2023-02-18T11:42:15.637Z"
   },
   {
    "duration": 311,
    "start_time": "2023-02-18T11:42:16.749Z"
   },
   {
    "duration": 329,
    "start_time": "2023-02-18T11:42:17.422Z"
   },
   {
    "duration": 9,
    "start_time": "2023-02-18T11:42:18.518Z"
   },
   {
    "duration": 2,
    "start_time": "2023-02-18T11:42:23.479Z"
   },
   {
    "duration": 3,
    "start_time": "2023-02-18T11:42:24.324Z"
   },
   {
    "duration": 8,
    "start_time": "2023-02-18T11:42:28.597Z"
   },
   {
    "duration": 3,
    "start_time": "2023-02-18T11:42:32.775Z"
   },
   {
    "duration": 964,
    "start_time": "2023-02-18T11:42:34.842Z"
   },
   {
    "duration": 8,
    "start_time": "2023-02-18T11:42:38.343Z"
   },
   {
    "duration": 3,
    "start_time": "2023-02-18T11:44:20.097Z"
   },
   {
    "duration": 3,
    "start_time": "2023-02-18T11:44:21.972Z"
   },
   {
    "duration": 205,
    "start_time": "2023-02-18T11:44:25.692Z"
   },
   {
    "duration": 3,
    "start_time": "2023-02-18T11:45:24.696Z"
   },
   {
    "duration": 10,
    "start_time": "2023-02-18T11:45:33.576Z"
   },
   {
    "duration": 10,
    "start_time": "2023-02-18T11:46:00.089Z"
   },
   {
    "duration": 5,
    "start_time": "2023-02-18T11:47:56.988Z"
   },
   {
    "duration": 60,
    "start_time": "2023-02-18T11:47:58.069Z"
   },
   {
    "duration": 9,
    "start_time": "2023-02-18T11:48:03.893Z"
   },
   {
    "duration": 4,
    "start_time": "2023-02-18T11:48:40.840Z"
   },
   {
    "duration": 120,
    "start_time": "2023-02-18T11:48:48.072Z"
   },
   {
    "duration": 9,
    "start_time": "2023-02-18T11:48:51.540Z"
   },
   {
    "duration": 3067,
    "start_time": "2023-02-18T11:49:17.077Z"
   },
   {
    "duration": 4373,
    "start_time": "2023-02-18T11:49:31.985Z"
   },
   {
    "duration": 9,
    "start_time": "2023-02-18T11:49:53.735Z"
   },
   {
    "duration": 4624,
    "start_time": "2023-02-18T11:50:08.458Z"
   },
   {
    "duration": 3,
    "start_time": "2023-02-18T11:50:26.519Z"
   },
   {
    "duration": 9,
    "start_time": "2023-02-18T11:50:27.733Z"
   },
   {
    "duration": 8,
    "start_time": "2023-02-18T11:50:48.128Z"
   },
   {
    "duration": 19,
    "start_time": "2023-02-18T11:51:04.905Z"
   },
   {
    "duration": 3,
    "start_time": "2023-02-18T11:51:36.939Z"
   },
   {
    "duration": 13,
    "start_time": "2023-02-18T11:51:37.588Z"
   },
   {
    "duration": 14,
    "start_time": "2023-02-18T11:52:08.243Z"
   },
   {
    "duration": 2,
    "start_time": "2023-02-18T11:52:23.016Z"
   },
   {
    "duration": 22,
    "start_time": "2023-02-18T11:52:23.457Z"
   },
   {
    "duration": 3,
    "start_time": "2023-02-18T11:52:56.399Z"
   },
   {
    "duration": 5,
    "start_time": "2023-02-18T11:52:57.053Z"
   },
   {
    "duration": 8,
    "start_time": "2023-02-18T11:52:58.927Z"
   },
   {
    "duration": 17,
    "start_time": "2023-02-18T11:53:11.395Z"
   },
   {
    "duration": 15,
    "start_time": "2023-02-18T11:53:17.467Z"
   },
   {
    "duration": 7,
    "start_time": "2023-02-18T11:53:18.396Z"
   },
   {
    "duration": 4471,
    "start_time": "2023-02-18T11:56:56.183Z"
   },
   {
    "duration": 70,
    "start_time": "2023-02-18T11:58:32.156Z"
   },
   {
    "duration": 10,
    "start_time": "2023-02-18T11:58:37.417Z"
   },
   {
    "duration": 4277,
    "start_time": "2023-02-18T11:58:48.682Z"
   },
   {
    "duration": 153,
    "start_time": "2023-02-18T11:59:17.203Z"
   },
   {
    "duration": 4360,
    "start_time": "2023-02-18T11:59:19.701Z"
   },
   {
    "duration": 4334,
    "start_time": "2023-02-18T11:59:26.113Z"
   },
   {
    "duration": 3,
    "start_time": "2023-02-18T11:59:37.753Z"
   },
   {
    "duration": 5,
    "start_time": "2023-02-18T11:59:38.379Z"
   },
   {
    "duration": 15,
    "start_time": "2023-02-18T11:59:38.840Z"
   },
   {
    "duration": 15,
    "start_time": "2023-02-18T11:59:39.278Z"
   },
   {
    "duration": 8,
    "start_time": "2023-02-18T11:59:39.711Z"
   },
   {
    "duration": 32,
    "start_time": "2023-02-18T12:01:41.996Z"
   },
   {
    "duration": 3,
    "start_time": "2023-02-18T12:01:43.559Z"
   },
   {
    "duration": 5,
    "start_time": "2023-02-18T12:01:43.989Z"
   },
   {
    "duration": 16,
    "start_time": "2023-02-18T12:01:45.023Z"
   },
   {
    "duration": 17,
    "start_time": "2023-02-18T12:01:45.691Z"
   },
   {
    "duration": 7,
    "start_time": "2023-02-18T12:01:46.453Z"
   },
   {
    "duration": 5,
    "start_time": "2023-02-18T12:02:01.263Z"
   },
   {
    "duration": 8,
    "start_time": "2023-02-18T12:02:01.623Z"
   },
   {
    "duration": 286,
    "start_time": "2023-02-18T12:05:12.343Z"
   },
   {
    "duration": 249,
    "start_time": "2023-02-18T12:05:22.138Z"
   },
   {
    "duration": 40,
    "start_time": "2023-02-18T12:05:29.033Z"
   },
   {
    "duration": 7,
    "start_time": "2023-02-18T12:05:31.608Z"
   },
   {
    "duration": 4639,
    "start_time": "2023-02-18T12:06:55.123Z"
   },
   {
    "duration": 30,
    "start_time": "2023-02-18T12:07:03.655Z"
   },
   {
    "duration": 3,
    "start_time": "2023-02-18T12:07:04.467Z"
   },
   {
    "duration": 5,
    "start_time": "2023-02-18T12:07:04.878Z"
   },
   {
    "duration": 8,
    "start_time": "2023-02-18T12:07:05.347Z"
   },
   {
    "duration": 5,
    "start_time": "2023-02-18T12:07:05.948Z"
   },
   {
    "duration": 7,
    "start_time": "2023-02-18T12:07:07.269Z"
   },
   {
    "duration": 4767,
    "start_time": "2023-02-18T12:07:24.883Z"
   },
   {
    "duration": 33,
    "start_time": "2023-02-18T12:07:29.651Z"
   },
   {
    "duration": 3,
    "start_time": "2023-02-18T12:07:29.686Z"
   },
   {
    "duration": 5,
    "start_time": "2023-02-18T12:07:29.704Z"
   },
   {
    "duration": 9,
    "start_time": "2023-02-18T12:07:29.711Z"
   },
   {
    "duration": 5,
    "start_time": "2023-02-18T12:07:29.721Z"
   },
   {
    "duration": 10,
    "start_time": "2023-02-18T12:07:29.727Z"
   },
   {
    "duration": 12,
    "start_time": "2023-02-18T12:08:38.133Z"
   },
   {
    "duration": 1290,
    "start_time": "2023-02-18T12:08:54.725Z"
   },
   {
    "duration": 887,
    "start_time": "2023-02-18T12:08:56.017Z"
   },
   {
    "duration": 16,
    "start_time": "2023-02-18T12:08:56.906Z"
   },
   {
    "duration": 36,
    "start_time": "2023-02-18T12:08:56.925Z"
   },
   {
    "duration": 13,
    "start_time": "2023-02-18T12:08:56.962Z"
   },
   {
    "duration": 27,
    "start_time": "2023-02-18T12:08:56.977Z"
   },
   {
    "duration": 14,
    "start_time": "2023-02-18T12:08:57.006Z"
   },
   {
    "duration": 13,
    "start_time": "2023-02-18T12:08:57.022Z"
   },
   {
    "duration": 888954,
    "start_time": "2023-02-18T12:08:57.037Z"
   },
   {
    "duration": 0,
    "start_time": "2023-02-18T12:23:45.993Z"
   },
   {
    "duration": 0,
    "start_time": "2023-02-18T12:23:45.994Z"
   },
   {
    "duration": 0,
    "start_time": "2023-02-18T12:23:45.995Z"
   },
   {
    "duration": 0,
    "start_time": "2023-02-18T12:23:46.003Z"
   },
   {
    "duration": 0,
    "start_time": "2023-02-18T12:23:46.004Z"
   },
   {
    "duration": 0,
    "start_time": "2023-02-18T12:23:46.005Z"
   },
   {
    "duration": 0,
    "start_time": "2023-02-18T12:23:46.006Z"
   },
   {
    "duration": 0,
    "start_time": "2023-02-18T12:23:46.008Z"
   },
   {
    "duration": 0,
    "start_time": "2023-02-18T12:23:46.009Z"
   },
   {
    "duration": 0,
    "start_time": "2023-02-18T12:23:46.010Z"
   },
   {
    "duration": 0,
    "start_time": "2023-02-18T12:23:46.011Z"
   },
   {
    "duration": 0,
    "start_time": "2023-02-18T12:23:46.012Z"
   },
   {
    "duration": 0,
    "start_time": "2023-02-18T12:23:46.013Z"
   },
   {
    "duration": 0,
    "start_time": "2023-02-18T12:23:46.014Z"
   },
   {
    "duration": 0,
    "start_time": "2023-02-18T12:23:46.015Z"
   },
   {
    "duration": 0,
    "start_time": "2023-02-18T12:23:46.016Z"
   },
   {
    "duration": 1264,
    "start_time": "2023-02-18T12:24:08.836Z"
   },
   {
    "duration": 894,
    "start_time": "2023-02-18T12:24:10.102Z"
   },
   {
    "duration": 13,
    "start_time": "2023-02-18T12:24:10.998Z"
   },
   {
    "duration": 30,
    "start_time": "2023-02-18T12:24:11.012Z"
   },
   {
    "duration": 10,
    "start_time": "2023-02-18T12:24:11.044Z"
   },
   {
    "duration": 5,
    "start_time": "2023-02-18T12:24:11.055Z"
   },
   {
    "duration": 11,
    "start_time": "2023-02-18T12:24:11.061Z"
   },
   {
    "duration": 4,
    "start_time": "2023-02-18T12:24:11.073Z"
   },
   {
    "duration": 601110,
    "start_time": "2023-02-18T12:24:11.104Z"
   },
   {
    "duration": 967692,
    "start_time": "2023-02-18T12:34:12.215Z"
   },
   {
    "duration": 9,
    "start_time": "2023-02-18T12:50:19.909Z"
   },
   {
    "duration": 5,
    "start_time": "2023-02-18T12:50:19.922Z"
   },
   {
    "duration": 5,
    "start_time": "2023-02-18T12:50:19.928Z"
   },
   {
    "duration": 706100,
    "start_time": "2023-02-18T12:50:19.936Z"
   },
   {
    "duration": 2,
    "start_time": "2023-02-18T13:02:06.038Z"
   },
   {
    "duration": 45,
    "start_time": "2023-02-18T13:02:06.042Z"
   },
   {
    "duration": 7139,
    "start_time": "2023-02-18T13:02:06.089Z"
   },
   {
    "duration": 66869,
    "start_time": "2023-02-18T13:02:13.229Z"
   },
   {
    "duration": 328584,
    "start_time": "2023-02-18T13:03:20.104Z"
   },
   {
    "duration": 51019,
    "start_time": "2023-02-18T13:08:48.690Z"
   },
   {
    "duration": 92,
    "start_time": "2023-02-18T13:09:39.712Z"
   },
   {
    "duration": 158,
    "start_time": "2023-02-18T13:09:39.806Z"
   },
   {
    "duration": 143,
    "start_time": "2023-02-18T13:09:39.966Z"
   },
   {
    "duration": 42,
    "start_time": "2023-02-18T13:09:40.111Z"
   },
   {
    "duration": 8,
    "start_time": "2023-02-18T13:09:40.155Z"
   },
   {
    "duration": 1573,
    "start_time": "2023-02-18T13:42:41.431Z"
   },
   {
    "duration": 143,
    "start_time": "2023-02-18T13:43:59.904Z"
   },
   {
    "duration": 20,
    "start_time": "2023-02-18T13:45:18.960Z"
   },
   {
    "duration": 21,
    "start_time": "2023-02-18T13:47:03.640Z"
   },
   {
    "duration": 15,
    "start_time": "2023-02-18T13:47:32.702Z"
   },
   {
    "duration": 15,
    "start_time": "2023-02-18T13:49:06.347Z"
   },
   {
    "duration": 9,
    "start_time": "2023-02-18T13:49:21.679Z"
   },
   {
    "duration": 5,
    "start_time": "2023-02-18T13:49:28.470Z"
   },
   {
    "duration": 5,
    "start_time": "2023-02-18T13:50:03.241Z"
   },
   {
    "duration": 10,
    "start_time": "2023-02-18T13:50:18.853Z"
   },
   {
    "duration": 9,
    "start_time": "2023-02-18T13:50:29.432Z"
   },
   {
    "duration": 4,
    "start_time": "2023-02-18T13:50:34.739Z"
   },
   {
    "duration": 5,
    "start_time": "2023-02-18T13:50:58.583Z"
   },
   {
    "duration": 4,
    "start_time": "2023-02-18T13:51:30.664Z"
   },
   {
    "duration": 11,
    "start_time": "2023-02-18T13:52:33.246Z"
   },
   {
    "duration": 11,
    "start_time": "2023-02-18T13:52:51.045Z"
   },
   {
    "duration": 15,
    "start_time": "2023-02-18T13:53:05.441Z"
   },
   {
    "duration": 12,
    "start_time": "2023-02-18T13:53:16.257Z"
   },
   {
    "duration": 1730,
    "start_time": "2023-02-18T13:54:00.687Z"
   },
   {
    "duration": 15,
    "start_time": "2023-02-18T13:54:10.182Z"
   },
   {
    "duration": 9,
    "start_time": "2023-02-18T13:55:11.346Z"
   },
   {
    "duration": 26563,
    "start_time": "2023-02-18T13:55:31.541Z"
   },
   {
    "duration": 6,
    "start_time": "2023-02-18T13:57:30.653Z"
   },
   {
    "duration": 11,
    "start_time": "2023-02-18T13:58:36.127Z"
   },
   {
    "duration": 1509,
    "start_time": "2023-02-18T13:58:45.359Z"
   },
   {
    "duration": 11,
    "start_time": "2023-02-18T13:58:58.478Z"
   },
   {
    "duration": 32,
    "start_time": "2023-02-18T13:59:51.335Z"
   },
   {
    "duration": 10,
    "start_time": "2023-02-18T13:59:52.248Z"
   },
   {
    "duration": 10,
    "start_time": "2023-02-18T14:00:18.619Z"
   },
   {
    "duration": 10,
    "start_time": "2023-02-18T14:01:07.362Z"
   },
   {
    "duration": 10,
    "start_time": "2023-02-18T14:01:13.333Z"
   },
   {
    "duration": 1615,
    "start_time": "2023-02-18T14:01:26.043Z"
   },
   {
    "duration": 1564,
    "start_time": "2023-02-18T14:01:34.574Z"
   },
   {
    "duration": 1683,
    "start_time": "2023-02-18T14:01:46.031Z"
   },
   {
    "duration": 1683,
    "start_time": "2023-02-18T14:01:56.675Z"
   },
   {
    "duration": 1777,
    "start_time": "2023-02-19T04:13:35.100Z"
   },
   {
    "duration": 2216,
    "start_time": "2023-02-19T04:13:37.527Z"
   },
   {
    "duration": 15,
    "start_time": "2023-02-19T04:13:40.424Z"
   },
   {
    "duration": 33,
    "start_time": "2023-02-19T04:13:45.620Z"
   },
   {
    "duration": 12,
    "start_time": "2023-02-19T04:13:47.432Z"
   },
   {
    "duration": 3,
    "start_time": "2023-02-19T04:13:48.095Z"
   },
   {
    "duration": 7,
    "start_time": "2023-02-19T04:13:48.793Z"
   },
   {
    "duration": 3,
    "start_time": "2023-02-19T04:13:50.563Z"
   },
   {
    "duration": 4480,
    "start_time": "2023-02-19T04:13:52.691Z"
   },
   {
    "duration": 5734,
    "start_time": "2023-02-19T04:13:58.224Z"
   },
   {
    "duration": 8,
    "start_time": "2023-02-19T04:14:09.082Z"
   },
   {
    "duration": 2,
    "start_time": "2023-02-19T04:14:13.184Z"
   },
   {
    "duration": 3,
    "start_time": "2023-02-19T04:14:15.273Z"
   },
   {
    "duration": 10875,
    "start_time": "2023-02-19T04:14:17.785Z"
   },
   {
    "duration": 3,
    "start_time": "2023-02-19T04:14:30.095Z"
   },
   {
    "duration": 5,
    "start_time": "2023-02-19T04:14:31.118Z"
   },
   {
    "duration": 524,
    "start_time": "2023-02-19T04:14:33.550Z"
   },
   {
    "duration": 100,
    "start_time": "2023-02-19T04:14:43.913Z"
   },
   {
    "duration": 4,
    "start_time": "2023-02-19T04:14:57.193Z"
   },
   {
    "duration": 1388,
    "start_time": "2023-02-19T04:15:03.290Z"
   },
   {
    "duration": 16805,
    "start_time": "2023-02-19T04:15:07.735Z"
   },
   {
    "duration": 7225,
    "start_time": "2023-02-19T04:15:33.273Z"
   },
   {
    "duration": 3,
    "start_time": "2023-02-19T04:15:44.948Z"
   },
   {
    "duration": 13,
    "start_time": "2023-02-19T04:15:45.546Z"
   },
   {
    "duration": 14,
    "start_time": "2023-02-19T04:15:45.994Z"
   },
   {
    "duration": 7,
    "start_time": "2023-02-19T04:15:46.340Z"
   },
   {
    "duration": 8,
    "start_time": "2023-02-19T04:15:47.002Z"
   },
   {
    "duration": 11,
    "start_time": "2023-02-19T04:16:17.869Z"
   },
   {
    "duration": 7,
    "start_time": "2023-02-19T04:16:19.223Z"
   },
   {
    "duration": 4082,
    "start_time": "2023-02-19T04:16:56.203Z"
   },
   {
    "duration": 4059,
    "start_time": "2023-02-19T04:17:15.145Z"
   },
   {
    "duration": 533,
    "start_time": "2023-02-19T04:17:43.373Z"
   },
   {
    "duration": 7,
    "start_time": "2023-02-19T04:17:46.901Z"
   },
   {
    "duration": 16120,
    "start_time": "2023-02-19T04:18:22.623Z"
   },
   {
    "duration": 16,
    "start_time": "2023-02-19T04:18:46.225Z"
   },
   {
    "duration": 8,
    "start_time": "2023-02-19T04:18:48.990Z"
   },
   {
    "duration": 16,
    "start_time": "2023-02-19T04:20:04.306Z"
   },
   {
    "duration": 37,
    "start_time": "2023-02-19T04:20:29.142Z"
   },
   {
    "duration": 39,
    "start_time": "2023-02-19T04:20:34.289Z"
   },
   {
    "duration": 497,
    "start_time": "2023-02-19T04:20:48.591Z"
   },
   {
    "duration": 776,
    "start_time": "2023-02-19T04:20:56.801Z"
   },
   {
    "duration": 117,
    "start_time": "2023-02-19T04:21:03.428Z"
   },
   {
    "duration": 26,
    "start_time": "2023-02-19T04:21:10.322Z"
   },
   {
    "duration": 20,
    "start_time": "2023-02-19T04:21:18.812Z"
   },
   {
    "duration": 29,
    "start_time": "2023-02-19T04:21:27.258Z"
   },
   {
    "duration": 36,
    "start_time": "2023-02-19T04:21:35.167Z"
   },
   {
    "duration": 220,
    "start_time": "2023-02-19T04:21:41.848Z"
   },
   {
    "duration": 350,
    "start_time": "2023-02-19T04:21:48.296Z"
   },
   {
    "duration": 441,
    "start_time": "2023-02-19T04:21:55.234Z"
   },
   {
    "duration": 77,
    "start_time": "2023-02-19T04:24:37.399Z"
   },
   {
    "duration": 10821,
    "start_time": "2023-02-19T04:24:52.656Z"
   },
   {
    "duration": 119390,
    "start_time": "2023-02-19T04:25:43.941Z"
   },
   {
    "duration": 20,
    "start_time": "2023-02-19T04:28:06.527Z"
   },
   {
    "duration": 7,
    "start_time": "2023-02-19T04:28:09.530Z"
   },
   {
    "duration": 94,
    "start_time": "2023-02-19T04:29:12.155Z"
   },
   {
    "duration": 805,
    "start_time": "2023-02-19T04:29:36.776Z"
   },
   {
    "duration": 29,
    "start_time": "2023-02-19T04:29:47.501Z"
   },
   {
    "duration": 54,
    "start_time": "2023-02-19T04:29:56.666Z"
   },
   {
    "duration": 24,
    "start_time": "2023-02-19T04:30:00.726Z"
   },
   {
    "duration": 42,
    "start_time": "2023-02-19T04:30:06.782Z"
   },
   {
    "duration": 40,
    "start_time": "2023-02-19T04:30:11.377Z"
   },
   {
    "duration": 4670,
    "start_time": "2023-02-19T04:30:21.624Z"
   },
   {
    "duration": 4517,
    "start_time": "2023-02-19T04:30:47.175Z"
   },
   {
    "duration": 237625,
    "start_time": "2023-02-19T04:31:22.006Z"
   },
   {
    "duration": 270091,
    "start_time": "2023-02-19T04:36:39.333Z"
   },
   {
    "duration": 4509,
    "start_time": "2023-02-19T04:41:20.766Z"
   },
   {
    "duration": 500,
    "start_time": "2023-02-19T04:41:34.798Z"
   },
   {
    "duration": 6,
    "start_time": "2023-02-19T04:41:35.325Z"
   },
   {
    "duration": 8,
    "start_time": "2023-02-19T04:41:35.969Z"
   },
   {
    "duration": 3,
    "start_time": "2023-02-19T04:47:30.415Z"
   },
   {
    "duration": 4,
    "start_time": "2023-02-19T04:47:49.391Z"
   },
   {
    "duration": 3,
    "start_time": "2023-02-19T04:48:12.208Z"
   },
   {
    "duration": 26,
    "start_time": "2023-02-19T04:49:27.944Z"
   },
   {
    "duration": 3,
    "start_time": "2023-02-19T04:49:43.528Z"
   },
   {
    "duration": 2758,
    "start_time": "2023-02-19T04:49:44.234Z"
   },
   {
    "duration": 458064,
    "start_time": "2023-02-19T04:49:48.287Z"
   },
   {
    "duration": 12639,
    "start_time": "2023-02-19T04:57:26.353Z"
   },
   {
    "duration": 99,
    "start_time": "2023-02-19T04:57:38.994Z"
   },
   {
    "duration": 11,
    "start_time": "2023-02-19T05:07:57.097Z"
   },
   {
    "duration": 82,
    "start_time": "2023-02-19T05:08:26.164Z"
   },
   {
    "duration": 12,
    "start_time": "2023-02-19T05:08:46.826Z"
   },
   {
    "duration": 1460,
    "start_time": "2023-02-19T05:08:59.961Z"
   },
   {
    "duration": 3191,
    "start_time": "2023-02-19T05:09:14.054Z"
   },
   {
    "duration": 8,
    "start_time": "2023-02-19T05:09:23.041Z"
   },
   {
    "duration": 1327,
    "start_time": "2023-02-19T05:09:56.435Z"
   },
   {
    "duration": 2857,
    "start_time": "2023-02-19T05:10:03.915Z"
   },
   {
    "duration": 8,
    "start_time": "2023-02-19T05:10:11.159Z"
   },
   {
    "duration": 1281,
    "start_time": "2023-02-19T05:12:52.418Z"
   },
   {
    "duration": 817,
    "start_time": "2023-02-19T05:12:53.701Z"
   },
   {
    "duration": 13,
    "start_time": "2023-02-19T05:12:54.520Z"
   },
   {
    "duration": 32,
    "start_time": "2023-02-19T05:12:54.535Z"
   },
   {
    "duration": 32,
    "start_time": "2023-02-19T05:12:54.569Z"
   },
   {
    "duration": 7,
    "start_time": "2023-02-19T05:12:54.603Z"
   },
   {
    "duration": 12,
    "start_time": "2023-02-19T05:12:54.612Z"
   },
   {
    "duration": 5,
    "start_time": "2023-02-19T05:12:54.626Z"
   },
   {
    "duration": 651193,
    "start_time": "2023-02-19T05:12:54.633Z"
   },
   {
    "duration": 1085439,
    "start_time": "2023-02-19T05:23:45.828Z"
   },
   {
    "duration": 8,
    "start_time": "2023-02-19T05:41:51.269Z"
   },
   {
    "duration": 13,
    "start_time": "2023-02-19T05:41:51.279Z"
   },
   {
    "duration": 6,
    "start_time": "2023-02-19T05:41:51.293Z"
   },
   {
    "duration": 722002,
    "start_time": "2023-02-19T05:41:51.302Z"
   },
   {
    "duration": 2,
    "start_time": "2023-02-19T05:53:53.306Z"
   },
   {
    "duration": 39,
    "start_time": "2023-02-19T05:53:53.310Z"
   },
   {
    "duration": 5295,
    "start_time": "2023-02-19T05:53:53.350Z"
   },
   {
    "duration": 1591,
    "start_time": "2023-02-19T05:53:58.647Z"
   },
   {
    "duration": 4,
    "start_time": "2023-02-19T05:54:00.240Z"
   },
   {
    "duration": 61183,
    "start_time": "2023-02-19T05:54:00.245Z"
   },
   {
    "duration": 4625559,
    "start_time": "2023-02-19T05:55:01.429Z"
   },
   {
    "duration": 0,
    "start_time": "2023-02-19T07:12:06.992Z"
   },
   {
    "duration": 0,
    "start_time": "2023-02-19T07:12:06.993Z"
   },
   {
    "duration": 0,
    "start_time": "2023-02-19T07:12:06.994Z"
   },
   {
    "duration": 0,
    "start_time": "2023-02-19T07:12:06.995Z"
   },
   {
    "duration": 0,
    "start_time": "2023-02-19T07:12:06.996Z"
   },
   {
    "duration": 0,
    "start_time": "2023-02-19T07:12:06.997Z"
   },
   {
    "duration": 0,
    "start_time": "2023-02-19T07:12:06.998Z"
   },
   {
    "duration": 0,
    "start_time": "2023-02-19T07:12:07.000Z"
   },
   {
    "duration": 0,
    "start_time": "2023-02-19T07:12:07.001Z"
   },
   {
    "duration": 452652,
    "start_time": "2023-02-19T07:14:50.426Z"
   },
   {
    "duration": 50715,
    "start_time": "2023-02-19T07:22:23.080Z"
   },
   {
    "duration": 6,
    "start_time": "2023-02-19T07:23:13.797Z"
   },
   {
    "duration": 17,
    "start_time": "2023-02-19T07:23:13.806Z"
   },
   {
    "duration": 130063,
    "start_time": "2023-02-19T07:23:13.825Z"
   },
   {
    "duration": 1645260,
    "start_time": "2023-02-19T07:25:23.890Z"
   },
   {
    "duration": 125151,
    "start_time": "2023-02-19T07:52:49.151Z"
   },
   {
    "duration": 96,
    "start_time": "2023-02-19T07:54:54.307Z"
   },
   {
    "duration": 5577,
    "start_time": "2023-02-19T07:54:54.405Z"
   },
   {
    "duration": 22,
    "start_time": "2023-02-19T07:54:59.984Z"
   },
   {
    "duration": 12,
    "start_time": "2023-02-19T07:58:49.445Z"
   },
   {
    "duration": 21094,
    "start_time": "2023-02-19T07:59:06.955Z"
   },
   {
    "duration": 116904,
    "start_time": "2023-02-19T07:59:43.995Z"
   },
   {
    "duration": 45054,
    "start_time": "2023-02-19T08:01:40.902Z"
   },
   {
    "duration": 5,
    "start_time": "2023-02-19T08:02:25.959Z"
   },
   {
    "duration": 5650,
    "start_time": "2023-02-19T08:02:53.510Z"
   },
   {
    "duration": 7,
    "start_time": "2023-02-19T08:02:59.162Z"
   },
   {
    "duration": 9296,
    "start_time": "2023-02-19T08:03:33.710Z"
   },
   {
    "duration": 5605,
    "start_time": "2023-02-19T08:03:46.331Z"
   },
   {
    "duration": 8,
    "start_time": "2023-02-19T08:03:53.081Z"
   },
   {
    "duration": 11,
    "start_time": "2023-02-19T08:05:02.610Z"
   },
   {
    "duration": 14272,
    "start_time": "2023-02-19T08:05:10.438Z"
   },
   {
    "duration": 5657,
    "start_time": "2023-02-19T08:05:31.824Z"
   },
   {
    "duration": 8,
    "start_time": "2023-02-19T08:05:37.608Z"
   },
   {
    "duration": 41207,
    "start_time": "2023-02-19T08:07:22.985Z"
   },
   {
    "duration": 5725,
    "start_time": "2023-02-19T08:08:04.196Z"
   },
   {
    "duration": 7,
    "start_time": "2023-02-19T08:08:09.923Z"
   },
   {
    "duration": 4756,
    "start_time": "2023-02-19T08:12:39.917Z"
   },
   {
    "duration": 5688,
    "start_time": "2023-02-19T08:12:49.796Z"
   },
   {
    "duration": 10,
    "start_time": "2023-02-19T08:12:55.486Z"
   },
   {
    "duration": 25,
    "start_time": "2023-02-19T08:18:47.541Z"
   },
   {
    "duration": 6,
    "start_time": "2023-02-19T08:19:18.474Z"
   },
   {
    "duration": 816,
    "start_time": "2023-02-19T08:19:19.218Z"
   },
   {
    "duration": 9,
    "start_time": "2023-02-19T08:19:20.037Z"
   },
   {
    "duration": 50,
    "start_time": "2023-02-19T08:19:20.048Z"
   },
   {
    "duration": 14,
    "start_time": "2023-02-19T08:19:20.734Z"
   },
   {
    "duration": 3,
    "start_time": "2023-02-19T08:19:20.982Z"
   },
   {
    "duration": 15,
    "start_time": "2023-02-19T08:19:21.288Z"
   },
   {
    "duration": 3,
    "start_time": "2023-02-19T08:19:22.428Z"
   },
   {
    "duration": 259099,
    "start_time": "2023-02-19T08:19:22.948Z"
   },
   {
    "duration": 0,
    "start_time": "2023-02-19T08:23:42.049Z"
   },
   {
    "duration": 0,
    "start_time": "2023-02-19T08:23:42.051Z"
   },
   {
    "duration": 0,
    "start_time": "2023-02-19T08:23:42.054Z"
   },
   {
    "duration": 0,
    "start_time": "2023-02-19T08:23:42.055Z"
   },
   {
    "duration": 0,
    "start_time": "2023-02-19T08:23:42.056Z"
   },
   {
    "duration": 0,
    "start_time": "2023-02-19T08:23:42.057Z"
   },
   {
    "duration": 0,
    "start_time": "2023-02-19T08:23:42.058Z"
   },
   {
    "duration": 0,
    "start_time": "2023-02-19T08:23:42.060Z"
   },
   {
    "duration": 0,
    "start_time": "2023-02-19T08:23:42.061Z"
   },
   {
    "duration": 0,
    "start_time": "2023-02-19T08:23:42.061Z"
   },
   {
    "duration": 1,
    "start_time": "2023-02-19T08:23:42.062Z"
   },
   {
    "duration": 0,
    "start_time": "2023-02-19T08:23:42.063Z"
   },
   {
    "duration": 1827,
    "start_time": "2023-02-19T08:23:46.748Z"
   },
   {
    "duration": 892,
    "start_time": "2023-02-19T08:23:48.577Z"
   },
   {
    "duration": 27,
    "start_time": "2023-02-19T08:23:49.471Z"
   },
   {
    "duration": 40,
    "start_time": "2023-02-19T08:23:49.501Z"
   },
   {
    "duration": 16,
    "start_time": "2023-02-19T08:23:49.544Z"
   },
   {
    "duration": 14,
    "start_time": "2023-02-19T08:23:49.562Z"
   },
   {
    "duration": 9,
    "start_time": "2023-02-19T08:23:49.578Z"
   },
   {
    "duration": 6,
    "start_time": "2023-02-19T08:23:49.592Z"
   },
   {
    "duration": 755311,
    "start_time": "2023-02-19T08:23:49.600Z"
   },
   {
    "duration": 1412711,
    "start_time": "2023-02-19T08:36:24.915Z"
   },
   {
    "duration": 8,
    "start_time": "2023-02-19T08:59:57.632Z"
   },
   {
    "duration": 5,
    "start_time": "2023-02-19T08:59:57.642Z"
   },
   {
    "duration": 5,
    "start_time": "2023-02-19T08:59:57.648Z"
   },
   {
    "duration": 851615,
    "start_time": "2023-02-19T08:59:57.656Z"
   },
   {
    "duration": 3,
    "start_time": "2023-02-19T09:14:09.273Z"
   },
   {
    "duration": 65,
    "start_time": "2023-02-19T09:14:09.278Z"
   },
   {
    "duration": 4923,
    "start_time": "2023-02-19T09:14:09.345Z"
   },
   {
    "duration": 1493,
    "start_time": "2023-02-19T09:14:14.270Z"
   },
   {
    "duration": 1518,
    "start_time": "2023-02-19T09:14:15.765Z"
   },
   {
    "duration": 9,
    "start_time": "2023-02-19T09:14:17.284Z"
   },
   {
    "duration": 589,
    "start_time": "2023-02-19T09:14:17.295Z"
   },
   {
    "duration": 0,
    "start_time": "2023-02-19T09:14:17.892Z"
   },
   {
    "duration": 0,
    "start_time": "2023-02-19T09:14:17.893Z"
   },
   {
    "duration": 0,
    "start_time": "2023-02-19T09:14:17.894Z"
   },
   {
    "duration": 0,
    "start_time": "2023-02-19T09:14:17.895Z"
   },
   {
    "duration": 0,
    "start_time": "2023-02-19T09:14:17.896Z"
   },
   {
    "duration": 0,
    "start_time": "2023-02-19T09:14:17.897Z"
   },
   {
    "duration": 0,
    "start_time": "2023-02-19T09:14:17.898Z"
   },
   {
    "duration": 0,
    "start_time": "2023-02-19T09:14:17.899Z"
   },
   {
    "duration": 0,
    "start_time": "2023-02-19T09:14:17.900Z"
   },
   {
    "duration": 0,
    "start_time": "2023-02-19T09:14:17.901Z"
   },
   {
    "duration": 0,
    "start_time": "2023-02-19T09:14:17.901Z"
   },
   {
    "duration": 9,
    "start_time": "2023-02-19T09:20:04.705Z"
   },
   {
    "duration": 481,
    "start_time": "2023-02-19T09:20:05.433Z"
   },
   {
    "duration": 44708,
    "start_time": "2023-02-19T09:21:12.767Z"
   },
   {
    "duration": 43896,
    "start_time": "2023-02-19T09:22:18.612Z"
   },
   {
    "duration": 171111,
    "start_time": "2023-02-19T09:23:13.245Z"
   },
   {
    "duration": 170429,
    "start_time": "2023-02-19T09:26:22.340Z"
   },
   {
    "duration": 247018,
    "start_time": "2023-02-19T09:29:58.933Z"
   },
   {
    "duration": 60062,
    "start_time": "2023-02-19T09:34:35.596Z"
   },
   {
    "duration": 48756,
    "start_time": "2023-02-19T09:37:20.430Z"
   },
   {
    "duration": 46683,
    "start_time": "2023-02-19T09:39:38.806Z"
   },
   {
    "duration": 45764,
    "start_time": "2023-02-19T09:41:23.818Z"
   },
   {
    "duration": 2931,
    "start_time": "2023-02-19T09:42:37.941Z"
   },
   {
    "duration": 2839,
    "start_time": "2023-02-19T09:42:48.468Z"
   },
   {
    "duration": 2841,
    "start_time": "2023-02-19T09:43:40.904Z"
   },
   {
    "duration": 2945,
    "start_time": "2023-02-19T09:44:58.920Z"
   },
   {
    "duration": 292876,
    "start_time": "2023-02-19T09:45:41.550Z"
   },
   {
    "duration": 4435,
    "start_time": "2023-02-19T09:50:38.832Z"
   },
   {
    "duration": 22808,
    "start_time": "2023-02-19T09:50:52.466Z"
   },
   {
    "duration": 104482,
    "start_time": "2023-02-19T09:51:28.708Z"
   },
   {
    "duration": 1163809,
    "start_time": "2023-02-19T09:53:49.699Z"
   },
   {
    "duration": 104816,
    "start_time": "2023-02-19T10:13:36.226Z"
   },
   {
    "duration": 40675,
    "start_time": "2023-02-19T10:15:29.717Z"
   },
   {
    "duration": 31,
    "start_time": "2023-02-19T10:16:10.394Z"
   },
   {
    "duration": 16,
    "start_time": "2023-02-19T10:16:10.491Z"
   },
   {
    "duration": 8,
    "start_time": "2023-02-19T10:16:10.510Z"
   },
   {
    "duration": 4544,
    "start_time": "2023-02-19T10:16:10.520Z"
   },
   {
    "duration": 8,
    "start_time": "2023-02-19T10:16:15.066Z"
   },
   {
    "duration": 475845,
    "start_time": "2023-02-19T10:17:41.560Z"
   },
   {
    "duration": 7024,
    "start_time": "2023-02-19T10:25:37.406Z"
   },
   {
    "duration": 412555,
    "start_time": "2023-02-19T10:28:41.157Z"
   },
   {
    "duration": 3203,
    "start_time": "2023-02-19T10:35:33.714Z"
   },
   {
    "duration": 64568,
    "start_time": "2023-02-19T10:36:42.021Z"
   },
   {
    "duration": 29,
    "start_time": "2023-02-19T10:37:46.592Z"
   },
   {
    "duration": 111,
    "start_time": "2023-02-19T10:38:15.038Z"
   },
   {
    "duration": 369861,
    "start_time": "2023-02-19T10:38:43.770Z"
   },
   {
    "duration": 73,
    "start_time": "2023-02-19T10:51:23.961Z"
   },
   {
    "duration": 41523,
    "start_time": "2023-02-19T10:52:20.675Z"
   },
   {
    "duration": 99,
    "start_time": "2023-02-19T10:53:02.202Z"
   },
   {
    "duration": 3275,
    "start_time": "2023-02-19T10:53:11.943Z"
   },
   {
    "duration": 9,
    "start_time": "2023-02-19T10:53:15.220Z"
   },
   {
    "duration": 2161,
    "start_time": "2023-02-19T10:55:03.903Z"
   },
   {
    "duration": 1152,
    "start_time": "2023-02-19T10:55:06.067Z"
   },
   {
    "duration": 21,
    "start_time": "2023-02-19T10:55:07.221Z"
   },
   {
    "duration": 55,
    "start_time": "2023-02-19T10:55:07.245Z"
   },
   {
    "duration": 25,
    "start_time": "2023-02-19T10:55:07.302Z"
   },
   {
    "duration": 9,
    "start_time": "2023-02-19T10:55:07.330Z"
   },
   {
    "duration": 13,
    "start_time": "2023-02-19T10:55:07.341Z"
   },
   {
    "duration": 15,
    "start_time": "2023-02-19T10:55:07.356Z"
   },
   {
    "duration": 186619,
    "start_time": "2023-02-19T10:55:07.373Z"
   },
   {
    "duration": 0,
    "start_time": "2023-02-19T10:58:13.995Z"
   },
   {
    "duration": 0,
    "start_time": "2023-02-19T10:58:13.995Z"
   },
   {
    "duration": 0,
    "start_time": "2023-02-19T10:58:13.997Z"
   },
   {
    "duration": 0,
    "start_time": "2023-02-19T10:58:13.997Z"
   },
   {
    "duration": 0,
    "start_time": "2023-02-19T10:58:13.998Z"
   },
   {
    "duration": 0,
    "start_time": "2023-02-19T10:58:13.999Z"
   },
   {
    "duration": 0,
    "start_time": "2023-02-19T10:58:14.000Z"
   },
   {
    "duration": 0,
    "start_time": "2023-02-19T10:58:14.002Z"
   },
   {
    "duration": 0,
    "start_time": "2023-02-19T10:58:14.003Z"
   },
   {
    "duration": 0,
    "start_time": "2023-02-19T10:58:14.004Z"
   },
   {
    "duration": 0,
    "start_time": "2023-02-19T10:58:14.005Z"
   },
   {
    "duration": 0,
    "start_time": "2023-02-19T10:58:14.006Z"
   },
   {
    "duration": 0,
    "start_time": "2023-02-19T10:58:14.007Z"
   },
   {
    "duration": 0,
    "start_time": "2023-02-19T10:58:14.008Z"
   },
   {
    "duration": 0,
    "start_time": "2023-02-19T10:58:14.009Z"
   },
   {
    "duration": 0,
    "start_time": "2023-02-19T10:58:14.011Z"
   },
   {
    "duration": 0,
    "start_time": "2023-02-19T10:58:14.012Z"
   },
   {
    "duration": 0,
    "start_time": "2023-02-19T10:58:14.013Z"
   },
   {
    "duration": 0,
    "start_time": "2023-02-19T10:58:14.014Z"
   },
   {
    "duration": 0,
    "start_time": "2023-02-19T10:58:14.016Z"
   },
   {
    "duration": 0,
    "start_time": "2023-02-19T10:58:14.016Z"
   },
   {
    "duration": 0,
    "start_time": "2023-02-19T10:58:14.018Z"
   },
   {
    "duration": 0,
    "start_time": "2023-02-19T10:58:14.019Z"
   },
   {
    "duration": 0,
    "start_time": "2023-02-19T10:58:14.020Z"
   },
   {
    "duration": 1285,
    "start_time": "2023-02-19T11:01:52.232Z"
   },
   {
    "duration": 880,
    "start_time": "2023-02-19T11:01:53.520Z"
   },
   {
    "duration": 13,
    "start_time": "2023-02-19T11:01:54.402Z"
   },
   {
    "duration": 39,
    "start_time": "2023-02-19T11:01:54.417Z"
   },
   {
    "duration": 23,
    "start_time": "2023-02-19T11:01:54.457Z"
   },
   {
    "duration": 20,
    "start_time": "2023-02-19T11:01:54.481Z"
   },
   {
    "duration": 9,
    "start_time": "2023-02-19T11:01:54.503Z"
   },
   {
    "duration": 8,
    "start_time": "2023-02-19T11:01:54.514Z"
   },
   {
    "duration": 667132,
    "start_time": "2023-02-19T11:01:54.523Z"
   },
   {
    "duration": 1327840,
    "start_time": "2023-02-19T11:13:01.657Z"
   },
   {
    "duration": 8,
    "start_time": "2023-02-19T11:35:09.499Z"
   },
   {
    "duration": 5,
    "start_time": "2023-02-19T11:35:09.510Z"
   },
   {
    "duration": 6,
    "start_time": "2023-02-19T11:35:09.516Z"
   },
   {
    "duration": 859936,
    "start_time": "2023-02-19T11:35:09.525Z"
   },
   {
    "duration": 3,
    "start_time": "2023-02-19T11:49:29.463Z"
   },
   {
    "duration": 67,
    "start_time": "2023-02-19T11:49:29.468Z"
   },
   {
    "duration": 4929,
    "start_time": "2023-02-19T11:49:29.537Z"
   },
   {
    "duration": 1610,
    "start_time": "2023-02-19T11:49:34.468Z"
   },
   {
    "duration": 1541,
    "start_time": "2023-02-19T11:49:36.080Z"
   },
   {
    "duration": 5,
    "start_time": "2023-02-19T11:49:37.623Z"
   },
   {
    "duration": 6,
    "start_time": "2023-02-19T11:49:37.629Z"
   },
   {
    "duration": 306041,
    "start_time": "2023-02-19T11:49:37.637Z"
   },
   {
    "duration": 57376,
    "start_time": "2023-02-19T11:54:43.679Z"
   },
   {
    "duration": 3,
    "start_time": "2023-02-19T11:55:41.056Z"
   },
   {
    "duration": 287873,
    "start_time": "2023-02-19T11:55:41.061Z"
   },
   {
    "duration": 42562,
    "start_time": "2023-02-19T12:00:28.935Z"
   },
   {
    "duration": 3,
    "start_time": "2023-02-19T12:01:11.499Z"
   },
   {
    "duration": 111,
    "start_time": "2023-02-19T12:01:11.506Z"
   },
   {
    "duration": 4391,
    "start_time": "2023-02-19T12:01:11.619Z"
   },
   {
    "duration": 16,
    "start_time": "2023-02-19T12:01:16.012Z"
   },
   {
    "duration": 8,
    "start_time": "2023-02-19T12:01:16.030Z"
   },
   {
    "duration": 4465,
    "start_time": "2023-02-19T12:01:16.040Z"
   },
   {
    "duration": 9,
    "start_time": "2023-02-19T12:01:20.507Z"
   },
   {
    "duration": 1343,
    "start_time": "2023-02-20T07:09:13.908Z"
   },
   {
    "duration": 3651,
    "start_time": "2023-02-20T07:09:15.253Z"
   },
   {
    "duration": 14,
    "start_time": "2023-02-20T07:09:18.906Z"
   },
   {
    "duration": 59,
    "start_time": "2023-02-20T07:09:18.922Z"
   },
   {
    "duration": 11,
    "start_time": "2023-02-20T07:09:18.983Z"
   },
   {
    "duration": 12,
    "start_time": "2023-02-20T07:09:18.996Z"
   },
   {
    "duration": 16,
    "start_time": "2023-02-20T07:09:19.009Z"
   },
   {
    "duration": 38,
    "start_time": "2023-02-20T07:09:19.027Z"
   },
   {
    "duration": 691746,
    "start_time": "2023-02-20T07:09:19.066Z"
   },
   {
    "duration": 1205977,
    "start_time": "2023-02-20T07:20:50.814Z"
   },
   {
    "duration": 8,
    "start_time": "2023-02-20T07:40:56.792Z"
   },
   {
    "duration": 4,
    "start_time": "2023-02-20T07:40:56.802Z"
   },
   {
    "duration": 7,
    "start_time": "2023-02-20T07:40:56.808Z"
   },
   {
    "duration": 843550,
    "start_time": "2023-02-20T07:40:56.830Z"
   },
   {
    "duration": 3,
    "start_time": "2023-02-20T07:55:00.383Z"
   },
   {
    "duration": 105,
    "start_time": "2023-02-20T07:55:00.388Z"
   },
   {
    "duration": 5547,
    "start_time": "2023-02-20T07:55:00.495Z"
   },
   {
    "duration": 1629,
    "start_time": "2023-02-20T07:55:06.046Z"
   },
   {
    "duration": 1589,
    "start_time": "2023-02-20T07:55:07.676Z"
   },
   {
    "duration": 4,
    "start_time": "2023-02-20T07:55:09.267Z"
   },
   {
    "duration": 30,
    "start_time": "2023-02-20T07:55:09.273Z"
   },
   {
    "duration": 315943,
    "start_time": "2023-02-20T07:55:09.305Z"
   },
   {
    "duration": 61611,
    "start_time": "2023-02-20T08:00:25.252Z"
   },
   {
    "duration": 2,
    "start_time": "2023-02-20T08:01:26.865Z"
   },
   {
    "duration": 306377,
    "start_time": "2023-02-20T08:01:26.869Z"
   },
   {
    "duration": 50187,
    "start_time": "2023-02-20T08:06:33.247Z"
   },
   {
    "duration": 2,
    "start_time": "2023-02-20T08:07:23.438Z"
   },
   {
    "duration": 143,
    "start_time": "2023-02-20T08:07:23.444Z"
   },
   {
    "duration": 4316,
    "start_time": "2023-02-20T08:07:23.588Z"
   },
   {
    "duration": 26,
    "start_time": "2023-02-20T08:07:27.906Z"
   },
   {
    "duration": 19,
    "start_time": "2023-02-20T08:07:27.936Z"
   },
   {
    "duration": 18,
    "start_time": "2023-02-20T08:07:27.957Z"
   },
   {
    "duration": 3,
    "start_time": "2023-02-20T08:07:27.977Z"
   }
  ],
  "kernelspec": {
   "display_name": "Python 3 (ipykernel)",
   "language": "python",
   "name": "python3"
  },
  "language_info": {
   "codemirror_mode": {
    "name": "ipython",
    "version": 3
   },
   "file_extension": ".py",
   "mimetype": "text/x-python",
   "name": "python",
   "nbconvert_exporter": "python",
   "pygments_lexer": "ipython3",
   "version": "3.9.13"
  },
  "toc": {
   "base_numbering": 1,
   "nav_menu": {},
   "number_sections": true,
   "sideBar": true,
   "skip_h1_title": true,
   "title_cell": "Содержание",
   "title_sidebar": "Contents",
   "toc_cell": true,
   "toc_position": {
    "height": "calc(100% - 180px)",
    "left": "10px",
    "top": "150px",
    "width": "302.391px"
   },
   "toc_section_display": true,
   "toc_window_display": false
  }
 },
 "nbformat": 4,
 "nbformat_minor": 2
}

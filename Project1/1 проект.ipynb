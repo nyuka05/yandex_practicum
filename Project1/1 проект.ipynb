{
 "cells": [
  {
   "cell_type": "markdown",
   "id": "2543e6b2",
   "metadata": {
    "deletable": false,
    "editable": false,
    "id": "c81daeeb"
   },
   "source": [
    "# Исследование надежности заемщиков\n"
   ]
  },
  {
   "cell_type": "markdown",
   "id": "384d77cd",
   "metadata": {
    "deletable": false,
    "editable": false,
    "id": "827c20bf"
   },
   "source": [
    "Во второй части проекта вы выполните шаги 3 и 4. Их вручную проверит ревьюер.\n",
    "Чтобы вам не пришлось писать код заново для шагов 1 и 2, мы добавили авторские решения в ячейки с кодом. \n",
    "\n"
   ]
  },
  {
   "cell_type": "markdown",
   "id": "80de605d",
   "metadata": {
    "deletable": false,
    "editable": false,
    "id": "744d7639"
   },
   "source": [
    "## Откройте таблицу и изучите общую информацию о данных"
   ]
  },
  {
   "cell_type": "markdown",
   "id": "fc3a785d",
   "metadata": {
    "deletable": false,
    "editable": false,
    "id": "e7a14c31"
   },
   "source": [
    "**Задание 1. Импортируйте библиотеку pandas. Считайте данные из csv-файла в датафрейм и сохраните в переменную `data`. Путь к файлу:**\n",
    "\n",
    "`/datasets/data.csv`"
   ]
  },
  {
   "cell_type": "code",
   "execution_count": 1,
   "id": "1363cd95",
   "metadata": {
    "deletable": false,
    "id": "7bcf75c9"
   },
   "outputs": [],
   "source": [
    "import pandas as pd\n",
    "\n",
    "try:\n",
    "    data = pd.read_csv('/datasets/data.csv')\n",
    "except:\n",
    "    data = pd.read_csv('https://code.s3.yandex.net/datasets/data.csv')"
   ]
  },
  {
   "cell_type": "markdown",
   "id": "40d13dd4",
   "metadata": {
    "deletable": false,
    "editable": false,
    "id": "b8038fe3"
   },
   "source": [
    "**Задание 2. Выведите первые 20 строчек датафрейма `data` на экран.**"
   ]
  },
  {
   "cell_type": "code",
   "execution_count": 2,
   "id": "246ea455",
   "metadata": {
    "deletable": false,
    "id": "2a7cab99",
    "outputId": "1a8f3ef2-d323-4ec2-ddf7-89670b5944c4"
   },
   "outputs": [
    {
     "data": {
      "text/html": [
       "<div>\n",
       "<style scoped>\n",
       "    .dataframe tbody tr th:only-of-type {\n",
       "        vertical-align: middle;\n",
       "    }\n",
       "\n",
       "    .dataframe tbody tr th {\n",
       "        vertical-align: top;\n",
       "    }\n",
       "\n",
       "    .dataframe thead th {\n",
       "        text-align: right;\n",
       "    }\n",
       "</style>\n",
       "<table border=\"1\" class=\"dataframe\">\n",
       "  <thead>\n",
       "    <tr style=\"text-align: right;\">\n",
       "      <th></th>\n",
       "      <th>children</th>\n",
       "      <th>days_employed</th>\n",
       "      <th>dob_years</th>\n",
       "      <th>education</th>\n",
       "      <th>education_id</th>\n",
       "      <th>family_status</th>\n",
       "      <th>family_status_id</th>\n",
       "      <th>gender</th>\n",
       "      <th>income_type</th>\n",
       "      <th>debt</th>\n",
       "      <th>total_income</th>\n",
       "      <th>purpose</th>\n",
       "    </tr>\n",
       "  </thead>\n",
       "  <tbody>\n",
       "    <tr>\n",
       "      <th>0</th>\n",
       "      <td>1</td>\n",
       "      <td>-8437.673028</td>\n",
       "      <td>42</td>\n",
       "      <td>высшее</td>\n",
       "      <td>0</td>\n",
       "      <td>женат / замужем</td>\n",
       "      <td>0</td>\n",
       "      <td>F</td>\n",
       "      <td>сотрудник</td>\n",
       "      <td>0</td>\n",
       "      <td>253875.639453</td>\n",
       "      <td>покупка жилья</td>\n",
       "    </tr>\n",
       "    <tr>\n",
       "      <th>1</th>\n",
       "      <td>1</td>\n",
       "      <td>-4024.803754</td>\n",
       "      <td>36</td>\n",
       "      <td>среднее</td>\n",
       "      <td>1</td>\n",
       "      <td>женат / замужем</td>\n",
       "      <td>0</td>\n",
       "      <td>F</td>\n",
       "      <td>сотрудник</td>\n",
       "      <td>0</td>\n",
       "      <td>112080.014102</td>\n",
       "      <td>приобретение автомобиля</td>\n",
       "    </tr>\n",
       "    <tr>\n",
       "      <th>2</th>\n",
       "      <td>0</td>\n",
       "      <td>-5623.422610</td>\n",
       "      <td>33</td>\n",
       "      <td>Среднее</td>\n",
       "      <td>1</td>\n",
       "      <td>женат / замужем</td>\n",
       "      <td>0</td>\n",
       "      <td>M</td>\n",
       "      <td>сотрудник</td>\n",
       "      <td>0</td>\n",
       "      <td>145885.952297</td>\n",
       "      <td>покупка жилья</td>\n",
       "    </tr>\n",
       "    <tr>\n",
       "      <th>3</th>\n",
       "      <td>3</td>\n",
       "      <td>-4124.747207</td>\n",
       "      <td>32</td>\n",
       "      <td>среднее</td>\n",
       "      <td>1</td>\n",
       "      <td>женат / замужем</td>\n",
       "      <td>0</td>\n",
       "      <td>M</td>\n",
       "      <td>сотрудник</td>\n",
       "      <td>0</td>\n",
       "      <td>267628.550329</td>\n",
       "      <td>дополнительное образование</td>\n",
       "    </tr>\n",
       "    <tr>\n",
       "      <th>4</th>\n",
       "      <td>0</td>\n",
       "      <td>340266.072047</td>\n",
       "      <td>53</td>\n",
       "      <td>среднее</td>\n",
       "      <td>1</td>\n",
       "      <td>гражданский брак</td>\n",
       "      <td>1</td>\n",
       "      <td>F</td>\n",
       "      <td>пенсионер</td>\n",
       "      <td>0</td>\n",
       "      <td>158616.077870</td>\n",
       "      <td>сыграть свадьбу</td>\n",
       "    </tr>\n",
       "    <tr>\n",
       "      <th>5</th>\n",
       "      <td>0</td>\n",
       "      <td>-926.185831</td>\n",
       "      <td>27</td>\n",
       "      <td>высшее</td>\n",
       "      <td>0</td>\n",
       "      <td>гражданский брак</td>\n",
       "      <td>1</td>\n",
       "      <td>M</td>\n",
       "      <td>компаньон</td>\n",
       "      <td>0</td>\n",
       "      <td>255763.565419</td>\n",
       "      <td>покупка жилья</td>\n",
       "    </tr>\n",
       "    <tr>\n",
       "      <th>6</th>\n",
       "      <td>0</td>\n",
       "      <td>-2879.202052</td>\n",
       "      <td>43</td>\n",
       "      <td>высшее</td>\n",
       "      <td>0</td>\n",
       "      <td>женат / замужем</td>\n",
       "      <td>0</td>\n",
       "      <td>F</td>\n",
       "      <td>компаньон</td>\n",
       "      <td>0</td>\n",
       "      <td>240525.971920</td>\n",
       "      <td>операции с жильем</td>\n",
       "    </tr>\n",
       "    <tr>\n",
       "      <th>7</th>\n",
       "      <td>0</td>\n",
       "      <td>-152.779569</td>\n",
       "      <td>50</td>\n",
       "      <td>СРЕДНЕЕ</td>\n",
       "      <td>1</td>\n",
       "      <td>женат / замужем</td>\n",
       "      <td>0</td>\n",
       "      <td>M</td>\n",
       "      <td>сотрудник</td>\n",
       "      <td>0</td>\n",
       "      <td>135823.934197</td>\n",
       "      <td>образование</td>\n",
       "    </tr>\n",
       "    <tr>\n",
       "      <th>8</th>\n",
       "      <td>2</td>\n",
       "      <td>-6929.865299</td>\n",
       "      <td>35</td>\n",
       "      <td>ВЫСШЕЕ</td>\n",
       "      <td>0</td>\n",
       "      <td>гражданский брак</td>\n",
       "      <td>1</td>\n",
       "      <td>F</td>\n",
       "      <td>сотрудник</td>\n",
       "      <td>0</td>\n",
       "      <td>95856.832424</td>\n",
       "      <td>на проведение свадьбы</td>\n",
       "    </tr>\n",
       "    <tr>\n",
       "      <th>9</th>\n",
       "      <td>0</td>\n",
       "      <td>-2188.756445</td>\n",
       "      <td>41</td>\n",
       "      <td>среднее</td>\n",
       "      <td>1</td>\n",
       "      <td>женат / замужем</td>\n",
       "      <td>0</td>\n",
       "      <td>M</td>\n",
       "      <td>сотрудник</td>\n",
       "      <td>0</td>\n",
       "      <td>144425.938277</td>\n",
       "      <td>покупка жилья для семьи</td>\n",
       "    </tr>\n",
       "    <tr>\n",
       "      <th>10</th>\n",
       "      <td>2</td>\n",
       "      <td>-4171.483647</td>\n",
       "      <td>36</td>\n",
       "      <td>высшее</td>\n",
       "      <td>0</td>\n",
       "      <td>женат / замужем</td>\n",
       "      <td>0</td>\n",
       "      <td>M</td>\n",
       "      <td>компаньон</td>\n",
       "      <td>0</td>\n",
       "      <td>113943.491460</td>\n",
       "      <td>покупка недвижимости</td>\n",
       "    </tr>\n",
       "    <tr>\n",
       "      <th>11</th>\n",
       "      <td>0</td>\n",
       "      <td>-792.701887</td>\n",
       "      <td>40</td>\n",
       "      <td>среднее</td>\n",
       "      <td>1</td>\n",
       "      <td>женат / замужем</td>\n",
       "      <td>0</td>\n",
       "      <td>F</td>\n",
       "      <td>сотрудник</td>\n",
       "      <td>0</td>\n",
       "      <td>77069.234271</td>\n",
       "      <td>покупка коммерческой недвижимости</td>\n",
       "    </tr>\n",
       "    <tr>\n",
       "      <th>12</th>\n",
       "      <td>0</td>\n",
       "      <td>NaN</td>\n",
       "      <td>65</td>\n",
       "      <td>среднее</td>\n",
       "      <td>1</td>\n",
       "      <td>гражданский брак</td>\n",
       "      <td>1</td>\n",
       "      <td>M</td>\n",
       "      <td>пенсионер</td>\n",
       "      <td>0</td>\n",
       "      <td>NaN</td>\n",
       "      <td>сыграть свадьбу</td>\n",
       "    </tr>\n",
       "    <tr>\n",
       "      <th>13</th>\n",
       "      <td>0</td>\n",
       "      <td>-1846.641941</td>\n",
       "      <td>54</td>\n",
       "      <td>неоконченное высшее</td>\n",
       "      <td>2</td>\n",
       "      <td>женат / замужем</td>\n",
       "      <td>0</td>\n",
       "      <td>F</td>\n",
       "      <td>сотрудник</td>\n",
       "      <td>0</td>\n",
       "      <td>130458.228857</td>\n",
       "      <td>приобретение автомобиля</td>\n",
       "    </tr>\n",
       "    <tr>\n",
       "      <th>14</th>\n",
       "      <td>0</td>\n",
       "      <td>-1844.956182</td>\n",
       "      <td>56</td>\n",
       "      <td>высшее</td>\n",
       "      <td>0</td>\n",
       "      <td>гражданский брак</td>\n",
       "      <td>1</td>\n",
       "      <td>F</td>\n",
       "      <td>компаньон</td>\n",
       "      <td>1</td>\n",
       "      <td>165127.911772</td>\n",
       "      <td>покупка жилой недвижимости</td>\n",
       "    </tr>\n",
       "    <tr>\n",
       "      <th>15</th>\n",
       "      <td>1</td>\n",
       "      <td>-972.364419</td>\n",
       "      <td>26</td>\n",
       "      <td>среднее</td>\n",
       "      <td>1</td>\n",
       "      <td>женат / замужем</td>\n",
       "      <td>0</td>\n",
       "      <td>F</td>\n",
       "      <td>сотрудник</td>\n",
       "      <td>0</td>\n",
       "      <td>116820.904450</td>\n",
       "      <td>строительство собственной недвижимости</td>\n",
       "    </tr>\n",
       "    <tr>\n",
       "      <th>16</th>\n",
       "      <td>0</td>\n",
       "      <td>-1719.934226</td>\n",
       "      <td>35</td>\n",
       "      <td>среднее</td>\n",
       "      <td>1</td>\n",
       "      <td>женат / замужем</td>\n",
       "      <td>0</td>\n",
       "      <td>F</td>\n",
       "      <td>сотрудник</td>\n",
       "      <td>0</td>\n",
       "      <td>289202.704229</td>\n",
       "      <td>недвижимость</td>\n",
       "    </tr>\n",
       "    <tr>\n",
       "      <th>17</th>\n",
       "      <td>0</td>\n",
       "      <td>-2369.999720</td>\n",
       "      <td>33</td>\n",
       "      <td>высшее</td>\n",
       "      <td>0</td>\n",
       "      <td>гражданский брак</td>\n",
       "      <td>1</td>\n",
       "      <td>M</td>\n",
       "      <td>сотрудник</td>\n",
       "      <td>0</td>\n",
       "      <td>90410.586745</td>\n",
       "      <td>строительство недвижимости</td>\n",
       "    </tr>\n",
       "    <tr>\n",
       "      <th>18</th>\n",
       "      <td>0</td>\n",
       "      <td>400281.136913</td>\n",
       "      <td>53</td>\n",
       "      <td>среднее</td>\n",
       "      <td>1</td>\n",
       "      <td>вдовец / вдова</td>\n",
       "      <td>2</td>\n",
       "      <td>F</td>\n",
       "      <td>пенсионер</td>\n",
       "      <td>0</td>\n",
       "      <td>56823.777243</td>\n",
       "      <td>на покупку подержанного автомобиля</td>\n",
       "    </tr>\n",
       "    <tr>\n",
       "      <th>19</th>\n",
       "      <td>0</td>\n",
       "      <td>-10038.818549</td>\n",
       "      <td>48</td>\n",
       "      <td>СРЕДНЕЕ</td>\n",
       "      <td>1</td>\n",
       "      <td>в разводе</td>\n",
       "      <td>3</td>\n",
       "      <td>F</td>\n",
       "      <td>сотрудник</td>\n",
       "      <td>0</td>\n",
       "      <td>242831.107982</td>\n",
       "      <td>на покупку своего автомобиля</td>\n",
       "    </tr>\n",
       "  </tbody>\n",
       "</table>\n",
       "</div>"
      ],
      "text/plain": [
       "    children  days_employed  dob_years            education  education_id  \\\n",
       "0          1   -8437.673028         42               высшее             0   \n",
       "1          1   -4024.803754         36              среднее             1   \n",
       "2          0   -5623.422610         33              Среднее             1   \n",
       "3          3   -4124.747207         32              среднее             1   \n",
       "4          0  340266.072047         53              среднее             1   \n",
       "5          0    -926.185831         27               высшее             0   \n",
       "6          0   -2879.202052         43               высшее             0   \n",
       "7          0    -152.779569         50              СРЕДНЕЕ             1   \n",
       "8          2   -6929.865299         35               ВЫСШЕЕ             0   \n",
       "9          0   -2188.756445         41              среднее             1   \n",
       "10         2   -4171.483647         36               высшее             0   \n",
       "11         0    -792.701887         40              среднее             1   \n",
       "12         0            NaN         65              среднее             1   \n",
       "13         0   -1846.641941         54  неоконченное высшее             2   \n",
       "14         0   -1844.956182         56               высшее             0   \n",
       "15         1    -972.364419         26              среднее             1   \n",
       "16         0   -1719.934226         35              среднее             1   \n",
       "17         0   -2369.999720         33               высшее             0   \n",
       "18         0  400281.136913         53              среднее             1   \n",
       "19         0  -10038.818549         48              СРЕДНЕЕ             1   \n",
       "\n",
       "       family_status  family_status_id gender income_type  debt  \\\n",
       "0    женат / замужем                 0      F   сотрудник     0   \n",
       "1    женат / замужем                 0      F   сотрудник     0   \n",
       "2    женат / замужем                 0      M   сотрудник     0   \n",
       "3    женат / замужем                 0      M   сотрудник     0   \n",
       "4   гражданский брак                 1      F   пенсионер     0   \n",
       "5   гражданский брак                 1      M   компаньон     0   \n",
       "6    женат / замужем                 0      F   компаньон     0   \n",
       "7    женат / замужем                 0      M   сотрудник     0   \n",
       "8   гражданский брак                 1      F   сотрудник     0   \n",
       "9    женат / замужем                 0      M   сотрудник     0   \n",
       "10   женат / замужем                 0      M   компаньон     0   \n",
       "11   женат / замужем                 0      F   сотрудник     0   \n",
       "12  гражданский брак                 1      M   пенсионер     0   \n",
       "13   женат / замужем                 0      F   сотрудник     0   \n",
       "14  гражданский брак                 1      F   компаньон     1   \n",
       "15   женат / замужем                 0      F   сотрудник     0   \n",
       "16   женат / замужем                 0      F   сотрудник     0   \n",
       "17  гражданский брак                 1      M   сотрудник     0   \n",
       "18    вдовец / вдова                 2      F   пенсионер     0   \n",
       "19         в разводе                 3      F   сотрудник     0   \n",
       "\n",
       "     total_income                                 purpose  \n",
       "0   253875.639453                           покупка жилья  \n",
       "1   112080.014102                 приобретение автомобиля  \n",
       "2   145885.952297                           покупка жилья  \n",
       "3   267628.550329              дополнительное образование  \n",
       "4   158616.077870                         сыграть свадьбу  \n",
       "5   255763.565419                           покупка жилья  \n",
       "6   240525.971920                       операции с жильем  \n",
       "7   135823.934197                             образование  \n",
       "8    95856.832424                   на проведение свадьбы  \n",
       "9   144425.938277                 покупка жилья для семьи  \n",
       "10  113943.491460                    покупка недвижимости  \n",
       "11   77069.234271       покупка коммерческой недвижимости  \n",
       "12            NaN                         сыграть свадьбу  \n",
       "13  130458.228857                 приобретение автомобиля  \n",
       "14  165127.911772              покупка жилой недвижимости  \n",
       "15  116820.904450  строительство собственной недвижимости  \n",
       "16  289202.704229                            недвижимость  \n",
       "17   90410.586745              строительство недвижимости  \n",
       "18   56823.777243      на покупку подержанного автомобиля  \n",
       "19  242831.107982            на покупку своего автомобиля  "
      ]
     },
     "execution_count": 2,
     "metadata": {},
     "output_type": "execute_result"
    }
   ],
   "source": [
    "data.head(20)"
   ]
  },
  {
   "cell_type": "markdown",
   "id": "31d34e12",
   "metadata": {
    "deletable": false,
    "editable": false,
    "id": "1c12e233"
   },
   "source": [
    "**Задание 3. Выведите основную информацию о датафрейме с помощью метода `info()`.**"
   ]
  },
  {
   "cell_type": "code",
   "execution_count": 3,
   "id": "65de483c",
   "metadata": {
    "deletable": false,
    "id": "2b757bca",
    "outputId": "15376089-8dad-46c9-b520-c05248d43158"
   },
   "outputs": [
    {
     "name": "stdout",
     "output_type": "stream",
     "text": [
      "<class 'pandas.core.frame.DataFrame'>\n",
      "RangeIndex: 21525 entries, 0 to 21524\n",
      "Data columns (total 12 columns):\n",
      " #   Column            Non-Null Count  Dtype  \n",
      "---  ------            --------------  -----  \n",
      " 0   children          21525 non-null  int64  \n",
      " 1   days_employed     19351 non-null  float64\n",
      " 2   dob_years         21525 non-null  int64  \n",
      " 3   education         21525 non-null  object \n",
      " 4   education_id      21525 non-null  int64  \n",
      " 5   family_status     21525 non-null  object \n",
      " 6   family_status_id  21525 non-null  int64  \n",
      " 7   gender            21525 non-null  object \n",
      " 8   income_type       21525 non-null  object \n",
      " 9   debt              21525 non-null  int64  \n",
      " 10  total_income      19351 non-null  float64\n",
      " 11  purpose           21525 non-null  object \n",
      "dtypes: float64(2), int64(5), object(5)\n",
      "memory usage: 2.0+ MB\n"
     ]
    }
   ],
   "source": [
    "data.info()"
   ]
  },
  {
   "cell_type": "markdown",
   "id": "c7e98451",
   "metadata": {
    "deletable": false,
    "editable": false,
    "id": "333ec665"
   },
   "source": [
    "## Предобработка данных"
   ]
  },
  {
   "cell_type": "markdown",
   "id": "923395b9",
   "metadata": {
    "deletable": false,
    "editable": false,
    "id": "02d92d53"
   },
   "source": [
    "### Удаление пропусков"
   ]
  },
  {
   "cell_type": "markdown",
   "id": "c5565f98",
   "metadata": {
    "deletable": false,
    "editable": false,
    "id": "cd84967c"
   },
   "source": [
    "**Задание 4. Выведите количество пропущенных значений для каждого столбца. Используйте комбинацию двух методов.**"
   ]
  },
  {
   "cell_type": "code",
   "execution_count": 4,
   "id": "87f16f5f",
   "metadata": {
    "deletable": false,
    "id": "7f9b2309",
    "outputId": "81f4d817-781c-465c-ed15-91ce4446810d"
   },
   "outputs": [
    {
     "data": {
      "text/plain": [
       "children               0\n",
       "days_employed       2174\n",
       "dob_years              0\n",
       "education              0\n",
       "education_id           0\n",
       "family_status          0\n",
       "family_status_id       0\n",
       "gender                 0\n",
       "income_type            0\n",
       "debt                   0\n",
       "total_income        2174\n",
       "purpose                0\n",
       "dtype: int64"
      ]
     },
     "execution_count": 4,
     "metadata": {},
     "output_type": "execute_result"
    }
   ],
   "source": [
    "data.isna().sum()"
   ]
  },
  {
   "cell_type": "markdown",
   "id": "9ab5016c",
   "metadata": {
    "deletable": false,
    "editable": false,
    "id": "db86e27b"
   },
   "source": [
    "**Задание 5. В двух столбцах есть пропущенные значения. Один из них — `days_employed`. Пропуски в этом столбце вы обработаете на следующем этапе. Другой столбец с пропущенными значениями — `total_income` — хранит данные о доходах. На сумму дохода сильнее всего влияет тип занятости, поэтому заполнить пропуски в этом столбце нужно медианным значением по каждому типу из столбца `income_type`. Например, у человека с типом занятости `сотрудник` пропуск в столбце `total_income` должен быть заполнен медианным доходом среди всех записей с тем же типом.**"
   ]
  },
  {
   "cell_type": "code",
   "execution_count": 5,
   "id": "75620506",
   "metadata": {
    "deletable": false,
    "id": "42006a93"
   },
   "outputs": [],
   "source": [
    "for t in data['income_type'].unique():\n",
    "    data.loc[(data['income_type'] == t) & (data['total_income'].isna()), 'total_income'] = \\\n",
    "    data.loc[(data['income_type'] == t), 'total_income'].median()"
   ]
  },
  {
   "cell_type": "markdown",
   "id": "4c7536c8",
   "metadata": {
    "deletable": false,
    "editable": false,
    "id": "89da5ece"
   },
   "source": [
    "### Обработка аномальных значений"
   ]
  },
  {
   "cell_type": "markdown",
   "id": "fb6a893c",
   "metadata": {
    "deletable": false,
    "editable": false,
    "id": "57964554"
   },
   "source": [
    "**Задание 6. В данных могут встречаться артефакты (аномалии) — значения, которые не отражают действительность и появились по какой-то ошибке. таким артефактом будет отрицательное количество дней трудового стажа в столбце `days_employed`. Для реальных данных это нормально. Обработайте значения в этом столбце: замените все отрицательные значения положительными с помощью метода `abs()`.**"
   ]
  },
  {
   "cell_type": "code",
   "execution_count": 6,
   "id": "45f466fc",
   "metadata": {
    "deletable": false,
    "id": "f6f055bf"
   },
   "outputs": [],
   "source": [
    "data['days_employed'] = data['days_employed'].abs()"
   ]
  },
  {
   "cell_type": "markdown",
   "id": "f8715678",
   "metadata": {
    "deletable": false,
    "editable": false,
    "id": "6107dd2f"
   },
   "source": [
    "**Задание 7. Для каждого типа занятости выведите медианное значение трудового стажа `days_employed` в днях.**"
   ]
  },
  {
   "cell_type": "code",
   "execution_count": 7,
   "id": "2f7480f1",
   "metadata": {
    "deletable": false,
    "id": "85a5faf6",
    "outputId": "801ef80e-522b-4668-f34e-565af7432bcf"
   },
   "outputs": [
    {
     "data": {
      "text/plain": [
       "income_type\n",
       "безработный        366413.652744\n",
       "в декрете            3296.759962\n",
       "госслужащий          2689.368353\n",
       "компаньон            1547.382223\n",
       "пенсионер          365213.306266\n",
       "предприниматель       520.848083\n",
       "сотрудник            1574.202821\n",
       "студент               578.751554\n",
       "Name: days_employed, dtype: float64"
      ]
     },
     "execution_count": 7,
     "metadata": {},
     "output_type": "execute_result"
    }
   ],
   "source": [
    "data.groupby('income_type')['days_employed'].agg('median')"
   ]
  },
  {
   "cell_type": "markdown",
   "id": "adb569ed",
   "metadata": {
    "deletable": false,
    "editable": false,
    "id": "38d1a030"
   },
   "source": [
    "У двух типов (безработные и пенсионеры) получатся аномально большие значения. Исправить такие значения сложно, поэтому оставьте их как есть. Тем более этот столбец не понадобится вам для исследования."
   ]
  },
  {
   "cell_type": "markdown",
   "id": "bad06119",
   "metadata": {
    "deletable": false,
    "editable": false,
    "id": "d8a9f147"
   },
   "source": [
    "**Задание 8. Выведите перечень уникальных значений столбца `children`.**"
   ]
  },
  {
   "cell_type": "code",
   "execution_count": 8,
   "id": "52316101",
   "metadata": {
    "deletable": false,
    "id": "ef5056eb",
    "outputId": "6975b15c-7f95-4697-d16d-a0c79b657b03"
   },
   "outputs": [
    {
     "data": {
      "text/plain": [
       "array([ 1,  0,  3,  2, -1,  4, 20,  5])"
      ]
     },
     "execution_count": 8,
     "metadata": {},
     "output_type": "execute_result"
    }
   ],
   "source": [
    "data['children'].unique()"
   ]
  },
  {
   "cell_type": "markdown",
   "id": "992205b2",
   "metadata": {
    "deletable": false,
    "editable": false,
    "id": "40b9ebf2"
   },
   "source": [
    "**Задание 9. В столбце `children` есть два аномальных значения. Удалите строки, в которых встречаются такие аномальные значения из датафрейма `data`.**"
   ]
  },
  {
   "cell_type": "code",
   "execution_count": 9,
   "id": "c375347f",
   "metadata": {
    "deletable": false,
    "id": "3ff9801d"
   },
   "outputs": [],
   "source": [
    "data = data[(data['children'] != -1) & (data['children'] != 20)]"
   ]
  },
  {
   "cell_type": "markdown",
   "id": "8a040ed4",
   "metadata": {
    "deletable": false,
    "editable": false,
    "id": "bbc4d0ce"
   },
   "source": [
    "**Задание 10. Ещё раз выведите перечень уникальных значений столбца `children`, чтобы убедиться, что артефакты удалены.**"
   ]
  },
  {
   "cell_type": "code",
   "execution_count": 10,
   "id": "abb19412",
   "metadata": {
    "deletable": false,
    "id": "ad4fa8b7",
    "outputId": "b2097101-d49d-44d9-901b-32a65c9463d1"
   },
   "outputs": [
    {
     "data": {
      "text/plain": [
       "array([1, 0, 3, 2, 4, 5])"
      ]
     },
     "execution_count": 10,
     "metadata": {},
     "output_type": "execute_result"
    }
   ],
   "source": [
    "data['children'].unique()"
   ]
  },
  {
   "cell_type": "markdown",
   "id": "14bbf404",
   "metadata": {
    "deletable": false,
    "editable": false,
    "id": "75440b63"
   },
   "source": [
    "### Удаление пропусков (продолжение)"
   ]
  },
  {
   "cell_type": "markdown",
   "id": "c0097a95",
   "metadata": {
    "deletable": false,
    "editable": false,
    "id": "f4ea573f"
   },
   "source": [
    "**Задание 11. Заполните пропуски в столбце `days_employed` медианными значениями по каждого типа занятости `income_type`.**"
   ]
  },
  {
   "cell_type": "code",
   "execution_count": 11,
   "id": "2a04d09a",
   "metadata": {
    "deletable": false,
    "id": "af6b1a7e"
   },
   "outputs": [],
   "source": [
    "for t in data['income_type'].unique():\n",
    "    data.loc[(data['income_type'] == t) & (data['days_employed'].isna()), 'days_employed'] = \\\n",
    "    data.loc[(data['income_type'] == t), 'days_employed'].median()"
   ]
  },
  {
   "cell_type": "markdown",
   "id": "f94d1f03",
   "metadata": {
    "deletable": false,
    "editable": false,
    "id": "2753f40d"
   },
   "source": [
    "**Задание 12. Убедитесь, что все пропуски заполнены. Проверьте себя и ещё раз выведите количество пропущенных значений для каждого столбца с помощью двух методов.**"
   ]
  },
  {
   "cell_type": "code",
   "execution_count": 12,
   "id": "97f6b3d1",
   "metadata": {
    "deletable": false,
    "id": "55f78bc2",
    "outputId": "8da1e4e1-358e-4e87-98c9-f261bce0a7b2"
   },
   "outputs": [
    {
     "data": {
      "text/plain": [
       "children            0\n",
       "days_employed       0\n",
       "dob_years           0\n",
       "education           0\n",
       "education_id        0\n",
       "family_status       0\n",
       "family_status_id    0\n",
       "gender              0\n",
       "income_type         0\n",
       "debt                0\n",
       "total_income        0\n",
       "purpose             0\n",
       "dtype: int64"
      ]
     },
     "execution_count": 12,
     "metadata": {},
     "output_type": "execute_result"
    }
   ],
   "source": [
    "data.isna().sum()"
   ]
  },
  {
   "cell_type": "markdown",
   "id": "a7d4a1c5",
   "metadata": {
    "deletable": false,
    "editable": false,
    "id": "ddc81e43"
   },
   "source": [
    "### Изменение типов данных"
   ]
  },
  {
   "cell_type": "markdown",
   "id": "aefefdd9",
   "metadata": {
    "deletable": false,
    "editable": false,
    "id": "42d19d24"
   },
   "source": [
    "**Задание 13. Замените вещественный тип данных в столбце `total_income` на целочисленный с помощью метода `astype()`.**"
   ]
  },
  {
   "cell_type": "code",
   "execution_count": 13,
   "id": "8b0f3087",
   "metadata": {
    "deletable": false,
    "id": "920b65ad"
   },
   "outputs": [],
   "source": [
    "data['total_income'] = data['total_income'].astype(int)"
   ]
  },
  {
   "cell_type": "markdown",
   "id": "db276c9b",
   "metadata": {
    "deletable": false,
    "editable": false,
    "id": "80c420ba"
   },
   "source": [
    "### Обработка дубликатов"
   ]
  },
  {
   "cell_type": "markdown",
   "id": "3c6167a9",
   "metadata": {
    "deletable": false,
    "editable": false
   },
   "source": [
    "**Задание 14. Обработайте неявные дубликаты в столбце `education`. В этом столбце есть одни и те же значения, но записанные по-разному: с использованием заглавных и строчных букв. Приведите их к нижнему регистру. Проверьте остальные столбцы.**"
   ]
  },
  {
   "cell_type": "code",
   "execution_count": 14,
   "id": "83677989",
   "metadata": {
    "deletable": false
   },
   "outputs": [],
   "source": [
    "data['education'] = data['education'].str.lower()"
   ]
  },
  {
   "cell_type": "markdown",
   "id": "3b0bb0bb",
   "metadata": {
    "deletable": false,
    "editable": false,
    "id": "dc587695"
   },
   "source": [
    "**Задание 15. Выведите на экран количество строк-дубликатов в данных. Если такие строки присутствуют, удалите их.**"
   ]
  },
  {
   "cell_type": "code",
   "execution_count": 15,
   "id": "a4df3afc",
   "metadata": {
    "deletable": false,
    "id": "3ee445e4",
    "outputId": "9684deba-1934-42d1-99e1-cda61740f822"
   },
   "outputs": [
    {
     "data": {
      "text/plain": [
       "71"
      ]
     },
     "execution_count": 15,
     "metadata": {},
     "output_type": "execute_result"
    }
   ],
   "source": [
    "data.duplicated().sum()"
   ]
  },
  {
   "cell_type": "code",
   "execution_count": 16,
   "id": "1e527b00",
   "metadata": {
    "deletable": false,
    "id": "8575fe05"
   },
   "outputs": [],
   "source": [
    "data = data.drop_duplicates()"
   ]
  },
  {
   "cell_type": "markdown",
   "id": "9a712bd2",
   "metadata": {
    "deletable": false,
    "editable": false,
    "id": "9904cf55"
   },
   "source": [
    "### Категоризация данных"
   ]
  },
  {
   "cell_type": "markdown",
   "id": "a08f3e8f",
   "metadata": {
    "deletable": false,
    "editable": false,
    "id": "72fcc8a2"
   },
   "source": [
    "**Задание 16. На основании диапазонов, указанных ниже, создайте в датафрейме `data` столбец `total_income_category` с категориями:**\n",
    "\n",
    "- 0–30000 — `'E'`;\n",
    "- 30001–50000 — `'D'`;\n",
    "- 50001–200000 — `'C'`;\n",
    "- 200001–1000000 — `'B'`;\n",
    "- 1000001 и выше — `'A'`.\n",
    "\n",
    "\n",
    "**Например, кредитополучателю с доходом 25000 нужно назначить категорию `'E'`, а клиенту, получающему 235000, — `'B'`. Используйте собственную функцию с именем `categorize_income()` и метод `apply()`.**"
   ]
  },
  {
   "cell_type": "code",
   "execution_count": 17,
   "id": "688ed8c5",
   "metadata": {
    "deletable": false,
    "id": "e1771346"
   },
   "outputs": [],
   "source": [
    "def categorize_income(income):\n",
    "    try:\n",
    "        if 0 <= income <= 30000:\n",
    "            return 'E'\n",
    "        elif 30001 <= income <= 50000:\n",
    "            return 'D'\n",
    "        elif 50001 <= income <= 200000:\n",
    "            return 'C'\n",
    "        elif 200001 <= income <= 1000000:\n",
    "            return 'B'\n",
    "        elif income >= 1000001:\n",
    "            return 'A'\n",
    "    except:\n",
    "        pass"
   ]
  },
  {
   "cell_type": "code",
   "execution_count": 18,
   "id": "90bb0d36",
   "metadata": {
    "deletable": false,
    "id": "d5f3586d"
   },
   "outputs": [],
   "source": [
    "data['total_income_category'] = data['total_income'].apply(categorize_income)"
   ]
  },
  {
   "cell_type": "markdown",
   "id": "2ec805b4",
   "metadata": {
    "deletable": false,
    "editable": false,
    "id": "dde49b5c"
   },
   "source": [
    "**Задание 17. Выведите на экран перечень уникальных целей взятия кредита из столбца `purpose`.**"
   ]
  },
  {
   "cell_type": "code",
   "execution_count": 19,
   "id": "084ee5d5",
   "metadata": {
    "deletable": false,
    "id": "f67ce9b3",
    "outputId": "673c12d9-7d7e-4ae0-9812-c622c89dd244"
   },
   "outputs": [
    {
     "data": {
      "text/plain": [
       "array(['покупка жилья', 'приобретение автомобиля',\n",
       "       'дополнительное образование', 'сыграть свадьбу',\n",
       "       'операции с жильем', 'образование', 'на проведение свадьбы',\n",
       "       'покупка жилья для семьи', 'покупка недвижимости',\n",
       "       'покупка коммерческой недвижимости', 'покупка жилой недвижимости',\n",
       "       'строительство собственной недвижимости', 'недвижимость',\n",
       "       'строительство недвижимости', 'на покупку подержанного автомобиля',\n",
       "       'на покупку своего автомобиля',\n",
       "       'операции с коммерческой недвижимостью',\n",
       "       'строительство жилой недвижимости', 'жилье',\n",
       "       'операции со своей недвижимостью', 'автомобили',\n",
       "       'заняться образованием', 'сделка с подержанным автомобилем',\n",
       "       'получение образования', 'автомобиль', 'свадьба',\n",
       "       'получение дополнительного образования', 'покупка своего жилья',\n",
       "       'операции с недвижимостью', 'получение высшего образования',\n",
       "       'свой автомобиль', 'сделка с автомобилем',\n",
       "       'профильное образование', 'высшее образование',\n",
       "       'покупка жилья для сдачи', 'на покупку автомобиля', 'ремонт жилью',\n",
       "       'заняться высшим образованием'], dtype=object)"
      ]
     },
     "execution_count": 19,
     "metadata": {},
     "output_type": "execute_result"
    }
   ],
   "source": [
    "data['purpose'].unique()"
   ]
  },
  {
   "cell_type": "markdown",
   "id": "1400dd02",
   "metadata": {
    "deletable": false,
    "editable": false,
    "id": "85d0aef0"
   },
   "source": [
    "**Задание 18. Создайте функцию, которая на основании данных из столбца `purpose` сформирует новый столбец `purpose_category`, в который войдут следующие категории:**\n",
    "\n",
    "- `'операции с автомобилем'`,\n",
    "- `'операции с недвижимостью'`,\n",
    "- `'проведение свадьбы'`,\n",
    "- `'получение образования'`.\n",
    "\n",
    "**Например, если в столбце `purpose` находится подстрока `'на покупку автомобиля'`, то в столбце `purpose_category` должна появиться строка `'операции с автомобилем'`.**\n",
    "\n",
    "**Используйте собственную функцию с именем `categorize_purpose()` и метод `apply()`. Изучите данные в столбце `purpose` и определите, какие подстроки помогут вам правильно определить категорию.**"
   ]
  },
  {
   "cell_type": "code",
   "execution_count": 20,
   "id": "851b4c62",
   "metadata": {
    "deletable": false,
    "id": "e149fab4"
   },
   "outputs": [],
   "source": [
    "def categorize_purpose(row):\n",
    "    try:\n",
    "        if 'автом' in row:\n",
    "            return 'операции с автомобилем'\n",
    "        elif 'жил' in row or 'недвиж' in row:\n",
    "            return 'операции с недвижимостью'\n",
    "        elif 'свад' in row:\n",
    "            return 'проведение свадьбы'\n",
    "        elif 'образов' in row:\n",
    "            return 'получение образования'\n",
    "    except:\n",
    "        return 'нет категории'"
   ]
  },
  {
   "cell_type": "code",
   "execution_count": 21,
   "id": "51508f7a",
   "metadata": {
    "deletable": false,
    "id": "bf36e69b"
   },
   "outputs": [],
   "source": [
    "data['purpose_category'] = data['purpose'].apply(categorize_purpose)"
   ]
  },
  {
   "cell_type": "markdown",
   "id": "28b06964",
   "metadata": {
    "deletable": false,
    "editable": false,
    "id": "09b242bf"
   },
   "source": [
    "### Шаг 3. Исследуйте данные и ответьте на вопросы"
   ]
  },
  {
   "cell_type": "markdown",
   "id": "e5a6a061",
   "metadata": {},
   "source": [
    "<div class=\"alert alert-danger\">\n",
    "<b>Комментарий ревьюера №1</b> Замечание по всему разделу ответов на вопросы\n",
    "    \n",
    "Гораздо рациональнее здесь воспользоваться `pivot_table()`.\n",
    "    \n",
    "Чтобы найти долю должников, нужно количество должников поделить на общее число заемщиков. Эту долю можно найти с помощью функции агрегации `mean`\n",
    "    \n",
    "Попробуй получить сводную следующего вида. В индексе столбец, который исследуем (в первом вопросе это количество детей), а столбцы: 'Всего кредитополучателей', 'Всего должников', 'Доля должников'. Учитывай, что использовать параметр columns не обязательно, а в параметр aggfunc можно указывать несколько функций агрегации сразу.\n",
    "\n",
    "Также могу посоветовать переименовать столбцы и написать функцию для построения сводных во всех вопросах.\n",
    "</div>"
   ]
  },
  {
   "cell_type": "markdown",
   "id": "393ff686",
   "metadata": {
    "deletable": false,
    "editable": false,
    "id": "c5d66278"
   },
   "source": [
    "#### 3.1 Есть ли зависимость между количеством детей и возвратом кредита в срок?"
   ]
  },
  {
   "cell_type": "code",
   "execution_count": 22,
   "id": "26459f2a",
   "metadata": {
    "deletable": false,
    "id": "2cacfc4a"
   },
   "outputs": [
    {
     "data": {
      "text/html": [
       "<div>\n",
       "<style scoped>\n",
       "    .dataframe tbody tr th:only-of-type {\n",
       "        vertical-align: middle;\n",
       "    }\n",
       "\n",
       "    .dataframe tbody tr th {\n",
       "        vertical-align: top;\n",
       "    }\n",
       "\n",
       "    .dataframe thead tr th {\n",
       "        text-align: left;\n",
       "    }\n",
       "\n",
       "    .dataframe thead tr:last-of-type th {\n",
       "        text-align: right;\n",
       "    }\n",
       "</style>\n",
       "<table border=\"1\" class=\"dataframe\">\n",
       "  <thead>\n",
       "    <tr>\n",
       "      <th></th>\n",
       "      <th>Всего кредитополучателей</th>\n",
       "      <th>Всего должников</th>\n",
       "      <th>Доля должников</th>\n",
       "    </tr>\n",
       "    <tr>\n",
       "      <th></th>\n",
       "      <th></th>\n",
       "      <th></th>\n",
       "      <th></th>\n",
       "    </tr>\n",
       "    <tr>\n",
       "      <th>children</th>\n",
       "      <th></th>\n",
       "      <th></th>\n",
       "      <th></th>\n",
       "    </tr>\n",
       "  </thead>\n",
       "  <tbody>\n",
       "    <tr>\n",
       "      <th>0</th>\n",
       "      <td>14091</td>\n",
       "      <td>1063</td>\n",
       "      <td>7.543822</td>\n",
       "    </tr>\n",
       "    <tr>\n",
       "      <th>1</th>\n",
       "      <td>4808</td>\n",
       "      <td>444</td>\n",
       "      <td>9.234609</td>\n",
       "    </tr>\n",
       "    <tr>\n",
       "      <th>2</th>\n",
       "      <td>2052</td>\n",
       "      <td>194</td>\n",
       "      <td>9.454191</td>\n",
       "    </tr>\n",
       "    <tr>\n",
       "      <th>3</th>\n",
       "      <td>330</td>\n",
       "      <td>27</td>\n",
       "      <td>8.181818</td>\n",
       "    </tr>\n",
       "    <tr>\n",
       "      <th>4</th>\n",
       "      <td>41</td>\n",
       "      <td>4</td>\n",
       "      <td>9.756098</td>\n",
       "    </tr>\n",
       "    <tr>\n",
       "      <th>5</th>\n",
       "      <td>9</td>\n",
       "      <td>0</td>\n",
       "      <td>0.000000</td>\n",
       "    </tr>\n",
       "  </tbody>\n",
       "</table>\n",
       "</div>"
      ],
      "text/plain": [
       "         Всего кредитополучателей Всего должников Доля должников\n",
       "                                                                \n",
       "children                                                        \n",
       "0                           14091            1063       7.543822\n",
       "1                            4808             444       9.234609\n",
       "2                            2052             194       9.454191\n",
       "3                             330              27       8.181818\n",
       "4                              41               4       9.756098\n",
       "5                               9               0       0.000000"
      ]
     },
     "execution_count": 22,
     "metadata": {},
     "output_type": "execute_result"
    }
   ],
   "source": [
    "#data.head(30)\n",
    "#a = data.groupby('children')['debt'].sum() / data.groupby('children')['debt'].count() *100\n",
    "#a = data.groupby('children').agg({'debt':'sum','children': 'count'})\n",
    "#a[\"medium\"] =  a['debt'] / a['children'] * 100\n",
    "#a\n",
    "def test(x):\n",
    "    a = data.pivot_table(index = x, values = 'debt', aggfunc = ['count', 'sum', 'mean'])\n",
    "    a = a.rename(columns={'debt':' ','count': 'Всего кредитополучателей', 'sum':'Всего должников', 'mean': 'Доля должников'})\n",
    "    a['Доля должников'] *=100 \n",
    "    return a\n",
    "test('children')"
   ]
  },
  {
   "cell_type": "markdown",
   "id": "13d00627",
   "metadata": {
    "deletable": false,
    "id": "3a6b99ec"
   },
   "source": [
    "**Вывод:** Люди без детей реже оказываются в должниках. \n",
    "Наличие детей незначительно сказывается на своевременном возвращении кредита, одако стоит ометить, что процент не выплативших вовремя кредитов у людей без детей чуть ниже, чем у людей с детьми(7,5 % против 9 %). Также необходимо отметить, что наличие 5 детей не гарантирует возврат кредита, поскольку выборка у данной категории незначительна(9 человек) "
   ]
  },
  {
   "cell_type": "markdown",
   "id": "4efb66ba",
   "metadata": {},
   "source": [
    "<div class=\"alert alert-success\">\n",
    "<b>Комментарий ревьюера №1</b> \n",
    "    \n",
    "Хороший вывод\n",
    "</div>"
   ]
  },
  {
   "cell_type": "markdown",
   "id": "29c52c6c",
   "metadata": {
    "deletable": false,
    "editable": false,
    "id": "97be82ca"
   },
   "source": [
    "#### 3.2 Есть ли зависимость между семейным положением и возвратом кредита в срок?"
   ]
  },
  {
   "cell_type": "code",
   "execution_count": 23,
   "id": "f2658d92",
   "metadata": {
    "deletable": false,
    "id": "dc3f7ee8"
   },
   "outputs": [
    {
     "data": {
      "text/html": [
       "<div>\n",
       "<style scoped>\n",
       "    .dataframe tbody tr th:only-of-type {\n",
       "        vertical-align: middle;\n",
       "    }\n",
       "\n",
       "    .dataframe tbody tr th {\n",
       "        vertical-align: top;\n",
       "    }\n",
       "\n",
       "    .dataframe thead tr th {\n",
       "        text-align: left;\n",
       "    }\n",
       "\n",
       "    .dataframe thead tr:last-of-type th {\n",
       "        text-align: right;\n",
       "    }\n",
       "</style>\n",
       "<table border=\"1\" class=\"dataframe\">\n",
       "  <thead>\n",
       "    <tr>\n",
       "      <th></th>\n",
       "      <th>Всего кредитополучателей</th>\n",
       "      <th>Всего должников</th>\n",
       "      <th>Доля должников</th>\n",
       "    </tr>\n",
       "    <tr>\n",
       "      <th></th>\n",
       "      <th></th>\n",
       "      <th></th>\n",
       "      <th></th>\n",
       "    </tr>\n",
       "    <tr>\n",
       "      <th>family_status</th>\n",
       "      <th></th>\n",
       "      <th></th>\n",
       "      <th></th>\n",
       "    </tr>\n",
       "  </thead>\n",
       "  <tbody>\n",
       "    <tr>\n",
       "      <th>Не женат / не замужем</th>\n",
       "      <td>2796</td>\n",
       "      <td>273</td>\n",
       "      <td>9.763948</td>\n",
       "    </tr>\n",
       "    <tr>\n",
       "      <th>в разводе</th>\n",
       "      <td>1189</td>\n",
       "      <td>84</td>\n",
       "      <td>7.064760</td>\n",
       "    </tr>\n",
       "    <tr>\n",
       "      <th>вдовец / вдова</th>\n",
       "      <td>951</td>\n",
       "      <td>63</td>\n",
       "      <td>6.624606</td>\n",
       "    </tr>\n",
       "    <tr>\n",
       "      <th>гражданский брак</th>\n",
       "      <td>4134</td>\n",
       "      <td>385</td>\n",
       "      <td>9.313014</td>\n",
       "    </tr>\n",
       "    <tr>\n",
       "      <th>женат / замужем</th>\n",
       "      <td>12261</td>\n",
       "      <td>927</td>\n",
       "      <td>7.560558</td>\n",
       "    </tr>\n",
       "  </tbody>\n",
       "</table>\n",
       "</div>"
      ],
      "text/plain": [
       "                      Всего кредитополучателей Всего должников Доля должников\n",
       "                                                                             \n",
       "family_status                                                                \n",
       "Не женат / не замужем                     2796             273       9.763948\n",
       "в разводе                                 1189              84       7.064760\n",
       "вдовец / вдова                             951              63       6.624606\n",
       "гражданский брак                          4134             385       9.313014\n",
       "женат / замужем                          12261             927       7.560558"
      ]
     },
     "execution_count": 23,
     "metadata": {},
     "output_type": "execute_result"
    }
   ],
   "source": [
    "#data.groupby('family_status')['debt'].sum() / data.groupby('family_status')['debt'].count() *100\n",
    "#b = data.groupby('family_status').agg({'debt':'sum','family_status': 'count'})\n",
    "#b[\"medium\"] =  b['debt'] / b['family_status'] * 100\n",
    "#b\n",
    "test('family_status')"
   ]
  },
  {
   "cell_type": "markdown",
   "id": "5a08e034",
   "metadata": {
    "deletable": false,
    "id": "1cef7837"
   },
   "source": [
    "**Вывод:** не женатые/не замужние и в гражданском браке чаще оказываются в должниках, чем люди из других категорий. Наиболее предпочтительные заемщики для банка люди находящиеся/находившиеся в браке. Предположительно это связанно с возрастом заемщиков, а не с их семейным положением. Поскольку люди не женатые/не замужние и в гражданском браке как правило(предположение) моложе остальных категорий. "
   ]
  },
  {
   "cell_type": "markdown",
   "id": "ce5c1ef1",
   "metadata": {},
   "source": [
    "<div class=\"alert alert-success\">\n",
    "<b>Комментарий ревьюера №1</b> \n",
    "    \n",
    "Хорошо\n",
    "</div>"
   ]
  },
  {
   "cell_type": "markdown",
   "id": "b79ea0c2",
   "metadata": {
    "deletable": false,
    "editable": false,
    "id": "1e8b2fca"
   },
   "source": [
    "#### 3.3 Есть ли зависимость между уровнем дохода и возвратом кредита в срок?"
   ]
  },
  {
   "cell_type": "code",
   "execution_count": 24,
   "id": "870f637d",
   "metadata": {
    "deletable": false,
    "id": "cd7e3720"
   },
   "outputs": [
    {
     "data": {
      "text/html": [
       "<div>\n",
       "<style scoped>\n",
       "    .dataframe tbody tr th:only-of-type {\n",
       "        vertical-align: middle;\n",
       "    }\n",
       "\n",
       "    .dataframe tbody tr th {\n",
       "        vertical-align: top;\n",
       "    }\n",
       "\n",
       "    .dataframe thead tr th {\n",
       "        text-align: left;\n",
       "    }\n",
       "\n",
       "    .dataframe thead tr:last-of-type th {\n",
       "        text-align: right;\n",
       "    }\n",
       "</style>\n",
       "<table border=\"1\" class=\"dataframe\">\n",
       "  <thead>\n",
       "    <tr>\n",
       "      <th></th>\n",
       "      <th>Всего кредитополучателей</th>\n",
       "      <th>Всего должников</th>\n",
       "      <th>Доля должников</th>\n",
       "      <th>Доход</th>\n",
       "    </tr>\n",
       "    <tr>\n",
       "      <th></th>\n",
       "      <th></th>\n",
       "      <th></th>\n",
       "      <th></th>\n",
       "      <th></th>\n",
       "    </tr>\n",
       "    <tr>\n",
       "      <th>total_income_category</th>\n",
       "      <th></th>\n",
       "      <th></th>\n",
       "      <th></th>\n",
       "      <th></th>\n",
       "    </tr>\n",
       "  </thead>\n",
       "  <tbody>\n",
       "    <tr>\n",
       "      <th>A</th>\n",
       "      <td>25</td>\n",
       "      <td>2</td>\n",
       "      <td>8.000000</td>\n",
       "      <td>1000001 и выше</td>\n",
       "    </tr>\n",
       "    <tr>\n",
       "      <th>B</th>\n",
       "      <td>5014</td>\n",
       "      <td>354</td>\n",
       "      <td>7.060231</td>\n",
       "      <td>200001–1000000</td>\n",
       "    </tr>\n",
       "    <tr>\n",
       "      <th>C</th>\n",
       "      <td>15921</td>\n",
       "      <td>1353</td>\n",
       "      <td>8.498210</td>\n",
       "      <td>50001–200000</td>\n",
       "    </tr>\n",
       "    <tr>\n",
       "      <th>D</th>\n",
       "      <td>349</td>\n",
       "      <td>21</td>\n",
       "      <td>6.017192</td>\n",
       "      <td>30001–50000</td>\n",
       "    </tr>\n",
       "    <tr>\n",
       "      <th>E</th>\n",
       "      <td>22</td>\n",
       "      <td>2</td>\n",
       "      <td>9.090909</td>\n",
       "      <td>0–30000</td>\n",
       "    </tr>\n",
       "  </tbody>\n",
       "</table>\n",
       "</div>"
      ],
      "text/plain": [
       "                      Всего кредитополучателей Всего должников Доля должников  \\\n",
       "                                                                                \n",
       "total_income_category                                                           \n",
       "A                                           25               2       8.000000   \n",
       "B                                         5014             354       7.060231   \n",
       "C                                        15921            1353       8.498210   \n",
       "D                                          349              21       6.017192   \n",
       "E                                           22               2       9.090909   \n",
       "\n",
       "                                Доход  \n",
       "                                       \n",
       "total_income_category                  \n",
       "A                      1000001 и выше  \n",
       "B                      200001–1000000  \n",
       "C                        50001–200000  \n",
       "D                         30001–50000  \n",
       "E                             0–30000  "
      ]
     },
     "execution_count": 24,
     "metadata": {},
     "output_type": "execute_result"
    }
   ],
   "source": [
    "#data.groupby('total_income_category')['debt'].sum() / data.groupby('total_income_category')['debt'].count() * 100 \n",
    "#c = data.groupby('total_income_category').agg({'debt':'sum','total_income_category': 'count'})\n",
    "#c[\"medium\"] =  c['debt'] / c['total_income_category'] * 100\n",
    "x = ['1000001 и выше' , '200001–1000000' , '50001–200000' , '30001–50000' , '0–30000']\n",
    "c = test('total_income_category')\n",
    "c['Доход'] = x\n",
    "c\n"
   ]
  },
  {
   "cell_type": "markdown",
   "id": "e5c6fc71",
   "metadata": {
    "deletable": false,
    "id": "e8593def"
   },
   "source": [
    "**Вывод:** Люди с низким доходом(менее 30 тыс рублей) чеще остальных оказываются в должниках. Однако в целом доход не значительно влияет на вероятность того, что человек не выплатит заем в срок, поскольку люди с доходом от 50 т.руб. до 200 т. это самая массовая категория заемщиков, в связи с эти процент должников выше. Но при анализе самых массовых категорий можно предположить, что с увеличением дохода поцент должников снижается. (категория А не показательна из за недостаточного количества выборки)"
   ]
  },
  {
   "cell_type": "markdown",
   "id": "dda2a78e",
   "metadata": {},
   "source": [
    "<div class=\"alert alert-warning\">\n",
    "<b>Комментарий ревьюера №1</b> \n",
    "    \n",
    "Здесь лучше делать выводы по двум самым крупным категориям - B и С\n",
    "</div>"
   ]
  },
  {
   "cell_type": "markdown",
   "id": "f48719d9",
   "metadata": {},
   "source": [
    "<div class=\"alert alert-warning\">\n",
    "<b>Комментарий ревьюера №2</b> \n",
    "    \n",
    "Доля должников в категории В ниже, чем в категории С. По остальным категориям данных недостаточно для корректных выводов, статпогрешность большая.\n",
    "</div>"
   ]
  },
  {
   "cell_type": "markdown",
   "id": "71d38794",
   "metadata": {
    "deletable": false,
    "editable": false,
    "id": "99ecbd1f"
   },
   "source": [
    "#### 3.4 Как разные цели кредита влияют на его возврат в срок?"
   ]
  },
  {
   "cell_type": "code",
   "execution_count": 25,
   "id": "c9a58610",
   "metadata": {
    "deletable": false,
    "id": "2b687290"
   },
   "outputs": [
    {
     "data": {
      "text/html": [
       "<div>\n",
       "<style scoped>\n",
       "    .dataframe tbody tr th:only-of-type {\n",
       "        vertical-align: middle;\n",
       "    }\n",
       "\n",
       "    .dataframe tbody tr th {\n",
       "        vertical-align: top;\n",
       "    }\n",
       "\n",
       "    .dataframe thead tr th {\n",
       "        text-align: left;\n",
       "    }\n",
       "\n",
       "    .dataframe thead tr:last-of-type th {\n",
       "        text-align: right;\n",
       "    }\n",
       "</style>\n",
       "<table border=\"1\" class=\"dataframe\">\n",
       "  <thead>\n",
       "    <tr>\n",
       "      <th></th>\n",
       "      <th>Всего кредитополучателей</th>\n",
       "      <th>Всего должников</th>\n",
       "      <th>Доля должников</th>\n",
       "    </tr>\n",
       "    <tr>\n",
       "      <th></th>\n",
       "      <th></th>\n",
       "      <th></th>\n",
       "      <th></th>\n",
       "    </tr>\n",
       "    <tr>\n",
       "      <th>purpose_category</th>\n",
       "      <th></th>\n",
       "      <th></th>\n",
       "      <th></th>\n",
       "    </tr>\n",
       "  </thead>\n",
       "  <tbody>\n",
       "    <tr>\n",
       "      <th>операции с автомобилем</th>\n",
       "      <td>4279</td>\n",
       "      <td>400</td>\n",
       "      <td>9.347978</td>\n",
       "    </tr>\n",
       "    <tr>\n",
       "      <th>операции с недвижимостью</th>\n",
       "      <td>10751</td>\n",
       "      <td>780</td>\n",
       "      <td>7.255139</td>\n",
       "    </tr>\n",
       "    <tr>\n",
       "      <th>получение образования</th>\n",
       "      <td>3988</td>\n",
       "      <td>369</td>\n",
       "      <td>9.252758</td>\n",
       "    </tr>\n",
       "    <tr>\n",
       "      <th>проведение свадьбы</th>\n",
       "      <td>2313</td>\n",
       "      <td>183</td>\n",
       "      <td>7.911803</td>\n",
       "    </tr>\n",
       "  </tbody>\n",
       "</table>\n",
       "</div>"
      ],
      "text/plain": [
       "                         Всего кредитополучателей Всего должников  \\\n",
       "                                                                    \n",
       "purpose_category                                                    \n",
       "операции с автомобилем                       4279             400   \n",
       "операции с недвижимостью                    10751             780   \n",
       "получение образования                        3988             369   \n",
       "проведение свадьбы                           2313             183   \n",
       "\n",
       "                         Доля должников  \n",
       "                                         \n",
       "purpose_category                         \n",
       "операции с автомобилем         9.347978  \n",
       "операции с недвижимостью       7.255139  \n",
       "получение образования          9.252758  \n",
       "проведение свадьбы             7.911803  "
      ]
     },
     "execution_count": 25,
     "metadata": {},
     "output_type": "execute_result"
    }
   ],
   "source": [
    "#data.groupby('purpose_category')['debt'].sum() / data.groupby('purpose_category')['debt'].count() * 100 \n",
    "#d = data.groupby('purpose_category').agg({'debt':'sum','purpose_category': 'count'})\n",
    "#d[\"medium\"] =  d['debt'] / d['purpose_category'] * 100\n",
    "#d\n",
    "test('purpose_category')"
   ]
  },
  {
   "cell_type": "markdown",
   "id": "56ecaafe",
   "metadata": {
    "deletable": false,
    "id": "b4bb2ce6"
   },
   "source": [
    "**Вывод:** Заемщики с целю заема на автомобили и образование чаще невыплачивают кредит в срок. Предпочтительные цели заема для банка это заемы на операции с недвижимостью и проведение свадьбы. "
   ]
  },
  {
   "cell_type": "markdown",
   "id": "2edde688",
   "metadata": {},
   "source": [
    "<div class=\"alert alert-success\">\n",
    "<b>Комментарий ревьюера №1</b> \n",
    "    \n",
    "Верно\n",
    "</div>"
   ]
  },
  {
   "cell_type": "markdown",
   "id": "32a5719f",
   "metadata": {
    "deletable": false,
    "editable": false,
    "id": "09c3ac4c"
   },
   "source": [
    "#### 3.5 Приведите возможные причины появления пропусков в исходных данных."
   ]
  },
  {
   "cell_type": "markdown",
   "id": "21ea4b14",
   "metadata": {
    "deletable": false,
    "id": "9da2ceda"
   },
   "source": [
    "*Ответ:* Причина появления пропусков в исходных данных предположительно связана либо с человеческим фактором, либо с техническими ошибками. При наборе данных некоторые сведения либо не вносились, либо вносились с логическими ошибками и они не определились (пример: случайно нажали буквы на клавиатуре или символ). \n",
    "Технические факторы могут быть связаны в ошибками при обработке данных и выгрузке."
   ]
  },
  {
   "cell_type": "markdown",
   "id": "dae6fc9c",
   "metadata": {},
   "source": [
    "<div class=\"alert alert-danger\">\n",
    "<b>Комментарий ревьюера №1</b> \n",
    "    \n",
    "Тут важно отметить человеческий и технический факторы. Клиенты могли не предоставить данные. Возможно, эту информацию не требуют в некоторых случаях. Проблемы могли возникнуть на этапе загрузки и на этапе выгрузки данных. Неправильный запрос, объединение таблиц также может быть причиной.\n",
    "</div>"
   ]
  },
  {
   "cell_type": "markdown",
   "id": "c765a4f7",
   "metadata": {
    "deletable": false,
    "editable": false,
    "id": "7b0487d6"
   },
   "source": [
    "#### 3.6 Объясните, почему заполнить пропуски медианным значением — лучшее решение для количественных переменных."
   ]
  },
  {
   "cell_type": "markdown",
   "id": "39662dc7",
   "metadata": {
    "deletable": false,
    "id": "7ecf2b8e"
   },
   "source": [
    "*Ответ:* Медианное значение отражает более реальные данные, поскольку уменьшает влияние экстремумов и экстремально завышенных или заниженных значений на усредненное.  "
   ]
  },
  {
   "cell_type": "markdown",
   "id": "2e60b38b",
   "metadata": {},
   "source": [
    "<div class=\"alert alert-danger\">\n",
    "<b>Комментарий ревьюера №1</b> \n",
    "    \n",
    "Среднее и медиана различаются, если в выборке присутствуют выбросы (значения, выделяющиеся из общей выборки). Медиана позволяет нивелировать их влияние. Экстремумы бывают у непрерывных функций. Кроме того, экстремум - это одно значение (либо максимальное, либо минимальное), а выбросов может быть несколько (аномально большие или аномально низкие значения).\n",
    "</div>"
   ]
  },
  {
   "cell_type": "markdown",
   "id": "481dc4e5",
   "metadata": {
    "deletable": false,
    "editable": false,
    "id": "6db5255a"
   },
   "source": [
    "### Шаг 4: общий вывод."
   ]
  },
  {
   "cell_type": "markdown",
   "id": "c9388c0f",
   "metadata": {
    "deletable": false,
    "id": "bad65432"
   },
   "source": [
    "Общий вывод: По изученным данным наиболее предпочтительными заемщиками для банка являются люди без детей, с доходом от 50 т рублей, находящиеся/находившиеся в браке, которые берут кредит на операции с недвижимостью.  \n",
    "Наиболее рискованным заемщиком для банка являются люди не женатые/не замужние или в гражданском браке с доходом до 50 тысяч рублей, которые берут кредит на образование или на операции с автомобилем. "
   ]
  },
  {
   "cell_type": "markdown",
   "id": "c9331b67",
   "metadata": {},
   "source": [
    "<div class=\"alert alert-warning\">\n",
    "<b>Комментарий ревьюера №1</b> \n",
    "    \n",
    "Можно пересмотреть выводы по доходу. Также можно добавить рекомендации банку-заказчику, описать портрет, наоборот, наиболее рискованного клиента.\n",
    "</div>"
   ]
  },
  {
   "cell_type": "markdown",
   "id": "ce8a14aa",
   "metadata": {},
   "source": [
    "<div class=\"alert alert-warning\">\n",
    "<b>Комментарий ревьюера №2</b> \n",
    "    \n",
    "Доля должников в категории В ниже, чем в категории С. По остальным категориям данных недостаточно для корректных выводов, статпогрешность большая.\n",
    "</div>"
   ]
  },
  {
   "cell_type": "markdown",
   "id": "75404596",
   "metadata": {},
   "source": [
    "<div style=\"border:solid purple 2px; padding: 20px\"> \n",
    "<b> <font color='purple' >   \n",
    "    \n",
    "В целом, работа хорошая. У тебя отличные аналитические навыки, но остались небольшие доработки. Доделывай и присылай на повторную проверку.\n",
    "        \n",
    "Жду твоих исправлений 😊\n",
    "</font></b>\n",
    "</div>"
   ]
  },
  {
   "cell_type": "markdown",
   "id": "2e4d6694",
   "metadata": {},
   "source": [
    "<div style=\"border:solid purple 2px; padding: 20px\"> \n",
    "<b> <font color='purple' >   \n",
    "Отлично! Критических замечаний больше нет. Проект принят! 👏 Поздравляю и желаю удачи!\n",
    "</font></b>\n",
    "</div>"
   ]
  }
 ],
 "metadata": {
  "ExecuteTimeLog": [
   {
    "duration": 58,
    "start_time": "2022-09-18T08:27:32.078Z"
   },
   {
    "duration": 501,
    "start_time": "2022-09-18T08:27:40.975Z"
   },
   {
    "duration": 33,
    "start_time": "2022-09-18T08:27:41.517Z"
   },
   {
    "duration": 19,
    "start_time": "2022-09-18T08:27:41.850Z"
   },
   {
    "duration": 11,
    "start_time": "2022-09-18T08:27:42.500Z"
   },
   {
    "duration": 41,
    "start_time": "2022-09-18T08:27:42.838Z"
   },
   {
    "duration": 5,
    "start_time": "2022-09-18T08:27:43.369Z"
   },
   {
    "duration": 8,
    "start_time": "2022-09-18T08:27:43.726Z"
   },
   {
    "duration": 6,
    "start_time": "2022-09-18T08:27:44.288Z"
   },
   {
    "duration": 8,
    "start_time": "2022-09-18T08:27:44.669Z"
   },
   {
    "duration": 6,
    "start_time": "2022-09-18T08:27:45.042Z"
   },
   {
    "duration": 47,
    "start_time": "2022-09-18T08:27:45.620Z"
   },
   {
    "duration": 10,
    "start_time": "2022-09-18T08:27:46.072Z"
   },
   {
    "duration": 4,
    "start_time": "2022-09-18T08:27:47.081Z"
   },
   {
    "duration": 12,
    "start_time": "2022-09-18T08:27:47.945Z"
   },
   {
    "duration": 31,
    "start_time": "2022-09-18T08:27:48.517Z"
   },
   {
    "duration": 27,
    "start_time": "2022-09-18T08:27:48.814Z"
   },
   {
    "duration": 4,
    "start_time": "2022-09-18T08:27:50.968Z"
   },
   {
    "duration": 16,
    "start_time": "2022-09-18T08:27:51.139Z"
   },
   {
    "duration": 7,
    "start_time": "2022-09-18T08:27:51.626Z"
   },
   {
    "duration": 3,
    "start_time": "2022-09-18T08:27:52.219Z"
   },
   {
    "duration": 9,
    "start_time": "2022-09-18T08:27:52.518Z"
   },
   {
    "duration": 11,
    "start_time": "2022-09-18T08:27:54.065Z"
   },
   {
    "duration": 9,
    "start_time": "2022-09-18T08:28:28.530Z"
   },
   {
    "duration": 13,
    "start_time": "2022-09-18T08:28:35.385Z"
   },
   {
    "duration": 19,
    "start_time": "2022-09-18T08:28:57.796Z"
   },
   {
    "duration": 36,
    "start_time": "2022-09-18T08:30:25.155Z"
   },
   {
    "duration": 5,
    "start_time": "2022-09-18T08:30:35.387Z"
   },
   {
    "duration": 7,
    "start_time": "2022-09-18T08:32:08.781Z"
   },
   {
    "duration": 6,
    "start_time": "2022-09-18T08:34:25.535Z"
   },
   {
    "duration": 22,
    "start_time": "2022-09-18T08:34:42.235Z"
   },
   {
    "duration": 73,
    "start_time": "2022-09-18T08:36:23.961Z"
   },
   {
    "duration": 12,
    "start_time": "2022-09-18T08:36:31.478Z"
   },
   {
    "duration": 12,
    "start_time": "2022-09-18T08:37:41.537Z"
   },
   {
    "duration": 8,
    "start_time": "2022-09-18T08:37:58.783Z"
   },
   {
    "duration": 10,
    "start_time": "2022-09-18T08:42:47.528Z"
   },
   {
    "duration": 6,
    "start_time": "2022-09-18T08:43:48.815Z"
   },
   {
    "duration": 9,
    "start_time": "2022-09-18T08:44:00.041Z"
   },
   {
    "duration": 9,
    "start_time": "2022-09-18T08:45:22.055Z"
   },
   {
    "duration": 13,
    "start_time": "2022-09-18T08:46:14.651Z"
   },
   {
    "duration": 8,
    "start_time": "2022-09-18T08:47:39.067Z"
   },
   {
    "duration": 11,
    "start_time": "2022-09-18T08:47:49.742Z"
   },
   {
    "duration": 11,
    "start_time": "2022-09-18T08:52:13.309Z"
   },
   {
    "duration": 12,
    "start_time": "2022-09-18T08:53:15.513Z"
   },
   {
    "duration": 15,
    "start_time": "2022-09-18T11:11:36.762Z"
   },
   {
    "duration": 9,
    "start_time": "2022-09-18T11:11:58.892Z"
   },
   {
    "duration": 9,
    "start_time": "2022-09-18T11:12:10.769Z"
   },
   {
    "duration": 7,
    "start_time": "2022-09-18T11:12:37.854Z"
   },
   {
    "duration": 44,
    "start_time": "2022-09-18T11:17:04.262Z"
   },
   {
    "duration": 42,
    "start_time": "2022-09-18T11:17:28.303Z"
   },
   {
    "duration": 11,
    "start_time": "2022-09-18T11:17:51.778Z"
   },
   {
    "duration": 9,
    "start_time": "2022-09-18T11:18:31.197Z"
   },
   {
    "duration": 9,
    "start_time": "2022-09-18T11:18:58.697Z"
   },
   {
    "duration": 8,
    "start_time": "2022-09-18T11:19:06.505Z"
   },
   {
    "duration": 11,
    "start_time": "2022-09-18T11:19:07.868Z"
   },
   {
    "duration": 10,
    "start_time": "2022-09-18T11:19:16.613Z"
   },
   {
    "duration": 10,
    "start_time": "2022-09-18T11:19:29.343Z"
   },
   {
    "duration": 8,
    "start_time": "2022-09-18T11:20:18.804Z"
   },
   {
    "duration": 9,
    "start_time": "2022-09-18T11:20:22.254Z"
   },
   {
    "duration": 11,
    "start_time": "2022-09-18T11:20:23.370Z"
   },
   {
    "duration": 4,
    "start_time": "2022-09-18T11:20:33.204Z"
   },
   {
    "duration": 8,
    "start_time": "2022-09-18T11:20:33.600Z"
   },
   {
    "duration": 10,
    "start_time": "2022-09-18T11:20:35.050Z"
   },
   {
    "duration": 7,
    "start_time": "2022-09-18T11:20:45.057Z"
   },
   {
    "duration": 8,
    "start_time": "2022-09-18T11:20:59.860Z"
   },
   {
    "duration": 6,
    "start_time": "2022-09-18T11:21:13.917Z"
   },
   {
    "duration": 8,
    "start_time": "2022-09-18T11:21:31.450Z"
   },
   {
    "duration": 8,
    "start_time": "2022-09-18T11:21:54.293Z"
   },
   {
    "duration": 11,
    "start_time": "2022-09-18T11:21:59.612Z"
   },
   {
    "duration": 10,
    "start_time": "2022-09-18T11:22:53.863Z"
   },
   {
    "duration": 14,
    "start_time": "2022-09-18T11:23:47.145Z"
   },
   {
    "duration": 11,
    "start_time": "2022-09-18T11:23:53.108Z"
   },
   {
    "duration": 14,
    "start_time": "2022-09-18T11:26:51.863Z"
   },
   {
    "duration": 596,
    "start_time": "2022-09-18T11:28:36.200Z"
   },
   {
    "duration": 18,
    "start_time": "2022-09-18T11:29:02.251Z"
   },
   {
    "duration": 14,
    "start_time": "2022-09-18T11:29:08.266Z"
   },
   {
    "duration": 11,
    "start_time": "2022-09-18T11:30:04.288Z"
   },
   {
    "duration": 13,
    "start_time": "2022-09-18T11:30:10.166Z"
   },
   {
    "duration": 15,
    "start_time": "2022-09-18T11:32:12.353Z"
   },
   {
    "duration": 16,
    "start_time": "2022-09-18T11:32:18.510Z"
   },
   {
    "duration": 15,
    "start_time": "2022-09-18T11:33:37.377Z"
   },
   {
    "duration": 17,
    "start_time": "2022-09-18T11:39:25.602Z"
   },
   {
    "duration": 18,
    "start_time": "2022-09-18T11:40:03.607Z"
   },
   {
    "duration": 12,
    "start_time": "2022-09-18T11:42:05.897Z"
   },
   {
    "duration": 14,
    "start_time": "2022-09-18T11:43:20.877Z"
   },
   {
    "duration": 13,
    "start_time": "2022-09-18T11:50:25.070Z"
   },
   {
    "duration": 17,
    "start_time": "2022-09-18T11:53:17.515Z"
   },
   {
    "duration": 19,
    "start_time": "2022-09-18T11:57:58.103Z"
   },
   {
    "duration": 16,
    "start_time": "2022-09-18T12:01:33.601Z"
   },
   {
    "duration": 16,
    "start_time": "2022-09-18T12:06:43.290Z"
   },
   {
    "duration": 560,
    "start_time": "2022-09-18T12:52:36.572Z"
   },
   {
    "duration": 29,
    "start_time": "2022-09-18T12:52:37.134Z"
   },
   {
    "duration": 36,
    "start_time": "2022-09-18T12:52:37.165Z"
   },
   {
    "duration": 15,
    "start_time": "2022-09-18T12:52:37.205Z"
   },
   {
    "duration": 45,
    "start_time": "2022-09-18T12:52:37.222Z"
   },
   {
    "duration": 5,
    "start_time": "2022-09-18T12:52:37.269Z"
   },
   {
    "duration": 31,
    "start_time": "2022-09-18T12:52:37.276Z"
   },
   {
    "duration": 6,
    "start_time": "2022-09-18T12:52:37.310Z"
   },
   {
    "duration": 8,
    "start_time": "2022-09-18T12:52:37.318Z"
   },
   {
    "duration": 6,
    "start_time": "2022-09-18T12:52:37.330Z"
   },
   {
    "duration": 64,
    "start_time": "2022-09-18T12:52:37.339Z"
   },
   {
    "duration": 14,
    "start_time": "2022-09-18T12:52:37.404Z"
   },
   {
    "duration": 13,
    "start_time": "2022-09-18T12:52:37.420Z"
   },
   {
    "duration": 17,
    "start_time": "2022-09-18T12:52:37.435Z"
   },
   {
    "duration": 28,
    "start_time": "2022-09-18T12:52:37.453Z"
   },
   {
    "duration": 29,
    "start_time": "2022-09-18T12:52:37.483Z"
   },
   {
    "duration": 5,
    "start_time": "2022-09-18T12:52:37.515Z"
   },
   {
    "duration": 19,
    "start_time": "2022-09-18T12:52:37.522Z"
   },
   {
    "duration": 11,
    "start_time": "2022-09-18T12:52:37.543Z"
   },
   {
    "duration": 5,
    "start_time": "2022-09-18T12:52:37.556Z"
   },
   {
    "duration": 44,
    "start_time": "2022-09-18T12:52:37.563Z"
   },
   {
    "duration": 23,
    "start_time": "2022-09-18T12:52:37.609Z"
   },
   {
    "duration": 22,
    "start_time": "2022-09-18T12:52:37.634Z"
   },
   {
    "duration": 21,
    "start_time": "2022-09-18T12:52:37.658Z"
   },
   {
    "duration": 31,
    "start_time": "2022-09-18T12:52:37.681Z"
   },
   {
    "duration": 55,
    "start_time": "2022-09-19T04:37:51.593Z"
   },
   {
    "duration": 59,
    "start_time": "2022-09-19T04:38:05.947Z"
   },
   {
    "duration": 88,
    "start_time": "2022-09-19T04:38:11.214Z"
   },
   {
    "duration": 4,
    "start_time": "2022-09-19T04:38:18.518Z"
   },
   {
    "duration": 46,
    "start_time": "2022-09-19T04:38:19.268Z"
   },
   {
    "duration": 700,
    "start_time": "2022-09-19T04:38:26.174Z"
   },
   {
    "duration": 31,
    "start_time": "2022-09-19T04:38:26.876Z"
   },
   {
    "duration": 20,
    "start_time": "2022-09-19T04:38:27.084Z"
   },
   {
    "duration": 10,
    "start_time": "2022-09-19T04:38:27.813Z"
   },
   {
    "duration": 38,
    "start_time": "2022-09-19T04:38:28.158Z"
   },
   {
    "duration": 4,
    "start_time": "2022-09-19T04:38:28.752Z"
   },
   {
    "duration": 8,
    "start_time": "2022-09-19T04:38:29.111Z"
   },
   {
    "duration": 5,
    "start_time": "2022-09-19T04:38:29.689Z"
   },
   {
    "duration": 8,
    "start_time": "2022-09-19T04:38:30.090Z"
   },
   {
    "duration": 6,
    "start_time": "2022-09-19T04:38:30.533Z"
   },
   {
    "duration": 51,
    "start_time": "2022-09-19T04:38:32.040Z"
   },
   {
    "duration": 8,
    "start_time": "2022-09-19T04:38:32.462Z"
   },
   {
    "duration": 4,
    "start_time": "2022-09-19T04:38:33.228Z"
   },
   {
    "duration": 10,
    "start_time": "2022-09-19T04:38:33.994Z"
   },
   {
    "duration": 18,
    "start_time": "2022-09-19T04:38:34.642Z"
   },
   {
    "duration": 19,
    "start_time": "2022-09-19T04:38:34.994Z"
   },
   {
    "duration": 4,
    "start_time": "2022-09-19T04:38:36.292Z"
   },
   {
    "duration": 10,
    "start_time": "2022-09-19T04:38:36.900Z"
   },
   {
    "duration": 7,
    "start_time": "2022-09-19T04:38:38.693Z"
   },
   {
    "duration": 3,
    "start_time": "2022-09-19T04:38:39.727Z"
   },
   {
    "duration": 12,
    "start_time": "2022-09-19T04:38:40.228Z"
   },
   {
    "duration": 83,
    "start_time": "2022-09-19T04:38:42.876Z"
   },
   {
    "duration": 41,
    "start_time": "2022-09-19T04:39:00.712Z"
   },
   {
    "duration": 9,
    "start_time": "2022-09-19T04:45:50.356Z"
   },
   {
    "duration": 24,
    "start_time": "2022-09-19T04:46:06.471Z"
   },
   {
    "duration": 54,
    "start_time": "2022-09-19T04:46:26.893Z"
   },
   {
    "duration": 46,
    "start_time": "2022-09-19T04:46:57.699Z"
   },
   {
    "duration": 42,
    "start_time": "2022-09-19T04:47:19.613Z"
   },
   {
    "duration": 13,
    "start_time": "2022-09-19T04:47:31.753Z"
   },
   {
    "duration": 19,
    "start_time": "2022-09-19T04:50:09.520Z"
   },
   {
    "duration": 24,
    "start_time": "2022-09-19T04:50:28.598Z"
   },
   {
    "duration": 23,
    "start_time": "2022-09-19T04:50:41.838Z"
   },
   {
    "duration": 22,
    "start_time": "2022-09-19T04:51:32.640Z"
   },
   {
    "duration": 29,
    "start_time": "2022-09-19T04:51:43.764Z"
   },
   {
    "duration": 30,
    "start_time": "2022-09-19T04:51:49.297Z"
   },
   {
    "duration": 30,
    "start_time": "2022-09-19T04:56:05.669Z"
   },
   {
    "duration": 0,
    "start_time": "2022-09-19T04:56:34.171Z"
   },
   {
    "duration": 6637,
    "start_time": "2022-09-19T04:56:39.737Z"
   },
   {
    "duration": 26,
    "start_time": "2022-09-19T04:57:36.751Z"
   },
   {
    "duration": 30,
    "start_time": "2022-09-19T04:58:01.563Z"
   },
   {
    "duration": 28,
    "start_time": "2022-09-19T04:58:05.689Z"
   },
   {
    "duration": 27,
    "start_time": "2022-09-19T04:58:20.592Z"
   },
   {
    "duration": 29,
    "start_time": "2022-09-19T04:58:34.786Z"
   },
   {
    "duration": 26,
    "start_time": "2022-09-19T04:58:44.593Z"
   },
   {
    "duration": 29,
    "start_time": "2022-09-19T04:58:48.115Z"
   },
   {
    "duration": 35,
    "start_time": "2022-09-19T04:58:53.349Z"
   },
   {
    "duration": 26,
    "start_time": "2022-09-19T04:59:21.399Z"
   },
   {
    "duration": 8,
    "start_time": "2022-09-19T04:59:49.438Z"
   },
   {
    "duration": 27,
    "start_time": "2022-09-19T04:59:51.332Z"
   },
   {
    "duration": 34,
    "start_time": "2022-09-19T05:00:05.401Z"
   },
   {
    "duration": 29,
    "start_time": "2022-09-19T05:00:43.250Z"
   },
   {
    "duration": 29,
    "start_time": "2022-09-19T05:00:54.530Z"
   },
   {
    "duration": 25,
    "start_time": "2022-09-19T05:01:29.717Z"
   },
   {
    "duration": 41,
    "start_time": "2022-09-19T05:02:45.490Z"
   },
   {
    "duration": 30,
    "start_time": "2022-09-19T05:03:43.325Z"
   },
   {
    "duration": 24,
    "start_time": "2022-09-19T05:19:10.965Z"
   },
   {
    "duration": 16,
    "start_time": "2022-09-19T05:19:30.001Z"
   },
   {
    "duration": 17,
    "start_time": "2022-09-19T05:19:52.798Z"
   },
   {
    "duration": 68,
    "start_time": "2022-09-19T05:20:44.865Z"
   },
   {
    "duration": 91,
    "start_time": "2022-09-19T05:20:58.611Z"
   },
   {
    "duration": 54,
    "start_time": "2022-09-19T05:21:02.393Z"
   },
   {
    "duration": 19,
    "start_time": "2022-09-19T05:21:23.166Z"
   },
   {
    "duration": 17,
    "start_time": "2022-09-19T05:21:39.134Z"
   },
   {
    "duration": 26,
    "start_time": "2022-09-19T05:23:15.185Z"
   },
   {
    "duration": 8,
    "start_time": "2022-09-19T05:24:15.807Z"
   },
   {
    "duration": 17,
    "start_time": "2022-09-19T05:24:21.104Z"
   },
   {
    "duration": 41,
    "start_time": "2022-09-19T05:24:53.604Z"
   },
   {
    "duration": 36,
    "start_time": "2022-09-19T05:25:32.814Z"
   },
   {
    "duration": 32,
    "start_time": "2022-09-19T05:26:09.320Z"
   },
   {
    "duration": 45,
    "start_time": "2022-09-19T05:27:45.062Z"
   },
   {
    "duration": 33,
    "start_time": "2022-09-19T05:28:03.341Z"
   },
   {
    "duration": 36,
    "start_time": "2022-09-19T05:29:00.104Z"
   },
   {
    "duration": 455,
    "start_time": "2022-09-19T09:05:16.317Z"
   },
   {
    "duration": 21,
    "start_time": "2022-09-19T09:05:16.774Z"
   },
   {
    "duration": 15,
    "start_time": "2022-09-19T09:05:16.797Z"
   },
   {
    "duration": 10,
    "start_time": "2022-09-19T09:05:16.822Z"
   },
   {
    "duration": 33,
    "start_time": "2022-09-19T09:05:16.834Z"
   },
   {
    "duration": 4,
    "start_time": "2022-09-19T09:05:16.869Z"
   },
   {
    "duration": 9,
    "start_time": "2022-09-19T09:05:16.875Z"
   },
   {
    "duration": 11,
    "start_time": "2022-09-19T09:05:16.886Z"
   },
   {
    "duration": 8,
    "start_time": "2022-09-19T09:05:16.922Z"
   },
   {
    "duration": 4,
    "start_time": "2022-09-19T09:05:16.932Z"
   },
   {
    "duration": 32,
    "start_time": "2022-09-19T09:05:16.937Z"
   },
   {
    "duration": 8,
    "start_time": "2022-09-19T09:05:16.971Z"
   },
   {
    "duration": 6,
    "start_time": "2022-09-19T09:05:16.980Z"
   },
   {
    "duration": 34,
    "start_time": "2022-09-19T09:05:16.988Z"
   },
   {
    "duration": 24,
    "start_time": "2022-09-19T09:05:17.023Z"
   },
   {
    "duration": 17,
    "start_time": "2022-09-19T09:05:17.048Z"
   },
   {
    "duration": 3,
    "start_time": "2022-09-19T09:05:17.066Z"
   },
   {
    "duration": 13,
    "start_time": "2022-09-19T09:05:17.071Z"
   },
   {
    "duration": 6,
    "start_time": "2022-09-19T09:05:17.085Z"
   },
   {
    "duration": 3,
    "start_time": "2022-09-19T09:05:17.093Z"
   },
   {
    "duration": 32,
    "start_time": "2022-09-19T09:05:17.098Z"
   },
   {
    "duration": 32,
    "start_time": "2022-09-19T09:05:17.131Z"
   },
   {
    "duration": 30,
    "start_time": "2022-09-19T09:05:17.165Z"
   },
   {
    "duration": 53,
    "start_time": "2022-09-19T09:05:17.197Z"
   },
   {
    "duration": 29,
    "start_time": "2022-09-19T09:05:17.252Z"
   }
  ],
  "colab": {
   "name": "dpp_template_part2.ipynb",
   "provenance": []
  },
  "kernelspec": {
   "display_name": "Python 3 (ipykernel)",
   "language": "python",
   "name": "python3"
  },
  "language_info": {
   "codemirror_mode": {
    "name": "ipython",
    "version": 3
   },
   "file_extension": ".py",
   "mimetype": "text/x-python",
   "name": "python",
   "nbconvert_exporter": "python",
   "pygments_lexer": "ipython3",
   "version": "3.9.13"
  },
  "toc": {
   "base_numbering": 1,
   "nav_menu": {},
   "number_sections": true,
   "sideBar": true,
   "skip_h1_title": true,
   "title_cell": "Table of Contents",
   "title_sidebar": "Contents",
   "toc_cell": false,
   "toc_position": {},
   "toc_section_display": true,
   "toc_window_display": false
  }
 },
 "nbformat": 4,
 "nbformat_minor": 5
}

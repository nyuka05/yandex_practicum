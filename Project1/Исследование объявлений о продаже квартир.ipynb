{
 "cells": [
  {
   "cell_type": "markdown",
   "metadata": {},
   "source": [
    "# Исследование объявлений о продаже квартир\n",
    "\n",
    "В вашем распоряжении данные сервиса Яндекс.Недвижимость — архив объявлений о продаже квартир в Санкт-Петербурге и соседних населённых пунктов за несколько лет. Нужно научиться определять рыночную стоимость объектов недвижимости. Ваша задача — установить параметры. Это позволит построить автоматизированную систему: она отследит аномалии и мошенническую деятельность. \n",
    "\n",
    "По каждой квартире на продажу доступны два вида данных. Первые вписаны пользователем, вторые — получены автоматически на основе картографических данных. Например, расстояние до центра, аэропорта, ближайшего парка и водоёма. "
   ]
  },
  {
   "cell_type": "markdown",
   "metadata": {},
   "source": [
    "### Откройте файл с данными и изучите общую информацию. "
   ]
  },
  {
   "cell_type": "code",
   "execution_count": 1,
   "metadata": {
    "scrolled": false
   },
   "outputs": [
    {
     "data": {
      "text/html": [
       "<div>\n",
       "<style scoped>\n",
       "    .dataframe tbody tr th:only-of-type {\n",
       "        vertical-align: middle;\n",
       "    }\n",
       "\n",
       "    .dataframe tbody tr th {\n",
       "        vertical-align: top;\n",
       "    }\n",
       "\n",
       "    .dataframe thead th {\n",
       "        text-align: right;\n",
       "    }\n",
       "</style>\n",
       "<table border=\"1\" class=\"dataframe\">\n",
       "  <thead>\n",
       "    <tr style=\"text-align: right;\">\n",
       "      <th></th>\n",
       "      <th>total_images</th>\n",
       "      <th>last_price</th>\n",
       "      <th>total_area</th>\n",
       "      <th>first_day_exposition</th>\n",
       "      <th>rooms</th>\n",
       "      <th>ceiling_height</th>\n",
       "      <th>floors_total</th>\n",
       "      <th>living_area</th>\n",
       "      <th>floor</th>\n",
       "      <th>is_apartment</th>\n",
       "      <th>...</th>\n",
       "      <th>kitchen_area</th>\n",
       "      <th>balcony</th>\n",
       "      <th>locality_name</th>\n",
       "      <th>airports_nearest</th>\n",
       "      <th>cityCenters_nearest</th>\n",
       "      <th>parks_around3000</th>\n",
       "      <th>parks_nearest</th>\n",
       "      <th>ponds_around3000</th>\n",
       "      <th>ponds_nearest</th>\n",
       "      <th>days_exposition</th>\n",
       "    </tr>\n",
       "  </thead>\n",
       "  <tbody>\n",
       "    <tr>\n",
       "      <th>0</th>\n",
       "      <td>20</td>\n",
       "      <td>13000000.0</td>\n",
       "      <td>108.00</td>\n",
       "      <td>2019-03-07T00:00:00</td>\n",
       "      <td>3</td>\n",
       "      <td>2.70</td>\n",
       "      <td>16.0</td>\n",
       "      <td>51.00</td>\n",
       "      <td>8</td>\n",
       "      <td>NaN</td>\n",
       "      <td>...</td>\n",
       "      <td>25.00</td>\n",
       "      <td>NaN</td>\n",
       "      <td>Санкт-Петербург</td>\n",
       "      <td>18863.0</td>\n",
       "      <td>16028.0</td>\n",
       "      <td>1.0</td>\n",
       "      <td>482.0</td>\n",
       "      <td>2.0</td>\n",
       "      <td>755.0</td>\n",
       "      <td>NaN</td>\n",
       "    </tr>\n",
       "    <tr>\n",
       "      <th>1</th>\n",
       "      <td>7</td>\n",
       "      <td>3350000.0</td>\n",
       "      <td>40.40</td>\n",
       "      <td>2018-12-04T00:00:00</td>\n",
       "      <td>1</td>\n",
       "      <td>NaN</td>\n",
       "      <td>11.0</td>\n",
       "      <td>18.60</td>\n",
       "      <td>1</td>\n",
       "      <td>NaN</td>\n",
       "      <td>...</td>\n",
       "      <td>11.00</td>\n",
       "      <td>2.0</td>\n",
       "      <td>посёлок Шушары</td>\n",
       "      <td>12817.0</td>\n",
       "      <td>18603.0</td>\n",
       "      <td>0.0</td>\n",
       "      <td>NaN</td>\n",
       "      <td>0.0</td>\n",
       "      <td>NaN</td>\n",
       "      <td>81.0</td>\n",
       "    </tr>\n",
       "    <tr>\n",
       "      <th>2</th>\n",
       "      <td>10</td>\n",
       "      <td>5196000.0</td>\n",
       "      <td>56.00</td>\n",
       "      <td>2015-08-20T00:00:00</td>\n",
       "      <td>2</td>\n",
       "      <td>NaN</td>\n",
       "      <td>5.0</td>\n",
       "      <td>34.30</td>\n",
       "      <td>4</td>\n",
       "      <td>NaN</td>\n",
       "      <td>...</td>\n",
       "      <td>8.30</td>\n",
       "      <td>0.0</td>\n",
       "      <td>Санкт-Петербург</td>\n",
       "      <td>21741.0</td>\n",
       "      <td>13933.0</td>\n",
       "      <td>1.0</td>\n",
       "      <td>90.0</td>\n",
       "      <td>2.0</td>\n",
       "      <td>574.0</td>\n",
       "      <td>558.0</td>\n",
       "    </tr>\n",
       "    <tr>\n",
       "      <th>3</th>\n",
       "      <td>0</td>\n",
       "      <td>64900000.0</td>\n",
       "      <td>159.00</td>\n",
       "      <td>2015-07-24T00:00:00</td>\n",
       "      <td>3</td>\n",
       "      <td>NaN</td>\n",
       "      <td>14.0</td>\n",
       "      <td>NaN</td>\n",
       "      <td>9</td>\n",
       "      <td>NaN</td>\n",
       "      <td>...</td>\n",
       "      <td>NaN</td>\n",
       "      <td>0.0</td>\n",
       "      <td>Санкт-Петербург</td>\n",
       "      <td>28098.0</td>\n",
       "      <td>6800.0</td>\n",
       "      <td>2.0</td>\n",
       "      <td>84.0</td>\n",
       "      <td>3.0</td>\n",
       "      <td>234.0</td>\n",
       "      <td>424.0</td>\n",
       "    </tr>\n",
       "    <tr>\n",
       "      <th>4</th>\n",
       "      <td>2</td>\n",
       "      <td>10000000.0</td>\n",
       "      <td>100.00</td>\n",
       "      <td>2018-06-19T00:00:00</td>\n",
       "      <td>2</td>\n",
       "      <td>3.03</td>\n",
       "      <td>14.0</td>\n",
       "      <td>32.00</td>\n",
       "      <td>13</td>\n",
       "      <td>NaN</td>\n",
       "      <td>...</td>\n",
       "      <td>41.00</td>\n",
       "      <td>NaN</td>\n",
       "      <td>Санкт-Петербург</td>\n",
       "      <td>31856.0</td>\n",
       "      <td>8098.0</td>\n",
       "      <td>2.0</td>\n",
       "      <td>112.0</td>\n",
       "      <td>1.0</td>\n",
       "      <td>48.0</td>\n",
       "      <td>121.0</td>\n",
       "    </tr>\n",
       "    <tr>\n",
       "      <th>5</th>\n",
       "      <td>10</td>\n",
       "      <td>2890000.0</td>\n",
       "      <td>30.40</td>\n",
       "      <td>2018-09-10T00:00:00</td>\n",
       "      <td>1</td>\n",
       "      <td>NaN</td>\n",
       "      <td>12.0</td>\n",
       "      <td>14.40</td>\n",
       "      <td>5</td>\n",
       "      <td>NaN</td>\n",
       "      <td>...</td>\n",
       "      <td>9.10</td>\n",
       "      <td>NaN</td>\n",
       "      <td>городской посёлок Янино-1</td>\n",
       "      <td>NaN</td>\n",
       "      <td>NaN</td>\n",
       "      <td>NaN</td>\n",
       "      <td>NaN</td>\n",
       "      <td>NaN</td>\n",
       "      <td>NaN</td>\n",
       "      <td>55.0</td>\n",
       "    </tr>\n",
       "    <tr>\n",
       "      <th>6</th>\n",
       "      <td>6</td>\n",
       "      <td>3700000.0</td>\n",
       "      <td>37.30</td>\n",
       "      <td>2017-11-02T00:00:00</td>\n",
       "      <td>1</td>\n",
       "      <td>NaN</td>\n",
       "      <td>26.0</td>\n",
       "      <td>10.60</td>\n",
       "      <td>6</td>\n",
       "      <td>NaN</td>\n",
       "      <td>...</td>\n",
       "      <td>14.40</td>\n",
       "      <td>1.0</td>\n",
       "      <td>посёлок Парголово</td>\n",
       "      <td>52996.0</td>\n",
       "      <td>19143.0</td>\n",
       "      <td>0.0</td>\n",
       "      <td>NaN</td>\n",
       "      <td>0.0</td>\n",
       "      <td>NaN</td>\n",
       "      <td>155.0</td>\n",
       "    </tr>\n",
       "    <tr>\n",
       "      <th>7</th>\n",
       "      <td>5</td>\n",
       "      <td>7915000.0</td>\n",
       "      <td>71.60</td>\n",
       "      <td>2019-04-18T00:00:00</td>\n",
       "      <td>2</td>\n",
       "      <td>NaN</td>\n",
       "      <td>24.0</td>\n",
       "      <td>NaN</td>\n",
       "      <td>22</td>\n",
       "      <td>NaN</td>\n",
       "      <td>...</td>\n",
       "      <td>18.90</td>\n",
       "      <td>2.0</td>\n",
       "      <td>Санкт-Петербург</td>\n",
       "      <td>23982.0</td>\n",
       "      <td>11634.0</td>\n",
       "      <td>0.0</td>\n",
       "      <td>NaN</td>\n",
       "      <td>0.0</td>\n",
       "      <td>NaN</td>\n",
       "      <td>NaN</td>\n",
       "    </tr>\n",
       "    <tr>\n",
       "      <th>8</th>\n",
       "      <td>20</td>\n",
       "      <td>2900000.0</td>\n",
       "      <td>33.16</td>\n",
       "      <td>2018-05-23T00:00:00</td>\n",
       "      <td>1</td>\n",
       "      <td>NaN</td>\n",
       "      <td>27.0</td>\n",
       "      <td>15.43</td>\n",
       "      <td>26</td>\n",
       "      <td>NaN</td>\n",
       "      <td>...</td>\n",
       "      <td>8.81</td>\n",
       "      <td>NaN</td>\n",
       "      <td>посёлок Мурино</td>\n",
       "      <td>NaN</td>\n",
       "      <td>NaN</td>\n",
       "      <td>NaN</td>\n",
       "      <td>NaN</td>\n",
       "      <td>NaN</td>\n",
       "      <td>NaN</td>\n",
       "      <td>189.0</td>\n",
       "    </tr>\n",
       "    <tr>\n",
       "      <th>9</th>\n",
       "      <td>18</td>\n",
       "      <td>5400000.0</td>\n",
       "      <td>61.00</td>\n",
       "      <td>2017-02-26T00:00:00</td>\n",
       "      <td>3</td>\n",
       "      <td>2.50</td>\n",
       "      <td>9.0</td>\n",
       "      <td>43.60</td>\n",
       "      <td>7</td>\n",
       "      <td>NaN</td>\n",
       "      <td>...</td>\n",
       "      <td>6.50</td>\n",
       "      <td>2.0</td>\n",
       "      <td>Санкт-Петербург</td>\n",
       "      <td>50898.0</td>\n",
       "      <td>15008.0</td>\n",
       "      <td>0.0</td>\n",
       "      <td>NaN</td>\n",
       "      <td>0.0</td>\n",
       "      <td>NaN</td>\n",
       "      <td>289.0</td>\n",
       "    </tr>\n",
       "  </tbody>\n",
       "</table>\n",
       "<p>10 rows × 22 columns</p>\n",
       "</div>"
      ],
      "text/plain": [
       "   total_images  last_price  total_area first_day_exposition  rooms  \\\n",
       "0            20  13000000.0      108.00  2019-03-07T00:00:00      3   \n",
       "1             7   3350000.0       40.40  2018-12-04T00:00:00      1   \n",
       "2            10   5196000.0       56.00  2015-08-20T00:00:00      2   \n",
       "3             0  64900000.0      159.00  2015-07-24T00:00:00      3   \n",
       "4             2  10000000.0      100.00  2018-06-19T00:00:00      2   \n",
       "5            10   2890000.0       30.40  2018-09-10T00:00:00      1   \n",
       "6             6   3700000.0       37.30  2017-11-02T00:00:00      1   \n",
       "7             5   7915000.0       71.60  2019-04-18T00:00:00      2   \n",
       "8            20   2900000.0       33.16  2018-05-23T00:00:00      1   \n",
       "9            18   5400000.0       61.00  2017-02-26T00:00:00      3   \n",
       "\n",
       "   ceiling_height  floors_total  living_area  floor is_apartment  ...  \\\n",
       "0            2.70          16.0        51.00      8          NaN  ...   \n",
       "1             NaN          11.0        18.60      1          NaN  ...   \n",
       "2             NaN           5.0        34.30      4          NaN  ...   \n",
       "3             NaN          14.0          NaN      9          NaN  ...   \n",
       "4            3.03          14.0        32.00     13          NaN  ...   \n",
       "5             NaN          12.0        14.40      5          NaN  ...   \n",
       "6             NaN          26.0        10.60      6          NaN  ...   \n",
       "7             NaN          24.0          NaN     22          NaN  ...   \n",
       "8             NaN          27.0        15.43     26          NaN  ...   \n",
       "9            2.50           9.0        43.60      7          NaN  ...   \n",
       "\n",
       "   kitchen_area  balcony              locality_name  airports_nearest  \\\n",
       "0         25.00      NaN            Санкт-Петербург           18863.0   \n",
       "1         11.00      2.0             посёлок Шушары           12817.0   \n",
       "2          8.30      0.0            Санкт-Петербург           21741.0   \n",
       "3           NaN      0.0            Санкт-Петербург           28098.0   \n",
       "4         41.00      NaN            Санкт-Петербург           31856.0   \n",
       "5          9.10      NaN  городской посёлок Янино-1               NaN   \n",
       "6         14.40      1.0          посёлок Парголово           52996.0   \n",
       "7         18.90      2.0            Санкт-Петербург           23982.0   \n",
       "8          8.81      NaN             посёлок Мурино               NaN   \n",
       "9          6.50      2.0            Санкт-Петербург           50898.0   \n",
       "\n",
       "  cityCenters_nearest  parks_around3000  parks_nearest  ponds_around3000  \\\n",
       "0             16028.0               1.0          482.0               2.0   \n",
       "1             18603.0               0.0            NaN               0.0   \n",
       "2             13933.0               1.0           90.0               2.0   \n",
       "3              6800.0               2.0           84.0               3.0   \n",
       "4              8098.0               2.0          112.0               1.0   \n",
       "5                 NaN               NaN            NaN               NaN   \n",
       "6             19143.0               0.0            NaN               0.0   \n",
       "7             11634.0               0.0            NaN               0.0   \n",
       "8                 NaN               NaN            NaN               NaN   \n",
       "9             15008.0               0.0            NaN               0.0   \n",
       "\n",
       "   ponds_nearest  days_exposition  \n",
       "0          755.0              NaN  \n",
       "1            NaN             81.0  \n",
       "2          574.0            558.0  \n",
       "3          234.0            424.0  \n",
       "4           48.0            121.0  \n",
       "5            NaN             55.0  \n",
       "6            NaN            155.0  \n",
       "7            NaN              NaN  \n",
       "8            NaN            189.0  \n",
       "9            NaN            289.0  \n",
       "\n",
       "[10 rows x 22 columns]"
      ]
     },
     "execution_count": 1,
     "metadata": {},
     "output_type": "execute_result"
    }
   ],
   "source": [
    "import pandas as pd\n",
    "data= pd.read_csv('/datasets/real_estate_data.csv', sep = '\\t')\n",
    "data.head(10)"
   ]
  },
  {
   "cell_type": "code",
   "execution_count": 2,
   "metadata": {},
   "outputs": [
    {
     "name": "stdout",
     "output_type": "stream",
     "text": [
      "<class 'pandas.core.frame.DataFrame'>\n",
      "RangeIndex: 23699 entries, 0 to 23698\n",
      "Data columns (total 22 columns):\n",
      " #   Column                Non-Null Count  Dtype  \n",
      "---  ------                --------------  -----  \n",
      " 0   total_images          23699 non-null  int64  \n",
      " 1   last_price            23699 non-null  float64\n",
      " 2   total_area            23699 non-null  float64\n",
      " 3   first_day_exposition  23699 non-null  object \n",
      " 4   rooms                 23699 non-null  int64  \n",
      " 5   ceiling_height        14504 non-null  float64\n",
      " 6   floors_total          23613 non-null  float64\n",
      " 7   living_area           21796 non-null  float64\n",
      " 8   floor                 23699 non-null  int64  \n",
      " 9   is_apartment          2775 non-null   object \n",
      " 10  studio                23699 non-null  bool   \n",
      " 11  open_plan             23699 non-null  bool   \n",
      " 12  kitchen_area          21421 non-null  float64\n",
      " 13  balcony               12180 non-null  float64\n",
      " 14  locality_name         23650 non-null  object \n",
      " 15  airports_nearest      18157 non-null  float64\n",
      " 16  cityCenters_nearest   18180 non-null  float64\n",
      " 17  parks_around3000      18181 non-null  float64\n",
      " 18  parks_nearest         8079 non-null   float64\n",
      " 19  ponds_around3000      18181 non-null  float64\n",
      " 20  ponds_nearest         9110 non-null   float64\n",
      " 21  days_exposition       20518 non-null  float64\n",
      "dtypes: bool(2), float64(14), int64(3), object(3)\n",
      "memory usage: 3.7+ MB\n"
     ]
    }
   ],
   "source": [
    "data.info()"
   ]
  },
  {
   "cell_type": "markdown",
   "metadata": {},
   "source": [
    "пропущены значения в следующих столбцах: \n",
    "ceiling_height(высота потолков) - можно заполнить медианным значением \n",
    "floors_total (этажей в доме) - вероятно пропущенные значения могут говорить о том что в доме 1 этаж(необходимо проверить) living_area(жилая площадь)-очень важный показатель. пропуски могут говорить об ошибки при заполнении, либо что квартира под категорией апартаменты. \n",
    "is_apartment - изменить тип данных \n",
    "kitchen_area(площадь кухни) - кухня не отделена(кухня гостиная, апартаменты) balcony (балкон) - отсутствие значения говорит об отсутствии балкона(заменить на 0) \n",
    "locality_name (название населенного пункта) - ошибка заполнения или ошибка выгрузки. Скорее всего придется удалить значения) airports_nearest (расстояние до аэропорта) - вероятно, в определённой зоне аэропорта нет) \n",
    "cityCenters_nearest(расстояние до центра) - может находится в центре населенного пункта?? \n",
    "parks_around3000 - нет парков на расстоянии 3 км parks_nearest - нет парков в определяемой зоне \n",
    "ponds_around3000 - нет водоемов ponds_nearest нет водоемов \n",
    "days_exposition - объявление еще не снято??"
   ]
  },
  {
   "cell_type": "code",
   "execution_count": 3,
   "metadata": {},
   "outputs": [
    {
     "data": {
      "image/png": "[encoded data removed]",
      "text/plain": [
       "<Figure size 1080x1440 with 20 Axes>"
      ]
     },
     "metadata": {
      "needs_background": "light"
     },
     "output_type": "display_data"
    }
   ],
   "source": [
    "data.hist(figsize=(15, 20));\n"
   ]
  },
  {
   "cell_type": "markdown",
   "metadata": {},
   "source": [
    "### Предобработка данных"
   ]
  },
  {
   "cell_type": "markdown",
   "metadata": {},
   "source": [
    "#### Найдите и изучите пропущенные значения в столбцах:"
   ]
  },
  {
   "cell_type": "code",
   "execution_count": 4,
   "metadata": {},
   "outputs": [
    {
     "data": {
      "text/plain": [
       "total_images                0\n",
       "last_price                  0\n",
       "total_area                  0\n",
       "first_day_exposition        0\n",
       "rooms                       0\n",
       "ceiling_height           9195\n",
       "floors_total               86\n",
       "living_area              1903\n",
       "floor                       0\n",
       "is_apartment            20924\n",
       "studio                      0\n",
       "open_plan                   0\n",
       "kitchen_area             2278\n",
       "balcony                 11519\n",
       "locality_name              49\n",
       "airports_nearest         5542\n",
       "cityCenters_nearest      5519\n",
       "parks_around3000         5518\n",
       "parks_nearest           15620\n",
       "ponds_around3000         5518\n",
       "ponds_nearest           14589\n",
       "days_exposition          3181\n",
       "dtype: int64"
      ]
     },
     "execution_count": 4,
     "metadata": {},
     "output_type": "execute_result"
    }
   ],
   "source": [
    "data.isna().sum()"
   ]
  },
  {
   "cell_type": "markdown",
   "metadata": {},
   "source": [
    " ceiling_height(высота потолков) - можно заполнить медианным значением"
   ]
  },
  {
   "cell_type": "code",
   "execution_count": 5,
   "metadata": {},
   "outputs": [
    {
     "data": {
      "text/plain": [
       "0"
      ]
     },
     "execution_count": 5,
     "metadata": {},
     "output_type": "execute_result"
    }
   ],
   "source": [
    "data['ceiling_height'] = data['ceiling_height'].fillna(data['ceiling_height'].median())\n",
    "data['ceiling_height'].isna().sum()"
   ]
  },
  {
   "cell_type": "markdown",
   "metadata": {},
   "source": [
    "floors_total (этажей в доме) - вероятно пропущенные значения могут говорить о том что в доме 1 этаж(необходимо проверить)\n",
    "нужно проанализировать на каких этажах находятся квартиры. "
   ]
  },
  {
   "cell_type": "code",
   "execution_count": 6,
   "metadata": {},
   "outputs": [
    {
     "data": {
      "text/html": [
       "<div>\n",
       "<style scoped>\n",
       "    .dataframe tbody tr th:only-of-type {\n",
       "        vertical-align: middle;\n",
       "    }\n",
       "\n",
       "    .dataframe tbody tr th {\n",
       "        vertical-align: top;\n",
       "    }\n",
       "\n",
       "    .dataframe thead th {\n",
       "        text-align: right;\n",
       "    }\n",
       "</style>\n",
       "<table border=\"1\" class=\"dataframe\">\n",
       "  <thead>\n",
       "    <tr style=\"text-align: right;\">\n",
       "      <th></th>\n",
       "      <th>total_images</th>\n",
       "      <th>last_price</th>\n",
       "      <th>total_area</th>\n",
       "      <th>first_day_exposition</th>\n",
       "      <th>rooms</th>\n",
       "      <th>ceiling_height</th>\n",
       "      <th>floors_total</th>\n",
       "      <th>living_area</th>\n",
       "      <th>floor</th>\n",
       "      <th>is_apartment</th>\n",
       "      <th>...</th>\n",
       "      <th>kitchen_area</th>\n",
       "      <th>balcony</th>\n",
       "      <th>locality_name</th>\n",
       "      <th>airports_nearest</th>\n",
       "      <th>cityCenters_nearest</th>\n",
       "      <th>parks_around3000</th>\n",
       "      <th>parks_nearest</th>\n",
       "      <th>ponds_around3000</th>\n",
       "      <th>ponds_nearest</th>\n",
       "      <th>days_exposition</th>\n",
       "    </tr>\n",
       "  </thead>\n",
       "  <tbody>\n",
       "    <tr>\n",
       "      <th>186</th>\n",
       "      <td>12</td>\n",
       "      <td>11640000.0</td>\n",
       "      <td>65.2</td>\n",
       "      <td>2018-10-02T00:00:00</td>\n",
       "      <td>2</td>\n",
       "      <td>2.65</td>\n",
       "      <td>NaN</td>\n",
       "      <td>30.80</td>\n",
       "      <td>4</td>\n",
       "      <td>NaN</td>\n",
       "      <td>...</td>\n",
       "      <td>12.00</td>\n",
       "      <td>NaN</td>\n",
       "      <td>Санкт-Петербург</td>\n",
       "      <td>39197.0</td>\n",
       "      <td>12373.0</td>\n",
       "      <td>1.0</td>\n",
       "      <td>123.0</td>\n",
       "      <td>0.0</td>\n",
       "      <td>NaN</td>\n",
       "      <td>49.0</td>\n",
       "    </tr>\n",
       "    <tr>\n",
       "      <th>237</th>\n",
       "      <td>4</td>\n",
       "      <td>2438033.0</td>\n",
       "      <td>28.1</td>\n",
       "      <td>2016-11-23T00:00:00</td>\n",
       "      <td>1</td>\n",
       "      <td>2.65</td>\n",
       "      <td>NaN</td>\n",
       "      <td>20.75</td>\n",
       "      <td>1</td>\n",
       "      <td>NaN</td>\n",
       "      <td>...</td>\n",
       "      <td>NaN</td>\n",
       "      <td>0.0</td>\n",
       "      <td>Санкт-Петербург</td>\n",
       "      <td>22041.0</td>\n",
       "      <td>17369.0</td>\n",
       "      <td>0.0</td>\n",
       "      <td>NaN</td>\n",
       "      <td>1.0</td>\n",
       "      <td>374.0</td>\n",
       "      <td>251.0</td>\n",
       "    </tr>\n",
       "    <tr>\n",
       "      <th>457</th>\n",
       "      <td>4</td>\n",
       "      <td>9788348.0</td>\n",
       "      <td>70.8</td>\n",
       "      <td>2015-08-01T00:00:00</td>\n",
       "      <td>2</td>\n",
       "      <td>2.65</td>\n",
       "      <td>NaN</td>\n",
       "      <td>38.40</td>\n",
       "      <td>12</td>\n",
       "      <td>NaN</td>\n",
       "      <td>...</td>\n",
       "      <td>10.63</td>\n",
       "      <td>0.0</td>\n",
       "      <td>Санкт-Петербург</td>\n",
       "      <td>37364.0</td>\n",
       "      <td>8322.0</td>\n",
       "      <td>2.0</td>\n",
       "      <td>309.0</td>\n",
       "      <td>2.0</td>\n",
       "      <td>706.0</td>\n",
       "      <td>727.0</td>\n",
       "    </tr>\n",
       "    <tr>\n",
       "      <th>671</th>\n",
       "      <td>4</td>\n",
       "      <td>6051191.0</td>\n",
       "      <td>93.6</td>\n",
       "      <td>2017-04-06T00:00:00</td>\n",
       "      <td>3</td>\n",
       "      <td>2.65</td>\n",
       "      <td>NaN</td>\n",
       "      <td>47.10</td>\n",
       "      <td>8</td>\n",
       "      <td>NaN</td>\n",
       "      <td>...</td>\n",
       "      <td>16.80</td>\n",
       "      <td>0.0</td>\n",
       "      <td>Санкт-Петербург</td>\n",
       "      <td>22041.0</td>\n",
       "      <td>17369.0</td>\n",
       "      <td>0.0</td>\n",
       "      <td>NaN</td>\n",
       "      <td>1.0</td>\n",
       "      <td>374.0</td>\n",
       "      <td>123.0</td>\n",
       "    </tr>\n",
       "    <tr>\n",
       "      <th>1757</th>\n",
       "      <td>5</td>\n",
       "      <td>3600000.0</td>\n",
       "      <td>39.0</td>\n",
       "      <td>2017-04-22T00:00:00</td>\n",
       "      <td>1</td>\n",
       "      <td>2.65</td>\n",
       "      <td>NaN</td>\n",
       "      <td>NaN</td>\n",
       "      <td>9</td>\n",
       "      <td>NaN</td>\n",
       "      <td>...</td>\n",
       "      <td>NaN</td>\n",
       "      <td>0.0</td>\n",
       "      <td>Санкт-Петербург</td>\n",
       "      <td>22735.0</td>\n",
       "      <td>11618.0</td>\n",
       "      <td>1.0</td>\n",
       "      <td>835.0</td>\n",
       "      <td>1.0</td>\n",
       "      <td>652.0</td>\n",
       "      <td>77.0</td>\n",
       "    </tr>\n",
       "  </tbody>\n",
       "</table>\n",
       "<p>5 rows × 22 columns</p>\n",
       "</div>"
      ],
      "text/plain": [
       "      total_images  last_price  total_area first_day_exposition  rooms  \\\n",
       "186             12  11640000.0        65.2  2018-10-02T00:00:00      2   \n",
       "237              4   2438033.0        28.1  2016-11-23T00:00:00      1   \n",
       "457              4   9788348.0        70.8  2015-08-01T00:00:00      2   \n",
       "671              4   6051191.0        93.6  2017-04-06T00:00:00      3   \n",
       "1757             5   3600000.0        39.0  2017-04-22T00:00:00      1   \n",
       "\n",
       "      ceiling_height  floors_total  living_area  floor is_apartment  ...  \\\n",
       "186             2.65           NaN        30.80      4          NaN  ...   \n",
       "237             2.65           NaN        20.75      1          NaN  ...   \n",
       "457             2.65           NaN        38.40     12          NaN  ...   \n",
       "671             2.65           NaN        47.10      8          NaN  ...   \n",
       "1757            2.65           NaN          NaN      9          NaN  ...   \n",
       "\n",
       "      kitchen_area  balcony    locality_name  airports_nearest  \\\n",
       "186          12.00      NaN  Санкт-Петербург           39197.0   \n",
       "237            NaN      0.0  Санкт-Петербург           22041.0   \n",
       "457          10.63      0.0  Санкт-Петербург           37364.0   \n",
       "671          16.80      0.0  Санкт-Петербург           22041.0   \n",
       "1757           NaN      0.0  Санкт-Петербург           22735.0   \n",
       "\n",
       "     cityCenters_nearest  parks_around3000  parks_nearest  ponds_around3000  \\\n",
       "186              12373.0               1.0          123.0               0.0   \n",
       "237              17369.0               0.0            NaN               1.0   \n",
       "457               8322.0               2.0          309.0               2.0   \n",
       "671              17369.0               0.0            NaN               1.0   \n",
       "1757             11618.0               1.0          835.0               1.0   \n",
       "\n",
       "      ponds_nearest  days_exposition  \n",
       "186             NaN             49.0  \n",
       "237           374.0            251.0  \n",
       "457           706.0            727.0  \n",
       "671           374.0            123.0  \n",
       "1757          652.0             77.0  \n",
       "\n",
       "[5 rows x 22 columns]"
      ]
     },
     "execution_count": 6,
     "metadata": {},
     "output_type": "execute_result"
    }
   ],
   "source": [
    "data[data['floors_total'].isnull()].head()"
   ]
  },
  {
   "cell_type": "markdown",
   "metadata": {},
   "source": [
    "Теория не подтвердилась. Оставляем данные без заполнения."
   ]
  },
  {
   "cell_type": "markdown",
   "metadata": {},
   "source": [
    "living_area(жилая площадь)-очень важный показатель. пропуски могут говорить об ошибки при заполнении, либо что квартира под категорей аппартаменты. "
   ]
  },
  {
   "cell_type": "code",
   "execution_count": 7,
   "metadata": {},
   "outputs": [
    {
     "data": {
      "text/html": [
       "<div>\n",
       "<style scoped>\n",
       "    .dataframe tbody tr th:only-of-type {\n",
       "        vertical-align: middle;\n",
       "    }\n",
       "\n",
       "    .dataframe tbody tr th {\n",
       "        vertical-align: top;\n",
       "    }\n",
       "\n",
       "    .dataframe thead th {\n",
       "        text-align: right;\n",
       "    }\n",
       "</style>\n",
       "<table border=\"1\" class=\"dataframe\">\n",
       "  <thead>\n",
       "    <tr style=\"text-align: right;\">\n",
       "      <th></th>\n",
       "      <th>total_images</th>\n",
       "      <th>last_price</th>\n",
       "      <th>total_area</th>\n",
       "      <th>first_day_exposition</th>\n",
       "      <th>rooms</th>\n",
       "      <th>ceiling_height</th>\n",
       "      <th>floors_total</th>\n",
       "      <th>living_area</th>\n",
       "      <th>floor</th>\n",
       "      <th>is_apartment</th>\n",
       "      <th>...</th>\n",
       "      <th>kitchen_area</th>\n",
       "      <th>balcony</th>\n",
       "      <th>locality_name</th>\n",
       "      <th>airports_nearest</th>\n",
       "      <th>cityCenters_nearest</th>\n",
       "      <th>parks_around3000</th>\n",
       "      <th>parks_nearest</th>\n",
       "      <th>ponds_around3000</th>\n",
       "      <th>ponds_nearest</th>\n",
       "      <th>days_exposition</th>\n",
       "    </tr>\n",
       "  </thead>\n",
       "  <tbody>\n",
       "    <tr>\n",
       "      <th>3</th>\n",
       "      <td>0</td>\n",
       "      <td>64900000.0</td>\n",
       "      <td>159.0</td>\n",
       "      <td>2015-07-24T00:00:00</td>\n",
       "      <td>3</td>\n",
       "      <td>2.65</td>\n",
       "      <td>14.0</td>\n",
       "      <td>NaN</td>\n",
       "      <td>9</td>\n",
       "      <td>NaN</td>\n",
       "      <td>...</td>\n",
       "      <td>NaN</td>\n",
       "      <td>0.0</td>\n",
       "      <td>Санкт-Петербург</td>\n",
       "      <td>28098.0</td>\n",
       "      <td>6800.0</td>\n",
       "      <td>2.0</td>\n",
       "      <td>84.0</td>\n",
       "      <td>3.0</td>\n",
       "      <td>234.0</td>\n",
       "      <td>424.0</td>\n",
       "    </tr>\n",
       "    <tr>\n",
       "      <th>7</th>\n",
       "      <td>5</td>\n",
       "      <td>7915000.0</td>\n",
       "      <td>71.6</td>\n",
       "      <td>2019-04-18T00:00:00</td>\n",
       "      <td>2</td>\n",
       "      <td>2.65</td>\n",
       "      <td>24.0</td>\n",
       "      <td>NaN</td>\n",
       "      <td>22</td>\n",
       "      <td>NaN</td>\n",
       "      <td>...</td>\n",
       "      <td>18.9</td>\n",
       "      <td>2.0</td>\n",
       "      <td>Санкт-Петербург</td>\n",
       "      <td>23982.0</td>\n",
       "      <td>11634.0</td>\n",
       "      <td>0.0</td>\n",
       "      <td>NaN</td>\n",
       "      <td>0.0</td>\n",
       "      <td>NaN</td>\n",
       "      <td>NaN</td>\n",
       "    </tr>\n",
       "    <tr>\n",
       "      <th>30</th>\n",
       "      <td>12</td>\n",
       "      <td>2200000.0</td>\n",
       "      <td>32.8</td>\n",
       "      <td>2018-02-19T00:00:00</td>\n",
       "      <td>1</td>\n",
       "      <td>2.65</td>\n",
       "      <td>9.0</td>\n",
       "      <td>NaN</td>\n",
       "      <td>2</td>\n",
       "      <td>NaN</td>\n",
       "      <td>...</td>\n",
       "      <td>NaN</td>\n",
       "      <td>NaN</td>\n",
       "      <td>Коммунар</td>\n",
       "      <td>NaN</td>\n",
       "      <td>NaN</td>\n",
       "      <td>NaN</td>\n",
       "      <td>NaN</td>\n",
       "      <td>NaN</td>\n",
       "      <td>NaN</td>\n",
       "      <td>63.0</td>\n",
       "    </tr>\n",
       "    <tr>\n",
       "      <th>37</th>\n",
       "      <td>10</td>\n",
       "      <td>1990000.0</td>\n",
       "      <td>45.8</td>\n",
       "      <td>2017-10-28T00:00:00</td>\n",
       "      <td>2</td>\n",
       "      <td>2.50</td>\n",
       "      <td>5.0</td>\n",
       "      <td>NaN</td>\n",
       "      <td>1</td>\n",
       "      <td>NaN</td>\n",
       "      <td>...</td>\n",
       "      <td>NaN</td>\n",
       "      <td>NaN</td>\n",
       "      <td>поселок городского типа Красный Бор</td>\n",
       "      <td>NaN</td>\n",
       "      <td>NaN</td>\n",
       "      <td>NaN</td>\n",
       "      <td>NaN</td>\n",
       "      <td>NaN</td>\n",
       "      <td>NaN</td>\n",
       "      <td>196.0</td>\n",
       "    </tr>\n",
       "    <tr>\n",
       "      <th>44</th>\n",
       "      <td>13</td>\n",
       "      <td>5350000.0</td>\n",
       "      <td>40.0</td>\n",
       "      <td>2018-11-18T00:00:00</td>\n",
       "      <td>1</td>\n",
       "      <td>2.65</td>\n",
       "      <td>22.0</td>\n",
       "      <td>NaN</td>\n",
       "      <td>3</td>\n",
       "      <td>NaN</td>\n",
       "      <td>...</td>\n",
       "      <td>NaN</td>\n",
       "      <td>1.0</td>\n",
       "      <td>Санкт-Петербург</td>\n",
       "      <td>30471.0</td>\n",
       "      <td>11603.0</td>\n",
       "      <td>1.0</td>\n",
       "      <td>620.0</td>\n",
       "      <td>1.0</td>\n",
       "      <td>1152.0</td>\n",
       "      <td>NaN</td>\n",
       "    </tr>\n",
       "  </tbody>\n",
       "</table>\n",
       "<p>5 rows × 22 columns</p>\n",
       "</div>"
      ],
      "text/plain": [
       "    total_images  last_price  total_area first_day_exposition  rooms  \\\n",
       "3              0  64900000.0       159.0  2015-07-24T00:00:00      3   \n",
       "7              5   7915000.0        71.6  2019-04-18T00:00:00      2   \n",
       "30            12   2200000.0        32.8  2018-02-19T00:00:00      1   \n",
       "37            10   1990000.0        45.8  2017-10-28T00:00:00      2   \n",
       "44            13   5350000.0        40.0  2018-11-18T00:00:00      1   \n",
       "\n",
       "    ceiling_height  floors_total  living_area  floor is_apartment  ...  \\\n",
       "3             2.65          14.0          NaN      9          NaN  ...   \n",
       "7             2.65          24.0          NaN     22          NaN  ...   \n",
       "30            2.65           9.0          NaN      2          NaN  ...   \n",
       "37            2.50           5.0          NaN      1          NaN  ...   \n",
       "44            2.65          22.0          NaN      3          NaN  ...   \n",
       "\n",
       "    kitchen_area  balcony                        locality_name  \\\n",
       "3            NaN      0.0                      Санкт-Петербург   \n",
       "7           18.9      2.0                      Санкт-Петербург   \n",
       "30           NaN      NaN                             Коммунар   \n",
       "37           NaN      NaN  поселок городского типа Красный Бор   \n",
       "44           NaN      1.0                      Санкт-Петербург   \n",
       "\n",
       "    airports_nearest cityCenters_nearest  parks_around3000  parks_nearest  \\\n",
       "3            28098.0              6800.0               2.0           84.0   \n",
       "7            23982.0             11634.0               0.0            NaN   \n",
       "30               NaN                 NaN               NaN            NaN   \n",
       "37               NaN                 NaN               NaN            NaN   \n",
       "44           30471.0             11603.0               1.0          620.0   \n",
       "\n",
       "    ponds_around3000  ponds_nearest  days_exposition  \n",
       "3                3.0          234.0            424.0  \n",
       "7                0.0            NaN              NaN  \n",
       "30               NaN            NaN             63.0  \n",
       "37               NaN            NaN            196.0  \n",
       "44               1.0         1152.0              NaN  \n",
       "\n",
       "[5 rows x 22 columns]"
      ]
     },
     "execution_count": 7,
     "metadata": {},
     "output_type": "execute_result"
    }
   ],
   "source": [
    "data[data['living_area'].isnull()].head()"
   ]
  },
  {
   "cell_type": "markdown",
   "metadata": {},
   "source": [
    "Теория не подтвердилась, однако нужно обратить внимание, что у некоторых объявлений кроме общей площади не укзано деление на жилую и кухню, это говорит о неполном заполнении или ошибка выгрузки. "
   ]
  },
  {
   "cell_type": "markdown",
   "metadata": {},
   "source": [
    "is_apartment - столбец по заданию с булевым типом. нужно заменить тип данных и вместо пропусков поставить False, посколку если данный параметр не указывался при заполнении данных можно предположить, что это утверждение ложно. "
   ]
  },
  {
   "cell_type": "code",
   "execution_count": 8,
   "metadata": {},
   "outputs": [
    {
     "data": {
      "text/plain": [
       "array([nan, False, True], dtype=object)"
      ]
     },
     "execution_count": 8,
     "metadata": {},
     "output_type": "execute_result"
    }
   ],
   "source": [
    "data['is_apartment'].unique()"
   ]
  },
  {
   "cell_type": "code",
   "execution_count": 9,
   "metadata": {},
   "outputs": [],
   "source": [
    "data['is_apartment'] = data['is_apartment'].fillna(False)"
   ]
  },
  {
   "cell_type": "markdown",
   "metadata": {},
   "source": [
    "balcony (балкон) - отсутствие значения говоит об отсутствии балкона(заменить на 0) \n",
    "'floors_total', 'living_area', 'kitchen_area' - заменим на медианное значение в целом, поскольку они не зависят от региона\n",
    "cityCenters_nearest, parks_nearest, ponds_nearest, airports_nearest, days_exposition - заменим на средее группируя по населенному пункту, поскольку они сильно зависят от региона. \n"
   ]
  },
  {
   "cell_type": "code",
   "execution_count": 10,
   "metadata": {},
   "outputs": [],
   "source": [
    "b = ['balcony', 'parks_around3000', 'ponds_around3000']\n",
    "data[b] = data[b].fillna(0)\n",
    "\n",
    "a = ['floors_total'] #'living_area', 'kitchen_area' ]\n",
    "data[a]=data[a].fillna(data[a].median())\n"
   ]
  },
  {
   "cell_type": "code",
   "execution_count": 11,
   "metadata": {},
   "outputs": [
    {
     "data": {
      "text/plain": [
       "total_images                0\n",
       "last_price                  0\n",
       "total_area                  0\n",
       "first_day_exposition        0\n",
       "rooms                       0\n",
       "ceiling_height              0\n",
       "floors_total                0\n",
       "living_area              1903\n",
       "floor                       0\n",
       "is_apartment                0\n",
       "studio                      0\n",
       "open_plan                   0\n",
       "kitchen_area             2278\n",
       "balcony                     0\n",
       "locality_name              49\n",
       "airports_nearest         5542\n",
       "cityCenters_nearest      5519\n",
       "parks_around3000            0\n",
       "parks_nearest           15620\n",
       "ponds_around3000            0\n",
       "ponds_nearest           14589\n",
       "days_exposition          3181\n",
       "dtype: int64"
      ]
     },
     "execution_count": 11,
     "metadata": {},
     "output_type": "execute_result"
    }
   ],
   "source": [
    "#f = ['cityCenters_nearest', 'parks_nearest', 'ponds_nearest', 'airports_nearest', 'days_exposition']\n",
    "#for f1 in f:\n",
    "    #for F in data['locality_name'].unique():\n",
    "        #data.loc[(data['locality_name'] == F) & (data[f1].isna()), f1] = \\\n",
    "        #data.loc[(data['locality_name'] == F), f1].mean()\n",
    "data.isna().sum()\n"
   ]
  },
  {
   "cell_type": "markdown",
   "metadata": {},
   "source": [
    "Поскольку получилось заполнить не все пропуски, вероятно в некоторых населенный пунктах не заполнялись(или не выгрузились данные) по растояниям до изучаемых объектов"
   ]
  },
  {
   "cell_type": "markdown",
   "metadata": {},
   "source": [
    "#### ТИПЫ ДАННЫХ"
   ]
  },
  {
   "cell_type": "markdown",
   "metadata": {},
   "source": [
    "Необходимо заменить типы данных у следующих столбцов:\n",
    "first_day_exposition - на временной\n",
    "last_price - на целый, маловероятно, что кто то указывает цену с копейками\n",
    "floors_total - не может иметь дробное значение\n",
    "balcony- не может иметь дробное значение\n",
    "parks_around3000- не может иметь дробное значение\n",
    "days_exposition- не может иметь дробное значение\n",
    "ponds_around3000- не может иметь дробное значение\n"
   ]
  },
  {
   "cell_type": "code",
   "execution_count": 12,
   "metadata": {},
   "outputs": [
    {
     "name": "stdout",
     "output_type": "stream",
     "text": [
      "<class 'pandas.core.frame.DataFrame'>\n",
      "RangeIndex: 23699 entries, 0 to 23698\n",
      "Data columns (total 22 columns):\n",
      " #   Column                Non-Null Count  Dtype         \n",
      "---  ------                --------------  -----         \n",
      " 0   total_images          23699 non-null  int64         \n",
      " 1   last_price            23699 non-null  float64       \n",
      " 2   total_area            23699 non-null  float64       \n",
      " 3   first_day_exposition  23699 non-null  datetime64[ns]\n",
      " 4   rooms                 23699 non-null  int64         \n",
      " 5   ceiling_height        23699 non-null  float64       \n",
      " 6   floors_total          23699 non-null  float64       \n",
      " 7   living_area           21796 non-null  float64       \n",
      " 8   floor                 23699 non-null  int64         \n",
      " 9   is_apartment          23699 non-null  bool          \n",
      " 10  studio                23699 non-null  bool          \n",
      " 11  open_plan             23699 non-null  bool          \n",
      " 12  kitchen_area          21421 non-null  float64       \n",
      " 13  balcony               23699 non-null  float64       \n",
      " 14  locality_name         23650 non-null  object        \n",
      " 15  airports_nearest      18157 non-null  float64       \n",
      " 16  cityCenters_nearest   18180 non-null  float64       \n",
      " 17  parks_around3000      23699 non-null  float64       \n",
      " 18  parks_nearest         8079 non-null   float64       \n",
      " 19  ponds_around3000      23699 non-null  float64       \n",
      " 20  ponds_nearest         9110 non-null   float64       \n",
      " 21  days_exposition       20518 non-null  float64       \n",
      "dtypes: bool(3), datetime64[ns](1), float64(14), int64(3), object(1)\n",
      "memory usage: 3.5+ MB\n"
     ]
    }
   ],
   "source": [
    "data['first_day_exposition'] = pd.to_datetime(data['first_day_exposition'], format = '%Y-%m-%dT%H:%M:%S')\n",
    "data['last_price'].astype('int')\n",
    "data['floors_total'].astype('int')\n",
    "data['balcony'].astype('int')\n",
    "data['parks_around3000'].astype('int')\n",
    "data['ponds_around3000'].astype('int')\n",
    "data.info()"
   ]
  },
  {
   "cell_type": "markdown",
   "metadata": {},
   "source": [
    "#### ПОИСК НЕЯВНЫХ ДУБЛИКАТОВ"
   ]
  },
  {
   "cell_type": "code",
   "execution_count": 13,
   "metadata": {},
   "outputs": [
    {
     "name": "stdout",
     "output_type": "stream",
     "text": [
      "['Бокситогорск' 'Волосово' 'Волхов' 'Всеволожск' 'Выборг' 'Высоцк'\n",
      " 'Гатчина' 'Зеленогорск' 'Ивангород' 'Каменногорск' 'Кингисепп' 'Кириши'\n",
      " 'Кировск' 'Колпино' 'Коммунар' 'Красное Село' 'Кронштадт' 'Кудрово'\n",
      " 'Лодейное Поле' 'Ломоносов' 'Луга' 'Любань' 'Мурино' 'Никольское'\n",
      " 'Новая Ладога' 'Отрадное' 'Павловск' 'Петергоф' 'Пикалёво' 'Подпорожье'\n",
      " 'Приморск' 'Приозерск' 'Пушкин' 'Санкт-Петербург' 'Светогорск'\n",
      " 'Сертолово' 'Сестрорецк' 'Сланцы' 'Сосновый Бор' 'Сясьстрой' 'Тихвин'\n",
      " 'Тосно' 'Шлиссельбург' 'городской поселок Большая Ижора'\n",
      " 'городской поселок Янино-1' 'городской посёлок Будогощь'\n",
      " 'городской посёлок Виллози' 'городской посёлок Лесогорский'\n",
      " 'городской посёлок Мга' 'городской посёлок Назия'\n",
      " 'городской посёлок Новоселье' 'городской посёлок Павлово'\n",
      " 'городской посёлок Рощино' 'городской посёлок Свирьстрой'\n",
      " 'городской посёлок Советский' 'городской посёлок Фёдоровское'\n",
      " 'городской посёлок Янино-1' 'деревня Агалатово' 'деревня Аро'\n",
      " 'деревня Батово' 'деревня Бегуницы' 'деревня Белогорка'\n",
      " 'деревня Большая Вруда' 'деревня Большая Пустомержа'\n",
      " 'деревня Большие Колпаны' 'деревня Большое Рейзино'\n",
      " 'деревня Большой Сабск' 'деревня Бор' 'деревня Борисова Грива'\n",
      " 'деревня Ваганово' 'деревня Вартемяги' 'деревня Вахнова Кара'\n",
      " 'деревня Выскатка' 'деревня Гарболово' 'деревня Глинка'\n",
      " 'деревня Горбунки' 'деревня Гостилицы' 'деревня Заклинье'\n",
      " 'деревня Заневка' 'деревня Зимитицы' 'деревня Извара' 'деревня Иссад'\n",
      " 'деревня Калитино' 'деревня Кальтино' 'деревня Камышовка'\n",
      " 'деревня Каськово' 'деревня Келози' 'деревня Кипень' 'деревня Кисельня'\n",
      " 'деревня Колтуши' 'деревня Коркино' 'деревня Котлы' 'деревня Кривко'\n",
      " 'деревня Кудрово' 'деревня Кузьмолово' 'деревня Курковицы'\n",
      " 'деревня Куровицы' 'деревня Куттузи' 'деревня Лаврики' 'деревня Лаголово'\n",
      " 'деревня Лампово' 'деревня Лесколово' 'деревня Лопухинка'\n",
      " 'деревня Лупполово' 'деревня Малая Романовка' 'деревня Малое Верево'\n",
      " 'деревня Малое Карлино' 'деревня Малые Колпаны' 'деревня Мануйлово'\n",
      " 'деревня Меньково' 'деревня Мины' 'деревня Мистолово' 'деревня Ненимяки'\n",
      " 'деревня Нижние Осельки' 'деревня Нижняя' 'деревня Низино'\n",
      " 'деревня Новое Девяткино' 'деревня Новолисино' 'деревня Нурма'\n",
      " 'деревня Оржицы' 'деревня Парицы' 'деревня Пельгора' 'деревня Пеники'\n",
      " 'деревня Пижма' 'деревня Пикколово' 'деревня Пудомяги' 'деревня Пустынка'\n",
      " 'деревня Пчева' 'деревня Рабитицы' 'деревня Разбегаево'\n",
      " 'деревня Раздолье' 'деревня Разметелево' 'деревня Рапполово'\n",
      " 'деревня Реброво' 'деревня Русско' 'деревня Сижно' 'деревня Снегирёвка'\n",
      " 'деревня Старая' 'деревня Старая Пустошь' 'деревня Старое Хинколово'\n",
      " 'деревня Старополье' 'деревня Старосиверская' 'деревня Старые Бегуницы'\n",
      " 'деревня Суоранда' 'деревня Сяськелево' 'деревня Тарасово'\n",
      " 'деревня Терпилицы' 'деревня Тихковицы' 'деревня Тойворово'\n",
      " 'деревня Торосово' 'деревня Торошковичи' 'деревня Трубников Бор'\n",
      " 'деревня Фалилеево' 'деревня Фёдоровское' 'деревня Хапо-Ое'\n",
      " 'деревня Хязельки' 'деревня Чудской Бор' 'деревня Шпаньково'\n",
      " 'деревня Щеглово' 'деревня Юкки' 'деревня Ялгино' 'деревня Яльгелево'\n",
      " 'деревня Ям-Тесово' 'коттеджный поселок Кивеннапа Север'\n",
      " 'коттеджный поселок Счастье' 'коттеджный посёлок Лесное' 'поселок Аннино'\n",
      " 'поселок Барышево' 'поселок Бугры' 'поселок Возрождение'\n",
      " 'поселок Войсковицы' 'поселок Володарское' 'поселок Гаврилово'\n",
      " 'поселок Гарболово' 'поселок Гладкое' 'поселок Глажево'\n",
      " 'поселок Глебычево' 'поселок Гончарово' 'поселок Громово'\n",
      " 'поселок Дружноселье' 'поселок Елизаветино' 'поселок Жилгородок'\n",
      " 'поселок Жилпосёлок' 'поселок Житково' 'поселок Заводской'\n",
      " 'поселок Запорожское' 'поселок Зимитицы' 'поселок Ильичёво'\n",
      " 'поселок Калитино' 'поселок Каложицы' 'поселок Кингисеппский'\n",
      " 'поселок Кирпичное' 'поселок Кобралово' 'поселок Кобринское'\n",
      " 'поселок Коммунары' 'поселок Коробицыно' 'поселок Котельский'\n",
      " 'поселок Красная Долина' 'поселок Красносельское' 'поселок Лесное'\n",
      " 'поселок Лисий Нос' 'поселок Лукаши' 'поселок Любань'\n",
      " 'поселок Мельниково' 'поселок Мичуринское' 'поселок Молодцово'\n",
      " 'поселок Мурино' 'поселок Новый Свет' 'поселок Новый Учхоз'\n",
      " 'поселок Оредеж' 'поселок Пансионат Зелёный Бор' 'поселок Первомайское'\n",
      " 'поселок Перово' 'поселок Петровское' 'поселок Победа' 'поселок Поляны'\n",
      " 'поселок Почап' 'поселок Починок' 'поселок Пушное' 'поселок Пчевжа'\n",
      " 'поселок Рабитицы' 'поселок Романовка' 'поселок Ромашки' 'поселок Рябово'\n",
      " 'поселок Севастьяново' 'поселок Селезнёво' 'поселок Сельцо'\n",
      " 'поселок Семиозерье' 'поселок Семрино' 'поселок Серебрянский'\n",
      " 'поселок Совхозный' 'поселок Старая Малукса' 'поселок Стеклянный'\n",
      " 'поселок Сумино' 'поселок Суходолье' 'поселок Тельмана'\n",
      " 'поселок Терволово' 'поселок Торковичи' 'поселок Тёсово-4'\n",
      " 'поселок Углово' 'поселок Усть-Луга' 'поселок Ушаки'\n",
      " 'поселок Цвелодубово' 'поселок Цвылёво'\n",
      " 'поселок городского типа Большая Ижора' 'поселок городского типа Вырица'\n",
      " 'поселок городского типа Дружная Горка'\n",
      " 'поселок городского типа Дубровка' 'поселок городского типа Ефимовский'\n",
      " 'поселок городского типа Кондратьево'\n",
      " 'поселок городского типа Красный Бор'\n",
      " 'поселок городского типа Кузьмоловский' 'поселок городского типа Лебяжье'\n",
      " 'поселок городского типа Лесогорский' 'поселок городского типа Назия'\n",
      " 'поселок городского типа Никольский'\n",
      " 'поселок городского типа Приладожский' 'поселок городского типа Рахья'\n",
      " 'поселок городского типа Рощино' 'поселок городского типа Рябово'\n",
      " 'поселок городского типа Синявино' 'поселок городского типа Советский'\n",
      " 'поселок городского типа Токсово' 'поселок городского типа Форносово'\n",
      " 'поселок городского типа имени Свердлова' 'поселок станции Вещево'\n",
      " 'поселок станции Корнево' 'поселок станции Лужайка'\n",
      " 'поселок станции Приветнинское' 'посёлок Александровская'\n",
      " 'посёлок Алексеевка' 'посёлок Аннино' 'посёлок Белоостров'\n",
      " 'посёлок Бугры' 'посёлок Возрождение' 'посёлок Войскорово'\n",
      " 'посёлок Высокоключевой' 'посёлок Гаврилово' 'посёлок Дзержинского'\n",
      " 'посёлок Жилгородок' 'посёлок Ильичёво' 'посёлок Кикерино'\n",
      " 'посёлок Кобралово' 'посёлок Коробицыно' 'посёлок Левашово'\n",
      " 'посёлок Ленинское' 'посёлок Лисий Нос' 'посёлок Мельниково'\n",
      " 'посёлок Металлострой' 'посёлок Мичуринское' 'посёлок Молодёжное'\n",
      " 'посёлок Мурино' 'посёлок Мыза-Ивановка' 'посёлок Новогорелово'\n",
      " 'посёлок Новый Свет' 'посёлок Пансионат Зелёный Бор' 'посёлок Парголово'\n",
      " 'посёлок Перово' 'посёлок Песочный' 'посёлок Петро-Славянка'\n",
      " 'посёлок Петровское' 'посёлок Платформа 69-й километр' 'посёлок Плодовое'\n",
      " 'посёлок Плоское' 'посёлок Победа' 'посёлок Поляны' 'посёлок Понтонный'\n",
      " 'посёлок Пригородный' 'посёлок Пудость' 'посёлок Репино' 'посёлок Ропша'\n",
      " 'посёлок Сапёрное' 'посёлок Сапёрный' 'посёлок Сосново'\n",
      " 'посёлок Старая Малукса' 'посёлок Стеклянный' 'посёлок Стрельна'\n",
      " 'посёлок Суйда' 'посёлок Сумино' 'посёлок Тельмана' 'посёлок Терволово'\n",
      " 'посёлок Торфяное' 'посёлок Усть-Ижора' 'посёлок Усть-Луга'\n",
      " 'посёлок Форт Красная Горка' 'посёлок Шугозеро' 'посёлок Шушары'\n",
      " 'посёлок Щеглово' 'посёлок городского типа Важины'\n",
      " 'посёлок городского типа Вознесенье' 'посёлок городского типа Вырица'\n",
      " 'посёлок городского типа Красный Бор' 'посёлок городского типа Кузнечное'\n",
      " 'посёлок городского типа Кузьмоловский' 'посёлок городского типа Лебяжье'\n",
      " 'посёлок городского типа Мга' 'посёлок городского типа Павлово'\n",
      " 'посёлок городского типа Рощино' 'посёлок городского типа Рябово'\n",
      " 'посёлок городского типа Сиверский' 'посёлок городского типа Тайцы'\n",
      " 'посёлок городского типа Токсово' 'посёлок городского типа Ульяновка'\n",
      " 'посёлок городского типа Форносово'\n",
      " 'посёлок городского типа имени Морозова'\n",
      " 'посёлок городского типа имени Свердлова'\n",
      " 'посёлок при железнодорожной станции Вещево'\n",
      " 'посёлок при железнодорожной станции Приветнинское'\n",
      " 'посёлок станции Громово' 'посёлок станции Свирь'\n",
      " 'садоводческое некоммерческое товарищество Лесная Поляна'\n",
      " 'садовое товарищество Новая Ропша' 'садовое товарищество Приладожский'\n",
      " 'садовое товарищество Рахья' 'садовое товарищество Садко' 'село Копорье'\n",
      " 'село Никольское' 'село Павлово' 'село Паша' 'село Путилово'\n",
      " 'село Рождествено' 'село Русско-Высоцкое' 'село Старая Ладога' 'село Шум'\n",
      " nan]\n"
     ]
    }
   ],
   "source": [
    "print(data['locality_name'].sort_values().unique())"
   ]
  },
  {
   "cell_type": "code",
   "execution_count": 14,
   "metadata": {},
   "outputs": [
    {
     "name": "stdout",
     "output_type": "stream",
     "text": [
      "['Бокситогорск' 'Волосово' 'Волхов' 'Всеволожск' 'Выборг' 'Высоцк'\n",
      " 'Гатчина' 'Зеленогорск' 'Ивангород' 'Каменногорск' 'Кингисепп' 'Кириши'\n",
      " 'Кировск' 'Колпино' 'Коммунар' 'Красное Село' 'Кронштадт' 'Кудрово'\n",
      " 'Лодейное Поле' 'Ломоносов' 'Луга' 'Любань' 'Мурино' 'Никольское'\n",
      " 'Новая Ладога' 'Отрадное' 'Павловск' 'Петергоф' 'Пикалёво' 'Подпорожье'\n",
      " 'Приморск' 'Приозерск' 'Пушкин' 'Санкт-Петербург' 'Светогорск'\n",
      " 'Сертолово' 'Сестрорецк' 'Сланцы' 'Сосновый Бор' 'Сясьстрой' 'Тихвин'\n",
      " 'Тосно' 'Шлиссельбург' 'городской поселок Будогощь'\n",
      " 'городской поселок Виллози' 'городской поселок Лесогорский'\n",
      " 'городской поселок Мга' 'городской поселок Назия'\n",
      " 'городской поселок Новоселье' 'городской поселок Павлово'\n",
      " 'городской поселок Рощино' 'городской поселок Свирьстрой'\n",
      " 'городской поселок Советский' 'городской поселок Фёдоровское'\n",
      " 'городской поселок Янино-1' 'деревня Агалатово' 'деревня Аро'\n",
      " 'деревня Батово' 'деревня Бегуницы' 'деревня Белогорка'\n",
      " 'деревня Большая Вруда' 'деревня Большая Пустомержа'\n",
      " 'деревня Большие Колпаны' 'деревня Большое Рейзино'\n",
      " 'деревня Большой Сабск' 'деревня Бор' 'деревня Борисова Грива'\n",
      " 'деревня Ваганово' 'деревня Вартемяги' 'деревня Вахнова Кара'\n",
      " 'деревня Выскатка' 'деревня Гарболово' 'деревня Глинка'\n",
      " 'деревня Горбунки' 'деревня Гостилицы' 'деревня Заклинье'\n",
      " 'деревня Заневка' 'деревня Зимитицы' 'деревня Извара' 'деревня Иссад'\n",
      " 'деревня Калитино' 'деревня Кальтино' 'деревня Камышовка'\n",
      " 'деревня Каськово' 'деревня Келози' 'деревня Кипень' 'деревня Кисельня'\n",
      " 'деревня Колтуши' 'деревня Коркино' 'деревня Котлы' 'деревня Кривко'\n",
      " 'деревня Кудрово' 'деревня Кузьмолово' 'деревня Курковицы'\n",
      " 'деревня Куровицы' 'деревня Куттузи' 'деревня Лаврики' 'деревня Лаголово'\n",
      " 'деревня Лампово' 'деревня Лесколово' 'деревня Лопухинка'\n",
      " 'деревня Лупполово' 'деревня Малая Романовка' 'деревня Малое Верево'\n",
      " 'деревня Малое Карлино' 'деревня Малые Колпаны' 'деревня Мануйлово'\n",
      " 'деревня Меньково' 'деревня Мины' 'деревня Мистолово' 'деревня Ненимяки'\n",
      " 'деревня Нижние Осельки' 'деревня Нижняя' 'деревня Низино'\n",
      " 'деревня Новое Девяткино' 'деревня Новолисино' 'деревня Нурма'\n",
      " 'деревня Оржицы' 'деревня Парицы' 'деревня Пельгора' 'деревня Пеники'\n",
      " 'деревня Пижма' 'деревня Пикколово' 'деревня Пудомяги' 'деревня Пустынка'\n",
      " 'деревня Пчева' 'деревня Рабитицы' 'деревня Разбегаево'\n",
      " 'деревня Раздолье' 'деревня Разметелево' 'деревня Рапполово'\n",
      " 'деревня Реброво' 'деревня Русско' 'деревня Сижно' 'деревня Снегирёвка'\n",
      " 'деревня Старая' 'деревня Старая Пустошь' 'деревня Старое Хинколово'\n",
      " 'деревня Старополье' 'деревня Старосиверская' 'деревня Старые Бегуницы'\n",
      " 'деревня Суоранда' 'деревня Сяськелево' 'деревня Тарасово'\n",
      " 'деревня Терпилицы' 'деревня Тихковицы' 'деревня Тойворово'\n",
      " 'деревня Торосово' 'деревня Торошковичи' 'деревня Трубников Бор'\n",
      " 'деревня Фалилеево' 'деревня Фёдоровское' 'деревня Хапо-Ое'\n",
      " 'деревня Хязельки' 'деревня Чудской Бор' 'деревня Шпаньково'\n",
      " 'деревня Щеглово' 'деревня Юкки' 'деревня Ялгино' 'деревня Яльгелево'\n",
      " 'деревня Ям-Тесово' 'коттеджный поселок Кивеннапа Север'\n",
      " 'коттеджный поселок Лесное' 'коттеджный поселок Счастье'\n",
      " 'поселок Александровская' 'поселок Алексеевка' 'поселок Аннино'\n",
      " 'поселок Барышево' 'поселок Белоостров' 'поселок Большая Ижора'\n",
      " 'поселок Бугры' 'поселок Возрождение' 'поселок Войсковицы'\n",
      " 'поселок Войскорово' 'поселок Володарское' 'поселок Вырица'\n",
      " 'поселок Высокоключевой' 'поселок Гаврилово' 'поселок Гарболово'\n",
      " 'поселок Гладкое' 'поселок Глажево' 'поселок Глебычево'\n",
      " 'поселок Гончарово' 'поселок Громово' 'поселок Дзержинского'\n",
      " 'поселок Дружная Горка' 'поселок Дружноселье' 'поселок Дубровка'\n",
      " 'поселок Елизаветино' 'поселок Ефимовский' 'поселок Жилгородок'\n",
      " 'поселок Жилпоселок' 'поселок Житково' 'поселок Заводской'\n",
      " 'поселок Запорожское' 'поселок Зимитицы' 'поселок Ильичёво'\n",
      " 'поселок Калитино' 'поселок Каложицы' 'поселок Кикерино'\n",
      " 'поселок Кингисеппский' 'поселок Кирпичное' 'поселок Кобралово'\n",
      " 'поселок Кобринское' 'поселок Коммунары' 'поселок Кондратьево'\n",
      " 'поселок Коробицыно' 'поселок Котельский' 'поселок Красная Долина'\n",
      " 'поселок Красносельское' 'поселок Красный Бор' 'поселок Кузьмоловский'\n",
      " 'поселок Лебяжье' 'поселок Левашово' 'поселок Ленинское' 'поселок Лесное'\n",
      " 'поселок Лесогорский' 'поселок Лисий Нос' 'поселок Лукаши'\n",
      " 'поселок Любань' 'поселок Мельниково' 'поселок Металлострой'\n",
      " 'поселок Мичуринское' 'поселок Молодцово' 'поселок Молодёжное'\n",
      " 'поселок Мурино' 'поселок Мыза-Ивановка' 'поселок Назия'\n",
      " 'поселок Никольский' 'поселок Новогорелово' 'поселок Новый Свет'\n",
      " 'поселок Новый Учхоз' 'поселок Оредеж' 'поселок Пансионат Зелёный Бор'\n",
      " 'поселок Парголово' 'поселок Первомайское' 'поселок Перово'\n",
      " 'поселок Песочный' 'поселок Петро-Славянка' 'поселок Петровское'\n",
      " 'поселок Платформа 69-й километр' 'поселок Плодовое' 'поселок Плоское'\n",
      " 'поселок Победа' 'поселок Поляны' 'поселок Понтонный' 'поселок Почап'\n",
      " 'поселок Починок' 'поселок Пригородный' 'поселок Приладожский'\n",
      " 'поселок Пудость' 'поселок Пушное' 'поселок Пчевжа' 'поселок Рабитицы'\n",
      " 'поселок Рахья' 'поселок Репино' 'поселок Романовка' 'поселок Ромашки'\n",
      " 'поселок Ропша' 'поселок Рощино' 'поселок Рябово' 'поселок Сапёрное'\n",
      " 'поселок Сапёрный' 'поселок Севастьяново' 'поселок Селезнёво'\n",
      " 'поселок Сельцо' 'поселок Семиозерье' 'поселок Семрино'\n",
      " 'поселок Серебрянский' 'поселок Синявино' 'поселок Советский'\n",
      " 'поселок Совхозный' 'поселок Сосново' 'поселок Старая Малукса'\n",
      " 'поселок Стеклянный' 'поселок Стрельна' 'поселок Суйда' 'поселок Сумино'\n",
      " 'поселок Суходолье' 'поселок Тельмана' 'поселок Терволово'\n",
      " 'поселок Токсово' 'поселок Торковичи' 'поселок Торфяное'\n",
      " 'поселок Тёсово-4' 'поселок Углово' 'поселок Усть-Ижора'\n",
      " 'поселок Усть-Луга' 'поселок Ушаки' 'поселок Форносово'\n",
      " 'поселок Форт Красная Горка' 'поселок Цвелодубово' 'поселок Цвылёво'\n",
      " 'поселок Шугозеро' 'поселок Шушары' 'поселок Щеглово' 'поселок Янино-1'\n",
      " 'поселок городского типа Важины' 'поселок городского типа Вознесенье'\n",
      " 'поселок городского типа Вырица' 'поселок городского типа Красный Бор'\n",
      " 'поселок городского типа Кузнечное'\n",
      " 'поселок городского типа Кузьмоловский' 'поселок городского типа Лебяжье'\n",
      " 'поселок городского типа Мга' 'поселок городского типа Павлово'\n",
      " 'поселок городского типа Рощино' 'поселок городского типа Рябово'\n",
      " 'поселок городского типа Сиверский' 'поселок городского типа Тайцы'\n",
      " 'поселок городского типа Токсово' 'поселок городского типа Ульяновка'\n",
      " 'поселок городского типа Форносово'\n",
      " 'поселок городского типа имени Морозова'\n",
      " 'поселок городского типа имени Свердлова' 'поселок имени Свердлова'\n",
      " 'поселок станции Вещево' 'поселок станции Громово'\n",
      " 'поселок станции Корнево' 'поселок станции Лужайка'\n",
      " 'поселок станции Приветнинское' 'поселок станции Свирь'\n",
      " 'садоводческое некоммерческое товарищество Лесная Поляна'\n",
      " 'садовое товарищество Новая Ропша' 'садовое товарищество Приладожский'\n",
      " 'садовое товарищество Рахья' 'садовое товарищество Садко' 'село Копорье'\n",
      " 'село Никольское' 'село Павлово' 'село Паша' 'село Путилово'\n",
      " 'село Рождествено' 'село Русско-Высоцкое' 'село Старая Ладога' 'село Шум']\n"
     ]
    }
   ],
   "source": [
    "c = ['городской поселок','поселок городского типа', 'посёлок', 'посёлок городского типа'] #поселок\n",
    "d = ['посёлок при железнодорожной станции', 'посёлок станции'] #поселок станции\n",
    "for d1 in d:\n",
    "    data['locality_name']=data['locality_name'].str.replace(d1,'поселок станции',regex=True)\n",
    "for c1 in c:\n",
    "    data['locality_name']=data['locality_name'].str.replace(c1,'поселок',regex=True)\n",
    "data=data.dropna(subset = ['locality_name']).reset_index(drop=True)\n",
    "print(data['locality_name'].sort_values().unique())\n"
   ]
  },
  {
   "cell_type": "markdown",
   "metadata": {},
   "source": [
    "#### ПРОВЕРКА ВЫПОДАЮЩИХ ЗНАЧЕНИЙ"
   ]
  },
  {
   "cell_type": "code",
   "execution_count": 15,
   "metadata": {},
   "outputs": [
    {
     "name": "stdout",
     "output_type": "stream",
     "text": [
      "[0. 1. 2. 3. 4. 5.]\n"
     ]
    }
   ],
   "source": [
    "print(data['balcony'].sort_values().unique())"
   ]
  },
  {
   "cell_type": "code",
   "execution_count": 16,
   "metadata": {
    "scrolled": true
   },
   "outputs": [
    {
     "name": "stdout",
     "output_type": "stream",
     "text": [
      "[  1.     1.2    1.75   2.     2.2    2.25   2.3    2.34   2.4    2.45\n",
      "   2.46   2.47   2.48   2.49   2.5    2.51   2.52   2.53   2.54   2.55\n",
      "   2.56   2.57   2.58   2.59   2.6    2.61   2.62   2.63   2.64   2.65\n",
      "   2.66   2.67   2.68   2.69   2.7    2.71   2.72   2.73   2.74   2.75\n",
      "   2.76   2.77   2.78   2.79   2.8    2.81   2.82   2.83   2.84   2.85\n",
      "   2.86   2.87   2.88   2.89   2.9    2.91   2.92   2.93   2.94   2.95\n",
      "   2.96   2.97   2.98   2.99   3.     3.01   3.02   3.03   3.04   3.05\n",
      "   3.06   3.07   3.08   3.09   3.1    3.11   3.12   3.13   3.14   3.15\n",
      "   3.16   3.17   3.18   3.2    3.21   3.22   3.23   3.24   3.25   3.26\n",
      "   3.27   3.28   3.29   3.3    3.31   3.32   3.33   3.34   3.35   3.36\n",
      "   3.37   3.38   3.39   3.4    3.42   3.43   3.44   3.45   3.46   3.47\n",
      "   3.48   3.49   3.5    3.51   3.52   3.53   3.54   3.55   3.56   3.57\n",
      "   3.58   3.59   3.6    3.62   3.63   3.65   3.66   3.67   3.68   3.69\n",
      "   3.7    3.75   3.76   3.78   3.8    3.82   3.83   3.84   3.85   3.86\n",
      "   3.87   3.88   3.9    3.93   3.95   3.98   4.     4.06   4.1    4.14\n",
      "   4.15   4.19   4.2    4.25   4.3    4.37   4.4    4.45   4.5    4.65\n",
      "   4.7    4.8    4.9    5.     5.2    5.3    5.5    5.6    5.8    6.\n",
      "   8.     8.3   10.3   14.    20.    22.6   24.    25.    26.    27.\n",
      "  27.5   32.   100.  ]\n"
     ]
    }
   ],
   "source": [
    "print(data['ceiling_height'].sort_values().unique())"
   ]
  },
  {
   "cell_type": "code",
   "execution_count": 17,
   "metadata": {},
   "outputs": [
    {
     "data": {
      "text/plain": [
       "array([ 2.5 ,  2.51,  2.52,  2.53,  2.54,  2.55,  2.56,  2.57,  2.58,\n",
       "        2.59,  2.6 ,  2.61,  2.62,  2.63,  2.64,  2.65,  2.66,  2.67,\n",
       "        2.68,  2.69,  2.7 ,  2.71,  2.72,  2.73,  2.74,  2.75,  2.76,\n",
       "        2.77,  2.78,  2.79,  2.8 ,  2.81,  2.82,  2.83,  2.84,  2.85,\n",
       "        2.86,  2.87,  2.88,  2.89,  2.9 ,  2.91,  2.92,  2.93,  2.94,\n",
       "        2.95,  2.96,  2.97,  2.98,  2.99,  3.  ,  3.01,  3.02,  3.03,\n",
       "        3.04,  3.05,  3.06,  3.07,  3.08,  3.09,  3.1 ,  3.11,  3.12,\n",
       "        3.13,  3.14,  3.15,  3.16,  3.17,  3.18,  3.2 ,  3.21,  3.22,\n",
       "        3.23,  3.24,  3.25,  3.26,  3.27,  3.28,  3.29,  3.3 ,  3.31,\n",
       "        3.32,  3.33,  3.34,  3.35,  3.36,  3.37,  3.38,  3.39,  3.4 ,\n",
       "        3.42,  3.43,  3.44,  3.45,  3.46,  3.47,  3.48,  3.49,  3.5 ,\n",
       "        3.51,  3.52,  3.53,  3.54,  3.55,  3.56,  3.57,  3.58,  3.59,\n",
       "        3.6 ,  3.62,  3.63,  3.65,  3.66,  3.67,  3.68,  3.69,  3.7 ,\n",
       "        3.75,  3.76,  3.78,  3.8 ,  3.82,  3.83,  3.84,  3.85,  3.86,\n",
       "        3.87,  3.88,  3.9 ,  3.93,  3.95,  3.98,  4.  ,  4.06,  4.1 ,\n",
       "        4.14,  4.15,  4.19,  4.2 ,  4.25,  4.3 ,  4.37,  4.4 ,  4.45,\n",
       "        4.5 ,  4.65,  4.7 ,  4.8 ,  4.9 ,  5.  ,  5.2 ,  5.3 ,  5.5 ,\n",
       "        5.6 ,  5.8 ,  6.  ,  8.  ,  8.3 , 10.  ])"
      ]
     },
     "execution_count": 17,
     "metadata": {},
     "output_type": "execute_result"
    }
   ],
   "source": [
    "data['ceiling_height'] = data['ceiling_height'].where(data['ceiling_height'] < 10, data['ceiling_height']/10)\n",
    "data['ceiling_height'] = data['ceiling_height'].where(data['ceiling_height']>= 2.5, 2.5)\n",
    "\n",
    "data['ceiling_height'].sort_values().unique()"
   ]
  },
  {
   "cell_type": "markdown",
   "metadata": {},
   "source": [
    "высота потолков по требованиям снип не может быть ниже 2,5 м, в связи с этим все значения ниже 2,5 заменены на 2,5 м. слишком высокие значения (более 10 метров) были поделены на 10,(видимо люди заполняя объявление не поставли \",\") и в случае если полученное значение оказывалось пеньше 2,5 оно также заменялось. "
   ]
  },
  {
   "cell_type": "code",
   "execution_count": 18,
   "metadata": {},
   "outputs": [
    {
     "data": {
      "text/plain": [
       "array([  181.,   208.,   215., ..., 65952., 65968.,    nan])"
      ]
     },
     "execution_count": 18,
     "metadata": {},
     "output_type": "execute_result"
    }
   ],
   "source": [
    "data['cityCenters_nearest'].sort_values().unique()"
   ]
  },
  {
   "cell_type": "code",
   "execution_count": 19,
   "metadata": {},
   "outputs": [
    {
     "name": "stdout",
     "output_type": "stream",
     "text": [
      "[1.000e+00 2.000e+00 3.000e+00 ... 1.572e+03 1.580e+03       nan]\n"
     ]
    }
   ],
   "source": [
    "print(data['days_exposition'].sort_values().unique())"
   ]
  },
  {
   "cell_type": "code",
   "execution_count": 20,
   "metadata": {},
   "outputs": [
    {
     "name": "stdout",
     "output_type": "stream",
     "text": [
      "[ 1  2  3  4  5  6  7  8  9 10 11 12 13 14 15 16 17 18 19 20 21 22 23 24\n",
      " 25 26 27 28 29 30 31 32 33]\n"
     ]
    }
   ],
   "source": [
    "print(data['floor'].sort_values().unique())"
   ]
  },
  {
   "cell_type": "code",
   "execution_count": 21,
   "metadata": {},
   "outputs": [
    {
     "name": "stdout",
     "output_type": "stream",
     "text": [
      "[ 1.  2.  3.  4.  5.  6.  7.  8.  9. 10. 11. 12. 13. 14. 15. 16. 17. 18.\n",
      " 19. 20. 21. 22. 23. 24. 25. 26. 27. 28. 29. 33. 34. 35. 36. 37. 52. 60.]\n"
     ]
    }
   ],
   "source": [
    "print(data['floors_total'].sort_values().unique())"
   ]
  },
  {
   "cell_type": "code",
   "execution_count": 22,
   "metadata": {},
   "outputs": [
    {
     "data": {
      "text/html": [
       "<div>\n",
       "<style scoped>\n",
       "    .dataframe tbody tr th:only-of-type {\n",
       "        vertical-align: middle;\n",
       "    }\n",
       "\n",
       "    .dataframe tbody tr th {\n",
       "        vertical-align: top;\n",
       "    }\n",
       "\n",
       "    .dataframe thead th {\n",
       "        text-align: right;\n",
       "    }\n",
       "</style>\n",
       "<table border=\"1\" class=\"dataframe\">\n",
       "  <thead>\n",
       "    <tr style=\"text-align: right;\">\n",
       "      <th></th>\n",
       "      <th>total_images</th>\n",
       "      <th>last_price</th>\n",
       "      <th>total_area</th>\n",
       "      <th>first_day_exposition</th>\n",
       "      <th>rooms</th>\n",
       "      <th>ceiling_height</th>\n",
       "      <th>floors_total</th>\n",
       "      <th>living_area</th>\n",
       "      <th>floor</th>\n",
       "      <th>is_apartment</th>\n",
       "      <th>...</th>\n",
       "      <th>kitchen_area</th>\n",
       "      <th>balcony</th>\n",
       "      <th>locality_name</th>\n",
       "      <th>airports_nearest</th>\n",
       "      <th>cityCenters_nearest</th>\n",
       "      <th>parks_around3000</th>\n",
       "      <th>parks_nearest</th>\n",
       "      <th>ponds_around3000</th>\n",
       "      <th>ponds_nearest</th>\n",
       "      <th>days_exposition</th>\n",
       "    </tr>\n",
       "  </thead>\n",
       "  <tbody>\n",
       "    <tr>\n",
       "      <th>19505</th>\n",
       "      <td>8</td>\n",
       "      <td>420000000.0</td>\n",
       "      <td>900.0</td>\n",
       "      <td>2017-12-06</td>\n",
       "      <td>12</td>\n",
       "      <td>2.80</td>\n",
       "      <td>25.0</td>\n",
       "      <td>409.7</td>\n",
       "      <td>25</td>\n",
       "      <td>False</td>\n",
       "      <td>...</td>\n",
       "      <td>112.0</td>\n",
       "      <td>0.0</td>\n",
       "      <td>Санкт-Петербург</td>\n",
       "      <td>30706.0</td>\n",
       "      <td>7877.0</td>\n",
       "      <td>0.0</td>\n",
       "      <td>NaN</td>\n",
       "      <td>2.0</td>\n",
       "      <td>318.0</td>\n",
       "      <td>106.0</td>\n",
       "    </tr>\n",
       "    <tr>\n",
       "      <th>20178</th>\n",
       "      <td>2</td>\n",
       "      <td>85000000.0</td>\n",
       "      <td>249.7</td>\n",
       "      <td>2018-02-01</td>\n",
       "      <td>3</td>\n",
       "      <td>2.65</td>\n",
       "      <td>10.0</td>\n",
       "      <td>72.0</td>\n",
       "      <td>9</td>\n",
       "      <td>False</td>\n",
       "      <td>...</td>\n",
       "      <td>107.0</td>\n",
       "      <td>4.0</td>\n",
       "      <td>Санкт-Петербург</td>\n",
       "      <td>31532.0</td>\n",
       "      <td>4624.0</td>\n",
       "      <td>1.0</td>\n",
       "      <td>2218.0</td>\n",
       "      <td>2.0</td>\n",
       "      <td>99.0</td>\n",
       "      <td>26.0</td>\n",
       "    </tr>\n",
       "    <tr>\n",
       "      <th>2487</th>\n",
       "      <td>9</td>\n",
       "      <td>12500000.0</td>\n",
       "      <td>255.0</td>\n",
       "      <td>2017-04-21</td>\n",
       "      <td>3</td>\n",
       "      <td>2.65</td>\n",
       "      <td>2.0</td>\n",
       "      <td>153.9</td>\n",
       "      <td>2</td>\n",
       "      <td>False</td>\n",
       "      <td>...</td>\n",
       "      <td>100.7</td>\n",
       "      <td>0.0</td>\n",
       "      <td>Санкт-Петербург</td>\n",
       "      <td>29544.0</td>\n",
       "      <td>6916.0</td>\n",
       "      <td>0.0</td>\n",
       "      <td>NaN</td>\n",
       "      <td>3.0</td>\n",
       "      <td>198.0</td>\n",
       "      <td>102.0</td>\n",
       "    </tr>\n",
       "    <tr>\n",
       "      <th>5349</th>\n",
       "      <td>20</td>\n",
       "      <td>65000000.0</td>\n",
       "      <td>590.0</td>\n",
       "      <td>2019-02-14</td>\n",
       "      <td>15</td>\n",
       "      <td>3.50</td>\n",
       "      <td>6.0</td>\n",
       "      <td>409.0</td>\n",
       "      <td>3</td>\n",
       "      <td>False</td>\n",
       "      <td>...</td>\n",
       "      <td>100.0</td>\n",
       "      <td>0.0</td>\n",
       "      <td>Санкт-Петербург</td>\n",
       "      <td>24447.0</td>\n",
       "      <td>4666.0</td>\n",
       "      <td>1.0</td>\n",
       "      <td>767.0</td>\n",
       "      <td>0.0</td>\n",
       "      <td>NaN</td>\n",
       "      <td>14.0</td>\n",
       "    </tr>\n",
       "    <tr>\n",
       "      <th>16212</th>\n",
       "      <td>5</td>\n",
       "      <td>82400000.0</td>\n",
       "      <td>181.1</td>\n",
       "      <td>2017-05-24</td>\n",
       "      <td>3</td>\n",
       "      <td>3.90</td>\n",
       "      <td>9.0</td>\n",
       "      <td>58.2</td>\n",
       "      <td>4</td>\n",
       "      <td>False</td>\n",
       "      <td>...</td>\n",
       "      <td>93.2</td>\n",
       "      <td>0.0</td>\n",
       "      <td>Санкт-Петербург</td>\n",
       "      <td>25525.0</td>\n",
       "      <td>5845.0</td>\n",
       "      <td>2.0</td>\n",
       "      <td>116.0</td>\n",
       "      <td>0.0</td>\n",
       "      <td>NaN</td>\n",
       "      <td>501.0</td>\n",
       "    </tr>\n",
       "    <tr>\n",
       "      <th>16767</th>\n",
       "      <td>9</td>\n",
       "      <td>65850000.0</td>\n",
       "      <td>146.0</td>\n",
       "      <td>2017-07-14</td>\n",
       "      <td>2</td>\n",
       "      <td>2.65</td>\n",
       "      <td>9.0</td>\n",
       "      <td>40.0</td>\n",
       "      <td>3</td>\n",
       "      <td>False</td>\n",
       "      <td>...</td>\n",
       "      <td>93.0</td>\n",
       "      <td>0.0</td>\n",
       "      <td>Санкт-Петербург</td>\n",
       "      <td>25525.0</td>\n",
       "      <td>5845.0</td>\n",
       "      <td>2.0</td>\n",
       "      <td>116.0</td>\n",
       "      <td>0.0</td>\n",
       "      <td>NaN</td>\n",
       "      <td>77.0</td>\n",
       "    </tr>\n",
       "    <tr>\n",
       "      <th>10849</th>\n",
       "      <td>1</td>\n",
       "      <td>56844500.0</td>\n",
       "      <td>177.9</td>\n",
       "      <td>2015-01-15</td>\n",
       "      <td>3</td>\n",
       "      <td>2.65</td>\n",
       "      <td>6.0</td>\n",
       "      <td>87.2</td>\n",
       "      <td>5</td>\n",
       "      <td>True</td>\n",
       "      <td>...</td>\n",
       "      <td>87.2</td>\n",
       "      <td>0.0</td>\n",
       "      <td>Санкт-Петербург</td>\n",
       "      <td>21860.0</td>\n",
       "      <td>318.0</td>\n",
       "      <td>2.0</td>\n",
       "      <td>160.0</td>\n",
       "      <td>3.0</td>\n",
       "      <td>569.0</td>\n",
       "      <td>NaN</td>\n",
       "    </tr>\n",
       "    <tr>\n",
       "      <th>492</th>\n",
       "      <td>18</td>\n",
       "      <td>95000000.0</td>\n",
       "      <td>216.0</td>\n",
       "      <td>2017-12-05</td>\n",
       "      <td>4</td>\n",
       "      <td>3.00</td>\n",
       "      <td>5.0</td>\n",
       "      <td>86.0</td>\n",
       "      <td>4</td>\n",
       "      <td>False</td>\n",
       "      <td>...</td>\n",
       "      <td>77.0</td>\n",
       "      <td>0.0</td>\n",
       "      <td>Санкт-Петербург</td>\n",
       "      <td>21740.0</td>\n",
       "      <td>436.0</td>\n",
       "      <td>2.0</td>\n",
       "      <td>138.0</td>\n",
       "      <td>3.0</td>\n",
       "      <td>620.0</td>\n",
       "      <td>14.0</td>\n",
       "    </tr>\n",
       "    <tr>\n",
       "      <th>4387</th>\n",
       "      <td>20</td>\n",
       "      <td>57000000.0</td>\n",
       "      <td>174.0</td>\n",
       "      <td>2015-11-09</td>\n",
       "      <td>3</td>\n",
       "      <td>3.20</td>\n",
       "      <td>10.0</td>\n",
       "      <td>95.0</td>\n",
       "      <td>6</td>\n",
       "      <td>False</td>\n",
       "      <td>...</td>\n",
       "      <td>77.0</td>\n",
       "      <td>0.0</td>\n",
       "      <td>Санкт-Петербург</td>\n",
       "      <td>31706.0</td>\n",
       "      <td>4166.0</td>\n",
       "      <td>1.0</td>\n",
       "      <td>193.0</td>\n",
       "      <td>3.0</td>\n",
       "      <td>199.0</td>\n",
       "      <td>1039.0</td>\n",
       "    </tr>\n",
       "    <tr>\n",
       "      <th>14619</th>\n",
       "      <td>17</td>\n",
       "      <td>47000000.0</td>\n",
       "      <td>150.0</td>\n",
       "      <td>2017-02-28</td>\n",
       "      <td>4</td>\n",
       "      <td>3.70</td>\n",
       "      <td>6.0</td>\n",
       "      <td>58.0</td>\n",
       "      <td>5</td>\n",
       "      <td>False</td>\n",
       "      <td>...</td>\n",
       "      <td>75.0</td>\n",
       "      <td>1.0</td>\n",
       "      <td>Санкт-Петербург</td>\n",
       "      <td>16085.0</td>\n",
       "      <td>7616.0</td>\n",
       "      <td>0.0</td>\n",
       "      <td>NaN</td>\n",
       "      <td>0.0</td>\n",
       "      <td>NaN</td>\n",
       "      <td>507.0</td>\n",
       "    </tr>\n",
       "  </tbody>\n",
       "</table>\n",
       "<p>10 rows × 22 columns</p>\n",
       "</div>"
      ],
      "text/plain": [
       "       total_images   last_price  total_area first_day_exposition  rooms  \\\n",
       "19505             8  420000000.0       900.0           2017-12-06     12   \n",
       "20178             2   85000000.0       249.7           2018-02-01      3   \n",
       "2487              9   12500000.0       255.0           2017-04-21      3   \n",
       "5349             20   65000000.0       590.0           2019-02-14     15   \n",
       "16212             5   82400000.0       181.1           2017-05-24      3   \n",
       "16767             9   65850000.0       146.0           2017-07-14      2   \n",
       "10849             1   56844500.0       177.9           2015-01-15      3   \n",
       "492              18   95000000.0       216.0           2017-12-05      4   \n",
       "4387             20   57000000.0       174.0           2015-11-09      3   \n",
       "14619            17   47000000.0       150.0           2017-02-28      4   \n",
       "\n",
       "       ceiling_height  floors_total  living_area  floor  is_apartment  ...  \\\n",
       "19505            2.80          25.0        409.7     25         False  ...   \n",
       "20178            2.65          10.0         72.0      9         False  ...   \n",
       "2487             2.65           2.0        153.9      2         False  ...   \n",
       "5349             3.50           6.0        409.0      3         False  ...   \n",
       "16212            3.90           9.0         58.2      4         False  ...   \n",
       "16767            2.65           9.0         40.0      3         False  ...   \n",
       "10849            2.65           6.0         87.2      5          True  ...   \n",
       "492              3.00           5.0         86.0      4         False  ...   \n",
       "4387             3.20          10.0         95.0      6         False  ...   \n",
       "14619            3.70           6.0         58.0      5         False  ...   \n",
       "\n",
       "       kitchen_area  balcony    locality_name  airports_nearest  \\\n",
       "19505         112.0      0.0  Санкт-Петербург           30706.0   \n",
       "20178         107.0      4.0  Санкт-Петербург           31532.0   \n",
       "2487          100.7      0.0  Санкт-Петербург           29544.0   \n",
       "5349          100.0      0.0  Санкт-Петербург           24447.0   \n",
       "16212          93.2      0.0  Санкт-Петербург           25525.0   \n",
       "16767          93.0      0.0  Санкт-Петербург           25525.0   \n",
       "10849          87.2      0.0  Санкт-Петербург           21860.0   \n",
       "492            77.0      0.0  Санкт-Петербург           21740.0   \n",
       "4387           77.0      0.0  Санкт-Петербург           31706.0   \n",
       "14619          75.0      1.0  Санкт-Петербург           16085.0   \n",
       "\n",
       "      cityCenters_nearest  parks_around3000  parks_nearest  ponds_around3000  \\\n",
       "19505              7877.0               0.0            NaN               2.0   \n",
       "20178              4624.0               1.0         2218.0               2.0   \n",
       "2487               6916.0               0.0            NaN               3.0   \n",
       "5349               4666.0               1.0          767.0               0.0   \n",
       "16212              5845.0               2.0          116.0               0.0   \n",
       "16767              5845.0               2.0          116.0               0.0   \n",
       "10849               318.0               2.0          160.0               3.0   \n",
       "492                 436.0               2.0          138.0               3.0   \n",
       "4387               4166.0               1.0          193.0               3.0   \n",
       "14619              7616.0               0.0            NaN               0.0   \n",
       "\n",
       "       ponds_nearest  days_exposition  \n",
       "19505          318.0            106.0  \n",
       "20178           99.0             26.0  \n",
       "2487           198.0            102.0  \n",
       "5349             NaN             14.0  \n",
       "16212            NaN            501.0  \n",
       "16767            NaN             77.0  \n",
       "10849          569.0              NaN  \n",
       "492            620.0             14.0  \n",
       "4387           199.0           1039.0  \n",
       "14619            NaN            507.0  \n",
       "\n",
       "[10 rows x 22 columns]"
      ]
     },
     "execution_count": 22,
     "metadata": {},
     "output_type": "execute_result"
    }
   ],
   "source": [
    "data['kitchen_area'].sort_values().unique()\n",
    "data.sort_values(by='kitchen_area', ascending = False).head(10)"
   ]
  },
  {
   "cell_type": "code",
   "execution_count": 23,
   "metadata": {},
   "outputs": [
    {
     "data": {
      "text/plain": [
       "array([1.219e+04, 4.300e+05, 4.400e+05, ..., 4.013e+08, 4.200e+08,\n",
       "       7.630e+08])"
      ]
     },
     "execution_count": 23,
     "metadata": {},
     "output_type": "execute_result"
    }
   ],
   "source": [
    "data['last_price'].sort_values().unique()"
   ]
  },
  {
   "cell_type": "code",
   "execution_count": 24,
   "metadata": {},
   "outputs": [
    {
     "data": {
      "text/html": [
       "<div>\n",
       "<style scoped>\n",
       "    .dataframe tbody tr th:only-of-type {\n",
       "        vertical-align: middle;\n",
       "    }\n",
       "\n",
       "    .dataframe tbody tr th {\n",
       "        vertical-align: top;\n",
       "    }\n",
       "\n",
       "    .dataframe thead th {\n",
       "        text-align: right;\n",
       "    }\n",
       "</style>\n",
       "<table border=\"1\" class=\"dataframe\">\n",
       "  <thead>\n",
       "    <tr style=\"text-align: right;\">\n",
       "      <th></th>\n",
       "      <th>total_images</th>\n",
       "      <th>last_price</th>\n",
       "      <th>total_area</th>\n",
       "      <th>first_day_exposition</th>\n",
       "      <th>rooms</th>\n",
       "      <th>ceiling_height</th>\n",
       "      <th>floors_total</th>\n",
       "      <th>living_area</th>\n",
       "      <th>floor</th>\n",
       "      <th>is_apartment</th>\n",
       "      <th>...</th>\n",
       "      <th>kitchen_area</th>\n",
       "      <th>balcony</th>\n",
       "      <th>locality_name</th>\n",
       "      <th>airports_nearest</th>\n",
       "      <th>cityCenters_nearest</th>\n",
       "      <th>parks_around3000</th>\n",
       "      <th>parks_nearest</th>\n",
       "      <th>ponds_around3000</th>\n",
       "      <th>ponds_nearest</th>\n",
       "      <th>days_exposition</th>\n",
       "    </tr>\n",
       "  </thead>\n",
       "  <tbody>\n",
       "    <tr>\n",
       "      <th>19505</th>\n",
       "      <td>8</td>\n",
       "      <td>420000000.0</td>\n",
       "      <td>900.0</td>\n",
       "      <td>2017-12-06</td>\n",
       "      <td>12</td>\n",
       "      <td>2.80</td>\n",
       "      <td>25.0</td>\n",
       "      <td>409.7</td>\n",
       "      <td>25</td>\n",
       "      <td>False</td>\n",
       "      <td>...</td>\n",
       "      <td>112.0</td>\n",
       "      <td>0.0</td>\n",
       "      <td>Санкт-Петербург</td>\n",
       "      <td>30706.0</td>\n",
       "      <td>7877.0</td>\n",
       "      <td>0.0</td>\n",
       "      <td>NaN</td>\n",
       "      <td>2.0</td>\n",
       "      <td>318.0</td>\n",
       "      <td>106.0</td>\n",
       "    </tr>\n",
       "    <tr>\n",
       "      <th>5349</th>\n",
       "      <td>20</td>\n",
       "      <td>65000000.0</td>\n",
       "      <td>590.0</td>\n",
       "      <td>2019-02-14</td>\n",
       "      <td>15</td>\n",
       "      <td>3.50</td>\n",
       "      <td>6.0</td>\n",
       "      <td>409.0</td>\n",
       "      <td>3</td>\n",
       "      <td>False</td>\n",
       "      <td>...</td>\n",
       "      <td>100.0</td>\n",
       "      <td>0.0</td>\n",
       "      <td>Санкт-Петербург</td>\n",
       "      <td>24447.0</td>\n",
       "      <td>4666.0</td>\n",
       "      <td>1.0</td>\n",
       "      <td>767.0</td>\n",
       "      <td>0.0</td>\n",
       "      <td>NaN</td>\n",
       "      <td>14.0</td>\n",
       "    </tr>\n",
       "    <tr>\n",
       "      <th>12382</th>\n",
       "      <td>20</td>\n",
       "      <td>91500000.0</td>\n",
       "      <td>495.0</td>\n",
       "      <td>2017-06-19</td>\n",
       "      <td>7</td>\n",
       "      <td>4.65</td>\n",
       "      <td>7.0</td>\n",
       "      <td>347.5</td>\n",
       "      <td>7</td>\n",
       "      <td>False</td>\n",
       "      <td>...</td>\n",
       "      <td>25.0</td>\n",
       "      <td>0.0</td>\n",
       "      <td>Санкт-Петербург</td>\n",
       "      <td>NaN</td>\n",
       "      <td>5735.0</td>\n",
       "      <td>2.0</td>\n",
       "      <td>110.0</td>\n",
       "      <td>0.0</td>\n",
       "      <td>NaN</td>\n",
       "      <td>14.0</td>\n",
       "    </tr>\n",
       "    <tr>\n",
       "      <th>4230</th>\n",
       "      <td>1</td>\n",
       "      <td>50000000.0</td>\n",
       "      <td>517.0</td>\n",
       "      <td>2017-10-14</td>\n",
       "      <td>7</td>\n",
       "      <td>2.65</td>\n",
       "      <td>4.0</td>\n",
       "      <td>332.0</td>\n",
       "      <td>3</td>\n",
       "      <td>False</td>\n",
       "      <td>...</td>\n",
       "      <td>22.0</td>\n",
       "      <td>0.0</td>\n",
       "      <td>Санкт-Петербург</td>\n",
       "      <td>22835.0</td>\n",
       "      <td>1847.0</td>\n",
       "      <td>2.0</td>\n",
       "      <td>477.0</td>\n",
       "      <td>2.0</td>\n",
       "      <td>540.0</td>\n",
       "      <td>NaN</td>\n",
       "    </tr>\n",
       "    <tr>\n",
       "      <th>12840</th>\n",
       "      <td>20</td>\n",
       "      <td>140000000.0</td>\n",
       "      <td>631.2</td>\n",
       "      <td>2019-04-09</td>\n",
       "      <td>7</td>\n",
       "      <td>3.90</td>\n",
       "      <td>4.0</td>\n",
       "      <td>322.3</td>\n",
       "      <td>4</td>\n",
       "      <td>False</td>\n",
       "      <td>...</td>\n",
       "      <td>19.5</td>\n",
       "      <td>1.0</td>\n",
       "      <td>Санкт-Петербург</td>\n",
       "      <td>25707.0</td>\n",
       "      <td>4972.0</td>\n",
       "      <td>0.0</td>\n",
       "      <td>NaN</td>\n",
       "      <td>2.0</td>\n",
       "      <td>210.0</td>\n",
       "      <td>NaN</td>\n",
       "    </tr>\n",
       "    <tr>\n",
       "      <th>660</th>\n",
       "      <td>3</td>\n",
       "      <td>49950000.0</td>\n",
       "      <td>483.9</td>\n",
       "      <td>2017-10-04</td>\n",
       "      <td>7</td>\n",
       "      <td>3.20</td>\n",
       "      <td>6.0</td>\n",
       "      <td>312.5</td>\n",
       "      <td>4</td>\n",
       "      <td>False</td>\n",
       "      <td>...</td>\n",
       "      <td>26.4</td>\n",
       "      <td>0.0</td>\n",
       "      <td>Санкт-Петербург</td>\n",
       "      <td>23079.0</td>\n",
       "      <td>945.0</td>\n",
       "      <td>3.0</td>\n",
       "      <td>461.0</td>\n",
       "      <td>3.0</td>\n",
       "      <td>22.0</td>\n",
       "      <td>391.0</td>\n",
       "    </tr>\n",
       "    <tr>\n",
       "      <th>8004</th>\n",
       "      <td>20</td>\n",
       "      <td>84000000.0</td>\n",
       "      <td>507.0</td>\n",
       "      <td>2015-12-17</td>\n",
       "      <td>5</td>\n",
       "      <td>4.45</td>\n",
       "      <td>7.0</td>\n",
       "      <td>301.5</td>\n",
       "      <td>7</td>\n",
       "      <td>True</td>\n",
       "      <td>...</td>\n",
       "      <td>45.5</td>\n",
       "      <td>1.0</td>\n",
       "      <td>Санкт-Петербург</td>\n",
       "      <td>NaN</td>\n",
       "      <td>5735.0</td>\n",
       "      <td>2.0</td>\n",
       "      <td>110.0</td>\n",
       "      <td>0.0</td>\n",
       "      <td>NaN</td>\n",
       "      <td>1078.0</td>\n",
       "    </tr>\n",
       "    <tr>\n",
       "      <th>14065</th>\n",
       "      <td>8</td>\n",
       "      <td>51000000.0</td>\n",
       "      <td>402.0</td>\n",
       "      <td>2017-02-07</td>\n",
       "      <td>6</td>\n",
       "      <td>3.15</td>\n",
       "      <td>8.0</td>\n",
       "      <td>300.0</td>\n",
       "      <td>6</td>\n",
       "      <td>False</td>\n",
       "      <td>...</td>\n",
       "      <td>56.0</td>\n",
       "      <td>2.0</td>\n",
       "      <td>Санкт-Петербург</td>\n",
       "      <td>24484.0</td>\n",
       "      <td>5052.0</td>\n",
       "      <td>1.0</td>\n",
       "      <td>253.0</td>\n",
       "      <td>0.0</td>\n",
       "      <td>NaN</td>\n",
       "      <td>32.0</td>\n",
       "    </tr>\n",
       "    <tr>\n",
       "      <th>20236</th>\n",
       "      <td>12</td>\n",
       "      <td>20000000.0</td>\n",
       "      <td>460.8</td>\n",
       "      <td>2019-03-20</td>\n",
       "      <td>6</td>\n",
       "      <td>3.10</td>\n",
       "      <td>3.0</td>\n",
       "      <td>279.6</td>\n",
       "      <td>1</td>\n",
       "      <td>False</td>\n",
       "      <td>...</td>\n",
       "      <td>55.5</td>\n",
       "      <td>0.0</td>\n",
       "      <td>Санкт-Петербург</td>\n",
       "      <td>43756.0</td>\n",
       "      <td>15459.0</td>\n",
       "      <td>1.0</td>\n",
       "      <td>852.0</td>\n",
       "      <td>3.0</td>\n",
       "      <td>122.0</td>\n",
       "      <td>21.0</td>\n",
       "    </tr>\n",
       "    <tr>\n",
       "      <th>22448</th>\n",
       "      <td>7</td>\n",
       "      <td>91075000.0</td>\n",
       "      <td>491.0</td>\n",
       "      <td>2017-05-27</td>\n",
       "      <td>5</td>\n",
       "      <td>4.20</td>\n",
       "      <td>9.0</td>\n",
       "      <td>274.0</td>\n",
       "      <td>9</td>\n",
       "      <td>False</td>\n",
       "      <td>...</td>\n",
       "      <td>45.0</td>\n",
       "      <td>0.0</td>\n",
       "      <td>Санкт-Петербург</td>\n",
       "      <td>25525.0</td>\n",
       "      <td>5845.0</td>\n",
       "      <td>2.0</td>\n",
       "      <td>116.0</td>\n",
       "      <td>0.0</td>\n",
       "      <td>NaN</td>\n",
       "      <td>115.0</td>\n",
       "    </tr>\n",
       "  </tbody>\n",
       "</table>\n",
       "<p>10 rows × 22 columns</p>\n",
       "</div>"
      ],
      "text/plain": [
       "       total_images   last_price  total_area first_day_exposition  rooms  \\\n",
       "19505             8  420000000.0       900.0           2017-12-06     12   \n",
       "5349             20   65000000.0       590.0           2019-02-14     15   \n",
       "12382            20   91500000.0       495.0           2017-06-19      7   \n",
       "4230              1   50000000.0       517.0           2017-10-14      7   \n",
       "12840            20  140000000.0       631.2           2019-04-09      7   \n",
       "660               3   49950000.0       483.9           2017-10-04      7   \n",
       "8004             20   84000000.0       507.0           2015-12-17      5   \n",
       "14065             8   51000000.0       402.0           2017-02-07      6   \n",
       "20236            12   20000000.0       460.8           2019-03-20      6   \n",
       "22448             7   91075000.0       491.0           2017-05-27      5   \n",
       "\n",
       "       ceiling_height  floors_total  living_area  floor  is_apartment  ...  \\\n",
       "19505            2.80          25.0        409.7     25         False  ...   \n",
       "5349             3.50           6.0        409.0      3         False  ...   \n",
       "12382            4.65           7.0        347.5      7         False  ...   \n",
       "4230             2.65           4.0        332.0      3         False  ...   \n",
       "12840            3.90           4.0        322.3      4         False  ...   \n",
       "660              3.20           6.0        312.5      4         False  ...   \n",
       "8004             4.45           7.0        301.5      7          True  ...   \n",
       "14065            3.15           8.0        300.0      6         False  ...   \n",
       "20236            3.10           3.0        279.6      1         False  ...   \n",
       "22448            4.20           9.0        274.0      9         False  ...   \n",
       "\n",
       "       kitchen_area  balcony    locality_name  airports_nearest  \\\n",
       "19505         112.0      0.0  Санкт-Петербург           30706.0   \n",
       "5349          100.0      0.0  Санкт-Петербург           24447.0   \n",
       "12382          25.0      0.0  Санкт-Петербург               NaN   \n",
       "4230           22.0      0.0  Санкт-Петербург           22835.0   \n",
       "12840          19.5      1.0  Санкт-Петербург           25707.0   \n",
       "660            26.4      0.0  Санкт-Петербург           23079.0   \n",
       "8004           45.5      1.0  Санкт-Петербург               NaN   \n",
       "14065          56.0      2.0  Санкт-Петербург           24484.0   \n",
       "20236          55.5      0.0  Санкт-Петербург           43756.0   \n",
       "22448          45.0      0.0  Санкт-Петербург           25525.0   \n",
       "\n",
       "      cityCenters_nearest  parks_around3000  parks_nearest  ponds_around3000  \\\n",
       "19505              7877.0               0.0            NaN               2.0   \n",
       "5349               4666.0               1.0          767.0               0.0   \n",
       "12382              5735.0               2.0          110.0               0.0   \n",
       "4230               1847.0               2.0          477.0               2.0   \n",
       "12840              4972.0               0.0            NaN               2.0   \n",
       "660                 945.0               3.0          461.0               3.0   \n",
       "8004               5735.0               2.0          110.0               0.0   \n",
       "14065              5052.0               1.0          253.0               0.0   \n",
       "20236             15459.0               1.0          852.0               3.0   \n",
       "22448              5845.0               2.0          116.0               0.0   \n",
       "\n",
       "       ponds_nearest  days_exposition  \n",
       "19505          318.0            106.0  \n",
       "5349             NaN             14.0  \n",
       "12382            NaN             14.0  \n",
       "4230           540.0              NaN  \n",
       "12840          210.0              NaN  \n",
       "660             22.0            391.0  \n",
       "8004             NaN           1078.0  \n",
       "14065            NaN             32.0  \n",
       "20236          122.0             21.0  \n",
       "22448            NaN            115.0  \n",
       "\n",
       "[10 rows x 22 columns]"
      ]
     },
     "execution_count": 24,
     "metadata": {},
     "output_type": "execute_result"
    }
   ],
   "source": [
    "data['living_area'].sort_values().unique()\n",
    "data.sort_values(by='living_area', ascending = True).head(10)\n",
    "data.sort_values(by='living_area', ascending = False).head(10)"
   ]
  },
  {
   "cell_type": "code",
   "execution_count": 25,
   "metadata": {},
   "outputs": [],
   "source": [
    "liv = data['living_area'].median() /data['total_area'].median() \n",
    "data['living_area'] = data['living_area'].where(data['living_area']> 10, (data['living_area'] * liv))"
   ]
  },
  {
   "cell_type": "markdown",
   "metadata": {},
   "source": [
    "Минимальные значения жилой площади похоже на ошибку введения, они были заменены на средний по всем объявлениям процент от общей. "
   ]
  },
  {
   "cell_type": "code",
   "execution_count": 26,
   "metadata": {},
   "outputs": [
    {
     "data": {
      "text/plain": [
       "array([0., 1., 2., 3.])"
      ]
     },
     "execution_count": 26,
     "metadata": {},
     "output_type": "execute_result"
    }
   ],
   "source": [
    "data['parks_around3000'].sort_values().unique()"
   ]
  },
  {
   "cell_type": "code",
   "execution_count": 27,
   "metadata": {},
   "outputs": [
    {
     "data": {
      "text/plain": [
       "array([0., 1., 2., 3.])"
      ]
     },
     "execution_count": 27,
     "metadata": {},
     "output_type": "execute_result"
    }
   ],
   "source": [
    "data['ponds_around3000'].sort_values().unique()"
   ]
  },
  {
   "cell_type": "code",
   "execution_count": 28,
   "metadata": {},
   "outputs": [
    {
     "data": {
      "text/plain": [
       "array([ 0,  1,  2,  3,  4,  5,  6,  7,  8,  9, 10, 11, 12, 14, 15, 16, 19])"
      ]
     },
     "execution_count": 28,
     "metadata": {},
     "output_type": "execute_result"
    }
   ],
   "source": [
    "data['rooms'].sort_values().unique()"
   ]
  },
  {
   "cell_type": "code",
   "execution_count": 29,
   "metadata": {},
   "outputs": [
    {
     "data": {
      "text/html": [
       "<div>\n",
       "<style scoped>\n",
       "    .dataframe tbody tr th:only-of-type {\n",
       "        vertical-align: middle;\n",
       "    }\n",
       "\n",
       "    .dataframe tbody tr th {\n",
       "        vertical-align: top;\n",
       "    }\n",
       "\n",
       "    .dataframe thead th {\n",
       "        text-align: right;\n",
       "    }\n",
       "</style>\n",
       "<table border=\"1\" class=\"dataframe\">\n",
       "  <thead>\n",
       "    <tr style=\"text-align: right;\">\n",
       "      <th></th>\n",
       "      <th>total_images</th>\n",
       "      <th>last_price</th>\n",
       "      <th>total_area</th>\n",
       "      <th>first_day_exposition</th>\n",
       "      <th>rooms</th>\n",
       "      <th>ceiling_height</th>\n",
       "      <th>floors_total</th>\n",
       "      <th>living_area</th>\n",
       "      <th>floor</th>\n",
       "      <th>is_apartment</th>\n",
       "      <th>...</th>\n",
       "      <th>kitchen_area</th>\n",
       "      <th>balcony</th>\n",
       "      <th>locality_name</th>\n",
       "      <th>airports_nearest</th>\n",
       "      <th>cityCenters_nearest</th>\n",
       "      <th>parks_around3000</th>\n",
       "      <th>parks_nearest</th>\n",
       "      <th>ponds_around3000</th>\n",
       "      <th>ponds_nearest</th>\n",
       "      <th>days_exposition</th>\n",
       "    </tr>\n",
       "  </thead>\n",
       "  <tbody>\n",
       "    <tr>\n",
       "      <th>14473</th>\n",
       "      <td>6</td>\n",
       "      <td>32250000.0</td>\n",
       "      <td>374.6</td>\n",
       "      <td>2018-06-09</td>\n",
       "      <td>19</td>\n",
       "      <td>2.65</td>\n",
       "      <td>5.0</td>\n",
       "      <td>264.5</td>\n",
       "      <td>2</td>\n",
       "      <td>False</td>\n",
       "      <td>...</td>\n",
       "      <td>27.6</td>\n",
       "      <td>0.0</td>\n",
       "      <td>Санкт-Петербург</td>\n",
       "      <td>19497.0</td>\n",
       "      <td>3574.0</td>\n",
       "      <td>0.0</td>\n",
       "      <td>NaN</td>\n",
       "      <td>2.0</td>\n",
       "      <td>548.0</td>\n",
       "      <td>114.0</td>\n",
       "    </tr>\n",
       "    <tr>\n",
       "      <th>18815</th>\n",
       "      <td>6</td>\n",
       "      <td>28500000.0</td>\n",
       "      <td>270.0</td>\n",
       "      <td>2015-03-02</td>\n",
       "      <td>16</td>\n",
       "      <td>3.00</td>\n",
       "      <td>4.0</td>\n",
       "      <td>180.0</td>\n",
       "      <td>4</td>\n",
       "      <td>False</td>\n",
       "      <td>...</td>\n",
       "      <td>13.0</td>\n",
       "      <td>1.0</td>\n",
       "      <td>Санкт-Петербург</td>\n",
       "      <td>23575.0</td>\n",
       "      <td>4142.0</td>\n",
       "      <td>1.0</td>\n",
       "      <td>516.0</td>\n",
       "      <td>0.0</td>\n",
       "      <td>NaN</td>\n",
       "      <td>1365.0</td>\n",
       "    </tr>\n",
       "    <tr>\n",
       "      <th>5349</th>\n",
       "      <td>20</td>\n",
       "      <td>65000000.0</td>\n",
       "      <td>590.0</td>\n",
       "      <td>2019-02-14</td>\n",
       "      <td>15</td>\n",
       "      <td>3.50</td>\n",
       "      <td>6.0</td>\n",
       "      <td>409.0</td>\n",
       "      <td>3</td>\n",
       "      <td>False</td>\n",
       "      <td>...</td>\n",
       "      <td>100.0</td>\n",
       "      <td>0.0</td>\n",
       "      <td>Санкт-Петербург</td>\n",
       "      <td>24447.0</td>\n",
       "      <td>4666.0</td>\n",
       "      <td>1.0</td>\n",
       "      <td>767.0</td>\n",
       "      <td>0.0</td>\n",
       "      <td>NaN</td>\n",
       "      <td>14.0</td>\n",
       "    </tr>\n",
       "    <tr>\n",
       "      <th>866</th>\n",
       "      <td>5</td>\n",
       "      <td>25000000.0</td>\n",
       "      <td>363.0</td>\n",
       "      <td>2017-12-23</td>\n",
       "      <td>14</td>\n",
       "      <td>3.16</td>\n",
       "      <td>5.0</td>\n",
       "      <td>222.0</td>\n",
       "      <td>4</td>\n",
       "      <td>False</td>\n",
       "      <td>...</td>\n",
       "      <td>16.6</td>\n",
       "      <td>0.0</td>\n",
       "      <td>Санкт-Петербург</td>\n",
       "      <td>38076.0</td>\n",
       "      <td>7950.0</td>\n",
       "      <td>0.0</td>\n",
       "      <td>NaN</td>\n",
       "      <td>2.0</td>\n",
       "      <td>435.0</td>\n",
       "      <td>418.0</td>\n",
       "    </tr>\n",
       "    <tr>\n",
       "      <th>20789</th>\n",
       "      <td>6</td>\n",
       "      <td>28659000.0</td>\n",
       "      <td>245.4</td>\n",
       "      <td>2016-03-31</td>\n",
       "      <td>14</td>\n",
       "      <td>2.65</td>\n",
       "      <td>4.0</td>\n",
       "      <td>168.3</td>\n",
       "      <td>2</td>\n",
       "      <td>False</td>\n",
       "      <td>...</td>\n",
       "      <td>25.9</td>\n",
       "      <td>0.0</td>\n",
       "      <td>Санкт-Петербург</td>\n",
       "      <td>21104.0</td>\n",
       "      <td>2054.0</td>\n",
       "      <td>3.0</td>\n",
       "      <td>541.0</td>\n",
       "      <td>2.0</td>\n",
       "      <td>118.0</td>\n",
       "      <td>95.0</td>\n",
       "    </tr>\n",
       "    <tr>\n",
       "      <th>19505</th>\n",
       "      <td>8</td>\n",
       "      <td>420000000.0</td>\n",
       "      <td>900.0</td>\n",
       "      <td>2017-12-06</td>\n",
       "      <td>12</td>\n",
       "      <td>2.80</td>\n",
       "      <td>25.0</td>\n",
       "      <td>409.7</td>\n",
       "      <td>25</td>\n",
       "      <td>False</td>\n",
       "      <td>...</td>\n",
       "      <td>112.0</td>\n",
       "      <td>0.0</td>\n",
       "      <td>Санкт-Петербург</td>\n",
       "      <td>30706.0</td>\n",
       "      <td>7877.0</td>\n",
       "      <td>0.0</td>\n",
       "      <td>NaN</td>\n",
       "      <td>2.0</td>\n",
       "      <td>318.0</td>\n",
       "      <td>106.0</td>\n",
       "    </tr>\n",
       "    <tr>\n",
       "      <th>9672</th>\n",
       "      <td>8</td>\n",
       "      <td>33000000.0</td>\n",
       "      <td>194.1</td>\n",
       "      <td>2017-02-07</td>\n",
       "      <td>11</td>\n",
       "      <td>3.43</td>\n",
       "      <td>5.0</td>\n",
       "      <td>129.0</td>\n",
       "      <td>2</td>\n",
       "      <td>False</td>\n",
       "      <td>...</td>\n",
       "      <td>11.9</td>\n",
       "      <td>0.0</td>\n",
       "      <td>Санкт-Петербург</td>\n",
       "      <td>21469.0</td>\n",
       "      <td>1015.0</td>\n",
       "      <td>1.0</td>\n",
       "      <td>686.0</td>\n",
       "      <td>2.0</td>\n",
       "      <td>66.0</td>\n",
       "      <td>813.0</td>\n",
       "    </tr>\n",
       "    <tr>\n",
       "      <th>648</th>\n",
       "      <td>3</td>\n",
       "      <td>17500000.0</td>\n",
       "      <td>183.7</td>\n",
       "      <td>2018-07-01</td>\n",
       "      <td>11</td>\n",
       "      <td>3.40</td>\n",
       "      <td>7.0</td>\n",
       "      <td>138.8</td>\n",
       "      <td>7</td>\n",
       "      <td>False</td>\n",
       "      <td>...</td>\n",
       "      <td>13.3</td>\n",
       "      <td>0.0</td>\n",
       "      <td>Санкт-Петербург</td>\n",
       "      <td>23606.0</td>\n",
       "      <td>3148.0</td>\n",
       "      <td>0.0</td>\n",
       "      <td>NaN</td>\n",
       "      <td>0.0</td>\n",
       "      <td>NaN</td>\n",
       "      <td>NaN</td>\n",
       "    </tr>\n",
       "    <tr>\n",
       "      <th>18858</th>\n",
       "      <td>11</td>\n",
       "      <td>40000000.0</td>\n",
       "      <td>290.0</td>\n",
       "      <td>2016-06-21</td>\n",
       "      <td>10</td>\n",
       "      <td>3.50</td>\n",
       "      <td>6.0</td>\n",
       "      <td>189.4</td>\n",
       "      <td>6</td>\n",
       "      <td>False</td>\n",
       "      <td>...</td>\n",
       "      <td>30.0</td>\n",
       "      <td>1.0</td>\n",
       "      <td>Санкт-Петербург</td>\n",
       "      <td>26229.0</td>\n",
       "      <td>4932.0</td>\n",
       "      <td>3.0</td>\n",
       "      <td>316.0</td>\n",
       "      <td>1.0</td>\n",
       "      <td>227.0</td>\n",
       "      <td>77.0</td>\n",
       "    </tr>\n",
       "    <tr>\n",
       "      <th>4144</th>\n",
       "      <td>6</td>\n",
       "      <td>23000000.0</td>\n",
       "      <td>272.6</td>\n",
       "      <td>2018-01-11</td>\n",
       "      <td>10</td>\n",
       "      <td>3.14</td>\n",
       "      <td>7.0</td>\n",
       "      <td>145.9</td>\n",
       "      <td>7</td>\n",
       "      <td>False</td>\n",
       "      <td>...</td>\n",
       "      <td>18.8</td>\n",
       "      <td>1.0</td>\n",
       "      <td>Санкт-Петербург</td>\n",
       "      <td>10726.0</td>\n",
       "      <td>12169.0</td>\n",
       "      <td>1.0</td>\n",
       "      <td>191.0</td>\n",
       "      <td>1.0</td>\n",
       "      <td>531.0</td>\n",
       "      <td>NaN</td>\n",
       "    </tr>\n",
       "  </tbody>\n",
       "</table>\n",
       "<p>10 rows × 22 columns</p>\n",
       "</div>"
      ],
      "text/plain": [
       "       total_images   last_price  total_area first_day_exposition  rooms  \\\n",
       "14473             6   32250000.0       374.6           2018-06-09     19   \n",
       "18815             6   28500000.0       270.0           2015-03-02     16   \n",
       "5349             20   65000000.0       590.0           2019-02-14     15   \n",
       "866               5   25000000.0       363.0           2017-12-23     14   \n",
       "20789             6   28659000.0       245.4           2016-03-31     14   \n",
       "19505             8  420000000.0       900.0           2017-12-06     12   \n",
       "9672              8   33000000.0       194.1           2017-02-07     11   \n",
       "648               3   17500000.0       183.7           2018-07-01     11   \n",
       "18858            11   40000000.0       290.0           2016-06-21     10   \n",
       "4144              6   23000000.0       272.6           2018-01-11     10   \n",
       "\n",
       "       ceiling_height  floors_total  living_area  floor  is_apartment  ...  \\\n",
       "14473            2.65           5.0        264.5      2         False  ...   \n",
       "18815            3.00           4.0        180.0      4         False  ...   \n",
       "5349             3.50           6.0        409.0      3         False  ...   \n",
       "866              3.16           5.0        222.0      4         False  ...   \n",
       "20789            2.65           4.0        168.3      2         False  ...   \n",
       "19505            2.80          25.0        409.7     25         False  ...   \n",
       "9672             3.43           5.0        129.0      2         False  ...   \n",
       "648              3.40           7.0        138.8      7         False  ...   \n",
       "18858            3.50           6.0        189.4      6         False  ...   \n",
       "4144             3.14           7.0        145.9      7         False  ...   \n",
       "\n",
       "       kitchen_area  balcony    locality_name  airports_nearest  \\\n",
       "14473          27.6      0.0  Санкт-Петербург           19497.0   \n",
       "18815          13.0      1.0  Санкт-Петербург           23575.0   \n",
       "5349          100.0      0.0  Санкт-Петербург           24447.0   \n",
       "866            16.6      0.0  Санкт-Петербург           38076.0   \n",
       "20789          25.9      0.0  Санкт-Петербург           21104.0   \n",
       "19505         112.0      0.0  Санкт-Петербург           30706.0   \n",
       "9672           11.9      0.0  Санкт-Петербург           21469.0   \n",
       "648            13.3      0.0  Санкт-Петербург           23606.0   \n",
       "18858          30.0      1.0  Санкт-Петербург           26229.0   \n",
       "4144           18.8      1.0  Санкт-Петербург           10726.0   \n",
       "\n",
       "      cityCenters_nearest  parks_around3000  parks_nearest  ponds_around3000  \\\n",
       "14473              3574.0               0.0            NaN               2.0   \n",
       "18815              4142.0               1.0          516.0               0.0   \n",
       "5349               4666.0               1.0          767.0               0.0   \n",
       "866                7950.0               0.0            NaN               2.0   \n",
       "20789              2054.0               3.0          541.0               2.0   \n",
       "19505              7877.0               0.0            NaN               2.0   \n",
       "9672               1015.0               1.0          686.0               2.0   \n",
       "648                3148.0               0.0            NaN               0.0   \n",
       "18858              4932.0               3.0          316.0               1.0   \n",
       "4144              12169.0               1.0          191.0               1.0   \n",
       "\n",
       "       ponds_nearest  days_exposition  \n",
       "14473          548.0            114.0  \n",
       "18815            NaN           1365.0  \n",
       "5349             NaN             14.0  \n",
       "866            435.0            418.0  \n",
       "20789          118.0             95.0  \n",
       "19505          318.0            106.0  \n",
       "9672            66.0            813.0  \n",
       "648              NaN              NaN  \n",
       "18858          227.0             77.0  \n",
       "4144           531.0              NaN  \n",
       "\n",
       "[10 rows x 22 columns]"
      ]
     },
     "execution_count": 29,
     "metadata": {},
     "output_type": "execute_result"
    }
   ],
   "source": [
    "data.sort_values(by='rooms', ascending = False).head(10)"
   ]
  },
  {
   "cell_type": "code",
   "execution_count": 30,
   "metadata": {},
   "outputs": [
    {
     "data": {
      "text/plain": [
       "array([ 12. ,  13. ,  13.2, ..., 631. , 631.2, 900. ])"
      ]
     },
     "execution_count": 30,
     "metadata": {},
     "output_type": "execute_result"
    }
   ],
   "source": [
    "data['total_area'].sort_values().unique()"
   ]
  },
  {
   "cell_type": "code",
   "execution_count": 31,
   "metadata": {},
   "outputs": [
    {
     "data": {
      "text/plain": [
       "array([ 0,  1,  2,  3,  4,  5,  6,  7,  8,  9, 10, 11, 12, 13, 14, 15, 16,\n",
       "       17, 18, 19, 20, 21, 22, 23, 24, 25, 26, 27, 28, 29, 30, 31, 32, 35,\n",
       "       37, 39, 42, 50])"
      ]
     },
     "execution_count": 31,
     "metadata": {},
     "output_type": "execute_result"
    }
   ],
   "source": [
    "data['total_images'].sort_values().unique()"
   ]
  },
  {
   "cell_type": "code",
   "execution_count": 32,
   "metadata": {},
   "outputs": [
    {
     "name": "stdout",
     "output_type": "stream",
     "text": [
      "[ 12.   13.   13.2 ... 631.  631.2 900. ]\n"
     ]
    },
    {
     "data": {
      "text/plain": [
       "(0.0, 400.0)"
      ]
     },
     "execution_count": 32,
     "metadata": {},
     "output_type": "execute_result"
    },
    {
     "data": {
      "image/png": "[encoded data removed]",
      "text/plain": [
       "<Figure size 432x288 with 1 Axes>"
      ]
     },
     "metadata": {
      "needs_background": "light"
     },
     "output_type": "display_data"
    }
   ],
   "source": [
    "print(data['total_area'].sort_values().unique())\n",
    "import matplotlib.pyplot as plt\n",
    "data.boxplot(column = 'total_area')\n",
    "plt.ylim(0,400)\n"
   ]
  },
  {
   "cell_type": "markdown",
   "metadata": {},
   "source": [
    "по ящику определяется, что выподают значения больше 150 кв метров. Пробуем убрать данные значения"
   ]
  },
  {
   "cell_type": "code",
   "execution_count": 33,
   "metadata": {},
   "outputs": [
    {
     "data": {
      "text/plain": [
       "23088"
      ]
     },
     "execution_count": 33,
     "metadata": {},
     "output_type": "execute_result"
    }
   ],
   "source": [
    "data = data[data['total_area'] <= 150]\n",
    "data.shape[0]"
   ]
  },
  {
   "cell_type": "code",
   "execution_count": 34,
   "metadata": {},
   "outputs": [
    {
     "data": {
      "text/plain": [
       "array([1.219e+04, 4.300e+05, 4.400e+05, ..., 8.500e+07, 1.220e+08,\n",
       "       1.240e+08])"
      ]
     },
     "execution_count": 34,
     "metadata": {},
     "output_type": "execute_result"
    }
   ],
   "source": [
    "data['last_price'].sort_values().unique()"
   ]
  },
  {
   "cell_type": "code",
   "execution_count": 35,
   "metadata": {},
   "outputs": [
    {
     "data": {
      "text/plain": [
       "(0.0, 50000000.0)"
      ]
     },
     "execution_count": 35,
     "metadata": {},
     "output_type": "execute_result"
    },
    {
     "data": {
      "image/png": "[encoded data removed]",
      "text/plain": [
       "<Figure size 432x288 with 1 Axes>"
      ]
     },
     "metadata": {
      "needs_background": "light"
     },
     "output_type": "display_data"
    }
   ],
   "source": [
    "data.boxplot(column = 'last_price')\n",
    "plt.ylim(0,50000000)"
   ]
  },
  {
   "cell_type": "markdown",
   "metadata": {},
   "source": [
    "по ящику определяется, что выподают значения больше 15 млн рублей, однако, стоимость квартир в Санкт-Петербурге сильно выше чем в других регионах, и при отбросе большого количества значений мы рискуем убрать все значения из Санкт-Петербург.  Пробуем убрать значения с сильно завышеной ценой, боле 50 млн. (75 % от всез значений по группировке по Санкт-Петербургу.)\n",
    "Также при укрупнении ящика отмечается что выбросы минимальной цены до 350 т рублей. "
   ]
  },
  {
   "cell_type": "code",
   "execution_count": 36,
   "metadata": {},
   "outputs": [
    {
     "data": {
      "text/plain": [
       "23068"
      ]
     },
     "execution_count": 36,
     "metadata": {},
     "output_type": "execute_result"
    }
   ],
   "source": [
    "data = data[(data['last_price'] <= 50000000) & (data['last_price'] >= 350000)]\n",
    "data.shape[0]"
   ]
  },
  {
   "cell_type": "code",
   "execution_count": 37,
   "metadata": {},
   "outputs": [
    {
     "data": {
      "text/plain": [
       "array([0, 1, 2, 3, 4, 5, 6, 7, 8])"
      ]
     },
     "execution_count": 37,
     "metadata": {},
     "output_type": "execute_result"
    }
   ],
   "source": [
    "data['rooms'].sort_values().unique()"
   ]
  },
  {
   "cell_type": "code",
   "execution_count": 38,
   "metadata": {},
   "outputs": [
    {
     "data": {
      "text/plain": [
       "<AxesSubplot:>"
      ]
     },
     "execution_count": 38,
     "metadata": {},
     "output_type": "execute_result"
    },
    {
     "data": {
      "image/png": "[encoded data removed]",
      "text/plain": [
       "<Figure size 432x288 with 1 Axes>"
      ]
     },
     "metadata": {
      "needs_background": "light"
     },
     "output_type": "display_data"
    }
   ],
   "source": [
    "data.boxplot(column = 'rooms')"
   ]
  },
  {
   "cell_type": "markdown",
   "metadata": {},
   "source": [
    "по ящику определяется, что сильно выподают значения больше 6 комнат. Пробуем убрать данные значения"
   ]
  },
  {
   "cell_type": "code",
   "execution_count": 39,
   "metadata": {},
   "outputs": [
    {
     "data": {
      "text/plain": [
       "23059"
      ]
     },
     "execution_count": 39,
     "metadata": {},
     "output_type": "execute_result"
    }
   ],
   "source": [
    "data = data[data['rooms'] <= 6]\n",
    "data.shape[0]"
   ]
  },
  {
   "cell_type": "markdown",
   "metadata": {},
   "source": [
    "Рассмотрим минимальное значение комнат"
   ]
  },
  {
   "cell_type": "code",
   "execution_count": 40,
   "metadata": {},
   "outputs": [
    {
     "data": {
      "text/plain": [
       "count    196.000000\n",
       "mean      27.536276\n",
       "std        8.368574\n",
       "min       15.500000\n",
       "25%       24.037500\n",
       "50%       26.025000\n",
       "75%       28.325000\n",
       "max       98.400000\n",
       "Name: total_area, dtype: float64"
      ]
     },
     "execution_count": 40,
     "metadata": {},
     "output_type": "execute_result"
    }
   ],
   "source": [
    "r0 = data[data['rooms'] == 0]\n",
    "r0['total_area'].describe()"
   ]
  },
  {
   "cell_type": "markdown",
   "metadata": {},
   "source": [
    "Судя по полученным данным, можно предположить, что в данных не указали или не выгрузилось количество комнат. судя по средним показателям столбца с общей площадью,количество комнат можно заменить на \"1\"."
   ]
  },
  {
   "cell_type": "code",
   "execution_count": 41,
   "metadata": {},
   "outputs": [
    {
     "data": {
      "text/plain": [
       "array([1, 2, 3, 4, 5, 6])"
      ]
     },
     "execution_count": 41,
     "metadata": {},
     "output_type": "execute_result"
    }
   ],
   "source": [
    "data['rooms'] = data['rooms'].where(data['rooms'] != 0, 1)\n",
    "data['rooms'].sort_values().unique()"
   ]
  },
  {
   "cell_type": "markdown",
   "metadata": {},
   "source": [
    "### Посчитайте и добавьте в таблицу новые столбцы"
   ]
  },
  {
   "cell_type": "code",
   "execution_count": 42,
   "metadata": {},
   "outputs": [],
   "source": [
    "data['square_meter_price']=round(data['last_price']/data['total_area'],2)\n",
    "data['day_week'] = data['first_day_exposition'].dt.weekday\n",
    "data['publ_month'] = data['first_day_exposition'].dt.month\n",
    "data['publ_year'] = data['first_day_exposition'].dt.year\n",
    "data['floor_type'] = data['floor'].where(data['floor'] != 1, 'первый')\n",
    "data['floor_type'] = data['floor_type'].where(data['floor'] != data['floors_total'] , 'последний')\n",
    "data['floor_type'] = data['floor_type'].where((data['floor_type'] == 'первый') | (data['floor_type'] =='последний'), 'другой')\n",
    "data['cityCenters_nearest_km'] = round(data['cityCenters_nearest']/1000,0)\n",
    "                     \n"
   ]
  },
  {
   "cell_type": "code",
   "execution_count": 43,
   "metadata": {},
   "outputs": [
    {
     "data": {
      "text/html": [
       "<div>\n",
       "<style scoped>\n",
       "    .dataframe tbody tr th:only-of-type {\n",
       "        vertical-align: middle;\n",
       "    }\n",
       "\n",
       "    .dataframe tbody tr th {\n",
       "        vertical-align: top;\n",
       "    }\n",
       "\n",
       "    .dataframe thead th {\n",
       "        text-align: right;\n",
       "    }\n",
       "</style>\n",
       "<table border=\"1\" class=\"dataframe\">\n",
       "  <thead>\n",
       "    <tr style=\"text-align: right;\">\n",
       "      <th></th>\n",
       "      <th>total_images</th>\n",
       "      <th>last_price</th>\n",
       "      <th>total_area</th>\n",
       "      <th>first_day_exposition</th>\n",
       "      <th>rooms</th>\n",
       "      <th>ceiling_height</th>\n",
       "      <th>floors_total</th>\n",
       "      <th>living_area</th>\n",
       "      <th>floor</th>\n",
       "      <th>is_apartment</th>\n",
       "      <th>...</th>\n",
       "      <th>parks_nearest</th>\n",
       "      <th>ponds_around3000</th>\n",
       "      <th>ponds_nearest</th>\n",
       "      <th>days_exposition</th>\n",
       "      <th>square_meter_price</th>\n",
       "      <th>day_week</th>\n",
       "      <th>publ_month</th>\n",
       "      <th>publ_year</th>\n",
       "      <th>floor_type</th>\n",
       "      <th>cityCenters_nearest_km</th>\n",
       "    </tr>\n",
       "  </thead>\n",
       "  <tbody>\n",
       "    <tr>\n",
       "      <th>0</th>\n",
       "      <td>20</td>\n",
       "      <td>13000000.0</td>\n",
       "      <td>108.00</td>\n",
       "      <td>2019-03-07</td>\n",
       "      <td>3</td>\n",
       "      <td>2.70</td>\n",
       "      <td>16.0</td>\n",
       "      <td>51.00</td>\n",
       "      <td>8</td>\n",
       "      <td>False</td>\n",
       "      <td>...</td>\n",
       "      <td>482.0</td>\n",
       "      <td>2.0</td>\n",
       "      <td>755.0</td>\n",
       "      <td>NaN</td>\n",
       "      <td>120370.37</td>\n",
       "      <td>3</td>\n",
       "      <td>3</td>\n",
       "      <td>2019</td>\n",
       "      <td>другой</td>\n",
       "      <td>16.0</td>\n",
       "    </tr>\n",
       "    <tr>\n",
       "      <th>1</th>\n",
       "      <td>7</td>\n",
       "      <td>3350000.0</td>\n",
       "      <td>40.40</td>\n",
       "      <td>2018-12-04</td>\n",
       "      <td>1</td>\n",
       "      <td>2.65</td>\n",
       "      <td>11.0</td>\n",
       "      <td>18.60</td>\n",
       "      <td>1</td>\n",
       "      <td>False</td>\n",
       "      <td>...</td>\n",
       "      <td>NaN</td>\n",
       "      <td>0.0</td>\n",
       "      <td>NaN</td>\n",
       "      <td>81.0</td>\n",
       "      <td>82920.79</td>\n",
       "      <td>1</td>\n",
       "      <td>12</td>\n",
       "      <td>2018</td>\n",
       "      <td>первый</td>\n",
       "      <td>19.0</td>\n",
       "    </tr>\n",
       "    <tr>\n",
       "      <th>2</th>\n",
       "      <td>10</td>\n",
       "      <td>5196000.0</td>\n",
       "      <td>56.00</td>\n",
       "      <td>2015-08-20</td>\n",
       "      <td>2</td>\n",
       "      <td>2.65</td>\n",
       "      <td>5.0</td>\n",
       "      <td>34.30</td>\n",
       "      <td>4</td>\n",
       "      <td>False</td>\n",
       "      <td>...</td>\n",
       "      <td>90.0</td>\n",
       "      <td>2.0</td>\n",
       "      <td>574.0</td>\n",
       "      <td>558.0</td>\n",
       "      <td>92785.71</td>\n",
       "      <td>3</td>\n",
       "      <td>8</td>\n",
       "      <td>2015</td>\n",
       "      <td>другой</td>\n",
       "      <td>14.0</td>\n",
       "    </tr>\n",
       "    <tr>\n",
       "      <th>4</th>\n",
       "      <td>2</td>\n",
       "      <td>10000000.0</td>\n",
       "      <td>100.00</td>\n",
       "      <td>2018-06-19</td>\n",
       "      <td>2</td>\n",
       "      <td>3.03</td>\n",
       "      <td>14.0</td>\n",
       "      <td>32.00</td>\n",
       "      <td>13</td>\n",
       "      <td>False</td>\n",
       "      <td>...</td>\n",
       "      <td>112.0</td>\n",
       "      <td>1.0</td>\n",
       "      <td>48.0</td>\n",
       "      <td>121.0</td>\n",
       "      <td>100000.00</td>\n",
       "      <td>1</td>\n",
       "      <td>6</td>\n",
       "      <td>2018</td>\n",
       "      <td>другой</td>\n",
       "      <td>8.0</td>\n",
       "    </tr>\n",
       "    <tr>\n",
       "      <th>5</th>\n",
       "      <td>10</td>\n",
       "      <td>2890000.0</td>\n",
       "      <td>30.40</td>\n",
       "      <td>2018-09-10</td>\n",
       "      <td>1</td>\n",
       "      <td>2.65</td>\n",
       "      <td>12.0</td>\n",
       "      <td>14.40</td>\n",
       "      <td>5</td>\n",
       "      <td>False</td>\n",
       "      <td>...</td>\n",
       "      <td>NaN</td>\n",
       "      <td>0.0</td>\n",
       "      <td>NaN</td>\n",
       "      <td>55.0</td>\n",
       "      <td>95065.79</td>\n",
       "      <td>0</td>\n",
       "      <td>9</td>\n",
       "      <td>2018</td>\n",
       "      <td>другой</td>\n",
       "      <td>NaN</td>\n",
       "    </tr>\n",
       "    <tr>\n",
       "      <th>6</th>\n",
       "      <td>6</td>\n",
       "      <td>3700000.0</td>\n",
       "      <td>37.30</td>\n",
       "      <td>2017-11-02</td>\n",
       "      <td>1</td>\n",
       "      <td>2.65</td>\n",
       "      <td>26.0</td>\n",
       "      <td>10.60</td>\n",
       "      <td>6</td>\n",
       "      <td>False</td>\n",
       "      <td>...</td>\n",
       "      <td>NaN</td>\n",
       "      <td>0.0</td>\n",
       "      <td>NaN</td>\n",
       "      <td>155.0</td>\n",
       "      <td>99195.71</td>\n",
       "      <td>3</td>\n",
       "      <td>11</td>\n",
       "      <td>2017</td>\n",
       "      <td>другой</td>\n",
       "      <td>19.0</td>\n",
       "    </tr>\n",
       "    <tr>\n",
       "      <th>7</th>\n",
       "      <td>5</td>\n",
       "      <td>7915000.0</td>\n",
       "      <td>71.60</td>\n",
       "      <td>2019-04-18</td>\n",
       "      <td>2</td>\n",
       "      <td>2.65</td>\n",
       "      <td>24.0</td>\n",
       "      <td>NaN</td>\n",
       "      <td>22</td>\n",
       "      <td>False</td>\n",
       "      <td>...</td>\n",
       "      <td>NaN</td>\n",
       "      <td>0.0</td>\n",
       "      <td>NaN</td>\n",
       "      <td>NaN</td>\n",
       "      <td>110544.69</td>\n",
       "      <td>3</td>\n",
       "      <td>4</td>\n",
       "      <td>2019</td>\n",
       "      <td>другой</td>\n",
       "      <td>12.0</td>\n",
       "    </tr>\n",
       "    <tr>\n",
       "      <th>8</th>\n",
       "      <td>20</td>\n",
       "      <td>2900000.0</td>\n",
       "      <td>33.16</td>\n",
       "      <td>2018-05-23</td>\n",
       "      <td>1</td>\n",
       "      <td>2.65</td>\n",
       "      <td>27.0</td>\n",
       "      <td>15.43</td>\n",
       "      <td>26</td>\n",
       "      <td>False</td>\n",
       "      <td>...</td>\n",
       "      <td>NaN</td>\n",
       "      <td>0.0</td>\n",
       "      <td>NaN</td>\n",
       "      <td>189.0</td>\n",
       "      <td>87454.76</td>\n",
       "      <td>2</td>\n",
       "      <td>5</td>\n",
       "      <td>2018</td>\n",
       "      <td>другой</td>\n",
       "      <td>NaN</td>\n",
       "    </tr>\n",
       "    <tr>\n",
       "      <th>9</th>\n",
       "      <td>18</td>\n",
       "      <td>5400000.0</td>\n",
       "      <td>61.00</td>\n",
       "      <td>2017-02-26</td>\n",
       "      <td>3</td>\n",
       "      <td>2.50</td>\n",
       "      <td>9.0</td>\n",
       "      <td>43.60</td>\n",
       "      <td>7</td>\n",
       "      <td>False</td>\n",
       "      <td>...</td>\n",
       "      <td>NaN</td>\n",
       "      <td>0.0</td>\n",
       "      <td>NaN</td>\n",
       "      <td>289.0</td>\n",
       "      <td>88524.59</td>\n",
       "      <td>6</td>\n",
       "      <td>2</td>\n",
       "      <td>2017</td>\n",
       "      <td>другой</td>\n",
       "      <td>15.0</td>\n",
       "    </tr>\n",
       "    <tr>\n",
       "      <th>10</th>\n",
       "      <td>5</td>\n",
       "      <td>5050000.0</td>\n",
       "      <td>39.60</td>\n",
       "      <td>2017-11-16</td>\n",
       "      <td>1</td>\n",
       "      <td>2.67</td>\n",
       "      <td>12.0</td>\n",
       "      <td>20.30</td>\n",
       "      <td>3</td>\n",
       "      <td>False</td>\n",
       "      <td>...</td>\n",
       "      <td>310.0</td>\n",
       "      <td>2.0</td>\n",
       "      <td>553.0</td>\n",
       "      <td>137.0</td>\n",
       "      <td>127525.25</td>\n",
       "      <td>3</td>\n",
       "      <td>11</td>\n",
       "      <td>2017</td>\n",
       "      <td>другой</td>\n",
       "      <td>14.0</td>\n",
       "    </tr>\n",
       "    <tr>\n",
       "      <th>11</th>\n",
       "      <td>9</td>\n",
       "      <td>3300000.0</td>\n",
       "      <td>44.00</td>\n",
       "      <td>2018-08-27</td>\n",
       "      <td>2</td>\n",
       "      <td>2.65</td>\n",
       "      <td>5.0</td>\n",
       "      <td>31.00</td>\n",
       "      <td>4</td>\n",
       "      <td>False</td>\n",
       "      <td>...</td>\n",
       "      <td>NaN</td>\n",
       "      <td>0.0</td>\n",
       "      <td>NaN</td>\n",
       "      <td>7.0</td>\n",
       "      <td>75000.00</td>\n",
       "      <td>0</td>\n",
       "      <td>8</td>\n",
       "      <td>2018</td>\n",
       "      <td>другой</td>\n",
       "      <td>52.0</td>\n",
       "    </tr>\n",
       "    <tr>\n",
       "      <th>12</th>\n",
       "      <td>10</td>\n",
       "      <td>3890000.0</td>\n",
       "      <td>54.00</td>\n",
       "      <td>2016-06-30</td>\n",
       "      <td>2</td>\n",
       "      <td>2.65</td>\n",
       "      <td>5.0</td>\n",
       "      <td>30.00</td>\n",
       "      <td>5</td>\n",
       "      <td>False</td>\n",
       "      <td>...</td>\n",
       "      <td>NaN</td>\n",
       "      <td>0.0</td>\n",
       "      <td>NaN</td>\n",
       "      <td>90.0</td>\n",
       "      <td>72037.04</td>\n",
       "      <td>3</td>\n",
       "      <td>6</td>\n",
       "      <td>2016</td>\n",
       "      <td>последний</td>\n",
       "      <td>NaN</td>\n",
       "    </tr>\n",
       "    <tr>\n",
       "      <th>13</th>\n",
       "      <td>20</td>\n",
       "      <td>3550000.0</td>\n",
       "      <td>42.80</td>\n",
       "      <td>2017-07-01</td>\n",
       "      <td>2</td>\n",
       "      <td>2.56</td>\n",
       "      <td>5.0</td>\n",
       "      <td>27.00</td>\n",
       "      <td>5</td>\n",
       "      <td>False</td>\n",
       "      <td>...</td>\n",
       "      <td>294.0</td>\n",
       "      <td>3.0</td>\n",
       "      <td>298.0</td>\n",
       "      <td>366.0</td>\n",
       "      <td>82943.93</td>\n",
       "      <td>5</td>\n",
       "      <td>7</td>\n",
       "      <td>2017</td>\n",
       "      <td>последний</td>\n",
       "      <td>33.0</td>\n",
       "    </tr>\n",
       "    <tr>\n",
       "      <th>14</th>\n",
       "      <td>1</td>\n",
       "      <td>4400000.0</td>\n",
       "      <td>36.00</td>\n",
       "      <td>2016-06-23</td>\n",
       "      <td>1</td>\n",
       "      <td>2.65</td>\n",
       "      <td>6.0</td>\n",
       "      <td>17.00</td>\n",
       "      <td>1</td>\n",
       "      <td>False</td>\n",
       "      <td>...</td>\n",
       "      <td>NaN</td>\n",
       "      <td>1.0</td>\n",
       "      <td>96.0</td>\n",
       "      <td>203.0</td>\n",
       "      <td>122222.22</td>\n",
       "      <td>3</td>\n",
       "      <td>6</td>\n",
       "      <td>2016</td>\n",
       "      <td>первый</td>\n",
       "      <td>31.0</td>\n",
       "    </tr>\n",
       "    <tr>\n",
       "      <th>15</th>\n",
       "      <td>16</td>\n",
       "      <td>4650000.0</td>\n",
       "      <td>39.00</td>\n",
       "      <td>2017-11-18</td>\n",
       "      <td>1</td>\n",
       "      <td>2.65</td>\n",
       "      <td>14.0</td>\n",
       "      <td>20.50</td>\n",
       "      <td>5</td>\n",
       "      <td>False</td>\n",
       "      <td>...</td>\n",
       "      <td>590.0</td>\n",
       "      <td>1.0</td>\n",
       "      <td>296.0</td>\n",
       "      <td>19.0</td>\n",
       "      <td>119230.77</td>\n",
       "      <td>5</td>\n",
       "      <td>11</td>\n",
       "      <td>2017</td>\n",
       "      <td>другой</td>\n",
       "      <td>14.0</td>\n",
       "    </tr>\n",
       "    <tr>\n",
       "      <th>16</th>\n",
       "      <td>11</td>\n",
       "      <td>6700000.0</td>\n",
       "      <td>82.00</td>\n",
       "      <td>2017-11-23</td>\n",
       "      <td>3</td>\n",
       "      <td>3.05</td>\n",
       "      <td>5.0</td>\n",
       "      <td>55.60</td>\n",
       "      <td>1</td>\n",
       "      <td>False</td>\n",
       "      <td>...</td>\n",
       "      <td>420.0</td>\n",
       "      <td>0.0</td>\n",
       "      <td>NaN</td>\n",
       "      <td>397.0</td>\n",
       "      <td>81707.32</td>\n",
       "      <td>3</td>\n",
       "      <td>11</td>\n",
       "      <td>2017</td>\n",
       "      <td>первый</td>\n",
       "      <td>11.0</td>\n",
       "    </tr>\n",
       "    <tr>\n",
       "      <th>17</th>\n",
       "      <td>6</td>\n",
       "      <td>4180000.0</td>\n",
       "      <td>36.00</td>\n",
       "      <td>2016-09-09</td>\n",
       "      <td>1</td>\n",
       "      <td>2.65</td>\n",
       "      <td>17.0</td>\n",
       "      <td>16.50</td>\n",
       "      <td>7</td>\n",
       "      <td>False</td>\n",
       "      <td>...</td>\n",
       "      <td>NaN</td>\n",
       "      <td>1.0</td>\n",
       "      <td>859.0</td>\n",
       "      <td>571.0</td>\n",
       "      <td>116111.11</td>\n",
       "      <td>4</td>\n",
       "      <td>9</td>\n",
       "      <td>2016</td>\n",
       "      <td>другой</td>\n",
       "      <td>15.0</td>\n",
       "    </tr>\n",
       "    <tr>\n",
       "      <th>18</th>\n",
       "      <td>8</td>\n",
       "      <td>3250000.0</td>\n",
       "      <td>31.00</td>\n",
       "      <td>2017-01-27</td>\n",
       "      <td>1</td>\n",
       "      <td>2.50</td>\n",
       "      <td>5.0</td>\n",
       "      <td>19.40</td>\n",
       "      <td>2</td>\n",
       "      <td>False</td>\n",
       "      <td>...</td>\n",
       "      <td>759.0</td>\n",
       "      <td>0.0</td>\n",
       "      <td>NaN</td>\n",
       "      <td>168.0</td>\n",
       "      <td>104838.71</td>\n",
       "      <td>4</td>\n",
       "      <td>1</td>\n",
       "      <td>2017</td>\n",
       "      <td>другой</td>\n",
       "      <td>11.0</td>\n",
       "    </tr>\n",
       "    <tr>\n",
       "      <th>19</th>\n",
       "      <td>16</td>\n",
       "      <td>14200000.0</td>\n",
       "      <td>121.00</td>\n",
       "      <td>2019-01-09</td>\n",
       "      <td>3</td>\n",
       "      <td>2.75</td>\n",
       "      <td>16.0</td>\n",
       "      <td>76.00</td>\n",
       "      <td>8</td>\n",
       "      <td>False</td>\n",
       "      <td>...</td>\n",
       "      <td>NaN</td>\n",
       "      <td>0.0</td>\n",
       "      <td>NaN</td>\n",
       "      <td>97.0</td>\n",
       "      <td>117355.37</td>\n",
       "      <td>2</td>\n",
       "      <td>1</td>\n",
       "      <td>2019</td>\n",
       "      <td>другой</td>\n",
       "      <td>13.0</td>\n",
       "    </tr>\n",
       "    <tr>\n",
       "      <th>20</th>\n",
       "      <td>12</td>\n",
       "      <td>6120000.0</td>\n",
       "      <td>80.00</td>\n",
       "      <td>2017-09-28</td>\n",
       "      <td>3</td>\n",
       "      <td>2.70</td>\n",
       "      <td>27.0</td>\n",
       "      <td>48.00</td>\n",
       "      <td>11</td>\n",
       "      <td>False</td>\n",
       "      <td>...</td>\n",
       "      <td>NaN</td>\n",
       "      <td>0.0</td>\n",
       "      <td>NaN</td>\n",
       "      <td>74.0</td>\n",
       "      <td>76500.00</td>\n",
       "      <td>3</td>\n",
       "      <td>9</td>\n",
       "      <td>2017</td>\n",
       "      <td>другой</td>\n",
       "      <td>19.0</td>\n",
       "    </tr>\n",
       "  </tbody>\n",
       "</table>\n",
       "<p>20 rows × 28 columns</p>\n",
       "</div>"
      ],
      "text/plain": [
       "    total_images  last_price  total_area first_day_exposition  rooms  \\\n",
       "0             20  13000000.0      108.00           2019-03-07      3   \n",
       "1              7   3350000.0       40.40           2018-12-04      1   \n",
       "2             10   5196000.0       56.00           2015-08-20      2   \n",
       "4              2  10000000.0      100.00           2018-06-19      2   \n",
       "5             10   2890000.0       30.40           2018-09-10      1   \n",
       "6              6   3700000.0       37.30           2017-11-02      1   \n",
       "7              5   7915000.0       71.60           2019-04-18      2   \n",
       "8             20   2900000.0       33.16           2018-05-23      1   \n",
       "9             18   5400000.0       61.00           2017-02-26      3   \n",
       "10             5   5050000.0       39.60           2017-11-16      1   \n",
       "11             9   3300000.0       44.00           2018-08-27      2   \n",
       "12            10   3890000.0       54.00           2016-06-30      2   \n",
       "13            20   3550000.0       42.80           2017-07-01      2   \n",
       "14             1   4400000.0       36.00           2016-06-23      1   \n",
       "15            16   4650000.0       39.00           2017-11-18      1   \n",
       "16            11   6700000.0       82.00           2017-11-23      3   \n",
       "17             6   4180000.0       36.00           2016-09-09      1   \n",
       "18             8   3250000.0       31.00           2017-01-27      1   \n",
       "19            16  14200000.0      121.00           2019-01-09      3   \n",
       "20            12   6120000.0       80.00           2017-09-28      3   \n",
       "\n",
       "    ceiling_height  floors_total  living_area  floor  is_apartment  ...  \\\n",
       "0             2.70          16.0        51.00      8         False  ...   \n",
       "1             2.65          11.0        18.60      1         False  ...   \n",
       "2             2.65           5.0        34.30      4         False  ...   \n",
       "4             3.03          14.0        32.00     13         False  ...   \n",
       "5             2.65          12.0        14.40      5         False  ...   \n",
       "6             2.65          26.0        10.60      6         False  ...   \n",
       "7             2.65          24.0          NaN     22         False  ...   \n",
       "8             2.65          27.0        15.43     26         False  ...   \n",
       "9             2.50           9.0        43.60      7         False  ...   \n",
       "10            2.67          12.0        20.30      3         False  ...   \n",
       "11            2.65           5.0        31.00      4         False  ...   \n",
       "12            2.65           5.0        30.00      5         False  ...   \n",
       "13            2.56           5.0        27.00      5         False  ...   \n",
       "14            2.65           6.0        17.00      1         False  ...   \n",
       "15            2.65          14.0        20.50      5         False  ...   \n",
       "16            3.05           5.0        55.60      1         False  ...   \n",
       "17            2.65          17.0        16.50      7         False  ...   \n",
       "18            2.50           5.0        19.40      2         False  ...   \n",
       "19            2.75          16.0        76.00      8         False  ...   \n",
       "20            2.70          27.0        48.00     11         False  ...   \n",
       "\n",
       "    parks_nearest  ponds_around3000  ponds_nearest  days_exposition  \\\n",
       "0           482.0               2.0          755.0              NaN   \n",
       "1             NaN               0.0            NaN             81.0   \n",
       "2            90.0               2.0          574.0            558.0   \n",
       "4           112.0               1.0           48.0            121.0   \n",
       "5             NaN               0.0            NaN             55.0   \n",
       "6             NaN               0.0            NaN            155.0   \n",
       "7             NaN               0.0            NaN              NaN   \n",
       "8             NaN               0.0            NaN            189.0   \n",
       "9             NaN               0.0            NaN            289.0   \n",
       "10          310.0               2.0          553.0            137.0   \n",
       "11            NaN               0.0            NaN              7.0   \n",
       "12            NaN               0.0            NaN             90.0   \n",
       "13          294.0               3.0          298.0            366.0   \n",
       "14            NaN               1.0           96.0            203.0   \n",
       "15          590.0               1.0          296.0             19.0   \n",
       "16          420.0               0.0            NaN            397.0   \n",
       "17            NaN               1.0          859.0            571.0   \n",
       "18          759.0               0.0            NaN            168.0   \n",
       "19            NaN               0.0            NaN             97.0   \n",
       "20            NaN               0.0            NaN             74.0   \n",
       "\n",
       "   square_meter_price  day_week  publ_month  publ_year  floor_type  \\\n",
       "0           120370.37         3           3       2019      другой   \n",
       "1            82920.79         1          12       2018      первый   \n",
       "2            92785.71         3           8       2015      другой   \n",
       "4           100000.00         1           6       2018      другой   \n",
       "5            95065.79         0           9       2018      другой   \n",
       "6            99195.71         3          11       2017      другой   \n",
       "7           110544.69         3           4       2019      другой   \n",
       "8            87454.76         2           5       2018      другой   \n",
       "9            88524.59         6           2       2017      другой   \n",
       "10          127525.25         3          11       2017      другой   \n",
       "11           75000.00         0           8       2018      другой   \n",
       "12           72037.04         3           6       2016   последний   \n",
       "13           82943.93         5           7       2017   последний   \n",
       "14          122222.22         3           6       2016      первый   \n",
       "15          119230.77         5          11       2017      другой   \n",
       "16           81707.32         3          11       2017      первый   \n",
       "17          116111.11         4           9       2016      другой   \n",
       "18          104838.71         4           1       2017      другой   \n",
       "19          117355.37         2           1       2019      другой   \n",
       "20           76500.00         3           9       2017      другой   \n",
       "\n",
       "    cityCenters_nearest_km  \n",
       "0                     16.0  \n",
       "1                     19.0  \n",
       "2                     14.0  \n",
       "4                      8.0  \n",
       "5                      NaN  \n",
       "6                     19.0  \n",
       "7                     12.0  \n",
       "8                      NaN  \n",
       "9                     15.0  \n",
       "10                    14.0  \n",
       "11                    52.0  \n",
       "12                     NaN  \n",
       "13                    33.0  \n",
       "14                    31.0  \n",
       "15                    14.0  \n",
       "16                    11.0  \n",
       "17                    15.0  \n",
       "18                    11.0  \n",
       "19                    13.0  \n",
       "20                    19.0  \n",
       "\n",
       "[20 rows x 28 columns]"
      ]
     },
     "execution_count": 43,
     "metadata": {},
     "output_type": "execute_result"
    }
   ],
   "source": [
    "data.head(20)"
   ]
  },
  {
   "cell_type": "code",
   "execution_count": 44,
   "metadata": {},
   "outputs": [
    {
     "name": "stdout",
     "output_type": "stream",
     "text": [
      "<class 'pandas.core.frame.DataFrame'>\n",
      "Int64Index: 23059 entries, 0 to 23649\n",
      "Data columns (total 28 columns):\n",
      " #   Column                  Non-Null Count  Dtype         \n",
      "---  ------                  --------------  -----         \n",
      " 0   total_images            23059 non-null  int64         \n",
      " 1   last_price              23059 non-null  float64       \n",
      " 2   total_area              23059 non-null  float64       \n",
      " 3   first_day_exposition    23059 non-null  datetime64[ns]\n",
      " 4   rooms                   23059 non-null  int64         \n",
      " 5   ceiling_height          23059 non-null  float64       \n",
      " 6   floors_total            23059 non-null  float64       \n",
      " 7   living_area             21230 non-null  float64       \n",
      " 8   floor                   23059 non-null  int64         \n",
      " 9   is_apartment            23059 non-null  bool          \n",
      " 10  studio                  23059 non-null  bool          \n",
      " 11  open_plan               23059 non-null  bool          \n",
      " 12  kitchen_area            20860 non-null  float64       \n",
      " 13  balcony                 23059 non-null  float64       \n",
      " 14  locality_name           23059 non-null  object        \n",
      " 15  airports_nearest        17546 non-null  float64       \n",
      " 16  cityCenters_nearest     17566 non-null  float64       \n",
      " 17  parks_around3000        23059 non-null  float64       \n",
      " 18  parks_nearest           7671 non-null   float64       \n",
      " 19  ponds_around3000        23059 non-null  float64       \n",
      " 20  ponds_nearest           8670 non-null   float64       \n",
      " 21  days_exposition         20031 non-null  float64       \n",
      " 22  square_meter_price      23059 non-null  float64       \n",
      " 23  day_week                23059 non-null  int64         \n",
      " 24  publ_month              23059 non-null  int64         \n",
      " 25  publ_year               23059 non-null  int64         \n",
      " 26  floor_type              23059 non-null  object        \n",
      " 27  cityCenters_nearest_km  17566 non-null  float64       \n",
      "dtypes: bool(3), datetime64[ns](1), float64(16), int64(6), object(2)\n",
      "memory usage: 4.6+ MB\n"
     ]
    }
   ],
   "source": [
    "data.info()"
   ]
  },
  {
   "cell_type": "markdown",
   "metadata": {},
   "source": [
    "### Проведите исследовательский анализ данных"
   ]
  },
  {
   "cell_type": "markdown",
   "metadata": {},
   "source": [
    "#### Изучите следующие параметры объектов:"
   ]
  },
  {
   "cell_type": "markdown",
   "metadata": {},
   "source": [
    "##### общая площадь;"
   ]
  },
  {
   "cell_type": "code",
   "execution_count": 45,
   "metadata": {},
   "outputs": [
    {
     "name": "stdout",
     "output_type": "stream",
     "text": [
      "count    23059.000000\n",
      "mean        56.439577\n",
      "std         22.806823\n",
      "min         12.000000\n",
      "25%         40.000000\n",
      "50%         51.000000\n",
      "75%         67.575000\n",
      "max        150.000000\n",
      "Name: total_area, dtype: float64\n"
     ]
    },
    {
     "data": {
      "image/png": "[encoded data removed]",
      "text/plain": [
       "<Figure size 720x720 with 1 Axes>"
      ]
     },
     "metadata": {
      "needs_background": "light"
     },
     "output_type": "display_data"
    }
   ],
   "source": [
    "data['total_area'].hist(bins = 60, range = (0, 250), figsize = (10,10))\n",
    "print(data['total_area'].describe())"
   ]
  },
  {
   "cell_type": "markdown",
   "metadata": {},
   "source": [
    "Наблюдается распределение Пуассона. Гистограмма без отклонений. Отмечается значительный пик количества объявлений о продаже квартир около 45 кв метров. Думаю, что это связано с особенностью человеческого мышления округлять значения(пример 42 и 46 кв м записывали в 45), либо со стандартной площадью 2ух комнатных квартир около 45 кв.м."
   ]
  },
  {
   "cell_type": "markdown",
   "metadata": {},
   "source": [
    "##### жилая площадь;"
   ]
  },
  {
   "cell_type": "code",
   "execution_count": 46,
   "metadata": {},
   "outputs": [
    {
     "name": "stdout",
     "output_type": "stream",
     "text": [
      "count    21230.000000\n",
      "mean        32.264240\n",
      "std         15.353187\n",
      "min          1.153846\n",
      "25%         18.500000\n",
      "50%         30.000000\n",
      "75%         41.500000\n",
      "max        128.000000\n",
      "Name: living_area, dtype: float64\n"
     ]
    },
    {
     "data": {
      "image/png": "[encoded data removed]",
      "text/plain": [
       "<Figure size 720x720 with 1 Axes>"
      ]
     },
     "metadata": {
      "needs_background": "light"
     },
     "output_type": "display_data"
    }
   ],
   "source": [
    "data['living_area'].hist(bins = 80, range = (0, 125), figsize = (10,10))\n",
    "print(data['living_area'].describe())"
   ]
  },
  {
   "cell_type": "markdown",
   "metadata": {},
   "source": [
    "Распределение больше напоминает нормальное, однако 2 выбивающихся пика могут говорить о стандартности строений многоэтажных домов. Стандартная жилая площадь для самых \"ходовых\" квартир(1 и 2ух комнатных или студий)"
   ]
  },
  {
   "cell_type": "markdown",
   "metadata": {},
   "source": [
    "##### площадь кухни;"
   ]
  },
  {
   "cell_type": "code",
   "execution_count": 47,
   "metadata": {},
   "outputs": [
    {
     "name": "stdout",
     "output_type": "stream",
     "text": [
      "count    20860.000000\n",
      "mean        10.189154\n",
      "std          4.907429\n",
      "min          1.300000\n",
      "25%          7.000000\n",
      "50%          9.000000\n",
      "75%         11.600000\n",
      "max         75.000000\n",
      "Name: kitchen_area, dtype: float64\n"
     ]
    },
    {
     "data": {
      "image/png": "[encoded data removed]",
      "text/plain": [
       "<Figure size 720x720 with 1 Axes>"
      ]
     },
     "metadata": {
      "needs_background": "light"
     },
     "output_type": "display_data"
    }
   ],
   "source": [
    "data['kitchen_area'].hist(bins = 30, range = (0, 60), figsize = (10,10))\n",
    "print(data['kitchen_area'].describe())"
   ]
  },
  {
   "cell_type": "markdown",
   "metadata": {},
   "source": [
    "Наиболее популярная площадь кухни около 10 кв.м"
   ]
  },
  {
   "cell_type": "markdown",
   "metadata": {},
   "source": [
    "##### цена объекта;"
   ]
  },
  {
   "cell_type": "code",
   "execution_count": 48,
   "metadata": {},
   "outputs": [
    {
     "name": "stdout",
     "output_type": "stream",
     "text": [
      "count    2.305900e+04\n",
      "mean     5.639155e+06\n",
      "std      4.100916e+06\n",
      "min      4.300000e+05\n",
      "25%      3.400000e+06\n",
      "50%      4.575000e+06\n",
      "75%      6.500000e+06\n",
      "max      5.000000e+07\n",
      "Name: last_price, dtype: float64\n"
     ]
    },
    {
     "data": {
      "image/png": "[encoded data removed]",
      "text/plain": [
       "<Figure size 720x720 with 1 Axes>"
      ]
     },
     "metadata": {
      "needs_background": "light"
     },
     "output_type": "display_data"
    }
   ],
   "source": [
    "data['last_price'].hist(bins = 200, figsize = (10,10), range = (400000, 40000000))\n",
    "print(data['last_price'].describe())"
   ]
  },
  {
   "cell_type": "markdown",
   "metadata": {},
   "source": [
    "Согласно данным в большинстве квартиры стоят от 3 млн.рублей до 7 млн.рублей"
   ]
  },
  {
   "cell_type": "markdown",
   "metadata": {},
   "source": [
    "##### количество комнат;"
   ]
  },
  {
   "cell_type": "code",
   "execution_count": 49,
   "metadata": {},
   "outputs": [
    {
     "name": "stdout",
     "output_type": "stream",
     "text": [
      "count    23059.000000\n",
      "mean         2.005681\n",
      "std          0.930918\n",
      "min          1.000000\n",
      "25%          1.000000\n",
      "50%          2.000000\n",
      "75%          3.000000\n",
      "max          6.000000\n",
      "Name: rooms, dtype: float64\n"
     ]
    },
    {
     "data": {
      "image/png": "[encoded data removed]",
      "text/plain": [
       "<Figure size 720x720 with 1 Axes>"
      ]
     },
     "metadata": {
      "needs_background": "light"
     },
     "output_type": "display_data"
    }
   ],
   "source": [
    "data['rooms'].hist(bins = data['rooms'].max(), figsize = (10,10), range = (0, (data['rooms'].max()+1)))\n",
    "print(data['rooms'].describe())"
   ]
  },
  {
   "cell_type": "markdown",
   "metadata": {},
   "source": [
    "Как предполагалось выше, наиболее популярные объявления о продаже однокомнатных и двухкомнатных квартир."
   ]
  },
  {
   "cell_type": "markdown",
   "metadata": {},
   "source": [
    "##### высота потолков"
   ]
  },
  {
   "cell_type": "code",
   "execution_count": 50,
   "metadata": {},
   "outputs": [
    {
     "name": "stdout",
     "output_type": "stream",
     "text": [
      "count    23059.000000\n",
      "mean         2.689343\n",
      "std          0.219630\n",
      "min          2.500000\n",
      "25%          2.600000\n",
      "50%          2.650000\n",
      "75%          2.700000\n",
      "max         10.000000\n",
      "Name: ceiling_height, dtype: float64\n"
     ]
    },
    {
     "data": {
      "image/png": "[encoded data removed]",
      "text/plain": [
       "<Figure size 720x720 with 1 Axes>"
      ]
     },
     "metadata": {
      "needs_background": "light"
     },
     "output_type": "display_data"
    }
   ],
   "source": [
    "data['ceiling_height'].hist(bins = 30, figsize = (10,10), range = (2, 5))\n",
    "print(data['ceiling_height'].describe())"
   ]
  },
  {
   "cell_type": "markdown",
   "metadata": {},
   "source": [
    "как и ожидалось, самая массовая высота потолков стандартные 2,6 - 2,7 м"
   ]
  },
  {
   "cell_type": "markdown",
   "metadata": {},
   "source": [
    "##### этаж квартиры"
   ]
  },
  {
   "cell_type": "code",
   "execution_count": 51,
   "metadata": {},
   "outputs": [
    {
     "name": "stdout",
     "output_type": "stream",
     "text": [
      "count    23059.000000\n",
      "mean         5.902945\n",
      "std          4.897912\n",
      "min          1.000000\n",
      "25%          2.000000\n",
      "50%          4.000000\n",
      "75%          8.000000\n",
      "max         33.000000\n",
      "Name: floor, dtype: float64\n"
     ]
    },
    {
     "data": {
      "image/png": "[encoded data removed]",
      "text/plain": [
       "<Figure size 720x720 with 1 Axes>"
      ]
     },
     "metadata": {
      "needs_background": "light"
     },
     "output_type": "display_data"
    }
   ],
   "source": [
    "data['floor'].hist(bins = 30, figsize = (10,10), range = (0, 33\n",
    "                                                         ))\n",
    "print(data['floor'].describe())"
   ]
  },
  {
   "cell_type": "markdown",
   "metadata": {},
   "source": [
    "самые популярные этажи для России до 5, поскольку большая распространенность пятиэтажек."
   ]
  },
  {
   "cell_type": "markdown",
   "metadata": {},
   "source": [
    "##### тип этажа квартиры"
   ]
  },
  {
   "cell_type": "code",
   "execution_count": 52,
   "metadata": {},
   "outputs": [
    {
     "name": "stdout",
     "output_type": "stream",
     "text": [
      "count      23059\n",
      "unique         3\n",
      "top       другой\n",
      "freq       17002\n",
      "Name: floor_type, dtype: object\n"
     ]
    },
    {
     "data": {
      "image/png": "[encoded data removed]",
      "text/plain": [
       "<Figure size 432x288 with 1 Axes>"
      ]
     },
     "metadata": {
      "needs_background": "light"
     },
     "output_type": "display_data"
    }
   ],
   "source": [
    "data['floor_type'].hist(bins = 3)\n",
    "print(data['floor_type'].describe())"
   ]
  },
  {
   "cell_type": "markdown",
   "metadata": {},
   "source": [
    "Соотношение объявлений о продаже квартир на первом и последнем этаже приблизительно равны. "
   ]
  },
  {
   "cell_type": "markdown",
   "metadata": {},
   "source": [
    "##### общее количество этажей в доме"
   ]
  },
  {
   "cell_type": "code",
   "execution_count": 53,
   "metadata": {},
   "outputs": [
    {
     "name": "stdout",
     "output_type": "stream",
     "text": [
      "count    23059.000000\n",
      "mean        10.741056\n",
      "std          6.606753\n",
      "min          1.000000\n",
      "25%          5.000000\n",
      "50%          9.000000\n",
      "75%         16.000000\n",
      "max         60.000000\n",
      "Name: floors_total, dtype: float64\n"
     ]
    },
    {
     "data": {
      "image/png": "[encoded data removed]",
      "text/plain": [
       "<Figure size 720x720 with 1 Axes>"
      ]
     },
     "metadata": {
      "needs_background": "light"
     },
     "output_type": "display_data"
    }
   ],
   "source": [
    "data['floors_total'].hist(bins = 50, figsize = (10,10))\n",
    "print(data['floors_total'].describe())"
   ]
  },
  {
   "cell_type": "markdown",
   "metadata": {},
   "source": [
    "Самые популярные дома для России это безусловно пяти и девятиэтажки. Гистограмма это подтверждает. "
   ]
  },
  {
   "cell_type": "markdown",
   "metadata": {},
   "source": [
    "##### расстояние до центра города в метрах;"
   ]
  },
  {
   "cell_type": "code",
   "execution_count": 54,
   "metadata": {},
   "outputs": [
    {
     "name": "stdout",
     "output_type": "stream",
     "text": [
      "count    17566.000000\n",
      "mean     14422.893544\n",
      "std       8560.302457\n",
      "min        208.000000\n",
      "25%       9719.000000\n",
      "50%      13242.000000\n",
      "75%      16419.000000\n",
      "max      65968.000000\n",
      "Name: cityCenters_nearest, dtype: float64\n"
     ]
    },
    {
     "data": {
      "image/png": "[encoded data removed]",
      "text/plain": [
       "<Figure size 720x720 with 1 Axes>"
      ]
     },
     "metadata": {
      "needs_background": "light"
     },
     "output_type": "display_data"
    }
   ],
   "source": [
    "data['cityCenters_nearest'].hist(bins = 50, figsize = (10,10))\n",
    "print(data['cityCenters_nearest'].describe())"
   ]
  },
  {
   "cell_type": "markdown",
   "metadata": {},
   "source": [
    "наибольшее количество квартир находятся на расстоянии от 10 до 17 км от центра города."
   ]
  },
  {
   "cell_type": "markdown",
   "metadata": {},
   "source": [
    "##### расстояние до ближайшего аэропорта;"
   ]
  },
  {
   "cell_type": "code",
   "execution_count": 55,
   "metadata": {},
   "outputs": [
    {
     "name": "stdout",
     "output_type": "stream",
     "text": [
      "count    17546.000000\n",
      "mean     28855.735267\n",
      "std      12747.807769\n",
      "min          0.000000\n",
      "25%      18433.500000\n",
      "50%      26903.000000\n",
      "75%      37412.000000\n",
      "max      84869.000000\n",
      "Name: airports_nearest, dtype: float64\n"
     ]
    },
    {
     "data": {
      "image/png": "[encoded data removed]",
      "text/plain": [
       "<Figure size 720x720 with 1 Axes>"
      ]
     },
     "metadata": {
      "needs_background": "light"
     },
     "output_type": "display_data"
    }
   ],
   "source": [
    "data['airports_nearest'].hist(bins = 50, figsize = (10,10))\n",
    "print(data['airports_nearest'].describe())"
   ]
  },
  {
   "cell_type": "markdown",
   "metadata": {},
   "source": [
    "наибольшее количество квартир находятся на расстоянии от 10 до 30 км от ближайшего аэропорта."
   ]
  },
  {
   "cell_type": "markdown",
   "metadata": {},
   "source": [
    "##### расстояние до ближайшего парка;"
   ]
  },
  {
   "cell_type": "code",
   "execution_count": 56,
   "metadata": {},
   "outputs": [
    {
     "name": "stdout",
     "output_type": "stream",
     "text": [
      "count    7671.000000\n",
      "mean      493.976014\n",
      "std       344.062549\n",
      "min         1.000000\n",
      "25%       288.000000\n",
      "50%       456.000000\n",
      "75%       614.000000\n",
      "max      3190.000000\n",
      "Name: parks_nearest, dtype: float64\n"
     ]
    },
    {
     "data": {
      "image/png": "[encoded data removed]",
      "text/plain": [
       "<Figure size 720x720 with 1 Axes>"
      ]
     },
     "metadata": {
      "needs_background": "light"
     },
     "output_type": "display_data"
    }
   ],
   "source": [
    "data['parks_nearest'].hist(bins = 50, figsize = (10,10),  range = (0, 3000))\n",
    "print(data['parks_nearest'].describe())"
   ]
  },
  {
   "cell_type": "markdown",
   "metadata": {},
   "source": [
    "Большая часть квартир находятся на расстоянии 500 м от парка. "
   ]
  },
  {
   "cell_type": "markdown",
   "metadata": {},
   "source": [
    "##### день и месяц публикации объявления"
   ]
  },
  {
   "cell_type": "code",
   "execution_count": 57,
   "metadata": {},
   "outputs": [
    {
     "data": {
      "text/plain": [
       "<AxesSubplot:>"
      ]
     },
     "execution_count": 57,
     "metadata": {},
     "output_type": "execute_result"
    },
    {
     "data": {
      "image/png": "[encoded data removed]",
      "text/plain": [
       "<Figure size 720x720 with 1 Axes>"
      ]
     },
     "metadata": {
      "needs_background": "light"
     },
     "output_type": "display_data"
    }
   ],
   "source": [
    "data['publ_month'].hist(bins = 12, figsize = (10,10))"
   ]
  },
  {
   "cell_type": "markdown",
   "metadata": {},
   "source": [
    "Наиболее часто люди задумываются о продаже квартир в конце зимы и начале весны, а летом и в начале осени им не до продажи квартир. в октябре ноябре предложение квартир увеличивается, однако на новогодние праздники сильно снижается. "
   ]
  },
  {
   "cell_type": "code",
   "execution_count": 58,
   "metadata": {},
   "outputs": [
    {
     "data": {
      "text/plain": [
       "<AxesSubplot:>"
      ]
     },
     "execution_count": 58,
     "metadata": {},
     "output_type": "execute_result"
    },
    {
     "data": {
      "image/png": "[encoded data removed]",
      "text/plain": [
       "<Figure size 720x720 with 1 Axes>"
      ]
     },
     "metadata": {
      "needs_background": "light"
     },
     "output_type": "display_data"
    }
   ],
   "source": [
    "data['day_week'].hist(bins = 7, figsize = (10,10),  range = (0, 7))"
   ]
  },
  {
   "cell_type": "markdown",
   "metadata": {},
   "source": [
    "В Выходные дни реже появляются объявления о продаже квартир. Вероятно, что большую часть объявлений выкладывают агенты по продажже квартир, у которых выходные в сб и вс"
   ]
  },
  {
   "cell_type": "markdown",
   "metadata": {},
   "source": [
    "#### Как быстро продаются квартиры "
   ]
  },
  {
   "cell_type": "code",
   "execution_count": 59,
   "metadata": {},
   "outputs": [
    {
     "name": "stdout",
     "output_type": "stream",
     "text": [
      "count    20031.000000\n",
      "mean       178.032450\n",
      "std        217.134444\n",
      "min          1.000000\n",
      "25%         44.000000\n",
      "50%         94.000000\n",
      "75%        226.000000\n",
      "max       1580.000000\n",
      "Name: days_exposition, dtype: float64\n"
     ]
    },
    {
     "data": {
      "image/png": "[encoded data removed]",
      "text/plain": [
       "<Figure size 720x720 with 1 Axes>"
      ]
     },
     "metadata": {
      "needs_background": "light"
     },
     "output_type": "display_data"
    }
   ],
   "source": [
    "data['days_exposition'].hist(bins = 50, figsize = (10,10),  range = (0, 1500))\n",
    "print(data['days_exposition'].describe())"
   ]
  },
  {
   "cell_type": "code",
   "execution_count": 60,
   "metadata": {},
   "outputs": [
    {
     "data": {
      "text/plain": [
       "(0.0, 600.0)"
      ]
     },
     "execution_count": 60,
     "metadata": {},
     "output_type": "execute_result"
    },
    {
     "data": {
      "image/png": "[encoded data removed]",
      "text/plain": [
       "<Figure size 432x288 with 1 Axes>"
      ]
     },
     "metadata": {
      "needs_background": "light"
     },
     "output_type": "display_data"
    }
   ],
   "source": [
    "data.boxplot(column = 'days_exposition')\n",
    "plt.ylim(0,600)"
   ]
  },
  {
   "cell_type": "markdown",
   "metadata": {},
   "source": [
    "в среднем квартиры продаются за 50 - 200 дней. \n",
    "среднее значение времени продажи квартир 178 дней, медианное значение 94 дня. \n",
    "быстрыми продажи можно считать до 44 дней, необычно долгими более 226 дней. "
   ]
  },
  {
   "cell_type": "markdown",
   "metadata": {},
   "source": [
    "#### Определение факторов, от которых зависит цена"
   ]
  },
  {
   "cell_type": "markdown",
   "metadata": {},
   "source": [
    "##### Зависимость от общей площади"
   ]
  },
  {
   "cell_type": "code",
   "execution_count": 61,
   "metadata": {},
   "outputs": [
    {
     "data": {
      "text/plain": [
       "0.7310200210684027"
      ]
     },
     "execution_count": 61,
     "metadata": {},
     "output_type": "execute_result"
    },
    {
     "data": {
      "image/png": "[encoded data removed]",
      "text/plain": [
       "<Figure size 432x288 with 1 Axes>"
      ]
     },
     "metadata": {
      "needs_background": "light"
     },
     "output_type": "display_data"
    }
   ],
   "source": [
    "data.plot(x = 'total_area', y = 'last_price', kind = 'scatter')\n",
    "data['total_area'].corr(data['last_price'])"
   ]
  },
  {
   "cell_type": "markdown",
   "metadata": {},
   "source": [
    "Зависимость присутсвует"
   ]
  },
  {
   "cell_type": "markdown",
   "metadata": {},
   "source": [
    "##### Зависимость от жилой площади"
   ]
  },
  {
   "cell_type": "code",
   "execution_count": 62,
   "metadata": {},
   "outputs": [
    {
     "data": {
      "text/plain": [
       "0.6050271774199775"
      ]
     },
     "execution_count": 62,
     "metadata": {},
     "output_type": "execute_result"
    },
    {
     "data": {
      "image/png": "[encoded data removed]",
      "text/plain": [
       "<Figure size 432x288 with 1 Axes>"
      ]
     },
     "metadata": {
      "needs_background": "light"
     },
     "output_type": "display_data"
    }
   ],
   "source": [
    "data.plot(x = 'living_area', y = 'last_price', kind = 'scatter')\n",
    "data['living_area'].corr(data['last_price'])"
   ]
  },
  {
   "cell_type": "markdown",
   "metadata": {},
   "source": [
    "Зависимость присутсвует"
   ]
  },
  {
   "cell_type": "markdown",
   "metadata": {},
   "source": [
    "##### Зависимость цены от площади кухни"
   ]
  },
  {
   "cell_type": "code",
   "execution_count": 63,
   "metadata": {},
   "outputs": [
    {
     "data": {
      "text/plain": [
       "0.5707949220025983"
      ]
     },
     "execution_count": 63,
     "metadata": {},
     "output_type": "execute_result"
    },
    {
     "data": {
      "image/png": "[encoded data removed]",
      "text/plain": [
       "<Figure size 432x288 with 1 Axes>"
      ]
     },
     "metadata": {
      "needs_background": "light"
     },
     "output_type": "display_data"
    }
   ],
   "source": [
    "data.plot(x = 'kitchen_area', y = 'last_price', kind = 'scatter')\n",
    "data['kitchen_area'].corr(data['last_price'])"
   ]
  },
  {
   "cell_type": "markdown",
   "metadata": {},
   "source": [
    "Зависимость присутствует"
   ]
  },
  {
   "cell_type": "markdown",
   "metadata": {},
   "source": [
    "##### Зависимость от количества комнат"
   ]
  },
  {
   "cell_type": "code",
   "execution_count": 64,
   "metadata": {},
   "outputs": [
    {
     "data": {
      "text/plain": [
       "0.42696166754671433"
      ]
     },
     "execution_count": 64,
     "metadata": {},
     "output_type": "execute_result"
    },
    {
     "data": {
      "image/png": "[encoded data removed]",
      "text/plain": [
       "<Figure size 432x288 with 1 Axes>"
      ]
     },
     "metadata": {
      "needs_background": "light"
     },
     "output_type": "display_data"
    }
   ],
   "source": [
    "data.plot(x = 'rooms', y = 'last_price', kind = 'scatter')\n",
    "data['rooms'].corr(data['last_price'])"
   ]
  },
  {
   "cell_type": "markdown",
   "metadata": {},
   "source": [
    "Зависимость очень слабая"
   ]
  },
  {
   "cell_type": "markdown",
   "metadata": {},
   "source": [
    "##### Зависимость от этажа, на котором расположена квартира (первый, последний, другой)"
   ]
  },
  {
   "cell_type": "code",
   "execution_count": 65,
   "metadata": {},
   "outputs": [
    {
     "data": {
      "text/html": [
       "<div>\n",
       "<style scoped>\n",
       "    .dataframe tbody tr th:only-of-type {\n",
       "        vertical-align: middle;\n",
       "    }\n",
       "\n",
       "    .dataframe tbody tr th {\n",
       "        vertical-align: top;\n",
       "    }\n",
       "\n",
       "    .dataframe thead th {\n",
       "        text-align: right;\n",
       "    }\n",
       "</style>\n",
       "<table border=\"1\" class=\"dataframe\">\n",
       "  <thead>\n",
       "    <tr style=\"text-align: right;\">\n",
       "      <th></th>\n",
       "      <th>last_price</th>\n",
       "    </tr>\n",
       "    <tr>\n",
       "      <th>floor_type</th>\n",
       "      <th></th>\n",
       "    </tr>\n",
       "  </thead>\n",
       "  <tbody>\n",
       "    <tr>\n",
       "      <th>другой</th>\n",
       "      <td>4780000.0</td>\n",
       "    </tr>\n",
       "    <tr>\n",
       "      <th>первый</th>\n",
       "      <td>3900000.0</td>\n",
       "    </tr>\n",
       "    <tr>\n",
       "      <th>последний</th>\n",
       "      <td>4200000.0</td>\n",
       "    </tr>\n",
       "  </tbody>\n",
       "</table>\n",
       "</div>"
      ],
      "text/plain": [
       "            last_price\n",
       "floor_type            \n",
       "другой       4780000.0\n",
       "первый       3900000.0\n",
       "последний    4200000.0"
      ]
     },
     "execution_count": 65,
     "metadata": {},
     "output_type": "execute_result"
    },
    {
     "data": {
      "image/png": "[encoded data removed]",
      "text/plain": [
       "<Figure size 432x288 with 1 Axes>"
      ]
     },
     "metadata": {
      "needs_background": "light"
     },
     "output_type": "display_data"
    }
   ],
   "source": [
    "data.plot(x = 'floor_type', y = 'last_price', kind = 'scatter')\n",
    "data.pivot_table(index = 'floor_type', values = 'last_price', aggfunc = 'median')\n"
   ]
  },
  {
   "cell_type": "markdown",
   "metadata": {},
   "source": [
    "Согласно полученным данным квартиры на первом этаже дешевле, а вот на последнем не значительно дешевле, чем на другиз этажах."
   ]
  },
  {
   "cell_type": "markdown",
   "metadata": {},
   "source": [
    "##### Зависимость от даты размещения."
   ]
  },
  {
   "cell_type": "code",
   "execution_count": 66,
   "metadata": {},
   "outputs": [
    {
     "data": {
      "text/html": [
       "<div>\n",
       "<style scoped>\n",
       "    .dataframe tbody tr th:only-of-type {\n",
       "        vertical-align: middle;\n",
       "    }\n",
       "\n",
       "    .dataframe tbody tr th {\n",
       "        vertical-align: top;\n",
       "    }\n",
       "\n",
       "    .dataframe thead th {\n",
       "        text-align: right;\n",
       "    }\n",
       "</style>\n",
       "<table border=\"1\" class=\"dataframe\">\n",
       "  <thead>\n",
       "    <tr style=\"text-align: right;\">\n",
       "      <th></th>\n",
       "      <th>last_price</th>\n",
       "    </tr>\n",
       "    <tr>\n",
       "      <th>publ_month</th>\n",
       "      <th></th>\n",
       "    </tr>\n",
       "  </thead>\n",
       "  <tbody>\n",
       "    <tr>\n",
       "      <th>1</th>\n",
       "      <td>4545000.0</td>\n",
       "    </tr>\n",
       "    <tr>\n",
       "      <th>2</th>\n",
       "      <td>4600000.0</td>\n",
       "    </tr>\n",
       "    <tr>\n",
       "      <th>3</th>\n",
       "      <td>4597500.0</td>\n",
       "    </tr>\n",
       "    <tr>\n",
       "      <th>4</th>\n",
       "      <td>4750000.0</td>\n",
       "    </tr>\n",
       "    <tr>\n",
       "      <th>5</th>\n",
       "      <td>4500000.0</td>\n",
       "    </tr>\n",
       "    <tr>\n",
       "      <th>6</th>\n",
       "      <td>4350000.0</td>\n",
       "    </tr>\n",
       "    <tr>\n",
       "      <th>7</th>\n",
       "      <td>4550000.0</td>\n",
       "    </tr>\n",
       "    <tr>\n",
       "      <th>8</th>\n",
       "      <td>4500000.0</td>\n",
       "    </tr>\n",
       "    <tr>\n",
       "      <th>9</th>\n",
       "      <td>4610000.0</td>\n",
       "    </tr>\n",
       "    <tr>\n",
       "      <th>10</th>\n",
       "      <td>4500000.0</td>\n",
       "    </tr>\n",
       "    <tr>\n",
       "      <th>11</th>\n",
       "      <td>4610000.0</td>\n",
       "    </tr>\n",
       "    <tr>\n",
       "      <th>12</th>\n",
       "      <td>4600000.0</td>\n",
       "    </tr>\n",
       "  </tbody>\n",
       "</table>\n",
       "</div>"
      ],
      "text/plain": [
       "            last_price\n",
       "publ_month            \n",
       "1            4545000.0\n",
       "2            4600000.0\n",
       "3            4597500.0\n",
       "4            4750000.0\n",
       "5            4500000.0\n",
       "6            4350000.0\n",
       "7            4550000.0\n",
       "8            4500000.0\n",
       "9            4610000.0\n",
       "10           4500000.0\n",
       "11           4610000.0\n",
       "12           4600000.0"
      ]
     },
     "execution_count": 66,
     "metadata": {},
     "output_type": "execute_result"
    }
   ],
   "source": [
    "piv1 = data.pivot_table(index = 'publ_month', values = 'last_price', aggfunc = 'median')\n",
    "piv1"
   ]
  },
  {
   "cell_type": "markdown",
   "metadata": {},
   "source": [
    "Средняя цена мало зависит от месяца"
   ]
  },
  {
   "cell_type": "code",
   "execution_count": 67,
   "metadata": {},
   "outputs": [
    {
     "data": {
      "text/html": [
       "<div>\n",
       "<style scoped>\n",
       "    .dataframe tbody tr th:only-of-type {\n",
       "        vertical-align: middle;\n",
       "    }\n",
       "\n",
       "    .dataframe tbody tr th {\n",
       "        vertical-align: top;\n",
       "    }\n",
       "\n",
       "    .dataframe thead tr th {\n",
       "        text-align: left;\n",
       "    }\n",
       "\n",
       "    .dataframe thead tr:last-of-type th {\n",
       "        text-align: right;\n",
       "    }\n",
       "</style>\n",
       "<table border=\"1\" class=\"dataframe\">\n",
       "  <thead>\n",
       "    <tr>\n",
       "      <th></th>\n",
       "      <th>median</th>\n",
       "      <th>count</th>\n",
       "    </tr>\n",
       "    <tr>\n",
       "      <th></th>\n",
       "      <th>last_price</th>\n",
       "      <th>last_price</th>\n",
       "    </tr>\n",
       "    <tr>\n",
       "      <th>publ_year</th>\n",
       "      <th></th>\n",
       "      <th></th>\n",
       "    </tr>\n",
       "  </thead>\n",
       "  <tbody>\n",
       "    <tr>\n",
       "      <th>2014</th>\n",
       "      <td>7100000.0</td>\n",
       "      <td>123</td>\n",
       "    </tr>\n",
       "    <tr>\n",
       "      <th>2015</th>\n",
       "      <td>5130000.0</td>\n",
       "      <td>1105</td>\n",
       "    </tr>\n",
       "    <tr>\n",
       "      <th>2016</th>\n",
       "      <td>4450000.0</td>\n",
       "      <td>2683</td>\n",
       "    </tr>\n",
       "    <tr>\n",
       "      <th>2017</th>\n",
       "      <td>4450000.0</td>\n",
       "      <td>7962</td>\n",
       "    </tr>\n",
       "    <tr>\n",
       "      <th>2018</th>\n",
       "      <td>4500000.0</td>\n",
       "      <td>8371</td>\n",
       "    </tr>\n",
       "    <tr>\n",
       "      <th>2019</th>\n",
       "      <td>5000000.0</td>\n",
       "      <td>2815</td>\n",
       "    </tr>\n",
       "  </tbody>\n",
       "</table>\n",
       "</div>"
      ],
      "text/plain": [
       "              median      count\n",
       "          last_price last_price\n",
       "publ_year                      \n",
       "2014       7100000.0        123\n",
       "2015       5130000.0       1105\n",
       "2016       4450000.0       2683\n",
       "2017       4450000.0       7962\n",
       "2018       4500000.0       8371\n",
       "2019       5000000.0       2815"
      ]
     },
     "execution_count": 67,
     "metadata": {},
     "output_type": "execute_result"
    }
   ],
   "source": [
    "data.pivot_table(index = 'publ_year', values = 'last_price', aggfunc = ['median', 'count'])"
   ]
  },
  {
   "cell_type": "markdown",
   "metadata": {},
   "source": [
    "ежегодно стоимость с 14 по 18 год уменьшалась, это связано с тем, что со временем данный сервис становится более популярен в небольших городах, где стоимость квартир меньше, о чем говорит количество объявлений, в 2019 году скорее всего не за полный год данные.  "
   ]
  },
  {
   "cell_type": "code",
   "execution_count": 68,
   "metadata": {},
   "outputs": [
    {
     "data": {
      "text/html": [
       "<div>\n",
       "<style scoped>\n",
       "    .dataframe tbody tr th:only-of-type {\n",
       "        vertical-align: middle;\n",
       "    }\n",
       "\n",
       "    .dataframe tbody tr th {\n",
       "        vertical-align: top;\n",
       "    }\n",
       "\n",
       "    .dataframe thead th {\n",
       "        text-align: right;\n",
       "    }\n",
       "</style>\n",
       "<table border=\"1\" class=\"dataframe\">\n",
       "  <thead>\n",
       "    <tr style=\"text-align: right;\">\n",
       "      <th></th>\n",
       "      <th>last_price</th>\n",
       "    </tr>\n",
       "    <tr>\n",
       "      <th>day_week</th>\n",
       "      <th></th>\n",
       "    </tr>\n",
       "  </thead>\n",
       "  <tbody>\n",
       "    <tr>\n",
       "      <th>0</th>\n",
       "      <td>4595000.0</td>\n",
       "    </tr>\n",
       "    <tr>\n",
       "      <th>1</th>\n",
       "      <td>4650000.0</td>\n",
       "    </tr>\n",
       "    <tr>\n",
       "      <th>2</th>\n",
       "      <td>4600000.0</td>\n",
       "    </tr>\n",
       "    <tr>\n",
       "      <th>3</th>\n",
       "      <td>4550000.0</td>\n",
       "    </tr>\n",
       "    <tr>\n",
       "      <th>4</th>\n",
       "      <td>4500000.0</td>\n",
       "    </tr>\n",
       "    <tr>\n",
       "      <th>5</th>\n",
       "      <td>4500000.0</td>\n",
       "    </tr>\n",
       "    <tr>\n",
       "      <th>6</th>\n",
       "      <td>4500000.0</td>\n",
       "    </tr>\n",
       "  </tbody>\n",
       "</table>\n",
       "</div>"
      ],
      "text/plain": [
       "          last_price\n",
       "day_week            \n",
       "0          4595000.0\n",
       "1          4650000.0\n",
       "2          4600000.0\n",
       "3          4550000.0\n",
       "4          4500000.0\n",
       "5          4500000.0\n",
       "6          4500000.0"
      ]
     },
     "execution_count": 68,
     "metadata": {},
     "output_type": "execute_result"
    }
   ],
   "source": [
    "data.pivot_table(index = 'day_week', values = 'last_price', aggfunc = 'median')"
   ]
  },
  {
   "cell_type": "markdown",
   "metadata": {},
   "source": [
    "от дней недели цена не зависит."
   ]
  },
  {
   "cell_type": "markdown",
   "metadata": {},
   "source": [
    "#### Стоимость кв. метра в самых населенных местах."
   ]
  },
  {
   "cell_type": "code",
   "execution_count": 69,
   "metadata": {},
   "outputs": [
    {
     "data": {
      "text/html": [
       "<div>\n",
       "<style scoped>\n",
       "    .dataframe tbody tr th:only-of-type {\n",
       "        vertical-align: middle;\n",
       "    }\n",
       "\n",
       "    .dataframe tbody tr th {\n",
       "        vertical-align: top;\n",
       "    }\n",
       "\n",
       "    .dataframe thead th {\n",
       "        text-align: right;\n",
       "    }\n",
       "</style>\n",
       "<table border=\"1\" class=\"dataframe\">\n",
       "  <thead>\n",
       "    <tr style=\"text-align: right;\">\n",
       "      <th></th>\n",
       "      <th>mean_price</th>\n",
       "      <th>count</th>\n",
       "    </tr>\n",
       "    <tr>\n",
       "      <th>locality_name</th>\n",
       "      <th></th>\n",
       "      <th></th>\n",
       "    </tr>\n",
       "  </thead>\n",
       "  <tbody>\n",
       "    <tr>\n",
       "      <th>Санкт-Петербург</th>\n",
       "      <td>111800.725730</td>\n",
       "      <td>15165</td>\n",
       "    </tr>\n",
       "    <tr>\n",
       "      <th>поселок Мурино</th>\n",
       "      <td>85681.762572</td>\n",
       "      <td>556</td>\n",
       "    </tr>\n",
       "    <tr>\n",
       "      <th>поселок Шушары</th>\n",
       "      <td>78677.364318</td>\n",
       "      <td>440</td>\n",
       "    </tr>\n",
       "    <tr>\n",
       "      <th>Всеволожск</th>\n",
       "      <td>68703.119723</td>\n",
       "      <td>397</td>\n",
       "    </tr>\n",
       "    <tr>\n",
       "      <th>Пушкин</th>\n",
       "      <td>102866.519694</td>\n",
       "      <td>359</td>\n",
       "    </tr>\n",
       "    <tr>\n",
       "      <th>Колпино</th>\n",
       "      <td>75333.295816</td>\n",
       "      <td>337</td>\n",
       "    </tr>\n",
       "    <tr>\n",
       "      <th>поселок Парголово</th>\n",
       "      <td>90332.262638</td>\n",
       "      <td>326</td>\n",
       "    </tr>\n",
       "    <tr>\n",
       "      <th>Гатчина</th>\n",
       "      <td>68746.146515</td>\n",
       "      <td>307</td>\n",
       "    </tr>\n",
       "    <tr>\n",
       "      <th>деревня Кудрово</th>\n",
       "      <td>92473.547559</td>\n",
       "      <td>299</td>\n",
       "    </tr>\n",
       "    <tr>\n",
       "      <th>Выборг</th>\n",
       "      <td>58075.893915</td>\n",
       "      <td>235</td>\n",
       "    </tr>\n",
       "    <tr>\n",
       "      <th>Петергоф</th>\n",
       "      <td>84370.517020</td>\n",
       "      <td>198</td>\n",
       "    </tr>\n",
       "  </tbody>\n",
       "</table>\n",
       "</div>"
      ],
      "text/plain": [
       "                      mean_price  count\n",
       "locality_name                          \n",
       "Санкт-Петербург    111800.725730  15165\n",
       "поселок Мурино      85681.762572    556\n",
       "поселок Шушары      78677.364318    440\n",
       "Всеволожск          68703.119723    397\n",
       "Пушкин             102866.519694    359\n",
       "Колпино             75333.295816    337\n",
       "поселок Парголово   90332.262638    326\n",
       "Гатчина             68746.146515    307\n",
       "деревня Кудрово     92473.547559    299\n",
       "Выборг              58075.893915    235\n",
       "Петергоф            84370.517020    198"
      ]
     },
     "execution_count": 69,
     "metadata": {},
     "output_type": "execute_result"
    }
   ],
   "source": [
    "piv2 = data.pivot_table(index = 'locality_name', values = 'square_meter_price', aggfunc = ['mean', 'count'])\n",
    "piv2.columns = ['mean_price', 'count']\n",
    "piv2 = piv2.sort_values(by = 'count', ascending = False)\n",
    "piv3 = piv2[0:11]\n",
    "piv3"
   ]
  },
  {
   "cell_type": "code",
   "execution_count": 70,
   "metadata": {},
   "outputs": [
    {
     "data": {
      "text/html": [
       "<div>\n",
       "<style scoped>\n",
       "    .dataframe tbody tr th:only-of-type {\n",
       "        vertical-align: middle;\n",
       "    }\n",
       "\n",
       "    .dataframe tbody tr th {\n",
       "        vertical-align: top;\n",
       "    }\n",
       "\n",
       "    .dataframe thead th {\n",
       "        text-align: right;\n",
       "    }\n",
       "</style>\n",
       "<table border=\"1\" class=\"dataframe\">\n",
       "  <thead>\n",
       "    <tr style=\"text-align: right;\">\n",
       "      <th></th>\n",
       "      <th>mean_price</th>\n",
       "      <th>count</th>\n",
       "    </tr>\n",
       "    <tr>\n",
       "      <th>locality_name</th>\n",
       "      <th></th>\n",
       "      <th></th>\n",
       "    </tr>\n",
       "  </thead>\n",
       "  <tbody>\n",
       "    <tr>\n",
       "      <th>Санкт-Петербург</th>\n",
       "      <td>111800.72573</td>\n",
       "      <td>15165</td>\n",
       "    </tr>\n",
       "  </tbody>\n",
       "</table>\n",
       "</div>"
      ],
      "text/plain": [
       "                   mean_price  count\n",
       "locality_name                       \n",
       "Санкт-Петербург  111800.72573  15165"
      ]
     },
     "execution_count": 70,
     "metadata": {},
     "output_type": "execute_result"
    }
   ],
   "source": [
    "piv3[piv3['mean_price'] == piv3['mean_price'].max()]"
   ]
  },
  {
   "cell_type": "code",
   "execution_count": 71,
   "metadata": {},
   "outputs": [
    {
     "data": {
      "text/html": [
       "<div>\n",
       "<style scoped>\n",
       "    .dataframe tbody tr th:only-of-type {\n",
       "        vertical-align: middle;\n",
       "    }\n",
       "\n",
       "    .dataframe tbody tr th {\n",
       "        vertical-align: top;\n",
       "    }\n",
       "\n",
       "    .dataframe thead th {\n",
       "        text-align: right;\n",
       "    }\n",
       "</style>\n",
       "<table border=\"1\" class=\"dataframe\">\n",
       "  <thead>\n",
       "    <tr style=\"text-align: right;\">\n",
       "      <th></th>\n",
       "      <th>mean_price</th>\n",
       "      <th>count</th>\n",
       "    </tr>\n",
       "    <tr>\n",
       "      <th>locality_name</th>\n",
       "      <th></th>\n",
       "      <th></th>\n",
       "    </tr>\n",
       "  </thead>\n",
       "  <tbody>\n",
       "    <tr>\n",
       "      <th>Выборг</th>\n",
       "      <td>58075.893915</td>\n",
       "      <td>235</td>\n",
       "    </tr>\n",
       "  </tbody>\n",
       "</table>\n",
       "</div>"
      ],
      "text/plain": [
       "                 mean_price  count\n",
       "locality_name                     \n",
       "Выборг         58075.893915    235"
      ]
     },
     "execution_count": 71,
     "metadata": {},
     "output_type": "execute_result"
    }
   ],
   "source": [
    "piv3[piv3['mean_price'] == piv3['mean_price'].min()]"
   ]
  },
  {
   "cell_type": "markdown",
   "metadata": {},
   "source": [
    "Самая максимальная цена за 1 кв. м в Зеленогорске, самая минимальная цена в деревне Старополье. "
   ]
  },
  {
   "cell_type": "markdown",
   "metadata": {},
   "source": [
    "#### Как стоимость объектов зависит от расстояния до центра города."
   ]
  },
  {
   "cell_type": "code",
   "execution_count": 72,
   "metadata": {},
   "outputs": [
    {
     "data": {
      "text/html": [
       "<div>\n",
       "<style scoped>\n",
       "    .dataframe tbody tr th:only-of-type {\n",
       "        vertical-align: middle;\n",
       "    }\n",
       "\n",
       "    .dataframe tbody tr th {\n",
       "        vertical-align: top;\n",
       "    }\n",
       "\n",
       "    .dataframe thead th {\n",
       "        text-align: right;\n",
       "    }\n",
       "</style>\n",
       "<table border=\"1\" class=\"dataframe\">\n",
       "  <thead>\n",
       "    <tr style=\"text-align: right;\">\n",
       "      <th></th>\n",
       "      <th>square_meter_price</th>\n",
       "    </tr>\n",
       "    <tr>\n",
       "      <th>cityCenters_nearest_km</th>\n",
       "      <th></th>\n",
       "    </tr>\n",
       "  </thead>\n",
       "  <tbody>\n",
       "    <tr>\n",
       "      <th>0.0</th>\n",
       "      <td>224291.260556</td>\n",
       "    </tr>\n",
       "    <tr>\n",
       "      <th>1.0</th>\n",
       "      <td>147050.943272</td>\n",
       "    </tr>\n",
       "    <tr>\n",
       "      <th>2.0</th>\n",
       "      <td>139683.062296</td>\n",
       "    </tr>\n",
       "    <tr>\n",
       "      <th>3.0</th>\n",
       "      <td>119503.171083</td>\n",
       "    </tr>\n",
       "    <tr>\n",
       "      <th>4.0</th>\n",
       "      <td>127200.456421</td>\n",
       "    </tr>\n",
       "    <tr>\n",
       "      <th>5.0</th>\n",
       "      <td>135721.527844</td>\n",
       "    </tr>\n",
       "    <tr>\n",
       "      <th>6.0</th>\n",
       "      <td>140724.424567</td>\n",
       "    </tr>\n",
       "    <tr>\n",
       "      <th>7.0</th>\n",
       "      <td>140088.758027</td>\n",
       "    </tr>\n",
       "    <tr>\n",
       "      <th>8.0</th>\n",
       "      <td>123917.463580</td>\n",
       "    </tr>\n",
       "    <tr>\n",
       "      <th>9.0</th>\n",
       "      <td>113050.747394</td>\n",
       "    </tr>\n",
       "  </tbody>\n",
       "</table>\n",
       "</div>"
      ],
      "text/plain": [
       "                        square_meter_price\n",
       "cityCenters_nearest_km                    \n",
       "0.0                          224291.260556\n",
       "1.0                          147050.943272\n",
       "2.0                          139683.062296\n",
       "3.0                          119503.171083\n",
       "4.0                          127200.456421\n",
       "5.0                          135721.527844\n",
       "6.0                          140724.424567\n",
       "7.0                          140088.758027\n",
       "8.0                          123917.463580\n",
       "9.0                          113050.747394"
      ]
     },
     "execution_count": 72,
     "metadata": {},
     "output_type": "execute_result"
    }
   ],
   "source": [
    "spb = data[data['locality_name'] == 'Санкт-Петербург']\n",
    "piv3 = spb.pivot_table(index = 'cityCenters_nearest_km', values = 'square_meter_price', aggfunc = 'mean')\n",
    "piv3.head(10)"
   ]
  },
  {
   "cell_type": "code",
   "execution_count": 73,
   "metadata": {},
   "outputs": [
    {
     "data": {
      "text/plain": [
       "-0.3450382986281446"
      ]
     },
     "execution_count": 73,
     "metadata": {},
     "output_type": "execute_result"
    }
   ],
   "source": [
    "spb['cityCenters_nearest_km'].corr(spb['square_meter_price'])"
   ]
  },
  {
   "cell_type": "markdown",
   "metadata": {},
   "source": [
    "Корреляция показывает, что в Санкт-Петербурге чем (больше хата с краю) дальше от центра, тем ниже цена, но зависимость слабая."
   ]
  },
  {
   "cell_type": "markdown",
   "metadata": {},
   "source": [
    "### Общий вывод"
   ]
  },
  {
   "cell_type": "markdown",
   "metadata": {},
   "source": [
    "<br>Отмечается значительный пик количества объявлений о продаже квартир около 45 кв метров. (стандартная площадь 2ух комнатных квартир около 45 кв.м.)\n",
    "<br>Наиболее популярная площадь кухни около 10 кв.м\n",
    "<br>Согласно данным в большинстве квартиры стоят от 3 млн.рублей до 7 млн.рублей\n",
    "<br>Наиболее популярные объявления о продаже однокомнатных и двухкомнатных квартир.\n",
    "<br>Самая часто встречающаяся высота потолков стандартные 2,6 - 2,7 м\n",
    "<br>Самые популярные этажи для России до 5 этажа\n",
    "<br>Соотношение объявлений о продаже квартир на первом и последнем этаже приблизительно равны.\n",
    "<br>Самые популярные дома для России это безусловно пяти и девятиэтажки. \n",
    "<br>Наибольшее количество квартир находятся на расстоянии от 10 до 17 км от центра города.\n",
    "<br>Наибольшее количество квартир находятся на расстоянии от 10 до 35 км от ближайшего аэропорта.\n",
    "<br>Практически все квартиры находятся на расстоянии 500 м от парков.\n",
    "<br>Наиболее часто люди задумываются о продаже квартир в конце зимы и начале весны, а летом и в начале осени им не до продажи квартир. в октябре ноябре предложение квартир увеличивается, однако на новогодние праздники сильно снижается. \n",
    "<br>в среднем квартиры продаются за 50 - 200 дней. среднее значение времени продажи квартир 178 дней, медианное значение 94 дня. быстрыми продажи можно считать до 44 дней, необычно долгими более 226 дней.\n",
    "<br>ежегодно стоимость с 14 по 18 год уменьшалась, это связано с тем, что со временем данный сервис становится более популярен в небольших городах, где стоимость квартир меньше, о чем говорит количество объявлений, в 2019 году скорее всего не за полный год данные.\n",
    "<br>В Выходные дни реже появляются объявления о продаже квартир. Вероятно, что большую часть объявлений выкладывают агенты по продаже квартир, у которых выходные в сб и вс\n",
    "<br>Согласно полученным данным квартиры на первом этаже дешевле, а вот на последнем не значительно дешевле, чем на других этажах.\n",
    "<br>Корреляция показывает, что в Санкт-Петербурге чем дальше от центра, тем ниже цена."
   ]
  }
 ],
 "metadata": {
  "ExecuteTimeLog": [
   {
    "duration": 636,
    "start_time": "2022-10-02T03:49:37.230Z"
   },
   {
    "duration": 85,
    "start_time": "2022-10-02T03:50:13.440Z"
   },
   {
    "duration": 39,
    "start_time": "2022-10-02T03:52:25.455Z"
   },
   {
    "duration": 116,
    "start_time": "2022-10-02T03:52:37.027Z"
   },
   {
    "duration": 105,
    "start_time": "2022-10-02T03:53:21.551Z"
   },
   {
    "duration": 13,
    "start_time": "2022-10-02T03:54:16.839Z"
   },
   {
    "duration": 2028,
    "start_time": "2022-10-02T03:56:41.844Z"
   },
   {
    "duration": 1862,
    "start_time": "2022-10-02T03:57:17.964Z"
   },
   {
    "duration": 1971,
    "start_time": "2022-10-02T03:57:47.414Z"
   },
   {
    "duration": 1728,
    "start_time": "2022-10-02T03:57:57.215Z"
   },
   {
    "duration": 59,
    "start_time": "2022-10-02T04:03:47.822Z"
   },
   {
    "duration": 11,
    "start_time": "2022-10-02T04:33:34.907Z"
   },
   {
    "duration": 5,
    "start_time": "2022-10-02T04:39:26.668Z"
   },
   {
    "duration": 10,
    "start_time": "2022-10-02T04:40:57.521Z"
   },
   {
    "duration": 7,
    "start_time": "2022-10-02T04:41:14.943Z"
   },
   {
    "duration": 10,
    "start_time": "2022-10-02T04:46:51.241Z"
   },
   {
    "duration": 10,
    "start_time": "2022-10-02T04:47:05.815Z"
   },
   {
    "duration": 12,
    "start_time": "2022-10-02T04:47:08.636Z"
   },
   {
    "duration": 18,
    "start_time": "2022-10-02T04:47:23.331Z"
   },
   {
    "duration": 8,
    "start_time": "2022-10-02T04:49:02.518Z"
   },
   {
    "duration": 9,
    "start_time": "2022-10-02T04:49:10.839Z"
   },
   {
    "duration": 7,
    "start_time": "2022-10-02T04:49:47.420Z"
   },
   {
    "duration": 3,
    "start_time": "2022-10-02T04:50:55.786Z"
   },
   {
    "duration": 20,
    "start_time": "2022-10-02T04:51:18.318Z"
   },
   {
    "duration": 37,
    "start_time": "2022-10-02T04:52:10.914Z"
   },
   {
    "duration": 31,
    "start_time": "2022-10-02T04:52:41.289Z"
   },
   {
    "duration": 31,
    "start_time": "2022-10-02T04:55:55.876Z"
   },
   {
    "duration": 6,
    "start_time": "2022-10-02T05:03:32.908Z"
   },
   {
    "duration": 5,
    "start_time": "2022-10-02T05:07:22.290Z"
   },
   {
    "duration": 5,
    "start_time": "2022-10-02T05:07:36.217Z"
   },
   {
    "duration": 14,
    "start_time": "2022-10-02T05:08:43.899Z"
   },
   {
    "duration": 4,
    "start_time": "2022-10-02T05:08:55.049Z"
   },
   {
    "duration": 25,
    "start_time": "2022-10-02T05:09:19.840Z"
   },
   {
    "duration": 25,
    "start_time": "2022-10-02T05:09:24.165Z"
   },
   {
    "duration": 3,
    "start_time": "2022-10-02T05:11:18.889Z"
   },
   {
    "duration": 72,
    "start_time": "2022-10-02T05:14:07.081Z"
   },
   {
    "duration": 11,
    "start_time": "2022-10-02T05:27:15.174Z"
   },
   {
    "duration": 9,
    "start_time": "2022-10-02T05:27:29.430Z"
   },
   {
    "duration": 9,
    "start_time": "2022-10-02T05:28:38.267Z"
   },
   {
    "duration": 11,
    "start_time": "2022-10-02T05:28:59.785Z"
   },
   {
    "duration": 19,
    "start_time": "2022-10-02T05:29:52.198Z"
   },
   {
    "duration": 18,
    "start_time": "2022-10-02T05:30:38.740Z"
   },
   {
    "duration": 17,
    "start_time": "2022-10-02T05:30:57.259Z"
   },
   {
    "duration": 17,
    "start_time": "2022-10-02T05:31:02.524Z"
   },
   {
    "duration": 17,
    "start_time": "2022-10-02T05:31:19.082Z"
   },
   {
    "duration": 18,
    "start_time": "2022-10-02T05:31:24.163Z"
   },
   {
    "duration": 18,
    "start_time": "2022-10-02T05:31:27.947Z"
   },
   {
    "duration": 17,
    "start_time": "2022-10-02T05:32:16.139Z"
   },
   {
    "duration": 17,
    "start_time": "2022-10-02T05:33:35.940Z"
   },
   {
    "duration": 20,
    "start_time": "2022-10-02T05:33:55.517Z"
   },
   {
    "duration": 19,
    "start_time": "2022-10-02T05:34:15.922Z"
   },
   {
    "duration": 16,
    "start_time": "2022-10-02T05:35:03.319Z"
   },
   {
    "duration": 18,
    "start_time": "2022-10-02T05:35:28.154Z"
   },
   {
    "duration": 48,
    "start_time": "2022-10-02T05:43:30.583Z"
   },
   {
    "duration": 949,
    "start_time": "2022-10-02T05:43:41.292Z"
   },
   {
    "duration": 6,
    "start_time": "2022-10-02T05:44:59.591Z"
   },
   {
    "duration": 11,
    "start_time": "2022-10-02T05:45:54.154Z"
   },
   {
    "duration": 10,
    "start_time": "2022-10-02T05:46:03.721Z"
   },
   {
    "duration": 18,
    "start_time": "2022-10-02T05:46:04.581Z"
   },
   {
    "duration": 17,
    "start_time": "2022-10-02T05:46:08.297Z"
   },
   {
    "duration": 19,
    "start_time": "2022-10-02T05:46:26.264Z"
   },
   {
    "duration": 6,
    "start_time": "2022-10-02T05:52:34.420Z"
   },
   {
    "duration": 5,
    "start_time": "2022-10-02T05:53:10.321Z"
   },
   {
    "duration": 8,
    "start_time": "2022-10-02T05:54:02.292Z"
   },
   {
    "duration": 17,
    "start_time": "2022-10-02T05:54:59.286Z"
   },
   {
    "duration": 13,
    "start_time": "2022-10-02T06:14:56.183Z"
   },
   {
    "duration": 50,
    "start_time": "2022-10-02T06:15:13.261Z"
   },
   {
    "duration": 71,
    "start_time": "2022-10-02T06:15:33.121Z"
   },
   {
    "duration": 80,
    "start_time": "2022-10-02T06:17:28.646Z"
   },
   {
    "duration": 78,
    "start_time": "2022-10-02T06:22:09.547Z"
   },
   {
    "duration": 76,
    "start_time": "2022-10-02T06:22:38.445Z"
   },
   {
    "duration": 84,
    "start_time": "2022-10-02T06:23:32.250Z"
   },
   {
    "duration": 87,
    "start_time": "2022-10-02T06:23:42.959Z"
   },
   {
    "duration": 82,
    "start_time": "2022-10-02T06:24:37.382Z"
   },
   {
    "duration": 88,
    "start_time": "2022-10-02T06:24:45.538Z"
   },
   {
    "duration": 1389,
    "start_time": "2022-10-02T06:27:08.444Z"
   },
   {
    "duration": 7,
    "start_time": "2022-10-02T06:27:20.924Z"
   },
   {
    "duration": 6,
    "start_time": "2022-10-02T06:27:41.627Z"
   },
   {
    "duration": 7,
    "start_time": "2022-10-02T06:27:46.798Z"
   },
   {
    "duration": 6,
    "start_time": "2022-10-02T06:27:55.339Z"
   },
   {
    "duration": 7,
    "start_time": "2022-10-02T06:28:19.104Z"
   },
   {
    "duration": 78,
    "start_time": "2022-10-02T06:28:39.678Z"
   },
   {
    "duration": 4,
    "start_time": "2022-10-02T06:28:46.776Z"
   },
   {
    "duration": 74,
    "start_time": "2022-10-02T06:29:24.795Z"
   },
   {
    "duration": 5,
    "start_time": "2022-10-02T06:29:28.733Z"
   },
   {
    "duration": 7,
    "start_time": "2022-10-02T06:30:07.539Z"
   },
   {
    "duration": 12,
    "start_time": "2022-10-02T06:48:53.020Z"
   },
   {
    "duration": 7,
    "start_time": "2022-10-02T06:49:30.334Z"
   },
   {
    "duration": 7,
    "start_time": "2022-10-02T06:50:14.201Z"
   },
   {
    "duration": 9,
    "start_time": "2022-10-02T06:50:22.101Z"
   },
   {
    "duration": 7,
    "start_time": "2022-10-02T06:50:51.612Z"
   },
   {
    "duration": 5,
    "start_time": "2022-10-02T06:51:00.492Z"
   },
   {
    "duration": 116,
    "start_time": "2022-10-02T06:51:08.699Z"
   },
   {
    "duration": 14,
    "start_time": "2022-10-02T06:51:08.911Z"
   },
   {
    "duration": 1966,
    "start_time": "2022-10-02T06:51:09.275Z"
   },
   {
    "duration": 9,
    "start_time": "2022-10-02T06:51:11.243Z"
   },
   {
    "duration": 7,
    "start_time": "2022-10-02T06:51:14.055Z"
   },
   {
    "duration": 27,
    "start_time": "2022-10-02T06:51:15.599Z"
   },
   {
    "duration": 27,
    "start_time": "2022-10-02T06:51:17.424Z"
   },
   {
    "duration": 6,
    "start_time": "2022-10-02T06:51:19.142Z"
   },
   {
    "duration": 6,
    "start_time": "2022-10-02T06:51:19.649Z"
   },
   {
    "duration": 11,
    "start_time": "2022-10-02T06:51:23.050Z"
   },
   {
    "duration": 20,
    "start_time": "2022-10-02T06:51:25.401Z"
   },
   {
    "duration": 17,
    "start_time": "2022-10-02T06:51:26.453Z"
   },
   {
    "duration": 87,
    "start_time": "2022-10-02T06:51:27.515Z"
   },
   {
    "duration": 5,
    "start_time": "2022-10-02T06:51:28.992Z"
   },
   {
    "duration": 8,
    "start_time": "2022-10-02T06:51:30.016Z"
   },
   {
    "duration": 8,
    "start_time": "2022-10-02T06:51:33.388Z"
   },
   {
    "duration": 7,
    "start_time": "2022-10-02T06:52:00.894Z"
   },
   {
    "duration": 6,
    "start_time": "2022-10-02T06:52:05.626Z"
   },
   {
    "duration": 88,
    "start_time": "2022-10-02T06:52:09.519Z"
   },
   {
    "duration": 6,
    "start_time": "2022-10-02T06:52:10.389Z"
   },
   {
    "duration": 6,
    "start_time": "2022-10-02T06:52:10.974Z"
   },
   {
    "duration": 111,
    "start_time": "2022-10-02T06:52:25.032Z"
   },
   {
    "duration": 18,
    "start_time": "2022-10-02T06:52:25.295Z"
   },
   {
    "duration": 1982,
    "start_time": "2022-10-02T06:52:25.785Z"
   },
   {
    "duration": 11,
    "start_time": "2022-10-02T06:52:27.769Z"
   },
   {
    "duration": 6,
    "start_time": "2022-10-02T06:52:27.782Z"
   },
   {
    "duration": 26,
    "start_time": "2022-10-02T06:52:28.111Z"
   },
   {
    "duration": 27,
    "start_time": "2022-10-02T06:52:29.451Z"
   },
   {
    "duration": 7,
    "start_time": "2022-10-02T06:52:30.566Z"
   },
   {
    "duration": 6,
    "start_time": "2022-10-02T06:52:30.761Z"
   },
   {
    "duration": 11,
    "start_time": "2022-10-02T06:52:31.646Z"
   },
   {
    "duration": 21,
    "start_time": "2022-10-02T06:52:33.215Z"
   },
   {
    "duration": 15,
    "start_time": "2022-10-02T06:52:33.806Z"
   },
   {
    "duration": 88,
    "start_time": "2022-10-02T06:52:34.156Z"
   },
   {
    "duration": 6,
    "start_time": "2022-10-02T06:52:34.400Z"
   },
   {
    "duration": 9,
    "start_time": "2022-10-02T06:52:36.031Z"
   },
   {
    "duration": 10,
    "start_time": "2022-10-02T06:53:07.037Z"
   },
   {
    "duration": 10,
    "start_time": "2022-10-02T06:54:05.195Z"
   },
   {
    "duration": 9,
    "start_time": "2022-10-02T06:54:26.904Z"
   },
   {
    "duration": 10,
    "start_time": "2022-10-02T06:54:34.782Z"
   },
   {
    "duration": 7,
    "start_time": "2022-10-02T06:54:48.218Z"
   },
   {
    "duration": 17,
    "start_time": "2022-10-02T06:54:52.303Z"
   },
   {
    "duration": 91,
    "start_time": "2022-10-02T06:54:52.687Z"
   },
   {
    "duration": 5,
    "start_time": "2022-10-02T06:54:52.900Z"
   },
   {
    "duration": 7,
    "start_time": "2022-10-02T06:54:53.088Z"
   },
   {
    "duration": 7,
    "start_time": "2022-10-02T06:54:53.321Z"
   },
   {
    "duration": 112,
    "start_time": "2022-10-02T06:55:02.263Z"
   },
   {
    "duration": 14,
    "start_time": "2022-10-02T06:55:02.756Z"
   },
   {
    "duration": 2064,
    "start_time": "2022-10-02T06:55:03.252Z"
   },
   {
    "duration": 13,
    "start_time": "2022-10-02T06:55:05.318Z"
   },
   {
    "duration": 10,
    "start_time": "2022-10-02T06:55:05.334Z"
   },
   {
    "duration": 50,
    "start_time": "2022-10-02T06:55:05.346Z"
   },
   {
    "duration": 28,
    "start_time": "2022-10-02T06:55:05.398Z"
   },
   {
    "duration": 5,
    "start_time": "2022-10-02T06:55:06.495Z"
   },
   {
    "duration": 5,
    "start_time": "2022-10-02T06:55:06.871Z"
   },
   {
    "duration": 13,
    "start_time": "2022-10-02T06:55:07.709Z"
   },
   {
    "duration": 20,
    "start_time": "2022-10-02T06:55:08.931Z"
   },
   {
    "duration": 17,
    "start_time": "2022-10-02T06:55:09.619Z"
   },
   {
    "duration": 88,
    "start_time": "2022-10-02T06:55:09.990Z"
   },
   {
    "duration": 7,
    "start_time": "2022-10-02T06:55:10.416Z"
   },
   {
    "duration": 8,
    "start_time": "2022-10-02T06:55:10.961Z"
   },
   {
    "duration": 7,
    "start_time": "2022-10-02T06:55:25.611Z"
   },
   {
    "duration": 8,
    "start_time": "2022-10-02T06:56:36.532Z"
   },
   {
    "duration": 10,
    "start_time": "2022-10-02T06:57:06.693Z"
   },
   {
    "duration": 8,
    "start_time": "2022-10-02T06:57:11.446Z"
   },
   {
    "duration": 6,
    "start_time": "2022-10-02T06:57:15.958Z"
   },
   {
    "duration": 9,
    "start_time": "2022-10-02T06:57:18.147Z"
   },
   {
    "duration": 53,
    "start_time": "2022-10-02T06:59:00.551Z"
   },
   {
    "duration": 490,
    "start_time": "2022-10-02T06:59:15.608Z"
   },
   {
    "duration": 14,
    "start_time": "2022-10-02T06:59:16.100Z"
   },
   {
    "duration": 2137,
    "start_time": "2022-10-02T06:59:16.115Z"
   },
   {
    "duration": 8,
    "start_time": "2022-10-02T06:59:18.254Z"
   },
   {
    "duration": 6,
    "start_time": "2022-10-02T06:59:18.265Z"
   },
   {
    "duration": 26,
    "start_time": "2022-10-02T06:59:18.273Z"
   },
   {
    "duration": 25,
    "start_time": "2022-10-02T06:59:18.301Z"
   },
   {
    "duration": 5,
    "start_time": "2022-10-02T06:59:18.327Z"
   },
   {
    "duration": 14,
    "start_time": "2022-10-02T06:59:18.334Z"
   },
   {
    "duration": 36,
    "start_time": "2022-10-02T06:59:18.349Z"
   },
   {
    "duration": 21,
    "start_time": "2022-10-02T06:59:18.387Z"
   },
   {
    "duration": 16,
    "start_time": "2022-10-02T06:59:18.409Z"
   },
   {
    "duration": 116,
    "start_time": "2022-10-02T06:59:18.426Z"
   },
   {
    "duration": 5,
    "start_time": "2022-10-02T06:59:18.544Z"
   },
   {
    "duration": 8,
    "start_time": "2022-10-02T06:59:18.551Z"
   },
   {
    "duration": 13,
    "start_time": "2022-10-02T06:59:18.577Z"
   },
   {
    "duration": 5,
    "start_time": "2022-10-02T06:59:18.592Z"
   },
   {
    "duration": 13,
    "start_time": "2022-10-02T06:59:18.599Z"
   },
   {
    "duration": 9,
    "start_time": "2022-10-02T06:59:18.613Z"
   },
   {
    "duration": 7,
    "start_time": "2022-10-02T06:59:18.623Z"
   },
   {
    "duration": 7,
    "start_time": "2022-10-02T07:02:00.618Z"
   },
   {
    "duration": 524,
    "start_time": "2022-10-02T07:02:13.805Z"
   },
   {
    "duration": 15,
    "start_time": "2022-10-02T07:02:14.331Z"
   },
   {
    "duration": 2311,
    "start_time": "2022-10-02T07:02:14.349Z"
   },
   {
    "duration": 10,
    "start_time": "2022-10-02T07:02:16.663Z"
   },
   {
    "duration": 7,
    "start_time": "2022-10-02T07:02:16.675Z"
   },
   {
    "duration": 27,
    "start_time": "2022-10-02T07:02:16.684Z"
   },
   {
    "duration": 26,
    "start_time": "2022-10-02T07:02:16.713Z"
   },
   {
    "duration": 5,
    "start_time": "2022-10-02T07:02:16.740Z"
   },
   {
    "duration": 31,
    "start_time": "2022-10-02T07:02:16.746Z"
   },
   {
    "duration": 12,
    "start_time": "2022-10-02T07:02:16.779Z"
   },
   {
    "duration": 20,
    "start_time": "2022-10-02T07:02:16.793Z"
   },
   {
    "duration": 16,
    "start_time": "2022-10-02T07:02:16.814Z"
   },
   {
    "duration": 126,
    "start_time": "2022-10-02T07:02:16.831Z"
   },
   {
    "duration": 6,
    "start_time": "2022-10-02T07:02:16.958Z"
   },
   {
    "duration": 8,
    "start_time": "2022-10-02T07:02:16.976Z"
   },
   {
    "duration": 17,
    "start_time": "2022-10-02T07:02:16.986Z"
   },
   {
    "duration": 6,
    "start_time": "2022-10-02T07:02:17.005Z"
   },
   {
    "duration": 10,
    "start_time": "2022-10-02T07:02:17.012Z"
   },
   {
    "duration": 7,
    "start_time": "2022-10-02T07:02:17.024Z"
   },
   {
    "duration": 9,
    "start_time": "2022-10-02T07:02:17.032Z"
   },
   {
    "duration": 8,
    "start_time": "2022-10-02T07:02:36.807Z"
   },
   {
    "duration": 545,
    "start_time": "2022-10-02T07:02:44.464Z"
   },
   {
    "duration": 15,
    "start_time": "2022-10-02T07:02:45.011Z"
   },
   {
    "duration": 2285,
    "start_time": "2022-10-02T07:02:45.027Z"
   },
   {
    "duration": 10,
    "start_time": "2022-10-02T07:02:47.314Z"
   },
   {
    "duration": 7,
    "start_time": "2022-10-02T07:02:47.326Z"
   },
   {
    "duration": 27,
    "start_time": "2022-10-02T07:02:47.334Z"
   },
   {
    "duration": 31,
    "start_time": "2022-10-02T07:02:47.363Z"
   },
   {
    "duration": 5,
    "start_time": "2022-10-02T07:02:47.396Z"
   },
   {
    "duration": 15,
    "start_time": "2022-10-02T07:02:47.403Z"
   },
   {
    "duration": 27,
    "start_time": "2022-10-02T07:02:47.419Z"
   },
   {
    "duration": 21,
    "start_time": "2022-10-02T07:02:47.447Z"
   },
   {
    "duration": 20,
    "start_time": "2022-10-02T07:02:47.469Z"
   },
   {
    "duration": 101,
    "start_time": "2022-10-02T07:02:47.492Z"
   },
   {
    "duration": 5,
    "start_time": "2022-10-02T07:02:47.596Z"
   },
   {
    "duration": 17,
    "start_time": "2022-10-02T07:02:47.603Z"
   },
   {
    "duration": 13,
    "start_time": "2022-10-02T07:02:47.622Z"
   },
   {
    "duration": 12,
    "start_time": "2022-10-02T07:02:47.637Z"
   },
   {
    "duration": 19,
    "start_time": "2022-10-02T07:02:47.651Z"
   },
   {
    "duration": 6,
    "start_time": "2022-10-02T07:02:47.672Z"
   },
   {
    "duration": 6,
    "start_time": "2022-10-02T07:02:47.679Z"
   },
   {
    "duration": 31,
    "start_time": "2022-10-02T07:04:51.124Z"
   },
   {
    "duration": 528,
    "start_time": "2022-10-02T07:04:56.286Z"
   },
   {
    "duration": 14,
    "start_time": "2022-10-02T07:04:56.819Z"
   },
   {
    "duration": 2157,
    "start_time": "2022-10-02T07:04:56.835Z"
   },
   {
    "duration": 10,
    "start_time": "2022-10-02T07:04:58.994Z"
   },
   {
    "duration": 24,
    "start_time": "2022-10-02T07:04:59.005Z"
   },
   {
    "duration": 37,
    "start_time": "2022-10-02T07:04:59.030Z"
   },
   {
    "duration": 26,
    "start_time": "2022-10-02T07:04:59.068Z"
   },
   {
    "duration": 5,
    "start_time": "2022-10-02T07:04:59.095Z"
   },
   {
    "duration": 14,
    "start_time": "2022-10-02T07:04:59.102Z"
   },
   {
    "duration": 27,
    "start_time": "2022-10-02T07:04:59.119Z"
   },
   {
    "duration": 21,
    "start_time": "2022-10-02T07:04:59.148Z"
   },
   {
    "duration": 17,
    "start_time": "2022-10-02T07:04:59.171Z"
   },
   {
    "duration": 109,
    "start_time": "2022-10-02T07:04:59.190Z"
   },
   {
    "duration": 5,
    "start_time": "2022-10-02T07:04:59.300Z"
   },
   {
    "duration": 22,
    "start_time": "2022-10-02T07:04:59.306Z"
   },
   {
    "duration": 38,
    "start_time": "2022-10-02T07:04:59.330Z"
   },
   {
    "duration": 6,
    "start_time": "2022-10-02T07:04:59.370Z"
   },
   {
    "duration": 18,
    "start_time": "2022-10-02T07:04:59.378Z"
   },
   {
    "duration": 19,
    "start_time": "2022-10-02T07:04:59.397Z"
   },
   {
    "duration": 30,
    "start_time": "2022-10-02T07:04:59.418Z"
   },
   {
    "duration": 27,
    "start_time": "2022-10-02T07:06:21.787Z"
   },
   {
    "duration": 8,
    "start_time": "2022-10-02T07:06:26.478Z"
   },
   {
    "duration": 27,
    "start_time": "2022-10-02T07:06:48.244Z"
   },
   {
    "duration": 28,
    "start_time": "2022-10-02T07:07:07.928Z"
   },
   {
    "duration": 542,
    "start_time": "2022-10-02T07:07:45.958Z"
   },
   {
    "duration": 16,
    "start_time": "2022-10-02T07:07:46.503Z"
   },
   {
    "duration": 2219,
    "start_time": "2022-10-02T07:07:46.521Z"
   },
   {
    "duration": 10,
    "start_time": "2022-10-02T07:07:48.742Z"
   },
   {
    "duration": 8,
    "start_time": "2022-10-02T07:07:48.754Z"
   },
   {
    "duration": 27,
    "start_time": "2022-10-02T07:07:48.764Z"
   },
   {
    "duration": 24,
    "start_time": "2022-10-02T07:07:48.792Z"
   },
   {
    "duration": 5,
    "start_time": "2022-10-02T07:07:48.818Z"
   },
   {
    "duration": 10,
    "start_time": "2022-10-02T07:07:48.824Z"
   },
   {
    "duration": 18,
    "start_time": "2022-10-02T07:07:48.836Z"
   },
   {
    "duration": 34,
    "start_time": "2022-10-02T07:07:48.855Z"
   },
   {
    "duration": 15,
    "start_time": "2022-10-02T07:07:48.890Z"
   },
   {
    "duration": 107,
    "start_time": "2022-10-02T07:07:48.907Z"
   },
   {
    "duration": 4,
    "start_time": "2022-10-02T07:07:49.016Z"
   },
   {
    "duration": 6,
    "start_time": "2022-10-02T07:07:49.022Z"
   },
   {
    "duration": 917,
    "start_time": "2022-10-02T07:07:49.030Z"
   },
   {
    "duration": 0,
    "start_time": "2022-10-02T07:07:49.949Z"
   },
   {
    "duration": 0,
    "start_time": "2022-10-02T07:07:49.950Z"
   },
   {
    "duration": 0,
    "start_time": "2022-10-02T07:07:49.952Z"
   },
   {
    "duration": 0,
    "start_time": "2022-10-02T07:07:49.953Z"
   },
   {
    "duration": 1043,
    "start_time": "2022-10-02T07:08:03.334Z"
   },
   {
    "duration": 7,
    "start_time": "2022-10-02T07:08:32.474Z"
   },
   {
    "duration": 8,
    "start_time": "2022-10-02T07:08:45.793Z"
   },
   {
    "duration": 552,
    "start_time": "2022-10-02T07:09:56.854Z"
   },
   {
    "duration": 15,
    "start_time": "2022-10-02T07:09:57.408Z"
   },
   {
    "duration": 2153,
    "start_time": "2022-10-02T07:09:57.424Z"
   },
   {
    "duration": 13,
    "start_time": "2022-10-02T07:09:59.579Z"
   },
   {
    "duration": 7,
    "start_time": "2022-10-02T07:09:59.595Z"
   },
   {
    "duration": 27,
    "start_time": "2022-10-02T07:09:59.603Z"
   },
   {
    "duration": 55,
    "start_time": "2022-10-02T07:09:59.631Z"
   },
   {
    "duration": 5,
    "start_time": "2022-10-02T07:09:59.688Z"
   },
   {
    "duration": 7,
    "start_time": "2022-10-02T07:09:59.694Z"
   },
   {
    "duration": 12,
    "start_time": "2022-10-02T07:09:59.702Z"
   },
   {
    "duration": 19,
    "start_time": "2022-10-02T07:09:59.716Z"
   },
   {
    "duration": 49,
    "start_time": "2022-10-02T07:09:59.736Z"
   },
   {
    "duration": 105,
    "start_time": "2022-10-02T07:09:59.786Z"
   },
   {
    "duration": 5,
    "start_time": "2022-10-02T07:09:59.895Z"
   },
   {
    "duration": 8,
    "start_time": "2022-10-02T07:09:59.901Z"
   },
   {
    "duration": 8,
    "start_time": "2022-10-02T07:09:59.911Z"
   },
   {
    "duration": 5,
    "start_time": "2022-10-02T07:09:59.920Z"
   },
   {
    "duration": 11,
    "start_time": "2022-10-02T07:09:59.927Z"
   },
   {
    "duration": 7,
    "start_time": "2022-10-02T07:09:59.939Z"
   },
   {
    "duration": 33,
    "start_time": "2022-10-02T07:09:59.947Z"
   },
   {
    "duration": 3,
    "start_time": "2022-10-02T07:14:03.045Z"
   },
   {
    "duration": 14,
    "start_time": "2022-10-02T07:15:20.612Z"
   },
   {
    "duration": 15,
    "start_time": "2022-10-02T07:15:29.631Z"
   },
   {
    "duration": 98,
    "start_time": "2022-10-02T07:16:08.581Z"
   },
   {
    "duration": 20,
    "start_time": "2022-10-02T07:17:29.706Z"
   },
   {
    "duration": 25,
    "start_time": "2022-10-02T07:17:42.061Z"
   },
   {
    "duration": 32,
    "start_time": "2022-10-02T07:17:55.460Z"
   },
   {
    "duration": 27,
    "start_time": "2022-10-02T07:18:18.459Z"
   },
   {
    "duration": 28,
    "start_time": "2022-10-02T07:18:56.730Z"
   },
   {
    "duration": 21,
    "start_time": "2022-10-02T07:19:21.297Z"
   },
   {
    "duration": 30,
    "start_time": "2022-10-02T07:19:27.237Z"
   },
   {
    "duration": 20,
    "start_time": "2022-10-02T07:19:34.420Z"
   },
   {
    "duration": 17,
    "start_time": "2022-10-02T07:23:30.042Z"
   },
   {
    "duration": 554,
    "start_time": "2022-10-02T07:23:54.453Z"
   },
   {
    "duration": 15,
    "start_time": "2022-10-02T07:23:55.009Z"
   },
   {
    "duration": 2355,
    "start_time": "2022-10-02T07:23:55.025Z"
   },
   {
    "duration": 9,
    "start_time": "2022-10-02T07:23:57.383Z"
   },
   {
    "duration": 7,
    "start_time": "2022-10-02T07:23:57.393Z"
   },
   {
    "duration": 27,
    "start_time": "2022-10-02T07:23:57.401Z"
   },
   {
    "duration": 48,
    "start_time": "2022-10-02T07:23:57.429Z"
   },
   {
    "duration": 6,
    "start_time": "2022-10-02T07:23:57.478Z"
   },
   {
    "duration": 6,
    "start_time": "2022-10-02T07:23:57.486Z"
   },
   {
    "duration": 12,
    "start_time": "2022-10-02T07:23:57.495Z"
   },
   {
    "duration": 20,
    "start_time": "2022-10-02T07:23:57.509Z"
   },
   {
    "duration": 16,
    "start_time": "2022-10-02T07:23:57.531Z"
   },
   {
    "duration": 129,
    "start_time": "2022-10-02T07:23:57.548Z"
   },
   {
    "duration": 6,
    "start_time": "2022-10-02T07:23:57.678Z"
   },
   {
    "duration": 7,
    "start_time": "2022-10-02T07:23:57.685Z"
   },
   {
    "duration": 20,
    "start_time": "2022-10-02T07:23:57.693Z"
   },
   {
    "duration": 7,
    "start_time": "2022-10-02T07:23:57.714Z"
   },
   {
    "duration": 8,
    "start_time": "2022-10-02T07:23:57.723Z"
   },
   {
    "duration": 45,
    "start_time": "2022-10-02T07:23:57.732Z"
   },
   {
    "duration": 5,
    "start_time": "2022-10-02T07:23:57.779Z"
   },
   {
    "duration": 21,
    "start_time": "2022-10-02T07:29:11.982Z"
   },
   {
    "duration": 7,
    "start_time": "2022-10-02T07:29:55.618Z"
   },
   {
    "duration": 8,
    "start_time": "2022-10-02T07:30:11.792Z"
   },
   {
    "duration": 5,
    "start_time": "2022-10-02T07:30:27.879Z"
   },
   {
    "duration": 4,
    "start_time": "2022-10-02T07:30:57.641Z"
   },
   {
    "duration": 7,
    "start_time": "2022-10-02T07:31:03.436Z"
   },
   {
    "duration": 7,
    "start_time": "2022-10-02T07:31:21.216Z"
   },
   {
    "duration": 7,
    "start_time": "2022-10-02T07:31:29.678Z"
   },
   {
    "duration": 483,
    "start_time": "2022-10-02T07:31:33.816Z"
   },
   {
    "duration": 13,
    "start_time": "2022-10-02T07:31:34.301Z"
   },
   {
    "duration": 2256,
    "start_time": "2022-10-02T07:31:34.316Z"
   },
   {
    "duration": 11,
    "start_time": "2022-10-02T07:31:36.575Z"
   },
   {
    "duration": 13,
    "start_time": "2022-10-02T07:31:36.589Z"
   },
   {
    "duration": 34,
    "start_time": "2022-10-02T07:31:36.604Z"
   },
   {
    "duration": 30,
    "start_time": "2022-10-02T07:31:36.640Z"
   },
   {
    "duration": 6,
    "start_time": "2022-10-02T07:31:36.677Z"
   },
   {
    "duration": 9,
    "start_time": "2022-10-02T07:31:36.684Z"
   },
   {
    "duration": 20,
    "start_time": "2022-10-02T07:31:36.695Z"
   },
   {
    "duration": 20,
    "start_time": "2022-10-02T07:31:36.717Z"
   },
   {
    "duration": 15,
    "start_time": "2022-10-02T07:31:36.738Z"
   },
   {
    "duration": 109,
    "start_time": "2022-10-02T07:31:36.754Z"
   },
   {
    "duration": 14,
    "start_time": "2022-10-02T07:31:36.865Z"
   },
   {
    "duration": 13,
    "start_time": "2022-10-02T07:31:36.881Z"
   },
   {
    "duration": 23,
    "start_time": "2022-10-02T07:31:36.895Z"
   },
   {
    "duration": 8,
    "start_time": "2022-10-02T07:31:36.920Z"
   },
   {
    "duration": 24,
    "start_time": "2022-10-02T07:31:36.930Z"
   },
   {
    "duration": 9,
    "start_time": "2022-10-02T07:31:36.956Z"
   },
   {
    "duration": 5,
    "start_time": "2022-10-02T07:31:36.976Z"
   },
   {
    "duration": 72,
    "start_time": "2022-10-02T07:32:07.157Z"
   },
   {
    "duration": 7,
    "start_time": "2022-10-02T07:32:27.640Z"
   },
   {
    "duration": 118,
    "start_time": "2022-10-02T07:33:07.540Z"
   },
   {
    "duration": 14,
    "start_time": "2022-10-02T07:33:08.084Z"
   },
   {
    "duration": 1912,
    "start_time": "2022-10-02T07:33:08.536Z"
   },
   {
    "duration": 11,
    "start_time": "2022-10-02T07:33:10.450Z"
   },
   {
    "duration": 19,
    "start_time": "2022-10-02T07:33:10.462Z"
   },
   {
    "duration": 28,
    "start_time": "2022-10-02T07:33:12.068Z"
   },
   {
    "duration": 29,
    "start_time": "2022-10-02T07:33:13.636Z"
   },
   {
    "duration": 6,
    "start_time": "2022-10-02T07:33:15.490Z"
   },
   {
    "duration": 6,
    "start_time": "2022-10-02T07:33:16.396Z"
   },
   {
    "duration": 12,
    "start_time": "2022-10-02T07:33:18.093Z"
   },
   {
    "duration": 22,
    "start_time": "2022-10-02T07:33:19.471Z"
   },
   {
    "duration": 15,
    "start_time": "2022-10-02T07:33:20.200Z"
   },
   {
    "duration": 92,
    "start_time": "2022-10-02T07:33:20.737Z"
   },
   {
    "duration": 6,
    "start_time": "2022-10-02T07:33:21.288Z"
   },
   {
    "duration": 9,
    "start_time": "2022-10-02T07:33:22.203Z"
   },
   {
    "duration": 21,
    "start_time": "2022-10-02T07:33:22.891Z"
   },
   {
    "duration": 8,
    "start_time": "2022-10-02T07:33:23.639Z"
   },
   {
    "duration": 8,
    "start_time": "2022-10-02T07:33:25.278Z"
   },
   {
    "duration": 6,
    "start_time": "2022-10-02T07:33:27.183Z"
   },
   {
    "duration": 6,
    "start_time": "2022-10-02T07:33:28.106Z"
   },
   {
    "duration": 14,
    "start_time": "2022-10-02T07:34:11.193Z"
   },
   {
    "duration": 7,
    "start_time": "2022-10-02T07:34:18.244Z"
   },
   {
    "duration": 14,
    "start_time": "2022-10-02T07:34:18.960Z"
   },
   {
    "duration": 505,
    "start_time": "2022-10-02T07:34:27.304Z"
   },
   {
    "duration": 15,
    "start_time": "2022-10-02T07:34:27.810Z"
   },
   {
    "duration": 2185,
    "start_time": "2022-10-02T07:34:27.827Z"
   },
   {
    "duration": 9,
    "start_time": "2022-10-02T07:34:30.015Z"
   },
   {
    "duration": 50,
    "start_time": "2022-10-02T07:34:30.026Z"
   },
   {
    "duration": 49,
    "start_time": "2022-10-02T07:34:30.078Z"
   },
   {
    "duration": 57,
    "start_time": "2022-10-02T07:34:30.128Z"
   },
   {
    "duration": 19,
    "start_time": "2022-10-02T07:34:30.187Z"
   },
   {
    "duration": 38,
    "start_time": "2022-10-02T07:34:30.208Z"
   },
   {
    "duration": 38,
    "start_time": "2022-10-02T07:34:30.249Z"
   },
   {
    "duration": 56,
    "start_time": "2022-10-02T07:34:30.290Z"
   },
   {
    "duration": 47,
    "start_time": "2022-10-02T07:34:30.347Z"
   },
   {
    "duration": 126,
    "start_time": "2022-10-02T07:34:30.396Z"
   },
   {
    "duration": 6,
    "start_time": "2022-10-02T07:34:30.523Z"
   },
   {
    "duration": 45,
    "start_time": "2022-10-02T07:34:30.530Z"
   },
   {
    "duration": 42,
    "start_time": "2022-10-02T07:34:30.577Z"
   },
   {
    "duration": 30,
    "start_time": "2022-10-02T07:34:30.621Z"
   },
   {
    "duration": 24,
    "start_time": "2022-10-02T07:34:30.653Z"
   },
   {
    "duration": 12,
    "start_time": "2022-10-02T07:34:30.679Z"
   },
   {
    "duration": 25,
    "start_time": "2022-10-02T07:34:30.694Z"
   },
   {
    "duration": 77,
    "start_time": "2022-10-02T07:36:10.091Z"
   },
   {
    "duration": 13,
    "start_time": "2022-10-02T07:36:36.001Z"
   },
   {
    "duration": 11,
    "start_time": "2022-10-02T07:36:44.252Z"
   },
   {
    "duration": 83,
    "start_time": "2022-10-02T07:37:10.106Z"
   },
   {
    "duration": 10,
    "start_time": "2022-10-02T07:37:17.154Z"
   },
   {
    "duration": 8,
    "start_time": "2022-10-02T07:37:53.994Z"
   },
   {
    "duration": 8,
    "start_time": "2022-10-02T07:38:25.400Z"
   },
   {
    "duration": 6,
    "start_time": "2022-10-02T07:38:42.155Z"
   },
   {
    "duration": 525,
    "start_time": "2022-10-02T07:38:49.810Z"
   },
   {
    "duration": 14,
    "start_time": "2022-10-02T07:38:50.337Z"
   },
   {
    "duration": 2212,
    "start_time": "2022-10-02T07:38:50.353Z"
   },
   {
    "duration": 11,
    "start_time": "2022-10-02T07:38:52.568Z"
   },
   {
    "duration": 8,
    "start_time": "2022-10-02T07:38:52.581Z"
   },
   {
    "duration": 28,
    "start_time": "2022-10-02T07:38:52.591Z"
   },
   {
    "duration": 28,
    "start_time": "2022-10-02T07:38:52.621Z"
   },
   {
    "duration": 28,
    "start_time": "2022-10-02T07:38:52.651Z"
   },
   {
    "duration": 6,
    "start_time": "2022-10-02T07:38:52.681Z"
   },
   {
    "duration": 13,
    "start_time": "2022-10-02T07:38:52.690Z"
   },
   {
    "duration": 20,
    "start_time": "2022-10-02T07:38:52.704Z"
   },
   {
    "duration": 16,
    "start_time": "2022-10-02T07:38:52.725Z"
   },
   {
    "duration": 140,
    "start_time": "2022-10-02T07:38:52.742Z"
   },
   {
    "duration": 6,
    "start_time": "2022-10-02T07:38:52.884Z"
   },
   {
    "duration": 8,
    "start_time": "2022-10-02T07:38:52.892Z"
   },
   {
    "duration": 10,
    "start_time": "2022-10-02T07:38:52.901Z"
   },
   {
    "duration": 6,
    "start_time": "2022-10-02T07:38:52.913Z"
   },
   {
    "duration": 6,
    "start_time": "2022-10-02T07:38:52.921Z"
   },
   {
    "duration": 5,
    "start_time": "2022-10-02T07:38:52.928Z"
   },
   {
    "duration": 43,
    "start_time": "2022-10-02T07:38:52.935Z"
   },
   {
    "duration": 7,
    "start_time": "2022-10-02T07:39:28.018Z"
   },
   {
    "duration": 4,
    "start_time": "2022-10-02T07:41:44.595Z"
   },
   {
    "duration": 10,
    "start_time": "2022-10-02T07:41:48.344Z"
   },
   {
    "duration": 10,
    "start_time": "2022-10-02T07:42:14.776Z"
   },
   {
    "duration": 9,
    "start_time": "2022-10-02T07:42:25.020Z"
   },
   {
    "duration": 501,
    "start_time": "2022-10-02T07:42:36.234Z"
   },
   {
    "duration": 15,
    "start_time": "2022-10-02T07:42:36.737Z"
   },
   {
    "duration": 2255,
    "start_time": "2022-10-02T07:42:36.753Z"
   },
   {
    "duration": 9,
    "start_time": "2022-10-02T07:42:39.011Z"
   },
   {
    "duration": 6,
    "start_time": "2022-10-02T07:42:39.022Z"
   },
   {
    "duration": 26,
    "start_time": "2022-10-02T07:42:39.030Z"
   },
   {
    "duration": 41,
    "start_time": "2022-10-02T07:42:39.058Z"
   },
   {
    "duration": 6,
    "start_time": "2022-10-02T07:42:39.100Z"
   },
   {
    "duration": 8,
    "start_time": "2022-10-02T07:42:39.107Z"
   },
   {
    "duration": 14,
    "start_time": "2022-10-02T07:42:39.117Z"
   },
   {
    "duration": 44,
    "start_time": "2022-10-02T07:42:39.133Z"
   },
   {
    "duration": 15,
    "start_time": "2022-10-02T07:42:39.179Z"
   },
   {
    "duration": 112,
    "start_time": "2022-10-02T07:42:39.196Z"
   },
   {
    "duration": 5,
    "start_time": "2022-10-02T07:42:39.310Z"
   },
   {
    "duration": 12,
    "start_time": "2022-10-02T07:42:39.316Z"
   },
   {
    "duration": 8,
    "start_time": "2022-10-02T07:42:39.329Z"
   },
   {
    "duration": 9,
    "start_time": "2022-10-02T07:42:39.338Z"
   },
   {
    "duration": 34,
    "start_time": "2022-10-02T07:42:39.348Z"
   },
   {
    "duration": 13,
    "start_time": "2022-10-02T07:42:39.383Z"
   },
   {
    "duration": 6,
    "start_time": "2022-10-02T07:42:39.398Z"
   },
   {
    "duration": 11,
    "start_time": "2022-10-02T07:42:54.053Z"
   },
   {
    "duration": 9,
    "start_time": "2022-10-02T07:43:58.359Z"
   },
   {
    "duration": 12,
    "start_time": "2022-10-02T07:44:16.588Z"
   },
   {
    "duration": 12,
    "start_time": "2022-10-02T07:45:29.533Z"
   },
   {
    "duration": 7,
    "start_time": "2022-10-02T07:45:34.736Z"
   },
   {
    "duration": 545,
    "start_time": "2022-10-02T07:45:47.777Z"
   },
   {
    "duration": 15,
    "start_time": "2022-10-02T07:45:48.324Z"
   },
   {
    "duration": 2151,
    "start_time": "2022-10-02T07:45:48.341Z"
   },
   {
    "duration": 10,
    "start_time": "2022-10-02T07:45:50.495Z"
   },
   {
    "duration": 12,
    "start_time": "2022-10-02T07:45:50.507Z"
   },
   {
    "duration": 54,
    "start_time": "2022-10-02T07:45:50.521Z"
   },
   {
    "duration": 35,
    "start_time": "2022-10-02T07:45:50.577Z"
   },
   {
    "duration": 6,
    "start_time": "2022-10-02T07:45:50.613Z"
   },
   {
    "duration": 18,
    "start_time": "2022-10-02T07:45:50.621Z"
   },
   {
    "duration": 14,
    "start_time": "2022-10-02T07:45:50.643Z"
   },
   {
    "duration": 26,
    "start_time": "2022-10-02T07:45:50.659Z"
   },
   {
    "duration": 16,
    "start_time": "2022-10-02T07:45:50.687Z"
   },
   {
    "duration": 123,
    "start_time": "2022-10-02T07:45:50.705Z"
   },
   {
    "duration": 6,
    "start_time": "2022-10-02T07:45:50.830Z"
   },
   {
    "duration": 9,
    "start_time": "2022-10-02T07:45:50.838Z"
   },
   {
    "duration": 30,
    "start_time": "2022-10-02T07:45:50.849Z"
   },
   {
    "duration": 7,
    "start_time": "2022-10-02T07:45:50.881Z"
   },
   {
    "duration": 10,
    "start_time": "2022-10-02T07:45:50.890Z"
   },
   {
    "duration": 5,
    "start_time": "2022-10-02T07:45:50.902Z"
   },
   {
    "duration": 7,
    "start_time": "2022-10-02T07:45:50.908Z"
   },
   {
    "duration": 13,
    "start_time": "2022-10-02T07:49:38.374Z"
   },
   {
    "duration": 7,
    "start_time": "2022-10-02T07:50:08.464Z"
   },
   {
    "duration": 9,
    "start_time": "2022-10-02T07:50:12.432Z"
   },
   {
    "duration": 5,
    "start_time": "2022-10-02T07:50:16.775Z"
   },
   {
    "duration": 8,
    "start_time": "2022-10-02T07:50:45.683Z"
   },
   {
    "duration": 13,
    "start_time": "2022-10-02T07:51:30.001Z"
   },
   {
    "duration": 45,
    "start_time": "2022-10-02T07:53:39.063Z"
   },
   {
    "duration": 40,
    "start_time": "2022-10-02T07:54:27.200Z"
   },
   {
    "duration": 8,
    "start_time": "2022-10-02T07:56:09.304Z"
   },
   {
    "duration": 7,
    "start_time": "2022-10-02T07:57:15.736Z"
   },
   {
    "duration": 38,
    "start_time": "2022-10-02T07:57:52.166Z"
   },
   {
    "duration": 16,
    "start_time": "2022-10-02T08:02:07.517Z"
   },
   {
    "duration": 14,
    "start_time": "2022-10-02T08:02:18.437Z"
   },
   {
    "duration": 7,
    "start_time": "2022-10-02T08:03:59.877Z"
   },
   {
    "duration": 40,
    "start_time": "2022-10-02T08:04:39.865Z"
   },
   {
    "duration": 48,
    "start_time": "2022-10-02T08:05:01.955Z"
   },
   {
    "duration": 39,
    "start_time": "2022-10-02T08:05:14.178Z"
   },
   {
    "duration": 38,
    "start_time": "2022-10-02T08:06:39.231Z"
   },
   {
    "duration": 44,
    "start_time": "2022-10-02T08:07:00.015Z"
   },
   {
    "duration": 8,
    "start_time": "2022-10-02T08:07:19.676Z"
   },
   {
    "duration": 91,
    "start_time": "2022-10-02T08:08:40.927Z"
   },
   {
    "duration": 6,
    "start_time": "2022-10-02T08:10:04.437Z"
   },
   {
    "duration": 14,
    "start_time": "2022-10-02T08:10:13.864Z"
   },
   {
    "duration": 6,
    "start_time": "2022-10-02T08:10:27.549Z"
   },
   {
    "duration": 5,
    "start_time": "2022-10-02T08:10:35.385Z"
   },
   {
    "duration": 6,
    "start_time": "2022-10-02T08:10:54.328Z"
   },
   {
    "duration": 32,
    "start_time": "2022-10-02T08:11:09.272Z"
   },
   {
    "duration": 7,
    "start_time": "2022-10-02T08:11:39.666Z"
   },
   {
    "duration": 7,
    "start_time": "2022-10-02T08:11:55.692Z"
   },
   {
    "duration": 7,
    "start_time": "2022-10-02T08:20:34.899Z"
   },
   {
    "duration": 40,
    "start_time": "2022-10-02T08:22:18.616Z"
   },
   {
    "duration": 71,
    "start_time": "2022-10-02T08:41:42.191Z"
   },
   {
    "duration": 10,
    "start_time": "2022-10-02T08:41:59.961Z"
   },
   {
    "duration": 564,
    "start_time": "2022-10-02T08:42:44.469Z"
   },
   {
    "duration": 16,
    "start_time": "2022-10-02T08:42:45.035Z"
   },
   {
    "duration": 2287,
    "start_time": "2022-10-02T08:42:45.053Z"
   },
   {
    "duration": 11,
    "start_time": "2022-10-02T08:42:47.343Z"
   },
   {
    "duration": 8,
    "start_time": "2022-10-02T08:42:47.356Z"
   },
   {
    "duration": 27,
    "start_time": "2022-10-02T08:42:47.365Z"
   },
   {
    "duration": 26,
    "start_time": "2022-10-02T08:42:47.393Z"
   },
   {
    "duration": 6,
    "start_time": "2022-10-02T08:42:47.421Z"
   },
   {
    "duration": 7,
    "start_time": "2022-10-02T08:42:47.428Z"
   },
   {
    "duration": 15,
    "start_time": "2022-10-02T08:42:47.438Z"
   },
   {
    "duration": 19,
    "start_time": "2022-10-02T08:42:47.477Z"
   },
   {
    "duration": 15,
    "start_time": "2022-10-02T08:42:47.498Z"
   },
   {
    "duration": 116,
    "start_time": "2022-10-02T08:42:47.514Z"
   },
   {
    "duration": 7,
    "start_time": "2022-10-02T08:42:47.633Z"
   },
   {
    "duration": 9,
    "start_time": "2022-10-02T08:42:47.642Z"
   },
   {
    "duration": 90,
    "start_time": "2022-10-02T08:42:47.653Z"
   },
   {
    "duration": 0,
    "start_time": "2022-10-02T08:42:47.745Z"
   },
   {
    "duration": 0,
    "start_time": "2022-10-02T08:42:47.747Z"
   },
   {
    "duration": 0,
    "start_time": "2022-10-02T08:42:47.748Z"
   },
   {
    "duration": 0,
    "start_time": "2022-10-02T08:42:47.749Z"
   },
   {
    "duration": 0,
    "start_time": "2022-10-02T08:42:47.750Z"
   },
   {
    "duration": 0,
    "start_time": "2022-10-02T08:42:47.751Z"
   },
   {
    "duration": 0,
    "start_time": "2022-10-02T08:42:47.753Z"
   },
   {
    "duration": 0,
    "start_time": "2022-10-02T08:42:47.754Z"
   },
   {
    "duration": 0,
    "start_time": "2022-10-02T08:42:47.755Z"
   },
   {
    "duration": 0,
    "start_time": "2022-10-02T08:42:47.776Z"
   },
   {
    "duration": 0,
    "start_time": "2022-10-02T08:42:47.777Z"
   },
   {
    "duration": 0,
    "start_time": "2022-10-02T08:42:47.778Z"
   },
   {
    "duration": 1,
    "start_time": "2022-10-02T08:42:47.779Z"
   },
   {
    "duration": 0,
    "start_time": "2022-10-02T08:42:47.780Z"
   },
   {
    "duration": 0,
    "start_time": "2022-10-02T08:42:47.782Z"
   },
   {
    "duration": 11,
    "start_time": "2022-10-02T08:42:57.200Z"
   },
   {
    "duration": 13,
    "start_time": "2022-10-02T08:43:05.218Z"
   },
   {
    "duration": 11,
    "start_time": "2022-10-02T08:43:09.073Z"
   },
   {
    "duration": 915,
    "start_time": "2022-10-02T08:43:13.498Z"
   },
   {
    "duration": 118,
    "start_time": "2022-10-02T08:43:33.599Z"
   },
   {
    "duration": 18,
    "start_time": "2022-10-02T08:43:33.807Z"
   },
   {
    "duration": 2005,
    "start_time": "2022-10-02T08:43:34.178Z"
   },
   {
    "duration": 8,
    "start_time": "2022-10-02T08:43:36.185Z"
   },
   {
    "duration": 7,
    "start_time": "2022-10-02T08:43:36.195Z"
   },
   {
    "duration": 26,
    "start_time": "2022-10-02T08:43:36.204Z"
   },
   {
    "duration": 50,
    "start_time": "2022-10-02T08:43:36.232Z"
   },
   {
    "duration": 6,
    "start_time": "2022-10-02T08:43:36.543Z"
   },
   {
    "duration": 5,
    "start_time": "2022-10-02T08:43:36.751Z"
   },
   {
    "duration": 11,
    "start_time": "2022-10-02T08:43:37.211Z"
   },
   {
    "duration": 21,
    "start_time": "2022-10-02T08:43:37.877Z"
   },
   {
    "duration": 16,
    "start_time": "2022-10-02T08:43:38.304Z"
   },
   {
    "duration": 89,
    "start_time": "2022-10-02T08:43:38.543Z"
   },
   {
    "duration": 6,
    "start_time": "2022-10-02T08:43:38.995Z"
   },
   {
    "duration": 7,
    "start_time": "2022-10-02T08:43:39.278Z"
   },
   {
    "duration": 14,
    "start_time": "2022-10-02T08:43:39.835Z"
   },
   {
    "duration": 9,
    "start_time": "2022-10-02T08:43:40.565Z"
   },
   {
    "duration": 7,
    "start_time": "2022-10-02T08:43:54.096Z"
   },
   {
    "duration": 15,
    "start_time": "2022-10-02T08:43:54.800Z"
   },
   {
    "duration": 492,
    "start_time": "2022-10-02T08:44:17.839Z"
   },
   {
    "duration": 15,
    "start_time": "2022-10-02T08:44:18.332Z"
   },
   {
    "duration": 2191,
    "start_time": "2022-10-02T08:44:18.349Z"
   },
   {
    "duration": 11,
    "start_time": "2022-10-02T08:44:20.543Z"
   },
   {
    "duration": 13,
    "start_time": "2022-10-02T08:44:20.556Z"
   },
   {
    "duration": 33,
    "start_time": "2022-10-02T08:44:20.571Z"
   },
   {
    "duration": 26,
    "start_time": "2022-10-02T08:44:20.606Z"
   },
   {
    "duration": 5,
    "start_time": "2022-10-02T08:44:20.634Z"
   },
   {
    "duration": 8,
    "start_time": "2022-10-02T08:44:20.640Z"
   },
   {
    "duration": 33,
    "start_time": "2022-10-02T08:44:20.650Z"
   },
   {
    "duration": 22,
    "start_time": "2022-10-02T08:44:20.685Z"
   },
   {
    "duration": 37,
    "start_time": "2022-10-02T08:44:20.709Z"
   },
   {
    "duration": 112,
    "start_time": "2022-10-02T08:44:20.748Z"
   },
   {
    "duration": 6,
    "start_time": "2022-10-02T08:44:20.862Z"
   },
   {
    "duration": 9,
    "start_time": "2022-10-02T08:44:20.876Z"
   },
   {
    "duration": 84,
    "start_time": "2022-10-02T08:44:20.886Z"
   },
   {
    "duration": 0,
    "start_time": "2022-10-02T08:44:20.972Z"
   },
   {
    "duration": 0,
    "start_time": "2022-10-02T08:44:20.972Z"
   },
   {
    "duration": 0,
    "start_time": "2022-10-02T08:44:20.976Z"
   },
   {
    "duration": 0,
    "start_time": "2022-10-02T08:44:20.977Z"
   },
   {
    "duration": 0,
    "start_time": "2022-10-02T08:44:20.978Z"
   },
   {
    "duration": 0,
    "start_time": "2022-10-02T08:44:20.979Z"
   },
   {
    "duration": 0,
    "start_time": "2022-10-02T08:44:20.980Z"
   },
   {
    "duration": 0,
    "start_time": "2022-10-02T08:44:20.980Z"
   },
   {
    "duration": 0,
    "start_time": "2022-10-02T08:44:20.981Z"
   },
   {
    "duration": 0,
    "start_time": "2022-10-02T08:44:20.982Z"
   },
   {
    "duration": 0,
    "start_time": "2022-10-02T08:44:20.983Z"
   },
   {
    "duration": 0,
    "start_time": "2022-10-02T08:44:20.984Z"
   },
   {
    "duration": 0,
    "start_time": "2022-10-02T08:44:20.984Z"
   },
   {
    "duration": 0,
    "start_time": "2022-10-02T08:44:20.985Z"
   },
   {
    "duration": 0,
    "start_time": "2022-10-02T08:44:20.986Z"
   },
   {
    "duration": 10,
    "start_time": "2022-10-02T08:45:22.695Z"
   },
   {
    "duration": 7,
    "start_time": "2022-10-02T08:45:26.825Z"
   },
   {
    "duration": 8,
    "start_time": "2022-10-02T08:45:26.997Z"
   },
   {
    "duration": 5,
    "start_time": "2022-10-02T08:45:27.204Z"
   },
   {
    "duration": 6,
    "start_time": "2022-10-02T08:45:27.388Z"
   },
   {
    "duration": 37,
    "start_time": "2022-10-02T08:45:27.573Z"
   },
   {
    "duration": 8,
    "start_time": "2022-10-02T08:45:27.771Z"
   },
   {
    "duration": 46,
    "start_time": "2022-10-02T08:45:27.996Z"
   },
   {
    "duration": 7,
    "start_time": "2022-10-02T08:45:30.378Z"
   },
   {
    "duration": 6,
    "start_time": "2022-10-02T08:45:31.217Z"
   },
   {
    "duration": 5,
    "start_time": "2022-10-02T08:45:31.576Z"
   },
   {
    "duration": 7,
    "start_time": "2022-10-02T08:45:31.969Z"
   },
   {
    "duration": 36,
    "start_time": "2022-10-02T08:45:32.329Z"
   },
   {
    "duration": 8,
    "start_time": "2022-10-02T08:45:32.707Z"
   },
   {
    "duration": 7,
    "start_time": "2022-10-02T08:45:35.941Z"
   },
   {
    "duration": 11,
    "start_time": "2022-10-02T08:45:37.766Z"
   },
   {
    "duration": 10,
    "start_time": "2022-10-02T08:46:50.971Z"
   },
   {
    "duration": 14,
    "start_time": "2022-10-02T08:49:03.427Z"
   },
   {
    "duration": 971,
    "start_time": "2022-10-02T08:49:31.588Z"
   },
   {
    "duration": 947,
    "start_time": "2022-10-02T08:50:06.982Z"
   },
   {
    "duration": 815,
    "start_time": "2022-10-02T08:50:28.297Z"
   },
   {
    "duration": 400,
    "start_time": "2022-10-02T08:52:09.813Z"
   },
   {
    "duration": 4,
    "start_time": "2022-10-02T08:52:43.945Z"
   },
   {
    "duration": 20,
    "start_time": "2022-10-02T08:53:06.718Z"
   },
   {
    "duration": 19,
    "start_time": "2022-10-02T08:53:13.277Z"
   },
   {
    "duration": 34,
    "start_time": "2022-10-02T08:53:32.429Z"
   },
   {
    "duration": 19,
    "start_time": "2022-10-02T08:55:26.418Z"
   },
   {
    "duration": 18,
    "start_time": "2022-10-02T08:55:28.957Z"
   },
   {
    "duration": 34,
    "start_time": "2022-10-02T08:55:29.315Z"
   },
   {
    "duration": 19,
    "start_time": "2022-10-02T08:58:31.476Z"
   },
   {
    "duration": 38,
    "start_time": "2022-10-02T08:58:33.662Z"
   },
   {
    "duration": 18,
    "start_time": "2022-10-02T09:00:18.407Z"
   },
   {
    "duration": 40,
    "start_time": "2022-10-02T09:00:19.219Z"
   },
   {
    "duration": 17,
    "start_time": "2022-10-02T09:01:05.953Z"
   },
   {
    "duration": 36,
    "start_time": "2022-10-02T09:01:06.389Z"
   },
   {
    "duration": 19,
    "start_time": "2022-10-02T09:01:51.178Z"
   },
   {
    "duration": 36,
    "start_time": "2022-10-02T09:01:52.702Z"
   },
   {
    "duration": 21,
    "start_time": "2022-10-02T09:02:06.717Z"
   },
   {
    "duration": 57,
    "start_time": "2022-10-02T09:02:07.694Z"
   },
   {
    "duration": 21,
    "start_time": "2022-10-02T09:02:14.790Z"
   },
   {
    "duration": 54,
    "start_time": "2022-10-02T09:02:15.277Z"
   },
   {
    "duration": 1045,
    "start_time": "2022-10-02T09:03:19.357Z"
   },
   {
    "duration": 0,
    "start_time": "2022-10-02T09:03:20.403Z"
   },
   {
    "duration": 823,
    "start_time": "2022-10-02T09:04:03.657Z"
   },
   {
    "duration": 35,
    "start_time": "2022-10-02T09:04:04.649Z"
   },
   {
    "duration": 5,
    "start_time": "2022-10-02T09:04:48.143Z"
   },
   {
    "duration": 24,
    "start_time": "2022-10-02T09:04:59.873Z"
   },
   {
    "duration": 42,
    "start_time": "2022-10-02T09:05:03.493Z"
   },
   {
    "duration": 242,
    "start_time": "2022-10-02T09:06:11.118Z"
   },
   {
    "duration": 19,
    "start_time": "2022-10-02T09:06:24.306Z"
   },
   {
    "duration": 36,
    "start_time": "2022-10-02T09:06:26.293Z"
   },
   {
    "duration": 19,
    "start_time": "2022-10-02T09:06:38.994Z"
   },
   {
    "duration": 42,
    "start_time": "2022-10-02T09:06:39.561Z"
   },
   {
    "duration": 27,
    "start_time": "2022-10-02T09:08:52.255Z"
   },
   {
    "duration": 38,
    "start_time": "2022-10-02T09:08:52.904Z"
   },
   {
    "duration": 21,
    "start_time": "2022-10-02T09:09:03.309Z"
   },
   {
    "duration": 43,
    "start_time": "2022-10-02T09:09:03.863Z"
   },
   {
    "duration": 8,
    "start_time": "2022-10-02T09:09:14.472Z"
   },
   {
    "duration": 27,
    "start_time": "2022-10-02T09:09:15.371Z"
   },
   {
    "duration": 37,
    "start_time": "2022-10-02T09:09:15.781Z"
   },
   {
    "duration": 19,
    "start_time": "2022-10-02T09:10:00.724Z"
   },
   {
    "duration": 45,
    "start_time": "2022-10-02T09:10:01.314Z"
   },
   {
    "duration": 121,
    "start_time": "2022-10-02T09:10:37.617Z"
   },
   {
    "duration": 29,
    "start_time": "2022-10-02T09:11:09.476Z"
   },
   {
    "duration": 38,
    "start_time": "2022-10-02T09:11:10.209Z"
   },
   {
    "duration": 20,
    "start_time": "2022-10-02T09:12:08.189Z"
   },
   {
    "duration": 37,
    "start_time": "2022-10-02T09:12:08.689Z"
   },
   {
    "duration": 20,
    "start_time": "2022-10-02T09:12:20.142Z"
   },
   {
    "duration": 34,
    "start_time": "2022-10-02T09:12:20.708Z"
   },
   {
    "duration": 59,
    "start_time": "2022-10-02T09:16:00.818Z"
   },
   {
    "duration": 13,
    "start_time": "2022-10-02T09:16:12.895Z"
   },
   {
    "duration": 65,
    "start_time": "2022-10-02T09:19:56.351Z"
   },
   {
    "duration": 20,
    "start_time": "2022-10-02T09:21:28.111Z"
   },
   {
    "duration": 16,
    "start_time": "2022-10-02T09:22:17.321Z"
   },
   {
    "duration": 62,
    "start_time": "2022-10-02T11:27:50.775Z"
   },
   {
    "duration": 31,
    "start_time": "2022-10-02T11:28:45.132Z"
   },
   {
    "duration": 57,
    "start_time": "2022-10-02T11:28:47.641Z"
   },
   {
    "duration": 61,
    "start_time": "2022-10-02T11:43:42.918Z"
   },
   {
    "duration": 7382,
    "start_time": "2022-10-02T11:43:52.970Z"
   },
   {
    "duration": 1359,
    "start_time": "2022-10-02T11:45:43.150Z"
   },
   {
    "duration": 123,
    "start_time": "2022-10-02T11:46:14.863Z"
   },
   {
    "duration": 15,
    "start_time": "2022-10-02T11:46:15.478Z"
   },
   {
    "duration": 1972,
    "start_time": "2022-10-02T11:46:16.028Z"
   },
   {
    "duration": 10,
    "start_time": "2022-10-02T11:46:18.001Z"
   },
   {
    "duration": 7,
    "start_time": "2022-10-02T11:46:19.955Z"
   },
   {
    "duration": 28,
    "start_time": "2022-10-02T11:46:20.805Z"
   },
   {
    "duration": 27,
    "start_time": "2022-10-02T11:46:22.523Z"
   },
   {
    "duration": 6,
    "start_time": "2022-10-02T11:46:24.202Z"
   },
   {
    "duration": 6,
    "start_time": "2022-10-02T11:46:25.284Z"
   },
   {
    "duration": 13,
    "start_time": "2022-10-02T11:46:27.556Z"
   },
   {
    "duration": 1420,
    "start_time": "2022-10-02T11:46:29.058Z"
   },
   {
    "duration": 1395,
    "start_time": "2022-10-02T11:47:07.632Z"
   },
   {
    "duration": 1276,
    "start_time": "2022-10-02T11:51:09.501Z"
   },
   {
    "duration": 6247,
    "start_time": "2022-10-02T11:52:16.929Z"
   },
   {
    "duration": 23,
    "start_time": "2022-10-02T11:52:23.231Z"
   },
   {
    "duration": 11,
    "start_time": "2022-10-02T11:53:35.498Z"
   },
   {
    "duration": 6157,
    "start_time": "2022-10-02T11:53:35.511Z"
   },
   {
    "duration": 108,
    "start_time": "2022-10-02T11:53:41.802Z"
   },
   {
    "duration": 14,
    "start_time": "2022-10-02T11:53:41.912Z"
   },
   {
    "duration": 1946,
    "start_time": "2022-10-02T11:53:41.927Z"
   },
   {
    "duration": 10,
    "start_time": "2022-10-02T11:53:48.030Z"
   },
   {
    "duration": 6,
    "start_time": "2022-10-02T11:53:50.294Z"
   },
   {
    "duration": 28,
    "start_time": "2022-10-02T11:53:51.957Z"
   },
   {
    "duration": 27,
    "start_time": "2022-10-02T11:53:54.443Z"
   },
   {
    "duration": 5,
    "start_time": "2022-10-02T11:53:57.669Z"
   },
   {
    "duration": 6,
    "start_time": "2022-10-02T11:53:58.212Z"
   },
   {
    "duration": 11,
    "start_time": "2022-10-02T11:53:59.133Z"
   },
   {
    "duration": 6410,
    "start_time": "2022-10-02T11:54:00.511Z"
   },
   {
    "duration": 21,
    "start_time": "2022-10-02T11:56:36.692Z"
   },
   {
    "duration": 16,
    "start_time": "2022-10-02T11:56:37.995Z"
   },
   {
    "duration": 86,
    "start_time": "2022-10-02T11:56:38.704Z"
   },
   {
    "duration": 5,
    "start_time": "2022-10-02T11:56:39.835Z"
   },
   {
    "duration": 7,
    "start_time": "2022-10-02T11:56:40.337Z"
   },
   {
    "duration": 10,
    "start_time": "2022-10-02T11:56:40.818Z"
   },
   {
    "duration": 8,
    "start_time": "2022-10-02T11:56:41.825Z"
   },
   {
    "duration": 7,
    "start_time": "2022-10-02T11:56:42.183Z"
   },
   {
    "duration": 6,
    "start_time": "2022-10-02T11:56:42.501Z"
   },
   {
    "duration": 5,
    "start_time": "2022-10-02T11:56:42.748Z"
   },
   {
    "duration": 36,
    "start_time": "2022-10-02T11:56:42.987Z"
   },
   {
    "duration": 8,
    "start_time": "2022-10-02T11:56:43.338Z"
   },
   {
    "duration": 41,
    "start_time": "2022-10-02T11:56:43.665Z"
   },
   {
    "duration": 8,
    "start_time": "2022-10-02T11:56:44.009Z"
   },
   {
    "duration": 6,
    "start_time": "2022-10-02T11:56:44.773Z"
   },
   {
    "duration": 6,
    "start_time": "2022-10-02T11:56:44.945Z"
   },
   {
    "duration": 6,
    "start_time": "2022-10-02T11:56:45.167Z"
   },
   {
    "duration": 35,
    "start_time": "2022-10-02T11:56:45.397Z"
   },
   {
    "duration": 7,
    "start_time": "2022-10-02T11:56:45.619Z"
   },
   {
    "duration": 6,
    "start_time": "2022-10-02T11:56:46.297Z"
   },
   {
    "duration": 24,
    "start_time": "2022-10-02T11:56:47.561Z"
   },
   {
    "duration": 35,
    "start_time": "2022-10-02T11:56:48.687Z"
   },
   {
    "duration": 16,
    "start_time": "2022-10-02T11:57:25.414Z"
   },
   {
    "duration": 2751,
    "start_time": "2022-10-02T11:59:44.707Z"
   },
   {
    "duration": 153,
    "start_time": "2022-10-02T12:02:05.981Z"
   },
   {
    "duration": 138,
    "start_time": "2022-10-02T12:02:13.992Z"
   },
   {
    "duration": 165,
    "start_time": "2022-10-02T12:02:18.861Z"
   },
   {
    "duration": 48,
    "start_time": "2022-10-02T12:02:47.815Z"
   },
   {
    "duration": 181,
    "start_time": "2022-10-02T12:03:15.872Z"
   },
   {
    "duration": 268,
    "start_time": "2022-10-02T12:04:27.714Z"
   },
   {
    "duration": 222,
    "start_time": "2022-10-02T12:04:39.200Z"
   },
   {
    "duration": 206,
    "start_time": "2022-10-02T12:04:46.398Z"
   },
   {
    "duration": 370,
    "start_time": "2022-10-02T12:07:06.593Z"
   },
   {
    "duration": 218,
    "start_time": "2022-10-02T12:13:52.343Z"
   },
   {
    "duration": 238,
    "start_time": "2022-10-02T12:14:46.734Z"
   },
   {
    "duration": 201,
    "start_time": "2022-10-02T12:15:01.492Z"
   },
   {
    "duration": 223,
    "start_time": "2022-10-02T12:18:50.481Z"
   },
   {
    "duration": 249,
    "start_time": "2022-10-02T12:23:35.099Z"
   },
   {
    "duration": 254,
    "start_time": "2022-10-02T12:24:27.215Z"
   },
   {
    "duration": 212,
    "start_time": "2022-10-02T12:24:56.291Z"
   },
   {
    "duration": 273,
    "start_time": "2022-10-02T12:25:08.356Z"
   },
   {
    "duration": 187,
    "start_time": "2022-10-02T12:25:18.870Z"
   },
   {
    "duration": 893,
    "start_time": "2022-10-02T12:27:14.652Z"
   },
   {
    "duration": 171,
    "start_time": "2022-10-02T12:27:23.019Z"
   },
   {
    "duration": 179,
    "start_time": "2022-10-02T12:28:43.214Z"
   },
   {
    "duration": 391,
    "start_time": "2022-10-02T12:29:14.291Z"
   },
   {
    "duration": 273,
    "start_time": "2022-10-02T12:29:29.398Z"
   },
   {
    "duration": 252,
    "start_time": "2022-10-02T12:29:40.992Z"
   },
   {
    "duration": 262,
    "start_time": "2022-10-02T12:30:11.108Z"
   },
   {
    "duration": 299,
    "start_time": "2022-10-02T12:30:22.719Z"
   },
   {
    "duration": 274,
    "start_time": "2022-10-02T12:30:32.936Z"
   },
   {
    "duration": 406,
    "start_time": "2022-10-02T12:30:50.496Z"
   },
   {
    "duration": 171,
    "start_time": "2022-10-02T12:36:08.882Z"
   },
   {
    "duration": 156,
    "start_time": "2022-10-02T12:36:19.152Z"
   },
   {
    "duration": 157,
    "start_time": "2022-10-02T12:38:57.862Z"
   },
   {
    "duration": 225,
    "start_time": "2022-10-02T12:39:29.993Z"
   },
   {
    "duration": 397,
    "start_time": "2022-10-02T12:39:35.806Z"
   },
   {
    "duration": 176,
    "start_time": "2022-10-02T12:40:01.497Z"
   },
   {
    "duration": 180,
    "start_time": "2022-10-02T12:42:12.030Z"
   },
   {
    "duration": 179,
    "start_time": "2022-10-02T12:42:29.061Z"
   },
   {
    "duration": 181,
    "start_time": "2022-10-02T12:45:00.541Z"
   },
   {
    "duration": 141,
    "start_time": "2022-10-02T12:45:24.381Z"
   },
   {
    "duration": 116,
    "start_time": "2022-10-02T12:45:57.431Z"
   },
   {
    "duration": 191,
    "start_time": "2022-10-02T12:48:21.358Z"
   },
   {
    "duration": 47,
    "start_time": "2022-10-02T12:49:36.104Z"
   },
   {
    "duration": 211,
    "start_time": "2022-10-02T12:50:28.280Z"
   },
   {
    "duration": 89,
    "start_time": "2022-10-02T12:52:38.756Z"
   },
   {
    "duration": 181,
    "start_time": "2022-10-02T12:53:19.057Z"
   },
   {
    "duration": 200,
    "start_time": "2022-10-02T12:54:43.940Z"
   },
   {
    "duration": 197,
    "start_time": "2022-10-02T12:55:23.597Z"
   },
   {
    "duration": 185,
    "start_time": "2022-10-02T12:55:39.816Z"
   },
   {
    "duration": 204,
    "start_time": "2022-10-02T12:55:47.982Z"
   },
   {
    "duration": 199,
    "start_time": "2022-10-02T12:55:52.901Z"
   },
   {
    "duration": 209,
    "start_time": "2022-10-02T12:55:56.549Z"
   },
   {
    "duration": 199,
    "start_time": "2022-10-02T12:56:02.771Z"
   },
   {
    "duration": 207,
    "start_time": "2022-10-02T12:56:14.485Z"
   },
   {
    "duration": 56,
    "start_time": "2022-10-02T12:57:46.159Z"
   },
   {
    "duration": 425,
    "start_time": "2022-10-02T12:58:45.167Z"
   },
   {
    "duration": 161,
    "start_time": "2022-10-02T13:02:01.442Z"
   },
   {
    "duration": 142,
    "start_time": "2022-10-02T13:02:08.305Z"
   },
   {
    "duration": 203,
    "start_time": "2022-10-02T13:08:46.634Z"
   },
   {
    "duration": 206,
    "start_time": "2022-10-02T13:08:58.537Z"
   },
   {
    "duration": 75,
    "start_time": "2022-10-02T13:22:03.771Z"
   },
   {
    "duration": 11,
    "start_time": "2022-10-02T13:22:21.033Z"
   },
   {
    "duration": 8,
    "start_time": "2022-10-02T13:22:43.074Z"
   },
   {
    "duration": 14,
    "start_time": "2022-10-02T13:23:11.641Z"
   },
   {
    "duration": 886,
    "start_time": "2022-10-02T13:25:09.452Z"
   },
   {
    "duration": 5,
    "start_time": "2022-10-02T13:25:23.775Z"
   },
   {
    "duration": 202,
    "start_time": "2022-10-02T13:30:21.267Z"
   },
   {
    "duration": 192,
    "start_time": "2022-10-02T13:31:53.342Z"
   },
   {
    "duration": 177,
    "start_time": "2022-10-02T13:32:14.797Z"
   },
   {
    "duration": 198,
    "start_time": "2022-10-02T13:33:08.288Z"
   },
   {
    "duration": 71,
    "start_time": "2022-10-02T13:33:48.341Z"
   },
   {
    "duration": 45,
    "start_time": "2022-10-02T13:34:31.685Z"
   },
   {
    "duration": 209,
    "start_time": "2022-10-02T13:35:04.126Z"
   },
   {
    "duration": 197,
    "start_time": "2022-10-02T13:35:29.057Z"
   },
   {
    "duration": 197,
    "start_time": "2022-10-02T13:37:58.780Z"
   },
   {
    "duration": 534,
    "start_time": "2022-10-02T13:40:20.730Z"
   },
   {
    "duration": 165,
    "start_time": "2022-10-02T13:40:27.461Z"
   },
   {
    "duration": 167,
    "start_time": "2022-10-02T13:42:32.735Z"
   },
   {
    "duration": 165,
    "start_time": "2022-10-02T13:42:44.286Z"
   },
   {
    "duration": 193,
    "start_time": "2022-10-02T13:43:54.332Z"
   },
   {
    "duration": 12,
    "start_time": "2022-10-02T13:48:43.528Z"
   },
   {
    "duration": 23,
    "start_time": "2022-10-02T13:48:53.144Z"
   },
   {
    "duration": 37,
    "start_time": "2022-10-02T13:49:21.151Z"
   },
   {
    "duration": 19,
    "start_time": "2022-10-02T13:50:38.185Z"
   },
   {
    "duration": 14,
    "start_time": "2022-10-02T13:50:45.692Z"
   },
   {
    "duration": 14,
    "start_time": "2022-10-02T13:51:14.096Z"
   },
   {
    "duration": 13,
    "start_time": "2022-10-02T13:51:19.753Z"
   },
   {
    "duration": 14,
    "start_time": "2022-10-02T13:51:38.968Z"
   },
   {
    "duration": 58,
    "start_time": "2022-10-02T13:53:38.780Z"
   },
   {
    "duration": 27,
    "start_time": "2022-10-02T13:55:29.950Z"
   },
   {
    "duration": 27,
    "start_time": "2022-10-02T14:02:08.677Z"
   },
   {
    "duration": 26,
    "start_time": "2022-10-02T14:04:17.813Z"
   },
   {
    "duration": 19,
    "start_time": "2022-10-02T14:04:53.707Z"
   },
   {
    "duration": 19,
    "start_time": "2022-10-02T14:04:56.756Z"
   },
   {
    "duration": 23,
    "start_time": "2022-10-02T14:05:05.713Z"
   },
   {
    "duration": 25,
    "start_time": "2022-10-02T14:05:10.116Z"
   },
   {
    "duration": 25,
    "start_time": "2022-10-02T14:05:28.282Z"
   },
   {
    "duration": 24,
    "start_time": "2022-10-02T14:06:12.796Z"
   },
   {
    "duration": 23,
    "start_time": "2022-10-02T14:06:58.307Z"
   },
   {
    "duration": 22,
    "start_time": "2022-10-02T14:07:04.486Z"
   },
   {
    "duration": 74,
    "start_time": "2022-10-02T14:08:04.424Z"
   },
   {
    "duration": 64,
    "start_time": "2022-10-02T14:08:23.151Z"
   },
   {
    "duration": 61,
    "start_time": "2022-10-02T14:08:57.063Z"
   },
   {
    "duration": 28,
    "start_time": "2022-10-02T14:09:08.552Z"
   },
   {
    "duration": 24,
    "start_time": "2022-10-02T14:09:51.203Z"
   },
   {
    "duration": 24,
    "start_time": "2022-10-02T14:10:35.411Z"
   },
   {
    "duration": 88,
    "start_time": "2022-10-02T14:10:51.211Z"
   },
   {
    "duration": 24,
    "start_time": "2022-10-02T14:10:58.417Z"
   },
   {
    "duration": 93,
    "start_time": "2022-10-02T14:11:53.349Z"
   },
   {
    "duration": 25,
    "start_time": "2022-10-02T14:11:58.777Z"
   },
   {
    "duration": 22,
    "start_time": "2022-10-02T14:12:14.510Z"
   },
   {
    "duration": 23,
    "start_time": "2022-10-02T14:13:25.052Z"
   },
   {
    "duration": 23,
    "start_time": "2022-10-02T14:13:46.059Z"
   },
   {
    "duration": 26,
    "start_time": "2022-10-02T14:14:04.367Z"
   },
   {
    "duration": 57,
    "start_time": "2022-10-02T14:14:37.669Z"
   },
   {
    "duration": 24,
    "start_time": "2022-10-02T14:15:25.767Z"
   },
   {
    "duration": 24,
    "start_time": "2022-10-02T14:15:32.500Z"
   },
   {
    "duration": 23,
    "start_time": "2022-10-02T14:17:02.502Z"
   },
   {
    "duration": 907,
    "start_time": "2022-10-02T14:18:06.050Z"
   },
   {
    "duration": 26,
    "start_time": "2022-10-02T14:18:20.569Z"
   },
   {
    "duration": 27,
    "start_time": "2022-10-02T14:23:41.686Z"
   },
   {
    "duration": 24,
    "start_time": "2022-10-02T14:23:57.754Z"
   },
   {
    "duration": 24,
    "start_time": "2022-10-02T14:24:19.807Z"
   },
   {
    "duration": 6,
    "start_time": "2022-10-02T14:25:15.060Z"
   },
   {
    "duration": 5,
    "start_time": "2022-10-02T14:25:42.091Z"
   },
   {
    "duration": 8,
    "start_time": "2022-10-02T14:26:34.875Z"
   },
   {
    "duration": 10,
    "start_time": "2022-10-02T14:26:54.375Z"
   },
   {
    "duration": 128,
    "start_time": "2022-10-02T14:37:36.925Z"
   },
   {
    "duration": 7,
    "start_time": "2022-10-02T14:37:47.031Z"
   },
   {
    "duration": 25,
    "start_time": "2022-10-02T14:40:52.583Z"
   },
   {
    "duration": 18,
    "start_time": "2022-10-02T14:41:08.069Z"
   },
   {
    "duration": 31,
    "start_time": "2022-10-02T14:42:26.376Z"
   },
   {
    "duration": 67,
    "start_time": "2022-10-02T14:42:43.653Z"
   },
   {
    "duration": 16,
    "start_time": "2022-10-02T14:42:59.443Z"
   },
   {
    "duration": 7,
    "start_time": "2022-10-02T14:43:50.898Z"
   },
   {
    "duration": 6,
    "start_time": "2022-10-02T14:44:04.504Z"
   },
   {
    "duration": 476,
    "start_time": "2022-10-02T16:18:32.308Z"
   },
   {
    "duration": 14,
    "start_time": "2022-10-02T16:18:32.786Z"
   },
   {
    "duration": 2008,
    "start_time": "2022-10-02T16:18:32.801Z"
   },
   {
    "duration": 8,
    "start_time": "2022-10-02T16:18:34.811Z"
   },
   {
    "duration": 23,
    "start_time": "2022-10-02T16:18:34.820Z"
   },
   {
    "duration": 26,
    "start_time": "2022-10-02T16:18:34.844Z"
   },
   {
    "duration": 25,
    "start_time": "2022-10-02T16:18:34.871Z"
   },
   {
    "duration": 5,
    "start_time": "2022-10-02T16:18:34.899Z"
   },
   {
    "duration": 15,
    "start_time": "2022-10-02T16:18:34.906Z"
   },
   {
    "duration": 27,
    "start_time": "2022-10-02T16:18:34.923Z"
   },
   {
    "duration": 5392,
    "start_time": "2022-10-02T16:18:34.951Z"
   },
   {
    "duration": 17,
    "start_time": "2022-10-02T16:18:40.345Z"
   },
   {
    "duration": 19,
    "start_time": "2022-10-02T16:18:40.363Z"
   },
   {
    "duration": 96,
    "start_time": "2022-10-02T16:18:40.383Z"
   },
   {
    "duration": 5,
    "start_time": "2022-10-02T16:18:40.480Z"
   },
   {
    "duration": 17,
    "start_time": "2022-10-02T16:18:40.486Z"
   },
   {
    "duration": 10,
    "start_time": "2022-10-02T16:18:40.505Z"
   },
   {
    "duration": 6,
    "start_time": "2022-10-02T16:18:40.516Z"
   },
   {
    "duration": 17,
    "start_time": "2022-10-02T16:18:40.524Z"
   },
   {
    "duration": 11,
    "start_time": "2022-10-02T16:18:40.542Z"
   },
   {
    "duration": 10,
    "start_time": "2022-10-02T16:18:40.554Z"
   },
   {
    "duration": 41,
    "start_time": "2022-10-02T16:18:40.566Z"
   },
   {
    "duration": 7,
    "start_time": "2022-10-02T16:18:40.609Z"
   },
   {
    "duration": 42,
    "start_time": "2022-10-02T16:18:40.617Z"
   },
   {
    "duration": 6,
    "start_time": "2022-10-02T16:18:40.660Z"
   },
   {
    "duration": 11,
    "start_time": "2022-10-02T16:18:40.668Z"
   },
   {
    "duration": 21,
    "start_time": "2022-10-02T16:18:40.680Z"
   },
   {
    "duration": 5,
    "start_time": "2022-10-02T16:18:40.704Z"
   },
   {
    "duration": 33,
    "start_time": "2022-10-02T16:18:40.710Z"
   },
   {
    "duration": 6,
    "start_time": "2022-10-02T16:18:40.744Z"
   },
   {
    "duration": 6,
    "start_time": "2022-10-02T16:18:40.752Z"
   },
   {
    "duration": 44,
    "start_time": "2022-10-02T16:18:40.759Z"
   },
   {
    "duration": 29,
    "start_time": "2022-10-02T16:18:40.805Z"
   },
   {
    "duration": 13,
    "start_time": "2022-10-02T16:18:40.835Z"
   },
   {
    "duration": 216,
    "start_time": "2022-10-02T16:18:40.850Z"
   },
   {
    "duration": 238,
    "start_time": "2022-10-02T16:18:41.067Z"
   },
   {
    "duration": 202,
    "start_time": "2022-10-02T16:18:41.306Z"
   },
   {
    "duration": 492,
    "start_time": "2022-10-02T16:18:41.510Z"
   },
   {
    "duration": 160,
    "start_time": "2022-10-02T16:18:42.004Z"
   },
   {
    "duration": 176,
    "start_time": "2022-10-02T16:18:42.165Z"
   },
   {
    "duration": 202,
    "start_time": "2022-10-02T16:18:42.343Z"
   },
   {
    "duration": 113,
    "start_time": "2022-10-02T16:18:42.547Z"
   },
   {
    "duration": 185,
    "start_time": "2022-10-02T16:18:42.662Z"
   },
   {
    "duration": 196,
    "start_time": "2022-10-02T16:18:42.848Z"
   },
   {
    "duration": 184,
    "start_time": "2022-10-02T16:18:43.045Z"
   },
   {
    "duration": 202,
    "start_time": "2022-10-02T16:18:43.230Z"
   },
   {
    "duration": 160,
    "start_time": "2022-10-02T16:18:43.433Z"
   },
   {
    "duration": 227,
    "start_time": "2022-10-02T16:18:43.600Z"
   },
   {
    "duration": 196,
    "start_time": "2022-10-02T16:18:43.829Z"
   },
   {
    "duration": 186,
    "start_time": "2022-10-02T16:18:44.026Z"
   },
   {
    "duration": 174,
    "start_time": "2022-10-02T16:18:44.213Z"
   },
   {
    "duration": 213,
    "start_time": "2022-10-02T16:18:44.389Z"
   },
   {
    "duration": 172,
    "start_time": "2022-10-02T16:18:44.605Z"
   },
   {
    "duration": 161,
    "start_time": "2022-10-02T16:18:44.779Z"
   },
   {
    "duration": 11,
    "start_time": "2022-10-02T16:18:44.942Z"
   },
   {
    "duration": 17,
    "start_time": "2022-10-02T16:18:44.954Z"
   },
   {
    "duration": 29,
    "start_time": "2022-10-02T16:18:44.972Z"
   },
   {
    "duration": 24,
    "start_time": "2022-10-02T16:18:45.003Z"
   },
   {
    "duration": 7,
    "start_time": "2022-10-02T16:18:45.029Z"
   },
   {
    "duration": 9,
    "start_time": "2022-10-02T16:18:45.037Z"
   },
   {
    "duration": 15,
    "start_time": "2022-10-02T16:18:45.048Z"
   },
   {
    "duration": 5,
    "start_time": "2022-10-02T16:18:45.065Z"
   },
   {
    "duration": 7,
    "start_time": "2022-10-02T16:22:58.514Z"
   },
   {
    "duration": 15,
    "start_time": "2022-10-02T16:23:33.760Z"
   },
   {
    "duration": 85,
    "start_time": "2022-10-02T16:23:46.792Z"
   },
   {
    "duration": 6,
    "start_time": "2022-10-02T16:24:29.708Z"
   },
   {
    "duration": 52,
    "start_time": "2022-10-03T03:31:12.329Z"
   },
   {
    "duration": 734,
    "start_time": "2022-10-03T03:31:27.210Z"
   },
   {
    "duration": 19,
    "start_time": "2022-10-03T03:31:31.746Z"
   },
   {
    "duration": 2541,
    "start_time": "2022-10-03T03:31:34.300Z"
   },
   {
    "duration": 12,
    "start_time": "2022-10-03T03:31:39.192Z"
   },
   {
    "duration": 8,
    "start_time": "2022-10-03T03:31:40.800Z"
   },
   {
    "duration": 29,
    "start_time": "2022-10-03T03:31:42.456Z"
   },
   {
    "duration": 30,
    "start_time": "2022-10-03T03:31:44.073Z"
   },
   {
    "duration": 8,
    "start_time": "2022-10-03T03:31:45.533Z"
   },
   {
    "duration": 7,
    "start_time": "2022-10-03T03:31:45.988Z"
   },
   {
    "duration": 14,
    "start_time": "2022-10-03T03:31:47.190Z"
   },
   {
    "duration": 9,
    "start_time": "2022-10-03T03:31:48.456Z"
   },
   {
    "duration": 24,
    "start_time": "2022-10-03T03:31:56.431Z"
   },
   {
    "duration": 21,
    "start_time": "2022-10-03T03:31:57.736Z"
   },
   {
    "duration": 104,
    "start_time": "2022-10-03T03:32:08.433Z"
   },
   {
    "duration": 7,
    "start_time": "2022-10-03T03:32:09.985Z"
   },
   {
    "duration": 7,
    "start_time": "2022-10-03T03:32:10.715Z"
   },
   {
    "duration": 12,
    "start_time": "2022-10-03T03:32:11.198Z"
   },
   {
    "duration": 8,
    "start_time": "2022-10-03T03:32:12.362Z"
   },
   {
    "duration": 7,
    "start_time": "2022-10-03T03:32:12.846Z"
   },
   {
    "duration": 7,
    "start_time": "2022-10-03T03:32:13.338Z"
   },
   {
    "duration": 7,
    "start_time": "2022-10-03T03:32:14.292Z"
   },
   {
    "duration": 40,
    "start_time": "2022-10-03T03:32:14.588Z"
   },
   {
    "duration": 8,
    "start_time": "2022-10-03T03:32:14.986Z"
   },
   {
    "duration": 48,
    "start_time": "2022-10-03T03:32:15.416Z"
   },
   {
    "duration": 8,
    "start_time": "2022-10-03T03:32:15.871Z"
   },
   {
    "duration": 7,
    "start_time": "2022-10-03T03:32:16.829Z"
   },
   {
    "duration": 7,
    "start_time": "2022-10-03T03:32:17.448Z"
   },
   {
    "duration": 7,
    "start_time": "2022-10-03T03:32:18.212Z"
   },
   {
    "duration": 37,
    "start_time": "2022-10-03T03:32:18.737Z"
   },
   {
    "duration": 9,
    "start_time": "2022-10-03T03:32:19.454Z"
   },
   {
    "duration": 8,
    "start_time": "2022-10-03T03:32:20.362Z"
   },
   {
    "duration": 59,
    "start_time": "2022-10-03T03:32:21.734Z"
   },
   {
    "duration": 54,
    "start_time": "2022-10-03T03:33:42.633Z"
   },
   {
    "duration": 49,
    "start_time": "2022-10-03T03:34:15.451Z"
   },
   {
    "duration": 5,
    "start_time": "2022-10-03T03:34:38.064Z"
   },
   {
    "duration": 14,
    "start_time": "2022-10-03T03:34:54.217Z"
   },
   {
    "duration": 8,
    "start_time": "2022-10-03T03:35:17.364Z"
   },
   {
    "duration": 8,
    "start_time": "2022-10-03T03:35:22.082Z"
   },
   {
    "duration": 5,
    "start_time": "2022-10-03T03:35:36.301Z"
   },
   {
    "duration": 8,
    "start_time": "2022-10-03T03:35:51.164Z"
   },
   {
    "duration": 7,
    "start_time": "2022-10-03T03:35:54.562Z"
   },
   {
    "duration": 6,
    "start_time": "2022-10-03T03:36:02.110Z"
   },
   {
    "duration": 7,
    "start_time": "2022-10-03T03:36:04.903Z"
   },
   {
    "duration": 9,
    "start_time": "2022-10-03T03:36:07.988Z"
   },
   {
    "duration": 8,
    "start_time": "2022-10-03T03:36:11.915Z"
   },
   {
    "duration": 125,
    "start_time": "2022-10-03T03:36:36.944Z"
   },
   {
    "duration": 17,
    "start_time": "2022-10-03T03:36:37.588Z"
   },
   {
    "duration": 2059,
    "start_time": "2022-10-03T03:36:38.068Z"
   },
   {
    "duration": 10,
    "start_time": "2022-10-03T03:36:40.130Z"
   },
   {
    "duration": 8,
    "start_time": "2022-10-03T03:36:40.154Z"
   },
   {
    "duration": 30,
    "start_time": "2022-10-03T03:36:40.165Z"
   },
   {
    "duration": 30,
    "start_time": "2022-10-03T03:36:40.355Z"
   },
   {
    "duration": 6,
    "start_time": "2022-10-03T03:36:40.920Z"
   },
   {
    "duration": 5,
    "start_time": "2022-10-03T03:36:41.115Z"
   },
   {
    "duration": 13,
    "start_time": "2022-10-03T03:36:41.491Z"
   },
   {
    "duration": 9,
    "start_time": "2022-10-03T03:36:41.967Z"
   },
   {
    "duration": 21,
    "start_time": "2022-10-03T03:36:44.953Z"
   },
   {
    "duration": 20,
    "start_time": "2022-10-03T03:36:46.014Z"
   },
   {
    "duration": 96,
    "start_time": "2022-10-03T03:36:46.491Z"
   },
   {
    "duration": 7,
    "start_time": "2022-10-03T03:36:48.896Z"
   },
   {
    "duration": 8,
    "start_time": "2022-10-03T03:36:49.271Z"
   },
   {
    "duration": 12,
    "start_time": "2022-10-03T03:36:49.593Z"
   },
   {
    "duration": 8,
    "start_time": "2022-10-03T03:36:50.029Z"
   },
   {
    "duration": 9,
    "start_time": "2022-10-03T03:36:50.225Z"
   },
   {
    "duration": 6,
    "start_time": "2022-10-03T03:36:50.413Z"
   },
   {
    "duration": 8,
    "start_time": "2022-10-03T03:36:50.606Z"
   },
   {
    "duration": 40,
    "start_time": "2022-10-03T03:36:50.865Z"
   },
   {
    "duration": 8,
    "start_time": "2022-10-03T03:36:51.233Z"
   },
   {
    "duration": 73,
    "start_time": "2022-10-03T03:36:51.693Z"
   },
   {
    "duration": 7,
    "start_time": "2022-10-03T03:36:52.133Z"
   },
   {
    "duration": 7,
    "start_time": "2022-10-03T03:36:54.749Z"
   },
   {
    "duration": 7,
    "start_time": "2022-10-03T03:36:55.218Z"
   },
   {
    "duration": 7,
    "start_time": "2022-10-03T03:36:55.647Z"
   },
   {
    "duration": 37,
    "start_time": "2022-10-03T03:36:55.881Z"
   },
   {
    "duration": 9,
    "start_time": "2022-10-03T03:36:56.076Z"
   },
   {
    "duration": 9,
    "start_time": "2022-10-03T03:36:56.311Z"
   },
   {
    "duration": 11,
    "start_time": "2022-10-03T03:36:58.233Z"
   },
   {
    "duration": 11,
    "start_time": "2022-10-03T03:36:59.155Z"
   },
   {
    "duration": 9,
    "start_time": "2022-10-03T03:37:19.312Z"
   },
   {
    "duration": 8,
    "start_time": "2022-10-03T03:37:26.620Z"
   },
   {
    "duration": 8,
    "start_time": "2022-10-03T03:37:43.516Z"
   },
   {
    "duration": 570,
    "start_time": "2022-10-03T03:37:56.549Z"
   },
   {
    "duration": 17,
    "start_time": "2022-10-03T03:37:57.122Z"
   },
   {
    "duration": 2420,
    "start_time": "2022-10-03T03:37:57.141Z"
   },
   {
    "duration": 10,
    "start_time": "2022-10-03T03:37:59.563Z"
   },
   {
    "duration": 7,
    "start_time": "2022-10-03T03:37:59.575Z"
   },
   {
    "duration": 28,
    "start_time": "2022-10-03T03:37:59.583Z"
   },
   {
    "duration": 60,
    "start_time": "2022-10-03T03:37:59.612Z"
   },
   {
    "duration": 6,
    "start_time": "2022-10-03T03:37:59.673Z"
   },
   {
    "duration": 10,
    "start_time": "2022-10-03T03:37:59.680Z"
   },
   {
    "duration": 12,
    "start_time": "2022-10-03T03:37:59.693Z"
   },
   {
    "duration": 10,
    "start_time": "2022-10-03T03:37:59.706Z"
   },
   {
    "duration": 54,
    "start_time": "2022-10-03T03:37:59.717Z"
   },
   {
    "duration": 17,
    "start_time": "2022-10-03T03:37:59.773Z"
   },
   {
    "duration": 126,
    "start_time": "2022-10-03T03:37:59.792Z"
   },
   {
    "duration": 6,
    "start_time": "2022-10-03T03:37:59.920Z"
   },
   {
    "duration": 28,
    "start_time": "2022-10-03T03:37:59.928Z"
   },
   {
    "duration": 12,
    "start_time": "2022-10-03T03:37:59.957Z"
   },
   {
    "duration": 7,
    "start_time": "2022-10-03T03:37:59.971Z"
   },
   {
    "duration": 9,
    "start_time": "2022-10-03T03:37:59.980Z"
   },
   {
    "duration": 10,
    "start_time": "2022-10-03T03:37:59.990Z"
   },
   {
    "duration": 13,
    "start_time": "2022-10-03T03:38:00.001Z"
   },
   {
    "duration": 82,
    "start_time": "2022-10-03T03:38:00.015Z"
   },
   {
    "duration": 8,
    "start_time": "2022-10-03T03:38:00.099Z"
   },
   {
    "duration": 92,
    "start_time": "2022-10-03T03:38:00.109Z"
   },
   {
    "duration": 43,
    "start_time": "2022-10-03T03:38:00.203Z"
   },
   {
    "duration": 48,
    "start_time": "2022-10-03T03:38:00.248Z"
   },
   {
    "duration": 21,
    "start_time": "2022-10-03T03:38:00.297Z"
   },
   {
    "duration": 26,
    "start_time": "2022-10-03T03:38:00.322Z"
   },
   {
    "duration": 57,
    "start_time": "2022-10-03T03:38:00.350Z"
   },
   {
    "duration": 9,
    "start_time": "2022-10-03T03:38:00.409Z"
   },
   {
    "duration": 21,
    "start_time": "2022-10-03T03:38:00.420Z"
   },
   {
    "duration": 26,
    "start_time": "2022-10-03T03:38:00.445Z"
   },
   {
    "duration": 18,
    "start_time": "2022-10-03T03:38:00.473Z"
   },
   {
    "duration": 14,
    "start_time": "2022-10-03T03:38:00.493Z"
   },
   {
    "duration": 51,
    "start_time": "2022-10-03T03:38:00.509Z"
   },
   {
    "duration": 54,
    "start_time": "2022-10-03T03:38:00.562Z"
   },
   {
    "duration": 26,
    "start_time": "2022-10-03T03:38:00.618Z"
   },
   {
    "duration": 261,
    "start_time": "2022-10-03T03:38:00.646Z"
   },
   {
    "duration": 287,
    "start_time": "2022-10-03T03:38:00.909Z"
   },
   {
    "duration": 210,
    "start_time": "2022-10-03T03:38:01.198Z"
   },
   {
    "duration": 629,
    "start_time": "2022-10-03T03:38:01.409Z"
   },
   {
    "duration": 187,
    "start_time": "2022-10-03T03:38:02.040Z"
   },
   {
    "duration": 203,
    "start_time": "2022-10-03T03:38:02.229Z"
   },
   {
    "duration": 211,
    "start_time": "2022-10-03T03:38:02.434Z"
   },
   {
    "duration": 159,
    "start_time": "2022-10-03T03:38:02.647Z"
   },
   {
    "duration": 222,
    "start_time": "2022-10-03T03:38:02.809Z"
   },
   {
    "duration": 240,
    "start_time": "2022-10-03T03:38:03.033Z"
   },
   {
    "duration": 224,
    "start_time": "2022-10-03T03:38:03.275Z"
   },
   {
    "duration": 239,
    "start_time": "2022-10-03T03:38:03.501Z"
   },
   {
    "duration": 171,
    "start_time": "2022-10-03T03:38:03.741Z"
   },
   {
    "duration": 297,
    "start_time": "2022-10-03T03:38:03.913Z"
   },
   {
    "duration": 249,
    "start_time": "2022-10-03T03:38:04.212Z"
   },
   {
    "duration": 220,
    "start_time": "2022-10-03T03:38:04.462Z"
   },
   {
    "duration": 226,
    "start_time": "2022-10-03T03:38:04.684Z"
   },
   {
    "duration": 204,
    "start_time": "2022-10-03T03:38:04.912Z"
   },
   {
    "duration": 238,
    "start_time": "2022-10-03T03:38:05.119Z"
   },
   {
    "duration": 244,
    "start_time": "2022-10-03T03:38:05.359Z"
   },
   {
    "duration": 19,
    "start_time": "2022-10-03T03:38:05.606Z"
   },
   {
    "duration": 41,
    "start_time": "2022-10-03T03:38:05.627Z"
   },
   {
    "duration": 14,
    "start_time": "2022-10-03T03:38:05.670Z"
   },
   {
    "duration": 28,
    "start_time": "2022-10-03T03:38:05.686Z"
   },
   {
    "duration": 9,
    "start_time": "2022-10-03T03:38:05.716Z"
   },
   {
    "duration": 35,
    "start_time": "2022-10-03T03:38:05.727Z"
   },
   {
    "duration": 31,
    "start_time": "2022-10-03T03:38:05.763Z"
   },
   {
    "duration": 5,
    "start_time": "2022-10-03T03:38:05.796Z"
   },
   {
    "duration": 557,
    "start_time": "2022-10-03T03:38:35.275Z"
   },
   {
    "duration": 30,
    "start_time": "2022-10-03T03:38:35.834Z"
   },
   {
    "duration": 2307,
    "start_time": "2022-10-03T03:38:35.866Z"
   },
   {
    "duration": 11,
    "start_time": "2022-10-03T03:38:38.175Z"
   },
   {
    "duration": 9,
    "start_time": "2022-10-03T03:38:38.188Z"
   },
   {
    "duration": 32,
    "start_time": "2022-10-03T03:38:38.199Z"
   },
   {
    "duration": 40,
    "start_time": "2022-10-03T03:38:38.233Z"
   },
   {
    "duration": 8,
    "start_time": "2022-10-03T03:38:38.274Z"
   },
   {
    "duration": 8,
    "start_time": "2022-10-03T03:38:38.284Z"
   },
   {
    "duration": 9,
    "start_time": "2022-10-03T03:38:38.295Z"
   },
   {
    "duration": 8,
    "start_time": "2022-10-03T03:38:38.306Z"
   },
   {
    "duration": 52,
    "start_time": "2022-10-03T03:38:38.316Z"
   },
   {
    "duration": 16,
    "start_time": "2022-10-03T03:38:38.370Z"
   },
   {
    "duration": 118,
    "start_time": "2022-10-03T03:38:38.388Z"
   },
   {
    "duration": 6,
    "start_time": "2022-10-03T03:38:38.507Z"
   },
   {
    "duration": 8,
    "start_time": "2022-10-03T03:38:38.515Z"
   },
   {
    "duration": 31,
    "start_time": "2022-10-03T03:38:38.524Z"
   },
   {
    "duration": 8,
    "start_time": "2022-10-03T03:38:38.556Z"
   },
   {
    "duration": 6,
    "start_time": "2022-10-03T03:38:38.566Z"
   },
   {
    "duration": 5,
    "start_time": "2022-10-03T03:38:38.574Z"
   },
   {
    "duration": 10,
    "start_time": "2022-10-03T03:38:38.581Z"
   },
   {
    "duration": 70,
    "start_time": "2022-10-03T03:38:38.593Z"
   },
   {
    "duration": 8,
    "start_time": "2022-10-03T03:38:38.665Z"
   },
   {
    "duration": 53,
    "start_time": "2022-10-03T03:38:38.674Z"
   },
   {
    "duration": 7,
    "start_time": "2022-10-03T03:38:38.729Z"
   },
   {
    "duration": 20,
    "start_time": "2022-10-03T03:38:38.738Z"
   },
   {
    "duration": 6,
    "start_time": "2022-10-03T03:38:38.761Z"
   },
   {
    "duration": 6,
    "start_time": "2022-10-03T03:38:38.771Z"
   },
   {
    "duration": 37,
    "start_time": "2022-10-03T03:38:38.778Z"
   },
   {
    "duration": 38,
    "start_time": "2022-10-03T03:38:38.817Z"
   },
   {
    "duration": 7,
    "start_time": "2022-10-03T03:38:38.856Z"
   },
   {
    "duration": 15,
    "start_time": "2022-10-03T03:38:38.864Z"
   },
   {
    "duration": 14,
    "start_time": "2022-10-03T03:38:38.881Z"
   },
   {
    "duration": 37,
    "start_time": "2022-10-03T03:38:38.896Z"
   },
   {
    "duration": 32,
    "start_time": "2022-10-03T03:38:38.935Z"
   },
   {
    "duration": 38,
    "start_time": "2022-10-03T03:38:38.969Z"
   },
   {
    "duration": 16,
    "start_time": "2022-10-03T03:38:39.009Z"
   },
   {
    "duration": 309,
    "start_time": "2022-10-03T03:38:39.027Z"
   },
   {
    "duration": 331,
    "start_time": "2022-10-03T03:38:39.339Z"
   },
   {
    "duration": 204,
    "start_time": "2022-10-03T03:38:39.672Z"
   },
   {
    "duration": 559,
    "start_time": "2022-10-03T03:38:39.878Z"
   },
   {
    "duration": 181,
    "start_time": "2022-10-03T03:38:40.439Z"
   },
   {
    "duration": 226,
    "start_time": "2022-10-03T03:38:40.622Z"
   },
   {
    "duration": 228,
    "start_time": "2022-10-03T03:38:40.850Z"
   },
   {
    "duration": 136,
    "start_time": "2022-10-03T03:38:41.080Z"
   },
   {
    "duration": 267,
    "start_time": "2022-10-03T03:38:41.218Z"
   },
   {
    "duration": 306,
    "start_time": "2022-10-03T03:38:41.488Z"
   },
   {
    "duration": 220,
    "start_time": "2022-10-03T03:38:41.797Z"
   },
   {
    "duration": 265,
    "start_time": "2022-10-03T03:38:42.018Z"
   },
   {
    "duration": 177,
    "start_time": "2022-10-03T03:38:42.285Z"
   },
   {
    "duration": 285,
    "start_time": "2022-10-03T03:38:42.464Z"
   },
   {
    "duration": 235,
    "start_time": "2022-10-03T03:38:42.754Z"
   },
   {
    "duration": 201,
    "start_time": "2022-10-03T03:38:42.991Z"
   },
   {
    "duration": 212,
    "start_time": "2022-10-03T03:38:43.194Z"
   },
   {
    "duration": 177,
    "start_time": "2022-10-03T03:38:43.408Z"
   },
   {
    "duration": 207,
    "start_time": "2022-10-03T03:38:43.586Z"
   },
   {
    "duration": 220,
    "start_time": "2022-10-03T03:38:43.795Z"
   },
   {
    "duration": 16,
    "start_time": "2022-10-03T03:38:44.017Z"
   },
   {
    "duration": 31,
    "start_time": "2022-10-03T03:38:44.034Z"
   },
   {
    "duration": 15,
    "start_time": "2022-10-03T03:38:44.067Z"
   },
   {
    "duration": 28,
    "start_time": "2022-10-03T03:38:44.083Z"
   },
   {
    "duration": 10,
    "start_time": "2022-10-03T03:38:44.113Z"
   },
   {
    "duration": 11,
    "start_time": "2022-10-03T03:38:44.153Z"
   },
   {
    "duration": 21,
    "start_time": "2022-10-03T03:38:44.166Z"
   },
   {
    "duration": 5,
    "start_time": "2022-10-03T03:38:44.189Z"
   },
   {
    "duration": 541,
    "start_time": "2022-10-03T03:39:25.700Z"
   },
   {
    "duration": 19,
    "start_time": "2022-10-03T03:39:26.243Z"
   },
   {
    "duration": 2330,
    "start_time": "2022-10-03T03:39:26.263Z"
   },
   {
    "duration": 11,
    "start_time": "2022-10-03T03:39:28.595Z"
   },
   {
    "duration": 7,
    "start_time": "2022-10-03T03:39:28.607Z"
   },
   {
    "duration": 32,
    "start_time": "2022-10-03T03:39:28.616Z"
   },
   {
    "duration": 29,
    "start_time": "2022-10-03T03:39:28.651Z"
   },
   {
    "duration": 6,
    "start_time": "2022-10-03T03:39:28.683Z"
   },
   {
    "duration": 15,
    "start_time": "2022-10-03T03:39:28.690Z"
   },
   {
    "duration": 22,
    "start_time": "2022-10-03T03:39:28.709Z"
   },
   {
    "duration": 23,
    "start_time": "2022-10-03T03:39:28.733Z"
   },
   {
    "duration": 23,
    "start_time": "2022-10-03T03:39:28.757Z"
   },
   {
    "duration": 18,
    "start_time": "2022-10-03T03:39:28.781Z"
   },
   {
    "duration": 126,
    "start_time": "2022-10-03T03:39:28.801Z"
   },
   {
    "duration": 6,
    "start_time": "2022-10-03T03:39:28.929Z"
   },
   {
    "duration": 18,
    "start_time": "2022-10-03T03:39:28.937Z"
   },
   {
    "duration": 11,
    "start_time": "2022-10-03T03:39:28.957Z"
   },
   {
    "duration": 8,
    "start_time": "2022-10-03T03:39:28.970Z"
   },
   {
    "duration": 7,
    "start_time": "2022-10-03T03:39:28.980Z"
   },
   {
    "duration": 5,
    "start_time": "2022-10-03T03:39:28.989Z"
   },
   {
    "duration": 7,
    "start_time": "2022-10-03T03:39:28.996Z"
   },
   {
    "duration": 82,
    "start_time": "2022-10-03T03:39:29.005Z"
   },
   {
    "duration": 9,
    "start_time": "2022-10-03T03:39:29.089Z"
   },
   {
    "duration": 64,
    "start_time": "2022-10-03T03:39:29.100Z"
   },
   {
    "duration": 9,
    "start_time": "2022-10-03T03:39:29.165Z"
   },
   {
    "duration": 10,
    "start_time": "2022-10-03T03:39:29.175Z"
   },
   {
    "duration": 14,
    "start_time": "2022-10-03T03:39:29.187Z"
   },
   {
    "duration": 8,
    "start_time": "2022-10-03T03:39:29.209Z"
   },
   {
    "duration": 68,
    "start_time": "2022-10-03T03:39:29.219Z"
   },
   {
    "duration": 9,
    "start_time": "2022-10-03T03:39:29.289Z"
   },
   {
    "duration": 8,
    "start_time": "2022-10-03T03:39:29.300Z"
   },
   {
    "duration": 12,
    "start_time": "2022-10-03T03:39:29.311Z"
   },
   {
    "duration": 40,
    "start_time": "2022-10-03T03:39:29.325Z"
   },
   {
    "duration": 8,
    "start_time": "2022-10-03T03:39:29.368Z"
   },
   {
    "duration": 30,
    "start_time": "2022-10-03T03:39:29.378Z"
   },
   {
    "duration": 69,
    "start_time": "2022-10-03T03:39:29.410Z"
   },
   {
    "duration": 18,
    "start_time": "2022-10-03T03:39:29.481Z"
   },
   {
    "duration": 265,
    "start_time": "2022-10-03T03:39:29.501Z"
   },
   {
    "duration": 271,
    "start_time": "2022-10-03T03:39:29.768Z"
   },
   {
    "duration": 203,
    "start_time": "2022-10-03T03:39:30.041Z"
   },
   {
    "duration": 542,
    "start_time": "2022-10-03T03:39:30.246Z"
   },
   {
    "duration": 189,
    "start_time": "2022-10-03T03:39:30.790Z"
   },
   {
    "duration": 217,
    "start_time": "2022-10-03T03:39:30.981Z"
   },
   {
    "duration": 258,
    "start_time": "2022-10-03T03:39:31.200Z"
   },
   {
    "duration": 163,
    "start_time": "2022-10-03T03:39:31.461Z"
   },
   {
    "duration": 327,
    "start_time": "2022-10-03T03:39:31.627Z"
   },
   {
    "duration": 264,
    "start_time": "2022-10-03T03:39:31.956Z"
   },
   {
    "duration": 221,
    "start_time": "2022-10-03T03:39:32.223Z"
   },
   {
    "duration": 232,
    "start_time": "2022-10-03T03:39:32.445Z"
   },
   {
    "duration": 180,
    "start_time": "2022-10-03T03:39:32.678Z"
   },
   {
    "duration": 289,
    "start_time": "2022-10-03T03:39:32.859Z"
   },
   {
    "duration": 234,
    "start_time": "2022-10-03T03:39:33.150Z"
   },
   {
    "duration": 206,
    "start_time": "2022-10-03T03:39:33.386Z"
   },
   {
    "duration": 209,
    "start_time": "2022-10-03T03:39:33.594Z"
   },
   {
    "duration": 193,
    "start_time": "2022-10-03T03:39:33.805Z"
   },
   {
    "duration": 217,
    "start_time": "2022-10-03T03:39:34.001Z"
   },
   {
    "duration": 212,
    "start_time": "2022-10-03T03:39:34.220Z"
   },
   {
    "duration": 34,
    "start_time": "2022-10-03T03:39:34.435Z"
   },
   {
    "duration": 29,
    "start_time": "2022-10-03T03:39:34.472Z"
   },
   {
    "duration": 13,
    "start_time": "2022-10-03T03:39:34.503Z"
   },
   {
    "duration": 63,
    "start_time": "2022-10-03T03:39:34.519Z"
   },
   {
    "duration": 8,
    "start_time": "2022-10-03T03:39:34.584Z"
   },
   {
    "duration": 10,
    "start_time": "2022-10-03T03:39:34.593Z"
   },
   {
    "duration": 25,
    "start_time": "2022-10-03T03:39:34.605Z"
   },
   {
    "duration": 27,
    "start_time": "2022-10-03T03:39:34.632Z"
   },
   {
    "duration": 10,
    "start_time": "2022-10-03T03:39:48.941Z"
   },
   {
    "duration": 9,
    "start_time": "2022-10-03T03:40:06.484Z"
   },
   {
    "duration": 12,
    "start_time": "2022-10-03T03:40:32.748Z"
   },
   {
    "duration": 9,
    "start_time": "2022-10-03T03:40:37.842Z"
   },
   {
    "duration": 20,
    "start_time": "2022-10-03T03:40:42.798Z"
   },
   {
    "duration": 12,
    "start_time": "2022-10-03T03:40:51.680Z"
   },
   {
    "duration": 10,
    "start_time": "2022-10-03T03:40:56.433Z"
   },
   {
    "duration": 14,
    "start_time": "2022-10-03T03:41:02.304Z"
   },
   {
    "duration": 11,
    "start_time": "2022-10-03T03:41:25.660Z"
   },
   {
    "duration": 11,
    "start_time": "2022-10-03T03:41:55.709Z"
   },
   {
    "duration": 10,
    "start_time": "2022-10-03T03:42:19.509Z"
   },
   {
    "duration": 13,
    "start_time": "2022-10-03T03:43:00.338Z"
   },
   {
    "duration": 14,
    "start_time": "2022-10-03T03:43:07.827Z"
   },
   {
    "duration": 11,
    "start_time": "2022-10-03T03:43:25.518Z"
   },
   {
    "duration": 10,
    "start_time": "2022-10-03T03:43:35.797Z"
   },
   {
    "duration": 10,
    "start_time": "2022-10-03T03:43:48.899Z"
   },
   {
    "duration": 13,
    "start_time": "2022-10-03T03:43:55.244Z"
   },
   {
    "duration": 13,
    "start_time": "2022-10-03T03:46:00.917Z"
   },
   {
    "duration": 8,
    "start_time": "2022-10-03T03:48:34.594Z"
   },
   {
    "duration": 90,
    "start_time": "2022-10-03T03:50:07.161Z"
   },
   {
    "duration": 5,
    "start_time": "2022-10-03T03:56:01.032Z"
   },
   {
    "duration": 3,
    "start_time": "2022-10-03T03:56:07.665Z"
   },
   {
    "duration": 11,
    "start_time": "2022-10-03T03:56:21.191Z"
   },
   {
    "duration": 3,
    "start_time": "2022-10-03T03:56:30.763Z"
   },
   {
    "duration": 12,
    "start_time": "2022-10-03T03:56:31.659Z"
   },
   {
    "duration": 8,
    "start_time": "2022-10-03T03:57:07.374Z"
   },
   {
    "duration": 8,
    "start_time": "2022-10-03T03:57:46.788Z"
   },
   {
    "duration": 4,
    "start_time": "2022-10-03T03:58:00.379Z"
   },
   {
    "duration": 8,
    "start_time": "2022-10-03T04:01:04.720Z"
   },
   {
    "duration": 13,
    "start_time": "2022-10-03T04:02:30.210Z"
   },
   {
    "duration": 12,
    "start_time": "2022-10-03T04:03:20.619Z"
   },
   {
    "duration": 13,
    "start_time": "2022-10-03T04:03:49.527Z"
   },
   {
    "duration": 13,
    "start_time": "2022-10-03T04:07:25.475Z"
   },
   {
    "duration": 136,
    "start_time": "2022-10-03T04:08:21.463Z"
   },
   {
    "duration": 108,
    "start_time": "2022-10-03T04:14:21.872Z"
   },
   {
    "duration": 11,
    "start_time": "2022-10-03T04:26:56.995Z"
   },
   {
    "duration": 15,
    "start_time": "2022-10-03T04:28:39.114Z"
   },
   {
    "duration": 9,
    "start_time": "2022-10-03T04:29:20.156Z"
   },
   {
    "duration": 135,
    "start_time": "2022-10-03T04:29:37.894Z"
   },
   {
    "duration": 151,
    "start_time": "2022-10-03T04:30:46.162Z"
   },
   {
    "duration": 55,
    "start_time": "2022-10-03T04:32:42.114Z"
   },
   {
    "duration": 119,
    "start_time": "2022-10-03T04:32:53.581Z"
   },
   {
    "duration": 123,
    "start_time": "2022-10-03T04:33:08.403Z"
   },
   {
    "duration": 227,
    "start_time": "2022-10-03T04:33:18.431Z"
   },
   {
    "duration": 135,
    "start_time": "2022-10-03T04:33:28.951Z"
   },
   {
    "duration": 129,
    "start_time": "2022-10-03T04:33:51.890Z"
   },
   {
    "duration": 122,
    "start_time": "2022-10-03T04:33:57.993Z"
   },
   {
    "duration": 149,
    "start_time": "2022-10-03T04:34:25.220Z"
   },
   {
    "duration": 8,
    "start_time": "2022-10-03T04:39:27.900Z"
   },
   {
    "duration": 7,
    "start_time": "2022-10-03T04:40:25.561Z"
   },
   {
    "duration": 143,
    "start_time": "2022-10-03T04:40:50.839Z"
   },
   {
    "duration": 8,
    "start_time": "2022-10-03T04:44:03.405Z"
   },
   {
    "duration": 9,
    "start_time": "2022-10-03T04:44:35.793Z"
   },
   {
    "duration": 136,
    "start_time": "2022-10-03T04:47:47.284Z"
   },
   {
    "duration": 10,
    "start_time": "2022-10-03T04:49:26.520Z"
   },
   {
    "duration": 136,
    "start_time": "2022-10-03T04:49:53.595Z"
   },
   {
    "duration": 156,
    "start_time": "2022-10-03T04:50:02.101Z"
   },
   {
    "duration": 113,
    "start_time": "2022-10-03T04:50:07.434Z"
   },
   {
    "duration": 164,
    "start_time": "2022-10-03T04:50:11.361Z"
   },
   {
    "duration": 127,
    "start_time": "2022-10-03T04:50:41.203Z"
   },
   {
    "duration": 130,
    "start_time": "2022-10-03T04:51:40.500Z"
   },
   {
    "duration": 14,
    "start_time": "2022-10-03T04:52:07.504Z"
   },
   {
    "duration": 9,
    "start_time": "2022-10-03T04:52:21.160Z"
   },
   {
    "duration": 10,
    "start_time": "2022-10-03T04:59:52.673Z"
   },
   {
    "duration": 14,
    "start_time": "2022-10-03T05:00:26.748Z"
   },
   {
    "duration": 10,
    "start_time": "2022-10-03T05:01:03.886Z"
   },
   {
    "duration": 26,
    "start_time": "2022-10-03T05:01:08.151Z"
   },
   {
    "duration": 132,
    "start_time": "2022-10-03T05:01:49.213Z"
   },
   {
    "duration": 17,
    "start_time": "2022-10-03T05:01:49.735Z"
   },
   {
    "duration": 2114,
    "start_time": "2022-10-03T05:01:50.369Z"
   },
   {
    "duration": 10,
    "start_time": "2022-10-03T05:01:52.485Z"
   },
   {
    "duration": 16,
    "start_time": "2022-10-03T05:01:52.496Z"
   },
   {
    "duration": 40,
    "start_time": "2022-10-03T05:01:52.514Z"
   },
   {
    "duration": 32,
    "start_time": "2022-10-03T05:01:54.203Z"
   },
   {
    "duration": 8,
    "start_time": "2022-10-03T05:01:55.736Z"
   },
   {
    "duration": 7,
    "start_time": "2022-10-03T05:01:56.203Z"
   },
   {
    "duration": 13,
    "start_time": "2022-10-03T05:01:57.805Z"
   },
   {
    "duration": 10,
    "start_time": "2022-10-03T05:01:59.125Z"
   },
   {
    "duration": 22,
    "start_time": "2022-10-03T05:02:01.977Z"
   },
   {
    "duration": 18,
    "start_time": "2022-10-03T05:02:03.804Z"
   },
   {
    "duration": 89,
    "start_time": "2022-10-03T05:02:04.275Z"
   },
   {
    "duration": 6,
    "start_time": "2022-10-03T05:02:07.243Z"
   },
   {
    "duration": 7,
    "start_time": "2022-10-03T05:02:07.571Z"
   },
   {
    "duration": 12,
    "start_time": "2022-10-03T05:02:08.055Z"
   },
   {
    "duration": 8,
    "start_time": "2022-10-03T05:02:09.227Z"
   },
   {
    "duration": 7,
    "start_time": "2022-10-03T05:02:09.649Z"
   },
   {
    "duration": 6,
    "start_time": "2022-10-03T05:02:10.067Z"
   },
   {
    "duration": 8,
    "start_time": "2022-10-03T05:02:10.476Z"
   },
   {
    "duration": 38,
    "start_time": "2022-10-03T05:02:10.868Z"
   },
   {
    "duration": 9,
    "start_time": "2022-10-03T05:02:11.281Z"
   },
   {
    "duration": 49,
    "start_time": "2022-10-03T05:02:11.683Z"
   },
   {
    "duration": 8,
    "start_time": "2022-10-03T05:02:12.165Z"
   },
   {
    "duration": 8,
    "start_time": "2022-10-03T05:02:13.039Z"
   },
   {
    "duration": 6,
    "start_time": "2022-10-03T05:02:15.179Z"
   },
   {
    "duration": 8,
    "start_time": "2022-10-03T05:02:16.915Z"
   },
   {
    "duration": 35,
    "start_time": "2022-10-03T05:02:17.392Z"
   },
   {
    "duration": 8,
    "start_time": "2022-10-03T05:02:17.743Z"
   },
   {
    "duration": 6,
    "start_time": "2022-10-03T05:02:18.150Z"
   },
   {
    "duration": 126,
    "start_time": "2022-10-03T05:02:18.961Z"
   },
   {
    "duration": 8,
    "start_time": "2022-10-03T05:02:21.953Z"
   },
   {
    "duration": 8,
    "start_time": "2022-10-03T05:02:23.399Z"
   },
   {
    "duration": 129,
    "start_time": "2022-10-03T05:02:28.343Z"
   },
   {
    "duration": 26,
    "start_time": "2022-10-03T05:02:31.351Z"
   },
   {
    "duration": 21,
    "start_time": "2022-10-03T05:03:36.250Z"
   },
   {
    "duration": 25,
    "start_time": "2022-10-03T05:03:51.142Z"
   },
   {
    "duration": 19,
    "start_time": "2022-10-03T05:06:08.383Z"
   },
   {
    "duration": 17,
    "start_time": "2022-10-03T05:06:45.583Z"
   },
   {
    "duration": 5,
    "start_time": "2022-10-03T05:08:01.173Z"
   },
   {
    "duration": 33,
    "start_time": "2022-10-03T05:08:20.037Z"
   },
   {
    "duration": 24,
    "start_time": "2022-10-03T05:09:00.043Z"
   },
   {
    "duration": 15,
    "start_time": "2022-10-03T05:13:09.037Z"
   },
   {
    "duration": 9,
    "start_time": "2022-10-03T05:13:09.731Z"
   },
   {
    "duration": 11,
    "start_time": "2022-10-03T05:13:25.062Z"
   },
   {
    "duration": 10,
    "start_time": "2022-10-03T05:14:01.606Z"
   },
   {
    "duration": 20,
    "start_time": "2022-10-03T05:14:46.317Z"
   },
   {
    "duration": 117,
    "start_time": "2022-10-03T05:16:31.282Z"
   },
   {
    "duration": 122,
    "start_time": "2022-10-03T05:17:44.781Z"
   },
   {
    "duration": 239,
    "start_time": "2022-10-03T05:17:49.824Z"
   },
   {
    "duration": 135,
    "start_time": "2022-10-03T05:18:00.658Z"
   },
   {
    "duration": 119,
    "start_time": "2022-10-03T05:18:04.703Z"
   },
   {
    "duration": 115,
    "start_time": "2022-10-03T05:18:10.268Z"
   },
   {
    "duration": 113,
    "start_time": "2022-10-03T05:18:16.827Z"
   },
   {
    "duration": 8,
    "start_time": "2022-10-03T05:19:08.089Z"
   },
   {
    "duration": 9,
    "start_time": "2022-10-03T05:20:20.881Z"
   },
   {
    "duration": 9,
    "start_time": "2022-10-03T05:22:13.235Z"
   },
   {
    "duration": 6,
    "start_time": "2022-10-03T05:22:38.288Z"
   },
   {
    "duration": 103,
    "start_time": "2022-10-03T05:23:03.229Z"
   },
   {
    "duration": 6,
    "start_time": "2022-10-03T05:23:09.527Z"
   },
   {
    "duration": 137,
    "start_time": "2022-10-03T05:23:18.667Z"
   },
   {
    "duration": 25,
    "start_time": "2022-10-03T05:23:19.167Z"
   },
   {
    "duration": 2198,
    "start_time": "2022-10-03T05:23:19.791Z"
   },
   {
    "duration": 12,
    "start_time": "2022-10-03T05:23:21.991Z"
   },
   {
    "duration": 10,
    "start_time": "2022-10-03T05:23:22.004Z"
   },
   {
    "duration": 42,
    "start_time": "2022-10-03T05:23:22.016Z"
   },
   {
    "duration": 28,
    "start_time": "2022-10-03T05:23:22.540Z"
   },
   {
    "duration": 7,
    "start_time": "2022-10-03T05:23:23.118Z"
   },
   {
    "duration": 6,
    "start_time": "2022-10-03T05:23:23.603Z"
   },
   {
    "duration": 13,
    "start_time": "2022-10-03T05:23:24.095Z"
   },
   {
    "duration": 9,
    "start_time": "2022-10-03T05:23:26.970Z"
   },
   {
    "duration": 22,
    "start_time": "2022-10-03T05:23:31.126Z"
   },
   {
    "duration": 26,
    "start_time": "2022-10-03T05:23:32.860Z"
   },
   {
    "duration": 100,
    "start_time": "2022-10-03T05:23:33.292Z"
   },
   {
    "duration": 8,
    "start_time": "2022-10-03T05:23:34.767Z"
   },
   {
    "duration": 9,
    "start_time": "2022-10-03T05:23:35.189Z"
   },
   {
    "duration": 19,
    "start_time": "2022-10-03T05:23:36.048Z"
   },
   {
    "duration": 14,
    "start_time": "2022-10-03T05:23:37.353Z"
   },
   {
    "duration": 9,
    "start_time": "2022-10-03T05:23:37.870Z"
   },
   {
    "duration": 6,
    "start_time": "2022-10-03T05:23:38.877Z"
   },
   {
    "duration": 8,
    "start_time": "2022-10-03T05:23:39.274Z"
   },
   {
    "duration": 38,
    "start_time": "2022-10-03T05:23:39.979Z"
   },
   {
    "duration": 7,
    "start_time": "2022-10-03T05:23:40.470Z"
   },
   {
    "duration": 65,
    "start_time": "2022-10-03T05:23:41.018Z"
   },
   {
    "duration": 10,
    "start_time": "2022-10-03T05:23:41.611Z"
   },
   {
    "duration": 7,
    "start_time": "2022-10-03T05:23:44.467Z"
   },
   {
    "duration": 7,
    "start_time": "2022-10-03T05:23:44.845Z"
   },
   {
    "duration": 8,
    "start_time": "2022-10-03T05:23:45.181Z"
   },
   {
    "duration": 40,
    "start_time": "2022-10-03T05:23:45.525Z"
   },
   {
    "duration": 10,
    "start_time": "2022-10-03T05:23:45.947Z"
   },
   {
    "duration": 7,
    "start_time": "2022-10-03T05:23:47.134Z"
   },
   {
    "duration": 143,
    "start_time": "2022-10-03T05:23:52.352Z"
   },
   {
    "duration": 9,
    "start_time": "2022-10-03T05:24:34.228Z"
   },
   {
    "duration": 8,
    "start_time": "2022-10-03T05:24:35.483Z"
   },
   {
    "duration": 143,
    "start_time": "2022-10-03T05:24:37.381Z"
   },
   {
    "duration": 10,
    "start_time": "2022-10-03T05:24:41.209Z"
   },
   {
    "duration": 10,
    "start_time": "2022-10-03T05:25:18.569Z"
   },
   {
    "duration": 123,
    "start_time": "2022-10-03T05:26:24.082Z"
   },
   {
    "duration": 10,
    "start_time": "2022-10-03T05:26:25.580Z"
   },
   {
    "duration": 8,
    "start_time": "2022-10-03T05:26:26.658Z"
   },
   {
    "duration": 114,
    "start_time": "2022-10-03T05:26:27.776Z"
   },
   {
    "duration": 14,
    "start_time": "2022-10-03T05:26:29.870Z"
   },
   {
    "duration": 7,
    "start_time": "2022-10-03T05:26:31.362Z"
   },
   {
    "duration": 117,
    "start_time": "2022-10-03T05:26:46.089Z"
   },
   {
    "duration": 8,
    "start_time": "2022-10-03T05:26:58.673Z"
   },
   {
    "duration": 39,
    "start_time": "2022-10-03T05:28:08.804Z"
   },
   {
    "duration": 10,
    "start_time": "2022-10-03T05:30:12.853Z"
   },
   {
    "duration": 20,
    "start_time": "2022-10-03T05:35:29.980Z"
   },
   {
    "duration": 8,
    "start_time": "2022-10-03T05:35:46.015Z"
   },
   {
    "duration": 12,
    "start_time": "2022-10-03T05:35:54.789Z"
   },
   {
    "duration": 38,
    "start_time": "2022-10-03T05:36:18.154Z"
   },
   {
    "duration": 19,
    "start_time": "2022-10-03T05:36:41.073Z"
   },
   {
    "duration": 10,
    "start_time": "2022-10-03T05:37:02.745Z"
   },
   {
    "duration": 39,
    "start_time": "2022-10-03T05:37:03.885Z"
   },
   {
    "duration": 48,
    "start_time": "2022-10-03T05:37:04.517Z"
   },
   {
    "duration": 16,
    "start_time": "2022-10-03T05:37:22.758Z"
   },
   {
    "duration": 246,
    "start_time": "2022-10-03T05:37:31.695Z"
   },
   {
    "duration": 263,
    "start_time": "2022-10-03T05:37:39.180Z"
   },
   {
    "duration": 215,
    "start_time": "2022-10-03T05:37:44.702Z"
   },
   {
    "duration": 638,
    "start_time": "2022-10-03T05:37:47.061Z"
   },
   {
    "duration": 205,
    "start_time": "2022-10-03T05:37:52.743Z"
   },
   {
    "duration": 212,
    "start_time": "2022-10-03T05:38:31.275Z"
   },
   {
    "duration": 211,
    "start_time": "2022-10-03T05:38:51.553Z"
   },
   {
    "duration": 170,
    "start_time": "2022-10-03T05:39:12.276Z"
   },
   {
    "duration": 176,
    "start_time": "2022-10-03T05:39:50.496Z"
   },
   {
    "duration": 227,
    "start_time": "2022-10-03T05:40:25.393Z"
   },
   {
    "duration": 199,
    "start_time": "2022-10-03T05:40:29.955Z"
   },
   {
    "duration": 132,
    "start_time": "2022-10-03T05:40:37.946Z"
   },
   {
    "duration": 271,
    "start_time": "2022-10-03T05:40:41.383Z"
   },
   {
    "duration": 249,
    "start_time": "2022-10-03T05:40:45.509Z"
   },
   {
    "duration": 278,
    "start_time": "2022-10-03T05:42:28.152Z"
   },
   {
    "duration": 201,
    "start_time": "2022-10-03T05:42:32.333Z"
   },
   {
    "duration": 244,
    "start_time": "2022-10-03T05:42:38.793Z"
   },
   {
    "duration": 196,
    "start_time": "2022-10-03T05:43:40.153Z"
   },
   {
    "duration": 165,
    "start_time": "2022-10-03T05:43:52.863Z"
   },
   {
    "duration": 167,
    "start_time": "2022-10-03T05:44:05.017Z"
   },
   {
    "duration": 407,
    "start_time": "2022-10-03T05:44:15.164Z"
   },
   {
    "duration": 185,
    "start_time": "2022-10-03T05:44:35.441Z"
   },
   {
    "duration": 156,
    "start_time": "2022-10-03T05:44:52.066Z"
   },
   {
    "duration": 177,
    "start_time": "2022-10-03T05:48:12.501Z"
   },
   {
    "duration": 180,
    "start_time": "2022-10-03T05:49:23.161Z"
   },
   {
    "duration": 229,
    "start_time": "2022-10-03T05:49:26.839Z"
   },
   {
    "duration": 231,
    "start_time": "2022-10-03T05:50:38.063Z"
   },
   {
    "duration": 141,
    "start_time": "2022-10-03T05:52:00.821Z"
   },
   {
    "duration": 125,
    "start_time": "2022-10-03T05:52:44.230Z"
   },
   {
    "duration": 129,
    "start_time": "2022-10-03T05:52:54.446Z"
   },
   {
    "duration": 136,
    "start_time": "2022-10-03T05:53:33.856Z"
   },
   {
    "duration": 119,
    "start_time": "2022-10-03T05:55:10.744Z"
   },
   {
    "duration": 114,
    "start_time": "2022-10-03T05:55:50.407Z"
   },
   {
    "duration": 188,
    "start_time": "2022-10-03T05:56:41.166Z"
   },
   {
    "duration": 176,
    "start_time": "2022-10-03T05:56:50.120Z"
   },
   {
    "duration": 195,
    "start_time": "2022-10-03T05:56:59.159Z"
   },
   {
    "duration": 179,
    "start_time": "2022-10-03T05:57:20.475Z"
   },
   {
    "duration": 185,
    "start_time": "2022-10-03T05:58:10.956Z"
   },
   {
    "duration": 17,
    "start_time": "2022-10-03T05:58:29.450Z"
   },
   {
    "duration": 22,
    "start_time": "2022-10-03T05:58:36.643Z"
   },
   {
    "duration": 9,
    "start_time": "2022-10-03T06:05:34.066Z"
   },
   {
    "duration": 437,
    "start_time": "2022-10-03T06:05:47.010Z"
   },
   {
    "duration": 25,
    "start_time": "2022-10-03T06:05:59.492Z"
   },
   {
    "duration": 27,
    "start_time": "2022-10-03T06:08:00.738Z"
   },
   {
    "duration": 26,
    "start_time": "2022-10-03T06:08:25.718Z"
   },
   {
    "duration": 9,
    "start_time": "2022-10-03T06:08:26.529Z"
   },
   {
    "duration": 13,
    "start_time": "2022-10-03T06:08:29.078Z"
   },
   {
    "duration": 20,
    "start_time": "2022-10-03T06:10:28.059Z"
   },
   {
    "duration": 9,
    "start_time": "2022-10-03T06:10:29.205Z"
   },
   {
    "duration": 2911,
    "start_time": "2022-10-03T06:17:24.143Z"
   },
   {
    "duration": 3001,
    "start_time": "2022-10-03T06:17:27.425Z"
   },
   {
    "duration": 338,
    "start_time": "2022-10-03T06:24:51.436Z"
   },
   {
    "duration": 529,
    "start_time": "2022-10-03T19:23:03.227Z"
   },
   {
    "duration": 15,
    "start_time": "2022-10-03T19:23:03.758Z"
   },
   {
    "duration": 2282,
    "start_time": "2022-10-03T19:23:03.774Z"
   },
   {
    "duration": 9,
    "start_time": "2022-10-03T19:23:06.058Z"
   },
   {
    "duration": 7,
    "start_time": "2022-10-03T19:23:06.068Z"
   },
   {
    "duration": 26,
    "start_time": "2022-10-03T19:23:06.095Z"
   },
   {
    "duration": 27,
    "start_time": "2022-10-03T19:23:06.122Z"
   },
   {
    "duration": 14,
    "start_time": "2022-10-03T19:23:06.150Z"
   },
   {
    "duration": 10,
    "start_time": "2022-10-03T19:23:06.165Z"
   },
   {
    "duration": 24,
    "start_time": "2022-10-03T19:23:06.177Z"
   },
   {
    "duration": 9,
    "start_time": "2022-10-03T19:23:06.202Z"
   },
   {
    "duration": 19,
    "start_time": "2022-10-03T19:23:06.212Z"
   },
   {
    "duration": 16,
    "start_time": "2022-10-03T19:23:06.233Z"
   },
   {
    "duration": 114,
    "start_time": "2022-10-03T19:23:06.251Z"
   },
   {
    "duration": 5,
    "start_time": "2022-10-03T19:23:06.366Z"
   },
   {
    "duration": 6,
    "start_time": "2022-10-03T19:23:06.373Z"
   },
   {
    "duration": 10,
    "start_time": "2022-10-03T19:23:06.396Z"
   },
   {
    "duration": 7,
    "start_time": "2022-10-03T19:23:06.408Z"
   },
   {
    "duration": 6,
    "start_time": "2022-10-03T19:23:06.416Z"
   },
   {
    "duration": 6,
    "start_time": "2022-10-03T19:23:06.424Z"
   },
   {
    "duration": 11,
    "start_time": "2022-10-03T19:23:06.432Z"
   },
   {
    "duration": 66,
    "start_time": "2022-10-03T19:23:06.444Z"
   },
   {
    "duration": 8,
    "start_time": "2022-10-03T19:23:06.512Z"
   },
   {
    "duration": 41,
    "start_time": "2022-10-03T19:23:06.521Z"
   },
   {
    "duration": 6,
    "start_time": "2022-10-03T19:23:06.564Z"
   },
   {
    "duration": 27,
    "start_time": "2022-10-03T19:23:06.572Z"
   },
   {
    "duration": 6,
    "start_time": "2022-10-03T19:23:06.600Z"
   },
   {
    "duration": 5,
    "start_time": "2022-10-03T19:23:06.610Z"
   },
   {
    "duration": 34,
    "start_time": "2022-10-03T19:23:06.616Z"
   },
   {
    "duration": 7,
    "start_time": "2022-10-03T19:23:06.651Z"
   },
   {
    "duration": 38,
    "start_time": "2022-10-03T19:23:06.660Z"
   },
   {
    "duration": 158,
    "start_time": "2022-10-03T19:23:06.699Z"
   },
   {
    "duration": 11,
    "start_time": "2022-10-03T19:23:06.858Z"
   },
   {
    "duration": 25,
    "start_time": "2022-10-03T19:23:06.871Z"
   },
   {
    "duration": 147,
    "start_time": "2022-10-03T19:23:06.899Z"
   },
   {
    "duration": 8,
    "start_time": "2022-10-03T19:23:07.048Z"
   },
   {
    "duration": 6,
    "start_time": "2022-10-03T19:23:07.057Z"
   },
   {
    "duration": 137,
    "start_time": "2022-10-03T19:23:07.065Z"
   },
   {
    "duration": 7,
    "start_time": "2022-10-03T19:23:07.204Z"
   },
   {
    "duration": 10,
    "start_time": "2022-10-03T19:23:07.212Z"
   },
   {
    "duration": 6,
    "start_time": "2022-10-03T19:23:07.223Z"
   },
   {
    "duration": 22,
    "start_time": "2022-10-03T19:23:07.231Z"
   },
   {
    "duration": 63,
    "start_time": "2022-10-03T19:23:07.255Z"
   },
   {
    "duration": 14,
    "start_time": "2022-10-03T19:23:07.319Z"
   },
   {
    "duration": 220,
    "start_time": "2022-10-03T19:23:07.335Z"
   },
   {
    "duration": 330,
    "start_time": "2022-10-03T19:23:07.557Z"
   },
   {
    "duration": 181,
    "start_time": "2022-10-03T19:23:07.895Z"
   },
   {
    "duration": 388,
    "start_time": "2022-10-03T19:23:08.078Z"
   },
   {
    "duration": 161,
    "start_time": "2022-10-03T19:23:08.467Z"
   },
   {
    "duration": 179,
    "start_time": "2022-10-03T19:23:08.630Z"
   },
   {
    "duration": 187,
    "start_time": "2022-10-03T19:23:08.810Z"
   },
   {
    "duration": 126,
    "start_time": "2022-10-03T19:23:08.999Z"
   },
   {
    "duration": 198,
    "start_time": "2022-10-03T19:23:09.127Z"
   },
   {
    "duration": 215,
    "start_time": "2022-10-03T19:23:09.327Z"
   },
   {
    "duration": 283,
    "start_time": "2022-10-03T19:23:09.543Z"
   },
   {
    "duration": 242,
    "start_time": "2022-10-03T19:23:09.828Z"
   },
   {
    "duration": 151,
    "start_time": "2022-10-03T19:23:10.071Z"
   },
   {
    "duration": 161,
    "start_time": "2022-10-03T19:23:10.224Z"
   },
   {
    "duration": 215,
    "start_time": "2022-10-03T19:23:10.387Z"
   },
   {
    "duration": 117,
    "start_time": "2022-10-03T19:23:10.603Z"
   },
   {
    "duration": 202,
    "start_time": "2022-10-03T19:23:10.722Z"
   },
   {
    "duration": 183,
    "start_time": "2022-10-03T19:23:10.926Z"
   },
   {
    "duration": 172,
    "start_time": "2022-10-03T19:23:11.111Z"
   },
   {
    "duration": 239,
    "start_time": "2022-10-03T19:23:11.285Z"
   },
   {
    "duration": 179,
    "start_time": "2022-10-03T19:23:11.526Z"
   },
   {
    "duration": 13,
    "start_time": "2022-10-03T19:23:11.706Z"
   },
   {
    "duration": 19,
    "start_time": "2022-10-03T19:23:11.720Z"
   },
   {
    "duration": 11,
    "start_time": "2022-10-03T19:23:11.740Z"
   },
   {
    "duration": 44,
    "start_time": "2022-10-03T19:23:11.753Z"
   },
   {
    "duration": 7,
    "start_time": "2022-10-03T19:23:11.799Z"
   },
   {
    "duration": 11,
    "start_time": "2022-10-03T19:23:11.807Z"
   },
   {
    "duration": 17,
    "start_time": "2022-10-03T19:23:11.819Z"
   },
   {
    "duration": 4,
    "start_time": "2022-10-03T19:23:11.838Z"
   },
   {
    "duration": 13,
    "start_time": "2022-10-03T19:23:43.331Z"
   },
   {
    "duration": 89,
    "start_time": "2022-10-03T19:23:47.406Z"
   }
  ],
  "kernelspec": {
   "display_name": "Python 3 (ipykernel)",
   "language": "python",
   "name": "python3"
  },
  "language_info": {
   "codemirror_mode": {
    "name": "ipython",
    "version": 3
   },
   "file_extension": ".py",
   "mimetype": "text/x-python",
   "name": "python",
   "nbconvert_exporter": "python",
   "pygments_lexer": "ipython3",
   "version": "3.9.13"
  },
  "toc": {
   "base_numbering": 1,
   "nav_menu": {},
   "number_sections": true,
   "sideBar": true,
   "skip_h1_title": true,
   "title_cell": "Table of Contents",
   "title_sidebar": "Contents",
   "toc_cell": false,
   "toc_position": {},
   "toc_section_display": true,
   "toc_window_display": false
  },
  "widgets": {
   "application/vnd.jupyter.widget-state+json": {
    "state": {},
    "version_major": 2,
    "version_minor": 0
   }
  }
 },
 "nbformat": 4,
 "nbformat_minor": 2
}

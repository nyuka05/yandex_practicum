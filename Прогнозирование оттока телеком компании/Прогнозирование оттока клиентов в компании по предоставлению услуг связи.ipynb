{
 "cells": [
  {
   "cell_type": "markdown",
   "metadata": {},
   "source": [
    "# Прогнозирование оттока клиентов в компании по предоставлению услуг связи\n",
    "Оператор связи «Ниединогоразрыва.ком»\n",
    "Информация о компании\n",
    "Оператор предоставляет два основных типа услуг: \n",
    "\n",
    "1. Стационарную телефонную связь. Возможно подключение телефонного аппарата к нескольким линиям одновременно.\n",
    "2. Интернет. Подключение может быть двух типов: через телефонную линию (DSL*,* от англ. *digital subscriber line*, «цифровая абонентская линия») или оптоволоконный кабель (*Fiber optic*).  \n",
    "\n",
    "Также доступны такие услуги:\n",
    "\n",
    "- Интернет-безопасность: антивирус (*DeviceProtection*) и блокировка небезопасных сайтов (*OnlineSecurity*);\n",
    "- Выделенная линия технической поддержки (*TechSupport*);\n",
    "- Облачное хранилище файлов для резервного копирования данных (*OnlineBackup*);\n",
    "- Стриминговое телевидение (*StreamingTV*) и каталог фильмов (*StreamingMovies*).\n",
    "\n",
    "За услуги клиенты могут платить каждый месяц или заключить договор на 1–2 года. Доступны различные способы расчёта и возможность получения электронного чека.\n",
    "\n",
    "Цель пректа - еобходимо разработать модель, способную адекватно прогнозировать какие клиенты в ближайшее время захотят сменить оператора для предоставления им промоакций с целью предотвратить их уход с метрикой качества прогноза на тестовой выборке ROC-AUC >=0.85, срок выполнения проекта до 21.04.2023\n",
    "\n",
    "# Предоставленные данные\n",
    "\n",
    "- `contract_new.csv` — информация о договоре;\n",
    "- `personal_new.csv` — персональные данные клиента;\n",
    "- `internet_new.csv` — информация об интернет-услугах;\n",
    "- `phone_new.csv` — информация об услугах телефонии.\n",
    "\n",
    "Во всех файлах столбец `customerID` содержит код клиента.\n",
    "\n",
    "Информация о договорах актуальна на 1 февраля 2020."
   ]
  },
  {
   "cell_type": "markdown",
   "metadata": {},
   "source": [
    "# Этап 1 - План работы"
   ]
  },
  {
   "cell_type": "code",
   "execution_count": 1,
   "metadata": {},
   "outputs": [],
   "source": [
    "import pandas as pd\n",
    "import matplotlib.pyplot as plt\n",
    "from sklearn.model_selection import train_test_split\n",
    "from sklearn.model_selection import GridSearchCV\n",
    "from sklearn.preprocessing import StandardScaler\n",
    "from sklearn.utils import shuffle\n",
    "from sklearn.preprocessing import OneHotEncoder\n",
    "from sklearn.preprocessing import OrdinalEncoder\n",
    "from sklearn.metrics import roc_auc_score, roc_curve, accuracy_score\n",
    "from sklearn.linear_model import LogisticRegression\n",
    "from sklearn.ensemble import RandomForestClassifier\n",
    "from catboost import CatBoostClassifier\n",
    "from sklearn.pipeline import make_pipeline, Pipeline"
   ]
  },
  {
   "cell_type": "code",
   "execution_count": 2,
   "metadata": {},
   "outputs": [],
   "source": [
    "contract= pd.read_csv('/datasets/contract_new.csv')\n",
    "personal = pd.read_csv('/datasets/personal_new.csv')\n",
    "internet = pd.read_csv('/datasets/internet_new.csv')\n",
    "phone = pd.read_csv('/datasets/phone_new.csv')"
   ]
  },
  {
   "cell_type": "code",
   "execution_count": 3,
   "metadata": {},
   "outputs": [
    {
     "data": {
      "text/html": [
       "<div>\n",
       "<style scoped>\n",
       "    .dataframe tbody tr th:only-of-type {\n",
       "        vertical-align: middle;\n",
       "    }\n",
       "\n",
       "    .dataframe tbody tr th {\n",
       "        vertical-align: top;\n",
       "    }\n",
       "\n",
       "    .dataframe thead th {\n",
       "        text-align: right;\n",
       "    }\n",
       "</style>\n",
       "<table border=\"1\" class=\"dataframe\">\n",
       "  <thead>\n",
       "    <tr style=\"text-align: right;\">\n",
       "      <th></th>\n",
       "      <th>customerID</th>\n",
       "      <th>BeginDate</th>\n",
       "      <th>EndDate</th>\n",
       "      <th>Type</th>\n",
       "      <th>PaperlessBilling</th>\n",
       "      <th>PaymentMethod</th>\n",
       "      <th>MonthlyCharges</th>\n",
       "      <th>TotalCharges</th>\n",
       "    </tr>\n",
       "  </thead>\n",
       "  <tbody>\n",
       "    <tr>\n",
       "      <th>0</th>\n",
       "      <td>7590-VHVEG</td>\n",
       "      <td>2020-01-01</td>\n",
       "      <td>No</td>\n",
       "      <td>Month-to-month</td>\n",
       "      <td>Yes</td>\n",
       "      <td>Electronic check</td>\n",
       "      <td>29.85</td>\n",
       "      <td>31.04</td>\n",
       "    </tr>\n",
       "    <tr>\n",
       "      <th>1</th>\n",
       "      <td>5575-GNVDE</td>\n",
       "      <td>2017-04-01</td>\n",
       "      <td>No</td>\n",
       "      <td>One year</td>\n",
       "      <td>No</td>\n",
       "      <td>Mailed check</td>\n",
       "      <td>56.95</td>\n",
       "      <td>2071.84</td>\n",
       "    </tr>\n",
       "    <tr>\n",
       "      <th>2</th>\n",
       "      <td>3668-QPYBK</td>\n",
       "      <td>2019-10-01</td>\n",
       "      <td>No</td>\n",
       "      <td>Month-to-month</td>\n",
       "      <td>Yes</td>\n",
       "      <td>Mailed check</td>\n",
       "      <td>53.85</td>\n",
       "      <td>226.17</td>\n",
       "    </tr>\n",
       "    <tr>\n",
       "      <th>3</th>\n",
       "      <td>7795-CFOCW</td>\n",
       "      <td>2016-05-01</td>\n",
       "      <td>No</td>\n",
       "      <td>One year</td>\n",
       "      <td>No</td>\n",
       "      <td>Bank transfer (automatic)</td>\n",
       "      <td>42.30</td>\n",
       "      <td>1960.6</td>\n",
       "    </tr>\n",
       "    <tr>\n",
       "      <th>4</th>\n",
       "      <td>9237-HQITU</td>\n",
       "      <td>2019-09-01</td>\n",
       "      <td>No</td>\n",
       "      <td>Month-to-month</td>\n",
       "      <td>Yes</td>\n",
       "      <td>Electronic check</td>\n",
       "      <td>70.70</td>\n",
       "      <td>353.5</td>\n",
       "    </tr>\n",
       "    <tr>\n",
       "      <th>5</th>\n",
       "      <td>9305-CDSKC</td>\n",
       "      <td>2019-03-01</td>\n",
       "      <td>No</td>\n",
       "      <td>Month-to-month</td>\n",
       "      <td>Yes</td>\n",
       "      <td>Electronic check</td>\n",
       "      <td>99.65</td>\n",
       "      <td>1150.96</td>\n",
       "    </tr>\n",
       "    <tr>\n",
       "      <th>6</th>\n",
       "      <td>1452-KIOVK</td>\n",
       "      <td>2018-04-01</td>\n",
       "      <td>No</td>\n",
       "      <td>Month-to-month</td>\n",
       "      <td>Yes</td>\n",
       "      <td>Credit card (automatic)</td>\n",
       "      <td>89.10</td>\n",
       "      <td>2058.21</td>\n",
       "    </tr>\n",
       "    <tr>\n",
       "      <th>7</th>\n",
       "      <td>6713-OKOMC</td>\n",
       "      <td>2019-04-01</td>\n",
       "      <td>No</td>\n",
       "      <td>Month-to-month</td>\n",
       "      <td>No</td>\n",
       "      <td>Mailed check</td>\n",
       "      <td>29.75</td>\n",
       "      <td>300.48</td>\n",
       "    </tr>\n",
       "    <tr>\n",
       "      <th>8</th>\n",
       "      <td>7892-POOKP</td>\n",
       "      <td>2017-07-01</td>\n",
       "      <td>No</td>\n",
       "      <td>Month-to-month</td>\n",
       "      <td>Yes</td>\n",
       "      <td>Electronic check</td>\n",
       "      <td>104.80</td>\n",
       "      <td>3573.68</td>\n",
       "    </tr>\n",
       "    <tr>\n",
       "      <th>9</th>\n",
       "      <td>6388-TABGU</td>\n",
       "      <td>2014-12-01</td>\n",
       "      <td>2017-05-01</td>\n",
       "      <td>One year</td>\n",
       "      <td>No</td>\n",
       "      <td>Bank transfer (automatic)</td>\n",
       "      <td>56.15</td>\n",
       "      <td>1628.35</td>\n",
       "    </tr>\n",
       "  </tbody>\n",
       "</table>\n",
       "</div>"
      ],
      "text/plain": [
       "   customerID   BeginDate     EndDate            Type PaperlessBilling  \\\n",
       "0  7590-VHVEG  2020-01-01          No  Month-to-month              Yes   \n",
       "1  5575-GNVDE  2017-04-01          No        One year               No   \n",
       "2  3668-QPYBK  2019-10-01          No  Month-to-month              Yes   \n",
       "3  7795-CFOCW  2016-05-01          No        One year               No   \n",
       "4  9237-HQITU  2019-09-01          No  Month-to-month              Yes   \n",
       "5  9305-CDSKC  2019-03-01          No  Month-to-month              Yes   \n",
       "6  1452-KIOVK  2018-04-01          No  Month-to-month              Yes   \n",
       "7  6713-OKOMC  2019-04-01          No  Month-to-month               No   \n",
       "8  7892-POOKP  2017-07-01          No  Month-to-month              Yes   \n",
       "9  6388-TABGU  2014-12-01  2017-05-01        One year               No   \n",
       "\n",
       "               PaymentMethod  MonthlyCharges TotalCharges  \n",
       "0           Electronic check           29.85        31.04  \n",
       "1               Mailed check           56.95      2071.84  \n",
       "2               Mailed check           53.85       226.17  \n",
       "3  Bank transfer (automatic)           42.30       1960.6  \n",
       "4           Electronic check           70.70        353.5  \n",
       "5           Electronic check           99.65      1150.96  \n",
       "6    Credit card (automatic)           89.10      2058.21  \n",
       "7               Mailed check           29.75       300.48  \n",
       "8           Electronic check          104.80      3573.68  \n",
       "9  Bank transfer (automatic)           56.15      1628.35  "
      ]
     },
     "execution_count": 3,
     "metadata": {},
     "output_type": "execute_result"
    }
   ],
   "source": [
    "contract.head(10)"
   ]
  },
  {
   "cell_type": "markdown",
   "metadata": {},
   "source": [
    "Данные \"contract_new.csv\" содержат следующую информацию: \\\n",
    "customerID - уникальный идентификатор договора\\\n",
    "Begin Date - дата начала договора\\\n",
    "End Date - дата окончания договора (если договор действителен, то в графе стоит значение \"No\")\\\n",
    "Type - тип заключенного договора (на месяц, на 1 год и т.д.)\\\n",
    "Paper less Billing - содержит информацию о согласии клиента на электронное сопровождение договора\\\n",
    "Payment Method\t- способ оплаты\\\n",
    "Monthly Charges\t- среднемесячные платежи\\\n",
    "Total Charges - Общая сумма оплаты"
   ]
  },
  {
   "cell_type": "code",
   "execution_count": 4,
   "metadata": {},
   "outputs": [
    {
     "name": "stdout",
     "output_type": "stream",
     "text": [
      "<class 'pandas.core.frame.DataFrame'>\n",
      "RangeIndex: 7043 entries, 0 to 7042\n",
      "Data columns (total 8 columns):\n",
      " #   Column            Non-Null Count  Dtype  \n",
      "---  ------            --------------  -----  \n",
      " 0   customerID        7043 non-null   object \n",
      " 1   BeginDate         7043 non-null   object \n",
      " 2   EndDate           7043 non-null   object \n",
      " 3   Type              7043 non-null   object \n",
      " 4   PaperlessBilling  7043 non-null   object \n",
      " 5   PaymentMethod     7043 non-null   object \n",
      " 6   MonthlyCharges    7043 non-null   float64\n",
      " 7   TotalCharges      7043 non-null   object \n",
      "dtypes: float64(1), object(7)\n",
      "memory usage: 440.3+ KB\n"
     ]
    }
   ],
   "source": [
    "contract.info()"
   ]
  },
  {
   "cell_type": "markdown",
   "metadata": {},
   "source": [
    "В данных нет пропусков\\\n",
    "у некоторых столбцов необходимо изменить тип данных:\\\n",
    "TotalCharges на float64\\\n",
    "BeginDate на date\\\n",
    "EndDate - целевой признак для обучения модели, вероятно стоит добавить дополнительный столбец где значение 0, договор завершен, 1 договор действителен. "
   ]
  },
  {
   "cell_type": "code",
   "execution_count": 5,
   "metadata": {},
   "outputs": [
    {
     "data": {
      "text/plain": [
       "Electronic check             2365\n",
       "Mailed check                 1612\n",
       "Bank transfer (automatic)    1544\n",
       "Credit card (automatic)      1522\n",
       "Name: PaymentMethod, dtype: int64"
      ]
     },
     "execution_count": 5,
     "metadata": {},
     "output_type": "execute_result"
    }
   ],
   "source": [
    "contract['PaymentMethod'].value_counts()"
   ]
  },
  {
   "cell_type": "code",
   "execution_count": 6,
   "metadata": {},
   "outputs": [
    {
     "data": {
      "text/plain": [
       "count    7043.000000\n",
       "mean       64.761692\n",
       "std        30.090047\n",
       "min        18.250000\n",
       "25%        35.500000\n",
       "50%        70.350000\n",
       "75%        89.850000\n",
       "max       118.750000\n",
       "Name: MonthlyCharges, dtype: float64"
      ]
     },
     "execution_count": 6,
     "metadata": {},
     "output_type": "execute_result"
    }
   ],
   "source": [
    "contract['MonthlyCharges'].describe()"
   ]
  },
  {
   "cell_type": "code",
   "execution_count": 7,
   "metadata": {},
   "outputs": [
    {
     "data": {
      "image/png": "[encoded data removed]",
      "text/plain": [
       "<Figure size 432x288 with 1 Axes>"
      ]
     },
     "metadata": {
      "needs_background": "light"
     },
     "output_type": "display_data"
    }
   ],
   "source": [
    "contract['MonthlyCharges'].hist()\n",
    "plt.title('Распределение суммы месячной оплаты');"
   ]
  },
  {
   "cell_type": "markdown",
   "metadata": {},
   "source": [
    "Суммы месячного платежа распределены следующим образом:\\\n",
    "максимальное количество людей оплачивают ежемесячно суммы до 30 долларов\\\n",
    "максимальная сумма оплаты 118 долларов\\\n",
    "значительное количество людей имеют большие ежемесячные платежи от 70 до 110 долларов\\\n",
    "стандартное и среднее сильно отличаются"
   ]
  },
  {
   "cell_type": "code",
   "execution_count": 8,
   "metadata": {},
   "outputs": [],
   "source": [
    "contract['TotalCharges'] = pd.to_numeric(contract['TotalCharges'], errors ='coerce')"
   ]
  },
  {
   "cell_type": "code",
   "execution_count": 9,
   "metadata": {},
   "outputs": [
    {
     "data": {
      "image/png": "[encoded data removed]",
      "text/plain": [
       "<Figure size 432x288 with 1 Axes>"
      ]
     },
     "metadata": {
      "needs_background": "light"
     },
     "output_type": "display_data"
    }
   ],
   "source": [
    "contract['TotalCharges'].hist()\n",
    "plt.title('Распределение суммы общей оплаты');"
   ]
  },
  {
   "cell_type": "code",
   "execution_count": 10,
   "metadata": {},
   "outputs": [
    {
     "data": {
      "text/plain": [
       "count    7032.000000\n",
       "mean     2118.621822\n",
       "std      2112.736199\n",
       "min        19.050000\n",
       "25%       439.745000\n",
       "50%      1345.275000\n",
       "75%      3239.317500\n",
       "max      9221.380000\n",
       "Name: TotalCharges, dtype: float64"
      ]
     },
     "execution_count": 10,
     "metadata": {},
     "output_type": "execute_result"
    }
   ],
   "source": [
    "contract['TotalCharges'].describe()"
   ]
  },
  {
   "cell_type": "code",
   "execution_count": 11,
   "metadata": {},
   "outputs": [
    {
     "name": "stdout",
     "output_type": "stream",
     "text": [
      "<class 'pandas.core.frame.DataFrame'>\n",
      "RangeIndex: 7043 entries, 0 to 7042\n",
      "Data columns (total 8 columns):\n",
      " #   Column            Non-Null Count  Dtype  \n",
      "---  ------            --------------  -----  \n",
      " 0   customerID        7043 non-null   object \n",
      " 1   BeginDate         7043 non-null   object \n",
      " 2   EndDate           7043 non-null   object \n",
      " 3   Type              7043 non-null   object \n",
      " 4   PaperlessBilling  7043 non-null   object \n",
      " 5   PaymentMethod     7043 non-null   object \n",
      " 6   MonthlyCharges    7043 non-null   float64\n",
      " 7   TotalCharges      7032 non-null   float64\n",
      "dtypes: float64(2), object(6)\n",
      "memory usage: 440.3+ KB\n"
     ]
    }
   ],
   "source": [
    "contract.info()"
   ]
  },
  {
   "cell_type": "markdown",
   "metadata": {},
   "source": [
    "При оценке значений с общей суммой оплаты было выявлено, что по большой части договоров внесено около 2000 долларов. "
   ]
  },
  {
   "cell_type": "code",
   "execution_count": 12,
   "metadata": {},
   "outputs": [
    {
     "data": {
      "text/html": [
       "<div>\n",
       "<style scoped>\n",
       "    .dataframe tbody tr th:only-of-type {\n",
       "        vertical-align: middle;\n",
       "    }\n",
       "\n",
       "    .dataframe tbody tr th {\n",
       "        vertical-align: top;\n",
       "    }\n",
       "\n",
       "    .dataframe thead th {\n",
       "        text-align: right;\n",
       "    }\n",
       "</style>\n",
       "<table border=\"1\" class=\"dataframe\">\n",
       "  <thead>\n",
       "    <tr style=\"text-align: right;\">\n",
       "      <th></th>\n",
       "      <th>customerID</th>\n",
       "      <th>gender</th>\n",
       "      <th>SeniorCitizen</th>\n",
       "      <th>Partner</th>\n",
       "      <th>Dependents</th>\n",
       "    </tr>\n",
       "  </thead>\n",
       "  <tbody>\n",
       "    <tr>\n",
       "      <th>0</th>\n",
       "      <td>7590-VHVEG</td>\n",
       "      <td>Female</td>\n",
       "      <td>0</td>\n",
       "      <td>Yes</td>\n",
       "      <td>No</td>\n",
       "    </tr>\n",
       "    <tr>\n",
       "      <th>1</th>\n",
       "      <td>5575-GNVDE</td>\n",
       "      <td>Male</td>\n",
       "      <td>0</td>\n",
       "      <td>No</td>\n",
       "      <td>No</td>\n",
       "    </tr>\n",
       "    <tr>\n",
       "      <th>2</th>\n",
       "      <td>3668-QPYBK</td>\n",
       "      <td>Male</td>\n",
       "      <td>0</td>\n",
       "      <td>No</td>\n",
       "      <td>No</td>\n",
       "    </tr>\n",
       "    <tr>\n",
       "      <th>3</th>\n",
       "      <td>7795-CFOCW</td>\n",
       "      <td>Male</td>\n",
       "      <td>0</td>\n",
       "      <td>No</td>\n",
       "      <td>No</td>\n",
       "    </tr>\n",
       "    <tr>\n",
       "      <th>4</th>\n",
       "      <td>9237-HQITU</td>\n",
       "      <td>Female</td>\n",
       "      <td>0</td>\n",
       "      <td>No</td>\n",
       "      <td>No</td>\n",
       "    </tr>\n",
       "  </tbody>\n",
       "</table>\n",
       "</div>"
      ],
      "text/plain": [
       "   customerID  gender  SeniorCitizen Partner Dependents\n",
       "0  7590-VHVEG  Female              0     Yes         No\n",
       "1  5575-GNVDE    Male              0      No         No\n",
       "2  3668-QPYBK    Male              0      No         No\n",
       "3  7795-CFOCW    Male              0      No         No\n",
       "4  9237-HQITU  Female              0      No         No"
      ]
     },
     "execution_count": 12,
     "metadata": {},
     "output_type": "execute_result"
    }
   ],
   "source": [
    "personal.head()"
   ]
  },
  {
   "cell_type": "code",
   "execution_count": 13,
   "metadata": {},
   "outputs": [
    {
     "name": "stdout",
     "output_type": "stream",
     "text": [
      "<class 'pandas.core.frame.DataFrame'>\n",
      "RangeIndex: 7043 entries, 0 to 7042\n",
      "Data columns (total 5 columns):\n",
      " #   Column         Non-Null Count  Dtype \n",
      "---  ------         --------------  ----- \n",
      " 0   customerID     7043 non-null   object\n",
      " 1   gender         7043 non-null   object\n",
      " 2   SeniorCitizen  7043 non-null   int64 \n",
      " 3   Partner        7043 non-null   object\n",
      " 4   Dependents     7043 non-null   object\n",
      "dtypes: int64(1), object(4)\n",
      "memory usage: 275.2+ KB\n"
     ]
    }
   ],
   "source": [
    "personal.info()"
   ]
  },
  {
   "cell_type": "code",
   "execution_count": 14,
   "metadata": {},
   "outputs": [
    {
     "data": {
      "text/plain": [
       "No     4933\n",
       "Yes    2110\n",
       "Name: Dependents, dtype: int64"
      ]
     },
     "execution_count": 14,
     "metadata": {},
     "output_type": "execute_result"
    }
   ],
   "source": [
    "personal['Dependents'].value_counts()"
   ]
  },
  {
   "cell_type": "code",
   "execution_count": 15,
   "metadata": {},
   "outputs": [
    {
     "data": {
      "text/plain": [
       "0    5901\n",
       "1    1142\n",
       "Name: SeniorCitizen, dtype: int64"
      ]
     },
     "execution_count": 15,
     "metadata": {},
     "output_type": "execute_result"
    }
   ],
   "source": [
    "personal['SeniorCitizen'].value_counts()"
   ]
  },
  {
   "cell_type": "markdown",
   "metadata": {},
   "source": [
    "при анализе данных \"personal_new.csv\" получена информация о гендерной принадлежности, является ли человек пенсионером(personal['SeniorCitizen'] со значением 1), состоит ли в браке и есть ли дети\\\n",
    "personal['SeniorCitizen'] необходимо изменить тип данных"
   ]
  },
  {
   "cell_type": "code",
   "execution_count": 16,
   "metadata": {},
   "outputs": [
    {
     "data": {
      "text/html": [
       "<div>\n",
       "<style scoped>\n",
       "    .dataframe tbody tr th:only-of-type {\n",
       "        vertical-align: middle;\n",
       "    }\n",
       "\n",
       "    .dataframe tbody tr th {\n",
       "        vertical-align: top;\n",
       "    }\n",
       "\n",
       "    .dataframe thead th {\n",
       "        text-align: right;\n",
       "    }\n",
       "</style>\n",
       "<table border=\"1\" class=\"dataframe\">\n",
       "  <thead>\n",
       "    <tr style=\"text-align: right;\">\n",
       "      <th></th>\n",
       "      <th>customerID</th>\n",
       "      <th>InternetService</th>\n",
       "      <th>OnlineSecurity</th>\n",
       "      <th>OnlineBackup</th>\n",
       "      <th>DeviceProtection</th>\n",
       "      <th>TechSupport</th>\n",
       "      <th>StreamingTV</th>\n",
       "      <th>StreamingMovies</th>\n",
       "    </tr>\n",
       "  </thead>\n",
       "  <tbody>\n",
       "    <tr>\n",
       "      <th>0</th>\n",
       "      <td>7590-VHVEG</td>\n",
       "      <td>DSL</td>\n",
       "      <td>No</td>\n",
       "      <td>Yes</td>\n",
       "      <td>No</td>\n",
       "      <td>No</td>\n",
       "      <td>No</td>\n",
       "      <td>No</td>\n",
       "    </tr>\n",
       "    <tr>\n",
       "      <th>1</th>\n",
       "      <td>5575-GNVDE</td>\n",
       "      <td>DSL</td>\n",
       "      <td>Yes</td>\n",
       "      <td>No</td>\n",
       "      <td>Yes</td>\n",
       "      <td>No</td>\n",
       "      <td>No</td>\n",
       "      <td>No</td>\n",
       "    </tr>\n",
       "    <tr>\n",
       "      <th>2</th>\n",
       "      <td>3668-QPYBK</td>\n",
       "      <td>DSL</td>\n",
       "      <td>Yes</td>\n",
       "      <td>Yes</td>\n",
       "      <td>No</td>\n",
       "      <td>No</td>\n",
       "      <td>No</td>\n",
       "      <td>No</td>\n",
       "    </tr>\n",
       "    <tr>\n",
       "      <th>3</th>\n",
       "      <td>7795-CFOCW</td>\n",
       "      <td>DSL</td>\n",
       "      <td>Yes</td>\n",
       "      <td>No</td>\n",
       "      <td>Yes</td>\n",
       "      <td>Yes</td>\n",
       "      <td>No</td>\n",
       "      <td>No</td>\n",
       "    </tr>\n",
       "    <tr>\n",
       "      <th>4</th>\n",
       "      <td>9237-HQITU</td>\n",
       "      <td>Fiber optic</td>\n",
       "      <td>No</td>\n",
       "      <td>No</td>\n",
       "      <td>No</td>\n",
       "      <td>No</td>\n",
       "      <td>No</td>\n",
       "      <td>No</td>\n",
       "    </tr>\n",
       "  </tbody>\n",
       "</table>\n",
       "</div>"
      ],
      "text/plain": [
       "   customerID InternetService OnlineSecurity OnlineBackup DeviceProtection  \\\n",
       "0  7590-VHVEG             DSL             No          Yes               No   \n",
       "1  5575-GNVDE             DSL            Yes           No              Yes   \n",
       "2  3668-QPYBK             DSL            Yes          Yes               No   \n",
       "3  7795-CFOCW             DSL            Yes           No              Yes   \n",
       "4  9237-HQITU     Fiber optic             No           No               No   \n",
       "\n",
       "  TechSupport StreamingTV StreamingMovies  \n",
       "0          No          No              No  \n",
       "1          No          No              No  \n",
       "2          No          No              No  \n",
       "3         Yes          No              No  \n",
       "4          No          No              No  "
      ]
     },
     "execution_count": 16,
     "metadata": {},
     "output_type": "execute_result"
    }
   ],
   "source": [
    "internet.head()"
   ]
  },
  {
   "cell_type": "code",
   "execution_count": 17,
   "metadata": {},
   "outputs": [
    {
     "name": "stdout",
     "output_type": "stream",
     "text": [
      "<class 'pandas.core.frame.DataFrame'>\n",
      "RangeIndex: 5517 entries, 0 to 5516\n",
      "Data columns (total 8 columns):\n",
      " #   Column            Non-Null Count  Dtype \n",
      "---  ------            --------------  ----- \n",
      " 0   customerID        5517 non-null   object\n",
      " 1   InternetService   5517 non-null   object\n",
      " 2   OnlineSecurity    5517 non-null   object\n",
      " 3   OnlineBackup      5517 non-null   object\n",
      " 4   DeviceProtection  5517 non-null   object\n",
      " 5   TechSupport       5517 non-null   object\n",
      " 6   StreamingTV       5517 non-null   object\n",
      " 7   StreamingMovies   5517 non-null   object\n",
      "dtypes: object(8)\n",
      "memory usage: 344.9+ KB\n"
     ]
    }
   ],
   "source": [
    "internet.info()"
   ]
  },
  {
   "cell_type": "markdown",
   "metadata": {},
   "source": [
    "данные \"internet_new.csv\" содержит информацию об использовании дополнительных услуг(антивирус, облачное хранилище и тд) и типе подключения"
   ]
  },
  {
   "cell_type": "code",
   "execution_count": 18,
   "metadata": {},
   "outputs": [
    {
     "data": {
      "text/html": [
       "<div>\n",
       "<style scoped>\n",
       "    .dataframe tbody tr th:only-of-type {\n",
       "        vertical-align: middle;\n",
       "    }\n",
       "\n",
       "    .dataframe tbody tr th {\n",
       "        vertical-align: top;\n",
       "    }\n",
       "\n",
       "    .dataframe thead th {\n",
       "        text-align: right;\n",
       "    }\n",
       "</style>\n",
       "<table border=\"1\" class=\"dataframe\">\n",
       "  <thead>\n",
       "    <tr style=\"text-align: right;\">\n",
       "      <th></th>\n",
       "      <th>customerID</th>\n",
       "      <th>MultipleLines</th>\n",
       "    </tr>\n",
       "  </thead>\n",
       "  <tbody>\n",
       "    <tr>\n",
       "      <th>0</th>\n",
       "      <td>5575-GNVDE</td>\n",
       "      <td>No</td>\n",
       "    </tr>\n",
       "    <tr>\n",
       "      <th>1</th>\n",
       "      <td>3668-QPYBK</td>\n",
       "      <td>No</td>\n",
       "    </tr>\n",
       "    <tr>\n",
       "      <th>2</th>\n",
       "      <td>9237-HQITU</td>\n",
       "      <td>No</td>\n",
       "    </tr>\n",
       "    <tr>\n",
       "      <th>3</th>\n",
       "      <td>9305-CDSKC</td>\n",
       "      <td>Yes</td>\n",
       "    </tr>\n",
       "    <tr>\n",
       "      <th>4</th>\n",
       "      <td>1452-KIOVK</td>\n",
       "      <td>Yes</td>\n",
       "    </tr>\n",
       "    <tr>\n",
       "      <th>5</th>\n",
       "      <td>7892-POOKP</td>\n",
       "      <td>Yes</td>\n",
       "    </tr>\n",
       "    <tr>\n",
       "      <th>6</th>\n",
       "      <td>6388-TABGU</td>\n",
       "      <td>No</td>\n",
       "    </tr>\n",
       "    <tr>\n",
       "      <th>7</th>\n",
       "      <td>9763-GRSKD</td>\n",
       "      <td>No</td>\n",
       "    </tr>\n",
       "    <tr>\n",
       "      <th>8</th>\n",
       "      <td>7469-LKBCI</td>\n",
       "      <td>No</td>\n",
       "    </tr>\n",
       "    <tr>\n",
       "      <th>9</th>\n",
       "      <td>8091-TTVAX</td>\n",
       "      <td>Yes</td>\n",
       "    </tr>\n",
       "  </tbody>\n",
       "</table>\n",
       "</div>"
      ],
      "text/plain": [
       "   customerID MultipleLines\n",
       "0  5575-GNVDE            No\n",
       "1  3668-QPYBK            No\n",
       "2  9237-HQITU            No\n",
       "3  9305-CDSKC           Yes\n",
       "4  1452-KIOVK           Yes\n",
       "5  7892-POOKP           Yes\n",
       "6  6388-TABGU            No\n",
       "7  9763-GRSKD            No\n",
       "8  7469-LKBCI            No\n",
       "9  8091-TTVAX           Yes"
      ]
     },
     "execution_count": 18,
     "metadata": {},
     "output_type": "execute_result"
    }
   ],
   "source": [
    "phone.head(10)"
   ]
  },
  {
   "cell_type": "code",
   "execution_count": 19,
   "metadata": {},
   "outputs": [
    {
     "name": "stdout",
     "output_type": "stream",
     "text": [
      "<class 'pandas.core.frame.DataFrame'>\n",
      "RangeIndex: 6361 entries, 0 to 6360\n",
      "Data columns (total 2 columns):\n",
      " #   Column         Non-Null Count  Dtype \n",
      "---  ------         --------------  ----- \n",
      " 0   customerID     6361 non-null   object\n",
      " 1   MultipleLines  6361 non-null   object\n",
      "dtypes: object(2)\n",
      "memory usage: 99.5+ KB\n"
     ]
    }
   ],
   "source": [
    "phone.info()"
   ]
  },
  {
   "cell_type": "markdown",
   "metadata": {},
   "source": [
    "данные \"phone_new.csv\" содержат информацию  об использовании услуг стационарной телефонной связи и использование дополнительной услуги подключение к нескольким линиям"
   ]
  },
  {
   "cell_type": "markdown",
   "metadata": {},
   "source": [
    "По всем полученным данным можно сделать вывод, что большинство клиентов пользуется и услугами интернета и стационарным телефоном, но есть и те кто пользуется только или интернетом или стационарным телефоном, данный факт может усложнить обучение модели"
   ]
  },
  {
   "cell_type": "markdown",
   "metadata": {},
   "source": [
    "### План работы:"
   ]
  },
  {
   "cell_type": "markdown",
   "metadata": {},
   "source": [
    "1. Предобработка данных. Работа с пропусками. Определение аномальных значений. Преобразование типов данных. Поиск дубликатов. \n",
    "2. Исследовательский анализ данных. Визуализация. Изучение срезов данных. Нахождение взаимосвязей параметров. Объединение таблиц. Вывод по данным.\n",
    "3. Машинное обучение. Определение гиперпараметров. Кодирование данных. Сравнение качества прогноза моделей. \n",
    "4. Проверка адекватности выбранной модели. Общий вывод. "
   ]
  },
  {
   "cell_type": "markdown",
   "metadata": {},
   "source": [
    "# Этап 2 Код решения"
   ]
  },
  {
   "cell_type": "markdown",
   "metadata": {},
   "source": [
    "## Подготовка данных"
   ]
  },
  {
   "cell_type": "markdown",
   "metadata": {},
   "source": [
    "Добавим некоторые влияющие и целевой признаки в датасет contract"
   ]
  },
  {
   "cell_type": "code",
   "execution_count": 20,
   "metadata": {},
   "outputs": [],
   "source": [
    "contract['Target']=(contract['EndDate']=='No').astype(int)"
   ]
  },
  {
   "cell_type": "code",
   "execution_count": 21,
   "metadata": {},
   "outputs": [
    {
     "data": {
      "text/html": [
       "<div>\n",
       "<style scoped>\n",
       "    .dataframe tbody tr th:only-of-type {\n",
       "        vertical-align: middle;\n",
       "    }\n",
       "\n",
       "    .dataframe tbody tr th {\n",
       "        vertical-align: top;\n",
       "    }\n",
       "\n",
       "    .dataframe thead th {\n",
       "        text-align: right;\n",
       "    }\n",
       "</style>\n",
       "<table border=\"1\" class=\"dataframe\">\n",
       "  <thead>\n",
       "    <tr style=\"text-align: right;\">\n",
       "      <th></th>\n",
       "      <th>customerID</th>\n",
       "      <th>BeginDate</th>\n",
       "      <th>EndDate</th>\n",
       "      <th>Type</th>\n",
       "      <th>PaperlessBilling</th>\n",
       "      <th>PaymentMethod</th>\n",
       "      <th>MonthlyCharges</th>\n",
       "      <th>TotalCharges</th>\n",
       "      <th>Target</th>\n",
       "    </tr>\n",
       "  </thead>\n",
       "  <tbody>\n",
       "    <tr>\n",
       "      <th>0</th>\n",
       "      <td>7590-VHVEG</td>\n",
       "      <td>2020-01-01</td>\n",
       "      <td>No</td>\n",
       "      <td>Month-to-month</td>\n",
       "      <td>Yes</td>\n",
       "      <td>Electronic check</td>\n",
       "      <td>29.85</td>\n",
       "      <td>31.04</td>\n",
       "      <td>1</td>\n",
       "    </tr>\n",
       "    <tr>\n",
       "      <th>1</th>\n",
       "      <td>5575-GNVDE</td>\n",
       "      <td>2017-04-01</td>\n",
       "      <td>No</td>\n",
       "      <td>One year</td>\n",
       "      <td>No</td>\n",
       "      <td>Mailed check</td>\n",
       "      <td>56.95</td>\n",
       "      <td>2071.84</td>\n",
       "      <td>1</td>\n",
       "    </tr>\n",
       "    <tr>\n",
       "      <th>2</th>\n",
       "      <td>3668-QPYBK</td>\n",
       "      <td>2019-10-01</td>\n",
       "      <td>No</td>\n",
       "      <td>Month-to-month</td>\n",
       "      <td>Yes</td>\n",
       "      <td>Mailed check</td>\n",
       "      <td>53.85</td>\n",
       "      <td>226.17</td>\n",
       "      <td>1</td>\n",
       "    </tr>\n",
       "    <tr>\n",
       "      <th>3</th>\n",
       "      <td>7795-CFOCW</td>\n",
       "      <td>2016-05-01</td>\n",
       "      <td>No</td>\n",
       "      <td>One year</td>\n",
       "      <td>No</td>\n",
       "      <td>Bank transfer (automatic)</td>\n",
       "      <td>42.30</td>\n",
       "      <td>1960.60</td>\n",
       "      <td>1</td>\n",
       "    </tr>\n",
       "    <tr>\n",
       "      <th>4</th>\n",
       "      <td>9237-HQITU</td>\n",
       "      <td>2019-09-01</td>\n",
       "      <td>No</td>\n",
       "      <td>Month-to-month</td>\n",
       "      <td>Yes</td>\n",
       "      <td>Electronic check</td>\n",
       "      <td>70.70</td>\n",
       "      <td>353.50</td>\n",
       "      <td>1</td>\n",
       "    </tr>\n",
       "  </tbody>\n",
       "</table>\n",
       "</div>"
      ],
      "text/plain": [
       "   customerID   BeginDate EndDate            Type PaperlessBilling  \\\n",
       "0  7590-VHVEG  2020-01-01      No  Month-to-month              Yes   \n",
       "1  5575-GNVDE  2017-04-01      No        One year               No   \n",
       "2  3668-QPYBK  2019-10-01      No  Month-to-month              Yes   \n",
       "3  7795-CFOCW  2016-05-01      No        One year               No   \n",
       "4  9237-HQITU  2019-09-01      No  Month-to-month              Yes   \n",
       "\n",
       "               PaymentMethod  MonthlyCharges  TotalCharges  Target  \n",
       "0           Electronic check           29.85         31.04       1  \n",
       "1               Mailed check           56.95       2071.84       1  \n",
       "2               Mailed check           53.85        226.17       1  \n",
       "3  Bank transfer (automatic)           42.30       1960.60       1  \n",
       "4           Electronic check           70.70        353.50       1  "
      ]
     },
     "execution_count": 21,
     "metadata": {},
     "output_type": "execute_result"
    }
   ],
   "source": [
    "contract.head()"
   ]
  },
  {
   "cell_type": "code",
   "execution_count": 22,
   "metadata": {},
   "outputs": [
    {
     "data": {
      "text/plain": [
       "1    0.843675\n",
       "0    0.156325\n",
       "Name: Target, dtype: float64"
      ]
     },
     "execution_count": 22,
     "metadata": {},
     "output_type": "execute_result"
    }
   ],
   "source": [
    "contract['Target'].value_counts(normalize= True )"
   ]
  },
  {
   "cell_type": "markdown",
   "metadata": {},
   "source": [
    "Присутствует явный дисбаланс классов: 84 % договоров действительны. "
   ]
  },
  {
   "cell_type": "markdown",
   "metadata": {},
   "source": [
    "Для определения степени влияния даты начала договора необходимо дополнить столбец EndDate (заменить NO на дату выгрузки данных) и изменить тип данных"
   ]
  },
  {
   "cell_type": "code",
   "execution_count": 23,
   "metadata": {},
   "outputs": [
    {
     "data": {
      "text/html": [
       "<div>\n",
       "<style scoped>\n",
       "    .dataframe tbody tr th:only-of-type {\n",
       "        vertical-align: middle;\n",
       "    }\n",
       "\n",
       "    .dataframe tbody tr th {\n",
       "        vertical-align: top;\n",
       "    }\n",
       "\n",
       "    .dataframe thead th {\n",
       "        text-align: right;\n",
       "    }\n",
       "</style>\n",
       "<table border=\"1\" class=\"dataframe\">\n",
       "  <thead>\n",
       "    <tr style=\"text-align: right;\">\n",
       "      <th></th>\n",
       "      <th>customerID</th>\n",
       "      <th>BeginDate</th>\n",
       "      <th>EndDate</th>\n",
       "      <th>Type</th>\n",
       "      <th>PaperlessBilling</th>\n",
       "      <th>PaymentMethod</th>\n",
       "      <th>MonthlyCharges</th>\n",
       "      <th>TotalCharges</th>\n",
       "      <th>Target</th>\n",
       "    </tr>\n",
       "  </thead>\n",
       "  <tbody>\n",
       "    <tr>\n",
       "      <th>0</th>\n",
       "      <td>7590-VHVEG</td>\n",
       "      <td>2020-01-01</td>\n",
       "      <td>2020-02-01</td>\n",
       "      <td>Month-to-month</td>\n",
       "      <td>Yes</td>\n",
       "      <td>Electronic check</td>\n",
       "      <td>29.85</td>\n",
       "      <td>31.04</td>\n",
       "      <td>1</td>\n",
       "    </tr>\n",
       "    <tr>\n",
       "      <th>1</th>\n",
       "      <td>5575-GNVDE</td>\n",
       "      <td>2017-04-01</td>\n",
       "      <td>2020-02-01</td>\n",
       "      <td>One year</td>\n",
       "      <td>No</td>\n",
       "      <td>Mailed check</td>\n",
       "      <td>56.95</td>\n",
       "      <td>2071.84</td>\n",
       "      <td>1</td>\n",
       "    </tr>\n",
       "    <tr>\n",
       "      <th>2</th>\n",
       "      <td>3668-QPYBK</td>\n",
       "      <td>2019-10-01</td>\n",
       "      <td>2020-02-01</td>\n",
       "      <td>Month-to-month</td>\n",
       "      <td>Yes</td>\n",
       "      <td>Mailed check</td>\n",
       "      <td>53.85</td>\n",
       "      <td>226.17</td>\n",
       "      <td>1</td>\n",
       "    </tr>\n",
       "    <tr>\n",
       "      <th>3</th>\n",
       "      <td>7795-CFOCW</td>\n",
       "      <td>2016-05-01</td>\n",
       "      <td>2020-02-01</td>\n",
       "      <td>One year</td>\n",
       "      <td>No</td>\n",
       "      <td>Bank transfer (automatic)</td>\n",
       "      <td>42.30</td>\n",
       "      <td>1960.60</td>\n",
       "      <td>1</td>\n",
       "    </tr>\n",
       "    <tr>\n",
       "      <th>4</th>\n",
       "      <td>9237-HQITU</td>\n",
       "      <td>2019-09-01</td>\n",
       "      <td>2020-02-01</td>\n",
       "      <td>Month-to-month</td>\n",
       "      <td>Yes</td>\n",
       "      <td>Electronic check</td>\n",
       "      <td>70.70</td>\n",
       "      <td>353.50</td>\n",
       "      <td>1</td>\n",
       "    </tr>\n",
       "  </tbody>\n",
       "</table>\n",
       "</div>"
      ],
      "text/plain": [
       "   customerID  BeginDate    EndDate            Type PaperlessBilling  \\\n",
       "0  7590-VHVEG 2020-01-01 2020-02-01  Month-to-month              Yes   \n",
       "1  5575-GNVDE 2017-04-01 2020-02-01        One year               No   \n",
       "2  3668-QPYBK 2019-10-01 2020-02-01  Month-to-month              Yes   \n",
       "3  7795-CFOCW 2016-05-01 2020-02-01        One year               No   \n",
       "4  9237-HQITU 2019-09-01 2020-02-01  Month-to-month              Yes   \n",
       "\n",
       "               PaymentMethod  MonthlyCharges  TotalCharges  Target  \n",
       "0           Electronic check           29.85         31.04       1  \n",
       "1               Mailed check           56.95       2071.84       1  \n",
       "2               Mailed check           53.85        226.17       1  \n",
       "3  Bank transfer (automatic)           42.30       1960.60       1  \n",
       "4           Electronic check           70.70        353.50       1  "
      ]
     },
     "execution_count": 23,
     "metadata": {},
     "output_type": "execute_result"
    }
   ],
   "source": [
    "contract['EndDate'] = contract['EndDate'].where(contract['EndDate'] != 'No', '2020-02-01')\n",
    "contract['EndDate'] = pd.to_datetime(contract['EndDate'])\n",
    "contract['BeginDate'] = pd.to_datetime(contract['BeginDate'])\n",
    "contract.head()"
   ]
  },
  {
   "cell_type": "code",
   "execution_count": 24,
   "metadata": {},
   "outputs": [
    {
     "name": "stdout",
     "output_type": "stream",
     "text": [
      "<class 'pandas.core.frame.DataFrame'>\n",
      "RangeIndex: 7043 entries, 0 to 7042\n",
      "Data columns (total 9 columns):\n",
      " #   Column            Non-Null Count  Dtype         \n",
      "---  ------            --------------  -----         \n",
      " 0   customerID        7043 non-null   object        \n",
      " 1   BeginDate         7043 non-null   datetime64[ns]\n",
      " 2   EndDate           7043 non-null   datetime64[ns]\n",
      " 3   Type              7043 non-null   object        \n",
      " 4   PaperlessBilling  7043 non-null   object        \n",
      " 5   PaymentMethod     7043 non-null   object        \n",
      " 6   MonthlyCharges    7043 non-null   float64       \n",
      " 7   TotalCharges      7032 non-null   float64       \n",
      " 8   Target            7043 non-null   int64         \n",
      "dtypes: datetime64[ns](2), float64(2), int64(1), object(4)\n",
      "memory usage: 495.3+ KB\n"
     ]
    }
   ],
   "source": [
    "contract.info()"
   ]
  },
  {
   "cell_type": "code",
   "execution_count": 25,
   "metadata": {},
   "outputs": [],
   "source": [
    "contract['Validity'] = (contract['EndDate'] - contract['BeginDate']).dt.days"
   ]
  },
  {
   "cell_type": "code",
   "execution_count": 26,
   "metadata": {},
   "outputs": [
    {
     "data": {
      "text/html": [
       "<div>\n",
       "<style scoped>\n",
       "    .dataframe tbody tr th:only-of-type {\n",
       "        vertical-align: middle;\n",
       "    }\n",
       "\n",
       "    .dataframe tbody tr th {\n",
       "        vertical-align: top;\n",
       "    }\n",
       "\n",
       "    .dataframe thead th {\n",
       "        text-align: right;\n",
       "    }\n",
       "</style>\n",
       "<table border=\"1\" class=\"dataframe\">\n",
       "  <thead>\n",
       "    <tr style=\"text-align: right;\">\n",
       "      <th></th>\n",
       "      <th>customerID</th>\n",
       "      <th>BeginDate</th>\n",
       "      <th>EndDate</th>\n",
       "      <th>Type</th>\n",
       "      <th>PaperlessBilling</th>\n",
       "      <th>PaymentMethod</th>\n",
       "      <th>MonthlyCharges</th>\n",
       "      <th>TotalCharges</th>\n",
       "      <th>Target</th>\n",
       "      <th>Validity</th>\n",
       "    </tr>\n",
       "  </thead>\n",
       "  <tbody>\n",
       "    <tr>\n",
       "      <th>0</th>\n",
       "      <td>7590-VHVEG</td>\n",
       "      <td>2020-01-01</td>\n",
       "      <td>2020-02-01</td>\n",
       "      <td>Month-to-month</td>\n",
       "      <td>Yes</td>\n",
       "      <td>Electronic check</td>\n",
       "      <td>29.85</td>\n",
       "      <td>31.04</td>\n",
       "      <td>1</td>\n",
       "      <td>31</td>\n",
       "    </tr>\n",
       "    <tr>\n",
       "      <th>1</th>\n",
       "      <td>5575-GNVDE</td>\n",
       "      <td>2017-04-01</td>\n",
       "      <td>2020-02-01</td>\n",
       "      <td>One year</td>\n",
       "      <td>No</td>\n",
       "      <td>Mailed check</td>\n",
       "      <td>56.95</td>\n",
       "      <td>2071.84</td>\n",
       "      <td>1</td>\n",
       "      <td>1036</td>\n",
       "    </tr>\n",
       "    <tr>\n",
       "      <th>2</th>\n",
       "      <td>3668-QPYBK</td>\n",
       "      <td>2019-10-01</td>\n",
       "      <td>2020-02-01</td>\n",
       "      <td>Month-to-month</td>\n",
       "      <td>Yes</td>\n",
       "      <td>Mailed check</td>\n",
       "      <td>53.85</td>\n",
       "      <td>226.17</td>\n",
       "      <td>1</td>\n",
       "      <td>123</td>\n",
       "    </tr>\n",
       "    <tr>\n",
       "      <th>3</th>\n",
       "      <td>7795-CFOCW</td>\n",
       "      <td>2016-05-01</td>\n",
       "      <td>2020-02-01</td>\n",
       "      <td>One year</td>\n",
       "      <td>No</td>\n",
       "      <td>Bank transfer (automatic)</td>\n",
       "      <td>42.30</td>\n",
       "      <td>1960.60</td>\n",
       "      <td>1</td>\n",
       "      <td>1371</td>\n",
       "    </tr>\n",
       "    <tr>\n",
       "      <th>4</th>\n",
       "      <td>9237-HQITU</td>\n",
       "      <td>2019-09-01</td>\n",
       "      <td>2020-02-01</td>\n",
       "      <td>Month-to-month</td>\n",
       "      <td>Yes</td>\n",
       "      <td>Electronic check</td>\n",
       "      <td>70.70</td>\n",
       "      <td>353.50</td>\n",
       "      <td>1</td>\n",
       "      <td>153</td>\n",
       "    </tr>\n",
       "  </tbody>\n",
       "</table>\n",
       "</div>"
      ],
      "text/plain": [
       "   customerID  BeginDate    EndDate            Type PaperlessBilling  \\\n",
       "0  7590-VHVEG 2020-01-01 2020-02-01  Month-to-month              Yes   \n",
       "1  5575-GNVDE 2017-04-01 2020-02-01        One year               No   \n",
       "2  3668-QPYBK 2019-10-01 2020-02-01  Month-to-month              Yes   \n",
       "3  7795-CFOCW 2016-05-01 2020-02-01        One year               No   \n",
       "4  9237-HQITU 2019-09-01 2020-02-01  Month-to-month              Yes   \n",
       "\n",
       "               PaymentMethod  MonthlyCharges  TotalCharges  Target  Validity  \n",
       "0           Electronic check           29.85         31.04       1        31  \n",
       "1               Mailed check           56.95       2071.84       1      1036  \n",
       "2               Mailed check           53.85        226.17       1       123  \n",
       "3  Bank transfer (automatic)           42.30       1960.60       1      1371  \n",
       "4           Electronic check           70.70        353.50       1       153  "
      ]
     },
     "execution_count": 26,
     "metadata": {},
     "output_type": "execute_result"
    }
   ],
   "source": [
    "contract.head()"
   ]
  },
  {
   "cell_type": "code",
   "execution_count": 27,
   "metadata": {},
   "outputs": [
    {
     "data": {
      "image/png": "[encoded data removed]",
      "text/plain": [
       "<Figure size 432x288 with 1 Axes>"
      ]
     },
     "metadata": {
      "needs_background": "light"
     },
     "output_type": "display_data"
    }
   ],
   "source": [
    "contract['Validity'].hist()\n",
    "plt.title('Распределение времени действия контрактов');"
   ]
  },
  {
   "cell_type": "markdown",
   "metadata": {},
   "source": [
    "Договоры со сроком действия менее 32 дней не показательны (среди еще не завершенных), поскольку это новые клиенты и договоры с ними были заключены в январе и еще не успели закончиться на момент выгрузки"
   ]
  },
  {
   "cell_type": "code",
   "execution_count": 28,
   "metadata": {},
   "outputs": [
    {
     "data": {
      "text/plain": [
       "3.3082493255714893"
      ]
     },
     "execution_count": 28,
     "metadata": {},
     "output_type": "execute_result"
    }
   ],
   "source": [
    "(contract['BeginDate'] == '2020-01-01').sum() / contract['Validity'].count()*100"
   ]
  },
  {
   "cell_type": "code",
   "execution_count": 29,
   "metadata": {},
   "outputs": [
    {
     "data": {
      "text/plain": [
       "3.4644327701263666"
      ]
     },
     "execution_count": 29,
     "metadata": {},
     "output_type": "execute_result"
    }
   ],
   "source": [
    "((contract['Validity'] <= 31) & (contract['Target'] == 1)).sum() / contract['Validity'].count()*100"
   ]
  },
  {
   "cell_type": "markdown",
   "metadata": {},
   "source": [
    "Не показательные данные со сроком действия менее 32 дней составляют 3,5 процента. Можем их удалить после объединения в общий датасет."
   ]
  },
  {
   "cell_type": "markdown",
   "metadata": {},
   "source": [
    "В качестве дополнительного признака необходимо добавить какими именно услугами пользуется человек, поскольку это может повлиять на целевой признак. Для этого добавим столбцы равные 'Yes' в датасеты internet и phone"
   ]
  },
  {
   "cell_type": "code",
   "execution_count": 30,
   "metadata": {},
   "outputs": [],
   "source": [
    "internet['internet'] = 'Yes'\n",
    "phone['phone'] = 'Yes'"
   ]
  },
  {
   "cell_type": "code",
   "execution_count": 31,
   "metadata": {},
   "outputs": [
    {
     "data": {
      "text/html": [
       "<div>\n",
       "<style scoped>\n",
       "    .dataframe tbody tr th:only-of-type {\n",
       "        vertical-align: middle;\n",
       "    }\n",
       "\n",
       "    .dataframe tbody tr th {\n",
       "        vertical-align: top;\n",
       "    }\n",
       "\n",
       "    .dataframe thead th {\n",
       "        text-align: right;\n",
       "    }\n",
       "</style>\n",
       "<table border=\"1\" class=\"dataframe\">\n",
       "  <thead>\n",
       "    <tr style=\"text-align: right;\">\n",
       "      <th></th>\n",
       "      <th>customerID</th>\n",
       "      <th>InternetService</th>\n",
       "      <th>OnlineSecurity</th>\n",
       "      <th>OnlineBackup</th>\n",
       "      <th>DeviceProtection</th>\n",
       "      <th>TechSupport</th>\n",
       "      <th>StreamingTV</th>\n",
       "      <th>StreamingMovies</th>\n",
       "      <th>internet</th>\n",
       "    </tr>\n",
       "  </thead>\n",
       "  <tbody>\n",
       "    <tr>\n",
       "      <th>0</th>\n",
       "      <td>7590-VHVEG</td>\n",
       "      <td>DSL</td>\n",
       "      <td>No</td>\n",
       "      <td>Yes</td>\n",
       "      <td>No</td>\n",
       "      <td>No</td>\n",
       "      <td>No</td>\n",
       "      <td>No</td>\n",
       "      <td>Yes</td>\n",
       "    </tr>\n",
       "    <tr>\n",
       "      <th>1</th>\n",
       "      <td>5575-GNVDE</td>\n",
       "      <td>DSL</td>\n",
       "      <td>Yes</td>\n",
       "      <td>No</td>\n",
       "      <td>Yes</td>\n",
       "      <td>No</td>\n",
       "      <td>No</td>\n",
       "      <td>No</td>\n",
       "      <td>Yes</td>\n",
       "    </tr>\n",
       "    <tr>\n",
       "      <th>2</th>\n",
       "      <td>3668-QPYBK</td>\n",
       "      <td>DSL</td>\n",
       "      <td>Yes</td>\n",
       "      <td>Yes</td>\n",
       "      <td>No</td>\n",
       "      <td>No</td>\n",
       "      <td>No</td>\n",
       "      <td>No</td>\n",
       "      <td>Yes</td>\n",
       "    </tr>\n",
       "    <tr>\n",
       "      <th>3</th>\n",
       "      <td>7795-CFOCW</td>\n",
       "      <td>DSL</td>\n",
       "      <td>Yes</td>\n",
       "      <td>No</td>\n",
       "      <td>Yes</td>\n",
       "      <td>Yes</td>\n",
       "      <td>No</td>\n",
       "      <td>No</td>\n",
       "      <td>Yes</td>\n",
       "    </tr>\n",
       "    <tr>\n",
       "      <th>4</th>\n",
       "      <td>9237-HQITU</td>\n",
       "      <td>Fiber optic</td>\n",
       "      <td>No</td>\n",
       "      <td>No</td>\n",
       "      <td>No</td>\n",
       "      <td>No</td>\n",
       "      <td>No</td>\n",
       "      <td>No</td>\n",
       "      <td>Yes</td>\n",
       "    </tr>\n",
       "  </tbody>\n",
       "</table>\n",
       "</div>"
      ],
      "text/plain": [
       "   customerID InternetService OnlineSecurity OnlineBackup DeviceProtection  \\\n",
       "0  7590-VHVEG             DSL             No          Yes               No   \n",
       "1  5575-GNVDE             DSL            Yes           No              Yes   \n",
       "2  3668-QPYBK             DSL            Yes          Yes               No   \n",
       "3  7795-CFOCW             DSL            Yes           No              Yes   \n",
       "4  9237-HQITU     Fiber optic             No           No               No   \n",
       "\n",
       "  TechSupport StreamingTV StreamingMovies internet  \n",
       "0          No          No              No      Yes  \n",
       "1          No          No              No      Yes  \n",
       "2          No          No              No      Yes  \n",
       "3         Yes          No              No      Yes  \n",
       "4          No          No              No      Yes  "
      ]
     },
     "execution_count": 31,
     "metadata": {},
     "output_type": "execute_result"
    }
   ],
   "source": [
    "internet.head()"
   ]
  },
  {
   "cell_type": "markdown",
   "metadata": {},
   "source": [
    "ОБЪЕДИНЯЕМ в общий датает"
   ]
  },
  {
   "cell_type": "code",
   "execution_count": 32,
   "metadata": {},
   "outputs": [],
   "source": [
    "df = contract.copy()\n",
    "df = df.merge(personal, how='left', on='customerID')\n",
    "df = df.merge(internet, how='left', on='customerID')\n",
    "df = df.merge(phone, how='left', on='customerID') \n",
    "df = df[df['TotalCharges']>0]"
   ]
  },
  {
   "cell_type": "code",
   "execution_count": 33,
   "metadata": {},
   "outputs": [
    {
     "data": {
      "text/html": [
       "<div>\n",
       "<style scoped>\n",
       "    .dataframe tbody tr th:only-of-type {\n",
       "        vertical-align: middle;\n",
       "    }\n",
       "\n",
       "    .dataframe tbody tr th {\n",
       "        vertical-align: top;\n",
       "    }\n",
       "\n",
       "    .dataframe thead th {\n",
       "        text-align: right;\n",
       "    }\n",
       "</style>\n",
       "<table border=\"1\" class=\"dataframe\">\n",
       "  <thead>\n",
       "    <tr style=\"text-align: right;\">\n",
       "      <th></th>\n",
       "      <th>customerID</th>\n",
       "      <th>BeginDate</th>\n",
       "      <th>EndDate</th>\n",
       "      <th>Type</th>\n",
       "      <th>PaperlessBilling</th>\n",
       "      <th>PaymentMethod</th>\n",
       "      <th>MonthlyCharges</th>\n",
       "      <th>TotalCharges</th>\n",
       "      <th>Target</th>\n",
       "      <th>Validity</th>\n",
       "      <th>...</th>\n",
       "      <th>InternetService</th>\n",
       "      <th>OnlineSecurity</th>\n",
       "      <th>OnlineBackup</th>\n",
       "      <th>DeviceProtection</th>\n",
       "      <th>TechSupport</th>\n",
       "      <th>StreamingTV</th>\n",
       "      <th>StreamingMovies</th>\n",
       "      <th>internet</th>\n",
       "      <th>MultipleLines</th>\n",
       "      <th>phone</th>\n",
       "    </tr>\n",
       "  </thead>\n",
       "  <tbody>\n",
       "    <tr>\n",
       "      <th>0</th>\n",
       "      <td>7590-VHVEG</td>\n",
       "      <td>2020-01-01</td>\n",
       "      <td>2020-02-01</td>\n",
       "      <td>Month-to-month</td>\n",
       "      <td>Yes</td>\n",
       "      <td>Electronic check</td>\n",
       "      <td>29.85</td>\n",
       "      <td>31.04</td>\n",
       "      <td>1</td>\n",
       "      <td>31</td>\n",
       "      <td>...</td>\n",
       "      <td>DSL</td>\n",
       "      <td>No</td>\n",
       "      <td>Yes</td>\n",
       "      <td>No</td>\n",
       "      <td>No</td>\n",
       "      <td>No</td>\n",
       "      <td>No</td>\n",
       "      <td>Yes</td>\n",
       "      <td>NaN</td>\n",
       "      <td>NaN</td>\n",
       "    </tr>\n",
       "    <tr>\n",
       "      <th>1</th>\n",
       "      <td>5575-GNVDE</td>\n",
       "      <td>2017-04-01</td>\n",
       "      <td>2020-02-01</td>\n",
       "      <td>One year</td>\n",
       "      <td>No</td>\n",
       "      <td>Mailed check</td>\n",
       "      <td>56.95</td>\n",
       "      <td>2071.84</td>\n",
       "      <td>1</td>\n",
       "      <td>1036</td>\n",
       "      <td>...</td>\n",
       "      <td>DSL</td>\n",
       "      <td>Yes</td>\n",
       "      <td>No</td>\n",
       "      <td>Yes</td>\n",
       "      <td>No</td>\n",
       "      <td>No</td>\n",
       "      <td>No</td>\n",
       "      <td>Yes</td>\n",
       "      <td>No</td>\n",
       "      <td>Yes</td>\n",
       "    </tr>\n",
       "    <tr>\n",
       "      <th>2</th>\n",
       "      <td>3668-QPYBK</td>\n",
       "      <td>2019-10-01</td>\n",
       "      <td>2020-02-01</td>\n",
       "      <td>Month-to-month</td>\n",
       "      <td>Yes</td>\n",
       "      <td>Mailed check</td>\n",
       "      <td>53.85</td>\n",
       "      <td>226.17</td>\n",
       "      <td>1</td>\n",
       "      <td>123</td>\n",
       "      <td>...</td>\n",
       "      <td>DSL</td>\n",
       "      <td>Yes</td>\n",
       "      <td>Yes</td>\n",
       "      <td>No</td>\n",
       "      <td>No</td>\n",
       "      <td>No</td>\n",
       "      <td>No</td>\n",
       "      <td>Yes</td>\n",
       "      <td>No</td>\n",
       "      <td>Yes</td>\n",
       "    </tr>\n",
       "    <tr>\n",
       "      <th>3</th>\n",
       "      <td>7795-CFOCW</td>\n",
       "      <td>2016-05-01</td>\n",
       "      <td>2020-02-01</td>\n",
       "      <td>One year</td>\n",
       "      <td>No</td>\n",
       "      <td>Bank transfer (automatic)</td>\n",
       "      <td>42.30</td>\n",
       "      <td>1960.60</td>\n",
       "      <td>1</td>\n",
       "      <td>1371</td>\n",
       "      <td>...</td>\n",
       "      <td>DSL</td>\n",
       "      <td>Yes</td>\n",
       "      <td>No</td>\n",
       "      <td>Yes</td>\n",
       "      <td>Yes</td>\n",
       "      <td>No</td>\n",
       "      <td>No</td>\n",
       "      <td>Yes</td>\n",
       "      <td>NaN</td>\n",
       "      <td>NaN</td>\n",
       "    </tr>\n",
       "    <tr>\n",
       "      <th>4</th>\n",
       "      <td>9237-HQITU</td>\n",
       "      <td>2019-09-01</td>\n",
       "      <td>2020-02-01</td>\n",
       "      <td>Month-to-month</td>\n",
       "      <td>Yes</td>\n",
       "      <td>Electronic check</td>\n",
       "      <td>70.70</td>\n",
       "      <td>353.50</td>\n",
       "      <td>1</td>\n",
       "      <td>153</td>\n",
       "      <td>...</td>\n",
       "      <td>Fiber optic</td>\n",
       "      <td>No</td>\n",
       "      <td>No</td>\n",
       "      <td>No</td>\n",
       "      <td>No</td>\n",
       "      <td>No</td>\n",
       "      <td>No</td>\n",
       "      <td>Yes</td>\n",
       "      <td>No</td>\n",
       "      <td>Yes</td>\n",
       "    </tr>\n",
       "  </tbody>\n",
       "</table>\n",
       "<p>5 rows × 24 columns</p>\n",
       "</div>"
      ],
      "text/plain": [
       "   customerID  BeginDate    EndDate            Type PaperlessBilling  \\\n",
       "0  7590-VHVEG 2020-01-01 2020-02-01  Month-to-month              Yes   \n",
       "1  5575-GNVDE 2017-04-01 2020-02-01        One year               No   \n",
       "2  3668-QPYBK 2019-10-01 2020-02-01  Month-to-month              Yes   \n",
       "3  7795-CFOCW 2016-05-01 2020-02-01        One year               No   \n",
       "4  9237-HQITU 2019-09-01 2020-02-01  Month-to-month              Yes   \n",
       "\n",
       "               PaymentMethod  MonthlyCharges  TotalCharges  Target  Validity  \\\n",
       "0           Electronic check           29.85         31.04       1        31   \n",
       "1               Mailed check           56.95       2071.84       1      1036   \n",
       "2               Mailed check           53.85        226.17       1       123   \n",
       "3  Bank transfer (automatic)           42.30       1960.60       1      1371   \n",
       "4           Electronic check           70.70        353.50       1       153   \n",
       "\n",
       "   ... InternetService  OnlineSecurity OnlineBackup DeviceProtection  \\\n",
       "0  ...             DSL              No          Yes               No   \n",
       "1  ...             DSL             Yes           No              Yes   \n",
       "2  ...             DSL             Yes          Yes               No   \n",
       "3  ...             DSL             Yes           No              Yes   \n",
       "4  ...     Fiber optic              No           No               No   \n",
       "\n",
       "  TechSupport StreamingTV StreamingMovies internet MultipleLines phone  \n",
       "0          No          No              No      Yes           NaN   NaN  \n",
       "1          No          No              No      Yes            No   Yes  \n",
       "2          No          No              No      Yes            No   Yes  \n",
       "3         Yes          No              No      Yes           NaN   NaN  \n",
       "4          No          No              No      Yes            No   Yes  \n",
       "\n",
       "[5 rows x 24 columns]"
      ]
     },
     "execution_count": 33,
     "metadata": {},
     "output_type": "execute_result"
    }
   ],
   "source": [
    "df.head()"
   ]
  },
  {
   "cell_type": "code",
   "execution_count": 34,
   "metadata": {},
   "outputs": [
    {
     "name": "stdout",
     "output_type": "stream",
     "text": [
      "<class 'pandas.core.frame.DataFrame'>\n",
      "Int64Index: 7032 entries, 0 to 7042\n",
      "Data columns (total 24 columns):\n",
      " #   Column            Non-Null Count  Dtype         \n",
      "---  ------            --------------  -----         \n",
      " 0   customerID        7032 non-null   object        \n",
      " 1   BeginDate         7032 non-null   datetime64[ns]\n",
      " 2   EndDate           7032 non-null   datetime64[ns]\n",
      " 3   Type              7032 non-null   object        \n",
      " 4   PaperlessBilling  7032 non-null   object        \n",
      " 5   PaymentMethod     7032 non-null   object        \n",
      " 6   MonthlyCharges    7032 non-null   float64       \n",
      " 7   TotalCharges      7032 non-null   float64       \n",
      " 8   Target            7032 non-null   int64         \n",
      " 9   Validity          7032 non-null   int64         \n",
      " 10  gender            7032 non-null   object        \n",
      " 11  SeniorCitizen     7032 non-null   int64         \n",
      " 12  Partner           7032 non-null   object        \n",
      " 13  Dependents        7032 non-null   object        \n",
      " 14  InternetService   5512 non-null   object        \n",
      " 15  OnlineSecurity    5512 non-null   object        \n",
      " 16  OnlineBackup      5512 non-null   object        \n",
      " 17  DeviceProtection  5512 non-null   object        \n",
      " 18  TechSupport       5512 non-null   object        \n",
      " 19  StreamingTV       5512 non-null   object        \n",
      " 20  StreamingMovies   5512 non-null   object        \n",
      " 21  internet          5512 non-null   object        \n",
      " 22  MultipleLines     6352 non-null   object        \n",
      " 23  phone             6352 non-null   object        \n",
      "dtypes: datetime64[ns](2), float64(2), int64(3), object(17)\n",
      "memory usage: 1.3+ MB\n"
     ]
    }
   ],
   "source": [
    "df.info()"
   ]
  },
  {
   "cell_type": "markdown",
   "metadata": {},
   "source": [
    "В данных образовались пропуски по причине того, что некоторые пользуются только услугами телефонной связи или только услугами интернета, Заполним пропуски на \"No\""
   ]
  },
  {
   "cell_type": "code",
   "execution_count": 35,
   "metadata": {},
   "outputs": [],
   "source": [
    "df = df.fillna('No')"
   ]
  },
  {
   "cell_type": "code",
   "execution_count": 36,
   "metadata": {},
   "outputs": [
    {
     "name": "stdout",
     "output_type": "stream",
     "text": [
      "<class 'pandas.core.frame.DataFrame'>\n",
      "Int64Index: 7032 entries, 0 to 7042\n",
      "Data columns (total 24 columns):\n",
      " #   Column            Non-Null Count  Dtype         \n",
      "---  ------            --------------  -----         \n",
      " 0   customerID        7032 non-null   object        \n",
      " 1   BeginDate         7032 non-null   datetime64[ns]\n",
      " 2   EndDate           7032 non-null   datetime64[ns]\n",
      " 3   Type              7032 non-null   object        \n",
      " 4   PaperlessBilling  7032 non-null   object        \n",
      " 5   PaymentMethod     7032 non-null   object        \n",
      " 6   MonthlyCharges    7032 non-null   float64       \n",
      " 7   TotalCharges      7032 non-null   float64       \n",
      " 8   Target            7032 non-null   int64         \n",
      " 9   Validity          7032 non-null   int64         \n",
      " 10  gender            7032 non-null   object        \n",
      " 11  SeniorCitizen     7032 non-null   int64         \n",
      " 12  Partner           7032 non-null   object        \n",
      " 13  Dependents        7032 non-null   object        \n",
      " 14  InternetService   7032 non-null   object        \n",
      " 15  OnlineSecurity    7032 non-null   object        \n",
      " 16  OnlineBackup      7032 non-null   object        \n",
      " 17  DeviceProtection  7032 non-null   object        \n",
      " 18  TechSupport       7032 non-null   object        \n",
      " 19  StreamingTV       7032 non-null   object        \n",
      " 20  StreamingMovies   7032 non-null   object        \n",
      " 21  internet          7032 non-null   object        \n",
      " 22  MultipleLines     7032 non-null   object        \n",
      " 23  phone             7032 non-null   object        \n",
      "dtypes: datetime64[ns](2), float64(2), int64(3), object(17)\n",
      "memory usage: 1.3+ MB\n"
     ]
    }
   ],
   "source": [
    "df.info()"
   ]
  },
  {
   "cell_type": "markdown",
   "metadata": {},
   "source": [
    "Удалим столбцы, которые не нужны для обучения и анализа модели: customerID, BeginDate, EndDate. "
   ]
  },
  {
   "cell_type": "code",
   "execution_count": 37,
   "metadata": {},
   "outputs": [],
   "source": [
    "df = df.drop(['BeginDate', 'EndDate', 'customerID'], axis=1)\n",
    "df['SeniorCitizen'] = df['SeniorCitizen'].astype('object')"
   ]
  },
  {
   "cell_type": "code",
   "execution_count": 38,
   "metadata": {},
   "outputs": [
    {
     "name": "stdout",
     "output_type": "stream",
     "text": [
      "<class 'pandas.core.frame.DataFrame'>\n",
      "Int64Index: 7032 entries, 0 to 7042\n",
      "Data columns (total 21 columns):\n",
      " #   Column            Non-Null Count  Dtype  \n",
      "---  ------            --------------  -----  \n",
      " 0   Type              7032 non-null   object \n",
      " 1   PaperlessBilling  7032 non-null   object \n",
      " 2   PaymentMethod     7032 non-null   object \n",
      " 3   MonthlyCharges    7032 non-null   float64\n",
      " 4   TotalCharges      7032 non-null   float64\n",
      " 5   Target            7032 non-null   int64  \n",
      " 6   Validity          7032 non-null   int64  \n",
      " 7   gender            7032 non-null   object \n",
      " 8   SeniorCitizen     7032 non-null   object \n",
      " 9   Partner           7032 non-null   object \n",
      " 10  Dependents        7032 non-null   object \n",
      " 11  InternetService   7032 non-null   object \n",
      " 12  OnlineSecurity    7032 non-null   object \n",
      " 13  OnlineBackup      7032 non-null   object \n",
      " 14  DeviceProtection  7032 non-null   object \n",
      " 15  TechSupport       7032 non-null   object \n",
      " 16  StreamingTV       7032 non-null   object \n",
      " 17  StreamingMovies   7032 non-null   object \n",
      " 18  internet          7032 non-null   object \n",
      " 19  MultipleLines     7032 non-null   object \n",
      " 20  phone             7032 non-null   object \n",
      "dtypes: float64(2), int64(2), object(17)\n",
      "memory usage: 1.2+ MB\n"
     ]
    }
   ],
   "source": [
    "df.info()"
   ]
  },
  {
   "cell_type": "markdown",
   "metadata": {},
   "source": [
    "Датасет подготовлен для дальнейшей работы, было выполнено: \n",
    "- добавлен целевой признак Target \n",
    "- добавлены новые признаки Validity, internet, phone\n",
    "- изменены типы данных\n",
    "- удалены неинформативные признаки\n",
    "- удалены непоказательные данные (недавно заключенные договоры) \n",
    "\n",
    "Полученный датасет состоит из 7032 строк, имеет 1 целевой признак и 19 влияющих"
   ]
  },
  {
   "cell_type": "markdown",
   "metadata": {},
   "source": [
    "## Исследование данных"
   ]
  },
  {
   "cell_type": "code",
   "execution_count": 39,
   "metadata": {},
   "outputs": [
    {
     "data": {
      "image/png": "[encoded data removed]",
      "text/plain": [
       "<Figure size 1080x2160 with 21 Axes>"
      ]
     },
     "metadata": {
      "needs_background": "light"
     },
     "output_type": "display_data"
    }
   ],
   "source": [
    "a = df.columns.values\n",
    "i = 0\n",
    "plt.figure(figsize=(15, 30))\n",
    "for column in a:\n",
    "    i += 1 \n",
    "    plt.subplot(7, 3, i)\n",
    "    plt.hist(df[column])\n",
    "    plt.title(column)"
   ]
  },
  {
   "cell_type": "markdown",
   "metadata": {},
   "source": [
    "По общему анализу распределения данных можно сделать следующие выводы:\n",
    "- Самый частый тип договоров с месячной оплатой и электронным чеком\n",
    "- максимальное количество людей оплачивают ежемесячно суммы до 30 долларов\n",
    "- значительное количество людей имеют большие ежемесячные платежи от 70 до 110 долларов\n",
    "- целевой признак требует балансировки\n",
    "- количество мужчин и женщин в выборке приблизительно равные, как и с детьми или без\n",
    "- все дополнительные услуги пользуются популярностью"
   ]
  },
  {
   "cell_type": "code",
   "execution_count": 40,
   "metadata": {},
   "outputs": [
    {
     "data": {
      "image/png": "[encoded data removed]",
      "text/plain": [
       "<Figure size 1080x2160 with 21 Axes>"
      ]
     },
     "metadata": {
      "needs_background": "light"
     },
     "output_type": "display_data"
    }
   ],
   "source": [
    "df1 = df[df['Target'] == 1]\n",
    "df0 = df[df['Target'] == 0]\n",
    "i = 0\n",
    "plt.figure(figsize=(15, 30))\n",
    "for column in a:\n",
    "    i += 1 \n",
    "    plt.subplot(7, 3, i)\n",
    "    plt.hist([df1[column], df0[column]], label=['открыт', 'закрыт'], density=True)\n",
    "    plt.title(column)\n",
    "    plt.legend()"
   ]
  },
  {
   "cell_type": "markdown",
   "metadata": {},
   "source": [
    "При сравнительном анализе признаков с делением на открытые и закрытые договоры можно сделать следующие выводы, что чаще отказываются от услуг компании те клиенты, которые:\n",
    "- заключают договор с годичной оплатой (1 раз в год или в 2 года)\n",
    "- имеют большие ежемесячные платежи (более 80 долларов)\n",
    "- являются клиентами от 500 до 1500 дней\n",
    "- женатые(странная корреляция)\n",
    "- используют интернет, подключенный по технологии оптического кабеля\n",
    "- пользуются дополнительными услугами (OnlineBackup, StreamingTV, StreamingMovies, MultipleLines)\n",
    "- признаки не влияющие на уход клиента (gender,  SeniorCitizen, Dependents, TechSupport, phone)\n"
   ]
  },
  {
   "cell_type": "code",
   "execution_count": 41,
   "metadata": {},
   "outputs": [],
   "source": [
    "numerical = ['Validity', 'MonthlyCharges', 'TotalCharges']"
   ]
  },
  {
   "cell_type": "code",
   "execution_count": 42,
   "metadata": {},
   "outputs": [
    {
     "data": {
      "text/html": [
       "<div>\n",
       "<style scoped>\n",
       "    .dataframe tbody tr th:only-of-type {\n",
       "        vertical-align: middle;\n",
       "    }\n",
       "\n",
       "    .dataframe tbody tr th {\n",
       "        vertical-align: top;\n",
       "    }\n",
       "\n",
       "    .dataframe thead th {\n",
       "        text-align: right;\n",
       "    }\n",
       "</style>\n",
       "<table border=\"1\" class=\"dataframe\">\n",
       "  <thead>\n",
       "    <tr style=\"text-align: right;\">\n",
       "      <th></th>\n",
       "      <th>Validity</th>\n",
       "      <th>MonthlyCharges</th>\n",
       "      <th>TotalCharges</th>\n",
       "    </tr>\n",
       "  </thead>\n",
       "  <tbody>\n",
       "    <tr>\n",
       "      <th>Validity</th>\n",
       "      <td>1.000000</td>\n",
       "      <td>0.218955</td>\n",
       "      <td>0.821442</td>\n",
       "    </tr>\n",
       "    <tr>\n",
       "      <th>MonthlyCharges</th>\n",
       "      <td>0.218955</td>\n",
       "      <td>1.000000</td>\n",
       "      <td>0.630297</td>\n",
       "    </tr>\n",
       "    <tr>\n",
       "      <th>TotalCharges</th>\n",
       "      <td>0.821442</td>\n",
       "      <td>0.630297</td>\n",
       "      <td>1.000000</td>\n",
       "    </tr>\n",
       "  </tbody>\n",
       "</table>\n",
       "</div>"
      ],
      "text/plain": [
       "                Validity  MonthlyCharges  TotalCharges\n",
       "Validity        1.000000        0.218955      0.821442\n",
       "MonthlyCharges  0.218955        1.000000      0.630297\n",
       "TotalCharges    0.821442        0.630297      1.000000"
      ]
     },
     "execution_count": 42,
     "metadata": {},
     "output_type": "execute_result"
    }
   ],
   "source": [
    "df[numerical].corr()"
   ]
  },
  {
   "cell_type": "code",
   "execution_count": 43,
   "metadata": {},
   "outputs": [
    {
     "data": {
      "text/html": [
       "<div>\n",
       "<style scoped>\n",
       "    .dataframe tbody tr th:only-of-type {\n",
       "        vertical-align: middle;\n",
       "    }\n",
       "\n",
       "    .dataframe tbody tr th {\n",
       "        vertical-align: top;\n",
       "    }\n",
       "\n",
       "    .dataframe thead th {\n",
       "        text-align: right;\n",
       "    }\n",
       "</style>\n",
       "<table border=\"1\" class=\"dataframe\">\n",
       "  <thead>\n",
       "    <tr style=\"text-align: right;\">\n",
       "      <th></th>\n",
       "      <th>MonthlyCharges</th>\n",
       "      <th>TotalCharges</th>\n",
       "      <th>Target</th>\n",
       "      <th>Validity</th>\n",
       "    </tr>\n",
       "  </thead>\n",
       "  <tbody>\n",
       "    <tr>\n",
       "      <th>MonthlyCharges</th>\n",
       "      <td>1.000000</td>\n",
       "      <td>0.630297</td>\n",
       "      <td>-0.153927</td>\n",
       "      <td>0.218955</td>\n",
       "    </tr>\n",
       "    <tr>\n",
       "      <th>TotalCharges</th>\n",
       "      <td>0.630297</td>\n",
       "      <td>1.000000</td>\n",
       "      <td>-0.051548</td>\n",
       "      <td>0.821442</td>\n",
       "    </tr>\n",
       "    <tr>\n",
       "      <th>Target</th>\n",
       "      <td>-0.153927</td>\n",
       "      <td>-0.051548</td>\n",
       "      <td>1.000000</td>\n",
       "      <td>-0.015716</td>\n",
       "    </tr>\n",
       "    <tr>\n",
       "      <th>Validity</th>\n",
       "      <td>0.218955</td>\n",
       "      <td>0.821442</td>\n",
       "      <td>-0.015716</td>\n",
       "      <td>1.000000</td>\n",
       "    </tr>\n",
       "  </tbody>\n",
       "</table>\n",
       "</div>"
      ],
      "text/plain": [
       "                MonthlyCharges  TotalCharges    Target  Validity\n",
       "MonthlyCharges        1.000000      0.630297 -0.153927  0.218955\n",
       "TotalCharges          0.630297      1.000000 -0.051548  0.821442\n",
       "Target               -0.153927     -0.051548  1.000000 -0.015716\n",
       "Validity              0.218955      0.821442 -0.015716  1.000000"
      ]
     },
     "execution_count": 43,
     "metadata": {},
     "output_type": "execute_result"
    }
   ],
   "source": [
    "df.corr()"
   ]
  },
  {
   "cell_type": "code",
   "execution_count": 44,
   "metadata": {},
   "outputs": [
    {
     "name": "stdout",
     "output_type": "stream",
     "text": [
      "<class 'pandas.core.frame.DataFrame'>\n",
      "Int64Index: 7032 entries, 0 to 7042\n",
      "Data columns (total 21 columns):\n",
      " #   Column            Non-Null Count  Dtype  \n",
      "---  ------            --------------  -----  \n",
      " 0   Type              7032 non-null   object \n",
      " 1   PaperlessBilling  7032 non-null   object \n",
      " 2   PaymentMethod     7032 non-null   object \n",
      " 3   MonthlyCharges    7032 non-null   float64\n",
      " 4   TotalCharges      7032 non-null   float64\n",
      " 5   Target            7032 non-null   int64  \n",
      " 6   Validity          7032 non-null   int64  \n",
      " 7   gender            7032 non-null   object \n",
      " 8   SeniorCitizen     7032 non-null   object \n",
      " 9   Partner           7032 non-null   object \n",
      " 10  Dependents        7032 non-null   object \n",
      " 11  InternetService   7032 non-null   object \n",
      " 12  OnlineSecurity    7032 non-null   object \n",
      " 13  OnlineBackup      7032 non-null   object \n",
      " 14  DeviceProtection  7032 non-null   object \n",
      " 15  TechSupport       7032 non-null   object \n",
      " 16  StreamingTV       7032 non-null   object \n",
      " 17  StreamingMovies   7032 non-null   object \n",
      " 18  internet          7032 non-null   object \n",
      " 19  MultipleLines     7032 non-null   object \n",
      " 20  phone             7032 non-null   object \n",
      "dtypes: float64(2), int64(2), object(17)\n",
      "memory usage: 1.2+ MB\n"
     ]
    }
   ],
   "source": [
    "df.info()"
   ]
  },
  {
   "cell_type": "markdown",
   "metadata": {},
   "source": [
    "Значительная корреляция между Validity и TotalCharges, что понятно, чем больше дней, тем больше сумма, удалим столбец TotalCharges перед обучением модели"
   ]
  },
  {
   "cell_type": "markdown",
   "metadata": {},
   "source": [
    "## Обучение моделей"
   ]
  },
  {
   "cell_type": "markdown",
   "metadata": {},
   "source": [
    "### Подготовка данных к обучению \n",
    "- удалить столбец TotalCharges\n",
    "- удалить не влияющие на уход клиента признаки (gender, SeniorCitizen, Dependents, TechSupport, phone)\n",
    "- выделить целевой признак\n",
    "- разбить на тестовую и обучающую выборку \n",
    "- применить стандартизацию к числовым признакам\n",
    "- применить кодирование к категориальным признакам"
   ]
  },
  {
   "cell_type": "code",
   "execution_count": 45,
   "metadata": {},
   "outputs": [],
   "source": [
    "RS = 100423"
   ]
  },
  {
   "cell_type": "code",
   "execution_count": 46,
   "metadata": {},
   "outputs": [],
   "source": [
    "col_del = ['TotalCharges', 'gender', 'SeniorCitizen', 'Dependents', 'TechSupport', 'phone']"
   ]
  },
  {
   "cell_type": "code",
   "execution_count": 47,
   "metadata": {},
   "outputs": [],
   "source": [
    "df = df.drop(columns=col_del)\n",
    "target = df['Target']\n",
    "features = df.drop(['Target'], axis=1)"
   ]
  },
  {
   "cell_type": "code",
   "execution_count": 48,
   "metadata": {},
   "outputs": [
    {
     "name": "stdout",
     "output_type": "stream",
     "text": [
      "Размер обучающей выборки 5274 75.0%\n",
      "Размер  валидационной выборки 1758 25.0%\n"
     ]
    }
   ],
   "source": [
    "features_train, features_test, target_train, target_test = train_test_split(\n",
    "    features, target, test_size = 0.25, random_state = RS, stratify=target)\n",
    "print('Размер обучающей выборки', features_train.shape[0], f'{  features_train.shape[0]/features.shape[0]:.1%}')\n",
    "print('Размер  валидационной выборки', features_test.shape[0], f'{  features_test.shape[0]/features.shape[0]:.1%}')"
   ]
  },
  {
   "cell_type": "code",
   "execution_count": 49,
   "metadata": {},
   "outputs": [],
   "source": [
    "numeric = ['Validity', 'MonthlyCharges']\n",
    "scaler = StandardScaler()\n",
    "scaler.fit(features_train[numeric])\n",
    "features_train = features_train.copy()\n",
    "features_train[numeric] = scaler.transform(features_train[numeric])\n",
    "features_test = features_test.copy()\n",
    "features_test[numeric] = scaler.transform(features_test[numeric])"
   ]
  },
  {
   "cell_type": "code",
   "execution_count": 50,
   "metadata": {},
   "outputs": [],
   "source": [
    "def upsample(features, target, repeat):\n",
    "    features_zeros = features[target == 0]\n",
    "    features_ones = features[target == 1]\n",
    "    target_zeros = target[target == 0]\n",
    "    target_ones = target[target == 1]\n",
    "\n",
    "    features_upsampled = pd.concat([features_ones] + [features_zeros] * repeat)\n",
    "    target_upsampled = pd.concat([target_ones] + [target_zeros] * repeat)\n",
    "    \n",
    "    features_upsampled, target_upsampled = shuffle(\n",
    "        features_upsampled, target_upsampled, random_state=RS)\n",
    "    \n",
    "    return features_upsampled, target_upsampled"
   ]
  },
  {
   "cell_type": "code",
   "execution_count": 51,
   "metadata": {},
   "outputs": [
    {
     "data": {
      "text/plain": [
       "5.38498789346247"
      ]
     },
     "execution_count": 51,
     "metadata": {},
     "output_type": "execute_result"
    }
   ],
   "source": [
    "target_train[target_train == 1].count()/target_train[target_train == 0].count()"
   ]
  },
  {
   "cell_type": "code",
   "execution_count": 52,
   "metadata": {},
   "outputs": [],
   "source": [
    "#features_train, target_train = upsample(features_train, target_train, 3)"
   ]
  },
  {
   "cell_type": "code",
   "execution_count": 53,
   "metadata": {},
   "outputs": [
    {
     "data": {
      "text/plain": [
       "5.38498789346247"
      ]
     },
     "execution_count": 53,
     "metadata": {},
     "output_type": "execute_result"
    }
   ],
   "source": [
    "target_train[target_train == 1].count()/target_train[target_train == 0].count()"
   ]
  },
  {
   "cell_type": "code",
   "execution_count": 54,
   "metadata": {},
   "outputs": [],
   "source": [
    "var_categorical = ['Type', 'PaperlessBilling', 'PaymentMethod', \n",
    "'Partner', 'InternetService', 'OnlineSecurity',\n",
    "'OnlineBackup', 'DeviceProtection', 'StreamingTV',\n",
    "'StreamingMovies', 'internet', 'MultipleLines']\n",
    "encoder = OneHotEncoder(handle_unknown='error', drop='first')\n",
    "train_ohe = pd.DataFrame(encoder.fit_transform(features_train[var_categorical]).toarray(),\n",
    "                       columns=encoder.get_feature_names(),\n",
    "                       index=features_train.index)\n",
    "test_ohe = pd.DataFrame(encoder.transform(features_test[var_categorical]).toarray(),\n",
    "                        columns=encoder.get_feature_names(),\n",
    "                       index=features_test.index)\n",
    "features_train_ohe = pd.concat([features_train, train_ohe], axis=1)\n",
    "features_test_ohe = pd.concat([features_test, test_ohe], axis=1)\n",
    "features_train_ohe = features_train_ohe.drop(columns = var_categorical)\n",
    "features_test_ohe = features_test_ohe.drop(columns = var_categorical)"
   ]
  },
  {
   "cell_type": "code",
   "execution_count": 55,
   "metadata": {},
   "outputs": [],
   "source": [
    "encoder2 = OrdinalEncoder()"
   ]
  },
  {
   "cell_type": "code",
   "execution_count": 56,
   "metadata": {},
   "outputs": [],
   "source": [
    "train_OE = features_train[var_categorical]\n",
    "train_OE = pd.DataFrame(encoder2.fit_transform(train_OE),\n",
    "                        columns=train_OE.columns, index=train_OE.index) \n",
    "features_train_oe = features_train.copy()\n",
    "for column in var_categorical:\n",
    "    features_train_oe[column] = train_OE[column]\n"
   ]
  },
  {
   "cell_type": "code",
   "execution_count": 57,
   "metadata": {},
   "outputs": [],
   "source": [
    "test_OE = features_test[var_categorical]\n",
    "test_OE = pd.DataFrame(encoder2.transform(test_OE),\n",
    "                        columns=test_OE.columns, index=test_OE.index) \n",
    "features_test_oe = features_test.copy()\n",
    "for column in var_categorical:\n",
    "    features_test_oe[column] = test_OE[column]"
   ]
  },
  {
   "cell_type": "markdown",
   "metadata": {},
   "source": [
    "В ходе подготовки данных было выполнено следующее:\n",
    "- Выделен целевой признак, разбили на тестовую и обучающую выборки (Размер обучающей выборки 5099 75.0% Размер  валидационной выборки 1700 25.0%)\n",
    "- применили стандартизацию к числовым признакам с помощью StandardScaler\n",
    "- сбалансировали классы (увеличив количесво закрытых договоров в 3 раза)\n",
    "\n",
    "\n",
    "применили кодирование к категориальным признакам:\n",
    "1. OneHotEncoder - получили данные features_train_ohe и features_test_ohe\n",
    "2. OrdinalEncoder - получили данные features_train_oe и features_test_oe"
   ]
  },
  {
   "cell_type": "code",
   "execution_count": 58,
   "metadata": {},
   "outputs": [
    {
     "name": "stdout",
     "output_type": "stream",
     "text": [
      "<class 'pandas.core.frame.DataFrame'>\n",
      "Int64Index: 1758 entries, 2698 to 2658\n",
      "Data columns (total 14 columns):\n",
      " #   Column            Non-Null Count  Dtype  \n",
      "---  ------            --------------  -----  \n",
      " 0   Type              1758 non-null   object \n",
      " 1   PaperlessBilling  1758 non-null   object \n",
      " 2   PaymentMethod     1758 non-null   object \n",
      " 3   MonthlyCharges    1758 non-null   float64\n",
      " 4   Validity          1758 non-null   float64\n",
      " 5   Partner           1758 non-null   object \n",
      " 6   InternetService   1758 non-null   object \n",
      " 7   OnlineSecurity    1758 non-null   object \n",
      " 8   OnlineBackup      1758 non-null   object \n",
      " 9   DeviceProtection  1758 non-null   object \n",
      " 10  StreamingTV       1758 non-null   object \n",
      " 11  StreamingMovies   1758 non-null   object \n",
      " 12  internet          1758 non-null   object \n",
      " 13  MultipleLines     1758 non-null   object \n",
      "dtypes: float64(2), object(12)\n",
      "memory usage: 206.0+ KB\n"
     ]
    }
   ],
   "source": [
    "features_test.info()"
   ]
  },
  {
   "cell_type": "markdown",
   "metadata": {},
   "source": [
    "### Обучение моделей"
   ]
  },
  {
   "cell_type": "markdown",
   "metadata": {},
   "source": [
    "Для обучения протестируем и обучим следующие модели: \n",
    "1. LogisticRegression\n",
    "2. RandomForestClassifier\n",
    "3. CatBoostClassifier"
   ]
  },
  {
   "cell_type": "markdown",
   "metadata": {},
   "source": [
    "#### LogisticRegression"
   ]
  },
  {
   "cell_type": "code",
   "execution_count": 59,
   "metadata": {},
   "outputs": [],
   "source": [
    "def plot_roc_curve(target, predictions):\n",
    "    print('ROC-AUC', roc_auc_score(target, predictions))\n",
    "    fpr, tpr, thresholds = roc_curve(target, predictions)\n",
    "    plt.figure(figsize=(10, 5))\n",
    "    plt.plot(fpr, tpr)\n",
    "    plt.plot([0, 1], [0, 1], linestyle=':')\n",
    "    plt.xlim([0.0, 1.0])\n",
    "    plt.ylim([0.0, 1.0])\n",
    "    plt.title('ROC-кривая')\n",
    "    plt.xlabel('False Positive')\n",
    "    plt.ylabel('True Positive')\n",
    "    plt.show()"
   ]
  },
  {
   "cell_type": "code",
   "execution_count": 60,
   "metadata": {},
   "outputs": [],
   "source": [
    "LR = LogisticRegression(solver='liblinear', n_jobs=-1, random_state=RS, class_weight='balanced')\n",
    "param_grid = {'C': [ 1, 10, 100, 1000, 10000]}\n",
    "LR_cv = GridSearchCV(LR, param_grid, cv=3, scoring='roc_auc')\n",
    "LR_cv.fit(features_train_ohe, target_train)\n",
    "LR_BP = LR_cv.best_params_"
   ]
  },
  {
   "cell_type": "code",
   "execution_count": 61,
   "metadata": {},
   "outputs": [
    {
     "data": {
      "text/plain": [
       "0.7583343576350748"
      ]
     },
     "execution_count": 61,
     "metadata": {},
     "output_type": "execute_result"
    }
   ],
   "source": [
    "roc_auc_LR = LR_cv.best_score_\n",
    "roc_auc_LR"
   ]
  },
  {
   "cell_type": "markdown",
   "metadata": {},
   "source": [
    "### RandomForestClassifier"
   ]
  },
  {
   "cell_type": "code",
   "execution_count": 62,
   "metadata": {},
   "outputs": [],
   "source": [
    "param_grid_RFC = {'max_depth': [5, 10],\n",
    "    'n_estimators': [50, 100, 150]}\n",
    "\n",
    "RFC = RandomForestClassifier(random_state=RS, class_weight='balanced')\n",
    "\n",
    "RFC_cv = GridSearchCV(RFC, param_grid_RFC, cv=3, scoring='roc_auc')\n",
    "RFC_cv.fit(features_train_oe, target_train)\n",
    "RFC_BP = RFC_cv.best_params_"
   ]
  },
  {
   "cell_type": "code",
   "execution_count": 63,
   "metadata": {},
   "outputs": [
    {
     "data": {
      "text/plain": [
       "0.8280569353141919"
      ]
     },
     "execution_count": 63,
     "metadata": {},
     "output_type": "execute_result"
    }
   ],
   "source": [
    "roc_auc_RFC = RFC_cv.best_score_\n",
    "roc_auc_RFC"
   ]
  },
  {
   "cell_type": "markdown",
   "metadata": {},
   "source": [
    "### CatBoostClassifier"
   ]
  },
  {
   "cell_type": "code",
   "execution_count": 64,
   "metadata": {
    "scrolled": true
   },
   "outputs": [],
   "source": [
    "param_grid_CBC = {'n_estimators': [150, 200, 300]}\n",
    "\n",
    "CBC = CatBoostClassifier(random_state=RS, verbose=0)\n",
    "\n",
    "CBC_cv = GridSearchCV(CBC, param_grid_CBC, cv=3, scoring='roc_auc')\n",
    "CBC_cv.fit(features_train_oe, target_train)\n",
    "CBC_BP = CBC_cv.best_params_"
   ]
  },
  {
   "cell_type": "code",
   "execution_count": 65,
   "metadata": {},
   "outputs": [
    {
     "data": {
      "text/plain": [
       "0.8676179611326531"
      ]
     },
     "execution_count": 65,
     "metadata": {},
     "output_type": "execute_result"
    }
   ],
   "source": [
    "roc_auc_CBC = CBC_cv.best_score_\n",
    "roc_auc_CBC"
   ]
  },
  {
   "cell_type": "markdown",
   "metadata": {},
   "source": [
    "### Вывод по обучению моделей"
   ]
  },
  {
   "cell_type": "code",
   "execution_count": 66,
   "metadata": {},
   "outputs": [
    {
     "data": {
      "text/html": [
       "<div>\n",
       "<style scoped>\n",
       "    .dataframe tbody tr th:only-of-type {\n",
       "        vertical-align: middle;\n",
       "    }\n",
       "\n",
       "    .dataframe tbody tr th {\n",
       "        vertical-align: top;\n",
       "    }\n",
       "\n",
       "    .dataframe thead th {\n",
       "        text-align: right;\n",
       "    }\n",
       "</style>\n",
       "<table border=\"1\" class=\"dataframe\">\n",
       "  <thead>\n",
       "    <tr style=\"text-align: right;\">\n",
       "      <th></th>\n",
       "      <th>параметры</th>\n",
       "      <th>ROC-AUC</th>\n",
       "    </tr>\n",
       "  </thead>\n",
       "  <tbody>\n",
       "    <tr>\n",
       "      <th>LogisticRegression</th>\n",
       "      <td>{'C': 1}</td>\n",
       "      <td>0.758334</td>\n",
       "    </tr>\n",
       "    <tr>\n",
       "      <th>RandomForestClassifier</th>\n",
       "      <td>{'max_depth': 5, 'n_estimators': 100}</td>\n",
       "      <td>0.828057</td>\n",
       "    </tr>\n",
       "    <tr>\n",
       "      <th>CatBoostClassifier</th>\n",
       "      <td>{'n_estimators': 300}</td>\n",
       "      <td>0.867618</td>\n",
       "    </tr>\n",
       "  </tbody>\n",
       "</table>\n",
       "</div>"
      ],
      "text/plain": [
       "                                                    параметры   ROC-AUC\n",
       "LogisticRegression                                   {'C': 1}  0.758334\n",
       "RandomForestClassifier  {'max_depth': 5, 'n_estimators': 100}  0.828057\n",
       "CatBoostClassifier                      {'n_estimators': 300}  0.867618"
      ]
     },
     "execution_count": 66,
     "metadata": {},
     "output_type": "execute_result"
    }
   ],
   "source": [
    "summ = pd.DataFrame(\n",
    "    {'параметры': [LR_BP, RFC_BP, CBC_BP],\n",
    "     'ROC-AUC': [roc_auc_LR, roc_auc_RFC, roc_auc_CBC]},\n",
    "    index = ['LogisticRegression', 'RandomForestClassifier', 'CatBoostClassifier'])\n",
    "summ"
   ]
  },
  {
   "cell_type": "markdown",
   "metadata": {},
   "source": [
    "В ходе обучения моделей был произведен подбор гиперпараметров для моделей LogisticRegression, RandomForestClassifier, CatBoostClassifier и произведен расчет ROC-AUC. Лучшее значение на обучающей выборке у модели CatBoostClassifier с гиперпараметрами n_estimators': 300. "
   ]
  },
  {
   "cell_type": "markdown",
   "metadata": {},
   "source": [
    "### Проверка выбранной модели"
   ]
  },
  {
   "cell_type": "code",
   "execution_count": 67,
   "metadata": {},
   "outputs": [
    {
     "name": "stdout",
     "output_type": "stream",
     "text": [
      "ROC-AUC 0.8871207012811868\n",
      "accuracy 0.8902161547212741\n"
     ]
    },
    {
     "data": {
      "image/png": "[encoded data removed]",
      "text/plain": [
       "<Figure size 720x360 with 1 Axes>"
      ]
     },
     "metadata": {
      "needs_background": "light"
     },
     "output_type": "display_data"
    }
   ],
   "source": [
    "predictions = CBC_cv.best_estimator_.predict_proba(features_test_oe)[:, 1]\n",
    "predictions2 = CBC_cv.best_estimator_.predict(features_test_oe)\n",
    "print('ROC-AUC', roc_auc_score(target_test, predictions))\n",
    "print('accuracy', accuracy_score(target_test, predictions2))\n",
    "fpr, tpr, thresholds = roc_curve(target_test, predictions)\n",
    "plt.figure(figsize=(10, 5))\n",
    "plt.plot(fpr, tpr)\n",
    "plt.plot([0, 1], [0, 1], linestyle=':')\n",
    "plt.xlim([0.0, 1.0])\n",
    "plt.ylim([0.0, 1.0])\n",
    "plt.title('ROC-кривая')\n",
    "plt.xlabel('False Positive')\n",
    "plt.ylabel('True Positive')\n",
    "plt.show()"
   ]
  },
  {
   "cell_type": "markdown",
   "metadata": {},
   "source": [
    "Требуемая метрика качества на обучающей выборке получена.\\\n",
    "Модель CatBoostClassifier (n_estimators': 300)\\\n",
    "ROC-AUC 0.88\\\n",
    "accuracy 0.89"
   ]
  },
  {
   "cell_type": "code",
   "execution_count": 68,
   "metadata": {},
   "outputs": [
    {
     "data": {
      "text/html": [
       "<div>\n",
       "<style scoped>\n",
       "    .dataframe tbody tr th:only-of-type {\n",
       "        vertical-align: middle;\n",
       "    }\n",
       "\n",
       "    .dataframe tbody tr th {\n",
       "        vertical-align: top;\n",
       "    }\n",
       "\n",
       "    .dataframe thead th {\n",
       "        text-align: right;\n",
       "    }\n",
       "</style>\n",
       "<table border=\"1\" class=\"dataframe\">\n",
       "  <thead>\n",
       "    <tr style=\"text-align: right;\">\n",
       "      <th></th>\n",
       "      <th>фактический уход клиента</th>\n",
       "      <th>фактическая лояльность клиента</th>\n",
       "    </tr>\n",
       "  </thead>\n",
       "  <tbody>\n",
       "    <tr>\n",
       "      <th>предсказание ухода клиента</th>\n",
       "      <td>107</td>\n",
       "      <td>168</td>\n",
       "    </tr>\n",
       "    <tr>\n",
       "      <th>предсказание лояльности клиента</th>\n",
       "      <td>25</td>\n",
       "      <td>1458</td>\n",
       "    </tr>\n",
       "  </tbody>\n",
       "</table>\n",
       "</div>"
      ],
      "text/plain": [
       "                                 фактический уход клиента  \\\n",
       "предсказание ухода клиента                            107   \n",
       "предсказание лояльности клиента                        25   \n",
       "\n",
       "                                 фактическая лояльность клиента  \n",
       "предсказание ухода клиента                                  168  \n",
       "предсказание лояльности клиента                            1458  "
      ]
     },
     "execution_count": 68,
     "metadata": {},
     "output_type": "execute_result"
    }
   ],
   "source": [
    "from sklearn.metrics import confusion_matrix\n",
    "ind = ['предсказание ухода клиента','предсказание лояльности клиента']\n",
    "col = ['фактический уход клиента','фактическая лояльность клиента']\n",
    "matrix = pd.DataFrame(confusion_matrix(target_test, predictions2), index = ind, columns=col)\n",
    "matrix"
   ]
  },
  {
   "cell_type": "markdown",
   "metadata": {},
   "source": [
    "При построении матрицы ошибок было выявлено, что разработанная модель чаще будет ошибаться в предсказании, что человек планирует сменить оператора, что может уменьшить прибыль от данных клиентов, поскольку им будут предлжены более выгодные условия.\\\n",
    "Однако модель в более редких случаях не заметит клиента, который планирует сменить оператора, что является более весомым фактором. "
   ]
  },
  {
   "cell_type": "code",
   "execution_count": 69,
   "metadata": {},
   "outputs": [
    {
     "data": {
      "image/png": "[encoded data removed]",
      "text/plain": [
       "<Figure size 720x360 with 1 Axes>"
      ]
     },
     "metadata": {
      "needs_background": "light"
     },
     "output_type": "display_data"
    }
   ],
   "source": [
    "features_imp = pd.DataFrame(CBC_cv.best_estimator_.feature_importances_, index = features_test.columns, columns=['features_imp'])\n",
    "features_imp = features_imp.sort_values(by='features_imp', ascending=True)\n",
    "features_imp.plot(kind='barh', figsize=(10, 5))\n",
    "plt.title('Оценка степени влияния факторов на целевой признак')\n",
    "plt.show()\n"
   ]
  },
  {
   "cell_type": "markdown",
   "metadata": {},
   "source": [
    "При оценке степени влияния на целевой признак было выявлено, что наиболее влияющим фактором является длительность договора, также в значительной степени влияют: тип договора, сумма оплаты в месяц, и способ оплаты."
   ]
  },
  {
   "cell_type": "markdown",
   "metadata": {},
   "source": [
    "## Вывод"
   ]
  },
  {
   "cell_type": "markdown",
   "metadata": {},
   "source": [
    "1.\tВ ходе подготовки данных были произведены следующие действия: \n",
    "•\tдобавлен целевой признак Target\\\n",
    "•\tдобавлены новые признаки Validity, internet, phone\\\n",
    "•\tизменены типы данных\\\n",
    "•\tудалены неинформативные признаки\\\n",
    "•\tудалены непоказательные данные (недавно заключенные договоры)\\\n",
    "Получили датасет из 6799 строк, 1 целевой признак и 19 влияющих\n",
    "\n",
    "\n",
    "2.\tВ ходе исследования данных были сделаны следующие выводы: \n",
    "\n",
    "По общему анализу распределения данных:\n",
    "\n",
    "•\tСамый частый тип договоров с месячной оплатой и электронным чеком\\\n",
    "•\tмаксимальное количество людей оплачивают ежемесячно суммы до 30 долларов\\\n",
    "•\tзначительное количество людей имеют большие ежемесячные платежи от 70 до 110 долларов\\\n",
    "•\tцелевой признак требует балансировки\\\n",
    "•\tколичество мужчин и женщин в выборке приблизительно равные, как и с детьми или без\\\n",
    "•\tвсе дополнительные услуги пользуются популярностью\n",
    "\n",
    "При сравнительном анализе признаков с делением на открытые и закрытые договоры чаще отказываются от услуг компании те клиенты, которые:\n",
    "\n",
    "•\tзаключают договор с годичной оплатой (1 раз в год или в 2 года)\\\n",
    "•\tимеют большие ежемесячные платежи (более 80 долларов)\\\n",
    "•\tявляются клиентами от 500 до 1500 дней\\\n",
    "•\tженатые(странная корреляция)\\\n",
    "•\tиспользуют интернет, подключенный по технологии оптического кабеля\\\n",
    "•\tпользуются дополнительными услугами (OnlineBackup, StreamingTV, StreamingMovies, MultipleLines)\\\n",
    "признаки не влияющие на уход клиента (gender, SeniorCitizen, Dependents, TechSupport, phone)\n",
    "\n",
    "3.\tВ ходе обучения моделей было выполнено:\n",
    "\n",
    "3.1 Подготовка данных:\\\n",
    "•\tВыделен целевой признак, разбили на тестовую и обучающую выборки (Размер обучающей выборки 5099 75.0% Размер валидационной выборки 1700 25.0%)\\\n",
    "•\tприменили стандартизацию к числовым признакам с помощью StandardScaler\\\n",
    "•\tсбалансировали классы (увеличив количесво закрытых договоров в 5 раз)\\\n",
    "кодирование к категориальным признакам: OneHotEncoder - получили данные features_train_ohe и features_test_ohe, OrdinalEncoder - получили данные features_train_oe и features_test_oe\n",
    "\n",
    "\n",
    "3.2  Обучение моделей -  произведен подбор гиперпараметров методом GridSearchCV для моделей LogisticRegression, RandomForestClassifier, CatBoostClassifier и произведен расчет ROC-AUC. Лучшее значение на обучающей выборке у модели CatBoostClassifier с гиперпараметрами n_estimators': 300.\n",
    "\n",
    "\n",
    "3.3 Тестирование выбранной модели: \\\n",
    "Требуемая метрика качества на обучающей выборке получена.\\\n",
    "Модель CatBoostClassifier (n_estimators': 300)\\\n",
    "ROC-AUC 0.89\\\n",
    "accuracy 0.87\n",
    "    \n",
    "3.4 При построении матрицы ошибок было выявлено, что разработанная модель чаще будет ошибаться в предсказании, что человек планирует сменить оператора, что может уменьшить прибыль от данных клиентов, поскольку им будут предлжены более выгодные условия.\\\n",
    "Однако модель в более редких случаях не заметит клиента, который планирует сменить оператора, что является более весомым фактором.\n",
    "\n",
    "3.5 При оценке степени влияния на целевой признак было выявлено, что наиболее влияющим фактором является длительность договора, также в значительной степени влияют: тип договора, сумма оплаты в месяц, и способ оплаты."
   ]
  },
  {
   "cell_type": "markdown",
   "metadata": {},
   "source": [
    "# Этап 3 Отчет"
   ]
  },
  {
   "cell_type": "markdown",
   "metadata": {},
   "source": [
    "Аннотация\\\n",
    "В ходе проведенного исследования была обучена модель машинного обучения, способная прогнозировать уход клиентов по заказу оператора связи «Ниединогоразрыва.ком», для предоставления клиентам, которые склонны к смене оператора, дополнительных скидок или акций. Набор данных, предоставленный заказчиком, содержал в себе общую информацию о клиентах и условиях их договора. В ходе исследования было выявлено, что некоторые данные требуют корректировки или в целом не влияют на лояльность клиента. Полученный набор данных тестировали на трех разных моделях. Лучший результат обучения получили на модели CatBoostClassifier с точностью прогноза на тестовой выборке 87 %. "
   ]
  },
  {
   "attachments": {
    "image-3.png": {
     "image/png": "[encoded data removed]"
    }
   },
   "cell_type": "markdown",
   "metadata": {},
   "source": [
    "### Введение\n",
    "1.1 Цель проекта - разработать модель, способную адекватно прогнозировать какие клиенты в ближайшее время захотят сменить оператора для предоставления им промоакций с целью предотвратить их уход с метрикой качества прогноза на тестовой выборке ROC-AUC >=0.85, срок выполнения проекта до 21.04.2023\\\n",
    "1.2 Набор данных – для анализа данных заказчиком были предоставлены следующие датасеты: \\\n",
    "•\tcontract_new.csv — информация о договоре, где:\\\n",
    "customerID - уникальный идентификатор договора\\\n",
    "Begin Date - дата начала договора\\\n",
    "End Date - дата окончания договора (если договор действителен, то в графе стоит значение \"No\")\\\n",
    "Type - тип заключенного договора (на месяц, на 1 год и т.д.)\\\n",
    "Paper less Billing - содержит информацию о согласии клиента на электронное сопровождение договора\\\n",
    "Payment Method - способ оплаты\\\n",
    "Monthly Charges - среднемесячные платежи\\\n",
    "Total Charges - Общая сумма оплаты\n",
    "\n",
    "•\tpersonal_new.csv — персональные данные клиента - информация о гендерной принадлежности, является ли человек пенсионером(personal['SeniorCitizen'] со значением 1), состоит ли в браке и есть ли дети\\\n",
    "•\tinternet_new.csv — информация об интернет-услугах; -  информацию об использовании дополнительных услуг(антивирус, облачное хранилище и тд) и типе подключения\\\n",
    "•\tphone_new.csv — информация об услугах телефонии - информацию об использовании услуг стационарной телефонной связи и использование дополнительной услуги подключение к нескольким линиям\\\n",
    "Во всех файлах столбец customerID содержит код клиента.\\\n",
    "Информация о договорах актуальна на 1 февраля 2020.\n",
    "\n",
    "1.3 Признаки и предварительное исследование данных\\\n",
    "На основе столбца End Date был подготовлен целевой признак бинарной классификации, где 1 договор действителен, 0 – договор недействителен. В данных присутсвует дисбаланс классов: 84 % договоров действительны. \n",
    "![image-3.png](attachment:image-3.png)\n",
    "Суммы месячного платежа распределены следующим образом: максимальное количество людей оплачивают ежемесячно суммы до 30 долларов, максимальная сумма оплаты 118 долларов, значительное количество людей имеют большие ежемесячные платежи от 70 до 110 долларов, стандартное и среднее сильно отличаются\n",
    "\n",
    "При оценке значений с общей суммой оплаты было выявлено, что по большой части договоров внесено около 2000 долларов.\n",
    "\n",
    "При оценке распределения дней действия контракта выявлено, что большая часть контрактов действует менее 2 лет. \n",
    "\n",
    "1.4 Метрика качества -  AUC >=0.85, accuracy. Дополнительно построили распределение влияющих факторов и матрицу ошибок. \n"
   ]
  },
  {
   "cell_type": "markdown",
   "metadata": {},
   "source": [
    "### Разработка модели. "
   ]
  },
  {
   "attachments": {
    "image-4.png": {
     "image/png": "[encoded data removed]"
    }
   },
   "cell_type": "markdown",
   "metadata": {},
   "source": [
    "2.1 Подготовка данных к обучению.\\\n",
    "В ходе предварительной обработки данных было выполнено: \\\n",
    "•\tдобавлен целевой признак Target\\\n",
    "•\tдобавлены новые признаки Validity, internet, phone\\\n",
    "•\tизменены типы данных\\\n",
    "•\tудалены неинформативные признаки\\\n",
    "Полученный датасет состоит из 7032 строк, имеет 1 целевой признак и 19 влияющих\n",
    "![image-4.png](attachment:image-4.png)\n",
    "По общему анализу распределения данных можно сделать следующие выводы:\\\n",
    "•\tСамый частый тип договоров с месячной оплатой и электронным чеком\\\n",
    "•\tмаксимальное количество людей оплачивают ежемесячно суммы до 30 долларов\\\n",
    "•\tзначительное количество людей имеют большие ежемесячные платежи от 70 до 110 долларов\\\n",
    "•\tцелевой признак требует балансировки\\\n",
    "•\tколичество мужчин и женщин в выборке приблизительно равные, как и с детьми или без\\\n",
    "•\tвсе дополнительные услуги пользуются популярностью \n"
   ]
  },
  {
   "attachments": {
    "image.png": {
     "image/png": "[encoded data removed]"
    }
   },
   "cell_type": "markdown",
   "metadata": {},
   "source": [
    "При сравнительном анализе признаков с делением на открытые и закрытые договоры можно сделать следующие выводы, что чаще отказываются от услуг компании те клиенты, которые:\\\n",
    "•\tзаключают договор с годичной оплатой (1 раз в год или в 2 года)\\\n",
    "•\tимеют большие ежемесячные платежи (более 80 долларов)\\\n",
    "•\tявляются клиентами от 500 до 1500 дней\\\n",
    "•\tженатые(странная корреляция)\\\n",
    "•\tиспользуют интернет, подключенный по технологии оптического кабеля\\\n",
    "•\tпользуются дополнительными услугами (OnlineBackup, StreamingTV, StreamingMovies, MultipleLines)\\\n",
    "\n",
    "\n",
    "Также выявлены признаки не влияющие на уход клиента (gender, SeniorCitizen, Dependents, TechSupport, phone), распределение данных признаков представлено ниже:\n",
    "![image.png](attachment:image.png)\n",
    "\n",
    "В ходе подготовки данных было выполнено следующее:\\\n",
    "Выделен целевой признак, разбили на тестовую и обучающую выборки (Размер обучающей выборки 5099 75.0% Размер валидационной выборки 1700 25.0%)\n",
    "применили стандартизацию к числовым признакам с помощью StandardScaler\n",
    "применили кодирование к категориальным признакам OneHotEncoder и OrdinalEncoder \n"
   ]
  },
  {
   "cell_type": "markdown",
   "metadata": {},
   "source": [
    "2.2. Подбор модели"
   ]
  },
  {
   "attachments": {
    "image.png": {
     "image/png": "[encoded data removed]"
    }
   },
   "cell_type": "markdown",
   "metadata": {},
   "source": [
    "Для обучения обучены и протестированы следующие модели: LogisticRegression, RandomForestClassifier, CatBoostClassifier с подбором параметров с использованием GridSearchCV, полученные результаты представлены в таблице \n",
    "![image.png](attachment:image.png)\n",
    "В ходе обучения моделей был произведен подбор гиперпараметров для моделей LogisticRegression, RandomForestClassifier, CatBoostClassifier и произведен расчет ROC-AUC. Лучшее значение на обучающей выборке у модели CatBoostClassifier с гиперпараметрами n_estimators': 300."
   ]
  },
  {
   "cell_type": "markdown",
   "metadata": {},
   "source": [
    "### Выводы"
   ]
  },
  {
   "attachments": {
    "image-2.png": {
     "image/png": "[encoded data removed]"
    },
    "image.png": {
     "image/png": "[encoded data removed]"
    }
   },
   "cell_type": "markdown",
   "metadata": {},
   "source": [
    "3.1. В ходе оценки качества полученных моделей лучшие показатели получила  Модель CatBoostClassifier (n_estimators': 300)\\\n",
    "Метрики качества на тестовой выборке: ROC-AUC 0.88, accuracy 0.89. Требуемая точность получена. \\\n",
    "3.2 При построении матрицы ошибок(Таблица ниже) было выявлено, что разработанная модель чаще будет ошибаться в предсказании, что человек планирует сменить оператора, что может уменьшить прибыль от данных клиентов, поскольку им будут предлжены более выгодные условия.\\\n",
    "Однако модель в более редких случаях не заметит клиента, который планирует сменить оператора, что является более весомым фактором.\\\n",
    "![image.png](attachment:image.png)\n",
    "3.3 При оценке степени влияния на целевой признак было выявлено, что наиболее влияющим фактором является длительность договора, также в значительной степени влияют: тип договора, сумма оплаты в месяц, и способ оплаты. Именно от этих признаков в большей степени влияет лояльность клиента. \n",
    "![image-2.png](attachment:image-2.png)"
   ]
  },
  {
   "cell_type": "markdown",
   "metadata": {},
   "source": [
    "Ответы на вопросы задания: \n",
    "1. Какие пункты плана были выполнены, а какие — нет. Почему?\\\n",
    "Были выполнены все запланированные этапы\n",
    "\n",
    "2. Какие трудности возникли и как вы их преодолели?\\\n",
    "Трудность с определением вылияющих на целевой признак факторов, с этой целью разделили датасет и сравнили распределение признаков\n",
    "\n",
    "3. Какие ключевые шаги в решении задачи вы выделили?\n",
    "- Предобработка данных. Работа с пропусками. Определение аномальных значений. Преобразование типов данных. Поиск дубликатов.\n",
    "- Исследовательский анализ данных. Визуализация. Изучение срезов данных. Нахождение взаимосвязей параметров. Объединение таблиц. Вывод по данным.\n",
    "- Машинное обучение. Определение гиперпараметров. Кодирование данных. Сравнение качества прогноза моделей.\n",
    "- Проверка выбранной модели. Общий вывод.\n",
    "\n",
    "4. Какие признаки использовали для обучения модели и какая предобработка этих признаков была выполнена? \\\n",
    "Признаки: Type, PaperlessBilling, PaymentMethod, MonthlyCharges,  Validity, Partner,  InternetService,  OnlineSecurity,     OnlineBackup ,     DeviceProtection,  StreamingTV,       StreamingMovies ,  internet ,         MultipleLines\\\n",
    "Выделен целевой признак(Target), разбили на тестовую и обучающую выборки (Размер обучающей выборки 5099 75.0% Размер валидационной выборки 1700 25.0%)\\\n",
    "применили стандартизацию к числовым признакам с помощью StandardScaler\\\n",
    "применили кодирование к категориальным признакам OneHotEncoder и OrdinalEncoder \n",
    "\n",
    "5. Какая ваша итоговая модель, какие у неё гиперпараметы и какое качество?\\\n",
    "Модель CatBoostClassifier (n_estimators': 300)\\\n",
    "Метрики качества на тестовой выборке: ROC-AUC 0.88, accuracy 0.89. "
   ]
  }
 ],
 "metadata": {
  "ExecuteTimeLog": [
   {
    "duration": 407,
    "start_time": "2023-04-11T03:39:52.477Z"
   },
   {
    "duration": 108,
    "start_time": "2023-04-11T03:39:53.807Z"
   },
   {
    "duration": 405,
    "start_time": "2023-04-11T03:40:27.023Z"
   },
   {
    "duration": 21,
    "start_time": "2023-04-11T03:40:29.189Z"
   },
   {
    "duration": 15,
    "start_time": "2023-04-11T03:41:30.241Z"
   },
   {
    "duration": 13,
    "start_time": "2023-04-11T03:43:33.362Z"
   },
   {
    "duration": 16,
    "start_time": "2023-04-11T04:12:02.037Z"
   },
   {
    "duration": 9,
    "start_time": "2023-04-11T04:12:06.123Z"
   },
   {
    "duration": 9,
    "start_time": "2023-04-11T04:12:41.471Z"
   },
   {
    "duration": 673,
    "start_time": "2023-04-11T04:13:38.088Z"
   },
   {
    "duration": 189,
    "start_time": "2023-04-11T04:13:46.421Z"
   },
   {
    "duration": 7,
    "start_time": "2023-04-11T04:16:02.316Z"
   },
   {
    "duration": 19,
    "start_time": "2023-04-11T04:26:26.519Z"
   },
   {
    "duration": 12,
    "start_time": "2023-04-11T04:27:43.061Z"
   },
   {
    "duration": 7,
    "start_time": "2023-04-11T04:29:37.321Z"
   },
   {
    "duration": 131,
    "start_time": "2023-04-11T04:29:52.656Z"
   },
   {
    "duration": 11,
    "start_time": "2023-04-11T04:30:15.786Z"
   },
   {
    "duration": 19,
    "start_time": "2023-04-11T04:31:25.998Z"
   },
   {
    "duration": 16,
    "start_time": "2023-04-11T04:32:30.761Z"
   },
   {
    "duration": 9,
    "start_time": "2023-04-11T04:37:52.120Z"
   },
   {
    "duration": 18,
    "start_time": "2023-04-11T04:38:03.256Z"
   },
   {
    "duration": 7,
    "start_time": "2023-04-11T04:40:33.426Z"
   },
   {
    "duration": 8,
    "start_time": "2023-04-11T04:40:56.608Z"
   },
   {
    "duration": 6,
    "start_time": "2023-04-11T04:41:04.132Z"
   },
   {
    "duration": 10,
    "start_time": "2023-04-11T04:45:11.298Z"
   },
   {
    "duration": 81,
    "start_time": "2023-04-11T04:45:39.663Z"
   },
   {
    "duration": 131,
    "start_time": "2023-04-11T04:49:21.876Z"
   },
   {
    "duration": 148,
    "start_time": "2023-04-11T04:49:25.842Z"
   },
   {
    "duration": 8,
    "start_time": "2023-04-11T04:49:55.154Z"
   },
   {
    "duration": 8,
    "start_time": "2023-04-11T04:49:59.889Z"
   },
   {
    "duration": 11,
    "start_time": "2023-04-11T04:50:22.875Z"
   },
   {
    "duration": 418,
    "start_time": "2023-04-11T05:57:53.428Z"
   },
   {
    "duration": 97,
    "start_time": "2023-04-11T05:57:53.848Z"
   },
   {
    "duration": 19,
    "start_time": "2023-04-11T05:57:53.947Z"
   },
   {
    "duration": 13,
    "start_time": "2023-04-11T05:57:53.968Z"
   },
   {
    "duration": 12,
    "start_time": "2023-04-11T05:57:53.983Z"
   },
   {
    "duration": 18,
    "start_time": "2023-04-11T05:57:53.996Z"
   },
   {
    "duration": 414,
    "start_time": "2023-04-11T05:57:54.015Z"
   },
   {
    "duration": 14,
    "start_time": "2023-04-11T05:57:54.431Z"
   },
   {
    "duration": 140,
    "start_time": "2023-04-11T05:57:54.447Z"
   },
   {
    "duration": 10,
    "start_time": "2023-04-11T05:57:54.590Z"
   },
   {
    "duration": 17,
    "start_time": "2023-04-11T05:57:54.602Z"
   },
   {
    "duration": 24,
    "start_time": "2023-04-11T05:57:54.621Z"
   },
   {
    "duration": 26,
    "start_time": "2023-04-11T05:57:54.647Z"
   },
   {
    "duration": 16,
    "start_time": "2023-04-11T05:57:54.676Z"
   },
   {
    "duration": 22,
    "start_time": "2023-04-11T05:57:54.694Z"
   },
   {
    "duration": 15,
    "start_time": "2023-04-11T05:57:54.718Z"
   },
   {
    "duration": 13,
    "start_time": "2023-04-11T05:57:54.735Z"
   },
   {
    "duration": 7,
    "start_time": "2023-04-11T05:57:54.751Z"
   },
   {
    "duration": 20,
    "start_time": "2023-04-11T05:57:54.760Z"
   },
   {
    "duration": 3,
    "start_time": "2023-04-11T06:02:22.286Z"
   },
   {
    "duration": 155,
    "start_time": "2023-04-11T06:02:57.680Z"
   },
   {
    "duration": 703,
    "start_time": "2023-04-11T06:03:20.325Z"
   },
   {
    "duration": 98,
    "start_time": "2023-04-11T06:03:21.030Z"
   },
   {
    "duration": 17,
    "start_time": "2023-04-11T06:03:21.130Z"
   },
   {
    "duration": 18,
    "start_time": "2023-04-11T06:03:21.149Z"
   },
   {
    "duration": 15,
    "start_time": "2023-04-11T06:03:21.169Z"
   },
   {
    "duration": 22,
    "start_time": "2023-04-11T06:03:21.186Z"
   },
   {
    "duration": 172,
    "start_time": "2023-04-11T06:03:21.210Z"
   },
   {
    "duration": 7,
    "start_time": "2023-04-11T06:03:21.383Z"
   },
   {
    "duration": 162,
    "start_time": "2023-04-11T06:03:21.391Z"
   },
   {
    "duration": 9,
    "start_time": "2023-04-11T06:03:21.555Z"
   },
   {
    "duration": 13,
    "start_time": "2023-04-11T06:03:21.566Z"
   },
   {
    "duration": 9,
    "start_time": "2023-04-11T06:03:21.582Z"
   },
   {
    "duration": 27,
    "start_time": "2023-04-11T06:03:21.593Z"
   },
   {
    "duration": 25,
    "start_time": "2023-04-11T06:03:21.622Z"
   },
   {
    "duration": 11,
    "start_time": "2023-04-11T06:03:21.649Z"
   },
   {
    "duration": 13,
    "start_time": "2023-04-11T06:03:21.662Z"
   },
   {
    "duration": 20,
    "start_time": "2023-04-11T06:03:21.678Z"
   },
   {
    "duration": 10,
    "start_time": "2023-04-11T06:03:21.700Z"
   },
   {
    "duration": 36,
    "start_time": "2023-04-11T06:03:21.712Z"
   },
   {
    "duration": 730,
    "start_time": "2023-04-11T08:05:48.575Z"
   },
   {
    "duration": 381,
    "start_time": "2023-04-11T08:05:49.307Z"
   },
   {
    "duration": 21,
    "start_time": "2023-04-11T08:05:55.606Z"
   },
   {
    "duration": 864,
    "start_time": "2023-04-12T02:55:42.834Z"
   },
   {
    "duration": 406,
    "start_time": "2023-04-12T02:55:44.377Z"
   },
   {
    "duration": 21,
    "start_time": "2023-04-12T02:55:46.589Z"
   },
   {
    "duration": 20,
    "start_time": "2023-04-12T02:55:47.436Z"
   },
   {
    "duration": 7,
    "start_time": "2023-04-12T02:55:47.830Z"
   },
   {
    "duration": 12,
    "start_time": "2023-04-12T02:55:48.020Z"
   },
   {
    "duration": 186,
    "start_time": "2023-04-12T02:55:48.219Z"
   },
   {
    "duration": 7,
    "start_time": "2023-04-12T02:55:48.602Z"
   },
   {
    "duration": 164,
    "start_time": "2023-04-12T02:55:49.125Z"
   },
   {
    "duration": 11,
    "start_time": "2023-04-12T02:55:49.327Z"
   },
   {
    "duration": 15,
    "start_time": "2023-04-12T02:55:49.509Z"
   },
   {
    "duration": 10,
    "start_time": "2023-04-12T02:55:50.032Z"
   },
   {
    "duration": 12,
    "start_time": "2023-04-12T02:55:50.198Z"
   },
   {
    "duration": 7,
    "start_time": "2023-04-12T02:55:50.332Z"
   },
   {
    "duration": 6,
    "start_time": "2023-04-12T02:55:50.543Z"
   },
   {
    "duration": 11,
    "start_time": "2023-04-12T02:55:50.936Z"
   },
   {
    "duration": 17,
    "start_time": "2023-04-12T02:55:51.115Z"
   },
   {
    "duration": 12,
    "start_time": "2023-04-12T02:55:51.512Z"
   },
   {
    "duration": 14,
    "start_time": "2023-04-12T02:55:51.710Z"
   },
   {
    "duration": 98,
    "start_time": "2023-04-12T03:22:15.582Z"
   },
   {
    "duration": 5,
    "start_time": "2023-04-12T03:32:20.728Z"
   },
   {
    "duration": 13,
    "start_time": "2023-04-12T03:32:56.196Z"
   },
   {
    "duration": 106,
    "start_time": "2023-04-12T03:33:12.059Z"
   },
   {
    "duration": 4,
    "start_time": "2023-04-12T03:33:18.059Z"
   },
   {
    "duration": 12,
    "start_time": "2023-04-12T03:33:19.742Z"
   },
   {
    "duration": 157,
    "start_time": "2023-04-12T03:33:49.844Z"
   },
   {
    "duration": 6,
    "start_time": "2023-04-12T03:34:14.784Z"
   },
   {
    "duration": 86,
    "start_time": "2023-04-12T03:35:10.912Z"
   },
   {
    "duration": 67,
    "start_time": "2023-04-12T03:35:17.190Z"
   },
   {
    "duration": 7,
    "start_time": "2023-04-12T03:35:42.418Z"
   },
   {
    "duration": 19,
    "start_time": "2023-04-12T03:47:53.179Z"
   },
   {
    "duration": 25,
    "start_time": "2023-04-12T03:48:59.069Z"
   },
   {
    "duration": 13,
    "start_time": "2023-04-12T03:49:15.517Z"
   },
   {
    "duration": 4,
    "start_time": "2023-04-12T03:49:58.989Z"
   },
   {
    "duration": 12,
    "start_time": "2023-04-12T03:50:09.800Z"
   },
   {
    "duration": 5,
    "start_time": "2023-04-12T03:50:34.438Z"
   },
   {
    "duration": 22,
    "start_time": "2023-04-12T03:50:35.751Z"
   },
   {
    "duration": 6,
    "start_time": "2023-04-12T03:51:48.648Z"
   },
   {
    "duration": 13,
    "start_time": "2023-04-12T03:51:49.227Z"
   },
   {
    "duration": 219,
    "start_time": "2023-04-12T03:52:25.987Z"
   },
   {
    "duration": 6,
    "start_time": "2023-04-12T03:53:08.800Z"
   },
   {
    "duration": 6,
    "start_time": "2023-04-12T03:53:25.823Z"
   },
   {
    "duration": 4,
    "start_time": "2023-04-12T03:53:50.835Z"
   },
   {
    "duration": 4,
    "start_time": "2023-04-12T03:53:55.597Z"
   },
   {
    "duration": 3,
    "start_time": "2023-04-12T03:54:21.340Z"
   },
   {
    "duration": 5,
    "start_time": "2023-04-12T03:54:22.326Z"
   },
   {
    "duration": 3,
    "start_time": "2023-04-12T03:54:37.297Z"
   },
   {
    "duration": 4,
    "start_time": "2023-04-12T03:54:38.274Z"
   },
   {
    "duration": 4,
    "start_time": "2023-04-12T03:54:43.278Z"
   },
   {
    "duration": 4,
    "start_time": "2023-04-12T03:54:44.705Z"
   },
   {
    "duration": 6,
    "start_time": "2023-04-12T03:55:07.756Z"
   },
   {
    "duration": 6,
    "start_time": "2023-04-12T03:55:50.205Z"
   },
   {
    "duration": 5,
    "start_time": "2023-04-12T03:55:55.513Z"
   },
   {
    "duration": 4,
    "start_time": "2023-04-12T03:56:04.003Z"
   },
   {
    "duration": 6,
    "start_time": "2023-04-12T03:56:09.157Z"
   },
   {
    "duration": 5,
    "start_time": "2023-04-12T03:56:39.335Z"
   },
   {
    "duration": 7,
    "start_time": "2023-04-12T03:56:57.368Z"
   },
   {
    "duration": 6,
    "start_time": "2023-04-12T03:58:36.057Z"
   },
   {
    "duration": 5,
    "start_time": "2023-04-12T04:02:02.616Z"
   },
   {
    "duration": 6,
    "start_time": "2023-04-12T04:08:06.699Z"
   },
   {
    "duration": 7,
    "start_time": "2023-04-12T04:08:36.092Z"
   },
   {
    "duration": 7,
    "start_time": "2023-04-12T04:09:09.594Z"
   },
   {
    "duration": 8,
    "start_time": "2023-04-12T04:09:17.873Z"
   },
   {
    "duration": 4,
    "start_time": "2023-04-12T04:11:14.217Z"
   },
   {
    "duration": 19,
    "start_time": "2023-04-12T04:11:22.100Z"
   },
   {
    "duration": 4,
    "start_time": "2023-04-12T04:12:33.433Z"
   },
   {
    "duration": 12,
    "start_time": "2023-04-12T04:12:33.989Z"
   },
   {
    "duration": 22,
    "start_time": "2023-04-12T04:15:58.605Z"
   },
   {
    "duration": 31,
    "start_time": "2023-04-12T04:18:32.172Z"
   },
   {
    "duration": 26,
    "start_time": "2023-04-12T04:18:42.869Z"
   },
   {
    "duration": 21,
    "start_time": "2023-04-12T04:19:18.942Z"
   },
   {
    "duration": 4,
    "start_time": "2023-04-12T04:21:00.015Z"
   },
   {
    "duration": 33,
    "start_time": "2023-04-12T04:21:04.847Z"
   },
   {
    "duration": 25,
    "start_time": "2023-04-12T04:21:16.473Z"
   },
   {
    "duration": 5,
    "start_time": "2023-04-12T04:21:47.178Z"
   },
   {
    "duration": 10,
    "start_time": "2023-04-12T04:23:11.220Z"
   },
   {
    "duration": 24,
    "start_time": "2023-04-12T04:23:15.896Z"
   },
   {
    "duration": 37,
    "start_time": "2023-04-12T04:23:50.945Z"
   },
   {
    "duration": 27,
    "start_time": "2023-04-12T04:23:51.635Z"
   },
   {
    "duration": 21,
    "start_time": "2023-04-12T04:23:52.135Z"
   },
   {
    "duration": 57,
    "start_time": "2023-04-12T04:26:22.004Z"
   },
   {
    "duration": 16,
    "start_time": "2023-04-12T04:26:32.827Z"
   },
   {
    "duration": 27,
    "start_time": "2023-04-12T04:26:38.297Z"
   },
   {
    "duration": 10,
    "start_time": "2023-04-12T04:29:53.376Z"
   },
   {
    "duration": 13,
    "start_time": "2023-04-12T04:30:06.308Z"
   },
   {
    "duration": 8,
    "start_time": "2023-04-12T04:31:29.593Z"
   },
   {
    "duration": 17,
    "start_time": "2023-04-12T04:31:37.520Z"
   },
   {
    "duration": 71,
    "start_time": "2023-04-12T04:40:34.484Z"
   },
   {
    "duration": 7,
    "start_time": "2023-04-12T04:40:39.224Z"
   },
   {
    "duration": 13,
    "start_time": "2023-04-12T04:43:05.234Z"
   },
   {
    "duration": 77,
    "start_time": "2023-04-12T04:43:48.801Z"
   },
   {
    "duration": 11,
    "start_time": "2023-04-12T04:44:00.028Z"
   },
   {
    "duration": 12,
    "start_time": "2023-04-12T04:44:20.756Z"
   },
   {
    "duration": 10,
    "start_time": "2023-04-12T04:44:24.943Z"
   },
   {
    "duration": 22,
    "start_time": "2023-04-12T04:46:21.675Z"
   },
   {
    "duration": 54,
    "start_time": "2023-04-12T06:43:32.616Z"
   },
   {
    "duration": 60,
    "start_time": "2023-04-12T06:43:50.932Z"
   },
   {
    "duration": 47,
    "start_time": "2023-04-12T06:43:53.512Z"
   },
   {
    "duration": 20,
    "start_time": "2023-04-12T06:43:56.513Z"
   },
   {
    "duration": 10,
    "start_time": "2023-04-12T06:45:35.451Z"
   },
   {
    "duration": 10,
    "start_time": "2023-04-12T06:45:51.361Z"
   },
   {
    "duration": 8,
    "start_time": "2023-04-12T06:46:10.965Z"
   },
   {
    "duration": 82,
    "start_time": "2023-04-12T06:46:28.878Z"
   },
   {
    "duration": 6,
    "start_time": "2023-04-12T06:46:34.065Z"
   },
   {
    "duration": 54,
    "start_time": "2023-04-12T06:47:12.624Z"
   },
   {
    "duration": 25,
    "start_time": "2023-04-12T06:47:15.335Z"
   },
   {
    "duration": 7,
    "start_time": "2023-04-12T06:47:48.423Z"
   },
   {
    "duration": 6,
    "start_time": "2023-04-12T06:49:09.703Z"
   },
   {
    "duration": 93,
    "start_time": "2023-04-12T06:50:57.728Z"
   },
   {
    "duration": 36,
    "start_time": "2023-04-12T06:51:11.602Z"
   },
   {
    "duration": 30,
    "start_time": "2023-04-12T06:51:12.737Z"
   },
   {
    "duration": 23,
    "start_time": "2023-04-12T06:51:13.642Z"
   },
   {
    "duration": 579,
    "start_time": "2023-04-12T06:52:30.604Z"
   },
   {
    "duration": 52,
    "start_time": "2023-04-12T06:52:57.605Z"
   },
   {
    "duration": 50,
    "start_time": "2023-04-12T06:52:58.637Z"
   },
   {
    "duration": 20,
    "start_time": "2023-04-12T06:52:59.769Z"
   },
   {
    "duration": 92,
    "start_time": "2023-04-12T06:53:32.239Z"
   },
   {
    "duration": 38,
    "start_time": "2023-04-12T06:53:32.771Z"
   },
   {
    "duration": 26,
    "start_time": "2023-04-12T06:53:33.569Z"
   },
   {
    "duration": 13,
    "start_time": "2023-04-12T06:53:36.066Z"
   },
   {
    "duration": 27,
    "start_time": "2023-04-12T06:53:37.278Z"
   },
   {
    "duration": 10,
    "start_time": "2023-04-12T06:53:41.190Z"
   },
   {
    "duration": 22,
    "start_time": "2023-04-12T06:53:41.966Z"
   },
   {
    "duration": 210,
    "start_time": "2023-04-12T07:07:11.204Z"
   },
   {
    "duration": 11,
    "start_time": "2023-04-12T07:08:54.222Z"
   },
   {
    "duration": 11,
    "start_time": "2023-04-12T07:09:03.313Z"
   },
   {
    "duration": 10,
    "start_time": "2023-04-12T07:09:10.777Z"
   },
   {
    "duration": 144,
    "start_time": "2023-04-12T07:10:22.288Z"
   },
   {
    "duration": 5,
    "start_time": "2023-04-12T07:10:26.377Z"
   },
   {
    "duration": 3839,
    "start_time": "2023-04-12T07:10:51.070Z"
   },
   {
    "duration": 3797,
    "start_time": "2023-04-12T07:11:08.376Z"
   },
   {
    "duration": 598,
    "start_time": "2023-04-12T07:11:26.171Z"
   },
   {
    "duration": 635,
    "start_time": "2023-04-12T07:11:39.424Z"
   },
   {
    "duration": 871,
    "start_time": "2023-04-12T07:11:59.852Z"
   },
   {
    "duration": 697,
    "start_time": "2023-04-12T07:13:00.769Z"
   },
   {
    "duration": 585,
    "start_time": "2023-04-12T07:13:30.095Z"
   },
   {
    "duration": 3243,
    "start_time": "2023-04-12T07:13:35.076Z"
   },
   {
    "duration": 3716,
    "start_time": "2023-04-12T07:16:16.977Z"
   },
   {
    "duration": 3758,
    "start_time": "2023-04-12T07:16:42.583Z"
   },
   {
    "duration": 4102,
    "start_time": "2023-04-12T07:16:58.014Z"
   },
   {
    "duration": 4365,
    "start_time": "2023-04-12T07:17:15.071Z"
   },
   {
    "duration": 4049,
    "start_time": "2023-04-12T07:17:28.732Z"
   },
   {
    "duration": 3567,
    "start_time": "2023-04-12T07:17:39.004Z"
   },
   {
    "duration": 3384,
    "start_time": "2023-04-12T07:17:43.996Z"
   },
   {
    "duration": 3020,
    "start_time": "2023-04-12T07:22:39.578Z"
   },
   {
    "duration": 2722,
    "start_time": "2023-04-12T07:23:01.386Z"
   },
   {
    "duration": 2199,
    "start_time": "2023-04-12T07:23:11.104Z"
   },
   {
    "duration": 2235,
    "start_time": "2023-04-12T07:23:18.927Z"
   },
   {
    "duration": 2814,
    "start_time": "2023-04-12T07:23:31.073Z"
   },
   {
    "duration": 11,
    "start_time": "2023-04-12T07:29:48.020Z"
   },
   {
    "duration": 355,
    "start_time": "2023-04-12T07:30:57.915Z"
   },
   {
    "duration": 25,
    "start_time": "2023-04-12T07:31:09.995Z"
   },
   {
    "duration": 45612,
    "start_time": "2023-04-12T07:31:27.669Z"
   },
   {
    "duration": 162,
    "start_time": "2023-04-12T07:32:13.746Z"
   },
   {
    "duration": 359,
    "start_time": "2023-04-12T07:32:27.902Z"
   },
   {
    "duration": 244,
    "start_time": "2023-04-12T07:33:02.068Z"
   },
   {
    "duration": 235,
    "start_time": "2023-04-12T07:34:33.199Z"
   },
   {
    "duration": 229,
    "start_time": "2023-04-12T07:35:09.281Z"
   },
   {
    "duration": 0,
    "start_time": "2023-04-12T07:35:46.958Z"
   },
   {
    "duration": 18,
    "start_time": "2023-04-12T07:35:50.988Z"
   },
   {
    "duration": 29,
    "start_time": "2023-04-12T07:36:09.733Z"
   },
   {
    "duration": 29,
    "start_time": "2023-04-12T07:36:39.365Z"
   },
   {
    "duration": 24,
    "start_time": "2023-04-12T07:36:42.989Z"
   },
   {
    "duration": 40,
    "start_time": "2023-04-12T07:36:49.445Z"
   },
   {
    "duration": 33,
    "start_time": "2023-04-12T07:37:05.129Z"
   },
   {
    "duration": 11042,
    "start_time": "2023-04-12T07:37:13.590Z"
   },
   {
    "duration": 14261,
    "start_time": "2023-04-12T07:37:30.618Z"
   },
   {
    "duration": 14,
    "start_time": "2023-04-12T07:38:48.903Z"
   },
   {
    "duration": 37654,
    "start_time": "2023-04-12T07:40:14.819Z"
   },
   {
    "duration": 12951,
    "start_time": "2023-04-12T07:41:58.208Z"
   },
   {
    "duration": 20895,
    "start_time": "2023-04-12T07:42:37.394Z"
   },
   {
    "duration": 17674,
    "start_time": "2023-04-12T07:42:59.227Z"
   },
   {
    "duration": 4137,
    "start_time": "2023-04-12T07:43:31.930Z"
   },
   {
    "duration": 26366,
    "start_time": "2023-04-12T07:47:03.798Z"
   },
   {
    "duration": 26364,
    "start_time": "2023-04-12T07:47:31.641Z"
   },
   {
    "duration": 27,
    "start_time": "2023-04-12T07:49:22.464Z"
   },
   {
    "duration": 10,
    "start_time": "2023-04-12T07:50:59.279Z"
   },
   {
    "duration": 46459,
    "start_time": "2023-04-12T07:51:24.074Z"
   },
   {
    "duration": 234,
    "start_time": "2023-04-12T07:55:23.027Z"
   },
   {
    "duration": 2471,
    "start_time": "2023-04-12T07:55:35.568Z"
   },
   {
    "duration": 1936,
    "start_time": "2023-04-12T07:55:53.363Z"
   },
   {
    "duration": 2016,
    "start_time": "2023-04-12T07:56:23.902Z"
   },
   {
    "duration": 3578,
    "start_time": "2023-04-12T07:57:51.429Z"
   },
   {
    "duration": 1890,
    "start_time": "2023-04-12T07:58:10.697Z"
   },
   {
    "duration": 271,
    "start_time": "2023-04-12T07:58:33.564Z"
   },
   {
    "duration": 2220,
    "start_time": "2023-04-12T07:58:39.965Z"
   },
   {
    "duration": 2335,
    "start_time": "2023-04-12T07:59:02.073Z"
   },
   {
    "duration": 2552,
    "start_time": "2023-04-12T08:00:56.749Z"
   },
   {
    "duration": 4264,
    "start_time": "2023-04-12T08:02:52.867Z"
   },
   {
    "duration": 139,
    "start_time": "2023-04-12T08:08:20.290Z"
   },
   {
    "duration": 2415,
    "start_time": "2023-04-12T08:08:49.039Z"
   },
   {
    "duration": 126,
    "start_time": "2023-04-12T08:11:13.565Z"
   },
   {
    "duration": 135,
    "start_time": "2023-04-12T08:11:58.474Z"
   },
   {
    "duration": 6,
    "start_time": "2023-04-12T08:12:41.836Z"
   },
   {
    "duration": 125,
    "start_time": "2023-04-12T08:14:04.704Z"
   },
   {
    "duration": 13,
    "start_time": "2023-04-12T08:14:54.817Z"
   },
   {
    "duration": 427,
    "start_time": "2023-04-12T08:20:28.345Z"
   },
   {
    "duration": 2991,
    "start_time": "2023-04-12T08:20:38.896Z"
   },
   {
    "duration": 3384,
    "start_time": "2023-04-12T08:22:38.391Z"
   },
   {
    "duration": 5057,
    "start_time": "2023-04-12T08:23:37.731Z"
   },
   {
    "duration": 5,
    "start_time": "2023-04-12T08:47:32.020Z"
   },
   {
    "duration": 8,
    "start_time": "2023-04-12T08:51:20.529Z"
   },
   {
    "duration": 9,
    "start_time": "2023-04-12T08:51:23.628Z"
   },
   {
    "duration": 4,
    "start_time": "2023-04-12T08:51:30.326Z"
   },
   {
    "duration": 21,
    "start_time": "2023-04-12T08:51:30.736Z"
   },
   {
    "duration": 13,
    "start_time": "2023-04-12T08:57:19.275Z"
   },
   {
    "duration": 15,
    "start_time": "2023-04-12T10:04:04.352Z"
   },
   {
    "duration": 5,
    "start_time": "2023-04-12T10:05:01.549Z"
   },
   {
    "duration": 17,
    "start_time": "2023-04-12T10:05:13.010Z"
   },
   {
    "duration": 9,
    "start_time": "2023-04-12T10:14:15.635Z"
   },
   {
    "duration": 774,
    "start_time": "2023-04-12T10:21:34.624Z"
   },
   {
    "duration": 3,
    "start_time": "2023-04-12T10:24:25.230Z"
   },
   {
    "duration": 10,
    "start_time": "2023-04-12T10:24:25.938Z"
   },
   {
    "duration": 46,
    "start_time": "2023-04-12T10:24:26.746Z"
   },
   {
    "duration": 9,
    "start_time": "2023-04-12T10:25:02.520Z"
   },
   {
    "duration": 11,
    "start_time": "2023-04-12T10:25:05.635Z"
   },
   {
    "duration": 3,
    "start_time": "2023-04-12T10:25:54.403Z"
   },
   {
    "duration": 20,
    "start_time": "2023-04-12T10:26:02.239Z"
   },
   {
    "duration": 13,
    "start_time": "2023-04-12T10:26:32.174Z"
   },
   {
    "duration": 13,
    "start_time": "2023-04-12T10:26:37.606Z"
   },
   {
    "duration": 22,
    "start_time": "2023-04-12T10:27:22.425Z"
   },
   {
    "duration": 4,
    "start_time": "2023-04-12T10:27:26.142Z"
   },
   {
    "duration": 8,
    "start_time": "2023-04-12T10:27:28.308Z"
   },
   {
    "duration": 43,
    "start_time": "2023-04-12T10:29:53.640Z"
   },
   {
    "duration": 4,
    "start_time": "2023-04-12T10:30:25.773Z"
   },
   {
    "duration": 26,
    "start_time": "2023-04-12T10:30:30.584Z"
   },
   {
    "duration": 7,
    "start_time": "2023-04-12T10:30:32.082Z"
   },
   {
    "duration": 5,
    "start_time": "2023-04-12T10:31:37.995Z"
   },
   {
    "duration": 8,
    "start_time": "2023-04-12T10:31:38.658Z"
   },
   {
    "duration": 20,
    "start_time": "2023-04-12T10:31:39.274Z"
   },
   {
    "duration": 9,
    "start_time": "2023-04-12T10:31:39.872Z"
   },
   {
    "duration": 4,
    "start_time": "2023-04-12T10:36:45.792Z"
   },
   {
    "duration": 4,
    "start_time": "2023-04-12T10:37:19.524Z"
   },
   {
    "duration": 36,
    "start_time": "2023-04-12T10:38:17.483Z"
   },
   {
    "duration": 52,
    "start_time": "2023-04-12T10:39:11.848Z"
   },
   {
    "duration": 38,
    "start_time": "2023-04-12T10:39:24.638Z"
   },
   {
    "duration": 3,
    "start_time": "2023-04-12T10:42:19.484Z"
   },
   {
    "duration": 19,
    "start_time": "2023-04-12T10:51:54.008Z"
   },
   {
    "duration": 16,
    "start_time": "2023-04-12T10:52:09.708Z"
   },
   {
    "duration": 16,
    "start_time": "2023-04-12T10:53:13.008Z"
   },
   {
    "duration": 17,
    "start_time": "2023-04-12T10:53:19.027Z"
   },
   {
    "duration": 44,
    "start_time": "2023-04-12T10:53:27.835Z"
   },
   {
    "duration": 13,
    "start_time": "2023-04-12T10:53:28.636Z"
   },
   {
    "duration": 26,
    "start_time": "2023-04-12T10:53:47.108Z"
   },
   {
    "duration": 72,
    "start_time": "2023-04-12T10:56:10.815Z"
   },
   {
    "duration": 11,
    "start_time": "2023-04-12T10:56:11.340Z"
   },
   {
    "duration": 42,
    "start_time": "2023-04-12T10:56:15.881Z"
   },
   {
    "duration": 9,
    "start_time": "2023-04-12T10:56:48.009Z"
   },
   {
    "duration": 24,
    "start_time": "2023-04-12T10:56:49.161Z"
   },
   {
    "duration": 46,
    "start_time": "2023-04-12T10:57:01.531Z"
   },
   {
    "duration": 8,
    "start_time": "2023-04-12T10:57:02.072Z"
   },
   {
    "duration": 41,
    "start_time": "2023-04-12T10:57:03.533Z"
   },
   {
    "duration": 45,
    "start_time": "2023-04-12T10:58:01.518Z"
   },
   {
    "duration": 12,
    "start_time": "2023-04-12T10:58:30.978Z"
   },
   {
    "duration": 4,
    "start_time": "2023-04-12T10:58:58.573Z"
   },
   {
    "duration": 21,
    "start_time": "2023-04-12T10:58:59.220Z"
   },
   {
    "duration": 19,
    "start_time": "2023-04-12T10:59:09.721Z"
   },
   {
    "duration": 1431,
    "start_time": "2023-04-12T10:59:42.532Z"
   },
   {
    "duration": 99,
    "start_time": "2023-04-12T10:59:43.966Z"
   },
   {
    "duration": 17,
    "start_time": "2023-04-12T10:59:44.067Z"
   },
   {
    "duration": 49,
    "start_time": "2023-04-12T10:59:44.086Z"
   },
   {
    "duration": 10,
    "start_time": "2023-04-12T10:59:44.138Z"
   },
   {
    "duration": 40,
    "start_time": "2023-04-12T10:59:44.150Z"
   },
   {
    "duration": 175,
    "start_time": "2023-04-12T10:59:44.192Z"
   },
   {
    "duration": 7,
    "start_time": "2023-04-12T10:59:44.369Z"
   },
   {
    "duration": 143,
    "start_time": "2023-04-12T10:59:44.377Z"
   },
   {
    "duration": 18,
    "start_time": "2023-04-12T10:59:44.523Z"
   },
   {
    "duration": 21,
    "start_time": "2023-04-12T10:59:44.543Z"
   },
   {
    "duration": 42,
    "start_time": "2023-04-12T10:59:44.566Z"
   },
   {
    "duration": 22,
    "start_time": "2023-04-12T10:59:44.609Z"
   },
   {
    "duration": 15,
    "start_time": "2023-04-12T10:59:44.633Z"
   },
   {
    "duration": 10,
    "start_time": "2023-04-12T10:59:44.650Z"
   },
   {
    "duration": 104,
    "start_time": "2023-04-12T10:59:44.662Z"
   },
   {
    "duration": 0,
    "start_time": "2023-04-12T10:59:44.769Z"
   },
   {
    "duration": 0,
    "start_time": "2023-04-12T10:59:44.770Z"
   },
   {
    "duration": 0,
    "start_time": "2023-04-12T10:59:44.772Z"
   },
   {
    "duration": 0,
    "start_time": "2023-04-12T10:59:44.773Z"
   },
   {
    "duration": 0,
    "start_time": "2023-04-12T10:59:44.775Z"
   },
   {
    "duration": 0,
    "start_time": "2023-04-12T10:59:44.776Z"
   },
   {
    "duration": 0,
    "start_time": "2023-04-12T10:59:44.777Z"
   },
   {
    "duration": 0,
    "start_time": "2023-04-12T10:59:44.779Z"
   },
   {
    "duration": 0,
    "start_time": "2023-04-12T10:59:44.780Z"
   },
   {
    "duration": 0,
    "start_time": "2023-04-12T10:59:44.781Z"
   },
   {
    "duration": 0,
    "start_time": "2023-04-12T10:59:44.783Z"
   },
   {
    "duration": 0,
    "start_time": "2023-04-12T10:59:44.783Z"
   },
   {
    "duration": 0,
    "start_time": "2023-04-12T10:59:44.785Z"
   },
   {
    "duration": 0,
    "start_time": "2023-04-12T10:59:44.787Z"
   },
   {
    "duration": 0,
    "start_time": "2023-04-12T10:59:44.789Z"
   },
   {
    "duration": 0,
    "start_time": "2023-04-12T10:59:44.791Z"
   },
   {
    "duration": 0,
    "start_time": "2023-04-12T10:59:44.792Z"
   },
   {
    "duration": 0,
    "start_time": "2023-04-12T10:59:44.793Z"
   },
   {
    "duration": 0,
    "start_time": "2023-04-12T10:59:44.794Z"
   },
   {
    "duration": 0,
    "start_time": "2023-04-12T10:59:44.795Z"
   },
   {
    "duration": 0,
    "start_time": "2023-04-12T10:59:44.796Z"
   },
   {
    "duration": 0,
    "start_time": "2023-04-12T10:59:44.797Z"
   },
   {
    "duration": 0,
    "start_time": "2023-04-12T10:59:44.841Z"
   },
   {
    "duration": 0,
    "start_time": "2023-04-12T10:59:44.843Z"
   },
   {
    "duration": 0,
    "start_time": "2023-04-12T10:59:44.844Z"
   },
   {
    "duration": 0,
    "start_time": "2023-04-12T10:59:44.845Z"
   },
   {
    "duration": 0,
    "start_time": "2023-04-12T10:59:44.846Z"
   },
   {
    "duration": 0,
    "start_time": "2023-04-12T10:59:44.848Z"
   },
   {
    "duration": 0,
    "start_time": "2023-04-12T10:59:44.849Z"
   },
   {
    "duration": 0,
    "start_time": "2023-04-12T10:59:44.850Z"
   },
   {
    "duration": 0,
    "start_time": "2023-04-12T10:59:44.851Z"
   },
   {
    "duration": 0,
    "start_time": "2023-04-12T10:59:44.853Z"
   },
   {
    "duration": 0,
    "start_time": "2023-04-12T10:59:44.853Z"
   },
   {
    "duration": 0,
    "start_time": "2023-04-12T10:59:44.854Z"
   },
   {
    "duration": 0,
    "start_time": "2023-04-12T10:59:44.855Z"
   },
   {
    "duration": 0,
    "start_time": "2023-04-12T10:59:44.856Z"
   },
   {
    "duration": 0,
    "start_time": "2023-04-12T10:59:44.857Z"
   },
   {
    "duration": 0,
    "start_time": "2023-04-12T10:59:44.858Z"
   },
   {
    "duration": 0,
    "start_time": "2023-04-12T10:59:44.859Z"
   },
   {
    "duration": 0,
    "start_time": "2023-04-12T10:59:44.860Z"
   },
   {
    "duration": 0,
    "start_time": "2023-04-12T10:59:44.861Z"
   },
   {
    "duration": 0,
    "start_time": "2023-04-12T10:59:44.862Z"
   },
   {
    "duration": 1645,
    "start_time": "2023-04-12T11:00:45.527Z"
   },
   {
    "duration": 106,
    "start_time": "2023-04-12T11:00:47.174Z"
   },
   {
    "duration": 18,
    "start_time": "2023-04-12T11:00:47.281Z"
   },
   {
    "duration": 17,
    "start_time": "2023-04-12T11:00:47.301Z"
   },
   {
    "duration": 8,
    "start_time": "2023-04-12T11:00:47.321Z"
   },
   {
    "duration": 18,
    "start_time": "2023-04-12T11:00:47.330Z"
   },
   {
    "duration": 180,
    "start_time": "2023-04-12T11:00:47.350Z"
   },
   {
    "duration": 15,
    "start_time": "2023-04-12T11:00:47.532Z"
   },
   {
    "duration": 178,
    "start_time": "2023-04-12T11:00:47.549Z"
   },
   {
    "duration": 20,
    "start_time": "2023-04-12T11:00:47.729Z"
   },
   {
    "duration": 24,
    "start_time": "2023-04-12T11:00:47.750Z"
   },
   {
    "duration": 17,
    "start_time": "2023-04-12T11:00:47.776Z"
   },
   {
    "duration": 34,
    "start_time": "2023-04-12T11:00:47.795Z"
   },
   {
    "duration": 32,
    "start_time": "2023-04-12T11:00:47.833Z"
   },
   {
    "duration": 26,
    "start_time": "2023-04-12T11:00:47.867Z"
   },
   {
    "duration": 33,
    "start_time": "2023-04-12T11:00:47.895Z"
   },
   {
    "duration": 40,
    "start_time": "2023-04-12T11:00:47.931Z"
   },
   {
    "duration": 20,
    "start_time": "2023-04-12T11:00:47.974Z"
   },
   {
    "duration": 50,
    "start_time": "2023-04-12T11:00:47.996Z"
   },
   {
    "duration": 25,
    "start_time": "2023-04-12T11:00:48.049Z"
   },
   {
    "duration": 43,
    "start_time": "2023-04-12T11:00:48.077Z"
   },
   {
    "duration": 36,
    "start_time": "2023-04-12T11:00:48.123Z"
   },
   {
    "duration": 39,
    "start_time": "2023-04-12T11:00:48.162Z"
   },
   {
    "duration": 25,
    "start_time": "2023-04-12T11:00:48.203Z"
   },
   {
    "duration": 23,
    "start_time": "2023-04-12T11:00:48.230Z"
   },
   {
    "duration": 41,
    "start_time": "2023-04-12T11:00:48.255Z"
   },
   {
    "duration": 176,
    "start_time": "2023-04-12T11:00:48.298Z"
   },
   {
    "duration": 7,
    "start_time": "2023-04-12T11:00:48.475Z"
   },
   {
    "duration": 22,
    "start_time": "2023-04-12T11:00:48.484Z"
   },
   {
    "duration": 29,
    "start_time": "2023-04-12T11:00:48.508Z"
   },
   {
    "duration": 33,
    "start_time": "2023-04-12T11:00:48.539Z"
   },
   {
    "duration": 82,
    "start_time": "2023-04-12T11:00:48.574Z"
   },
   {
    "duration": 27,
    "start_time": "2023-04-12T11:00:48.658Z"
   },
   {
    "duration": 49,
    "start_time": "2023-04-12T11:00:48.687Z"
   },
   {
    "duration": 45,
    "start_time": "2023-04-12T11:00:48.738Z"
   },
   {
    "duration": 39,
    "start_time": "2023-04-12T11:00:48.785Z"
   },
   {
    "duration": 21,
    "start_time": "2023-04-12T11:00:48.825Z"
   },
   {
    "duration": 30,
    "start_time": "2023-04-12T11:00:48.848Z"
   },
   {
    "duration": 2245,
    "start_time": "2023-04-12T11:00:48.880Z"
   },
   {
    "duration": 3260,
    "start_time": "2023-04-12T11:00:51.127Z"
   },
   {
    "duration": 3,
    "start_time": "2023-04-12T11:00:54.392Z"
   },
   {
    "duration": 38,
    "start_time": "2023-04-12T11:00:54.397Z"
   },
   {
    "duration": 39,
    "start_time": "2023-04-12T11:00:54.437Z"
   },
   {
    "duration": 44,
    "start_time": "2023-04-12T11:00:54.478Z"
   },
   {
    "duration": 53,
    "start_time": "2023-04-12T11:00:54.525Z"
   },
   {
    "duration": 94,
    "start_time": "2023-04-12T11:00:54.580Z"
   },
   {
    "duration": 33,
    "start_time": "2023-04-12T11:00:54.676Z"
   },
   {
    "duration": 21,
    "start_time": "2023-04-12T11:00:54.711Z"
   },
   {
    "duration": 52,
    "start_time": "2023-04-12T11:00:54.734Z"
   },
   {
    "duration": 74,
    "start_time": "2023-04-12T11:00:54.788Z"
   },
   {
    "duration": 9,
    "start_time": "2023-04-12T11:00:54.864Z"
   },
   {
    "duration": 21,
    "start_time": "2023-04-12T11:00:54.875Z"
   },
   {
    "duration": 68,
    "start_time": "2023-04-12T11:00:54.898Z"
   },
   {
    "duration": 11,
    "start_time": "2023-04-12T11:00:54.968Z"
   },
   {
    "duration": 124,
    "start_time": "2023-04-12T11:00:54.981Z"
   },
   {
    "duration": 0,
    "start_time": "2023-04-12T11:00:55.107Z"
   },
   {
    "duration": 0,
    "start_time": "2023-04-12T11:00:55.108Z"
   },
   {
    "duration": 3,
    "start_time": "2023-04-12T11:01:07.549Z"
   },
   {
    "duration": 19,
    "start_time": "2023-04-12T11:01:08.107Z"
   },
   {
    "duration": 10,
    "start_time": "2023-04-12T11:01:13.168Z"
   },
   {
    "duration": 18,
    "start_time": "2023-04-12T11:01:14.774Z"
   },
   {
    "duration": 4,
    "start_time": "2023-04-12T11:01:16.181Z"
   },
   {
    "duration": 7,
    "start_time": "2023-04-12T11:01:18.461Z"
   },
   {
    "duration": 17,
    "start_time": "2023-04-12T11:01:19.406Z"
   },
   {
    "duration": 6,
    "start_time": "2023-04-12T11:01:20.109Z"
   },
   {
    "duration": 4,
    "start_time": "2023-04-12T11:01:20.823Z"
   },
   {
    "duration": 41,
    "start_time": "2023-04-12T11:01:37.995Z"
   },
   {
    "duration": 37,
    "start_time": "2023-04-12T11:02:38.867Z"
   },
   {
    "duration": 92,
    "start_time": "2023-04-12T11:03:49.519Z"
   },
   {
    "duration": 37,
    "start_time": "2023-04-12T11:05:03.921Z"
   },
   {
    "duration": 25,
    "start_time": "2023-04-12T11:05:04.976Z"
   },
   {
    "duration": 18,
    "start_time": "2023-04-12T11:05:05.800Z"
   },
   {
    "duration": 11,
    "start_time": "2023-04-12T11:05:07.632Z"
   },
   {
    "duration": 20,
    "start_time": "2023-04-12T11:05:08.151Z"
   },
   {
    "duration": 9,
    "start_time": "2023-04-12T11:05:09.754Z"
   },
   {
    "duration": 15,
    "start_time": "2023-04-12T11:05:12.557Z"
   },
   {
    "duration": 8,
    "start_time": "2023-04-12T11:05:28.179Z"
   },
   {
    "duration": 13,
    "start_time": "2023-04-12T11:05:30.818Z"
   },
   {
    "duration": 19,
    "start_time": "2023-04-12T11:05:37.732Z"
   },
   {
    "duration": 4,
    "start_time": "2023-04-12T11:05:39.005Z"
   },
   {
    "duration": 7,
    "start_time": "2023-04-12T11:05:39.828Z"
   },
   {
    "duration": 16,
    "start_time": "2023-04-12T11:05:40.708Z"
   },
   {
    "duration": 9,
    "start_time": "2023-04-12T11:05:41.336Z"
   },
   {
    "duration": 4,
    "start_time": "2023-04-12T11:05:42.557Z"
   },
   {
    "duration": 105,
    "start_time": "2023-04-12T11:05:44.656Z"
   },
   {
    "duration": 126,
    "start_time": "2023-04-12T11:06:42.559Z"
   },
   {
    "duration": 13,
    "start_time": "2023-04-12T11:10:18.650Z"
   },
   {
    "duration": 13,
    "start_time": "2023-04-12T11:10:42.507Z"
   },
   {
    "duration": 36,
    "start_time": "2023-04-12T11:11:27.010Z"
   },
   {
    "duration": 65,
    "start_time": "2023-04-12T11:11:32.810Z"
   },
   {
    "duration": 30,
    "start_time": "2023-04-12T11:11:49.015Z"
   },
   {
    "duration": 84,
    "start_time": "2023-04-12T11:13:46.037Z"
   },
   {
    "duration": 18,
    "start_time": "2023-04-12T11:15:00.649Z"
   },
   {
    "duration": 15,
    "start_time": "2023-04-12T11:15:35.274Z"
   },
   {
    "duration": 66,
    "start_time": "2023-04-12T11:20:58.443Z"
   },
   {
    "duration": 47,
    "start_time": "2023-04-12T11:22:05.631Z"
   },
   {
    "duration": 68,
    "start_time": "2023-04-12T11:22:09.913Z"
   },
   {
    "duration": 52,
    "start_time": "2023-04-12T11:23:17.770Z"
   },
   {
    "duration": 54,
    "start_time": "2023-04-12T11:25:59.914Z"
   },
   {
    "duration": 51,
    "start_time": "2023-04-12T11:26:12.963Z"
   },
   {
    "duration": 53,
    "start_time": "2023-04-12T11:28:35.469Z"
   },
   {
    "duration": 74,
    "start_time": "2023-04-12T11:28:55.270Z"
   },
   {
    "duration": 87,
    "start_time": "2023-04-12T11:29:09.174Z"
   },
   {
    "duration": 64,
    "start_time": "2023-04-12T11:29:40.598Z"
   },
   {
    "duration": 73,
    "start_time": "2023-04-12T11:30:05.765Z"
   },
   {
    "duration": 62,
    "start_time": "2023-04-12T11:30:21.247Z"
   },
   {
    "duration": 42,
    "start_time": "2023-04-12T11:36:28.974Z"
   },
   {
    "duration": 27,
    "start_time": "2023-04-12T11:36:52.069Z"
   },
   {
    "duration": 17,
    "start_time": "2023-04-12T11:37:04.934Z"
   },
   {
    "duration": 31,
    "start_time": "2023-04-12T11:37:45.897Z"
   },
   {
    "duration": 47,
    "start_time": "2023-04-12T11:45:28.427Z"
   },
   {
    "duration": 22,
    "start_time": "2023-04-12T11:45:36.487Z"
   },
   {
    "duration": 16,
    "start_time": "2023-04-12T11:49:58.993Z"
   },
   {
    "duration": 48,
    "start_time": "2023-04-12T11:50:13.658Z"
   },
   {
    "duration": 56,
    "start_time": "2023-04-12T11:53:19.037Z"
   },
   {
    "duration": 59,
    "start_time": "2023-04-12T11:54:47.645Z"
   },
   {
    "duration": 83,
    "start_time": "2023-04-12T11:56:06.615Z"
   },
   {
    "duration": 100,
    "start_time": "2023-04-12T11:56:17.507Z"
   },
   {
    "duration": 66,
    "start_time": "2023-04-12T11:57:00.635Z"
   },
   {
    "duration": 39,
    "start_time": "2023-04-12T11:57:21.332Z"
   },
   {
    "duration": 34,
    "start_time": "2023-04-12T11:57:30.510Z"
   },
   {
    "duration": 39,
    "start_time": "2023-04-12T12:00:14.272Z"
   },
   {
    "duration": 46,
    "start_time": "2023-04-12T12:01:05.207Z"
   },
   {
    "duration": 37,
    "start_time": "2023-04-12T12:01:18.224Z"
   },
   {
    "duration": 37,
    "start_time": "2023-04-12T12:02:21.429Z"
   },
   {
    "duration": 40,
    "start_time": "2023-04-12T12:02:38.318Z"
   },
   {
    "duration": 522,
    "start_time": "2023-04-12T12:09:06.337Z"
   },
   {
    "duration": 39,
    "start_time": "2023-04-12T12:09:57.892Z"
   },
   {
    "duration": 55,
    "start_time": "2023-04-12T12:10:05.163Z"
   },
   {
    "duration": 22,
    "start_time": "2023-04-12T12:11:40.699Z"
   },
   {
    "duration": 28,
    "start_time": "2023-04-12T12:12:24.021Z"
   },
   {
    "duration": 31,
    "start_time": "2023-04-12T12:12:34.424Z"
   },
   {
    "duration": 9,
    "start_time": "2023-04-12T12:13:15.308Z"
   },
   {
    "duration": 18,
    "start_time": "2023-04-12T12:13:16.247Z"
   },
   {
    "duration": 4,
    "start_time": "2023-04-12T12:13:17.018Z"
   },
   {
    "duration": 8,
    "start_time": "2023-04-12T12:13:17.765Z"
   },
   {
    "duration": 16,
    "start_time": "2023-04-12T12:13:18.521Z"
   },
   {
    "duration": 6,
    "start_time": "2023-04-12T12:13:19.104Z"
   },
   {
    "duration": 55,
    "start_time": "2023-04-12T12:13:19.893Z"
   },
   {
    "duration": 3,
    "start_time": "2023-04-12T12:13:20.893Z"
   },
   {
    "duration": 39,
    "start_time": "2023-04-12T12:13:22.000Z"
   },
   {
    "duration": 19,
    "start_time": "2023-04-12T12:13:23.672Z"
   },
   {
    "duration": 31,
    "start_time": "2023-04-12T12:13:42.206Z"
   },
   {
    "duration": 43,
    "start_time": "2023-04-12T12:14:00.582Z"
   },
   {
    "duration": 35,
    "start_time": "2023-04-12T12:14:09.931Z"
   },
   {
    "duration": 33,
    "start_time": "2023-04-12T12:14:22.271Z"
   },
   {
    "duration": 12,
    "start_time": "2023-04-12T12:15:45.912Z"
   },
   {
    "duration": 24,
    "start_time": "2023-04-12T12:15:50.494Z"
   },
   {
    "duration": 16,
    "start_time": "2023-04-12T12:16:07.883Z"
   },
   {
    "duration": 27,
    "start_time": "2023-04-12T12:16:11.141Z"
   },
   {
    "duration": 4,
    "start_time": "2023-04-12T12:16:17.655Z"
   },
   {
    "duration": 6,
    "start_time": "2023-04-12T12:16:18.338Z"
   },
   {
    "duration": 16,
    "start_time": "2023-04-12T12:16:20.790Z"
   },
   {
    "duration": 15,
    "start_time": "2023-04-12T12:16:43.394Z"
   },
   {
    "duration": 7,
    "start_time": "2023-04-12T12:16:44.457Z"
   },
   {
    "duration": 7,
    "start_time": "2023-04-12T12:16:58.437Z"
   },
   {
    "duration": 26,
    "start_time": "2023-04-12T12:17:07.947Z"
   },
   {
    "duration": 75,
    "start_time": "2023-04-12T12:17:16.163Z"
   },
   {
    "duration": 25,
    "start_time": "2023-04-12T12:17:18.441Z"
   },
   {
    "duration": 3,
    "start_time": "2023-04-12T12:17:22.159Z"
   },
   {
    "duration": 25,
    "start_time": "2023-04-12T12:17:24.040Z"
   },
   {
    "duration": 53,
    "start_time": "2023-04-12T12:17:26.392Z"
   },
   {
    "duration": 23,
    "start_time": "2023-04-12T12:17:34.893Z"
   },
   {
    "duration": 20,
    "start_time": "2023-04-12T12:17:36.638Z"
   },
   {
    "duration": 33,
    "start_time": "2023-04-12T12:17:38.322Z"
   },
   {
    "duration": 10,
    "start_time": "2023-04-12T12:18:33.881Z"
   },
   {
    "duration": 22,
    "start_time": "2023-04-12T12:18:41.388Z"
   },
   {
    "duration": 26,
    "start_time": "2023-04-12T12:18:42.440Z"
   },
   {
    "duration": 2,
    "start_time": "2023-04-12T12:18:59.456Z"
   },
   {
    "duration": 16,
    "start_time": "2023-04-12T12:19:00.085Z"
   },
   {
    "duration": 9,
    "start_time": "2023-04-12T12:19:04.688Z"
   },
   {
    "duration": 16,
    "start_time": "2023-04-12T12:19:05.381Z"
   },
   {
    "duration": 5,
    "start_time": "2023-04-12T12:19:06.095Z"
   },
   {
    "duration": 8,
    "start_time": "2023-04-12T12:19:06.726Z"
   },
   {
    "duration": 17,
    "start_time": "2023-04-12T12:19:07.475Z"
   },
   {
    "duration": 6,
    "start_time": "2023-04-12T12:19:08.176Z"
   },
   {
    "duration": 80,
    "start_time": "2023-04-12T12:19:08.936Z"
   },
   {
    "duration": 2,
    "start_time": "2023-04-12T12:19:09.762Z"
   },
   {
    "duration": 56,
    "start_time": "2023-04-12T12:19:10.440Z"
   },
   {
    "duration": 30,
    "start_time": "2023-04-12T12:19:11.169Z"
   },
   {
    "duration": 26,
    "start_time": "2023-04-12T12:19:11.980Z"
   },
   {
    "duration": 35,
    "start_time": "2023-04-12T12:19:14.729Z"
   },
   {
    "duration": 104,
    "start_time": "2023-04-12T12:28:51.387Z"
   },
   {
    "duration": 20,
    "start_time": "2023-04-12T12:31:00.290Z"
   },
   {
    "duration": 12,
    "start_time": "2023-04-12T12:31:07.556Z"
   },
   {
    "duration": 12394,
    "start_time": "2023-04-12T12:31:39.953Z"
   },
   {
    "duration": 10878,
    "start_time": "2023-04-12T12:32:37.865Z"
   },
   {
    "duration": 4,
    "start_time": "2023-04-12T12:33:40.516Z"
   },
   {
    "duration": 3840,
    "start_time": "2023-04-12T12:36:00.517Z"
   },
   {
    "duration": 4,
    "start_time": "2023-04-12T12:36:08.504Z"
   },
   {
    "duration": 3905,
    "start_time": "2023-04-12T12:36:38.853Z"
   },
   {
    "duration": 5,
    "start_time": "2023-04-12T12:36:45.401Z"
   },
   {
    "duration": 6521,
    "start_time": "2023-04-12T12:37:28.637Z"
   },
   {
    "duration": 4,
    "start_time": "2023-04-12T12:37:35.160Z"
   },
   {
    "duration": 12,
    "start_time": "2023-04-12T12:41:14.103Z"
   },
   {
    "duration": 39,
    "start_time": "2023-04-12T12:41:23.861Z"
   },
   {
    "duration": 38,
    "start_time": "2023-04-12T12:41:41.791Z"
   },
   {
    "duration": 71,
    "start_time": "2023-04-12T12:41:52.473Z"
   },
   {
    "duration": 37,
    "start_time": "2023-04-12T12:41:58.703Z"
   },
   {
    "duration": 32,
    "start_time": "2023-04-12T12:42:13.008Z"
   },
   {
    "duration": 31,
    "start_time": "2023-04-12T12:42:27.458Z"
   },
   {
    "duration": 24319,
    "start_time": "2023-04-12T12:45:31.644Z"
   },
   {
    "duration": 5,
    "start_time": "2023-04-12T12:45:55.965Z"
   },
   {
    "duration": 52,
    "start_time": "2023-04-12T12:49:11.961Z"
   },
   {
    "duration": 7,
    "start_time": "2023-04-12T12:49:12.686Z"
   },
   {
    "duration": 24,
    "start_time": "2023-04-12T12:50:09.261Z"
   },
   {
    "duration": 7,
    "start_time": "2023-04-12T12:50:17.498Z"
   },
   {
    "duration": 7,
    "start_time": "2023-04-12T12:50:18.567Z"
   },
   {
    "duration": 28,
    "start_time": "2023-04-12T12:51:29.779Z"
   },
   {
    "duration": 7,
    "start_time": "2023-04-12T12:51:30.952Z"
   },
   {
    "duration": 117,
    "start_time": "2023-04-12T12:51:32.710Z"
   },
   {
    "duration": 4,
    "start_time": "2023-04-12T12:51:33.575Z"
   },
   {
    "duration": 92,
    "start_time": "2023-04-12T12:51:43.897Z"
   },
   {
    "duration": 20,
    "start_time": "2023-04-12T12:51:44.467Z"
   },
   {
    "duration": 33,
    "start_time": "2023-04-12T12:51:46.445Z"
   },
   {
    "duration": 4235,
    "start_time": "2023-04-12T12:51:50.566Z"
   },
   {
    "duration": 4,
    "start_time": "2023-04-12T12:51:54.803Z"
   },
   {
    "duration": 39718,
    "start_time": "2023-04-12T12:51:58.667Z"
   },
   {
    "duration": 4,
    "start_time": "2023-04-12T12:52:38.387Z"
   },
   {
    "duration": 15,
    "start_time": "2023-04-12T12:52:38.393Z"
   },
   {
    "duration": 123,
    "start_time": "2023-04-12T12:52:38.442Z"
   },
   {
    "duration": 20,
    "start_time": "2023-04-12T12:52:55.153Z"
   },
   {
    "duration": 64,
    "start_time": "2023-04-12T12:52:58.090Z"
   },
   {
    "duration": 8,
    "start_time": "2023-04-12T12:52:59.115Z"
   },
   {
    "duration": 5212,
    "start_time": "2023-04-12T12:57:38.849Z"
   },
   {
    "duration": 4507,
    "start_time": "2023-04-12T12:58:13.853Z"
   },
   {
    "duration": 8278,
    "start_time": "2023-04-12T12:59:30.562Z"
   },
   {
    "duration": 7845,
    "start_time": "2023-04-12T12:59:50.875Z"
   },
   {
    "duration": 10,
    "start_time": "2023-04-12T13:00:14.355Z"
   },
   {
    "duration": 1072,
    "start_time": "2023-04-12T13:01:10.025Z"
   },
   {
    "duration": 58,
    "start_time": "2023-04-12T13:01:12.357Z"
   },
   {
    "duration": 72049,
    "start_time": "2023-04-12T13:02:01.315Z"
   },
   {
    "duration": 4,
    "start_time": "2023-04-12T13:03:13.366Z"
   },
   {
    "duration": 84,
    "start_time": "2023-04-12T13:03:13.371Z"
   },
   {
    "duration": 69,
    "start_time": "2023-04-12T13:03:18.805Z"
   },
   {
    "duration": 7,
    "start_time": "2023-04-12T13:03:19.380Z"
   },
   {
    "duration": 23659,
    "start_time": "2023-04-12T13:04:07.906Z"
   },
   {
    "duration": 4,
    "start_time": "2023-04-12T13:04:31.567Z"
   },
   {
    "duration": 119,
    "start_time": "2023-04-12T13:04:31.573Z"
   },
   {
    "duration": 7,
    "start_time": "2023-04-12T13:04:31.695Z"
   },
   {
    "duration": 165037,
    "start_time": "2023-04-12T13:05:03.273Z"
   },
   {
    "duration": 4,
    "start_time": "2023-04-12T13:07:48.312Z"
   },
   {
    "duration": 90,
    "start_time": "2023-04-12T13:07:48.318Z"
   },
   {
    "duration": 7,
    "start_time": "2023-04-12T13:07:48.410Z"
   },
   {
    "duration": 1586,
    "start_time": "2023-04-13T05:56:23.380Z"
   },
   {
    "duration": 376,
    "start_time": "2023-04-13T05:56:24.968Z"
   },
   {
    "duration": 17,
    "start_time": "2023-04-13T05:56:25.347Z"
   },
   {
    "duration": 12,
    "start_time": "2023-04-13T05:56:25.606Z"
   },
   {
    "duration": 6,
    "start_time": "2023-04-13T05:56:27.083Z"
   },
   {
    "duration": 8,
    "start_time": "2023-04-13T05:56:27.342Z"
   },
   {
    "duration": 141,
    "start_time": "2023-04-13T05:56:27.615Z"
   },
   {
    "duration": 6,
    "start_time": "2023-04-13T05:56:29.078Z"
   },
   {
    "duration": 111,
    "start_time": "2023-04-13T05:56:29.608Z"
   },
   {
    "duration": 8,
    "start_time": "2023-04-13T05:56:30.646Z"
   },
   {
    "duration": 13,
    "start_time": "2023-04-13T05:56:30.919Z"
   },
   {
    "duration": 9,
    "start_time": "2023-04-13T05:56:32.467Z"
   },
   {
    "duration": 11,
    "start_time": "2023-04-13T05:56:32.735Z"
   },
   {
    "duration": 6,
    "start_time": "2023-04-13T05:56:32.987Z"
   },
   {
    "duration": 6,
    "start_time": "2023-04-13T05:56:34.015Z"
   },
   {
    "duration": 15,
    "start_time": "2023-04-13T05:56:34.758Z"
   },
   {
    "duration": 13,
    "start_time": "2023-04-13T05:56:35.870Z"
   },
   {
    "duration": 7,
    "start_time": "2023-04-13T05:56:36.366Z"
   },
   {
    "duration": 9,
    "start_time": "2023-04-13T05:56:37.293Z"
   },
   {
    "duration": 4,
    "start_time": "2023-04-13T05:56:42.975Z"
   },
   {
    "duration": 11,
    "start_time": "2023-04-13T05:56:43.185Z"
   },
   {
    "duration": 7,
    "start_time": "2023-04-13T05:56:43.416Z"
   },
   {
    "duration": 17,
    "start_time": "2023-04-13T05:56:45.077Z"
   },
   {
    "duration": 6,
    "start_time": "2023-04-13T05:56:59.705Z"
   },
   {
    "duration": 30,
    "start_time": "2023-04-13T05:57:00.727Z"
   },
   {
    "duration": 13,
    "start_time": "2023-04-13T05:57:01.055Z"
   },
   {
    "duration": 5,
    "start_time": "2023-04-13T05:57:03.137Z"
   },
   {
    "duration": 12,
    "start_time": "2023-04-13T05:57:03.395Z"
   },
   {
    "duration": 202,
    "start_time": "2023-04-13T05:57:03.649Z"
   },
   {
    "duration": 5,
    "start_time": "2023-04-13T05:57:05.160Z"
   },
   {
    "duration": 5,
    "start_time": "2023-04-13T05:57:05.403Z"
   },
   {
    "duration": 4,
    "start_time": "2023-04-13T05:57:06.275Z"
   },
   {
    "duration": 11,
    "start_time": "2023-04-13T05:57:06.545Z"
   },
   {
    "duration": 34,
    "start_time": "2023-04-13T05:57:07.778Z"
   },
   {
    "duration": 23,
    "start_time": "2023-04-13T05:57:08.030Z"
   },
   {
    "duration": 17,
    "start_time": "2023-04-13T05:57:08.260Z"
   },
   {
    "duration": 13,
    "start_time": "2023-04-13T05:57:09.260Z"
   },
   {
    "duration": 18,
    "start_time": "2023-04-13T05:57:09.461Z"
   },
   {
    "duration": 6,
    "start_time": "2023-04-13T05:57:09.983Z"
   },
   {
    "duration": 15,
    "start_time": "2023-04-13T05:57:10.231Z"
   },
   {
    "duration": 2023,
    "start_time": "2023-04-13T05:57:20.201Z"
   },
   {
    "duration": 2912,
    "start_time": "2023-04-13T05:57:22.226Z"
   },
   {
    "duration": 2,
    "start_time": "2023-04-13T05:57:25.140Z"
   },
   {
    "duration": 9,
    "start_time": "2023-04-13T05:57:33.641Z"
   },
   {
    "duration": 18,
    "start_time": "2023-04-13T05:57:35.548Z"
   },
   {
    "duration": 3,
    "start_time": "2023-04-13T05:57:39.059Z"
   },
   {
    "duration": 7,
    "start_time": "2023-04-13T05:57:39.776Z"
   },
   {
    "duration": 10,
    "start_time": "2023-04-13T05:57:40.554Z"
   },
   {
    "duration": 17,
    "start_time": "2023-04-13T05:57:41.189Z"
   },
   {
    "duration": 4,
    "start_time": "2023-04-13T05:57:42.812Z"
   },
   {
    "duration": 6,
    "start_time": "2023-04-13T05:57:43.827Z"
   },
   {
    "duration": 12,
    "start_time": "2023-04-13T05:57:44.529Z"
   },
   {
    "duration": 6,
    "start_time": "2023-04-13T05:57:45.216Z"
   },
   {
    "duration": 2510,
    "start_time": "2023-04-13T05:58:32.371Z"
   },
   {
    "duration": 1855,
    "start_time": "2023-04-13T05:58:46.895Z"
   },
   {
    "duration": 4,
    "start_time": "2023-04-13T05:58:56.461Z"
   },
   {
    "duration": 4,
    "start_time": "2023-04-13T05:59:49.001Z"
   },
   {
    "duration": 9,
    "start_time": "2023-04-13T06:00:22.688Z"
   },
   {
    "duration": 9,
    "start_time": "2023-04-13T06:00:46.750Z"
   },
   {
    "duration": 5,
    "start_time": "2023-04-13T06:00:54.517Z"
   },
   {
    "duration": 5,
    "start_time": "2023-04-13T06:01:04.342Z"
   },
   {
    "duration": 8,
    "start_time": "2023-04-13T06:01:22.095Z"
   },
   {
    "duration": 16,
    "start_time": "2023-04-13T06:01:27.094Z"
   },
   {
    "duration": 3,
    "start_time": "2023-04-13T06:01:28.070Z"
   },
   {
    "duration": 5,
    "start_time": "2023-04-13T06:01:52.643Z"
   },
   {
    "duration": 12,
    "start_time": "2023-04-13T06:01:53.299Z"
   },
   {
    "duration": 8,
    "start_time": "2023-04-13T06:02:03.096Z"
   },
   {
    "duration": 15,
    "start_time": "2023-04-13T06:02:03.645Z"
   },
   {
    "duration": 4,
    "start_time": "2023-04-13T06:02:04.370Z"
   },
   {
    "duration": 8,
    "start_time": "2023-04-13T06:02:04.974Z"
   },
   {
    "duration": 13,
    "start_time": "2023-04-13T06:02:05.547Z"
   },
   {
    "duration": 6,
    "start_time": "2023-04-13T06:02:06.081Z"
   },
   {
    "duration": 13,
    "start_time": "2023-04-13T06:02:25.250Z"
   },
   {
    "duration": 8,
    "start_time": "2023-04-13T06:02:29.527Z"
   },
   {
    "duration": 15,
    "start_time": "2023-04-13T06:02:30.091Z"
   },
   {
    "duration": 3,
    "start_time": "2023-04-13T06:02:30.602Z"
   },
   {
    "duration": 6,
    "start_time": "2023-04-13T06:02:31.543Z"
   },
   {
    "duration": 14,
    "start_time": "2023-04-13T06:02:32.048Z"
   },
   {
    "duration": 5,
    "start_time": "2023-04-13T06:02:32.552Z"
   },
   {
    "duration": 6,
    "start_time": "2023-04-13T06:02:33.880Z"
   },
   {
    "duration": 6,
    "start_time": "2023-04-13T06:02:40.089Z"
   },
   {
    "duration": 62,
    "start_time": "2023-04-13T06:02:45.522Z"
   },
   {
    "duration": 3,
    "start_time": "2023-04-13T06:02:46.277Z"
   },
   {
    "duration": 45,
    "start_time": "2023-04-13T06:02:46.924Z"
   },
   {
    "duration": 16,
    "start_time": "2023-04-13T06:02:48.153Z"
   },
   {
    "duration": 27,
    "start_time": "2023-04-13T06:02:52.072Z"
   },
   {
    "duration": 20,
    "start_time": "2023-04-13T06:02:58.068Z"
   },
   {
    "duration": 12,
    "start_time": "2023-04-13T06:03:13.986Z"
   },
   {
    "duration": 3889,
    "start_time": "2023-04-13T06:09:05.717Z"
   },
   {
    "duration": 4,
    "start_time": "2023-04-13T06:09:09.608Z"
   },
   {
    "duration": 3,
    "start_time": "2023-04-13T06:18:58.304Z"
   },
   {
    "duration": 87,
    "start_time": "2023-04-13T06:18:58.685Z"
   },
   {
    "duration": 11,
    "start_time": "2023-04-13T06:18:58.918Z"
   },
   {
    "duration": 13,
    "start_time": "2023-04-13T06:18:59.363Z"
   },
   {
    "duration": 7,
    "start_time": "2023-04-13T06:18:59.822Z"
   },
   {
    "duration": 8,
    "start_time": "2023-04-13T06:19:00.060Z"
   },
   {
    "duration": 132,
    "start_time": "2023-04-13T06:19:00.366Z"
   },
   {
    "duration": 5,
    "start_time": "2023-04-13T06:19:00.807Z"
   },
   {
    "duration": 122,
    "start_time": "2023-04-13T06:19:01.271Z"
   },
   {
    "duration": 9,
    "start_time": "2023-04-13T06:19:01.519Z"
   },
   {
    "duration": 12,
    "start_time": "2023-04-13T06:19:01.781Z"
   },
   {
    "duration": 8,
    "start_time": "2023-04-13T06:19:02.530Z"
   },
   {
    "duration": 11,
    "start_time": "2023-04-13T06:19:02.783Z"
   },
   {
    "duration": 6,
    "start_time": "2023-04-13T06:19:03.064Z"
   },
   {
    "duration": 5,
    "start_time": "2023-04-13T06:19:03.314Z"
   },
   {
    "duration": 11,
    "start_time": "2023-04-13T06:19:04.080Z"
   },
   {
    "duration": 11,
    "start_time": "2023-04-13T06:19:04.353Z"
   },
   {
    "duration": 7,
    "start_time": "2023-04-13T06:19:06.402Z"
   },
   {
    "duration": 12,
    "start_time": "2023-04-13T06:19:06.593Z"
   },
   {
    "duration": 5,
    "start_time": "2023-04-13T06:19:10.701Z"
   },
   {
    "duration": 11,
    "start_time": "2023-04-13T06:19:14.157Z"
   },
   {
    "duration": 7,
    "start_time": "2023-04-13T06:19:15.911Z"
   },
   {
    "duration": 17,
    "start_time": "2023-04-13T06:19:18.155Z"
   },
   {
    "duration": 12,
    "start_time": "2023-04-13T06:19:18.502Z"
   },
   {
    "duration": 4,
    "start_time": "2023-04-13T06:19:18.765Z"
   },
   {
    "duration": 15,
    "start_time": "2023-04-13T06:19:19.077Z"
   },
   {
    "duration": 126,
    "start_time": "2023-04-13T06:19:19.840Z"
   },
   {
    "duration": 6,
    "start_time": "2023-04-13T06:19:22.003Z"
   },
   {
    "duration": 5,
    "start_time": "2023-04-13T06:19:23.768Z"
   },
   {
    "duration": 4,
    "start_time": "2023-04-13T06:19:24.607Z"
   },
   {
    "duration": 11,
    "start_time": "2023-04-13T06:19:26.013Z"
   },
   {
    "duration": 32,
    "start_time": "2023-04-13T06:19:28.269Z"
   },
   {
    "duration": 20,
    "start_time": "2023-04-13T06:19:28.545Z"
   },
   {
    "duration": 18,
    "start_time": "2023-04-13T06:19:30.303Z"
   },
   {
    "duration": 11,
    "start_time": "2023-04-13T06:19:30.872Z"
   },
   {
    "duration": 18,
    "start_time": "2023-04-13T06:19:31.839Z"
   },
   {
    "duration": 6,
    "start_time": "2023-04-13T06:19:32.281Z"
   },
   {
    "duration": 16,
    "start_time": "2023-04-13T06:19:35.066Z"
   },
   {
    "duration": 2137,
    "start_time": "2023-04-13T06:19:36.490Z"
   },
   {
    "duration": 2947,
    "start_time": "2023-04-13T06:19:38.629Z"
   },
   {
    "duration": 5,
    "start_time": "2023-04-13T06:19:41.578Z"
   },
   {
    "duration": 39,
    "start_time": "2023-04-13T06:19:41.585Z"
   },
   {
    "duration": 16,
    "start_time": "2023-04-13T06:19:44.003Z"
   },
   {
    "duration": 3,
    "start_time": "2023-04-13T06:19:48.121Z"
   },
   {
    "duration": 3,
    "start_time": "2023-04-13T06:19:50.028Z"
   },
   {
    "duration": 13,
    "start_time": "2023-04-13T06:19:51.067Z"
   },
   {
    "duration": 12,
    "start_time": "2023-04-13T06:19:58.867Z"
   },
   {
    "duration": 12,
    "start_time": "2023-04-13T07:15:03.529Z"
   },
   {
    "duration": 31,
    "start_time": "2023-04-13T07:15:24.233Z"
   },
   {
    "duration": 20,
    "start_time": "2023-04-13T07:15:25.135Z"
   },
   {
    "duration": 16,
    "start_time": "2023-04-13T07:15:25.859Z"
   },
   {
    "duration": 11,
    "start_time": "2023-04-13T07:15:26.844Z"
   },
   {
    "duration": 18,
    "start_time": "2023-04-13T07:15:27.267Z"
   },
   {
    "duration": 9,
    "start_time": "2023-04-13T07:15:28.421Z"
   },
   {
    "duration": 3,
    "start_time": "2023-04-13T07:15:35.643Z"
   },
   {
    "duration": 14,
    "start_time": "2023-04-13T07:15:36.432Z"
   },
   {
    "duration": 14,
    "start_time": "2023-04-13T07:15:56.873Z"
   },
   {
    "duration": 3,
    "start_time": "2023-04-13T07:16:03.425Z"
   },
   {
    "duration": 7,
    "start_time": "2023-04-13T07:16:04.125Z"
   },
   {
    "duration": 8,
    "start_time": "2023-04-13T07:16:05.136Z"
   },
   {
    "duration": 19,
    "start_time": "2023-04-13T07:16:06.697Z"
   },
   {
    "duration": 5,
    "start_time": "2023-04-13T07:16:07.735Z"
   },
   {
    "duration": 6,
    "start_time": "2023-04-13T07:16:08.537Z"
   },
   {
    "duration": 13,
    "start_time": "2023-04-13T07:16:09.217Z"
   },
   {
    "duration": 7,
    "start_time": "2023-04-13T07:16:09.774Z"
   },
   {
    "duration": 6,
    "start_time": "2023-04-13T07:16:10.317Z"
   },
   {
    "duration": 16,
    "start_time": "2023-04-13T07:16:11.125Z"
   },
   {
    "duration": 50,
    "start_time": "2023-04-13T07:17:16.643Z"
   },
   {
    "duration": 3,
    "start_time": "2023-04-13T07:17:18.286Z"
   },
   {
    "duration": 38,
    "start_time": "2023-04-13T07:17:18.886Z"
   },
   {
    "duration": 14,
    "start_time": "2023-04-13T07:17:19.766Z"
   },
   {
    "duration": 12,
    "start_time": "2023-04-13T07:17:21.371Z"
   },
   {
    "duration": 3738,
    "start_time": "2023-04-13T07:17:24.151Z"
   },
   {
    "duration": 4,
    "start_time": "2023-04-13T07:17:27.891Z"
   },
   {
    "duration": 89108,
    "start_time": "2023-04-13T07:18:02.527Z"
   },
   {
    "duration": 3,
    "start_time": "2023-04-13T07:19:31.637Z"
   },
   {
    "duration": 133,
    "start_time": "2023-04-13T07:19:31.642Z"
   },
   {
    "duration": 6,
    "start_time": "2023-04-13T07:19:31.777Z"
   },
   {
    "duration": 4531,
    "start_time": "2023-04-13T07:25:20.885Z"
   },
   {
    "duration": 9,
    "start_time": "2023-04-13T07:25:35.825Z"
   },
   {
    "duration": 10,
    "start_time": "2023-04-13T07:26:36.431Z"
   },
   {
    "duration": 11,
    "start_time": "2023-04-13T07:27:03.475Z"
   },
   {
    "duration": 12,
    "start_time": "2023-04-13T07:27:13.369Z"
   },
   {
    "duration": 5,
    "start_time": "2023-04-13T07:27:17.451Z"
   },
   {
    "duration": 456,
    "start_time": "2023-04-13T07:31:17.161Z"
   },
   {
    "duration": 268,
    "start_time": "2023-04-13T07:31:49.199Z"
   },
   {
    "duration": 6,
    "start_time": "2023-04-13T07:33:49.513Z"
   },
   {
    "duration": 2416,
    "start_time": "2023-04-13T07:36:29.981Z"
   },
   {
    "duration": 5,
    "start_time": "2023-04-13T07:36:32.399Z"
   },
   {
    "duration": 16613,
    "start_time": "2023-04-13T07:45:28.228Z"
   },
   {
    "duration": 4,
    "start_time": "2023-04-13T07:46:11.933Z"
   },
   {
    "duration": 33750,
    "start_time": "2023-04-13T07:47:16.547Z"
   },
   {
    "duration": 20416,
    "start_time": "2023-04-13T07:49:51.323Z"
   },
   {
    "duration": 16,
    "start_time": "2023-04-13T08:03:06.183Z"
   },
   {
    "duration": 57,
    "start_time": "2023-04-13T08:20:41.354Z"
   },
   {
    "duration": 37,
    "start_time": "2023-04-13T08:21:27.112Z"
   },
   {
    "duration": 29,
    "start_time": "2023-04-13T08:22:05.917Z"
   },
   {
    "duration": 35,
    "start_time": "2023-04-13T08:22:13.677Z"
   },
   {
    "duration": 22188,
    "start_time": "2023-04-13T08:22:34.418Z"
   },
   {
    "duration": 4,
    "start_time": "2023-04-13T08:22:58.818Z"
   },
   {
    "duration": 18585,
    "start_time": "2023-04-13T08:23:22.240Z"
   },
   {
    "duration": 3,
    "start_time": "2023-04-13T08:23:42.419Z"
   },
   {
    "duration": 4,
    "start_time": "2023-04-13T08:23:53.622Z"
   },
   {
    "duration": 99,
    "start_time": "2023-04-13T08:24:20.279Z"
   },
   {
    "duration": 79,
    "start_time": "2023-04-13T08:24:43.118Z"
   },
   {
    "duration": 11,
    "start_time": "2023-04-13T08:24:57.225Z"
   },
   {
    "duration": 11,
    "start_time": "2023-04-13T08:25:15.994Z"
   },
   {
    "duration": 10093,
    "start_time": "2023-04-13T08:25:55.620Z"
   },
   {
    "duration": 8,
    "start_time": "2023-04-13T08:26:13.033Z"
   },
   {
    "duration": 10,
    "start_time": "2023-04-13T08:27:25.133Z"
   },
   {
    "duration": 19,
    "start_time": "2023-04-13T08:28:05.014Z"
   },
   {
    "duration": 105,
    "start_time": "2023-04-13T08:28:38.012Z"
   },
   {
    "duration": 25,
    "start_time": "2023-04-13T08:28:40.225Z"
   },
   {
    "duration": 111,
    "start_time": "2023-04-13T08:28:53.478Z"
   },
   {
    "duration": 11,
    "start_time": "2023-04-13T08:28:56.553Z"
   },
   {
    "duration": 10,
    "start_time": "2023-04-13T08:30:39.524Z"
   },
   {
    "duration": 406,
    "start_time": "2023-04-13T08:31:07.909Z"
   },
   {
    "duration": 9,
    "start_time": "2023-04-13T08:33:38.528Z"
   },
   {
    "duration": 369,
    "start_time": "2023-04-13T08:33:42.281Z"
   },
   {
    "duration": 5,
    "start_time": "2023-04-13T08:34:07.931Z"
   },
   {
    "duration": 231,
    "start_time": "2023-04-13T08:34:11.567Z"
   },
   {
    "duration": 9,
    "start_time": "2023-04-13T08:34:26.028Z"
   },
   {
    "duration": 232,
    "start_time": "2023-04-13T08:34:29.218Z"
   },
   {
    "duration": 30,
    "start_time": "2023-04-13T08:42:13.709Z"
   },
   {
    "duration": 542,
    "start_time": "2023-04-13T08:42:44.388Z"
   },
   {
    "duration": 5,
    "start_time": "2023-04-13T08:43:12.034Z"
   },
   {
    "duration": 7,
    "start_time": "2023-04-13T08:44:14.312Z"
   },
   {
    "duration": 222,
    "start_time": "2023-04-13T08:44:17.924Z"
   },
   {
    "duration": 148,
    "start_time": "2023-04-13T08:50:05.716Z"
   },
   {
    "duration": 65854,
    "start_time": "2023-04-13T08:50:45.087Z"
   },
   {
    "duration": 4,
    "start_time": "2023-04-13T08:51:50.944Z"
   },
   {
    "duration": 178,
    "start_time": "2023-04-13T08:51:50.950Z"
   },
   {
    "duration": 2080,
    "start_time": "2023-04-13T08:54:30.804Z"
   },
   {
    "duration": 171,
    "start_time": "2023-04-13T08:54:32.889Z"
   },
   {
    "duration": 26,
    "start_time": "2023-04-13T08:54:33.063Z"
   },
   {
    "duration": 46,
    "start_time": "2023-04-13T08:54:33.109Z"
   },
   {
    "duration": 48,
    "start_time": "2023-04-13T08:54:33.157Z"
   },
   {
    "duration": 37,
    "start_time": "2023-04-13T08:54:33.208Z"
   },
   {
    "duration": 208,
    "start_time": "2023-04-13T08:54:33.247Z"
   },
   {
    "duration": 10,
    "start_time": "2023-04-13T08:54:33.457Z"
   },
   {
    "duration": 220,
    "start_time": "2023-04-13T08:54:33.485Z"
   },
   {
    "duration": 15,
    "start_time": "2023-04-13T08:54:33.711Z"
   },
   {
    "duration": 71,
    "start_time": "2023-04-13T08:54:33.729Z"
   },
   {
    "duration": 49,
    "start_time": "2023-04-13T08:54:33.805Z"
   },
   {
    "duration": 34,
    "start_time": "2023-04-13T08:54:33.856Z"
   },
   {
    "duration": 44,
    "start_time": "2023-04-13T08:54:33.907Z"
   },
   {
    "duration": 15,
    "start_time": "2023-04-13T08:54:33.953Z"
   },
   {
    "duration": 58,
    "start_time": "2023-04-13T08:54:33.970Z"
   },
   {
    "duration": 26,
    "start_time": "2023-04-13T08:54:34.030Z"
   },
   {
    "duration": 72,
    "start_time": "2023-04-13T08:54:34.058Z"
   },
   {
    "duration": 23,
    "start_time": "2023-04-13T08:54:34.132Z"
   },
   {
    "duration": 72,
    "start_time": "2023-04-13T08:54:34.157Z"
   },
   {
    "duration": 21,
    "start_time": "2023-04-13T08:54:34.231Z"
   },
   {
    "duration": 18,
    "start_time": "2023-04-13T08:54:34.254Z"
   },
   {
    "duration": 70,
    "start_time": "2023-04-13T08:54:34.275Z"
   },
   {
    "duration": 15,
    "start_time": "2023-04-13T08:54:34.347Z"
   },
   {
    "duration": 76,
    "start_time": "2023-04-13T08:54:34.363Z"
   },
   {
    "duration": 35,
    "start_time": "2023-04-13T08:54:34.440Z"
   },
   {
    "duration": 192,
    "start_time": "2023-04-13T08:54:34.477Z"
   },
   {
    "duration": 17,
    "start_time": "2023-04-13T08:54:34.673Z"
   },
   {
    "duration": 58,
    "start_time": "2023-04-13T08:54:34.696Z"
   },
   {
    "duration": 14,
    "start_time": "2023-04-13T08:54:34.756Z"
   },
   {
    "duration": 80,
    "start_time": "2023-04-13T08:54:34.772Z"
   },
   {
    "duration": 96,
    "start_time": "2023-04-13T08:54:34.854Z"
   },
   {
    "duration": 38,
    "start_time": "2023-04-13T08:54:34.954Z"
   },
   {
    "duration": 70,
    "start_time": "2023-04-13T08:54:34.994Z"
   },
   {
    "duration": 67,
    "start_time": "2023-04-13T08:54:35.066Z"
   },
   {
    "duration": 55,
    "start_time": "2023-04-13T08:54:35.136Z"
   },
   {
    "duration": 17,
    "start_time": "2023-04-13T08:54:35.198Z"
   },
   {
    "duration": 40,
    "start_time": "2023-04-13T08:54:35.220Z"
   },
   {
    "duration": 2336,
    "start_time": "2023-04-13T08:54:35.262Z"
   },
   {
    "duration": 3367,
    "start_time": "2023-04-13T08:54:37.601Z"
   },
   {
    "duration": 24,
    "start_time": "2023-04-13T08:54:40.970Z"
   },
   {
    "duration": 31,
    "start_time": "2023-04-13T08:54:41.005Z"
   },
   {
    "duration": 10,
    "start_time": "2023-04-13T08:54:41.037Z"
   },
   {
    "duration": 16,
    "start_time": "2023-04-13T08:54:41.049Z"
   },
   {
    "duration": 4,
    "start_time": "2023-04-13T08:54:41.066Z"
   },
   {
    "duration": 13,
    "start_time": "2023-04-13T08:54:41.072Z"
   },
   {
    "duration": 46,
    "start_time": "2023-04-13T08:54:41.087Z"
   },
   {
    "duration": 13,
    "start_time": "2023-04-13T08:54:41.135Z"
   },
   {
    "duration": 21,
    "start_time": "2023-04-13T08:54:41.150Z"
   },
   {
    "duration": 4,
    "start_time": "2023-04-13T08:54:41.173Z"
   },
   {
    "duration": 50,
    "start_time": "2023-04-13T08:54:41.179Z"
   },
   {
    "duration": 16,
    "start_time": "2023-04-13T08:54:41.231Z"
   },
   {
    "duration": 6,
    "start_time": "2023-04-13T08:54:41.249Z"
   },
   {
    "duration": 8,
    "start_time": "2023-04-13T08:54:41.257Z"
   },
   {
    "duration": 223,
    "start_time": "2023-04-13T08:54:41.266Z"
   },
   {
    "duration": 2,
    "start_time": "2023-04-13T08:54:41.498Z"
   },
   {
    "duration": 38,
    "start_time": "2023-04-13T08:54:41.503Z"
   },
   {
    "duration": 14,
    "start_time": "2023-04-13T08:54:41.543Z"
   },
   {
    "duration": 25,
    "start_time": "2023-04-13T08:54:41.559Z"
   },
   {
    "duration": 5,
    "start_time": "2023-04-13T08:54:41.591Z"
   },
   {
    "duration": 1789,
    "start_time": "2023-04-13T08:54:41.601Z"
   },
   {
    "duration": 9,
    "start_time": "2023-04-13T08:54:43.396Z"
   },
   {
    "duration": 320,
    "start_time": "2023-04-13T08:54:43.407Z"
   },
   {
    "duration": 15668,
    "start_time": "2023-04-13T08:54:43.728Z"
   },
   {
    "duration": 3,
    "start_time": "2023-04-13T08:54:59.398Z"
   },
   {
    "duration": 216,
    "start_time": "2023-04-13T08:54:59.402Z"
   },
   {
    "duration": 37752,
    "start_time": "2023-04-13T08:54:59.624Z"
   },
   {
    "duration": 21,
    "start_time": "2023-04-13T08:55:37.396Z"
   },
   {
    "duration": 168,
    "start_time": "2023-04-13T08:55:37.423Z"
   },
   {
    "duration": 43066,
    "start_time": "2023-04-13T08:59:52.071Z"
   },
   {
    "duration": 53131,
    "start_time": "2023-04-13T09:00:45.043Z"
   },
   {
    "duration": 4,
    "start_time": "2023-04-13T09:01:42.534Z"
   },
   {
    "duration": 150,
    "start_time": "2023-04-13T09:01:47.822Z"
   },
   {
    "duration": 39989,
    "start_time": "2023-04-13T09:02:08.428Z"
   },
   {
    "duration": 5,
    "start_time": "2023-04-13T09:02:48.420Z"
   },
   {
    "duration": 42304,
    "start_time": "2023-04-13T09:03:07.116Z"
   },
   {
    "duration": 4,
    "start_time": "2023-04-13T09:03:49.422Z"
   },
   {
    "duration": 190,
    "start_time": "2023-04-13T09:03:49.427Z"
   },
   {
    "duration": 36926,
    "start_time": "2023-04-13T09:04:07.223Z"
   },
   {
    "duration": 29037,
    "start_time": "2023-04-13T09:05:05.173Z"
   },
   {
    "duration": 4,
    "start_time": "2023-04-13T09:05:39.314Z"
   },
   {
    "duration": 26817,
    "start_time": "2023-04-13T09:05:44.599Z"
   },
   {
    "duration": 31445,
    "start_time": "2023-04-13T09:06:20.430Z"
   },
   {
    "duration": 3,
    "start_time": "2023-04-13T09:06:55.143Z"
   },
   {
    "duration": 32387,
    "start_time": "2023-04-13T09:07:05.633Z"
   },
   {
    "duration": 8,
    "start_time": "2023-04-13T09:08:31.100Z"
   },
   {
    "duration": 212,
    "start_time": "2023-04-13T09:08:33.709Z"
   },
   {
    "duration": 15282,
    "start_time": "2023-04-13T09:08:48.812Z"
   },
   {
    "duration": 4,
    "start_time": "2023-04-13T09:09:04.096Z"
   },
   {
    "duration": 7274,
    "start_time": "2023-04-13T09:10:05.958Z"
   },
   {
    "duration": 5,
    "start_time": "2023-04-13T09:10:20.438Z"
   },
   {
    "duration": 203,
    "start_time": "2023-04-13T09:10:28.610Z"
   },
   {
    "duration": 46363,
    "start_time": "2023-04-13T09:10:38.795Z"
   },
   {
    "duration": 5,
    "start_time": "2023-04-13T09:11:25.160Z"
   },
   {
    "duration": 166,
    "start_time": "2023-04-13T09:11:25.167Z"
   },
   {
    "duration": 1617,
    "start_time": "2023-04-13T09:24:31.769Z"
   },
   {
    "duration": 7,
    "start_time": "2023-04-13T09:24:33.391Z"
   },
   {
    "duration": 6826,
    "start_time": "2023-04-13T09:24:34.122Z"
   },
   {
    "duration": 6,
    "start_time": "2023-04-13T09:24:40.950Z"
   },
   {
    "duration": 28489,
    "start_time": "2023-04-13T09:24:40.958Z"
   },
   {
    "duration": 0,
    "start_time": "2023-04-13T09:25:09.449Z"
   },
   {
    "duration": 43496,
    "start_time": "2023-04-13T09:25:14.591Z"
   },
   {
    "duration": 9,
    "start_time": "2023-04-13T09:26:11.392Z"
   },
   {
    "duration": 12,
    "start_time": "2023-04-13T09:26:13.416Z"
   },
   {
    "duration": 2085,
    "start_time": "2023-04-13T09:29:20.129Z"
   },
   {
    "duration": 5,
    "start_time": "2023-04-13T09:29:22.217Z"
   },
   {
    "duration": 12,
    "start_time": "2023-04-13T09:29:36.275Z"
   },
   {
    "duration": 25,
    "start_time": "2023-04-13T09:33:40.356Z"
   },
   {
    "duration": 157,
    "start_time": "2023-04-13T09:34:01.204Z"
   },
   {
    "duration": 21,
    "start_time": "2023-04-13T09:34:26.337Z"
   },
   {
    "duration": 30,
    "start_time": "2023-04-13T09:35:03.214Z"
   },
   {
    "duration": 162,
    "start_time": "2023-04-13T09:36:11.812Z"
   },
   {
    "duration": 145,
    "start_time": "2023-04-13T09:36:21.871Z"
   },
   {
    "duration": 1899,
    "start_time": "2023-04-13T10:04:23.464Z"
   },
   {
    "duration": 124,
    "start_time": "2023-04-13T10:04:25.366Z"
   },
   {
    "duration": 21,
    "start_time": "2023-04-13T10:04:25.514Z"
   },
   {
    "duration": 17,
    "start_time": "2023-04-13T10:04:25.537Z"
   },
   {
    "duration": 15,
    "start_time": "2023-04-13T10:04:25.557Z"
   },
   {
    "duration": 66,
    "start_time": "2023-04-13T10:04:25.575Z"
   },
   {
    "duration": 262,
    "start_time": "2023-04-13T10:04:25.643Z"
   },
   {
    "duration": 11,
    "start_time": "2023-04-13T10:04:25.913Z"
   },
   {
    "duration": 171,
    "start_time": "2023-04-13T10:04:25.926Z"
   },
   {
    "duration": 23,
    "start_time": "2023-04-13T10:04:26.098Z"
   },
   {
    "duration": 16,
    "start_time": "2023-04-13T10:04:26.127Z"
   },
   {
    "duration": 9,
    "start_time": "2023-04-13T10:04:26.145Z"
   },
   {
    "duration": 41,
    "start_time": "2023-04-13T10:04:26.157Z"
   },
   {
    "duration": 7,
    "start_time": "2023-04-13T10:04:26.208Z"
   },
   {
    "duration": 9,
    "start_time": "2023-04-13T10:04:26.216Z"
   },
   {
    "duration": 14,
    "start_time": "2023-04-13T10:04:26.227Z"
   },
   {
    "duration": 18,
    "start_time": "2023-04-13T10:04:26.244Z"
   },
   {
    "duration": 39,
    "start_time": "2023-04-13T10:04:26.264Z"
   },
   {
    "duration": 24,
    "start_time": "2023-04-13T10:04:26.305Z"
   },
   {
    "duration": 6,
    "start_time": "2023-04-13T10:04:26.332Z"
   },
   {
    "duration": 20,
    "start_time": "2023-04-13T10:04:26.340Z"
   },
   {
    "duration": 10,
    "start_time": "2023-04-13T10:04:26.362Z"
   },
   {
    "duration": 39,
    "start_time": "2023-04-13T10:04:26.374Z"
   },
   {
    "duration": 20,
    "start_time": "2023-04-13T10:04:26.414Z"
   },
   {
    "duration": 5,
    "start_time": "2023-04-13T10:04:26.436Z"
   },
   {
    "duration": 18,
    "start_time": "2023-04-13T10:04:26.443Z"
   },
   {
    "duration": 165,
    "start_time": "2023-04-13T10:04:26.463Z"
   },
   {
    "duration": 6,
    "start_time": "2023-04-13T10:04:26.633Z"
   },
   {
    "duration": 11,
    "start_time": "2023-04-13T10:04:26.641Z"
   },
   {
    "duration": 6,
    "start_time": "2023-04-13T10:04:26.653Z"
   },
   {
    "duration": 42,
    "start_time": "2023-04-13T10:04:26.661Z"
   },
   {
    "duration": 71,
    "start_time": "2023-04-13T10:04:26.705Z"
   },
   {
    "duration": 39,
    "start_time": "2023-04-13T10:04:26.779Z"
   },
   {
    "duration": 22,
    "start_time": "2023-04-13T10:04:26.820Z"
   },
   {
    "duration": 10,
    "start_time": "2023-04-13T10:04:26.844Z"
   },
   {
    "duration": 37,
    "start_time": "2023-04-13T10:04:26.856Z"
   },
   {
    "duration": 16,
    "start_time": "2023-04-13T10:04:26.899Z"
   },
   {
    "duration": 22,
    "start_time": "2023-04-13T10:04:26.921Z"
   },
   {
    "duration": 2479,
    "start_time": "2023-04-13T10:04:26.945Z"
   },
   {
    "duration": 3407,
    "start_time": "2023-04-13T10:04:29.426Z"
   },
   {
    "duration": 3,
    "start_time": "2023-04-13T10:04:32.837Z"
   },
   {
    "duration": 77,
    "start_time": "2023-04-13T10:04:32.841Z"
   },
   {
    "duration": 26,
    "start_time": "2023-04-13T10:04:32.919Z"
   },
   {
    "duration": 29,
    "start_time": "2023-04-13T10:04:32.947Z"
   },
   {
    "duration": 25,
    "start_time": "2023-04-13T10:04:32.977Z"
   },
   {
    "duration": 18,
    "start_time": "2023-04-13T10:04:33.008Z"
   },
   {
    "duration": 24,
    "start_time": "2023-04-13T10:04:33.028Z"
   },
   {
    "duration": 34,
    "start_time": "2023-04-13T10:04:33.054Z"
   },
   {
    "duration": 50,
    "start_time": "2023-04-13T10:04:33.094Z"
   },
   {
    "duration": 5,
    "start_time": "2023-04-13T10:04:33.146Z"
   },
   {
    "duration": 40,
    "start_time": "2023-04-13T10:04:33.152Z"
   },
   {
    "duration": 37,
    "start_time": "2023-04-13T10:04:33.194Z"
   },
   {
    "duration": 5,
    "start_time": "2023-04-13T10:04:33.233Z"
   },
   {
    "duration": 76,
    "start_time": "2023-04-13T10:04:33.240Z"
   },
   {
    "duration": 3,
    "start_time": "2023-04-13T10:04:33.318Z"
   },
   {
    "duration": 50,
    "start_time": "2023-04-13T10:04:33.323Z"
   },
   {
    "duration": 17,
    "start_time": "2023-04-13T10:04:33.375Z"
   },
   {
    "duration": 41,
    "start_time": "2023-04-13T10:04:33.393Z"
   },
   {
    "duration": 5,
    "start_time": "2023-04-13T10:04:33.436Z"
   },
   {
    "duration": 1949,
    "start_time": "2023-04-13T10:04:33.443Z"
   },
   {
    "duration": 8,
    "start_time": "2023-04-13T10:04:35.397Z"
   },
   {
    "duration": 7315,
    "start_time": "2023-04-13T10:04:35.407Z"
   },
   {
    "duration": 4,
    "start_time": "2023-04-13T10:04:42.724Z"
   },
   {
    "duration": 25139,
    "start_time": "2023-04-13T10:04:42.729Z"
   },
   {
    "duration": 5,
    "start_time": "2023-04-13T10:05:07.870Z"
   },
   {
    "duration": 28,
    "start_time": "2023-04-13T10:05:07.877Z"
   },
   {
    "duration": 172,
    "start_time": "2023-04-13T10:05:07.916Z"
   },
   {
    "duration": 155,
    "start_time": "2023-04-13T10:08:10.335Z"
   },
   {
    "duration": 1748,
    "start_time": "2023-04-13T10:09:33.203Z"
   },
   {
    "duration": 118,
    "start_time": "2023-04-13T10:09:34.954Z"
   },
   {
    "duration": 34,
    "start_time": "2023-04-13T10:09:35.074Z"
   },
   {
    "duration": 24,
    "start_time": "2023-04-13T10:09:35.114Z"
   },
   {
    "duration": 12,
    "start_time": "2023-04-13T10:09:35.141Z"
   },
   {
    "duration": 21,
    "start_time": "2023-04-13T10:09:35.155Z"
   },
   {
    "duration": 167,
    "start_time": "2023-04-13T10:09:35.177Z"
   },
   {
    "duration": 6,
    "start_time": "2023-04-13T10:09:35.346Z"
   },
   {
    "duration": 163,
    "start_time": "2023-04-13T10:09:35.354Z"
   },
   {
    "duration": 9,
    "start_time": "2023-04-13T10:09:35.519Z"
   },
   {
    "duration": 15,
    "start_time": "2023-04-13T10:09:35.529Z"
   },
   {
    "duration": 8,
    "start_time": "2023-04-13T10:09:35.546Z"
   },
   {
    "duration": 39,
    "start_time": "2023-04-13T10:09:35.556Z"
   },
   {
    "duration": 26,
    "start_time": "2023-04-13T10:09:35.601Z"
   },
   {
    "duration": 20,
    "start_time": "2023-04-13T10:09:35.628Z"
   },
   {
    "duration": 17,
    "start_time": "2023-04-13T10:09:35.650Z"
   },
   {
    "duration": 22,
    "start_time": "2023-04-13T10:09:35.668Z"
   },
   {
    "duration": 55,
    "start_time": "2023-04-13T10:09:35.692Z"
   },
   {
    "duration": 17,
    "start_time": "2023-04-13T10:09:35.748Z"
   },
   {
    "duration": 47,
    "start_time": "2023-04-13T10:09:35.767Z"
   },
   {
    "duration": 25,
    "start_time": "2023-04-13T10:09:35.816Z"
   },
   {
    "duration": 18,
    "start_time": "2023-04-13T10:09:35.843Z"
   },
   {
    "duration": 32,
    "start_time": "2023-04-13T10:09:35.862Z"
   },
   {
    "duration": 35,
    "start_time": "2023-04-13T10:09:35.901Z"
   },
   {
    "duration": 5,
    "start_time": "2023-04-13T10:09:35.938Z"
   },
   {
    "duration": 24,
    "start_time": "2023-04-13T10:09:35.944Z"
   },
   {
    "duration": 195,
    "start_time": "2023-04-13T10:09:35.970Z"
   },
   {
    "duration": 7,
    "start_time": "2023-04-13T10:09:36.167Z"
   },
   {
    "duration": 42,
    "start_time": "2023-04-13T10:09:36.183Z"
   },
   {
    "duration": 44,
    "start_time": "2023-04-13T10:09:36.226Z"
   },
   {
    "duration": 61,
    "start_time": "2023-04-13T10:09:36.271Z"
   },
   {
    "duration": 63,
    "start_time": "2023-04-13T10:09:36.333Z"
   },
   {
    "duration": 28,
    "start_time": "2023-04-13T10:09:36.397Z"
   },
   {
    "duration": 23,
    "start_time": "2023-04-13T10:09:36.426Z"
   },
   {
    "duration": 17,
    "start_time": "2023-04-13T10:09:36.451Z"
   },
   {
    "duration": 40,
    "start_time": "2023-04-13T10:09:36.470Z"
   },
   {
    "duration": 15,
    "start_time": "2023-04-13T10:09:36.518Z"
   },
   {
    "duration": 23,
    "start_time": "2023-04-13T10:09:36.535Z"
   },
   {
    "duration": 2296,
    "start_time": "2023-04-13T10:09:36.560Z"
   },
   {
    "duration": 3298,
    "start_time": "2023-04-13T10:09:38.858Z"
   },
   {
    "duration": 3,
    "start_time": "2023-04-13T10:09:42.162Z"
   },
   {
    "duration": 69,
    "start_time": "2023-04-13T10:09:42.167Z"
   },
   {
    "duration": 15,
    "start_time": "2023-04-13T10:09:42.238Z"
   },
   {
    "duration": 26,
    "start_time": "2023-04-13T10:09:42.255Z"
   },
   {
    "duration": 2,
    "start_time": "2023-04-13T10:09:42.283Z"
   },
   {
    "duration": 2,
    "start_time": "2023-04-13T10:09:42.291Z"
   },
   {
    "duration": 10,
    "start_time": "2023-04-13T10:09:42.296Z"
   },
   {
    "duration": 32,
    "start_time": "2023-04-13T10:09:42.308Z"
   },
   {
    "duration": 25,
    "start_time": "2023-04-13T10:09:42.342Z"
   },
   {
    "duration": 4,
    "start_time": "2023-04-13T10:09:42.368Z"
   },
   {
    "duration": 14,
    "start_time": "2023-04-13T10:09:42.374Z"
   },
   {
    "duration": 20,
    "start_time": "2023-04-13T10:09:42.394Z"
   },
   {
    "duration": 11,
    "start_time": "2023-04-13T10:09:42.416Z"
   },
   {
    "duration": 69,
    "start_time": "2023-04-13T10:09:42.429Z"
   },
   {
    "duration": 5,
    "start_time": "2023-04-13T10:09:42.510Z"
   },
   {
    "duration": 38,
    "start_time": "2023-04-13T10:09:42.516Z"
   },
   {
    "duration": 21,
    "start_time": "2023-04-13T10:09:42.556Z"
   },
   {
    "duration": 36,
    "start_time": "2023-04-13T10:09:42.580Z"
   },
   {
    "duration": 10,
    "start_time": "2023-04-13T10:09:42.618Z"
   },
   {
    "duration": 2258,
    "start_time": "2023-04-13T10:09:42.630Z"
   },
   {
    "duration": 9,
    "start_time": "2023-04-13T10:09:44.893Z"
   },
   {
    "duration": 7046,
    "start_time": "2023-04-13T10:09:44.906Z"
   },
   {
    "duration": 3,
    "start_time": "2023-04-13T10:09:51.954Z"
   },
   {
    "duration": 26998,
    "start_time": "2023-04-13T10:09:51.959Z"
   },
   {
    "duration": 4,
    "start_time": "2023-04-13T10:10:18.958Z"
   },
   {
    "duration": 32,
    "start_time": "2023-04-13T10:10:18.964Z"
   },
   {
    "duration": 162,
    "start_time": "2023-04-13T10:10:19.007Z"
   },
   {
    "duration": 1925,
    "start_time": "2023-04-14T12:16:16.242Z"
   },
   {
    "duration": 303,
    "start_time": "2023-04-14T12:16:18.886Z"
   },
   {
    "duration": 16,
    "start_time": "2023-04-14T12:16:19.199Z"
   },
   {
    "duration": 13,
    "start_time": "2023-04-14T12:16:20.574Z"
   },
   {
    "duration": 5,
    "start_time": "2023-04-14T12:16:21.364Z"
   },
   {
    "duration": 8,
    "start_time": "2023-04-14T12:16:21.639Z"
   },
   {
    "duration": 159,
    "start_time": "2023-04-14T12:16:21.969Z"
   },
   {
    "duration": 6,
    "start_time": "2023-04-14T12:16:22.606Z"
   },
   {
    "duration": 125,
    "start_time": "2023-04-14T12:16:23.216Z"
   },
   {
    "duration": 8,
    "start_time": "2023-04-14T12:16:23.543Z"
   },
   {
    "duration": 13,
    "start_time": "2023-04-14T12:16:23.860Z"
   },
   {
    "duration": 11,
    "start_time": "2023-04-14T12:16:24.576Z"
   },
   {
    "duration": 13,
    "start_time": "2023-04-14T12:16:24.760Z"
   },
   {
    "duration": 7,
    "start_time": "2023-04-14T12:16:24.928Z"
   },
   {
    "duration": 6,
    "start_time": "2023-04-14T12:16:25.104Z"
   },
   {
    "duration": 11,
    "start_time": "2023-04-14T12:16:25.475Z"
   },
   {
    "duration": 12,
    "start_time": "2023-04-14T12:16:25.660Z"
   },
   {
    "duration": 9,
    "start_time": "2023-04-14T12:16:26.186Z"
   },
   {
    "duration": 10,
    "start_time": "2023-04-14T12:16:26.388Z"
   },
   {
    "duration": 4,
    "start_time": "2023-04-14T12:16:52.877Z"
   },
   {
    "duration": 13,
    "start_time": "2023-04-14T12:16:54.104Z"
   },
   {
    "duration": 8,
    "start_time": "2023-04-14T12:16:54.734Z"
   },
   {
    "duration": 20,
    "start_time": "2023-04-14T12:16:56.549Z"
   },
   {
    "duration": 13,
    "start_time": "2023-04-14T12:16:57.958Z"
   },
   {
    "duration": 5,
    "start_time": "2023-04-14T12:16:59.756Z"
   },
   {
    "duration": 14,
    "start_time": "2023-04-14T12:17:00.386Z"
   },
   {
    "duration": 148,
    "start_time": "2023-04-14T12:17:01.635Z"
   },
   {
    "duration": 6,
    "start_time": "2023-04-14T12:17:02.836Z"
   },
   {
    "duration": 6,
    "start_time": "2023-04-14T12:17:03.406Z"
   },
   {
    "duration": 5,
    "start_time": "2023-04-14T12:17:04.724Z"
   },
   {
    "duration": 11,
    "start_time": "2023-04-14T12:17:05.596Z"
   },
   {
    "duration": 33,
    "start_time": "2023-04-14T12:17:06.641Z"
   },
   {
    "duration": 21,
    "start_time": "2023-04-14T12:17:11.316Z"
   },
   {
    "duration": 17,
    "start_time": "2023-04-14T12:17:18.189Z"
   },
   {
    "duration": 10,
    "start_time": "2023-04-14T12:18:06.159Z"
   },
   {
    "duration": 20,
    "start_time": "2023-04-14T12:18:06.933Z"
   },
   {
    "duration": 10,
    "start_time": "2023-04-14T12:18:07.904Z"
   },
   {
    "duration": 15,
    "start_time": "2023-04-14T12:18:08.729Z"
   },
   {
    "duration": 2144,
    "start_time": "2023-04-14T12:18:10.916Z"
   },
   {
    "duration": 2981,
    "start_time": "2023-04-14T12:18:13.062Z"
   },
   {
    "duration": 3,
    "start_time": "2023-04-14T12:18:16.045Z"
   },
   {
    "duration": 10,
    "start_time": "2023-04-14T12:18:19.775Z"
   },
   {
    "duration": 9,
    "start_time": "2023-04-14T12:18:26.867Z"
   },
   {
    "duration": 16,
    "start_time": "2023-04-14T12:18:35.209Z"
   },
   {
    "duration": 3,
    "start_time": "2023-04-14T12:18:37.715Z"
   },
   {
    "duration": 3,
    "start_time": "2023-04-14T12:18:38.798Z"
   },
   {
    "duration": 6,
    "start_time": "2023-04-14T12:18:39.504Z"
   },
   {
    "duration": 10,
    "start_time": "2023-04-14T12:18:41.307Z"
   },
   {
    "duration": 15,
    "start_time": "2023-04-14T12:18:44.249Z"
   },
   {
    "duration": 4,
    "start_time": "2023-04-14T12:18:45.416Z"
   },
   {
    "duration": 5,
    "start_time": "2023-04-14T12:18:46.456Z"
   },
   {
    "duration": 2,
    "start_time": "2023-04-14T12:18:47.497Z"
   },
   {
    "duration": 6,
    "start_time": "2023-04-14T12:18:48.259Z"
   },
   {
    "duration": 50,
    "start_time": "2023-04-14T12:18:52.526Z"
   },
   {
    "duration": 3,
    "start_time": "2023-04-14T12:18:53.205Z"
   },
   {
    "duration": 28,
    "start_time": "2023-04-14T12:18:53.934Z"
   },
   {
    "duration": 18,
    "start_time": "2023-04-14T12:18:54.610Z"
   },
   {
    "duration": 12,
    "start_time": "2023-04-14T12:19:00.956Z"
   },
   {
    "duration": 4,
    "start_time": "2023-04-14T12:19:03.144Z"
   },
   {
    "duration": 149,
    "start_time": "2023-04-14T12:19:03.839Z"
   },
   {
    "duration": 2587,
    "start_time": "2023-04-14T12:19:25.925Z"
   },
   {
    "duration": 4,
    "start_time": "2023-04-14T12:19:28.515Z"
   },
   {
    "duration": 5064,
    "start_time": "2023-04-14T12:19:32.966Z"
   },
   {
    "duration": 4,
    "start_time": "2023-04-14T12:19:38.032Z"
   },
   {
    "duration": 11,
    "start_time": "2023-04-14T12:19:46.978Z"
   },
   {
    "duration": 10238,
    "start_time": "2023-04-14T12:20:00.243Z"
   },
   {
    "duration": 5,
    "start_time": "2023-04-14T12:20:10.483Z"
   },
   {
    "duration": 9,
    "start_time": "2023-04-14T12:20:15.231Z"
   },
   {
    "duration": 139,
    "start_time": "2023-04-14T12:20:19.246Z"
   },
   {
    "duration": 7,
    "start_time": "2023-04-14T12:24:14.763Z"
   },
   {
    "duration": 14,
    "start_time": "2023-04-14T12:24:30.842Z"
   },
   {
    "duration": 7,
    "start_time": "2023-04-14T12:24:34.365Z"
   },
   {
    "duration": 10,
    "start_time": "2023-04-14T12:34:01.053Z"
   },
   {
    "duration": 203,
    "start_time": "2023-04-14T12:35:10.172Z"
   },
   {
    "duration": 129,
    "start_time": "2023-04-14T12:39:24.072Z"
   },
   {
    "duration": 351,
    "start_time": "2023-04-14T12:40:28.966Z"
   },
   {
    "duration": 213,
    "start_time": "2023-04-14T12:41:02.183Z"
   },
   {
    "duration": 216,
    "start_time": "2023-04-14T12:41:53.472Z"
   },
   {
    "duration": 222,
    "start_time": "2023-04-14T12:42:19.950Z"
   },
   {
    "duration": 8,
    "start_time": "2023-04-14T12:45:09.643Z"
   },
   {
    "duration": 10,
    "start_time": "2023-04-14T12:45:17.205Z"
   },
   {
    "duration": 300,
    "start_time": "2023-04-14T12:50:32.183Z"
   },
   {
    "duration": 6,
    "start_time": "2023-04-14T12:51:53.991Z"
   },
   {
    "duration": 11,
    "start_time": "2023-04-14T12:51:59.872Z"
   },
   {
    "duration": 11,
    "start_time": "2023-04-14T12:52:17.652Z"
   },
   {
    "duration": 8,
    "start_time": "2023-04-14T12:58:49.522Z"
   },
   {
    "duration": 11,
    "start_time": "2023-04-14T12:58:58.052Z"
   },
   {
    "duration": 11,
    "start_time": "2023-04-14T13:01:47.930Z"
   },
   {
    "duration": 11,
    "start_time": "2023-04-14T13:18:01.217Z"
   },
   {
    "duration": 1462,
    "start_time": "2023-04-14T13:24:10.106Z"
   },
   {
    "duration": 88,
    "start_time": "2023-04-14T13:24:11.570Z"
   },
   {
    "duration": 17,
    "start_time": "2023-04-14T13:24:11.659Z"
   },
   {
    "duration": 13,
    "start_time": "2023-04-14T13:24:11.678Z"
   },
   {
    "duration": 14,
    "start_time": "2023-04-14T13:24:11.693Z"
   },
   {
    "duration": 23,
    "start_time": "2023-04-14T13:24:11.709Z"
   },
   {
    "duration": 219,
    "start_time": "2023-04-14T13:24:11.734Z"
   },
   {
    "duration": 7,
    "start_time": "2023-04-14T13:24:11.955Z"
   },
   {
    "duration": 163,
    "start_time": "2023-04-14T13:24:11.964Z"
   },
   {
    "duration": 12,
    "start_time": "2023-04-14T13:24:12.129Z"
   },
   {
    "duration": 15,
    "start_time": "2023-04-14T13:24:12.143Z"
   },
   {
    "duration": 12,
    "start_time": "2023-04-14T13:24:12.159Z"
   },
   {
    "duration": 42,
    "start_time": "2023-04-14T13:24:12.172Z"
   },
   {
    "duration": 6,
    "start_time": "2023-04-14T13:24:12.217Z"
   },
   {
    "duration": 7,
    "start_time": "2023-04-14T13:24:12.224Z"
   },
   {
    "duration": 16,
    "start_time": "2023-04-14T13:24:12.232Z"
   },
   {
    "duration": 19,
    "start_time": "2023-04-14T13:24:12.250Z"
   },
   {
    "duration": 25,
    "start_time": "2023-04-14T13:24:12.271Z"
   },
   {
    "duration": 23,
    "start_time": "2023-04-14T13:24:12.298Z"
   },
   {
    "duration": 7,
    "start_time": "2023-04-14T13:24:12.323Z"
   },
   {
    "duration": 19,
    "start_time": "2023-04-14T13:24:12.332Z"
   },
   {
    "duration": 11,
    "start_time": "2023-04-14T13:24:12.352Z"
   },
   {
    "duration": 21,
    "start_time": "2023-04-14T13:24:12.365Z"
   },
   {
    "duration": 34,
    "start_time": "2023-04-14T13:24:12.388Z"
   },
   {
    "duration": 6,
    "start_time": "2023-04-14T13:24:12.423Z"
   },
   {
    "duration": 18,
    "start_time": "2023-04-14T13:24:12.430Z"
   },
   {
    "duration": 179,
    "start_time": "2023-04-14T13:24:12.450Z"
   },
   {
    "duration": 6,
    "start_time": "2023-04-14T13:24:12.631Z"
   },
   {
    "duration": 9,
    "start_time": "2023-04-14T13:24:12.639Z"
   },
   {
    "duration": 5,
    "start_time": "2023-04-14T13:24:12.650Z"
   },
   {
    "duration": 16,
    "start_time": "2023-04-14T13:24:12.657Z"
   },
   {
    "duration": 56,
    "start_time": "2023-04-14T13:24:12.675Z"
   },
   {
    "duration": 23,
    "start_time": "2023-04-14T13:24:12.733Z"
   },
   {
    "duration": 19,
    "start_time": "2023-04-14T13:24:12.757Z"
   },
   {
    "duration": 34,
    "start_time": "2023-04-14T13:24:12.778Z"
   },
   {
    "duration": 22,
    "start_time": "2023-04-14T13:24:12.814Z"
   },
   {
    "duration": 12,
    "start_time": "2023-04-14T13:24:12.838Z"
   },
   {
    "duration": 21,
    "start_time": "2023-04-14T13:24:12.852Z"
   },
   {
    "duration": 2097,
    "start_time": "2023-04-14T13:24:12.875Z"
   },
   {
    "duration": 3029,
    "start_time": "2023-04-14T13:24:14.974Z"
   },
   {
    "duration": 3,
    "start_time": "2023-04-14T13:24:18.011Z"
   },
   {
    "duration": 19,
    "start_time": "2023-04-14T13:24:18.015Z"
   },
   {
    "duration": 9,
    "start_time": "2023-04-14T13:24:18.037Z"
   },
   {
    "duration": 16,
    "start_time": "2023-04-14T13:24:18.048Z"
   },
   {
    "duration": 3,
    "start_time": "2023-04-14T13:24:18.065Z"
   },
   {
    "duration": 6,
    "start_time": "2023-04-14T13:24:18.070Z"
   },
   {
    "duration": 39,
    "start_time": "2023-04-14T13:24:18.078Z"
   },
   {
    "duration": 11,
    "start_time": "2023-04-14T13:24:18.119Z"
   },
   {
    "duration": 18,
    "start_time": "2023-04-14T13:24:18.132Z"
   },
   {
    "duration": 4,
    "start_time": "2023-04-14T13:24:18.152Z"
   },
   {
    "duration": 9,
    "start_time": "2023-04-14T13:24:18.157Z"
   },
   {
    "duration": 2,
    "start_time": "2023-04-14T13:24:18.168Z"
   },
   {
    "duration": 13,
    "start_time": "2023-04-14T13:24:18.172Z"
   },
   {
    "duration": 43,
    "start_time": "2023-04-14T13:24:18.212Z"
   },
   {
    "duration": 3,
    "start_time": "2023-04-14T13:24:18.257Z"
   },
   {
    "duration": 31,
    "start_time": "2023-04-14T13:24:18.262Z"
   },
   {
    "duration": 16,
    "start_time": "2023-04-14T13:24:18.311Z"
   },
   {
    "duration": 14,
    "start_time": "2023-04-14T13:24:18.329Z"
   },
   {
    "duration": 6,
    "start_time": "2023-04-14T13:24:18.345Z"
   },
   {
    "duration": 2466,
    "start_time": "2023-04-14T13:24:18.352Z"
   },
   {
    "duration": 4,
    "start_time": "2023-04-14T13:24:20.821Z"
   },
   {
    "duration": 5349,
    "start_time": "2023-04-14T13:24:20.828Z"
   },
   {
    "duration": 4,
    "start_time": "2023-04-14T13:24:26.179Z"
   },
   {
    "duration": 8612,
    "start_time": "2023-04-14T13:24:26.184Z"
   },
   {
    "duration": 5,
    "start_time": "2023-04-14T13:24:34.797Z"
   },
   {
    "duration": 10,
    "start_time": "2023-04-14T13:24:34.803Z"
   },
   {
    "duration": 133,
    "start_time": "2023-04-14T13:24:34.815Z"
   },
   {
    "duration": 9,
    "start_time": "2023-04-14T13:24:34.950Z"
   },
   {
    "duration": 216,
    "start_time": "2023-04-14T13:24:34.961Z"
   },
   {
    "duration": 103,
    "start_time": "2023-04-17T03:29:21.178Z"
   },
   {
    "duration": 1960,
    "start_time": "2023-04-17T05:32:38.695Z"
   },
   {
    "duration": 469,
    "start_time": "2023-04-17T05:32:40.657Z"
   },
   {
    "duration": 24,
    "start_time": "2023-04-17T05:32:41.127Z"
   },
   {
    "duration": 31,
    "start_time": "2023-04-17T05:32:41.156Z"
   },
   {
    "duration": 17,
    "start_time": "2023-04-17T05:32:41.189Z"
   },
   {
    "duration": 11,
    "start_time": "2023-04-17T05:32:41.208Z"
   },
   {
    "duration": 172,
    "start_time": "2023-04-17T05:32:41.221Z"
   },
   {
    "duration": 8,
    "start_time": "2023-04-17T05:32:41.395Z"
   },
   {
    "duration": 157,
    "start_time": "2023-04-17T05:32:41.405Z"
   },
   {
    "duration": 10,
    "start_time": "2023-04-17T05:32:41.565Z"
   },
   {
    "duration": 18,
    "start_time": "2023-04-17T05:32:41.577Z"
   },
   {
    "duration": 23,
    "start_time": "2023-04-17T05:32:41.597Z"
   },
   {
    "duration": 23,
    "start_time": "2023-04-17T05:32:41.622Z"
   },
   {
    "duration": 8,
    "start_time": "2023-04-17T05:32:41.647Z"
   },
   {
    "duration": 23,
    "start_time": "2023-04-17T05:32:41.657Z"
   },
   {
    "duration": 16,
    "start_time": "2023-04-17T05:32:41.682Z"
   },
   {
    "duration": 15,
    "start_time": "2023-04-17T05:32:41.699Z"
   },
   {
    "duration": 11,
    "start_time": "2023-04-17T05:32:41.715Z"
   },
   {
    "duration": 16,
    "start_time": "2023-04-17T05:32:41.728Z"
   },
   {
    "duration": 14,
    "start_time": "2023-04-17T05:32:41.755Z"
   },
   {
    "duration": 25,
    "start_time": "2023-04-17T05:32:41.771Z"
   },
   {
    "duration": 9,
    "start_time": "2023-04-17T05:32:41.798Z"
   },
   {
    "duration": 23,
    "start_time": "2023-04-17T05:32:41.809Z"
   },
   {
    "duration": 23,
    "start_time": "2023-04-17T05:32:41.834Z"
   },
   {
    "duration": 20,
    "start_time": "2023-04-17T05:32:41.858Z"
   },
   {
    "duration": 18,
    "start_time": "2023-04-17T05:32:41.881Z"
   },
   {
    "duration": 158,
    "start_time": "2023-04-17T05:32:41.901Z"
   },
   {
    "duration": 6,
    "start_time": "2023-04-17T05:32:42.064Z"
   },
   {
    "duration": 23,
    "start_time": "2023-04-17T05:32:42.072Z"
   },
   {
    "duration": 13,
    "start_time": "2023-04-17T05:32:42.096Z"
   },
   {
    "duration": 21,
    "start_time": "2023-04-17T05:32:42.111Z"
   },
   {
    "duration": 74,
    "start_time": "2023-04-17T05:32:42.134Z"
   },
   {
    "duration": 22,
    "start_time": "2023-04-17T05:32:42.209Z"
   },
   {
    "duration": 31,
    "start_time": "2023-04-17T05:32:42.233Z"
   },
   {
    "duration": 24,
    "start_time": "2023-04-17T05:32:42.266Z"
   },
   {
    "duration": 22,
    "start_time": "2023-04-17T05:32:42.292Z"
   },
   {
    "duration": 9,
    "start_time": "2023-04-17T05:32:42.316Z"
   },
   {
    "duration": 27,
    "start_time": "2023-04-17T05:32:42.335Z"
   },
   {
    "duration": 2468,
    "start_time": "2023-04-17T05:32:42.364Z"
   },
   {
    "duration": 3657,
    "start_time": "2023-04-17T05:32:44.834Z"
   },
   {
    "duration": 4,
    "start_time": "2023-04-17T05:32:48.493Z"
   },
   {
    "duration": 16,
    "start_time": "2023-04-17T05:32:48.499Z"
   },
   {
    "duration": 25,
    "start_time": "2023-04-17T05:32:48.516Z"
   },
   {
    "duration": 27,
    "start_time": "2023-04-17T05:32:48.543Z"
   },
   {
    "duration": 4,
    "start_time": "2023-04-17T05:32:48.572Z"
   },
   {
    "duration": 10,
    "start_time": "2023-04-17T05:32:48.577Z"
   },
   {
    "duration": 11,
    "start_time": "2023-04-17T05:32:48.589Z"
   },
   {
    "duration": 11,
    "start_time": "2023-04-17T05:32:48.602Z"
   },
   {
    "duration": 170,
    "start_time": "2023-04-17T05:32:48.614Z"
   },
   {
    "duration": 5,
    "start_time": "2023-04-17T05:32:48.787Z"
   },
   {
    "duration": 14,
    "start_time": "2023-04-17T05:32:48.794Z"
   },
   {
    "duration": 22,
    "start_time": "2023-04-17T05:32:48.809Z"
   },
   {
    "duration": 8,
    "start_time": "2023-04-17T05:32:48.833Z"
   },
   {
    "duration": 79,
    "start_time": "2023-04-17T05:32:48.843Z"
   },
   {
    "duration": 2,
    "start_time": "2023-04-17T05:32:48.924Z"
   },
   {
    "duration": 43,
    "start_time": "2023-04-17T05:32:48.927Z"
   },
   {
    "duration": 20,
    "start_time": "2023-04-17T05:32:48.972Z"
   },
   {
    "duration": 11,
    "start_time": "2023-04-17T05:32:48.994Z"
   },
   {
    "duration": 5,
    "start_time": "2023-04-17T05:32:49.007Z"
   },
   {
    "duration": 1832,
    "start_time": "2023-04-17T05:32:49.013Z"
   },
   {
    "duration": 4,
    "start_time": "2023-04-17T05:32:50.847Z"
   },
   {
    "duration": 5985,
    "start_time": "2023-04-17T05:32:50.852Z"
   },
   {
    "duration": 8,
    "start_time": "2023-04-17T05:32:56.840Z"
   },
   {
    "duration": 13653,
    "start_time": "2023-04-17T05:32:56.850Z"
   },
   {
    "duration": 3,
    "start_time": "2023-04-17T05:33:10.505Z"
   },
   {
    "duration": 31,
    "start_time": "2023-04-17T05:33:10.510Z"
   },
   {
    "duration": 168,
    "start_time": "2023-04-17T05:33:10.543Z"
   },
   {
    "duration": 24,
    "start_time": "2023-04-17T05:33:10.713Z"
   },
   {
    "duration": 247,
    "start_time": "2023-04-17T05:33:10.741Z"
   }
  ],
  "kernelspec": {
   "display_name": "Python 3 (ipykernel)",
   "language": "python",
   "name": "python3"
  },
  "language_info": {
   "codemirror_mode": {
    "name": "ipython",
    "version": 3
   },
   "file_extension": ".py",
   "mimetype": "text/x-python",
   "name": "python",
   "nbconvert_exporter": "python",
   "pygments_lexer": "ipython3",
   "version": "3.9.13"
  },
  "toc": {
   "base_numbering": 1,
   "nav_menu": {},
   "number_sections": true,
   "sideBar": true,
   "skip_h1_title": true,
   "title_cell": "Table of Contents",
   "title_sidebar": "Contents",
   "toc_cell": false,
   "toc_position": {},
   "toc_section_display": true,
   "toc_window_display": false
  }
 },
 "nbformat": 4,
 "nbformat_minor": 2
}

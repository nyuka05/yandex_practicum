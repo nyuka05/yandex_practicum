{
 "cells": [
  {
   "cell_type": "markdown",
   "metadata": {},
   "source": [
    "#  Прогнозирование заказов такси"
   ]
  },
  {
   "cell_type": "markdown",
   "metadata": {},
   "source": [
    "Компания «Чётенькое такси» собрала исторические данные о заказах такси в аэропортах. Чтобы привлекать больше водителей в период пиковой нагрузки, нужно спрогнозировать количество заказов такси на следующий час. Постройте модель для такого предсказания.\n",
    "\n",
    "Значение метрики *RMSE* на тестовой выборке должно быть не больше 48.\n",
    "\n",
    "Вам нужно:\n",
    "\n",
    "1. Загрузить данные и выполнить их ресемплирование по одному часу.\n",
    "2. Проанализировать данные.\n",
    "3. Обучить разные модели с различными гиперпараметрами. Сделать тестовую выборку размером 10% от исходных данных.\n",
    "4. Проверить данные на тестовой выборке и сделать выводы.\n",
    "\n",
    "\n",
    "Данные лежат в файле `taxi.csv`. Количество заказов находится в столбце `num_orders` (от англ. *number of orders*, «число заказов»)."
   ]
  },
  {
   "cell_type": "markdown",
   "metadata": {},
   "source": [
    "## Подготовка"
   ]
  },
  {
   "cell_type": "code",
   "execution_count": 1,
   "metadata": {},
   "outputs": [],
   "source": [
    "import pandas as pd\n",
    "from sklearn.ensemble import RandomForestRegressor\n",
    "from sklearn.model_selection import train_test_split\n",
    "from sklearn.metrics import mean_squared_error\n",
    "from sklearn.preprocessing import OrdinalEncoder\n",
    "import numpy as np\n",
    "from sklearn.preprocessing import OneHotEncoder\n",
    "import seaborn as sns\n",
    "from catboost import CatBoostRegressor\n",
    "from sklearn.model_selection import GridSearchCV\n",
    "import lightgbm as lgb\n",
    "from sklearn.model_selection import cross_val_score\n",
    "from sklearn.linear_model import LinearRegression\n",
    "from statsmodels.tsa.seasonal import seasonal_decompose\n",
    "import matplotlib.pyplot as plt\n",
    "from sklearn.model_selection import TimeSeriesSplit"
   ]
  },
  {
   "cell_type": "code",
   "execution_count": 2,
   "metadata": {},
   "outputs": [],
   "source": [
    "pd.set_option('display.max_rows', None)\n",
    "pd.set_option('display.max_columns', None)"
   ]
  },
  {
   "cell_type": "code",
   "execution_count": 3,
   "metadata": {},
   "outputs": [],
   "source": [
    "taxi = pd.read_csv('/datasets/taxi.csv', index_col=[0], parse_dates=[0])\n",
    "taxi.sort_index(inplace=True)\n"
   ]
  },
  {
   "cell_type": "code",
   "execution_count": 4,
   "metadata": {},
   "outputs": [
    {
     "name": "stdout",
     "output_type": "stream",
     "text": [
      "<class 'pandas.core.frame.DataFrame'>\n",
      "DatetimeIndex: 26496 entries, 2018-03-01 00:00:00 to 2018-08-31 23:50:00\n",
      "Data columns (total 1 columns):\n",
      " #   Column      Non-Null Count  Dtype\n",
      "---  ------      --------------  -----\n",
      " 0   num_orders  26496 non-null  int64\n",
      "dtypes: int64(1)\n",
      "memory usage: 414.0 KB\n"
     ]
    }
   ],
   "source": [
    "taxi.info()"
   ]
  },
  {
   "cell_type": "code",
   "execution_count": 5,
   "metadata": {},
   "outputs": [
    {
     "data": {
      "text/html": [
       "<div>\n",
       "<style scoped>\n",
       "    .dataframe tbody tr th:only-of-type {\n",
       "        vertical-align: middle;\n",
       "    }\n",
       "\n",
       "    .dataframe tbody tr th {\n",
       "        vertical-align: top;\n",
       "    }\n",
       "\n",
       "    .dataframe thead th {\n",
       "        text-align: right;\n",
       "    }\n",
       "</style>\n",
       "<table border=\"1\" class=\"dataframe\">\n",
       "  <thead>\n",
       "    <tr style=\"text-align: right;\">\n",
       "      <th></th>\n",
       "      <th>num_orders</th>\n",
       "    </tr>\n",
       "    <tr>\n",
       "      <th>datetime</th>\n",
       "      <th></th>\n",
       "    </tr>\n",
       "  </thead>\n",
       "  <tbody>\n",
       "    <tr>\n",
       "      <th>2018-03-01 00:00:00</th>\n",
       "      <td>9</td>\n",
       "    </tr>\n",
       "    <tr>\n",
       "      <th>2018-03-01 00:10:00</th>\n",
       "      <td>14</td>\n",
       "    </tr>\n",
       "    <tr>\n",
       "      <th>2018-03-01 00:20:00</th>\n",
       "      <td>28</td>\n",
       "    </tr>\n",
       "    <tr>\n",
       "      <th>2018-03-01 00:30:00</th>\n",
       "      <td>20</td>\n",
       "    </tr>\n",
       "    <tr>\n",
       "      <th>2018-03-01 00:40:00</th>\n",
       "      <td>32</td>\n",
       "    </tr>\n",
       "  </tbody>\n",
       "</table>\n",
       "</div>"
      ],
      "text/plain": [
       "                     num_orders\n",
       "datetime                       \n",
       "2018-03-01 00:00:00           9\n",
       "2018-03-01 00:10:00          14\n",
       "2018-03-01 00:20:00          28\n",
       "2018-03-01 00:30:00          20\n",
       "2018-03-01 00:40:00          32"
      ]
     },
     "execution_count": 5,
     "metadata": {},
     "output_type": "execute_result"
    }
   ],
   "source": [
    "taxi.head()"
   ]
  },
  {
   "cell_type": "code",
   "execution_count": 6,
   "metadata": {},
   "outputs": [
    {
     "data": {
      "text/html": [
       "<div>\n",
       "<style scoped>\n",
       "    .dataframe tbody tr th:only-of-type {\n",
       "        vertical-align: middle;\n",
       "    }\n",
       "\n",
       "    .dataframe tbody tr th {\n",
       "        vertical-align: top;\n",
       "    }\n",
       "\n",
       "    .dataframe thead th {\n",
       "        text-align: right;\n",
       "    }\n",
       "</style>\n",
       "<table border=\"1\" class=\"dataframe\">\n",
       "  <thead>\n",
       "    <tr style=\"text-align: right;\">\n",
       "      <th></th>\n",
       "      <th>num_orders</th>\n",
       "    </tr>\n",
       "    <tr>\n",
       "      <th>datetime</th>\n",
       "      <th></th>\n",
       "    </tr>\n",
       "  </thead>\n",
       "  <tbody>\n",
       "    <tr>\n",
       "      <th>2018-08-31 23:10:00</th>\n",
       "      <td>32</td>\n",
       "    </tr>\n",
       "    <tr>\n",
       "      <th>2018-08-31 23:20:00</th>\n",
       "      <td>24</td>\n",
       "    </tr>\n",
       "    <tr>\n",
       "      <th>2018-08-31 23:30:00</th>\n",
       "      <td>27</td>\n",
       "    </tr>\n",
       "    <tr>\n",
       "      <th>2018-08-31 23:40:00</th>\n",
       "      <td>39</td>\n",
       "    </tr>\n",
       "    <tr>\n",
       "      <th>2018-08-31 23:50:00</th>\n",
       "      <td>53</td>\n",
       "    </tr>\n",
       "  </tbody>\n",
       "</table>\n",
       "</div>"
      ],
      "text/plain": [
       "                     num_orders\n",
       "datetime                       \n",
       "2018-08-31 23:10:00          32\n",
       "2018-08-31 23:20:00          24\n",
       "2018-08-31 23:30:00          27\n",
       "2018-08-31 23:40:00          39\n",
       "2018-08-31 23:50:00          53"
      ]
     },
     "execution_count": 6,
     "metadata": {},
     "output_type": "execute_result"
    }
   ],
   "source": [
    "taxi.tail()"
   ]
  },
  {
   "cell_type": "code",
   "execution_count": 7,
   "metadata": {},
   "outputs": [],
   "source": [
    "taxi_h = taxi.resample('1H').sum()"
   ]
  },
  {
   "cell_type": "markdown",
   "metadata": {},
   "source": [
    "В ходе первичного анализа можно отметить, что данные предоставлены с 1 марта 2018 года до 31 августа 2018 за каждые 10 минут. Укрупнили разбег времени в 1 час. "
   ]
  },
  {
   "cell_type": "markdown",
   "metadata": {},
   "source": [
    "## Анализ"
   ]
  },
  {
   "cell_type": "code",
   "execution_count": 8,
   "metadata": {},
   "outputs": [
    {
     "name": "stdout",
     "output_type": "stream",
     "text": [
      "<class 'pandas.core.frame.DataFrame'>\n",
      "DatetimeIndex: 4416 entries, 2018-03-01 00:00:00 to 2018-08-31 23:00:00\n",
      "Freq: H\n",
      "Data columns (total 1 columns):\n",
      " #   Column      Non-Null Count  Dtype\n",
      "---  ------      --------------  -----\n",
      " 0   num_orders  4416 non-null   int64\n",
      "dtypes: int64(1)\n",
      "memory usage: 69.0 KB\n"
     ]
    }
   ],
   "source": [
    "taxi_h.info()"
   ]
  },
  {
   "cell_type": "code",
   "execution_count": 9,
   "metadata": {},
   "outputs": [
    {
     "data": {
      "text/html": [
       "<div>\n",
       "<style scoped>\n",
       "    .dataframe tbody tr th:only-of-type {\n",
       "        vertical-align: middle;\n",
       "    }\n",
       "\n",
       "    .dataframe tbody tr th {\n",
       "        vertical-align: top;\n",
       "    }\n",
       "\n",
       "    .dataframe thead th {\n",
       "        text-align: right;\n",
       "    }\n",
       "</style>\n",
       "<table border=\"1\" class=\"dataframe\">\n",
       "  <thead>\n",
       "    <tr style=\"text-align: right;\">\n",
       "      <th></th>\n",
       "      <th>num_orders</th>\n",
       "    </tr>\n",
       "    <tr>\n",
       "      <th>datetime</th>\n",
       "      <th></th>\n",
       "    </tr>\n",
       "  </thead>\n",
       "  <tbody>\n",
       "    <tr>\n",
       "      <th>2018-03-01 00:00:00</th>\n",
       "      <td>124</td>\n",
       "    </tr>\n",
       "    <tr>\n",
       "      <th>2018-03-01 01:00:00</th>\n",
       "      <td>85</td>\n",
       "    </tr>\n",
       "    <tr>\n",
       "      <th>2018-03-01 02:00:00</th>\n",
       "      <td>71</td>\n",
       "    </tr>\n",
       "    <tr>\n",
       "      <th>2018-03-01 03:00:00</th>\n",
       "      <td>66</td>\n",
       "    </tr>\n",
       "    <tr>\n",
       "      <th>2018-03-01 04:00:00</th>\n",
       "      <td>43</td>\n",
       "    </tr>\n",
       "  </tbody>\n",
       "</table>\n",
       "</div>"
      ],
      "text/plain": [
       "                     num_orders\n",
       "datetime                       \n",
       "2018-03-01 00:00:00         124\n",
       "2018-03-01 01:00:00          85\n",
       "2018-03-01 02:00:00          71\n",
       "2018-03-01 03:00:00          66\n",
       "2018-03-01 04:00:00          43"
      ]
     },
     "execution_count": 9,
     "metadata": {},
     "output_type": "execute_result"
    }
   ],
   "source": [
    "taxi_h.head()"
   ]
  },
  {
   "cell_type": "code",
   "execution_count": 10,
   "metadata": {},
   "outputs": [
    {
     "data": {
      "text/html": [
       "<div>\n",
       "<style scoped>\n",
       "    .dataframe tbody tr th:only-of-type {\n",
       "        vertical-align: middle;\n",
       "    }\n",
       "\n",
       "    .dataframe tbody tr th {\n",
       "        vertical-align: top;\n",
       "    }\n",
       "\n",
       "    .dataframe thead th {\n",
       "        text-align: right;\n",
       "    }\n",
       "</style>\n",
       "<table border=\"1\" class=\"dataframe\">\n",
       "  <thead>\n",
       "    <tr style=\"text-align: right;\">\n",
       "      <th></th>\n",
       "      <th>num_orders</th>\n",
       "    </tr>\n",
       "  </thead>\n",
       "  <tbody>\n",
       "    <tr>\n",
       "      <th>count</th>\n",
       "      <td>4416.000000</td>\n",
       "    </tr>\n",
       "    <tr>\n",
       "      <th>mean</th>\n",
       "      <td>84.422781</td>\n",
       "    </tr>\n",
       "    <tr>\n",
       "      <th>std</th>\n",
       "      <td>45.023853</td>\n",
       "    </tr>\n",
       "    <tr>\n",
       "      <th>min</th>\n",
       "      <td>0.000000</td>\n",
       "    </tr>\n",
       "    <tr>\n",
       "      <th>25%</th>\n",
       "      <td>54.000000</td>\n",
       "    </tr>\n",
       "    <tr>\n",
       "      <th>50%</th>\n",
       "      <td>78.000000</td>\n",
       "    </tr>\n",
       "    <tr>\n",
       "      <th>75%</th>\n",
       "      <td>107.000000</td>\n",
       "    </tr>\n",
       "    <tr>\n",
       "      <th>max</th>\n",
       "      <td>462.000000</td>\n",
       "    </tr>\n",
       "  </tbody>\n",
       "</table>\n",
       "</div>"
      ],
      "text/plain": [
       "        num_orders\n",
       "count  4416.000000\n",
       "mean     84.422781\n",
       "std      45.023853\n",
       "min       0.000000\n",
       "25%      54.000000\n",
       "50%      78.000000\n",
       "75%     107.000000\n",
       "max     462.000000"
      ]
     },
     "execution_count": 10,
     "metadata": {},
     "output_type": "execute_result"
    }
   ],
   "source": [
    "taxi_h.describe()"
   ]
  },
  {
   "cell_type": "code",
   "execution_count": 11,
   "metadata": {},
   "outputs": [
    {
     "data": {
      "image/png": "[encoded data removed]",
      "text/plain": [
       "<Figure size 432x288 with 1 Axes>"
      ]
     },
     "metadata": {
      "needs_background": "light"
     },
     "output_type": "display_data"
    }
   ],
   "source": [
    "taxi_h.plot()\n",
    "plt.title('Общая динамика количества заказов');"
   ]
  },
  {
   "cell_type": "code",
   "execution_count": 12,
   "metadata": {},
   "outputs": [
    {
     "data": {
      "image/png": "[encoded data removed]",
      "text/plain": [
       "<Figure size 432x288 with 1 Axes>"
      ]
     },
     "metadata": {
      "needs_background": "light"
     },
     "output_type": "display_data"
    }
   ],
   "source": [
    "taxi_h['2018-04-02':'2018-04-08'].plot()\n",
    "plt.title('Динамика количества заказов в течении 1 недели');"
   ]
  },
  {
   "cell_type": "code",
   "execution_count": 13,
   "metadata": {},
   "outputs": [
    {
     "data": {
      "image/png": "[encoded data removed]",
      "text/plain": [
       "<Figure size 432x288 with 1 Axes>"
      ]
     },
     "metadata": {
      "needs_background": "light"
     },
     "output_type": "display_data"
    }
   ],
   "source": [
    "taxi_h['2018-04-01':'2018-04-30'].plot()\n",
    "plt.title('Динамика количества заказов в течении 1 месяца');"
   ]
  },
  {
   "cell_type": "markdown",
   "metadata": {},
   "source": [
    "В ходе первичного анализа можно отметить, что данные предоставлены с 1 марта 2018 года до 31 августа 2018 за каждые 10 минут. Укрупнили разбег времени в 1 час.\n",
    "В ходе первичного анализа можно сделать следующие выводы:\n",
    "1.\tПри укрупнении данных в итоге предоставили данные о заказах такси за 4416 часов\n",
    "2.\tПо графику видно, что количество заказов в августе сравнительно больше, отмечается корреляция по дням недели, дням, часам.\n",
    "3.\tСреднее число заказов в час составляет 84.\n",
    "4.\tМаксимальное количество заказов 462.\n",
    "Для дальнейшего предсказания  можно отметить, что наибольшим влиянием оказывает месяц и день недели.\n"
   ]
  },
  {
   "cell_type": "code",
   "execution_count": 14,
   "metadata": {},
   "outputs": [],
   "source": [
    "decomposed = seasonal_decompose(taxi_h)"
   ]
  },
  {
   "cell_type": "code",
   "execution_count": 15,
   "metadata": {},
   "outputs": [
    {
     "data": {
      "image/png": "[encoded data removed]",
      "text/plain": [
       "<Figure size 432x576 with 3 Axes>"
      ]
     },
     "metadata": {
      "needs_background": "light"
     },
     "output_type": "display_data"
    }
   ],
   "source": [
    "plt.figure(figsize=(6, 8))\n",
    "plt.subplot(311)\n",
    "decomposed.trend.plot()\n",
    "plt.title('Trend')\n",
    "plt.subplot(312)\n",
    "decomposed.seasonal.plot() \n",
    "plt.title('Seasonality')\n",
    "plt.subplot(313)\n",
    "decomposed.resid.plot() \n",
    "plt.title('Residuals')\n",
    "plt.tight_layout()"
   ]
  },
  {
   "cell_type": "markdown",
   "metadata": {},
   "source": [
    "Отмечается восходящий тренд начиная с мая. При анализе остатков отмечаются выпадающие значения в августе, эти данные приходятся на тестовую выборку, что может привести к сниженю качества модели на тестовой выборке. Сезонность можно оценить только при укрупнении данных. "
   ]
  },
  {
   "cell_type": "code",
   "execution_count": 16,
   "metadata": {},
   "outputs": [
    {
     "data": {
      "image/png": "[encoded data removed]",
      "text/plain": [
       "<Figure size 432x288 with 1 Axes>"
      ]
     },
     "metadata": {
      "needs_background": "light"
     },
     "output_type": "display_data"
    }
   ],
   "source": [
    "decomposed.seasonal['2018-04-02':'2018-04-03'].plot()\n",
    "plt.title('Сезонность в течении дня');"
   ]
  },
  {
   "cell_type": "markdown",
   "metadata": {},
   "source": [
    "в ходе изучения количества заказов по часам можно отметить: \n",
    "    \n",
    "1. с 00.00 до 6.00 количество заказов уменьшается\n",
    "    \n",
    "2. Количество заказов значительно увеличивается с 6.00 до 11.00 (многие предпочитают такси, чтобы добраться до работы)\n",
    "    \n",
    "3. С 12.00 до 16.00 количество заказов падает\n",
    "    \n",
    "4. с 17.00 до 24.00  количество заказов значительно увеличивается\n"
   ]
  },
  {
   "cell_type": "code",
   "execution_count": 17,
   "metadata": {},
   "outputs": [
    {
     "data": {
      "image/png": "[encoded data removed]",
      "text/plain": [
       "<Figure size 432x288 with 1 Axes>"
      ]
     },
     "metadata": {
      "needs_background": "light"
     },
     "output_type": "display_data"
    }
   ],
   "source": [
    "taxi_d = taxi.resample('1D').sum()\n",
    "decomposed_d = seasonal_decompose(taxi_d)\n",
    "decomposed_d.seasonal['2018-04-01':'2018-04-09'].plot()\n",
    "plt.title('Сезонность в течении недели по дням');"
   ]
  },
  {
   "cell_type": "markdown",
   "metadata": {},
   "source": [
    "в ходе изучения количества заказов по дням недели можно отметить: \n",
    "    \n",
    "1. в пн (02.04) идет увеличение числа заказов\n",
    "    \n",
    "2. ВТ значительное снижение числа заказов\n",
    "    \n",
    "3. С чт по пт увеличение числа заказов\n",
    "    \n",
    "4. в выходные число заказов снижается\n"
   ]
  },
  {
   "cell_type": "code",
   "execution_count": 18,
   "metadata": {},
   "outputs": [],
   "source": [
    "def make_features(df, max_lag, rolling_mean_size):\n",
    "    #df['month'] = df.index.month\n",
    "    df['day'] = df.index.day\n",
    "    df['dayofweek'] = df.index.dayofweek\n",
    "    df['hour'] = df.index.hour\n",
    "\n",
    "    for lag in range(1, max_lag + 1):\n",
    "        df['lag_{}'.format(lag)] = df['num_orders'].shift(lag)\n",
    "\n",
    "    df['rolling_mean'] = df['num_orders'].shift().rolling(rolling_mean_size).mean()\n",
    "    df = df.dropna()"
   ]
  },
  {
   "cell_type": "code",
   "execution_count": 19,
   "metadata": {},
   "outputs": [],
   "source": [
    "make_features(taxi_h, 50, 5)"
   ]
  },
  {
   "cell_type": "code",
   "execution_count": 20,
   "metadata": {},
   "outputs": [],
   "source": [
    "train, test = train_test_split(taxi_h, shuffle=False, test_size=0.1)"
   ]
  },
  {
   "cell_type": "code",
   "execution_count": 21,
   "metadata": {},
   "outputs": [],
   "source": [
    "train = train.dropna()\n",
    "target_train = train['num_orders']\n",
    "target_test = test['num_orders']"
   ]
  },
  {
   "cell_type": "code",
   "execution_count": 22,
   "metadata": {},
   "outputs": [],
   "source": [
    "train = train.drop(columns = 'num_orders')\n",
    "test = test.drop(columns = 'num_orders')"
   ]
  },
  {
   "cell_type": "markdown",
   "metadata": {},
   "source": [
    "## Обучение"
   ]
  },
  {
   "cell_type": "code",
   "execution_count": 23,
   "metadata": {},
   "outputs": [
    {
     "data": {
      "text/plain": [
       "23.432796560781412"
      ]
     },
     "execution_count": 23,
     "metadata": {},
     "output_type": "execute_result"
    }
   ],
   "source": [
    "a = {'n_jobs':[-1, None]}\n",
    "tscv = TimeSeriesSplit(n_splits=10)\n",
    "LR = GridSearchCV(estimator = LinearRegression(), cv=tscv, param_grid =a,  verbose=False, scoring='neg_mean_squared_error')\n",
    "LR.fit(train, target_train)\n",
    "pred_train_LR = LR.predict(train)\n",
    "RMSE_LR = mean_squared_error(target_train, pred_train_LR) ** 0.5\n",
    "RMSE_LR"
   ]
  },
  {
   "cell_type": "code",
   "execution_count": 24,
   "metadata": {},
   "outputs": [],
   "source": [
    "params_cat = {'iterations': [100], 'depth':[10, 12]}\n",
    "#cat = GridSearchCV(estimator = CatBoostRegressor(), param_grid = params_cat, cv=tscv, verbose=False, scoring='neg_mean_squared_error')\n",
    "#cat.fit(train, target_train)\n",
    "\n",
    "#cat.best_params_"
   ]
  },
  {
   "cell_type": "code",
   "execution_count": 25,
   "metadata": {},
   "outputs": [
    {
     "data": {
      "text/plain": [
       "5.233151534851547"
      ]
     },
     "execution_count": 25,
     "metadata": {},
     "output_type": "execute_result"
    }
   ],
   "source": [
    "cat = CatBoostRegressor(iterations = 100, depth = 10,  verbose=False)\n",
    "cat.fit(train, target_train)\n",
    "pred_train_CB = cat.predict(train)\n",
    "RMSE_CB = mean_squared_error(target_train, pred_train_CB) ** 0.5\n",
    "RMSE_CB"
   ]
  },
  {
   "cell_type": "code",
   "execution_count": 26,
   "metadata": {},
   "outputs": [],
   "source": [
    "params_RFR = {'n_estimators': [50, 70, 100], 'max_depth': [5, 10]}\n",
    "\n",
    "#RFR = GridSearchCV(estimator = RandomForestRegressor(), param_grid = params_RFR, cv=tscv, n_jobs=-1, verbose=1)\n",
    "#RFR.fit(train, target_train)\n",
    "#RFR.best_params_"
   ]
  },
  {
   "cell_type": "code",
   "execution_count": 27,
   "metadata": {},
   "outputs": [
    {
     "data": {
      "text/plain": [
       "13.291032669865661"
      ]
     },
     "execution_count": 27,
     "metadata": {},
     "output_type": "execute_result"
    }
   ],
   "source": [
    "RFR = RandomForestRegressor(random_state=12345, n_estimators=100, max_depth=10)\n",
    "RFR.fit(train, target_train)\n",
    "pred_train_RFR = RFR.predict(train)\n",
    "RMSE_RFR = mean_squared_error(target_train, pred_train_RFR) ** 0.5\n",
    "RMSE_RFR"
   ]
  },
  {
   "cell_type": "code",
   "execution_count": 28,
   "metadata": {},
   "outputs": [
    {
     "data": {
      "text/html": [
       "<div>\n",
       "<style scoped>\n",
       "    .dataframe tbody tr th:only-of-type {\n",
       "        vertical-align: middle;\n",
       "    }\n",
       "\n",
       "    .dataframe tbody tr th {\n",
       "        vertical-align: top;\n",
       "    }\n",
       "\n",
       "    .dataframe thead th {\n",
       "        text-align: right;\n",
       "    }\n",
       "</style>\n",
       "<table border=\"1\" class=\"dataframe\">\n",
       "  <thead>\n",
       "    <tr style=\"text-align: right;\">\n",
       "      <th></th>\n",
       "      <th>RMSE</th>\n",
       "    </tr>\n",
       "  </thead>\n",
       "  <tbody>\n",
       "    <tr>\n",
       "      <th>CatBoost</th>\n",
       "      <td>5.233152</td>\n",
       "    </tr>\n",
       "    <tr>\n",
       "      <th>LR</th>\n",
       "      <td>23.432797</td>\n",
       "    </tr>\n",
       "    <tr>\n",
       "      <th>RFR</th>\n",
       "      <td>13.291033</td>\n",
       "    </tr>\n",
       "  </tbody>\n",
       "</table>\n",
       "</div>"
      ],
      "text/plain": [
       "               RMSE\n",
       "CatBoost   5.233152\n",
       "LR        23.432797\n",
       "RFR       13.291033"
      ]
     },
     "execution_count": 28,
     "metadata": {},
     "output_type": "execute_result"
    }
   ],
   "source": [
    "summ = pd.DataFrame(\n",
    "    {'RMSE': [RMSE_CB, RMSE_LR, RMSE_RFR]},\n",
    "     index = ['CatBoost', 'LR', 'RFR'])\n",
    "summ"
   ]
  },
  {
   "cell_type": "markdown",
   "metadata": {},
   "source": [
    "В ходе подбора гиперпараметров были протестированы следующме модели:\n",
    "1. Линейная регрессия RMSE = 23\n",
    "2. Случайный лес (random_state=12345, n_estimators=100, max_depth=10) RMSE = 13\n",
    "3. CatBoost (iterations = 100, depth = 12) RMSE = 5\n",
    "\n",
    "Наилучшая модель для прогноза:  \n",
    "CB = CatBoostRegressor(iterations = 100, depth = 10,  verbose=False)"
   ]
  },
  {
   "cell_type": "markdown",
   "metadata": {},
   "source": [
    "## Тестирование"
   ]
  },
  {
   "cell_type": "code",
   "execution_count": 29,
   "metadata": {},
   "outputs": [
    {
     "data": {
      "text/plain": [
       "45.63644159406504"
      ]
     },
     "execution_count": 29,
     "metadata": {},
     "output_type": "execute_result"
    }
   ],
   "source": [
    "pred_test_CB = cat.predict(test)\n",
    "RMSE_CB = mean_squared_error(target_test, pred_test_CB) ** 0.5\n",
    "RMSE_CB"
   ]
  },
  {
   "cell_type": "markdown",
   "metadata": {},
   "source": [
    "Результат метрики RMSE на тестовой выборке удовлетворительный. \n",
    "Подобраная модель: CatBoostRegressor(iterations = 100, depth = 10,  verbose=False) прошла тестирование. "
   ]
  },
  {
   "cell_type": "markdown",
   "metadata": {},
   "source": [
    "### Проверка модели на адекватность"
   ]
  },
  {
   "cell_type": "code",
   "execution_count": 30,
   "metadata": {},
   "outputs": [
    {
     "data": {
      "text/plain": [
       "58.856486242815066"
      ]
     },
     "execution_count": 30,
     "metadata": {},
     "output_type": "execute_result"
    }
   ],
   "source": [
    "pred_previous = target_test.shift()\n",
    "pred_previous.iloc[0] = target_train.iloc[-1]\n",
    "RMSE_previous = mean_squared_error(target_test, pred_previous) ** 0.5\n",
    "RMSE_previous"
   ]
  },
  {
   "cell_type": "markdown",
   "metadata": {},
   "source": [
    "В сравнении с моделью, которая предсказывает значение по предыдущему, у выбранной модели прогноза результат значительно лучше"
   ]
  },
  {
   "cell_type": "markdown",
   "metadata": {},
   "source": [
    "### Общий вывод:"
   ]
  },
  {
   "cell_type": "markdown",
   "metadata": {},
   "source": [
    "В ходе первичного анализа можно отметить, что данные предоставлены с 1 марта 2018 года до 31 августа 2018 за каждые 10 минут. Укрупнили разбег времени в 1 час.\n",
    "В ходе первичного анализа можно сделать следующие выводы:\n",
    "\n",
    "1.\tПри укрупнении данных в итоге предоставили данные о заказах такси за 4416 часов\n",
    "2.\tПо графику видно, что количество заказов в августе сравнительно больше, отмечается корреляция по дням недели, дням, часам.\n",
    "3.\tСреднее число заказов в час составляет 84.\n",
    "4.\tМаксимальное количество заказов 462.\n",
    "\n",
    "\n",
    "в ходе изучения количества заказов по часам можно отметить: \n",
    "1. с 00.00 до 6.00 количество заказов уменьшается\n",
    "2. Количество заказов значительно увеличивается с 6.00 до 11.00 (многие предпочитают такси, чтобы добраться до работы)\n",
    "3. С 12.00 до 16.00 количество заказов падает\n",
    "4. с 17.00 до 24.00  количество заказов значительно увеличивается\n",
    "\n",
    "\n",
    "в ходе изучения количества заказов по дням недели можно отметить: \n",
    "1. в пн (02.04) идет увеличение числа заказов\n",
    "2. ВТ значительное снижение числа заказов\n",
    "3. С чт по пт увеличение числа заказов\n",
    "4. в выходные число заказов снижается\n",
    "\n",
    "В ходе подбора гиперпараметров были протестированы следующие модели:\\\n",
    "1. Линейная регрессия RMSE = 23\n",
    "2. Случайный лес (random_state=12345, n_estimators=100, max_depth=10) RMSE = 13\n",
    "3. CatBoost (iterations = 100, depth = 12) RMSE = 5\n",
    "\n",
    "\n",
    "Наилучшая модель для прогноза:  \n",
    "CB = CatBoostRegressor(iterations = 100, depth = 10,  verbose=False)\n",
    "\n",
    "Результат метрики RMSE на тестовой выборке удовлетворительный(45). \n",
    "Подобраная модель: CatBoostRegressor(iterations = 100, depth = 10, verbose=False) прошла тестирование.\n",
    "\n",
    "Произведена проверка модели на адекватность. У выбранной модели результат лучше, чем у модели, которая предсказывает предыдущее значение. "
   ]
  }
 ],
 "metadata": {
  "ExecuteTimeLog": [
   {
    "duration": 50,
    "start_time": "2023-01-31T16:19:53.560Z"
   },
   {
    "duration": 1652,
    "start_time": "2023-01-31T16:20:36.102Z"
   },
   {
    "duration": 3,
    "start_time": "2023-01-31T16:20:38.274Z"
   },
   {
    "duration": 133,
    "start_time": "2023-01-31T16:20:38.983Z"
   },
   {
    "duration": 13,
    "start_time": "2023-01-31T16:20:39.705Z"
   },
   {
    "duration": 11,
    "start_time": "2023-01-31T16:20:49.551Z"
   },
   {
    "duration": 15,
    "start_time": "2023-01-31T16:20:54.933Z"
   },
   {
    "duration": 41,
    "start_time": "2023-01-31T16:22:37.662Z"
   },
   {
    "duration": 10,
    "start_time": "2023-01-31T16:22:38.890Z"
   },
   {
    "duration": 7,
    "start_time": "2023-01-31T16:22:43.677Z"
   },
   {
    "duration": 11,
    "start_time": "2023-01-31T16:22:57.589Z"
   },
   {
    "duration": 42,
    "start_time": "2023-01-31T16:23:37.839Z"
   },
   {
    "duration": 9,
    "start_time": "2023-01-31T16:23:39.065Z"
   },
   {
    "duration": 6,
    "start_time": "2023-01-31T16:23:40.721Z"
   },
   {
    "duration": 125,
    "start_time": "2023-01-31T16:24:46.357Z"
   },
   {
    "duration": 59,
    "start_time": "2023-01-31T16:24:53.407Z"
   },
   {
    "duration": 10,
    "start_time": "2023-01-31T16:24:54.487Z"
   },
   {
    "duration": 7,
    "start_time": "2023-01-31T16:24:55.285Z"
   },
   {
    "duration": 9,
    "start_time": "2023-01-31T16:25:05.547Z"
   },
   {
    "duration": 9,
    "start_time": "2023-01-31T16:25:06.743Z"
   },
   {
    "duration": 11,
    "start_time": "2023-01-31T16:25:11.816Z"
   },
   {
    "duration": 9,
    "start_time": "2023-01-31T16:26:32.360Z"
   },
   {
    "duration": 7,
    "start_time": "2023-01-31T16:26:33.196Z"
   },
   {
    "duration": 11,
    "start_time": "2023-01-31T16:26:33.669Z"
   },
   {
    "duration": 5,
    "start_time": "2023-01-31T16:26:34.243Z"
   },
   {
    "duration": 4,
    "start_time": "2023-01-31T16:27:04.206Z"
   },
   {
    "duration": 8,
    "start_time": "2023-01-31T16:27:04.803Z"
   },
   {
    "duration": 46,
    "start_time": "2023-01-31T16:27:32.368Z"
   },
   {
    "duration": 245,
    "start_time": "2023-01-31T16:28:39.648Z"
   },
   {
    "duration": 269,
    "start_time": "2023-01-31T16:29:44.054Z"
   },
   {
    "duration": 5,
    "start_time": "2023-01-31T16:30:59.221Z"
   },
   {
    "duration": 13,
    "start_time": "2023-02-01T10:45:35.196Z"
   },
   {
    "duration": 2838,
    "start_time": "2023-02-01T10:45:40.046Z"
   },
   {
    "duration": 4,
    "start_time": "2023-02-01T10:45:42.888Z"
   },
   {
    "duration": 199,
    "start_time": "2023-02-01T10:45:42.897Z"
   },
   {
    "duration": 16,
    "start_time": "2023-02-01T10:45:43.098Z"
   },
   {
    "duration": 16,
    "start_time": "2023-02-01T10:45:44.425Z"
   },
   {
    "duration": 20,
    "start_time": "2023-02-01T10:45:45.040Z"
   },
   {
    "duration": 371,
    "start_time": "2023-02-01T10:45:45.601Z"
   },
   {
    "duration": 6,
    "start_time": "2023-02-01T10:45:48.663Z"
   },
   {
    "duration": 923,
    "start_time": "2023-02-01T10:46:46.983Z"
   },
   {
    "duration": 5,
    "start_time": "2023-02-01T10:46:58.484Z"
   },
   {
    "duration": 13,
    "start_time": "2023-02-01T10:46:59.895Z"
   },
   {
    "duration": 2012,
    "start_time": "2023-02-01T10:47:28.697Z"
   },
   {
    "duration": 125,
    "start_time": "2023-02-01T10:55:30.611Z"
   },
   {
    "duration": 5,
    "start_time": "2023-02-01T10:55:36.165Z"
   },
   {
    "duration": 9,
    "start_time": "2023-02-01T10:55:36.728Z"
   },
   {
    "duration": 6,
    "start_time": "2023-02-01T10:55:37.151Z"
   },
   {
    "duration": 34,
    "start_time": "2023-02-01T10:55:38.998Z"
   },
   {
    "duration": 6220,
    "start_time": "2023-02-01T10:56:32.731Z"
   },
   {
    "duration": 1228,
    "start_time": "2023-02-01T10:57:39.541Z"
   },
   {
    "duration": 26,
    "start_time": "2023-02-01T11:04:16.236Z"
   },
   {
    "duration": 130,
    "start_time": "2023-02-01T11:04:22.898Z"
   },
   {
    "duration": 4627,
    "start_time": "2023-02-01T11:04:31.423Z"
   },
   {
    "duration": 7821,
    "start_time": "2023-02-01T11:04:37.498Z"
   },
   {
    "duration": 1299,
    "start_time": "2023-02-01T11:04:52.152Z"
   },
   {
    "duration": 1689,
    "start_time": "2023-02-01T11:08:30.560Z"
   },
   {
    "duration": 3,
    "start_time": "2023-02-01T11:08:32.251Z"
   },
   {
    "duration": 72,
    "start_time": "2023-02-01T11:08:32.257Z"
   },
   {
    "duration": 12,
    "start_time": "2023-02-01T11:08:32.331Z"
   },
   {
    "duration": 14,
    "start_time": "2023-02-01T11:08:32.345Z"
   },
   {
    "duration": 20,
    "start_time": "2023-02-01T11:08:32.360Z"
   },
   {
    "duration": 32,
    "start_time": "2023-02-01T11:08:32.381Z"
   },
   {
    "duration": 23,
    "start_time": "2023-02-01T11:08:32.417Z"
   },
   {
    "duration": 264,
    "start_time": "2023-02-01T11:08:32.442Z"
   },
   {
    "duration": 12,
    "start_time": "2023-02-01T11:08:32.712Z"
   },
   {
    "duration": 21,
    "start_time": "2023-02-01T11:08:32.728Z"
   },
   {
    "duration": 6,
    "start_time": "2023-02-01T11:08:32.751Z"
   },
   {
    "duration": 10,
    "start_time": "2023-02-01T11:08:32.759Z"
   },
   {
    "duration": 11,
    "start_time": "2023-02-01T11:08:32.772Z"
   },
   {
    "duration": 46,
    "start_time": "2023-02-01T11:08:32.785Z"
   },
   {
    "duration": 5991,
    "start_time": "2023-02-01T11:08:32.833Z"
   },
   {
    "duration": 981,
    "start_time": "2023-02-01T11:08:38.828Z"
   },
   {
    "duration": 12,
    "start_time": "2023-02-01T11:09:10.334Z"
   },
   {
    "duration": 15,
    "start_time": "2023-02-01T11:11:08.604Z"
   },
   {
    "duration": 9014,
    "start_time": "2023-02-01T11:31:37.739Z"
   },
   {
    "duration": 210,
    "start_time": "2023-02-01T11:33:18.161Z"
   },
   {
    "duration": 37852,
    "start_time": "2023-02-01T11:33:38.438Z"
   },
   {
    "duration": 86196,
    "start_time": "2023-02-01T11:34:22.980Z"
   },
   {
    "duration": 738,
    "start_time": "2023-02-01T11:37:24.185Z"
   },
   {
    "duration": 5873,
    "start_time": "2023-02-01T11:37:32.820Z"
   },
   {
    "duration": 69582,
    "start_time": "2023-02-01T11:38:29.794Z"
   },
   {
    "duration": 1743,
    "start_time": "2023-02-01T11:41:04.747Z"
   },
   {
    "duration": 8070,
    "start_time": "2023-02-01T11:41:11.540Z"
   },
   {
    "duration": 20622,
    "start_time": "2023-02-01T11:41:42.846Z"
   },
   {
    "duration": 19671,
    "start_time": "2023-02-01T11:45:30.345Z"
   },
   {
    "duration": 813,
    "start_time": "2023-02-01T11:46:10.743Z"
   },
   {
    "duration": 572,
    "start_time": "2023-02-01T11:46:19.537Z"
   },
   {
    "duration": 119867,
    "start_time": "2023-02-01T11:46:30.134Z"
   },
   {
    "duration": 0,
    "start_time": "2023-02-01T11:48:30.005Z"
   },
   {
    "duration": 19482,
    "start_time": "2023-02-01T11:48:32.453Z"
   },
   {
    "duration": 21233,
    "start_time": "2023-02-01T11:50:03.332Z"
   },
   {
    "duration": 6065,
    "start_time": "2023-02-01T11:50:35.135Z"
   },
   {
    "duration": 64,
    "start_time": "2023-02-01T11:52:05.533Z"
   },
   {
    "duration": 14,
    "start_time": "2023-02-01T11:52:14.229Z"
   },
   {
    "duration": 19,
    "start_time": "2023-02-01T11:52:26.433Z"
   },
   {
    "duration": 1116,
    "start_time": "2023-02-01T11:53:21.356Z"
   },
   {
    "duration": 4,
    "start_time": "2023-02-01T11:53:22.474Z"
   },
   {
    "duration": 14,
    "start_time": "2023-02-01T11:53:29.833Z"
   },
   {
    "duration": 20,
    "start_time": "2023-02-01T11:53:38.769Z"
   },
   {
    "duration": 19,
    "start_time": "2023-02-01T11:53:44.064Z"
   },
   {
    "duration": 7,
    "start_time": "2023-02-01T11:58:03.166Z"
   },
   {
    "duration": 11,
    "start_time": "2023-02-01T11:58:28.769Z"
   },
   {
    "duration": 7,
    "start_time": "2023-02-01T11:58:29.344Z"
   },
   {
    "duration": 9,
    "start_time": "2023-02-01T11:58:29.553Z"
   },
   {
    "duration": 5,
    "start_time": "2023-02-01T11:58:29.844Z"
   },
   {
    "duration": 13,
    "start_time": "2023-02-01T11:58:36.267Z"
   },
   {
    "duration": 4,
    "start_time": "2023-02-01T11:58:44.871Z"
   },
   {
    "duration": 10740,
    "start_time": "2023-02-01T11:58:46.665Z"
   },
   {
    "duration": 12366,
    "start_time": "2023-02-01T11:59:13.351Z"
   },
   {
    "duration": 6,
    "start_time": "2023-02-01T11:59:25.724Z"
   },
   {
    "duration": 1570,
    "start_time": "2023-02-01T11:59:25.733Z"
   },
   {
    "duration": 33,
    "start_time": "2023-02-01T11:59:27.312Z"
   },
   {
    "duration": 10,
    "start_time": "2023-02-01T11:59:35.057Z"
   },
   {
    "duration": 10,
    "start_time": "2023-02-01T12:00:28.719Z"
   },
   {
    "duration": 7,
    "start_time": "2023-02-01T12:00:29.243Z"
   },
   {
    "duration": 9,
    "start_time": "2023-02-01T12:00:29.529Z"
   },
   {
    "duration": 6,
    "start_time": "2023-02-01T12:00:29.777Z"
   },
   {
    "duration": 170,
    "start_time": "2023-02-01T12:00:30.743Z"
   },
   {
    "duration": 6,
    "start_time": "2023-02-01T12:00:31.006Z"
   },
   {
    "duration": 10045,
    "start_time": "2023-02-01T12:00:31.221Z"
   },
   {
    "duration": 4,
    "start_time": "2023-02-01T12:00:41.268Z"
   },
   {
    "duration": 1485,
    "start_time": "2023-02-01T12:00:41.274Z"
   },
   {
    "duration": 9,
    "start_time": "2023-02-01T12:00:42.761Z"
   },
   {
    "duration": 10,
    "start_time": "2023-02-01T12:00:46.049Z"
   },
   {
    "duration": 661,
    "start_time": "2023-02-01T12:01:15.176Z"
   },
   {
    "duration": 9,
    "start_time": "2023-02-01T12:01:21.027Z"
   },
   {
    "duration": 11,
    "start_time": "2023-02-01T12:01:38.232Z"
   },
   {
    "duration": 5,
    "start_time": "2023-02-01T12:01:40.959Z"
   },
   {
    "duration": 8,
    "start_time": "2023-02-01T12:01:41.283Z"
   },
   {
    "duration": 5,
    "start_time": "2023-02-01T12:01:41.627Z"
   },
   {
    "duration": 88,
    "start_time": "2023-02-01T12:01:43.424Z"
   },
   {
    "duration": 4,
    "start_time": "2023-02-01T12:01:44.830Z"
   },
   {
    "duration": 540,
    "start_time": "2023-02-01T12:01:45.732Z"
   },
   {
    "duration": 3,
    "start_time": "2023-02-01T12:01:47.625Z"
   },
   {
    "duration": 2064,
    "start_time": "2023-02-01T12:01:47.926Z"
   },
   {
    "duration": 10,
    "start_time": "2023-02-01T12:01:54.368Z"
   },
   {
    "duration": 8,
    "start_time": "2023-02-01T12:01:57.166Z"
   },
   {
    "duration": 22,
    "start_time": "2023-02-01T12:02:12.075Z"
   },
   {
    "duration": 7,
    "start_time": "2023-02-01T12:02:20.866Z"
   },
   {
    "duration": 13346,
    "start_time": "2023-02-01T12:02:32.872Z"
   },
   {
    "duration": 7,
    "start_time": "2023-02-01T12:02:51.929Z"
   },
   {
    "duration": 13823,
    "start_time": "2023-02-01T12:03:45.556Z"
   },
   {
    "duration": 100573,
    "start_time": "2023-02-01T12:04:14.126Z"
   },
   {
    "duration": 10,
    "start_time": "2023-02-01T12:05:59.040Z"
   },
   {
    "duration": 12,
    "start_time": "2023-02-01T12:06:04.331Z"
   },
   {
    "duration": 5,
    "start_time": "2023-02-01T12:06:04.642Z"
   },
   {
    "duration": 8,
    "start_time": "2023-02-01T12:06:04.924Z"
   },
   {
    "duration": 6,
    "start_time": "2023-02-01T12:06:05.222Z"
   },
   {
    "duration": 183,
    "start_time": "2023-02-01T12:06:09.423Z"
   },
   {
    "duration": 12952,
    "start_time": "2023-02-01T12:06:26.669Z"
   },
   {
    "duration": 19198,
    "start_time": "2023-02-01T12:06:49.727Z"
   },
   {
    "duration": 1178,
    "start_time": "2023-02-01T12:07:17.322Z"
   },
   {
    "duration": 3588,
    "start_time": "2023-02-01T12:07:25.923Z"
   },
   {
    "duration": 797,
    "start_time": "2023-02-01T12:07:36.746Z"
   },
   {
    "duration": 871,
    "start_time": "2023-02-01T12:07:43.724Z"
   },
   {
    "duration": 888,
    "start_time": "2023-02-01T12:07:49.430Z"
   },
   {
    "duration": 931,
    "start_time": "2023-02-01T12:07:54.130Z"
   },
   {
    "duration": 1097,
    "start_time": "2023-02-01T12:08:02.947Z"
   },
   {
    "duration": 829,
    "start_time": "2023-02-01T12:08:10.315Z"
   },
   {
    "duration": 1013,
    "start_time": "2023-02-01T12:08:59.839Z"
   },
   {
    "duration": 1009,
    "start_time": "2023-02-01T12:09:16.141Z"
   },
   {
    "duration": 727,
    "start_time": "2023-02-01T12:09:28.527Z"
   },
   {
    "duration": 10,
    "start_time": "2023-02-01T12:09:55.140Z"
   },
   {
    "duration": 24,
    "start_time": "2023-02-01T12:10:09.354Z"
   },
   {
    "duration": 14,
    "start_time": "2023-02-01T12:13:00.058Z"
   },
   {
    "duration": 7,
    "start_time": "2023-02-01T12:13:00.518Z"
   },
   {
    "duration": 8,
    "start_time": "2023-02-01T12:13:00.856Z"
   },
   {
    "duration": 7,
    "start_time": "2023-02-01T12:13:01.280Z"
   },
   {
    "duration": 57,
    "start_time": "2023-02-01T12:13:05.356Z"
   },
   {
    "duration": 713,
    "start_time": "2023-02-01T12:13:17.940Z"
   },
   {
    "duration": 1725,
    "start_time": "2023-02-02T07:58:52.848Z"
   },
   {
    "duration": 2,
    "start_time": "2023-02-02T07:58:54.575Z"
   },
   {
    "duration": 137,
    "start_time": "2023-02-02T07:58:54.579Z"
   },
   {
    "duration": 15,
    "start_time": "2023-02-02T07:58:54.719Z"
   },
   {
    "duration": 11,
    "start_time": "2023-02-02T07:58:54.736Z"
   },
   {
    "duration": 8,
    "start_time": "2023-02-02T07:58:54.749Z"
   },
   {
    "duration": 12,
    "start_time": "2023-02-02T07:58:54.758Z"
   },
   {
    "duration": 15,
    "start_time": "2023-02-02T07:58:54.772Z"
   },
   {
    "duration": 23,
    "start_time": "2023-02-02T07:58:54.788Z"
   },
   {
    "duration": 26,
    "start_time": "2023-02-02T07:58:54.815Z"
   },
   {
    "duration": 252,
    "start_time": "2023-02-02T07:58:54.842Z"
   },
   {
    "duration": 4,
    "start_time": "2023-02-02T07:58:55.096Z"
   },
   {
    "duration": 35,
    "start_time": "2023-02-02T07:58:55.102Z"
   },
   {
    "duration": 6,
    "start_time": "2023-02-02T07:58:55.140Z"
   },
   {
    "duration": 10,
    "start_time": "2023-02-02T07:58:55.147Z"
   },
   {
    "duration": 6,
    "start_time": "2023-02-02T07:58:55.159Z"
   },
   {
    "duration": 274,
    "start_time": "2023-02-02T07:58:55.167Z"
   },
   {
    "duration": 3,
    "start_time": "2023-02-02T07:58:55.443Z"
   },
   {
    "duration": 999,
    "start_time": "2023-02-02T07:58:55.447Z"
   },
   {
    "duration": 3,
    "start_time": "2023-02-02T07:58:56.448Z"
   },
   {
    "duration": 1935,
    "start_time": "2023-02-02T07:58:56.453Z"
   },
   {
    "duration": 9,
    "start_time": "2023-02-02T07:58:58.390Z"
   },
   {
    "duration": 58,
    "start_time": "2023-02-02T07:58:58.402Z"
   },
   {
    "duration": 5,
    "start_time": "2023-02-02T07:59:28.526Z"
   },
   {
    "duration": 11,
    "start_time": "2023-02-02T07:59:29.020Z"
   },
   {
    "duration": 6,
    "start_time": "2023-02-02T07:59:29.402Z"
   },
   {
    "duration": 8,
    "start_time": "2023-02-02T07:59:29.784Z"
   },
   {
    "duration": 6,
    "start_time": "2023-02-02T07:59:30.193Z"
   },
   {
    "duration": 10,
    "start_time": "2023-02-02T07:59:47.384Z"
   },
   {
    "duration": 6,
    "start_time": "2023-02-02T07:59:47.836Z"
   },
   {
    "duration": 7,
    "start_time": "2023-02-02T07:59:48.248Z"
   },
   {
    "duration": 5,
    "start_time": "2023-02-02T07:59:48.625Z"
   },
   {
    "duration": 41,
    "start_time": "2023-02-02T07:59:53.197Z"
   },
   {
    "duration": 3,
    "start_time": "2023-02-02T07:59:55.506Z"
   },
   {
    "duration": 1514,
    "start_time": "2023-02-02T07:59:56.030Z"
   },
   {
    "duration": 7981,
    "start_time": "2023-02-02T08:00:07.846Z"
   },
   {
    "duration": 4092,
    "start_time": "2023-02-02T08:00:26.634Z"
   },
   {
    "duration": 11,
    "start_time": "2023-02-02T08:00:56.236Z"
   },
   {
    "duration": 5,
    "start_time": "2023-02-02T08:00:56.667Z"
   },
   {
    "duration": 6,
    "start_time": "2023-02-02T08:00:57.036Z"
   },
   {
    "duration": 5,
    "start_time": "2023-02-02T08:00:57.401Z"
   },
   {
    "duration": 118,
    "start_time": "2023-02-02T08:00:59.119Z"
   },
   {
    "duration": 2,
    "start_time": "2023-02-02T08:01:00.118Z"
   },
   {
    "duration": 3656,
    "start_time": "2023-02-02T08:01:00.642Z"
   },
   {
    "duration": 14,
    "start_time": "2023-02-02T08:01:26.171Z"
   },
   {
    "duration": 2010,
    "start_time": "2023-02-02T08:01:48.058Z"
   },
   {
    "duration": 17,
    "start_time": "2023-02-02T08:02:55.146Z"
   },
   {
    "duration": 6,
    "start_time": "2023-02-02T08:02:56.089Z"
   },
   {
    "duration": 9,
    "start_time": "2023-02-02T08:02:56.538Z"
   },
   {
    "duration": 6,
    "start_time": "2023-02-02T08:02:56.899Z"
   },
   {
    "duration": 154,
    "start_time": "2023-02-02T08:02:58.400Z"
   },
   {
    "duration": 3,
    "start_time": "2023-02-02T08:02:59.369Z"
   },
   {
    "duration": 5705,
    "start_time": "2023-02-02T08:02:59.916Z"
   },
   {
    "duration": 3,
    "start_time": "2023-02-02T08:03:05.623Z"
   },
   {
    "duration": 3181,
    "start_time": "2023-02-02T08:03:05.628Z"
   },
   {
    "duration": 4,
    "start_time": "2023-02-02T08:04:33.789Z"
   },
   {
    "duration": 11,
    "start_time": "2023-02-02T08:04:34.219Z"
   },
   {
    "duration": 6,
    "start_time": "2023-02-02T08:04:34.822Z"
   },
   {
    "duration": 8,
    "start_time": "2023-02-02T08:04:35.208Z"
   },
   {
    "duration": 5,
    "start_time": "2023-02-02T08:04:35.599Z"
   },
   {
    "duration": 224,
    "start_time": "2023-02-02T08:04:37.019Z"
   },
   {
    "duration": 4,
    "start_time": "2023-02-02T08:04:37.987Z"
   },
   {
    "duration": 5571,
    "start_time": "2023-02-02T08:04:38.809Z"
   },
   {
    "duration": 3,
    "start_time": "2023-02-02T08:04:44.383Z"
   },
   {
    "duration": 3129,
    "start_time": "2023-02-02T08:04:44.389Z"
   },
   {
    "duration": 5,
    "start_time": "2023-02-02T08:05:04.447Z"
   },
   {
    "duration": 16,
    "start_time": "2023-02-02T08:05:04.892Z"
   },
   {
    "duration": 6,
    "start_time": "2023-02-02T08:05:05.289Z"
   },
   {
    "duration": 8,
    "start_time": "2023-02-02T08:05:05.685Z"
   },
   {
    "duration": 6,
    "start_time": "2023-02-02T08:05:06.089Z"
   },
   {
    "duration": 209,
    "start_time": "2023-02-02T08:05:07.728Z"
   },
   {
    "duration": 3,
    "start_time": "2023-02-02T08:05:08.835Z"
   },
   {
    "duration": 5579,
    "start_time": "2023-02-02T08:05:09.699Z"
   },
   {
    "duration": 55934,
    "start_time": "2023-02-02T08:05:20.892Z"
   },
   {
    "duration": 44997,
    "start_time": "2023-02-02T08:08:16.108Z"
   },
   {
    "duration": 670093,
    "start_time": "2023-02-02T08:09:02.872Z"
   },
   {
    "duration": 11426,
    "start_time": "2023-02-02T08:20:17.824Z"
   },
   {
    "duration": 0,
    "start_time": "2023-02-02T08:20:29.252Z"
   },
   {
    "duration": 757314,
    "start_time": "2023-02-02T08:20:31.038Z"
   },
   {
    "duration": 103667,
    "start_time": "2023-02-02T08:33:17.686Z"
   },
   {
    "duration": 19830,
    "start_time": "2023-02-02T08:35:49.229Z"
   },
   {
    "duration": 8,
    "start_time": "2023-02-02T08:36:58.875Z"
   },
   {
    "duration": 29,
    "start_time": "2023-02-02T08:37:10.784Z"
   },
   {
    "duration": 33,
    "start_time": "2023-02-02T08:37:37.926Z"
   },
   {
    "duration": 58,
    "start_time": "2023-02-02T08:38:27.655Z"
   },
   {
    "duration": 8,
    "start_time": "2023-02-02T08:39:11.870Z"
   },
   {
    "duration": 54,
    "start_time": "2023-02-02T08:39:20.281Z"
   },
   {
    "duration": 54,
    "start_time": "2023-02-02T08:39:36.635Z"
   },
   {
    "duration": 56,
    "start_time": "2023-02-02T08:39:51.338Z"
   },
   {
    "duration": 4,
    "start_time": "2023-02-02T08:39:51.872Z"
   },
   {
    "duration": 9,
    "start_time": "2023-02-02T08:39:53.606Z"
   },
   {
    "duration": 5,
    "start_time": "2023-02-02T08:40:00.022Z"
   },
   {
    "duration": 139,
    "start_time": "2023-02-02T08:40:04.712Z"
   },
   {
    "duration": 8,
    "start_time": "2023-02-02T08:43:07.739Z"
   },
   {
    "duration": 7,
    "start_time": "2023-02-02T08:43:38.203Z"
   },
   {
    "duration": 7,
    "start_time": "2023-02-02T08:44:43.264Z"
   },
   {
    "duration": 17,
    "start_time": "2023-02-02T08:44:50.208Z"
   },
   {
    "duration": 5,
    "start_time": "2023-02-02T08:45:14.087Z"
   },
   {
    "duration": 81,
    "start_time": "2023-02-02T08:45:14.695Z"
   },
   {
    "duration": 6,
    "start_time": "2023-02-02T08:45:16.162Z"
   },
   {
    "duration": 9,
    "start_time": "2023-02-02T08:45:16.695Z"
   },
   {
    "duration": 5,
    "start_time": "2023-02-02T08:45:17.128Z"
   },
   {
    "duration": 187,
    "start_time": "2023-02-02T08:45:18.954Z"
   },
   {
    "duration": 25,
    "start_time": "2023-02-02T08:45:53.182Z"
   },
   {
    "duration": 7,
    "start_time": "2023-02-02T08:45:53.557Z"
   },
   {
    "duration": 9,
    "start_time": "2023-02-02T08:45:54.068Z"
   },
   {
    "duration": 6,
    "start_time": "2023-02-02T08:45:54.507Z"
   },
   {
    "duration": 145,
    "start_time": "2023-02-02T08:45:56.198Z"
   },
   {
    "duration": 4,
    "start_time": "2023-02-02T08:46:13.190Z"
   },
   {
    "duration": 26,
    "start_time": "2023-02-02T08:46:13.722Z"
   },
   {
    "duration": 5,
    "start_time": "2023-02-02T08:46:14.116Z"
   },
   {
    "duration": 9,
    "start_time": "2023-02-02T08:46:14.518Z"
   },
   {
    "duration": 7,
    "start_time": "2023-02-02T08:46:14.924Z"
   },
   {
    "duration": 93,
    "start_time": "2023-02-02T08:46:16.651Z"
   },
   {
    "duration": 22835,
    "start_time": "2023-02-02T08:46:33.305Z"
   },
   {
    "duration": 4,
    "start_time": "2023-02-02T08:46:56.142Z"
   },
   {
    "duration": 14091,
    "start_time": "2023-02-02T08:46:56.148Z"
   },
   {
    "duration": 4,
    "start_time": "2023-02-02T08:47:27.290Z"
   },
   {
    "duration": 24,
    "start_time": "2023-02-02T08:47:28.152Z"
   },
   {
    "duration": 7,
    "start_time": "2023-02-02T08:47:28.816Z"
   },
   {
    "duration": 10,
    "start_time": "2023-02-02T08:47:29.176Z"
   },
   {
    "duration": 9,
    "start_time": "2023-02-02T08:47:29.550Z"
   },
   {
    "duration": 180,
    "start_time": "2023-02-02T08:47:30.556Z"
   },
   {
    "duration": 5,
    "start_time": "2023-02-02T08:47:51.499Z"
   },
   {
    "duration": 23,
    "start_time": "2023-02-02T08:47:52.248Z"
   },
   {
    "duration": 6,
    "start_time": "2023-02-02T08:47:52.714Z"
   },
   {
    "duration": 9,
    "start_time": "2023-02-02T08:47:53.082Z"
   },
   {
    "duration": 8,
    "start_time": "2023-02-02T08:47:53.420Z"
   },
   {
    "duration": 221,
    "start_time": "2023-02-02T08:47:55.320Z"
   },
   {
    "duration": 187,
    "start_time": "2023-02-02T08:49:30.394Z"
   },
   {
    "duration": 336,
    "start_time": "2023-02-02T08:50:44.282Z"
   },
   {
    "duration": 189,
    "start_time": "2023-02-02T08:51:38.009Z"
   },
   {
    "duration": 342,
    "start_time": "2023-02-02T08:51:43.632Z"
   },
   {
    "duration": 197,
    "start_time": "2023-02-02T08:52:39.126Z"
   },
   {
    "duration": 319,
    "start_time": "2023-02-02T08:52:44.988Z"
   },
   {
    "duration": 150,
    "start_time": "2023-02-02T08:53:45.739Z"
   },
   {
    "duration": 236,
    "start_time": "2023-02-02T08:54:07.873Z"
   },
   {
    "duration": 2790,
    "start_time": "2023-02-02T08:54:13.686Z"
   },
   {
    "duration": 9,
    "start_time": "2023-02-02T08:54:32.708Z"
   },
   {
    "duration": 162,
    "start_time": "2023-02-02T08:54:36.566Z"
   },
   {
    "duration": 239,
    "start_time": "2023-02-02T08:54:42.845Z"
   },
   {
    "duration": 1548,
    "start_time": "2023-02-02T08:56:24.020Z"
   },
   {
    "duration": 3,
    "start_time": "2023-02-02T08:56:25.571Z"
   },
   {
    "duration": 89,
    "start_time": "2023-02-02T08:56:25.576Z"
   },
   {
    "duration": 12,
    "start_time": "2023-02-02T08:56:25.667Z"
   },
   {
    "duration": 17,
    "start_time": "2023-02-02T08:56:25.681Z"
   },
   {
    "duration": 7,
    "start_time": "2023-02-02T08:56:25.699Z"
   },
   {
    "duration": 28,
    "start_time": "2023-02-02T08:56:25.708Z"
   },
   {
    "duration": 14,
    "start_time": "2023-02-02T08:56:25.738Z"
   },
   {
    "duration": 11,
    "start_time": "2023-02-02T08:56:25.754Z"
   },
   {
    "duration": 19,
    "start_time": "2023-02-02T08:56:25.767Z"
   },
   {
    "duration": 273,
    "start_time": "2023-02-02T08:56:25.787Z"
   },
   {
    "duration": 116,
    "start_time": "2023-02-02T08:56:26.062Z"
   },
   {
    "duration": 275,
    "start_time": "2023-02-02T08:56:26.180Z"
   },
   {
    "duration": 259,
    "start_time": "2023-02-02T08:56:26.458Z"
   },
   {
    "duration": 4,
    "start_time": "2023-02-02T08:56:26.719Z"
   },
   {
    "duration": 65,
    "start_time": "2023-02-02T08:56:26.725Z"
   },
   {
    "duration": 5,
    "start_time": "2023-02-02T08:56:26.792Z"
   },
   {
    "duration": 12,
    "start_time": "2023-02-02T08:56:26.798Z"
   },
   {
    "duration": 25,
    "start_time": "2023-02-02T08:56:26.811Z"
   },
   {
    "duration": 109,
    "start_time": "2023-02-02T08:56:26.838Z"
   },
   {
    "duration": 88,
    "start_time": "2023-02-02T08:56:26.950Z"
   },
   {
    "duration": 12338,
    "start_time": "2023-02-02T08:56:27.040Z"
   },
   {
    "duration": 3,
    "start_time": "2023-02-02T08:56:39.381Z"
   },
   {
    "duration": 7246,
    "start_time": "2023-02-02T08:56:39.386Z"
   },
   {
    "duration": 8,
    "start_time": "2023-02-02T08:56:46.634Z"
   },
   {
    "duration": 26,
    "start_time": "2023-02-02T08:56:46.644Z"
   },
   {
    "duration": 9,
    "start_time": "2023-02-02T08:59:08.748Z"
   },
   {
    "duration": 1562,
    "start_time": "2023-02-02T09:03:53.304Z"
   },
   {
    "duration": 3,
    "start_time": "2023-02-02T09:03:54.870Z"
   },
   {
    "duration": 57,
    "start_time": "2023-02-02T09:03:54.875Z"
   },
   {
    "duration": 12,
    "start_time": "2023-02-02T09:03:54.934Z"
   },
   {
    "duration": 25,
    "start_time": "2023-02-02T09:03:54.949Z"
   },
   {
    "duration": 10,
    "start_time": "2023-02-02T09:03:54.977Z"
   },
   {
    "duration": 22,
    "start_time": "2023-02-02T09:03:54.989Z"
   },
   {
    "duration": 35,
    "start_time": "2023-02-02T09:03:55.014Z"
   },
   {
    "duration": 18,
    "start_time": "2023-02-02T09:03:55.051Z"
   },
   {
    "duration": 31,
    "start_time": "2023-02-02T09:03:55.073Z"
   },
   {
    "duration": 271,
    "start_time": "2023-02-02T09:03:55.106Z"
   },
   {
    "duration": 118,
    "start_time": "2023-02-02T09:03:55.380Z"
   },
   {
    "duration": 261,
    "start_time": "2023-02-02T09:03:55.500Z"
   },
   {
    "duration": 220,
    "start_time": "2023-02-02T09:03:55.763Z"
   },
   {
    "duration": 4,
    "start_time": "2023-02-02T09:03:55.984Z"
   },
   {
    "duration": 62,
    "start_time": "2023-02-02T09:03:55.990Z"
   },
   {
    "duration": 4,
    "start_time": "2023-02-02T09:03:56.054Z"
   },
   {
    "duration": 11,
    "start_time": "2023-02-02T09:03:56.060Z"
   },
   {
    "duration": 5,
    "start_time": "2023-02-02T09:03:56.072Z"
   },
   {
    "duration": 264,
    "start_time": "2023-02-02T09:03:56.078Z"
   },
   {
    "duration": 6,
    "start_time": "2023-02-02T09:03:56.344Z"
   },
   {
    "duration": 12550,
    "start_time": "2023-02-02T09:03:56.351Z"
   },
   {
    "duration": 3,
    "start_time": "2023-02-02T09:04:08.903Z"
   },
   {
    "duration": 7332,
    "start_time": "2023-02-02T09:04:08.907Z"
   },
   {
    "duration": 8,
    "start_time": "2023-02-02T09:04:16.241Z"
   },
   {
    "duration": 24,
    "start_time": "2023-02-02T09:04:16.251Z"
   },
   {
    "duration": 125,
    "start_time": "2023-02-02T09:04:31.308Z"
   },
   {
    "duration": 51,
    "start_time": "2023-02-03T11:15:30.364Z"
   },
   {
    "duration": 2044,
    "start_time": "2023-02-03T11:15:48.491Z"
   },
   {
    "duration": 110,
    "start_time": "2023-02-03T11:16:03.905Z"
   },
   {
    "duration": 3,
    "start_time": "2023-02-03T11:16:11.836Z"
   },
   {
    "duration": 195,
    "start_time": "2023-02-03T11:16:12.094Z"
   },
   {
    "duration": 12,
    "start_time": "2023-02-03T11:16:12.593Z"
   },
   {
    "duration": 14,
    "start_time": "2023-02-03T11:16:12.858Z"
   },
   {
    "duration": 9,
    "start_time": "2023-02-03T11:16:13.088Z"
   },
   {
    "duration": 12,
    "start_time": "2023-02-03T11:16:13.367Z"
   },
   {
    "duration": 10,
    "start_time": "2023-02-03T11:16:14.898Z"
   },
   {
    "duration": 11,
    "start_time": "2023-02-03T11:16:15.262Z"
   },
   {
    "duration": 22,
    "start_time": "2023-02-03T11:16:15.529Z"
   },
   {
    "duration": 312,
    "start_time": "2023-02-03T11:16:15.787Z"
   },
   {
    "duration": 316,
    "start_time": "2023-02-03T11:16:16.314Z"
   },
   {
    "duration": 249,
    "start_time": "2023-02-03T11:16:16.996Z"
   },
   {
    "duration": 7,
    "start_time": "2023-02-03T11:16:19.020Z"
   },
   {
    "duration": 695,
    "start_time": "2023-02-03T11:16:20.083Z"
   },
   {
    "duration": 247,
    "start_time": "2023-02-03T11:16:46.707Z"
   },
   {
    "duration": 393,
    "start_time": "2023-02-03T11:17:09.490Z"
   },
   {
    "duration": 356,
    "start_time": "2023-02-03T11:17:35.064Z"
   },
   {
    "duration": 862,
    "start_time": "2023-02-03T11:18:32.815Z"
   },
   {
    "duration": 523,
    "start_time": "2023-02-03T11:19:08.415Z"
   },
   {
    "duration": 1056,
    "start_time": "2023-02-03T11:19:18.558Z"
   },
   {
    "duration": 807,
    "start_time": "2023-02-03T11:19:31.101Z"
   },
   {
    "duration": 8,
    "start_time": "2023-02-03T11:23:07.770Z"
   },
   {
    "duration": 857,
    "start_time": "2023-02-03T11:23:08.513Z"
   },
   {
    "duration": 167,
    "start_time": "2023-02-03T11:25:23.750Z"
   },
   {
    "duration": 292,
    "start_time": "2023-02-03T11:25:38.412Z"
   },
   {
    "duration": 166,
    "start_time": "2023-02-03T11:25:56.560Z"
   },
   {
    "duration": 154,
    "start_time": "2023-02-03T11:26:03.156Z"
   },
   {
    "duration": 203,
    "start_time": "2023-02-03T11:27:01.565Z"
   },
   {
    "duration": 183,
    "start_time": "2023-02-03T11:27:42.554Z"
   },
   {
    "duration": 249,
    "start_time": "2023-02-03T11:27:55.320Z"
   },
   {
    "duration": 233,
    "start_time": "2023-02-03T11:29:16.933Z"
   },
   {
    "duration": 259,
    "start_time": "2023-02-03T11:30:37.101Z"
   },
   {
    "duration": 242,
    "start_time": "2023-02-03T11:30:55.009Z"
   },
   {
    "duration": 187,
    "start_time": "2023-02-03T11:32:01.644Z"
   },
   {
    "duration": 238,
    "start_time": "2023-02-03T11:33:00.467Z"
   },
   {
    "duration": 218,
    "start_time": "2023-02-03T11:37:55.018Z"
   },
   {
    "duration": 229,
    "start_time": "2023-02-03T11:38:10.157Z"
   },
   {
    "duration": 222,
    "start_time": "2023-02-03T11:44:47.826Z"
   },
   {
    "duration": 317,
    "start_time": "2023-02-03T11:44:55.637Z"
   },
   {
    "duration": 214,
    "start_time": "2023-02-03T11:45:42.284Z"
   },
   {
    "duration": 144,
    "start_time": "2023-02-03T11:45:50.577Z"
   },
   {
    "duration": 162,
    "start_time": "2023-02-03T11:46:58.223Z"
   },
   {
    "duration": 137,
    "start_time": "2023-02-03T11:47:09.848Z"
   },
   {
    "duration": 167,
    "start_time": "2023-02-03T11:47:54.737Z"
   },
   {
    "duration": 161,
    "start_time": "2023-02-03T11:48:14.674Z"
   },
   {
    "duration": 241,
    "start_time": "2023-02-03T11:55:27.654Z"
   },
   {
    "duration": 184,
    "start_time": "2023-02-03T11:55:49.656Z"
   },
   {
    "duration": 4,
    "start_time": "2023-02-03T11:56:26.727Z"
   },
   {
    "duration": 6,
    "start_time": "2023-02-03T12:06:23.731Z"
   },
   {
    "duration": 2,
    "start_time": "2023-02-03T12:06:24.347Z"
   },
   {
    "duration": 48,
    "start_time": "2023-02-03T12:06:24.652Z"
   },
   {
    "duration": 10,
    "start_time": "2023-02-03T12:06:25.206Z"
   },
   {
    "duration": 9,
    "start_time": "2023-02-03T12:06:25.467Z"
   },
   {
    "duration": 8,
    "start_time": "2023-02-03T12:06:25.741Z"
   },
   {
    "duration": 7,
    "start_time": "2023-02-03T12:06:26.008Z"
   },
   {
    "duration": 11,
    "start_time": "2023-02-03T12:06:27.095Z"
   },
   {
    "duration": 8,
    "start_time": "2023-02-03T12:06:27.395Z"
   },
   {
    "duration": 13,
    "start_time": "2023-02-03T12:06:27.682Z"
   },
   {
    "duration": 240,
    "start_time": "2023-02-03T12:06:27.971Z"
   },
   {
    "duration": 171,
    "start_time": "2023-02-03T12:06:29.441Z"
   },
   {
    "duration": 224,
    "start_time": "2023-02-03T12:06:29.960Z"
   },
   {
    "duration": 8,
    "start_time": "2023-02-03T12:06:31.996Z"
   },
   {
    "duration": 865,
    "start_time": "2023-02-03T12:06:32.578Z"
   },
   {
    "duration": 154,
    "start_time": "2023-02-03T12:06:33.615Z"
   },
   {
    "duration": 160,
    "start_time": "2023-02-03T12:06:34.380Z"
   },
   {
    "duration": 5,
    "start_time": "2023-02-03T12:06:37.431Z"
   },
   {
    "duration": 56,
    "start_time": "2023-02-03T12:06:39.029Z"
   },
   {
    "duration": 5,
    "start_time": "2023-02-03T12:06:40.645Z"
   },
   {
    "duration": 8,
    "start_time": "2023-02-03T12:06:43.803Z"
   },
   {
    "duration": 6,
    "start_time": "2023-02-03T12:06:44.743Z"
   },
   {
    "duration": 199,
    "start_time": "2023-02-03T12:06:45.345Z"
   },
   {
    "duration": 4,
    "start_time": "2023-02-03T12:07:09.392Z"
   },
   {
    "duration": 481243,
    "start_time": "2023-02-03T12:07:21.084Z"
   },
   {
    "duration": 14,
    "start_time": "2023-02-03T12:15:32.847Z"
   },
   {
    "duration": 19,
    "start_time": "2023-02-03T12:15:39.426Z"
   },
   {
    "duration": 16,
    "start_time": "2023-02-03T12:18:21.071Z"
   },
   {
    "duration": 14,
    "start_time": "2023-02-03T12:19:30.183Z"
   },
   {
    "duration": 25,
    "start_time": "2023-02-03T12:20:05.439Z"
   },
   {
    "duration": 55,
    "start_time": "2023-02-03T14:40:02.685Z"
   },
   {
    "duration": 2170,
    "start_time": "2023-02-03T14:40:12.092Z"
   },
   {
    "duration": 3,
    "start_time": "2023-02-03T14:40:14.265Z"
   },
   {
    "duration": 150,
    "start_time": "2023-02-03T14:40:14.270Z"
   },
   {
    "duration": 12,
    "start_time": "2023-02-03T14:40:14.422Z"
   },
   {
    "duration": 11,
    "start_time": "2023-02-03T14:40:15.301Z"
   },
   {
    "duration": 9,
    "start_time": "2023-02-03T14:40:15.530Z"
   },
   {
    "duration": 11,
    "start_time": "2023-02-03T14:40:15.764Z"
   },
   {
    "duration": 11,
    "start_time": "2023-02-03T14:40:16.759Z"
   },
   {
    "duration": 9,
    "start_time": "2023-02-03T14:40:17.011Z"
   },
   {
    "duration": 12,
    "start_time": "2023-02-03T14:40:17.230Z"
   },
   {
    "duration": 265,
    "start_time": "2023-02-03T14:40:17.665Z"
   },
   {
    "duration": 259,
    "start_time": "2023-02-03T14:40:18.589Z"
   },
   {
    "duration": 248,
    "start_time": "2023-02-03T14:40:18.852Z"
   },
   {
    "duration": 8,
    "start_time": "2023-02-03T14:40:20.435Z"
   },
   {
    "duration": 777,
    "start_time": "2023-02-03T14:40:20.699Z"
   },
   {
    "duration": 158,
    "start_time": "2023-02-03T14:40:21.572Z"
   },
   {
    "duration": 172,
    "start_time": "2023-02-03T14:40:22.581Z"
   },
   {
    "duration": 4,
    "start_time": "2023-02-03T14:40:23.964Z"
   },
   {
    "duration": 51,
    "start_time": "2023-02-03T14:40:26.550Z"
   },
   {
    "duration": 5,
    "start_time": "2023-02-03T14:40:26.939Z"
   },
   {
    "duration": 8,
    "start_time": "2023-02-03T14:40:28.079Z"
   },
   {
    "duration": 5,
    "start_time": "2023-02-03T14:40:29.177Z"
   },
   {
    "duration": 95,
    "start_time": "2023-02-03T14:40:30.421Z"
   },
   {
    "duration": 2975,
    "start_time": "2023-02-03T14:40:49.015Z"
   },
   {
    "duration": 4656,
    "start_time": "2023-02-03T14:41:20.333Z"
   },
   {
    "duration": 5595,
    "start_time": "2023-02-03T14:43:32.089Z"
   },
   {
    "duration": 463828,
    "start_time": "2023-02-03T14:43:38.499Z"
   },
   {
    "duration": 13,
    "start_time": "2023-02-03T15:05:09.649Z"
   },
   {
    "duration": 133973,
    "start_time": "2023-02-03T15:05:11.605Z"
   },
   {
    "duration": 51,
    "start_time": "2023-02-03T15:07:25.589Z"
   },
   {
    "duration": 8,
    "start_time": "2023-02-03T15:07:25.641Z"
   },
   {
    "duration": 9,
    "start_time": "2023-02-03T15:19:00.073Z"
   },
   {
    "duration": 17,
    "start_time": "2023-02-03T15:24:18.318Z"
   },
   {
    "duration": 5,
    "start_time": "2023-02-03T15:24:32.629Z"
   },
   {
    "duration": 11769,
    "start_time": "2023-02-03T15:40:17.972Z"
   },
   {
    "duration": 6,
    "start_time": "2023-02-03T15:42:27.640Z"
   },
   {
    "duration": 18,
    "start_time": "2023-02-03T15:46:33.407Z"
   },
   {
    "duration": 18,
    "start_time": "2023-02-03T15:46:45.474Z"
   },
   {
    "duration": 713,
    "start_time": "2023-02-03T15:47:02.409Z"
   },
   {
    "duration": 1467,
    "start_time": "2023-02-03T15:48:07.098Z"
   },
   {
    "duration": 3,
    "start_time": "2023-02-03T15:48:08.567Z"
   },
   {
    "duration": 49,
    "start_time": "2023-02-03T15:48:08.571Z"
   },
   {
    "duration": 12,
    "start_time": "2023-02-03T15:48:08.622Z"
   },
   {
    "duration": 11,
    "start_time": "2023-02-03T15:48:08.636Z"
   },
   {
    "duration": 7,
    "start_time": "2023-02-03T15:48:08.649Z"
   },
   {
    "duration": 27,
    "start_time": "2023-02-03T15:48:08.657Z"
   },
   {
    "duration": 11,
    "start_time": "2023-02-03T15:48:08.686Z"
   },
   {
    "duration": 11,
    "start_time": "2023-02-03T15:48:08.698Z"
   },
   {
    "duration": 16,
    "start_time": "2023-02-03T15:48:08.711Z"
   },
   {
    "duration": 264,
    "start_time": "2023-02-03T15:48:08.728Z"
   },
   {
    "duration": 178,
    "start_time": "2023-02-03T15:48:08.994Z"
   },
   {
    "duration": 313,
    "start_time": "2023-02-03T15:48:09.174Z"
   },
   {
    "duration": 7,
    "start_time": "2023-02-03T15:48:09.489Z"
   },
   {
    "duration": 813,
    "start_time": "2023-02-03T15:48:09.498Z"
   },
   {
    "duration": 160,
    "start_time": "2023-02-03T15:48:10.313Z"
   },
   {
    "duration": 174,
    "start_time": "2023-02-03T15:48:10.475Z"
   },
   {
    "duration": 5,
    "start_time": "2023-02-03T15:48:10.651Z"
   },
   {
    "duration": 66,
    "start_time": "2023-02-03T15:48:10.658Z"
   },
   {
    "duration": 6,
    "start_time": "2023-02-03T15:48:10.726Z"
   },
   {
    "duration": 9,
    "start_time": "2023-02-03T15:48:10.734Z"
   },
   {
    "duration": 6,
    "start_time": "2023-02-03T15:48:10.745Z"
   },
   {
    "duration": 3932,
    "start_time": "2023-02-03T15:48:10.753Z"
   },
   {
    "duration": 5,
    "start_time": "2023-02-03T15:48:14.687Z"
   },
   {
    "duration": 11537,
    "start_time": "2023-02-03T15:48:14.694Z"
   },
   {
    "duration": 24100,
    "start_time": "2023-02-03T15:48:26.233Z"
   },
   {
    "duration": 0,
    "start_time": "2023-02-03T15:48:50.336Z"
   },
   {
    "duration": 0,
    "start_time": "2023-02-03T15:48:50.338Z"
   },
   {
    "duration": 0,
    "start_time": "2023-02-03T15:48:50.339Z"
   },
   {
    "duration": 0,
    "start_time": "2023-02-03T15:48:50.341Z"
   },
   {
    "duration": 1502,
    "start_time": "2023-02-03T15:49:13.986Z"
   },
   {
    "duration": 2,
    "start_time": "2023-02-03T15:49:15.491Z"
   },
   {
    "duration": 60,
    "start_time": "2023-02-03T15:49:15.495Z"
   },
   {
    "duration": 11,
    "start_time": "2023-02-03T15:49:15.558Z"
   },
   {
    "duration": 12,
    "start_time": "2023-02-03T15:49:15.571Z"
   },
   {
    "duration": 10,
    "start_time": "2023-02-03T15:49:15.586Z"
   },
   {
    "duration": 12,
    "start_time": "2023-02-03T15:49:15.597Z"
   },
   {
    "duration": 10,
    "start_time": "2023-02-03T15:49:15.611Z"
   },
   {
    "duration": 11,
    "start_time": "2023-02-03T15:49:15.623Z"
   },
   {
    "duration": 18,
    "start_time": "2023-02-03T15:49:15.637Z"
   },
   {
    "duration": 279,
    "start_time": "2023-02-03T15:49:15.656Z"
   },
   {
    "duration": 187,
    "start_time": "2023-02-03T15:49:15.937Z"
   },
   {
    "duration": 319,
    "start_time": "2023-02-03T15:49:16.125Z"
   },
   {
    "duration": 8,
    "start_time": "2023-02-03T15:49:16.446Z"
   },
   {
    "duration": 735,
    "start_time": "2023-02-03T15:49:16.455Z"
   },
   {
    "duration": 164,
    "start_time": "2023-02-03T15:49:17.192Z"
   },
   {
    "duration": 161,
    "start_time": "2023-02-03T15:49:17.358Z"
   },
   {
    "duration": 4,
    "start_time": "2023-02-03T15:49:17.521Z"
   },
   {
    "duration": 101,
    "start_time": "2023-02-03T15:49:17.527Z"
   },
   {
    "duration": 5,
    "start_time": "2023-02-03T15:49:17.631Z"
   },
   {
    "duration": 23,
    "start_time": "2023-02-03T15:49:17.638Z"
   },
   {
    "duration": 6,
    "start_time": "2023-02-03T15:49:17.662Z"
   },
   {
    "duration": 4419,
    "start_time": "2023-02-03T15:49:17.670Z"
   },
   {
    "duration": 2,
    "start_time": "2023-02-03T15:49:22.185Z"
   },
   {
    "duration": 11412,
    "start_time": "2023-02-03T15:49:22.189Z"
   },
   {
    "duration": 3,
    "start_time": "2023-02-03T15:49:33.603Z"
   },
   {
    "duration": 7337,
    "start_time": "2023-02-03T15:49:33.608Z"
   },
   {
    "duration": 8,
    "start_time": "2023-02-03T15:49:40.948Z"
   },
   {
    "duration": 24,
    "start_time": "2023-02-03T15:49:40.957Z"
   },
   {
    "duration": 7,
    "start_time": "2023-02-03T15:49:40.982Z"
   }
  ],
  "kernelspec": {
   "display_name": "Python 3 (ipykernel)",
   "language": "python",
   "name": "python3"
  },
  "language_info": {
   "codemirror_mode": {
    "name": "ipython",
    "version": 3
   },
   "file_extension": ".py",
   "mimetype": "text/x-python",
   "name": "python",
   "nbconvert_exporter": "python",
   "pygments_lexer": "ipython3",
   "version": "3.9.13"
  },
  "toc": {
   "base_numbering": 1,
   "nav_menu": {},
   "number_sections": true,
   "sideBar": true,
   "skip_h1_title": true,
   "title_cell": "Содержание",
   "title_sidebar": "Contents",
   "toc_cell": true,
   "toc_position": {},
   "toc_section_display": true,
   "toc_window_display": false
  }
 },
 "nbformat": 4,
 "nbformat_minor": 2
}

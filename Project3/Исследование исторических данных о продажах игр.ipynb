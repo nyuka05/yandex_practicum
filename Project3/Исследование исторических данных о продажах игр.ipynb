{
 "cells": [
  {
   "cell_type": "markdown",
   "metadata": {},
   "source": [
    "# Исследование исторических данных о продажах игр, оценок пользователей и экспертов, жанров и платформ"
   ]
  },
  {
   "cell_type": "markdown",
   "metadata": {},
   "source": [
    "# Цель: выявить определяющие успешность игры закономерности для 2017 года"
   ]
  },
  {
   "cell_type": "markdown",
   "metadata": {},
   "source": [
    "## Шаг 1. Загрузка данных"
   ]
  },
  {
   "cell_type": "code",
   "execution_count": 1,
   "metadata": {},
   "outputs": [],
   "source": [
    "import pandas as pd\n",
    "import matplotlib.pyplot as plt\n",
    "import seaborn as sns\n",
    "import numpy as np\n",
    "from scipy import stats as st"
   ]
  },
  {
   "cell_type": "code",
   "execution_count": 2,
   "metadata": {},
   "outputs": [
    {
     "data": {
      "text/html": [
       "<div>\n",
       "<style scoped>\n",
       "    .dataframe tbody tr th:only-of-type {\n",
       "        vertical-align: middle;\n",
       "    }\n",
       "\n",
       "    .dataframe tbody tr th {\n",
       "        vertical-align: top;\n",
       "    }\n",
       "\n",
       "    .dataframe thead th {\n",
       "        text-align: right;\n",
       "    }\n",
       "</style>\n",
       "<table border=\"1\" class=\"dataframe\">\n",
       "  <thead>\n",
       "    <tr style=\"text-align: right;\">\n",
       "      <th></th>\n",
       "      <th>Name</th>\n",
       "      <th>Platform</th>\n",
       "      <th>Year_of_Release</th>\n",
       "      <th>Genre</th>\n",
       "      <th>NA_sales</th>\n",
       "      <th>EU_sales</th>\n",
       "      <th>JP_sales</th>\n",
       "      <th>Other_sales</th>\n",
       "      <th>Critic_Score</th>\n",
       "      <th>User_Score</th>\n",
       "      <th>Rating</th>\n",
       "    </tr>\n",
       "  </thead>\n",
       "  <tbody>\n",
       "    <tr>\n",
       "      <th>0</th>\n",
       "      <td>Wii Sports</td>\n",
       "      <td>Wii</td>\n",
       "      <td>2006.0</td>\n",
       "      <td>Sports</td>\n",
       "      <td>41.36</td>\n",
       "      <td>28.96</td>\n",
       "      <td>3.77</td>\n",
       "      <td>8.45</td>\n",
       "      <td>76.0</td>\n",
       "      <td>8</td>\n",
       "      <td>E</td>\n",
       "    </tr>\n",
       "    <tr>\n",
       "      <th>1</th>\n",
       "      <td>Super Mario Bros.</td>\n",
       "      <td>NES</td>\n",
       "      <td>1985.0</td>\n",
       "      <td>Platform</td>\n",
       "      <td>29.08</td>\n",
       "      <td>3.58</td>\n",
       "      <td>6.81</td>\n",
       "      <td>0.77</td>\n",
       "      <td>NaN</td>\n",
       "      <td>NaN</td>\n",
       "      <td>NaN</td>\n",
       "    </tr>\n",
       "    <tr>\n",
       "      <th>2</th>\n",
       "      <td>Mario Kart Wii</td>\n",
       "      <td>Wii</td>\n",
       "      <td>2008.0</td>\n",
       "      <td>Racing</td>\n",
       "      <td>15.68</td>\n",
       "      <td>12.76</td>\n",
       "      <td>3.79</td>\n",
       "      <td>3.29</td>\n",
       "      <td>82.0</td>\n",
       "      <td>8.3</td>\n",
       "      <td>E</td>\n",
       "    </tr>\n",
       "    <tr>\n",
       "      <th>3</th>\n",
       "      <td>Wii Sports Resort</td>\n",
       "      <td>Wii</td>\n",
       "      <td>2009.0</td>\n",
       "      <td>Sports</td>\n",
       "      <td>15.61</td>\n",
       "      <td>10.93</td>\n",
       "      <td>3.28</td>\n",
       "      <td>2.95</td>\n",
       "      <td>80.0</td>\n",
       "      <td>8</td>\n",
       "      <td>E</td>\n",
       "    </tr>\n",
       "    <tr>\n",
       "      <th>4</th>\n",
       "      <td>Pokemon Red/Pokemon Blue</td>\n",
       "      <td>GB</td>\n",
       "      <td>1996.0</td>\n",
       "      <td>Role-Playing</td>\n",
       "      <td>11.27</td>\n",
       "      <td>8.89</td>\n",
       "      <td>10.22</td>\n",
       "      <td>1.00</td>\n",
       "      <td>NaN</td>\n",
       "      <td>NaN</td>\n",
       "      <td>NaN</td>\n",
       "    </tr>\n",
       "    <tr>\n",
       "      <th>5</th>\n",
       "      <td>Tetris</td>\n",
       "      <td>GB</td>\n",
       "      <td>1989.0</td>\n",
       "      <td>Puzzle</td>\n",
       "      <td>23.20</td>\n",
       "      <td>2.26</td>\n",
       "      <td>4.22</td>\n",
       "      <td>0.58</td>\n",
       "      <td>NaN</td>\n",
       "      <td>NaN</td>\n",
       "      <td>NaN</td>\n",
       "    </tr>\n",
       "    <tr>\n",
       "      <th>6</th>\n",
       "      <td>New Super Mario Bros.</td>\n",
       "      <td>DS</td>\n",
       "      <td>2006.0</td>\n",
       "      <td>Platform</td>\n",
       "      <td>11.28</td>\n",
       "      <td>9.14</td>\n",
       "      <td>6.50</td>\n",
       "      <td>2.88</td>\n",
       "      <td>89.0</td>\n",
       "      <td>8.5</td>\n",
       "      <td>E</td>\n",
       "    </tr>\n",
       "    <tr>\n",
       "      <th>7</th>\n",
       "      <td>Wii Play</td>\n",
       "      <td>Wii</td>\n",
       "      <td>2006.0</td>\n",
       "      <td>Misc</td>\n",
       "      <td>13.96</td>\n",
       "      <td>9.18</td>\n",
       "      <td>2.93</td>\n",
       "      <td>2.84</td>\n",
       "      <td>58.0</td>\n",
       "      <td>6.6</td>\n",
       "      <td>E</td>\n",
       "    </tr>\n",
       "    <tr>\n",
       "      <th>8</th>\n",
       "      <td>New Super Mario Bros. Wii</td>\n",
       "      <td>Wii</td>\n",
       "      <td>2009.0</td>\n",
       "      <td>Platform</td>\n",
       "      <td>14.44</td>\n",
       "      <td>6.94</td>\n",
       "      <td>4.70</td>\n",
       "      <td>2.24</td>\n",
       "      <td>87.0</td>\n",
       "      <td>8.4</td>\n",
       "      <td>E</td>\n",
       "    </tr>\n",
       "    <tr>\n",
       "      <th>9</th>\n",
       "      <td>Duck Hunt</td>\n",
       "      <td>NES</td>\n",
       "      <td>1984.0</td>\n",
       "      <td>Shooter</td>\n",
       "      <td>26.93</td>\n",
       "      <td>0.63</td>\n",
       "      <td>0.28</td>\n",
       "      <td>0.47</td>\n",
       "      <td>NaN</td>\n",
       "      <td>NaN</td>\n",
       "      <td>NaN</td>\n",
       "    </tr>\n",
       "  </tbody>\n",
       "</table>\n",
       "</div>"
      ],
      "text/plain": [
       "                        Name Platform  Year_of_Release         Genre  \\\n",
       "0                 Wii Sports      Wii           2006.0        Sports   \n",
       "1          Super Mario Bros.      NES           1985.0      Platform   \n",
       "2             Mario Kart Wii      Wii           2008.0        Racing   \n",
       "3          Wii Sports Resort      Wii           2009.0        Sports   \n",
       "4   Pokemon Red/Pokemon Blue       GB           1996.0  Role-Playing   \n",
       "5                     Tetris       GB           1989.0        Puzzle   \n",
       "6      New Super Mario Bros.       DS           2006.0      Platform   \n",
       "7                   Wii Play      Wii           2006.0          Misc   \n",
       "8  New Super Mario Bros. Wii      Wii           2009.0      Platform   \n",
       "9                  Duck Hunt      NES           1984.0       Shooter   \n",
       "\n",
       "   NA_sales  EU_sales  JP_sales  Other_sales  Critic_Score User_Score Rating  \n",
       "0     41.36     28.96      3.77         8.45          76.0          8      E  \n",
       "1     29.08      3.58      6.81         0.77           NaN        NaN    NaN  \n",
       "2     15.68     12.76      3.79         3.29          82.0        8.3      E  \n",
       "3     15.61     10.93      3.28         2.95          80.0          8      E  \n",
       "4     11.27      8.89     10.22         1.00           NaN        NaN    NaN  \n",
       "5     23.20      2.26      4.22         0.58           NaN        NaN    NaN  \n",
       "6     11.28      9.14      6.50         2.88          89.0        8.5      E  \n",
       "7     13.96      9.18      2.93         2.84          58.0        6.6      E  \n",
       "8     14.44      6.94      4.70         2.24          87.0        8.4      E  \n",
       "9     26.93      0.63      0.28         0.47           NaN        NaN    NaN  "
      ]
     },
     "execution_count": 2,
     "metadata": {},
     "output_type": "execute_result"
    }
   ],
   "source": [
    "data = pd.read_csv('/datasets/games.csv')\n",
    "data.head(10)"
   ]
  },
  {
   "cell_type": "code",
   "execution_count": 3,
   "metadata": {},
   "outputs": [
    {
     "name": "stdout",
     "output_type": "stream",
     "text": [
      "<class 'pandas.core.frame.DataFrame'>\n",
      "RangeIndex: 16715 entries, 0 to 16714\n",
      "Data columns (total 11 columns):\n",
      " #   Column           Non-Null Count  Dtype  \n",
      "---  ------           --------------  -----  \n",
      " 0   Name             16713 non-null  object \n",
      " 1   Platform         16715 non-null  object \n",
      " 2   Year_of_Release  16446 non-null  float64\n",
      " 3   Genre            16713 non-null  object \n",
      " 4   NA_sales         16715 non-null  float64\n",
      " 5   EU_sales         16715 non-null  float64\n",
      " 6   JP_sales         16715 non-null  float64\n",
      " 7   Other_sales      16715 non-null  float64\n",
      " 8   Critic_Score     8137 non-null   float64\n",
      " 9   User_Score       10014 non-null  object \n",
      " 10  Rating           9949 non-null   object \n",
      "dtypes: float64(6), object(5)\n",
      "memory usage: 1.4+ MB\n"
     ]
    }
   ],
   "source": [
    "data.info()"
   ]
  },
  {
   "cell_type": "markdown",
   "metadata": {},
   "source": [
    "Пропущенны значения в следующих столбцах:\\\n",
    "Name - скорее всего необходимо удалить строки \\\n",
    "Year_of_Release - оставить как есть \\\n",
    "Genre - заполнить \\\n",
    "Critic_Score - заполнить медианой по жанру(возможно)\\\n",
    "User_Score - заполнить медианой по жанру(возможно), изменить тип данных, это оценка  \\\n",
    "Rating - возрастной рейтинг, оценить жанры на возможный рейтинг.  "
   ]
  },
  {
   "cell_type": "markdown",
   "metadata": {},
   "source": [
    "## Шаг 2. Подготовьте данные"
   ]
  },
  {
   "cell_type": "code",
   "execution_count": 4,
   "metadata": {},
   "outputs": [
    {
     "data": {
      "text/plain": [
       "Index(['name', 'platform', 'year_of_release', 'genre', 'na_sales', 'eu_sales',\n",
       "       'jp_sales', 'other_sales', 'critic_score', 'user_score', 'rating'],\n",
       "      dtype='object')"
      ]
     },
     "execution_count": 4,
     "metadata": {},
     "output_type": "execute_result"
    }
   ],
   "source": [
    "data.columns = data.columns.str.lower()\n",
    "data.columns"
   ]
  },
  {
   "cell_type": "markdown",
   "metadata": {},
   "source": [
    "### столбец user_score"
   ]
  },
  {
   "cell_type": "code",
   "execution_count": 5,
   "metadata": {},
   "outputs": [
    {
     "data": {
      "text/plain": [
       "array(['8', nan, '8.3', '8.5', '6.6', '8.4', '8.6', '7.7', '6.3', '7.4',\n",
       "       '8.2', '9', '7.9', '8.1', '8.7', '7.1', '3.4', '5.3', '4.8', '3.2',\n",
       "       '8.9', '6.4', '7.8', '7.5', '2.6', '7.2', '9.2', '7', '7.3', '4.3',\n",
       "       '7.6', '5.7', '5', '9.1', '6.5', 'tbd', '8.8', '6.9', '9.4', '6.8',\n",
       "       '6.1', '6.7', '5.4', '4', '4.9', '4.5', '9.3', '6.2', '4.2', '6',\n",
       "       '3.7', '4.1', '5.8', '5.6', '5.5', '4.4', '4.6', '5.9', '3.9',\n",
       "       '3.1', '2.9', '5.2', '3.3', '4.7', '5.1', '3.5', '2.5', '1.9', '3',\n",
       "       '2.7', '2.2', '2', '9.5', '2.1', '3.6', '2.8', '1.8', '3.8', '0',\n",
       "       '1.6', '9.6', '2.4', '1.7', '1.1', '0.3', '1.5', '0.7', '1.2',\n",
       "       '2.3', '0.5', '1.3', '0.2', '0.6', '1.4', '0.9', '1', '9.7'],\n",
       "      dtype=object)"
      ]
     },
     "execution_count": 5,
     "metadata": {},
     "output_type": "execute_result"
    }
   ],
   "source": [
    "data['user_score'].unique()"
   ]
  },
  {
   "cell_type": "markdown",
   "metadata": {},
   "source": [
    "'tbd' значит что данные еще не собраны.(to be determined = будет определено), думаю их стоит изменить на nan"
   ]
  },
  {
   "cell_type": "code",
   "execution_count": 6,
   "metadata": {},
   "outputs": [],
   "source": [
    "data['user_score'] = data['user_score'].replace('tbd', '')"
   ]
  },
  {
   "cell_type": "code",
   "execution_count": 7,
   "metadata": {},
   "outputs": [],
   "source": [
    "data['user_score'] = pd.to_numeric(data['user_score'])"
   ]
  },
  {
   "cell_type": "markdown",
   "metadata": {},
   "source": [
    "### столбец name"
   ]
  },
  {
   "cell_type": "code",
   "execution_count": 8,
   "metadata": {},
   "outputs": [],
   "source": [
    "data = data.dropna(subset = ['name'])"
   ]
  },
  {
   "cell_type": "markdown",
   "metadata": {},
   "source": [
    "### столбец year_of_release"
   ]
  },
  {
   "cell_type": "code",
   "execution_count": 9,
   "metadata": {},
   "outputs": [
    {
     "data": {
      "text/plain": [
       "array([2006, 1985, 2008, 2009, 1996, 1989, 1984, 2005, 1999, 2007, 2010,\n",
       "       2013, 2004, 1990, 1988, 2002, 2001, 2011, 1998, 2015, 2012, 2014,\n",
       "       1992, 1997, 1993, 1994, 1982, 2016, 2003, 1986, 2000, 1995, 1991,\n",
       "       1981, 1987, 1980, 1983,    0])"
      ]
     },
     "execution_count": 9,
     "metadata": {},
     "output_type": "execute_result"
    }
   ],
   "source": [
    "data['year_of_release'] = data['year_of_release'].fillna(0)\n",
    "data['year_of_release'] = data['year_of_release'].astype('int')\n",
    "for n in data['name'].unique():\n",
    "    data.loc[((data['name'] == n) & (data['year_of_release'] == 0)), 'year_of_release'] = \\\n",
    "    data.loc[(data['name'] == n), 'year_of_release'].max()\n",
    "data['year_of_release'].unique()"
   ]
  },
  {
   "cell_type": "markdown",
   "metadata": {},
   "source": [
    "### столбец rating"
   ]
  },
  {
   "cell_type": "code",
   "execution_count": 10,
   "metadata": {},
   "outputs": [
    {
     "data": {
      "text/plain": [
       "array(['E', nan, 'M', 'T', 'E10+', 'K-A', 'AO', 'EC', 'RP'], dtype=object)"
      ]
     },
     "execution_count": 10,
     "metadata": {},
     "output_type": "execute_result"
    }
   ],
   "source": [
    "data['rating'].unique()"
   ]
  },
  {
   "cell_type": "markdown",
   "metadata": {},
   "source": [
    "пропуски тут, могут означать что игра не отрправлялась ESRB, можно заменить на \"No\""
   ]
  },
  {
   "cell_type": "code",
   "execution_count": 11,
   "metadata": {},
   "outputs": [],
   "source": [
    "data['rating'] = data['rating'].fillna('No')"
   ]
  },
  {
   "cell_type": "markdown",
   "metadata": {},
   "source": [
    "### Удаление дубликатов"
   ]
  },
  {
   "cell_type": "code",
   "execution_count": 12,
   "metadata": {},
   "outputs": [
    {
     "data": {
      "text/plain": [
       "array(['Wii', 'NES', 'GB', 'DS', 'X360', 'PS3', 'PS2', 'SNES', 'GBA',\n",
       "       'PS4', '3DS', 'N64', 'PS', 'XB', 'PC', '2600', 'PSP', 'XOne',\n",
       "       'WiiU', 'GC', 'GEN', 'DC', 'PSV', 'SAT', 'SCD', 'WS', 'NG', 'TG16',\n",
       "       '3DO', 'GG', 'PCFX'], dtype=object)"
      ]
     },
     "execution_count": 12,
     "metadata": {},
     "output_type": "execute_result"
    }
   ],
   "source": [
    "data['platform'].unique()"
   ]
  },
  {
   "cell_type": "code",
   "execution_count": 13,
   "metadata": {},
   "outputs": [
    {
     "data": {
      "text/plain": [
       "0"
      ]
     },
     "execution_count": 13,
     "metadata": {},
     "output_type": "execute_result"
    }
   ],
   "source": [
    "data.duplicated().sum()"
   ]
  },
  {
   "cell_type": "markdown",
   "metadata": {},
   "source": [
    "### суммарные продажи"
   ]
  },
  {
   "cell_type": "code",
   "execution_count": 14,
   "metadata": {},
   "outputs": [],
   "source": [
    "data['all_sales'] = data['na_sales'] + data['eu_sales'] + data['jp_sales'] + data['other_sales']"
   ]
  },
  {
   "cell_type": "markdown",
   "metadata": {},
   "source": [
    "## Шаг 3. Проведите исследовательский анализ данных"
   ]
  },
  {
   "cell_type": "code",
   "execution_count": 15,
   "metadata": {},
   "outputs": [
    {
     "data": {
      "text/plain": [
       "<AxesSubplot:>"
      ]
     },
     "execution_count": 15,
     "metadata": {},
     "output_type": "execute_result"
    },
    {
     "data": {
      "image/png": "[encoded data removed]",
      "text/plain": [
       "<Figure size 720x360 with 1 Axes>"
      ]
     },
     "metadata": {
      "needs_background": "light"
     },
     "output_type": "display_data"
    }
   ],
   "source": [
    "data['year_of_release'].hist(bins = data['year_of_release'].nunique(), range = (1980,2017), figsize = (10,5))"
   ]
  },
  {
   "cell_type": "markdown",
   "metadata": {},
   "source": [
    "Возможно лучше взять данные с 2002 года поскольку с этого момента пошел \"всплеск\" популярности игр"
   ]
  },
  {
   "cell_type": "markdown",
   "metadata": {},
   "source": [
    "###  как менялись продажи по платформам"
   ]
  },
  {
   "cell_type": "code",
   "execution_count": 16,
   "metadata": {},
   "outputs": [],
   "source": [
    "a = data.pivot_table(index = 'platform', values='all_sales', aggfunc = 'sum')"
   ]
  },
  {
   "cell_type": "code",
   "execution_count": 17,
   "metadata": {},
   "outputs": [
    {
     "data": {
      "text/html": [
       "<div>\n",
       "<style scoped>\n",
       "    .dataframe tbody tr th:only-of-type {\n",
       "        vertical-align: middle;\n",
       "    }\n",
       "\n",
       "    .dataframe tbody tr th {\n",
       "        vertical-align: top;\n",
       "    }\n",
       "\n",
       "    .dataframe thead th {\n",
       "        text-align: right;\n",
       "    }\n",
       "</style>\n",
       "<table border=\"1\" class=\"dataframe\">\n",
       "  <thead>\n",
       "    <tr style=\"text-align: right;\">\n",
       "      <th></th>\n",
       "      <th>all_sales</th>\n",
       "    </tr>\n",
       "    <tr>\n",
       "      <th>platform</th>\n",
       "      <th></th>\n",
       "    </tr>\n",
       "  </thead>\n",
       "  <tbody>\n",
       "    <tr>\n",
       "      <th>PS2</th>\n",
       "      <td>1255.77</td>\n",
       "    </tr>\n",
       "    <tr>\n",
       "      <th>X360</th>\n",
       "      <td>971.42</td>\n",
       "    </tr>\n",
       "    <tr>\n",
       "      <th>PS3</th>\n",
       "      <td>939.65</td>\n",
       "    </tr>\n",
       "    <tr>\n",
       "      <th>Wii</th>\n",
       "      <td>907.51</td>\n",
       "    </tr>\n",
       "    <tr>\n",
       "      <th>DS</th>\n",
       "      <td>806.12</td>\n",
       "    </tr>\n",
       "    <tr>\n",
       "      <th>PS</th>\n",
       "      <td>730.86</td>\n",
       "    </tr>\n",
       "    <tr>\n",
       "      <th>GBA</th>\n",
       "      <td>317.85</td>\n",
       "    </tr>\n",
       "    <tr>\n",
       "      <th>PS4</th>\n",
       "      <td>314.14</td>\n",
       "    </tr>\n",
       "    <tr>\n",
       "      <th>PSP</th>\n",
       "      <td>294.05</td>\n",
       "    </tr>\n",
       "    <tr>\n",
       "      <th>PC</th>\n",
       "      <td>259.52</td>\n",
       "    </tr>\n",
       "  </tbody>\n",
       "</table>\n",
       "</div>"
      ],
      "text/plain": [
       "          all_sales\n",
       "platform           \n",
       "PS2         1255.77\n",
       "X360         971.42\n",
       "PS3          939.65\n",
       "Wii          907.51\n",
       "DS           806.12\n",
       "PS           730.86\n",
       "GBA          317.85\n",
       "PS4          314.14\n",
       "PSP          294.05\n",
       "PC           259.52"
      ]
     },
     "execution_count": 17,
     "metadata": {},
     "output_type": "execute_result"
    }
   ],
   "source": [
    "a.sort_values(by = 'all_sales', ascending = False).head(10)"
   ]
  },
  {
   "cell_type": "code",
   "execution_count": 18,
   "metadata": {},
   "outputs": [],
   "source": [
    "b = data.pivot_table(index = 'year_of_release', columns = 'platform', \n",
    "                 values='all_sales', \n",
    "                 aggfunc = 'sum')\n",
    "b = b[['PS2', 'X360', 'PS3', 'Wii', 'DS']]"
   ]
  },
  {
   "cell_type": "code",
   "execution_count": 19,
   "metadata": {},
   "outputs": [
    {
     "data": {
      "text/plain": [
       "<AxesSubplot:xlabel='year_of_release'>"
      ]
     },
     "execution_count": 19,
     "metadata": {},
     "output_type": "execute_result"
    },
    {
     "data": {
      "image/png": "[encoded data removed]",
      "text/plain": [
       "<Figure size 720x360 with 1 Axes>"
      ]
     },
     "metadata": {
      "needs_background": "light"
     },
     "output_type": "display_data"
    }
   ],
   "source": [
    "b.plot(xlim=(1999,2016),grid=True,figsize = (10,5))"
   ]
  },
  {
   "cell_type": "markdown",
   "metadata": {},
   "source": [
    "срок жизни платформ с наибольшими суммарными продажами:\\\n",
    "PS2 - 11 лет\\\n",
    "X360 - 11 лет\\\n",
    "PS3 - 11 лет\\\n",
    "Wii - 9 лет\\ \n",
    "DS - 9 лет\\\n",
    "Думаю, что средний срок жизни платформы 10 -11 лет. актуальный период можно взять половину от срока жизни платформ\\\n",
    "можно взять 4 года с 2013 года\n"
   ]
  },
  {
   "cell_type": "code",
   "execution_count": 20,
   "metadata": {},
   "outputs": [],
   "source": [
    "data_2014 = data[data['year_of_release']>2013]"
   ]
  },
  {
   "cell_type": "code",
   "execution_count": 21,
   "metadata": {},
   "outputs": [
    {
     "name": "stdout",
     "output_type": "stream",
     "text": [
      "<class 'pandas.core.frame.DataFrame'>\n",
      "Int64Index: 1690 entries, 31 to 16714\n",
      "Data columns (total 12 columns):\n",
      " #   Column           Non-Null Count  Dtype  \n",
      "---  ------           --------------  -----  \n",
      " 0   name             1690 non-null   object \n",
      " 1   platform         1690 non-null   object \n",
      " 2   year_of_release  1690 non-null   int64  \n",
      " 3   genre            1690 non-null   object \n",
      " 4   na_sales         1690 non-null   float64\n",
      " 5   eu_sales         1690 non-null   float64\n",
      " 6   jp_sales         1690 non-null   float64\n",
      " 7   other_sales      1690 non-null   float64\n",
      " 8   critic_score     719 non-null    float64\n",
      " 9   user_score       889 non-null    float64\n",
      " 10  rating           1690 non-null   object \n",
      " 11  all_sales        1690 non-null   float64\n",
      "dtypes: float64(7), int64(1), object(4)\n",
      "memory usage: 171.6+ KB\n"
     ]
    }
   ],
   "source": [
    "data_2014.info()"
   ]
  },
  {
   "cell_type": "code",
   "execution_count": 22,
   "metadata": {},
   "outputs": [
    {
     "data": {
      "text/html": [
       "<div>\n",
       "<style scoped>\n",
       "    .dataframe tbody tr th:only-of-type {\n",
       "        vertical-align: middle;\n",
       "    }\n",
       "\n",
       "    .dataframe tbody tr th {\n",
       "        vertical-align: top;\n",
       "    }\n",
       "\n",
       "    .dataframe thead th {\n",
       "        text-align: right;\n",
       "    }\n",
       "</style>\n",
       "<table border=\"1\" class=\"dataframe\">\n",
       "  <thead>\n",
       "    <tr style=\"text-align: right;\">\n",
       "      <th></th>\n",
       "      <th>all_sales</th>\n",
       "    </tr>\n",
       "    <tr>\n",
       "      <th>platform</th>\n",
       "      <th></th>\n",
       "    </tr>\n",
       "  </thead>\n",
       "  <tbody>\n",
       "    <tr>\n",
       "      <th>PS4</th>\n",
       "      <td>288.15</td>\n",
       "    </tr>\n",
       "    <tr>\n",
       "      <th>XOne</th>\n",
       "      <td>140.36</td>\n",
       "    </tr>\n",
       "    <tr>\n",
       "      <th>3DS</th>\n",
       "      <td>86.68</td>\n",
       "    </tr>\n",
       "    <tr>\n",
       "      <th>PS3</th>\n",
       "      <td>68.18</td>\n",
       "    </tr>\n",
       "    <tr>\n",
       "      <th>X360</th>\n",
       "      <td>48.22</td>\n",
       "    </tr>\n",
       "    <tr>\n",
       "      <th>WiiU</th>\n",
       "      <td>42.98</td>\n",
       "    </tr>\n",
       "    <tr>\n",
       "      <th>PC</th>\n",
       "      <td>27.40</td>\n",
       "    </tr>\n",
       "    <tr>\n",
       "      <th>PSV</th>\n",
       "      <td>22.40</td>\n",
       "    </tr>\n",
       "    <tr>\n",
       "      <th>Wii</th>\n",
       "      <td>5.07</td>\n",
       "    </tr>\n",
       "    <tr>\n",
       "      <th>PSP</th>\n",
       "      <td>0.36</td>\n",
       "    </tr>\n",
       "  </tbody>\n",
       "</table>\n",
       "</div>"
      ],
      "text/plain": [
       "          all_sales\n",
       "platform           \n",
       "PS4          288.15\n",
       "XOne         140.36\n",
       "3DS           86.68\n",
       "PS3           68.18\n",
       "X360          48.22\n",
       "WiiU          42.98\n",
       "PC            27.40\n",
       "PSV           22.40\n",
       "Wii            5.07\n",
       "PSP            0.36"
      ]
     },
     "execution_count": 22,
     "metadata": {},
     "output_type": "execute_result"
    }
   ],
   "source": [
    "max_sal_2014 = data_2014.pivot_table(index = 'platform', values='all_sales', aggfunc = 'sum')\n",
    "max_sal_2014.sort_values(by = 'all_sales', ascending = False)"
   ]
  },
  {
   "cell_type": "code",
   "execution_count": 24,
   "metadata": {},
   "outputs": [
    {
     "data": {
      "text/plain": [
       "<AxesSubplot:xlabel='year_of_release'>"
      ]
     },
     "execution_count": 24,
     "metadata": {},
     "output_type": "execute_result"
    },
    {
     "data": {
      "image/png": "[encoded data removed]",
      "text/plain": [
       "<Figure size 720x360 with 1 Axes>"
      ]
     },
     "metadata": {
      "needs_background": "light"
     },
     "output_type": "display_data"
    }
   ],
   "source": [
    "data_2014.pivot_table(index = 'year_of_release', columns = 'platform', \n",
    "                 values='all_sales', \n",
    "                 aggfunc = 'sum').plot(xlim=(2014,2016),grid=True,figsize = (10,5))\n"
   ]
  },
  {
   "cell_type": "markdown",
   "metadata": {},
   "source": [
    "Наиболее популярными и актуальными платформами на 2016 год являются PS4 и XOne\\\n",
    "Популярность предыдущих поколений этих платформ снижается. Популярность остальных не меняется"
   ]
  },
  {
   "cell_type": "code",
   "execution_count": 25,
   "metadata": {},
   "outputs": [
    {
     "data": {
      "text/plain": [
       "<AxesSubplot:>"
      ]
     },
     "execution_count": 25,
     "metadata": {},
     "output_type": "execute_result"
    },
    {
     "data": {
      "image/png": "[encoded data removed]",
      "text/plain": [
       "<Figure size 720x360 with 1 Axes>"
      ]
     },
     "metadata": {
      "needs_background": "light"
     },
     "output_type": "display_data"
    }
   ],
   "source": [
    "data_2014.pivot_table(index = 'year_of_release', columns = 'platform', \n",
    "                 values='all_sales', \n",
    "                 aggfunc = 'sum').boxplot(figsize = (10,5))"
   ]
  },
  {
   "cell_type": "markdown",
   "metadata": {},
   "source": [
    "Рейтинг средней ежегодной выручки за 2013-2016 года распределился следующим образом: \n",
    "1. PS4 (с явным преимуществом)\n",
    "2. XOne\n",
    "3. 3DS\n",
    "4. PS3\n",
    "5. X360"
   ]
  },
  {
   "cell_type": "markdown",
   "metadata": {},
   "source": [
    "### как влияют на продажи внутри одной популярной платформы отзывы пользователей и критиков на примере PS3"
   ]
  },
  {
   "cell_type": "markdown",
   "metadata": {},
   "source": [
    "#### Оценки пользователей"
   ]
  },
  {
   "cell_type": "code",
   "execution_count": 26,
   "metadata": {},
   "outputs": [
    {
     "data": {
      "text/plain": [
       "<AxesSubplot:xlabel='user_score', ylabel='all_sales'>"
      ]
     },
     "execution_count": 26,
     "metadata": {},
     "output_type": "execute_result"
    },
    {
     "data": {
      "image/png": "[encoded data removed]",
      "text/plain": [
       "<Figure size 720x288 with 1 Axes>"
      ]
     },
     "metadata": {
      "needs_background": "light"
     },
     "output_type": "display_data"
    }
   ],
   "source": [
    "data_2014_PS3 = data_2014[data_2014['platform'] == 'PS3']\n",
    "data_2014_PS3_1 = data_2014_PS3.dropna(subset = ['user_score'])\n",
    "\n",
    "data_2014_PS3_1.plot(x = 'user_score', y = 'all_sales', kind = 'scatter',\n",
    "                                            figsize = (10,4))"
   ]
  },
  {
   "cell_type": "code",
   "execution_count": 27,
   "metadata": {},
   "outputs": [
    {
     "name": "stdout",
     "output_type": "stream",
     "text": [
      "Корреляция ровна  -0.16676141347662118\n"
     ]
    }
   ],
   "source": [
    "print('Корреляция ровна ', data_2014_PS3_1['user_score'].corr(data_2014_PS3_1['all_sales']))"
   ]
  },
  {
   "cell_type": "markdown",
   "metadata": {},
   "source": [
    "Наблюдается отрицательная зависимость между оценками пользователей и продажами, однако она не значительна, это может быть связано с тем, что наиболее популярные игры(с большим количеством продаж) имеют оценки от 6 до 9. Грубо говоря, чем больше продаж, тем больше оценок как положительных, так и отрицательных, тем ниже средний результат. "
   ]
  },
  {
   "cell_type": "markdown",
   "metadata": {},
   "source": [
    "#### Оценки критиков"
   ]
  },
  {
   "cell_type": "code",
   "execution_count": 30,
   "metadata": {},
   "outputs": [
    {
     "data": {
      "text/plain": [
       "<AxesSubplot:xlabel='critic_score', ylabel='all_sales'>"
      ]
     },
     "execution_count": 30,
     "metadata": {},
     "output_type": "execute_result"
    },
    {
     "data": {
      "image/png": "[encoded data removed]",
      "text/plain": [
       "<Figure size 720x288 with 1 Axes>"
      ]
     },
     "metadata": {
      "needs_background": "light"
     },
     "output_type": "display_data"
    }
   ],
   "source": [
    "data_2014_PS3.plot(x = 'critic_score', y = 'all_sales', kind = 'scatter',\n",
    "                                            figsize = (10,4))"
   ]
  },
  {
   "cell_type": "code",
   "execution_count": 31,
   "metadata": {},
   "outputs": [
    {
     "name": "stdout",
     "output_type": "stream",
     "text": [
      "Корреляция ровна  0.44657460493190704\n"
     ]
    }
   ],
   "source": [
    "data_2014_PS3_2 = data_2014_PS3.dropna(subset = ['critic_score'])\n",
    "print('Корреляция ровна ', data_2014_PS3_2['critic_score'].corr(data_2014_PS3_1['all_sales']))"
   ]
  },
  {
   "cell_type": "markdown",
   "metadata": {},
   "source": [
    "Наблюдается значительная положительная зависимость между оценками критиков и количествами продаж. Это объясняет желание разработчиков угождать критикам в новых веяниях.  "
   ]
  },
  {
   "cell_type": "code",
   "execution_count": 39,
   "metadata": {},
   "outputs": [
    {
     "data": {
      "image/png": "[encoded data removed]",
      "text/plain": [
       "<Figure size 720x288 with 1 Axes>"
      ]
     },
     "metadata": {
      "needs_background": "light"
     },
     "output_type": "display_data"
    },
    {
     "data": {
      "image/png": "[encoded data removed]",
      "text/plain": [
       "<Figure size 720x288 with 1 Axes>"
      ]
     },
     "metadata": {
      "needs_background": "light"
     },
     "output_type": "display_data"
    },
    {
     "name": "stdout",
     "output_type": "stream",
     "text": [
      "PS4 Корреляция продаж и оценок пользователей ровна  -0.040131589472697356\n",
      "PS4 Корреляция продаж и оценок критиков ровна  0.40190287811475334\n",
      "\n"
     ]
    },
    {
     "data": {
      "image/png": "[encoded data removed]",
      "text/plain": [
       "<Figure size 720x288 with 1 Axes>"
      ]
     },
     "metadata": {
      "needs_background": "light"
     },
     "output_type": "display_data"
    },
    {
     "data": {
      "image/png": "[encoded data removed]",
      "text/plain": [
       "<Figure size 720x288 with 1 Axes>"
      ]
     },
     "metadata": {
      "needs_background": "light"
     },
     "output_type": "display_data"
    },
    {
     "name": "stdout",
     "output_type": "stream",
     "text": [
      "XOne Корреляция продаж и оценок пользователей ровна  -0.0703839280647581\n",
      "XOne Корреляция продаж и оценок критиков ровна  0.42211185105557647\n",
      "\n"
     ]
    },
    {
     "data": {
      "image/png": "[encoded data removed]",
      "text/plain": [
       "<Figure size 720x288 with 1 Axes>"
      ]
     },
     "metadata": {
      "needs_background": "light"
     },
     "output_type": "display_data"
    },
    {
     "data": {
      "image/png": "[encoded data removed]",
      "text/plain": [
       "<Figure size 720x288 with 1 Axes>"
      ]
     },
     "metadata": {
      "needs_background": "light"
     },
     "output_type": "display_data"
    },
    {
     "name": "stdout",
     "output_type": "stream",
     "text": [
      "3DS Корреляция продаж и оценок пользователей ровна  0.2151932718527028\n",
      "3DS Корреляция продаж и оценок критиков ровна  0.28468579095782925\n",
      "\n"
     ]
    },
    {
     "data": {
      "image/png": "[encoded data removed]",
      "text/plain": [
       "<Figure size 720x288 with 1 Axes>"
      ]
     },
     "metadata": {
      "needs_background": "light"
     },
     "output_type": "display_data"
    },
    {
     "data": {
      "image/png": "[encoded data removed]",
      "text/plain": [
       "<Figure size 720x288 with 1 Axes>"
      ]
     },
     "metadata": {
      "needs_background": "light"
     },
     "output_type": "display_data"
    },
    {
     "name": "stdout",
     "output_type": "stream",
     "text": [
      "X360 Корреляция продаж и оценок пользователей ровна  -0.138444570945665\n",
      "X360 Корреляция продаж и оценок критиков ровна  0.5257228356581523\n",
      "\n"
     ]
    }
   ],
   "source": [
    "platforms = ['PS4', 'XOne',  '3DS',  'X360' ]\n",
    "for plat in platforms:\n",
    "    data_2014_plat = data_2014[data_2014['platform'] == plat]\n",
    "    data_2014_plat_1 = data_2014_plat.dropna(subset = ['user_score'])\n",
    "    data_2014_plat_2 = data_2014_plat.dropna(subset = ['critic_score'])\n",
    "    data_2014_plat_1.plot(x = 'user_score', y = 'all_sales', kind = 'scatter',\n",
    "                                            figsize = (10,4), title = plat)\n",
    "    plt.show()\n",
    "    data_2014_plat_2.plot(x = 'critic_score', y = 'all_sales', kind = 'scatter',\n",
    "                                            figsize = (10,4), title = plat)\n",
    "    plt.show()\n",
    "    print(plat, 'Корреляция продаж и оценок пользователей ровна ', data_2014_plat_1['user_score'].corr(data_2014_plat_1['all_sales']))\n",
    "    print(plat, 'Корреляция продаж и оценок критиков ровна ', data_2014_plat_2['critic_score'].corr(data_2014_plat_1['all_sales']))\n",
    "    print()\n",
    "    "
   ]
  },
  {
   "cell_type": "markdown",
   "metadata": {},
   "source": [
    "Данная ситуация аналогична и на других платформа, оценки критиков куда значительнее влияют на количество продаж, нежели оценки пользователей, только у платформы 3DS ситуация немного отличается, оценки критиков и пользователей одинаково мало влияют на продажи."
   ]
  },
  {
   "cell_type": "markdown",
   "metadata": {},
   "source": [
    "#### Продажи по жанрам"
   ]
  },
  {
   "cell_type": "code",
   "execution_count": 40,
   "metadata": {},
   "outputs": [
    {
     "data": {
      "text/html": [
       "<div>\n",
       "<style scoped>\n",
       "    .dataframe tbody tr th:only-of-type {\n",
       "        vertical-align: middle;\n",
       "    }\n",
       "\n",
       "    .dataframe tbody tr th {\n",
       "        vertical-align: top;\n",
       "    }\n",
       "\n",
       "    .dataframe thead th {\n",
       "        text-align: right;\n",
       "    }\n",
       "</style>\n",
       "<table border=\"1\" class=\"dataframe\">\n",
       "  <thead>\n",
       "    <tr style=\"text-align: right;\">\n",
       "      <th></th>\n",
       "      <th>genre</th>\n",
       "      <th>all_sales</th>\n",
       "    </tr>\n",
       "  </thead>\n",
       "  <tbody>\n",
       "    <tr>\n",
       "      <th>0</th>\n",
       "      <td>Action</td>\n",
       "      <td>199.71</td>\n",
       "    </tr>\n",
       "    <tr>\n",
       "      <th>8</th>\n",
       "      <td>Shooter</td>\n",
       "      <td>170.94</td>\n",
       "    </tr>\n",
       "    <tr>\n",
       "      <th>10</th>\n",
       "      <td>Sports</td>\n",
       "      <td>109.48</td>\n",
       "    </tr>\n",
       "    <tr>\n",
       "      <th>7</th>\n",
       "      <td>Role-Playing</td>\n",
       "      <td>101.44</td>\n",
       "    </tr>\n",
       "    <tr>\n",
       "      <th>3</th>\n",
       "      <td>Misc</td>\n",
       "      <td>37.55</td>\n",
       "    </tr>\n",
       "    <tr>\n",
       "      <th>2</th>\n",
       "      <td>Fighting</td>\n",
       "      <td>28.22</td>\n",
       "    </tr>\n",
       "    <tr>\n",
       "      <th>6</th>\n",
       "      <td>Racing</td>\n",
       "      <td>27.52</td>\n",
       "    </tr>\n",
       "    <tr>\n",
       "      <th>4</th>\n",
       "      <td>Platform</td>\n",
       "      <td>18.09</td>\n",
       "    </tr>\n",
       "    <tr>\n",
       "      <th>1</th>\n",
       "      <td>Adventure</td>\n",
       "      <td>17.55</td>\n",
       "    </tr>\n",
       "    <tr>\n",
       "      <th>9</th>\n",
       "      <td>Simulation</td>\n",
       "      <td>13.13</td>\n",
       "    </tr>\n",
       "    <tr>\n",
       "      <th>11</th>\n",
       "      <td>Strategy</td>\n",
       "      <td>3.96</td>\n",
       "    </tr>\n",
       "    <tr>\n",
       "      <th>5</th>\n",
       "      <td>Puzzle</td>\n",
       "      <td>2.21</td>\n",
       "    </tr>\n",
       "  </tbody>\n",
       "</table>\n",
       "</div>"
      ],
      "text/plain": [
       "           genre  all_sales\n",
       "0         Action     199.71\n",
       "8        Shooter     170.94\n",
       "10        Sports     109.48\n",
       "7   Role-Playing     101.44\n",
       "3           Misc      37.55\n",
       "2       Fighting      28.22\n",
       "6         Racing      27.52\n",
       "4       Platform      18.09\n",
       "1      Adventure      17.55\n",
       "9     Simulation      13.13\n",
       "11      Strategy       3.96\n",
       "5         Puzzle       2.21"
      ]
     },
     "execution_count": 40,
     "metadata": {},
     "output_type": "execute_result"
    }
   ],
   "source": [
    "gn = data_2014.groupby('genre')['all_sales'].sum().reset_index().sort_values(by ='all_sales', ascending = False)\n",
    "gn"
   ]
  },
  {
   "cell_type": "code",
   "execution_count": 41,
   "metadata": {},
   "outputs": [
    {
     "data": {
      "image/png": "[encoded data removed]",
      "text/plain": [
       "<Figure size 432x288 with 1 Axes>"
      ]
     },
     "metadata": {
      "needs_background": "light"
     },
     "output_type": "display_data"
    }
   ],
   "source": [
    "g = sns.barplot(x = 'genre', y = 'all_sales', data = gn,)\n",
    "sns.set(rc={'figure.figsize':(12,5)})"
   ]
  },
  {
   "cell_type": "markdown",
   "metadata": {},
   "source": [
    "наиболее популярные и прибыльные жанры:\n",
    "1. Action\n",
    "2. Shooter\n",
    "3. Sports\n",
    "4. Role-Playing"
   ]
  },
  {
   "cell_type": "markdown",
   "metadata": {},
   "source": [
    "## Шаг 4. Составьте портрет пользователя каждого региона"
   ]
  },
  {
   "cell_type": "markdown",
   "metadata": {},
   "source": [
    "### NA"
   ]
  },
  {
   "cell_type": "code",
   "execution_count": 42,
   "metadata": {},
   "outputs": [
    {
     "data": {
      "image/png": "[encoded data removed]",
      "text/plain": [
       "<Figure size 360x360 with 1 Axes>"
      ]
     },
     "metadata": {},
     "output_type": "display_data"
    },
    {
     "data": {
      "image/png": "[encoded data removed]",
      "text/plain": [
       "<Figure size 360x360 with 1 Axes>"
      ]
     },
     "metadata": {},
     "output_type": "display_data"
    }
   ],
   "source": [
    "pop_pl = data_2014.pivot_table(index = 'platform', \n",
    "                 values=['na_sales', 'eu_sales','jp_sales', 'other_sales'], \n",
    "                 aggfunc = 'sum')\n",
    "pop_gn = data_2014.pivot_table(index = 'genre', \n",
    "                 values=['na_sales', 'eu_sales','jp_sales', 'other_sales'], \n",
    "                 aggfunc = 'sum')\n",
    "pop_ESRB = data_2014.pivot_table(index = 'rating', \n",
    "                 values=['na_sales', 'eu_sales','jp_sales', 'other_sales'], \n",
    "                 aggfunc = 'sum')\n",
    "\n",
    "\n",
    "pop_pl['na_sales'].plot(kind='pie', figsize=(5,5), autopct='%1.0f%%')\n",
    "plt.show()\n",
    "pop_gn['na_sales'].plot(kind='pie', figsize=(5,5), autopct='%1.0f%%');\n",
    "plt.show()\n"
   ]
  },
  {
   "cell_type": "markdown",
   "metadata": {},
   "source": [
    "В США наибольшей популярностью пользуются следующие платформы: ps4, XOne, PS3, XD360, 3DS;\\\n",
    "следующие жанры: Action, Shooter, Sports, Role-Playing, Music;"
   ]
  },
  {
   "cell_type": "markdown",
   "metadata": {},
   "source": [
    "### EU"
   ]
  },
  {
   "cell_type": "code",
   "execution_count": 43,
   "metadata": {},
   "outputs": [
    {
     "data": {
      "image/png": "[encoded data removed]",
      "text/plain": [
       "<Figure size 360x360 with 1 Axes>"
      ]
     },
     "metadata": {},
     "output_type": "display_data"
    },
    {
     "data": {
      "image/png": "[encoded data removed]",
      "text/plain": [
       "<Figure size 360x360 with 1 Axes>"
      ]
     },
     "metadata": {},
     "output_type": "display_data"
    }
   ],
   "source": [
    "pop_pl['eu_sales'].plot(kind='pie', figsize=(5,5), autopct='%1.0f%%')\n",
    "plt.show()\n",
    "pop_gn['eu_sales'].plot(kind='pie', figsize=(5,5), autopct='%1.0f%%');\n",
    "plt.show()\n"
   ]
  },
  {
   "cell_type": "markdown",
   "metadata": {},
   "source": [
    "В Европе наибольшей популярностью пользуются следующие платформы: ps4,PS3, XOne, XD360, 3DS;\\\n",
    "следующие жанры: Action, Shooter, Sports, Role-Playing, Music и Racing;"
   ]
  },
  {
   "cell_type": "markdown",
   "metadata": {},
   "source": [
    "### JP"
   ]
  },
  {
   "cell_type": "code",
   "execution_count": 44,
   "metadata": {},
   "outputs": [
    {
     "data": {
      "image/png": "[encoded data removed]",
      "text/plain": [
       "<Figure size 360x360 with 1 Axes>"
      ]
     },
     "metadata": {},
     "output_type": "display_data"
    },
    {
     "data": {
      "image/png": "[encoded data removed]",
      "text/plain": [
       "<Figure size 360x360 with 1 Axes>"
      ]
     },
     "metadata": {},
     "output_type": "display_data"
    }
   ],
   "source": [
    "pop_pl['jp_sales'].plot(kind='pie', figsize=(5,5), autopct='%1.0f%%')\n",
    "plt.show()\n",
    "pop_gn['jp_sales'].plot(kind='pie', figsize=(5,5), autopct='%1.0f%%');\n",
    "plt.show()\n",
    "#pop_ESRB['jp_sales'].plot(kind='pie', figsize=(5,5), autopct='%1.1f%%');"
   ]
  },
  {
   "cell_type": "markdown",
   "metadata": {},
   "source": [
    "В Японии ситуация сильно отличается, наибольшей популярностью пользуются следующие платформы:3DS, PS3, ps4, PSV, WiiU;\\\n",
    "следующие жанры: Role-Playing, Action, Music, Fighting, Shooter;"
   ]
  },
  {
   "cell_type": "markdown",
   "metadata": {},
   "source": [
    "### other"
   ]
  },
  {
   "cell_type": "code",
   "execution_count": 45,
   "metadata": {},
   "outputs": [
    {
     "data": {
      "image/png": "[encoded data removed]",
      "text/plain": [
       "<Figure size 360x360 with 1 Axes>"
      ]
     },
     "metadata": {},
     "output_type": "display_data"
    },
    {
     "data": {
      "image/png": "[encoded data removed]",
      "text/plain": [
       "<Figure size 360x360 with 1 Axes>"
      ]
     },
     "metadata": {},
     "output_type": "display_data"
    }
   ],
   "source": [
    "pop_pl['other_sales'].plot(kind='pie', figsize=(5,5), autopct='%1.0f%%')\n",
    "plt.show()\n",
    "pop_gn['other_sales'].plot(kind='pie', figsize=(5,5), autopct='%1.0f%%');\n",
    "plt.show()\n",
    "#pop_ESRB['other_sales'].plot(kind='pie', figsize=(5,5), autopct='%1.1f%%');"
   ]
  },
  {
   "cell_type": "markdown",
   "metadata": {},
   "source": [
    "По другим странам наибольшей популярностью пользуются следующие платформы: ps4, PS3, XOne, XD360, 3DS;\\\n",
    "следующие жанры: Action, Shooter, Sports, Role-Playing, Musiс. "
   ]
  },
  {
   "cell_type": "markdown",
   "metadata": {},
   "source": [
    "### ESRB"
   ]
  },
  {
   "cell_type": "code",
   "execution_count": 46,
   "metadata": {},
   "outputs": [
    {
     "data": {
      "text/html": [
       "<div>\n",
       "<style scoped>\n",
       "    .dataframe tbody tr th:only-of-type {\n",
       "        vertical-align: middle;\n",
       "    }\n",
       "\n",
       "    .dataframe tbody tr th {\n",
       "        vertical-align: top;\n",
       "    }\n",
       "\n",
       "    .dataframe thead th {\n",
       "        text-align: right;\n",
       "    }\n",
       "</style>\n",
       "<table border=\"1\" class=\"dataframe\">\n",
       "  <thead>\n",
       "    <tr style=\"text-align: right;\">\n",
       "      <th></th>\n",
       "      <th>rating</th>\n",
       "      <th>eu_sales</th>\n",
       "      <th>jp_sales</th>\n",
       "      <th>na_sales</th>\n",
       "      <th>other_sales</th>\n",
       "    </tr>\n",
       "  </thead>\n",
       "  <tbody>\n",
       "    <tr>\n",
       "      <th>0</th>\n",
       "      <td>E</td>\n",
       "      <td>58.06</td>\n",
       "      <td>8.94</td>\n",
       "      <td>50.74</td>\n",
       "      <td>15.39</td>\n",
       "    </tr>\n",
       "    <tr>\n",
       "      <th>1</th>\n",
       "      <td>E10+</td>\n",
       "      <td>26.16</td>\n",
       "      <td>4.46</td>\n",
       "      <td>33.23</td>\n",
       "      <td>7.83</td>\n",
       "    </tr>\n",
       "    <tr>\n",
       "      <th>2</th>\n",
       "      <td>M</td>\n",
       "      <td>93.69</td>\n",
       "      <td>8.01</td>\n",
       "      <td>96.48</td>\n",
       "      <td>28.71</td>\n",
       "    </tr>\n",
       "    <tr>\n",
       "      <th>3</th>\n",
       "      <td>No</td>\n",
       "      <td>58.95</td>\n",
       "      <td>56.90</td>\n",
       "      <td>64.72</td>\n",
       "      <td>18.40</td>\n",
       "    </tr>\n",
       "    <tr>\n",
       "      <th>4</th>\n",
       "      <td>T</td>\n",
       "      <td>34.07</td>\n",
       "      <td>14.78</td>\n",
       "      <td>38.95</td>\n",
       "      <td>11.33</td>\n",
       "    </tr>\n",
       "  </tbody>\n",
       "</table>\n",
       "</div>"
      ],
      "text/plain": [
       "  rating  eu_sales  jp_sales  na_sales  other_sales\n",
       "0      E     58.06      8.94     50.74        15.39\n",
       "1   E10+     26.16      4.46     33.23         7.83\n",
       "2      M     93.69      8.01     96.48        28.71\n",
       "3     No     58.95     56.90     64.72        18.40\n",
       "4      T     34.07     14.78     38.95        11.33"
      ]
     },
     "execution_count": 46,
     "metadata": {},
     "output_type": "execute_result"
    }
   ],
   "source": [
    "pop_ESRB = pop_ESRB.reset_index()\n",
    "pop_ESRB"
   ]
  },
  {
   "cell_type": "code",
   "execution_count": 47,
   "metadata": {},
   "outputs": [
    {
     "data": {
      "image/png": "[encoded data removed]",
      "text/plain": [
       "<Figure size 864x360 with 1 Axes>"
      ]
     },
     "metadata": {},
     "output_type": "display_data"
    },
    {
     "data": {
      "image/png": "[encoded data removed]",
      "text/plain": [
       "<Figure size 864x360 with 1 Axes>"
      ]
     },
     "metadata": {},
     "output_type": "display_data"
    },
    {
     "data": {
      "image/png": "[encoded data removed]",
      "text/plain": [
       "<Figure size 864x360 with 1 Axes>"
      ]
     },
     "metadata": {},
     "output_type": "display_data"
    },
    {
     "data": {
      "image/png": "[encoded data removed]",
      "text/plain": [
       "<Figure size 864x360 with 1 Axes>"
      ]
     },
     "metadata": {},
     "output_type": "display_data"
    }
   ],
   "source": [
    "sns.barplot(x = 'rating', y = 'eu_sales', data = pop_ESRB)\n",
    "plt.show()\n",
    "sns.barplot(x = 'rating', y = 'jp_sales', data = pop_ESRB)\n",
    "plt.show()\n",
    "sns.barplot(x = 'rating', y = 'na_sales', data = pop_ESRB)\n",
    "plt.show()\n",
    "sns.barplot(x = 'rating', y = 'other_sales', data = pop_ESRB)\n",
    "sns.set(rc={'figure.figsize':(12,5)})"
   ]
  },
  {
   "cell_type": "markdown",
   "metadata": {},
   "source": [
    "по рейтингу ESRB самый популярный рейтинг \"М\" по всем странам, кроме Японии. В Японии наибольшие продажи у игр без рейтинга. "
   ]
  },
  {
   "cell_type": "markdown",
   "metadata": {},
   "source": [
    "## Шаг 5. Проверьте гипотезы"
   ]
  },
  {
   "cell_type": "markdown",
   "metadata": {},
   "source": [
    "#### Средние пользовательские рейтинги платформ Xbox One и PC одинаковые;"
   ]
  },
  {
   "cell_type": "markdown",
   "metadata": {},
   "source": [
    "Н0: Средние пользовательские рейтинги Xbox One = средним пользовательским рейтингам PC;\\\n",
    "Н1: Средние пользовательские рейтинги Xbox One ≠ средним пользовательским рейтингам PC;"
   ]
  },
  {
   "cell_type": "code",
   "execution_count": 48,
   "metadata": {},
   "outputs": [
    {
     "name": "stdout",
     "output_type": "stream",
     "text": [
      "0.139237120435483\n",
      "Не получилось отвергнуть нулевую гипотезу\n"
     ]
    }
   ],
   "source": [
    "Xbox_One = data_2014[data_2014['platform'] == 'XOne']\n",
    "Xbox_One = Xbox_One.dropna(subset = ['user_score'])\n",
    "Xbox_One = Xbox_One['user_score']\n",
    "PC = data_2014[data_2014['platform'] == 'PC']\n",
    "PC = PC.dropna(subset = ['user_score'])\n",
    "PC = PC['user_score']\n",
    "alpha = 0.05\n",
    "results = st.ttest_ind(Xbox_One, PC, equal_var = False)\n",
    "\n",
    "print(results.pvalue)\n",
    "\n",
    "if (results.pvalue  < alpha):\n",
    "    print(\"Отвергаем нулевую гипотезу\")\n",
    "else:\n",
    "    print(\"Не получилось отвергнуть нулевую гипотезу\")"
   ]
  },
  {
   "cell_type": "markdown",
   "metadata": {},
   "source": [
    "поскольку не получилось отвергнуть нулевую гипотезу, можно сделать вывод, что:\\\n",
    "Средние пользовательские рейтинги платформ Xbox One и PC одинаковые"
   ]
  },
  {
   "cell_type": "markdown",
   "metadata": {},
   "source": [
    "#### Средние пользовательские рейтинги жанров Action (англ. «действие», экшен-игры) и Sports (англ. «спортивные соревнования») разные."
   ]
  },
  {
   "cell_type": "markdown",
   "metadata": {},
   "source": [
    "Н0: Средние пользовательские рейтинги Action = средним пользовательским рейтингам Sports;\\\n",
    "Н1: Средние пользовательские рейтинги Action ≠ средним пользовательским рейтингам Sports;"
   ]
  },
  {
   "cell_type": "code",
   "execution_count": 49,
   "metadata": {},
   "outputs": [
    {
     "name": "stdout",
     "output_type": "stream",
     "text": [
      "9.658176026869598e-15\n",
      "Отвергаем нулевую гипотезу\n"
     ]
    }
   ],
   "source": [
    "Action = data_2014[data_2014['genre'] == 'Action']\n",
    "Action = Action.dropna(subset = ['user_score'])\n",
    "Action = Action['user_score']\n",
    "Sports = data_2014[data_2014['genre'] == 'Sports']\n",
    "Sports = Sports.dropna(subset = ['user_score'])\n",
    "Sports = Sports['user_score']\n",
    "alpha = 0.05\n",
    "results = st.ttest_ind(Action, Sports, equal_var = False)\n",
    "\n",
    "print(results.pvalue)\n",
    "\n",
    "if (results.pvalue  < alpha):\n",
    "    print(\"Отвергаем нулевую гипотезу\")\n",
    "else:\n",
    "    print(\"Не получилось отвергнуть нулевую гипотезу\")"
   ]
  },
  {
   "cell_type": "markdown",
   "metadata": {},
   "source": [
    "Поскольку мы отвергли нулевую гипотезу о равенстве рейтингов то, можно сделать заключение, что:\\\n",
    "Средние пользовательские рейтинги жанров Action и Sports разные."
   ]
  },
  {
   "cell_type": "markdown",
   "metadata": {},
   "source": [
    "## Общий вывод"
   ]
  },
  {
   "cell_type": "markdown",
   "metadata": {},
   "source": [
    "С 2002 года пошел \"всплеск\" разработки игр\\\n",
    "Срок жизни платформ с наибольшими суммарными продажами:\\\n",
    "PS2 - 11 лет\\\n",
    "X360 - 11 лет\\\n",
    "PS3 - 11 лет\\\n",
    "Wii - 9 лет\\\n",
    "DS - 9 лет\n",
    "\n",
    "Актуальный период для прогноза с 2013 года.\\\n",
    "Наиболее популярными и актуальными платформами на 2016 год являются PS4 и XOne\\\n",
    "Популярность предыдущих поколений этих платформ снижается. Популярность остальных не меняется\\\n",
    "Рейтинг средней ежегодной выручки за 2013-2016 года распределился следующим образом: 1.\tPS4 (с явным преимуществом), 2.\tXOne, 3.3DS, 4.\tPS3, 5.\tX360\n",
    "\n",
    "Наблюдается положительная зависимость между оценками пользователей и продажами, однако она не значительна, это может быть связано с тем, что наиболее популярные игры(с большим количеством продаж) имеют оценки от 6 до 9. Грубо говоря, чем больше продаж, тем больше оценок как положительных, так и отрицательных, тем ниже средний результат.\n",
    "\n",
    "Наблюдается значительная положительная зависимость между оценками критиков и количествами продаж. Это объясняет желание разработчиков угождать критикам в новых веяниях.\n",
    "\n",
    "Данная ситуация аналогична и на других платформа, оценки критиков куда значительнее влияют на количество продаж, нежели оценки пользователей.\n",
    "\n",
    "Наиболее популярные и прибыльные жанры: 1.\tAction, 2.\tShooter, 3.\tSports, 4.\tRole-Playing\n",
    "\n",
    "В США наибольшей популярностью пользуются следующие платформы: ps4, XOne, PS3, XD360, 3DS; и следующие жанры: Action, Shooter, Sports, Role-Playing, Music;\\\n",
    "В Европе наибольшей популярностью пользуются следующие платформы: ps4,PS3, XOne, XD360, 3DS; и следующие жанры: Action, Shooter, Sports, Role-Playing, Music и Racing;\\\n",
    "В Японии ситуация сильно отличается, наибольшей популярностью пользуются следующие платформы:3DS, PS3, ps4, PSV, WiiU; и следующие жанры: Role-Playing, Action, Music, Fighting, Shooter;\\\n",
    "По другим странам наибольшей популярностью пользуются следующие платформы: ps4, PS3, XOne, XD360, 3DS; и следующие жанры: Action, Shooter, Sports, Role-Playing, Musiс.\\\n",
    "по рейтингу ESRB самый популярный рейтинг \"М\" по всем странам, кроме Японии. В японии наибольшие продажи у игр без рейтинга.\n",
    "\n",
    "При проверке гипотез выяснилось:\\\n",
    "Средние пользовательские рейтинги платформ Xbox One и PC одинаковые\\\n",
    "Средние пользовательские рейтинги жанров Action и Sports разные.\n"
   ]
  }
 ],
 "metadata": {
  "ExecuteTimeLog": [
   {
    "duration": 374,
    "start_time": "2022-10-19T08:37:33.094Z"
   },
   {
    "duration": 222,
    "start_time": "2022-10-19T08:40:13.013Z"
   },
   {
    "duration": 13,
    "start_time": "2022-10-19T08:41:47.475Z"
   },
   {
    "duration": 4,
    "start_time": "2022-10-19T08:55:04.967Z"
   },
   {
    "duration": 6,
    "start_time": "2022-10-19T08:55:20.995Z"
   },
   {
    "duration": 3,
    "start_time": "2022-10-19T08:55:38.802Z"
   },
   {
    "duration": 5,
    "start_time": "2022-10-19T08:56:05.857Z"
   },
   {
    "duration": 70,
    "start_time": "2022-10-19T08:56:48.952Z"
   },
   {
    "duration": 10,
    "start_time": "2022-10-19T10:26:43.411Z"
   },
   {
    "duration": 591,
    "start_time": "2022-10-19T10:26:57.436Z"
   },
   {
    "duration": 6,
    "start_time": "2022-10-19T10:30:31.275Z"
   },
   {
    "duration": 654,
    "start_time": "2022-10-19T10:31:47.971Z"
   },
   {
    "duration": 5,
    "start_time": "2022-10-19T10:32:32.573Z"
   },
   {
    "duration": 880,
    "start_time": "2022-10-19T10:36:02.921Z"
   },
   {
    "duration": 4,
    "start_time": "2022-10-19T10:36:17.363Z"
   },
   {
    "duration": 5,
    "start_time": "2022-10-19T10:41:43.416Z"
   },
   {
    "duration": 7,
    "start_time": "2022-10-19T10:48:43.451Z"
   },
   {
    "duration": 4,
    "start_time": "2022-10-19T10:48:55.755Z"
   },
   {
    "duration": 653,
    "start_time": "2022-10-19T10:49:59.045Z"
   },
   {
    "duration": 9,
    "start_time": "2022-10-19T10:50:27.290Z"
   },
   {
    "duration": 4,
    "start_time": "2022-10-19T10:50:38.146Z"
   },
   {
    "duration": 5,
    "start_time": "2022-10-19T10:50:41.200Z"
   },
   {
    "duration": 2,
    "start_time": "2022-10-19T10:50:49.977Z"
   },
   {
    "duration": 62,
    "start_time": "2022-10-19T10:50:50.396Z"
   },
   {
    "duration": 14,
    "start_time": "2022-10-19T10:50:50.758Z"
   },
   {
    "duration": 5,
    "start_time": "2022-10-19T10:50:51.798Z"
   },
   {
    "duration": 5,
    "start_time": "2022-10-19T10:50:52.673Z"
   },
   {
    "duration": 4,
    "start_time": "2022-10-19T10:50:55.820Z"
   },
   {
    "duration": 11,
    "start_time": "2022-10-19T10:50:57.082Z"
   },
   {
    "duration": 6,
    "start_time": "2022-10-19T10:51:09.846Z"
   },
   {
    "duration": 3,
    "start_time": "2022-10-19T10:51:18.827Z"
   },
   {
    "duration": 14,
    "start_time": "2022-10-19T10:59:07.754Z"
   },
   {
    "duration": 10,
    "start_time": "2022-10-19T10:59:18.811Z"
   },
   {
    "duration": 67,
    "start_time": "2022-10-19T11:11:26.065Z"
   },
   {
    "duration": 10,
    "start_time": "2022-10-19T11:11:39.392Z"
   },
   {
    "duration": 11,
    "start_time": "2022-10-19T11:13:17.222Z"
   },
   {
    "duration": 52,
    "start_time": "2022-10-19T11:13:34.851Z"
   },
   {
    "duration": 16,
    "start_time": "2022-10-19T11:14:10.740Z"
   },
   {
    "duration": 20,
    "start_time": "2022-10-19T11:14:43.382Z"
   },
   {
    "duration": 16,
    "start_time": "2022-10-19T11:15:03.142Z"
   },
   {
    "duration": 15,
    "start_time": "2022-10-19T11:16:25.939Z"
   },
   {
    "duration": 17,
    "start_time": "2022-10-19T11:16:38.120Z"
   },
   {
    "duration": 16,
    "start_time": "2022-10-19T11:17:35.403Z"
   },
   {
    "duration": 13,
    "start_time": "2022-10-19T11:18:01.651Z"
   },
   {
    "duration": 13,
    "start_time": "2022-10-19T11:18:14.418Z"
   },
   {
    "duration": 2,
    "start_time": "2022-10-19T11:19:05.231Z"
   },
   {
    "duration": 61,
    "start_time": "2022-10-19T11:19:05.424Z"
   },
   {
    "duration": 13,
    "start_time": "2022-10-19T11:19:05.628Z"
   },
   {
    "duration": 4,
    "start_time": "2022-10-19T11:19:06.428Z"
   },
   {
    "duration": 6,
    "start_time": "2022-10-19T11:19:07.035Z"
   },
   {
    "duration": 4,
    "start_time": "2022-10-19T11:19:07.753Z"
   },
   {
    "duration": 7,
    "start_time": "2022-10-19T11:19:08.058Z"
   },
   {
    "duration": 7,
    "start_time": "2022-10-19T11:19:08.681Z"
   },
   {
    "duration": 8,
    "start_time": "2022-10-19T11:19:09.382Z"
   },
   {
    "duration": 11,
    "start_time": "2022-10-19T11:19:09.747Z"
   },
   {
    "duration": 9,
    "start_time": "2022-10-19T11:19:26.469Z"
   },
   {
    "duration": 18,
    "start_time": "2022-10-19T11:19:27.591Z"
   },
   {
    "duration": 7,
    "start_time": "2022-10-19T11:19:55.179Z"
   },
   {
    "duration": 14,
    "start_time": "2022-10-19T11:19:56.589Z"
   },
   {
    "duration": 404,
    "start_time": "2022-10-19T11:20:11.504Z"
   },
   {
    "duration": 67,
    "start_time": "2022-10-19T11:20:11.909Z"
   },
   {
    "duration": 13,
    "start_time": "2022-10-19T11:20:11.978Z"
   },
   {
    "duration": 10,
    "start_time": "2022-10-19T11:20:11.993Z"
   },
   {
    "duration": 15,
    "start_time": "2022-10-19T11:20:12.004Z"
   },
   {
    "duration": 6,
    "start_time": "2022-10-19T11:20:12.021Z"
   },
   {
    "duration": 11,
    "start_time": "2022-10-19T11:20:12.028Z"
   },
   {
    "duration": 18,
    "start_time": "2022-10-19T11:20:12.041Z"
   },
   {
    "duration": 7,
    "start_time": "2022-10-19T11:20:12.060Z"
   },
   {
    "duration": 16,
    "start_time": "2022-10-19T11:20:12.069Z"
   },
   {
    "duration": 2,
    "start_time": "2022-10-19T11:20:50.586Z"
   },
   {
    "duration": 62,
    "start_time": "2022-10-19T11:20:50.857Z"
   },
   {
    "duration": 15,
    "start_time": "2022-10-19T11:20:51.083Z"
   },
   {
    "duration": 5,
    "start_time": "2022-10-19T11:20:51.759Z"
   },
   {
    "duration": 5,
    "start_time": "2022-10-19T11:20:52.266Z"
   },
   {
    "duration": 4,
    "start_time": "2022-10-19T11:20:53.047Z"
   },
   {
    "duration": 7,
    "start_time": "2022-10-19T11:20:53.364Z"
   },
   {
    "duration": 9,
    "start_time": "2022-10-19T11:20:54.086Z"
   },
   {
    "duration": 7,
    "start_time": "2022-10-19T11:20:54.793Z"
   },
   {
    "duration": 12,
    "start_time": "2022-10-19T11:20:55.338Z"
   },
   {
    "duration": 4,
    "start_time": "2022-10-19T11:21:06.359Z"
   },
   {
    "duration": 13,
    "start_time": "2022-10-19T11:21:11.547Z"
   },
   {
    "duration": 4,
    "start_time": "2022-10-19T11:21:38.277Z"
   },
   {
    "duration": 16,
    "start_time": "2022-10-19T11:21:39.284Z"
   },
   {
    "duration": 2,
    "start_time": "2022-10-19T11:21:49.116Z"
   },
   {
    "duration": 61,
    "start_time": "2022-10-19T11:21:49.488Z"
   },
   {
    "duration": 12,
    "start_time": "2022-10-19T11:21:49.765Z"
   },
   {
    "duration": 5,
    "start_time": "2022-10-19T11:21:50.642Z"
   },
   {
    "duration": 5,
    "start_time": "2022-10-19T11:21:51.234Z"
   },
   {
    "duration": 5,
    "start_time": "2022-10-19T11:21:51.859Z"
   },
   {
    "duration": 6,
    "start_time": "2022-10-19T11:21:52.144Z"
   },
   {
    "duration": 8,
    "start_time": "2022-10-19T11:21:52.798Z"
   },
   {
    "duration": 6,
    "start_time": "2022-10-19T11:21:53.694Z"
   },
   {
    "duration": 13,
    "start_time": "2022-10-19T11:21:54.018Z"
   },
   {
    "duration": 5,
    "start_time": "2022-10-19T11:21:54.908Z"
   },
   {
    "duration": 17,
    "start_time": "2022-10-19T11:21:56.098Z"
   },
   {
    "duration": 77,
    "start_time": "2022-10-19T11:23:50.141Z"
   },
   {
    "duration": 11,
    "start_time": "2022-10-19T11:24:19.347Z"
   },
   {
    "duration": 5,
    "start_time": "2022-10-19T11:29:32.347Z"
   },
   {
    "duration": 2,
    "start_time": "2022-10-19T11:29:38.801Z"
   },
   {
    "duration": 59,
    "start_time": "2022-10-19T11:29:39.101Z"
   },
   {
    "duration": 13,
    "start_time": "2022-10-19T11:29:39.329Z"
   },
   {
    "duration": 5,
    "start_time": "2022-10-19T11:29:40.089Z"
   },
   {
    "duration": 5,
    "start_time": "2022-10-19T11:29:40.616Z"
   },
   {
    "duration": 4,
    "start_time": "2022-10-19T11:29:41.559Z"
   },
   {
    "duration": 7,
    "start_time": "2022-10-19T11:29:41.811Z"
   },
   {
    "duration": 7,
    "start_time": "2022-10-19T11:29:42.358Z"
   },
   {
    "duration": 5,
    "start_time": "2022-10-19T11:29:43.065Z"
   },
   {
    "duration": 14,
    "start_time": "2022-10-19T11:29:49.882Z"
   },
   {
    "duration": 15,
    "start_time": "2022-10-19T11:30:18.891Z"
   },
   {
    "duration": 8,
    "start_time": "2022-10-19T16:36:24.214Z"
   },
   {
    "duration": 5,
    "start_time": "2022-10-19T16:36:35.777Z"
   },
   {
    "duration": 14,
    "start_time": "2022-10-19T16:36:37.819Z"
   },
   {
    "duration": 5,
    "start_time": "2022-10-19T16:39:30.600Z"
   },
   {
    "duration": 10,
    "start_time": "2022-10-19T16:44:01.206Z"
   },
   {
    "duration": 9,
    "start_time": "2022-10-19T16:44:12.748Z"
   },
   {
    "duration": 7,
    "start_time": "2022-10-19T16:44:21.232Z"
   },
   {
    "duration": 14,
    "start_time": "2022-10-19T16:44:32.121Z"
   },
   {
    "duration": 9,
    "start_time": "2022-10-19T16:44:44.689Z"
   },
   {
    "duration": 8,
    "start_time": "2022-10-19T16:44:57.939Z"
   },
   {
    "duration": 15,
    "start_time": "2022-10-19T16:45:10.499Z"
   },
   {
    "duration": 8,
    "start_time": "2022-10-19T16:45:50.043Z"
   },
   {
    "duration": 8,
    "start_time": "2022-10-19T16:46:05.557Z"
   },
   {
    "duration": 9,
    "start_time": "2022-10-19T16:46:13.682Z"
   },
   {
    "duration": 6,
    "start_time": "2022-10-19T16:47:21.293Z"
   },
   {
    "duration": 4,
    "start_time": "2022-10-19T16:55:20.618Z"
   },
   {
    "duration": 4,
    "start_time": "2022-10-19T16:58:10.258Z"
   },
   {
    "duration": 5,
    "start_time": "2022-10-19T16:58:12.617Z"
   },
   {
    "duration": 370,
    "start_time": "2022-10-20T13:13:31.657Z"
   },
   {
    "duration": 88,
    "start_time": "2022-10-20T13:13:32.029Z"
   },
   {
    "duration": 15,
    "start_time": "2022-10-20T13:13:32.119Z"
   },
   {
    "duration": 5,
    "start_time": "2022-10-20T13:13:33.020Z"
   },
   {
    "duration": 4,
    "start_time": "2022-10-20T13:13:33.402Z"
   },
   {
    "duration": 5,
    "start_time": "2022-10-20T13:13:33.764Z"
   },
   {
    "duration": 6,
    "start_time": "2022-10-20T13:13:33.987Z"
   },
   {
    "duration": 9,
    "start_time": "2022-10-20T13:13:34.420Z"
   },
   {
    "duration": 5,
    "start_time": "2022-10-20T13:13:35.389Z"
   },
   {
    "duration": 13,
    "start_time": "2022-10-20T13:13:35.633Z"
   },
   {
    "duration": 5,
    "start_time": "2022-10-20T13:13:36.972Z"
   },
   {
    "duration": 5,
    "start_time": "2022-10-20T13:13:40.031Z"
   },
   {
    "duration": 5,
    "start_time": "2022-10-20T13:13:42.478Z"
   },
   {
    "duration": 20,
    "start_time": "2022-10-20T13:14:51.658Z"
   },
   {
    "duration": 82,
    "start_time": "2022-10-20T13:25:40.330Z"
   },
   {
    "duration": 15,
    "start_time": "2022-10-20T13:27:06.011Z"
   },
   {
    "duration": 54,
    "start_time": "2022-10-20T13:32:38.424Z"
   },
   {
    "duration": 16,
    "start_time": "2022-10-20T13:32:50.611Z"
   },
   {
    "duration": 20,
    "start_time": "2022-10-20T13:34:51.278Z"
   },
   {
    "duration": 94,
    "start_time": "2022-10-20T13:40:26.930Z"
   },
   {
    "duration": 97,
    "start_time": "2022-10-20T13:40:47.730Z"
   },
   {
    "duration": 46,
    "start_time": "2022-10-20T13:41:29.035Z"
   },
   {
    "duration": 55,
    "start_time": "2022-10-20T13:41:51.704Z"
   },
   {
    "duration": 48,
    "start_time": "2022-10-20T13:44:15.378Z"
   },
   {
    "duration": 50,
    "start_time": "2022-10-20T13:44:43.001Z"
   },
   {
    "duration": 55,
    "start_time": "2022-10-20T13:44:52.606Z"
   },
   {
    "duration": 21,
    "start_time": "2022-10-20T13:45:19.321Z"
   },
   {
    "duration": 45,
    "start_time": "2022-10-20T13:46:44.104Z"
   },
   {
    "duration": 15,
    "start_time": "2022-10-20T13:46:56.665Z"
   },
   {
    "duration": 14,
    "start_time": "2022-10-20T13:47:08.152Z"
   },
   {
    "duration": 4,
    "start_time": "2022-10-20T13:47:48.695Z"
   },
   {
    "duration": 4,
    "start_time": "2022-10-20T13:48:16.078Z"
   },
   {
    "duration": 1442,
    "start_time": "2022-10-20T13:49:12.438Z"
   },
   {
    "duration": 19,
    "start_time": "2022-10-20T13:53:14.718Z"
   },
   {
    "duration": 11,
    "start_time": "2022-10-20T13:53:36.542Z"
   },
   {
    "duration": 17,
    "start_time": "2022-10-20T13:55:18.059Z"
   },
   {
    "duration": 53,
    "start_time": "2022-10-20T13:56:16.110Z"
   },
   {
    "duration": 52,
    "start_time": "2022-10-20T13:56:28.418Z"
   },
   {
    "duration": 42,
    "start_time": "2022-10-20T13:56:34.191Z"
   },
   {
    "duration": 4,
    "start_time": "2022-10-20T13:58:21.431Z"
   },
   {
    "duration": 18,
    "start_time": "2022-10-20T13:58:54.810Z"
   },
   {
    "duration": 28,
    "start_time": "2022-10-20T13:59:27.359Z"
   },
   {
    "duration": 2,
    "start_time": "2022-10-20T14:00:04.659Z"
   },
   {
    "duration": 2,
    "start_time": "2022-10-20T14:02:00.598Z"
   },
   {
    "duration": 52,
    "start_time": "2022-10-20T14:02:00.922Z"
   },
   {
    "duration": 13,
    "start_time": "2022-10-20T14:02:01.158Z"
   },
   {
    "duration": 5,
    "start_time": "2022-10-20T14:02:01.873Z"
   },
   {
    "duration": 6,
    "start_time": "2022-10-20T14:02:02.415Z"
   },
   {
    "duration": 6,
    "start_time": "2022-10-20T14:02:03.006Z"
   },
   {
    "duration": 10,
    "start_time": "2022-10-20T14:02:03.288Z"
   },
   {
    "duration": 8,
    "start_time": "2022-10-20T14:02:03.831Z"
   },
   {
    "duration": 2,
    "start_time": "2022-10-20T14:02:04.446Z"
   },
   {
    "duration": 12,
    "start_time": "2022-10-20T14:02:04.787Z"
   },
   {
    "duration": 11,
    "start_time": "2022-10-20T14:03:31.560Z"
   },
   {
    "duration": 5,
    "start_time": "2022-10-20T14:04:18.759Z"
   },
   {
    "duration": 5,
    "start_time": "2022-10-20T14:04:24.850Z"
   },
   {
    "duration": 3,
    "start_time": "2022-10-20T14:05:28.084Z"
   },
   {
    "duration": 5,
    "start_time": "2022-10-20T14:06:25.093Z"
   },
   {
    "duration": 3,
    "start_time": "2022-10-20T14:06:39.882Z"
   },
   {
    "duration": 50,
    "start_time": "2022-10-20T14:06:40.201Z"
   },
   {
    "duration": 13,
    "start_time": "2022-10-20T14:06:40.421Z"
   },
   {
    "duration": 5,
    "start_time": "2022-10-20T14:06:41.327Z"
   },
   {
    "duration": 5,
    "start_time": "2022-10-20T14:06:41.980Z"
   },
   {
    "duration": 5,
    "start_time": "2022-10-20T14:06:43.098Z"
   },
   {
    "duration": 10,
    "start_time": "2022-10-20T14:06:43.390Z"
   },
   {
    "duration": 10,
    "start_time": "2022-10-20T14:06:44.358Z"
   },
   {
    "duration": 2,
    "start_time": "2022-10-20T14:06:45.459Z"
   },
   {
    "duration": 5,
    "start_time": "2022-10-20T14:06:46.397Z"
   },
   {
    "duration": 13,
    "start_time": "2022-10-20T14:06:48.301Z"
   },
   {
    "duration": 5,
    "start_time": "2022-10-20T14:10:05.213Z"
   },
   {
    "duration": 19,
    "start_time": "2022-10-20T14:15:45.742Z"
   },
   {
    "duration": 17,
    "start_time": "2022-10-20T14:18:23.493Z"
   },
   {
    "duration": 2,
    "start_time": "2022-10-20T14:18:56.914Z"
   },
   {
    "duration": 51,
    "start_time": "2022-10-20T14:18:57.299Z"
   },
   {
    "duration": 13,
    "start_time": "2022-10-20T14:18:57.661Z"
   },
   {
    "duration": 5,
    "start_time": "2022-10-20T14:18:58.866Z"
   },
   {
    "duration": 5,
    "start_time": "2022-10-20T14:18:59.563Z"
   },
   {
    "duration": 4,
    "start_time": "2022-10-20T14:19:00.541Z"
   },
   {
    "duration": 7,
    "start_time": "2022-10-20T14:19:00.845Z"
   },
   {
    "duration": 8,
    "start_time": "2022-10-20T14:19:01.514Z"
   },
   {
    "duration": 19,
    "start_time": "2022-10-20T14:19:03.558Z"
   },
   {
    "duration": 11,
    "start_time": "2022-10-20T14:21:03.158Z"
   },
   {
    "duration": 25,
    "start_time": "2022-10-20T14:23:22.657Z"
   },
   {
    "duration": 22,
    "start_time": "2022-10-20T14:24:13.284Z"
   },
   {
    "duration": 2,
    "start_time": "2022-10-20T14:25:04.912Z"
   },
   {
    "duration": 51,
    "start_time": "2022-10-20T14:25:05.333Z"
   },
   {
    "duration": 13,
    "start_time": "2022-10-20T14:25:05.656Z"
   },
   {
    "duration": 4,
    "start_time": "2022-10-20T14:25:06.578Z"
   },
   {
    "duration": 5,
    "start_time": "2022-10-20T14:25:07.260Z"
   },
   {
    "duration": 4,
    "start_time": "2022-10-20T14:25:08.429Z"
   },
   {
    "duration": 7,
    "start_time": "2022-10-20T14:25:08.807Z"
   },
   {
    "duration": 8,
    "start_time": "2022-10-20T14:25:09.543Z"
   },
   {
    "duration": 22,
    "start_time": "2022-10-20T14:25:10.588Z"
   },
   {
    "duration": 20,
    "start_time": "2022-10-20T14:26:31.564Z"
   },
   {
    "duration": 21,
    "start_time": "2022-10-20T14:28:51.398Z"
   },
   {
    "duration": 4,
    "start_time": "2022-10-20T14:30:17.808Z"
   },
   {
    "duration": 29659,
    "start_time": "2022-10-20T14:30:34.863Z"
   },
   {
    "duration": 8,
    "start_time": "2022-10-20T14:33:00.123Z"
   },
   {
    "duration": 76,
    "start_time": "2022-10-20T14:33:00.165Z"
   },
   {
    "duration": 12,
    "start_time": "2022-10-20T14:33:00.243Z"
   },
   {
    "duration": 3,
    "start_time": "2022-10-20T14:33:04.425Z"
   },
   {
    "duration": 53,
    "start_time": "2022-10-20T14:33:05.070Z"
   },
   {
    "duration": 13,
    "start_time": "2022-10-20T14:33:05.967Z"
   },
   {
    "duration": 5,
    "start_time": "2022-10-20T14:33:07.145Z"
   },
   {
    "duration": 5,
    "start_time": "2022-10-20T14:33:07.778Z"
   },
   {
    "duration": 6,
    "start_time": "2022-10-20T14:33:08.387Z"
   },
   {
    "duration": 7,
    "start_time": "2022-10-20T14:33:08.660Z"
   },
   {
    "duration": 8,
    "start_time": "2022-10-20T14:33:09.321Z"
   },
   {
    "duration": 29739,
    "start_time": "2022-10-20T14:33:10.004Z"
   },
   {
    "duration": 4,
    "start_time": "2022-10-20T14:33:39.745Z"
   },
   {
    "duration": 42,
    "start_time": "2022-10-20T14:33:39.751Z"
   },
   {
    "duration": 30670,
    "start_time": "2022-10-20T14:34:04.807Z"
   },
   {
    "duration": 30545,
    "start_time": "2022-10-20T14:34:37.589Z"
   },
   {
    "duration": 30616,
    "start_time": "2022-10-20T14:35:14.798Z"
   },
   {
    "duration": 29608,
    "start_time": "2022-10-20T14:37:32.989Z"
   },
   {
    "duration": 3,
    "start_time": "2022-10-20T14:38:33.176Z"
   },
   {
    "duration": 50,
    "start_time": "2022-10-20T14:38:33.553Z"
   },
   {
    "duration": 12,
    "start_time": "2022-10-20T14:38:35.626Z"
   },
   {
    "duration": 4,
    "start_time": "2022-10-20T14:38:39.140Z"
   },
   {
    "duration": 5,
    "start_time": "2022-10-20T14:38:40.888Z"
   },
   {
    "duration": 4,
    "start_time": "2022-10-20T14:38:41.956Z"
   },
   {
    "duration": 6,
    "start_time": "2022-10-20T14:38:43.379Z"
   },
   {
    "duration": 10,
    "start_time": "2022-10-20T14:38:46.983Z"
   },
   {
    "duration": 29345,
    "start_time": "2022-10-20T14:39:21.294Z"
   },
   {
    "duration": 30205,
    "start_time": "2022-10-20T14:40:16.365Z"
   },
   {
    "duration": 4,
    "start_time": "2022-10-20T14:40:46.571Z"
   },
   {
    "duration": 4,
    "start_time": "2022-10-20T14:40:57.573Z"
   },
   {
    "duration": 14,
    "start_time": "2022-10-20T14:44:14.011Z"
   },
   {
    "duration": 19,
    "start_time": "2022-10-20T14:45:38.933Z"
   },
   {
    "duration": 6,
    "start_time": "2022-10-20T14:45:59.220Z"
   },
   {
    "duration": 580,
    "start_time": "2022-10-20T14:48:16.503Z"
   },
   {
    "duration": 145,
    "start_time": "2022-10-20T14:49:05.861Z"
   },
   {
    "duration": 8,
    "start_time": "2022-10-20T14:50:22.070Z"
   },
   {
    "duration": 154,
    "start_time": "2022-10-20T14:53:57.821Z"
   },
   {
    "duration": 211,
    "start_time": "2022-10-20T14:54:21.712Z"
   },
   {
    "duration": 17,
    "start_time": "2022-10-20T14:57:01.762Z"
   },
   {
    "duration": 9,
    "start_time": "2022-10-20T14:57:12.394Z"
   },
   {
    "duration": 10,
    "start_time": "2022-10-20T14:57:25.158Z"
   },
   {
    "duration": 748,
    "start_time": "2022-10-20T14:57:50.753Z"
   },
   {
    "duration": 180,
    "start_time": "2022-10-20T14:58:06.918Z"
   },
   {
    "duration": 13,
    "start_time": "2022-10-20T14:58:26.967Z"
   },
   {
    "duration": 14,
    "start_time": "2022-10-20T14:59:46.028Z"
   },
   {
    "duration": 16,
    "start_time": "2022-10-20T14:59:51.017Z"
   },
   {
    "duration": 10,
    "start_time": "2022-10-20T14:59:57.800Z"
   },
   {
    "duration": 18,
    "start_time": "2022-10-20T15:00:05.563Z"
   },
   {
    "duration": 4200,
    "start_time": "2022-10-20T15:01:20.095Z"
   },
   {
    "duration": 665,
    "start_time": "2022-10-20T15:02:29.854Z"
   },
   {
    "duration": 591,
    "start_time": "2022-10-20T15:02:49.511Z"
   },
   {
    "duration": 2893,
    "start_time": "2022-10-20T15:03:07.741Z"
   },
   {
    "duration": 4,
    "start_time": "2022-10-20T15:03:33.670Z"
   },
   {
    "duration": 9,
    "start_time": "2022-10-20T15:04:16.676Z"
   },
   {
    "duration": 7,
    "start_time": "2022-10-20T15:04:25.751Z"
   },
   {
    "duration": 12,
    "start_time": "2022-10-20T15:04:33.502Z"
   },
   {
    "duration": 10,
    "start_time": "2022-10-20T15:04:53.717Z"
   },
   {
    "duration": 7,
    "start_time": "2022-10-20T15:04:54.907Z"
   },
   {
    "duration": 47,
    "start_time": "2022-10-20T15:05:57.968Z"
   },
   {
    "duration": 20,
    "start_time": "2022-10-20T15:06:09.761Z"
   },
   {
    "duration": 20,
    "start_time": "2022-10-20T15:06:46.790Z"
   },
   {
    "duration": 20,
    "start_time": "2022-10-20T15:07:05.922Z"
   },
   {
    "duration": 200,
    "start_time": "2022-10-20T15:07:44.696Z"
   },
   {
    "duration": 60,
    "start_time": "2022-10-20T15:08:44.283Z"
   },
   {
    "duration": 181,
    "start_time": "2022-10-20T15:08:52.732Z"
   },
   {
    "duration": 1122,
    "start_time": "2022-10-20T15:09:08.524Z"
   },
   {
    "duration": 14,
    "start_time": "2022-10-20T15:09:22.903Z"
   },
   {
    "duration": 178,
    "start_time": "2022-10-20T15:09:34.945Z"
   },
   {
    "duration": 181,
    "start_time": "2022-10-20T15:10:38.786Z"
   },
   {
    "duration": 269,
    "start_time": "2022-10-20T15:11:35.453Z"
   },
   {
    "duration": 511,
    "start_time": "2022-10-20T15:11:50.706Z"
   },
   {
    "duration": 8,
    "start_time": "2022-10-20T15:11:53.811Z"
   },
   {
    "duration": 16,
    "start_time": "2022-10-20T15:12:26.709Z"
   },
   {
    "duration": 185,
    "start_time": "2022-10-20T15:12:35.126Z"
   },
   {
    "duration": 179,
    "start_time": "2022-10-20T15:12:44.830Z"
   },
   {
    "duration": 665,
    "start_time": "2022-10-20T15:13:37.461Z"
   },
   {
    "duration": 174,
    "start_time": "2022-10-20T15:13:50.417Z"
   },
   {
    "duration": 9,
    "start_time": "2022-10-20T15:16:23.553Z"
   },
   {
    "duration": 5,
    "start_time": "2022-10-20T15:22:23.560Z"
   },
   {
    "duration": 69,
    "start_time": "2022-10-20T15:22:23.567Z"
   },
   {
    "duration": 13,
    "start_time": "2022-10-20T15:22:23.637Z"
   },
   {
    "duration": 7,
    "start_time": "2022-10-20T15:22:23.651Z"
   },
   {
    "duration": 10,
    "start_time": "2022-10-20T15:22:23.660Z"
   },
   {
    "duration": 6,
    "start_time": "2022-10-20T15:22:23.672Z"
   },
   {
    "duration": 35,
    "start_time": "2022-10-20T15:22:23.679Z"
   },
   {
    "duration": 11,
    "start_time": "2022-10-20T15:22:23.715Z"
   },
   {
    "duration": 28708,
    "start_time": "2022-10-20T15:22:23.728Z"
   },
   {
    "duration": 5,
    "start_time": "2022-10-20T15:22:52.438Z"
   },
   {
    "duration": 11,
    "start_time": "2022-10-20T15:22:52.444Z"
   },
   {
    "duration": 7,
    "start_time": "2022-10-20T15:22:52.456Z"
   },
   {
    "duration": 18,
    "start_time": "2022-10-20T15:22:52.464Z"
   },
   {
    "duration": 26,
    "start_time": "2022-10-20T15:22:52.483Z"
   },
   {
    "duration": 12,
    "start_time": "2022-10-20T15:22:52.511Z"
   },
   {
    "duration": 12,
    "start_time": "2022-10-20T15:22:52.525Z"
   },
   {
    "duration": 359,
    "start_time": "2022-10-20T15:26:45.586Z"
   },
   {
    "duration": 7,
    "start_time": "2022-10-20T15:27:48.799Z"
   },
   {
    "duration": 113,
    "start_time": "2022-10-20T15:29:35.767Z"
   },
   {
    "duration": 136,
    "start_time": "2022-10-20T15:30:16.179Z"
   },
   {
    "duration": 232,
    "start_time": "2022-10-20T15:31:46.943Z"
   },
   {
    "duration": 192,
    "start_time": "2022-10-20T15:32:10.380Z"
   },
   {
    "duration": 162,
    "start_time": "2022-10-20T15:33:21.178Z"
   },
   {
    "duration": 167,
    "start_time": "2022-10-20T15:33:29.533Z"
   },
   {
    "duration": 177,
    "start_time": "2022-10-20T15:34:00.566Z"
   },
   {
    "duration": 181,
    "start_time": "2022-10-20T15:34:09.990Z"
   },
   {
    "duration": 13,
    "start_time": "2022-10-20T15:39:34.977Z"
   },
   {
    "duration": 10,
    "start_time": "2022-10-20T15:39:42.599Z"
   },
   {
    "duration": 8,
    "start_time": "2022-10-20T15:40:56.054Z"
   },
   {
    "duration": 7,
    "start_time": "2022-10-20T15:41:27.777Z"
   },
   {
    "duration": 7,
    "start_time": "2022-10-20T15:41:32.477Z"
   },
   {
    "duration": 13,
    "start_time": "2022-10-20T15:47:02.490Z"
   },
   {
    "duration": 54,
    "start_time": "2022-10-20T15:47:04.337Z"
   },
   {
    "duration": 8,
    "start_time": "2022-10-20T15:53:04.773Z"
   },
   {
    "duration": 8,
    "start_time": "2022-10-20T15:53:23.214Z"
   },
   {
    "duration": 9,
    "start_time": "2022-10-20T15:53:40.655Z"
   },
   {
    "duration": 9,
    "start_time": "2022-10-20T15:54:43.850Z"
   },
   {
    "duration": 8,
    "start_time": "2022-10-20T15:56:36.243Z"
   },
   {
    "duration": 8,
    "start_time": "2022-10-20T15:57:07.313Z"
   },
   {
    "duration": 7,
    "start_time": "2022-10-20T15:58:23.410Z"
   },
   {
    "duration": 13,
    "start_time": "2022-10-20T15:58:33.569Z"
   },
   {
    "duration": 122,
    "start_time": "2022-10-20T15:58:34.168Z"
   },
   {
    "duration": 6,
    "start_time": "2022-10-20T15:59:16.174Z"
   },
   {
    "duration": 12,
    "start_time": "2022-10-20T16:01:54.102Z"
   },
   {
    "duration": 3,
    "start_time": "2022-10-20T16:01:54.652Z"
   },
   {
    "duration": 2,
    "start_time": "2022-10-20T16:01:55.651Z"
   },
   {
    "duration": 2,
    "start_time": "2022-10-20T16:02:13.643Z"
   },
   {
    "duration": 53,
    "start_time": "2022-10-20T16:02:14.185Z"
   },
   {
    "duration": 13,
    "start_time": "2022-10-20T16:02:14.656Z"
   },
   {
    "duration": 5,
    "start_time": "2022-10-20T16:02:15.991Z"
   },
   {
    "duration": 5,
    "start_time": "2022-10-20T16:02:16.735Z"
   },
   {
    "duration": 4,
    "start_time": "2022-10-20T16:02:17.550Z"
   },
   {
    "duration": 6,
    "start_time": "2022-10-20T16:02:17.862Z"
   },
   {
    "duration": 12,
    "start_time": "2022-10-20T16:02:18.514Z"
   },
   {
    "duration": 29506,
    "start_time": "2022-10-20T16:02:19.480Z"
   },
   {
    "duration": 5,
    "start_time": "2022-10-20T16:02:51.496Z"
   },
   {
    "duration": 5,
    "start_time": "2022-10-20T16:02:52.393Z"
   },
   {
    "duration": 5,
    "start_time": "2022-10-20T16:02:52.925Z"
   },
   {
    "duration": 14,
    "start_time": "2022-10-20T16:02:53.232Z"
   },
   {
    "duration": 4,
    "start_time": "2022-10-20T16:02:54.222Z"
   },
   {
    "duration": 167,
    "start_time": "2022-10-20T16:02:55.479Z"
   },
   {
    "duration": 10,
    "start_time": "2022-10-20T16:02:57.410Z"
   },
   {
    "duration": 8,
    "start_time": "2022-10-20T16:02:57.971Z"
   },
   {
    "duration": 422,
    "start_time": "2022-10-20T16:05:23.048Z"
   },
   {
    "duration": 5,
    "start_time": "2022-10-20T16:05:29.310Z"
   },
   {
    "duration": 150,
    "start_time": "2022-10-20T16:06:18.975Z"
   },
   {
    "duration": 142,
    "start_time": "2022-10-20T16:06:55.160Z"
   },
   {
    "duration": 140,
    "start_time": "2022-10-20T16:07:10.092Z"
   },
   {
    "duration": 14,
    "start_time": "2022-10-20T16:10:12.944Z"
   },
   {
    "duration": 8,
    "start_time": "2022-10-20T16:10:20.999Z"
   },
   {
    "duration": 14,
    "start_time": "2022-10-20T16:10:21.668Z"
   },
   {
    "duration": 172,
    "start_time": "2022-10-20T16:11:02.821Z"
   },
   {
    "duration": 6,
    "start_time": "2022-10-20T16:11:11.909Z"
   },
   {
    "duration": 11,
    "start_time": "2022-10-20T16:11:51.098Z"
   },
   {
    "duration": 941,
    "start_time": "2022-10-20T16:11:52.160Z"
   },
   {
    "duration": 13,
    "start_time": "2022-10-20T16:12:03.030Z"
   },
   {
    "duration": 8,
    "start_time": "2022-10-20T16:12:49.840Z"
   },
   {
    "duration": 123,
    "start_time": "2022-10-20T16:12:59.886Z"
   },
   {
    "duration": 8,
    "start_time": "2022-10-20T16:13:30.947Z"
   },
   {
    "duration": 12,
    "start_time": "2022-10-20T16:14:29.504Z"
   },
   {
    "duration": 648,
    "start_time": "2022-10-20T16:14:30.403Z"
   },
   {
    "duration": 21,
    "start_time": "2022-10-20T16:14:38.419Z"
   },
   {
    "duration": 11,
    "start_time": "2022-10-20T16:15:03.067Z"
   },
   {
    "duration": 14,
    "start_time": "2022-10-20T16:15:03.558Z"
   },
   {
    "duration": 12,
    "start_time": "2022-10-20T16:16:47.304Z"
   },
   {
    "duration": 203,
    "start_time": "2022-10-20T16:17:27.965Z"
   },
   {
    "duration": 2,
    "start_time": "2022-10-20T16:18:33.406Z"
   },
   {
    "duration": 73,
    "start_time": "2022-10-20T16:19:06.425Z"
   },
   {
    "duration": 5,
    "start_time": "2022-10-20T16:19:26.976Z"
   },
   {
    "duration": 66,
    "start_time": "2022-10-20T16:19:27.780Z"
   },
   {
    "duration": 135,
    "start_time": "2022-10-20T16:20:30.055Z"
   },
   {
    "duration": 133,
    "start_time": "2022-10-20T16:25:34.848Z"
   },
   {
    "duration": 163,
    "start_time": "2022-10-20T16:26:11.508Z"
   },
   {
    "duration": 147,
    "start_time": "2022-10-20T16:26:57.852Z"
   },
   {
    "duration": 144,
    "start_time": "2022-10-20T16:27:10.359Z"
   },
   {
    "duration": 129,
    "start_time": "2022-10-20T16:27:32.246Z"
   },
   {
    "duration": 147,
    "start_time": "2022-10-20T16:28:13.236Z"
   },
   {
    "duration": 191,
    "start_time": "2022-10-20T16:28:29.592Z"
   },
   {
    "duration": 149,
    "start_time": "2022-10-20T16:29:16.818Z"
   },
   {
    "duration": 139,
    "start_time": "2022-10-20T16:29:36.630Z"
   },
   {
    "duration": 425,
    "start_time": "2022-10-20T16:35:57.074Z"
   },
   {
    "duration": 130,
    "start_time": "2022-10-20T16:37:13.737Z"
   },
   {
    "duration": 145,
    "start_time": "2022-10-20T16:38:24.826Z"
   },
   {
    "duration": 125,
    "start_time": "2022-10-20T16:38:50.902Z"
   },
   {
    "duration": 49,
    "start_time": "2022-10-20T16:39:10.562Z"
   },
   {
    "duration": 433,
    "start_time": "2022-10-20T16:39:18.829Z"
   },
   {
    "duration": 128,
    "start_time": "2022-10-20T16:40:23.856Z"
   },
   {
    "duration": 660,
    "start_time": "2022-10-20T16:40:47.277Z"
   },
   {
    "duration": 126,
    "start_time": "2022-10-20T16:40:58.130Z"
   },
   {
    "duration": 122,
    "start_time": "2022-10-20T16:42:07.440Z"
   },
   {
    "duration": 69,
    "start_time": "2022-10-20T16:44:26.800Z"
   },
   {
    "duration": 146,
    "start_time": "2022-10-20T16:44:31.920Z"
   },
   {
    "duration": 6,
    "start_time": "2022-10-20T16:45:05.665Z"
   },
   {
    "duration": 24,
    "start_time": "2022-10-20T16:45:14.155Z"
   },
   {
    "duration": 716,
    "start_time": "2022-10-20T16:46:57.984Z"
   },
   {
    "duration": 207,
    "start_time": "2022-10-20T16:47:12.282Z"
   },
   {
    "duration": 520,
    "start_time": "2022-10-20T16:47:38.131Z"
   },
   {
    "duration": 758,
    "start_time": "2022-10-20T16:53:22.569Z"
   },
   {
    "duration": 129,
    "start_time": "2022-10-20T16:53:46.582Z"
   },
   {
    "duration": 685,
    "start_time": "2022-10-20T16:54:52.651Z"
   },
   {
    "duration": 697,
    "start_time": "2022-10-20T16:55:09.272Z"
   },
   {
    "duration": 9,
    "start_time": "2022-10-20T16:55:40.380Z"
   },
   {
    "duration": 27,
    "start_time": "2022-10-20T16:56:36.913Z"
   },
   {
    "duration": 16,
    "start_time": "2022-10-20T16:56:55.814Z"
   },
   {
    "duration": 22,
    "start_time": "2022-10-20T16:57:06.723Z"
   },
   {
    "duration": 15,
    "start_time": "2022-10-20T16:57:33.015Z"
   },
   {
    "duration": 51,
    "start_time": "2022-10-20T16:58:14.163Z"
   },
   {
    "duration": 795,
    "start_time": "2022-10-20T16:58:19.280Z"
   },
   {
    "duration": 172,
    "start_time": "2022-10-20T16:58:51.624Z"
   },
   {
    "duration": 180,
    "start_time": "2022-10-20T16:59:07.070Z"
   },
   {
    "duration": 176,
    "start_time": "2022-10-20T16:59:33.582Z"
   },
   {
    "duration": 1850,
    "start_time": "2022-10-20T17:00:59.672Z"
   },
   {
    "duration": 180,
    "start_time": "2022-10-20T17:01:24.657Z"
   },
   {
    "duration": 29,
    "start_time": "2022-10-20T17:01:30.873Z"
   },
   {
    "duration": 14,
    "start_time": "2022-10-20T17:01:58.206Z"
   },
   {
    "duration": 193,
    "start_time": "2022-10-20T17:02:34.409Z"
   },
   {
    "duration": 187,
    "start_time": "2022-10-20T17:06:10.445Z"
   },
   {
    "duration": 202,
    "start_time": "2022-10-20T17:06:16.946Z"
   },
   {
    "duration": 186,
    "start_time": "2022-10-20T17:06:24.853Z"
   },
   {
    "duration": 5,
    "start_time": "2022-10-20T17:11:06.847Z"
   },
   {
    "duration": 11,
    "start_time": "2022-10-20T17:11:19.404Z"
   },
   {
    "duration": 13,
    "start_time": "2022-10-20T17:13:21.064Z"
   },
   {
    "duration": 14,
    "start_time": "2022-10-20T17:15:15.584Z"
   },
   {
    "duration": 263,
    "start_time": "2022-10-20T17:15:29.535Z"
   },
   {
    "duration": 4,
    "start_time": "2022-10-20T17:19:18.018Z"
   },
   {
    "duration": 11,
    "start_time": "2022-10-20T17:19:18.518Z"
   },
   {
    "duration": 13,
    "start_time": "2022-10-20T17:19:20.459Z"
   },
   {
    "duration": 241,
    "start_time": "2022-10-20T17:19:22.117Z"
   },
   {
    "duration": 258,
    "start_time": "2022-10-20T17:19:28.900Z"
   },
   {
    "duration": 3,
    "start_time": "2022-10-20T17:30:09.303Z"
   },
   {
    "duration": 187,
    "start_time": "2022-10-20T17:30:30.255Z"
   },
   {
    "duration": 224,
    "start_time": "2022-10-20T17:31:56.563Z"
   },
   {
    "duration": 120,
    "start_time": "2022-10-20T17:32:13.226Z"
   },
   {
    "duration": 109,
    "start_time": "2022-10-20T17:32:24.344Z"
   },
   {
    "duration": 104,
    "start_time": "2022-10-20T17:32:35.455Z"
   },
   {
    "duration": 8,
    "start_time": "2022-10-20T17:33:20.213Z"
   },
   {
    "duration": 9,
    "start_time": "2022-10-20T17:34:19.110Z"
   },
   {
    "duration": 9,
    "start_time": "2022-10-20T17:34:35.680Z"
   },
   {
    "duration": 3,
    "start_time": "2022-10-20T17:34:50.920Z"
   },
   {
    "duration": 288,
    "start_time": "2022-10-20T17:35:13.813Z"
   },
   {
    "duration": 118,
    "start_time": "2022-10-20T17:36:02.531Z"
   },
   {
    "duration": 200,
    "start_time": "2022-10-20T17:36:14.165Z"
   },
   {
    "duration": 226,
    "start_time": "2022-10-20T17:42:26.975Z"
   },
   {
    "duration": 133,
    "start_time": "2022-10-20T17:43:14.877Z"
   },
   {
    "duration": 184,
    "start_time": "2022-10-20T17:43:20.910Z"
   },
   {
    "duration": 199,
    "start_time": "2022-10-20T17:44:03.761Z"
   },
   {
    "duration": 208,
    "start_time": "2022-10-20T17:45:03.403Z"
   },
   {
    "duration": 260,
    "start_time": "2022-10-20T17:45:41.542Z"
   },
   {
    "duration": 242,
    "start_time": "2022-10-20T17:46:07.636Z"
   },
   {
    "duration": 306,
    "start_time": "2022-10-20T17:46:19.559Z"
   },
   {
    "duration": 223,
    "start_time": "2022-10-20T17:46:36.517Z"
   },
   {
    "duration": 164,
    "start_time": "2022-10-20T17:47:03.631Z"
   },
   {
    "duration": 305,
    "start_time": "2022-10-20T17:47:15.879Z"
   },
   {
    "duration": 231,
    "start_time": "2022-10-20T17:47:23.802Z"
   },
   {
    "duration": 179,
    "start_time": "2022-10-20T17:47:33.842Z"
   },
   {
    "duration": 2590,
    "start_time": "2022-10-20T17:49:19.957Z"
   },
   {
    "duration": 2699,
    "start_time": "2022-10-20T17:50:22.649Z"
   },
   {
    "duration": 11,
    "start_time": "2022-10-20T17:50:58.296Z"
   },
   {
    "duration": 2815,
    "start_time": "2022-10-20T17:51:06.893Z"
   },
   {
    "duration": 176,
    "start_time": "2022-10-20T17:52:10.863Z"
   },
   {
    "duration": 125,
    "start_time": "2022-10-20T17:52:48.435Z"
   },
   {
    "duration": 121,
    "start_time": "2022-10-20T17:53:11.593Z"
   },
   {
    "duration": 111,
    "start_time": "2022-10-20T17:53:43.147Z"
   },
   {
    "duration": 187,
    "start_time": "2022-10-20T17:56:54.892Z"
   },
   {
    "duration": 756,
    "start_time": "2022-10-20T17:57:13.511Z"
   },
   {
    "duration": 1116,
    "start_time": "2022-10-20T17:57:43.406Z"
   },
   {
    "duration": 157,
    "start_time": "2022-10-20T17:57:54.471Z"
   },
   {
    "duration": 378,
    "start_time": "2022-10-20T17:59:10.326Z"
   },
   {
    "duration": 14,
    "start_time": "2022-10-20T18:00:31.553Z"
   },
   {
    "duration": 139,
    "start_time": "2022-10-20T18:01:38.944Z"
   },
   {
    "duration": 145,
    "start_time": "2022-10-20T18:02:09.229Z"
   },
   {
    "duration": 490,
    "start_time": "2022-10-20T18:10:44.570Z"
   },
   {
    "duration": 188,
    "start_time": "2022-10-20T18:13:02.254Z"
   },
   {
    "duration": 629,
    "start_time": "2022-10-20T18:15:53.028Z"
   },
   {
    "duration": 189,
    "start_time": "2022-10-20T18:17:51.740Z"
   },
   {
    "duration": 131,
    "start_time": "2022-10-20T18:18:05.415Z"
   },
   {
    "duration": 128,
    "start_time": "2022-10-20T18:18:39.261Z"
   },
   {
    "duration": 153,
    "start_time": "2022-10-20T18:18:43.779Z"
   },
   {
    "duration": 24192,
    "start_time": "2022-10-20T18:21:25.023Z"
   },
   {
    "duration": 177,
    "start_time": "2022-10-20T18:22:18.508Z"
   },
   {
    "duration": 3,
    "start_time": "2022-10-20T18:23:30.434Z"
   },
   {
    "duration": 24828,
    "start_time": "2022-10-20T18:24:03.244Z"
   },
   {
    "duration": 149,
    "start_time": "2022-10-20T18:24:40.904Z"
   },
   {
    "duration": 25387,
    "start_time": "2022-10-20T18:24:49.411Z"
   },
   {
    "duration": 132,
    "start_time": "2022-10-20T18:25:51.498Z"
   },
   {
    "duration": 16,
    "start_time": "2022-10-20T18:27:28.018Z"
   },
   {
    "duration": 15,
    "start_time": "2022-10-20T18:27:49.641Z"
   },
   {
    "duration": 1332,
    "start_time": "2022-10-21T15:40:23.668Z"
   },
   {
    "duration": 92,
    "start_time": "2022-10-21T15:40:25.002Z"
   },
   {
    "duration": 15,
    "start_time": "2022-10-21T15:40:25.701Z"
   },
   {
    "duration": 5,
    "start_time": "2022-10-21T15:40:27.780Z"
   },
   {
    "duration": 6,
    "start_time": "2022-10-21T15:40:28.760Z"
   },
   {
    "duration": 5,
    "start_time": "2022-10-21T15:40:29.491Z"
   },
   {
    "duration": 7,
    "start_time": "2022-10-21T15:40:29.812Z"
   },
   {
    "duration": 12,
    "start_time": "2022-10-21T15:40:30.451Z"
   },
   {
    "duration": 31200,
    "start_time": "2022-10-21T15:40:31.139Z"
   },
   {
    "duration": 6,
    "start_time": "2022-10-21T15:41:27.507Z"
   },
   {
    "duration": 5,
    "start_time": "2022-10-21T15:41:28.859Z"
   },
   {
    "duration": 6,
    "start_time": "2022-10-21T15:41:29.739Z"
   },
   {
    "duration": 15,
    "start_time": "2022-10-21T15:41:30.301Z"
   },
   {
    "duration": 9,
    "start_time": "2022-10-21T15:41:31.424Z"
   },
   {
    "duration": 221,
    "start_time": "2022-10-21T15:41:32.280Z"
   },
   {
    "duration": 12,
    "start_time": "2022-10-21T15:41:34.044Z"
   },
   {
    "duration": 9,
    "start_time": "2022-10-21T15:41:34.576Z"
   },
   {
    "duration": 17,
    "start_time": "2022-10-21T15:41:35.060Z"
   },
   {
    "duration": 218,
    "start_time": "2022-10-21T15:41:35.443Z"
   },
   {
    "duration": 5,
    "start_time": "2022-10-21T15:41:37.011Z"
   },
   {
    "duration": 13,
    "start_time": "2022-10-21T15:41:38.754Z"
   },
   {
    "duration": 20,
    "start_time": "2022-10-21T15:41:39.229Z"
   },
   {
    "duration": 294,
    "start_time": "2022-10-21T15:41:39.772Z"
   },
   {
    "duration": 326,
    "start_time": "2022-10-21T15:41:41.455Z"
   },
   {
    "duration": 128,
    "start_time": "2022-10-21T15:41:42.687Z"
   },
   {
    "duration": 120,
    "start_time": "2022-10-21T15:41:43.374Z"
   },
   {
    "duration": 147,
    "start_time": "2022-10-21T15:41:44.054Z"
   },
   {
    "duration": 17,
    "start_time": "2022-10-21T15:41:44.852Z"
   },
   {
    "duration": 122,
    "start_time": "2022-10-21T15:46:50.844Z"
   },
   {
    "duration": 46,
    "start_time": "2022-10-21T15:47:03.281Z"
   },
   {
    "duration": 53,
    "start_time": "2022-10-21T15:47:15.197Z"
   },
   {
    "duration": 18,
    "start_time": "2022-10-21T15:47:33.040Z"
   },
   {
    "duration": 266,
    "start_time": "2022-10-21T15:48:35.653Z"
   },
   {
    "duration": 130,
    "start_time": "2022-10-21T15:57:57.482Z"
   },
   {
    "duration": 156,
    "start_time": "2022-10-21T15:58:44.486Z"
   },
   {
    "duration": 161,
    "start_time": "2022-10-21T15:59:08.432Z"
   },
   {
    "duration": 687,
    "start_time": "2022-10-21T15:59:59.725Z"
   },
   {
    "duration": 778,
    "start_time": "2022-10-21T16:00:41.276Z"
   },
   {
    "duration": 666,
    "start_time": "2022-10-21T16:00:49.005Z"
   },
   {
    "duration": 143,
    "start_time": "2022-10-21T16:02:10.268Z"
   },
   {
    "duration": 155,
    "start_time": "2022-10-21T16:02:24.844Z"
   },
   {
    "duration": 148,
    "start_time": "2022-10-21T16:02:28.270Z"
   },
   {
    "duration": 151,
    "start_time": "2022-10-21T16:02:44.252Z"
   },
   {
    "duration": 158,
    "start_time": "2022-10-21T16:03:03.662Z"
   },
   {
    "duration": 328,
    "start_time": "2022-10-21T16:06:54.610Z"
   },
   {
    "duration": 281,
    "start_time": "2022-10-21T16:09:11.123Z"
   },
   {
    "duration": 165,
    "start_time": "2022-10-21T16:09:40.708Z"
   },
   {
    "duration": 370,
    "start_time": "2022-10-21T16:10:18.727Z"
   },
   {
    "duration": 516,
    "start_time": "2022-10-21T16:10:49.424Z"
   },
   {
    "duration": 345,
    "start_time": "2022-10-21T16:11:04.847Z"
   },
   {
    "duration": 329,
    "start_time": "2022-10-21T16:11:14.108Z"
   },
   {
    "duration": 458,
    "start_time": "2022-10-21T16:15:45.647Z"
   },
   {
    "duration": 433,
    "start_time": "2022-10-21T16:17:28.365Z"
   },
   {
    "duration": 421,
    "start_time": "2022-10-21T16:25:20.867Z"
   },
   {
    "duration": 565,
    "start_time": "2022-10-21T16:26:00.406Z"
   },
   {
    "duration": 428,
    "start_time": "2022-10-21T16:27:50.880Z"
   },
   {
    "duration": 4,
    "start_time": "2022-10-21T16:36:35.263Z"
   },
   {
    "duration": 14,
    "start_time": "2022-10-21T16:38:47.575Z"
   },
   {
    "duration": 3,
    "start_time": "2022-10-21T16:39:17.202Z"
   },
   {
    "duration": 8,
    "start_time": "2022-10-21T16:39:21.851Z"
   },
   {
    "duration": 19,
    "start_time": "2022-10-21T16:41:10.844Z"
   },
   {
    "duration": 11,
    "start_time": "2022-10-21T16:41:37.388Z"
   },
   {
    "duration": 13,
    "start_time": "2022-10-21T16:41:56.933Z"
   },
   {
    "duration": 13,
    "start_time": "2022-10-21T16:48:10.293Z"
   },
   {
    "duration": 48,
    "start_time": "2022-10-22T06:32:12.546Z"
   },
   {
    "duration": 1255,
    "start_time": "2022-10-22T06:32:19.579Z"
   },
   {
    "duration": 200,
    "start_time": "2022-10-22T06:32:20.836Z"
   },
   {
    "duration": 18,
    "start_time": "2022-10-22T06:32:21.994Z"
   },
   {
    "duration": 5,
    "start_time": "2022-10-22T06:32:23.396Z"
   },
   {
    "duration": 5,
    "start_time": "2022-10-22T06:32:24.214Z"
   },
   {
    "duration": 5,
    "start_time": "2022-10-22T06:32:25.086Z"
   },
   {
    "duration": 6,
    "start_time": "2022-10-22T06:32:25.703Z"
   },
   {
    "duration": 9,
    "start_time": "2022-10-22T06:32:26.434Z"
   },
   {
    "duration": 27988,
    "start_time": "2022-10-22T06:32:27.433Z"
   },
   {
    "duration": 5,
    "start_time": "2022-10-22T06:32:57.115Z"
   },
   {
    "duration": 4,
    "start_time": "2022-10-22T06:32:58.049Z"
   },
   {
    "duration": 5,
    "start_time": "2022-10-22T06:32:58.607Z"
   },
   {
    "duration": 16,
    "start_time": "2022-10-22T06:32:59.223Z"
   },
   {
    "duration": 5,
    "start_time": "2022-10-22T06:33:00.315Z"
   },
   {
    "duration": 190,
    "start_time": "2022-10-22T06:33:01.663Z"
   },
   {
    "duration": 11,
    "start_time": "2022-10-22T06:33:03.350Z"
   },
   {
    "duration": 8,
    "start_time": "2022-10-22T06:33:04.038Z"
   },
   {
    "duration": 16,
    "start_time": "2022-10-22T06:33:04.667Z"
   },
   {
    "duration": 220,
    "start_time": "2022-10-22T06:33:06.599Z"
   },
   {
    "duration": 5,
    "start_time": "2022-10-22T06:33:09.396Z"
   },
   {
    "duration": 12,
    "start_time": "2022-10-22T06:33:10.566Z"
   },
   {
    "duration": 13,
    "start_time": "2022-10-22T06:33:11.103Z"
   },
   {
    "duration": 258,
    "start_time": "2022-10-22T06:33:12.588Z"
   },
   {
    "duration": 110,
    "start_time": "2022-10-22T06:33:16.381Z"
   },
   {
    "duration": 226,
    "start_time": "2022-10-22T06:34:14.866Z"
   },
   {
    "duration": 216,
    "start_time": "2022-10-22T06:34:28.700Z"
   },
   {
    "duration": 71,
    "start_time": "2022-10-22T06:34:47.354Z"
   },
   {
    "duration": 290,
    "start_time": "2022-10-22T06:34:58.025Z"
   },
   {
    "duration": 204,
    "start_time": "2022-10-22T06:37:07.736Z"
   },
   {
    "duration": 256,
    "start_time": "2022-10-22T06:37:16.387Z"
   },
   {
    "duration": 129,
    "start_time": "2022-10-22T06:52:03.691Z"
   },
   {
    "duration": 79,
    "start_time": "2022-10-22T06:52:04.848Z"
   },
   {
    "duration": 105,
    "start_time": "2022-10-22T06:52:13.709Z"
   },
   {
    "duration": 5,
    "start_time": "2022-10-22T06:53:40.932Z"
   },
   {
    "duration": 8,
    "start_time": "2022-10-22T06:55:50.299Z"
   },
   {
    "duration": 4,
    "start_time": "2022-10-22T06:58:26.015Z"
   },
   {
    "duration": 14,
    "start_time": "2022-10-22T06:58:26.517Z"
   },
   {
    "duration": 14,
    "start_time": "2022-10-22T06:58:27.020Z"
   },
   {
    "duration": 275,
    "start_time": "2022-10-22T06:58:27.501Z"
   },
   {
    "duration": 238,
    "start_time": "2022-10-22T06:58:31.514Z"
   },
   {
    "duration": 204,
    "start_time": "2022-10-22T06:58:34.554Z"
   },
   {
    "duration": 7,
    "start_time": "2022-10-22T06:58:35.759Z"
   },
   {
    "duration": 8,
    "start_time": "2022-10-22T06:58:40.109Z"
   },
   {
    "duration": 126,
    "start_time": "2022-10-22T07:02:24.895Z"
   },
   {
    "duration": 123,
    "start_time": "2022-10-22T07:02:41.961Z"
   },
   {
    "duration": 9,
    "start_time": "2022-10-22T07:02:54.891Z"
   },
   {
    "duration": 136,
    "start_time": "2022-10-22T07:04:16.471Z"
   },
   {
    "duration": 7,
    "start_time": "2022-10-22T07:04:37.872Z"
   },
   {
    "duration": 74,
    "start_time": "2022-10-22T07:05:54.530Z"
   },
   {
    "duration": 132,
    "start_time": "2022-10-22T07:06:01.075Z"
   },
   {
    "duration": 117,
    "start_time": "2022-10-22T07:06:44.541Z"
   },
   {
    "duration": 5,
    "start_time": "2022-10-22T07:08:09.940Z"
   },
   {
    "duration": 4,
    "start_time": "2022-10-22T07:08:20.109Z"
   },
   {
    "duration": 117,
    "start_time": "2022-10-22T07:13:55.692Z"
   },
   {
    "duration": 11,
    "start_time": "2022-10-22T07:15:56.444Z"
   },
   {
    "duration": 124,
    "start_time": "2022-10-22T07:17:00.783Z"
   },
   {
    "duration": 144,
    "start_time": "2022-10-22T07:17:06.888Z"
   },
   {
    "duration": 118,
    "start_time": "2022-10-22T07:18:20.231Z"
   },
   {
    "duration": 13,
    "start_time": "2022-10-22T07:24:53.127Z"
   },
   {
    "duration": 13,
    "start_time": "2022-10-22T07:25:11.794Z"
   },
   {
    "duration": 149,
    "start_time": "2022-10-22T07:25:35.000Z"
   },
   {
    "duration": 261,
    "start_time": "2022-10-22T07:25:40.873Z"
   },
   {
    "duration": 147,
    "start_time": "2022-10-22T07:25:49.565Z"
   },
   {
    "duration": 153,
    "start_time": "2022-10-22T07:27:14.223Z"
   },
   {
    "duration": 141,
    "start_time": "2022-10-22T07:28:00.637Z"
   },
   {
    "duration": 110,
    "start_time": "2022-10-22T07:29:19.899Z"
   },
   {
    "duration": 433,
    "start_time": "2022-10-22T07:29:34.103Z"
   },
   {
    "duration": 68,
    "start_time": "2022-10-22T07:30:00.058Z"
   },
   {
    "duration": 144,
    "start_time": "2022-10-22T07:30:49.862Z"
   },
   {
    "duration": 148,
    "start_time": "2022-10-22T07:31:02.943Z"
   },
   {
    "duration": 19,
    "start_time": "2022-10-22T07:31:19.485Z"
   },
   {
    "duration": 17,
    "start_time": "2022-10-22T07:36:28.374Z"
   },
   {
    "duration": 25,
    "start_time": "2022-10-22T07:40:36.601Z"
   },
   {
    "duration": 1149,
    "start_time": "2022-10-22T07:41:04.840Z"
   },
   {
    "duration": 1306,
    "start_time": "2022-10-22T07:41:23.469Z"
   },
   {
    "duration": 24,
    "start_time": "2022-10-22T07:43:46.649Z"
   },
   {
    "duration": 18,
    "start_time": "2022-10-22T07:45:08.036Z"
   },
   {
    "duration": 17,
    "start_time": "2022-10-22T07:45:37.534Z"
   },
   {
    "duration": 19,
    "start_time": "2022-10-22T07:46:00.640Z"
   },
   {
    "duration": 18,
    "start_time": "2022-10-22T07:46:45.832Z"
   },
   {
    "duration": 378,
    "start_time": "2022-10-22T07:47:00.900Z"
   },
   {
    "duration": 438,
    "start_time": "2022-10-22T07:47:31.253Z"
   },
   {
    "duration": 379,
    "start_time": "2022-10-22T07:48:00.078Z"
   },
   {
    "duration": 4,
    "start_time": "2022-10-22T07:50:45.210Z"
   },
   {
    "duration": 7,
    "start_time": "2022-10-22T07:50:52.535Z"
   },
   {
    "duration": 12,
    "start_time": "2022-10-22T07:51:16.841Z"
   },
   {
    "duration": 6,
    "start_time": "2022-10-22T07:51:49.942Z"
   },
   {
    "duration": 17,
    "start_time": "2022-10-22T07:51:58.935Z"
   },
   {
    "duration": 18,
    "start_time": "2022-10-22T07:52:18.956Z"
   },
   {
    "duration": 10,
    "start_time": "2022-10-22T07:52:45.653Z"
   },
   {
    "duration": 154,
    "start_time": "2022-10-22T07:52:54.655Z"
   },
   {
    "duration": 173,
    "start_time": "2022-10-22T07:53:34.942Z"
   },
   {
    "duration": 127,
    "start_time": "2022-10-22T07:54:34.402Z"
   },
   {
    "duration": 114,
    "start_time": "2022-10-22T07:54:50.495Z"
   },
   {
    "duration": 187,
    "start_time": "2022-10-22T07:56:28.195Z"
   },
   {
    "duration": 191,
    "start_time": "2022-10-22T07:56:45.478Z"
   },
   {
    "duration": 195,
    "start_time": "2022-10-22T07:58:54.637Z"
   },
   {
    "duration": 204,
    "start_time": "2022-10-22T07:59:29.359Z"
   },
   {
    "duration": 186,
    "start_time": "2022-10-22T07:59:44.907Z"
   },
   {
    "duration": 73,
    "start_time": "2022-10-22T08:02:50.017Z"
   },
   {
    "duration": 75,
    "start_time": "2022-10-22T08:02:59.837Z"
   },
   {
    "duration": 64,
    "start_time": "2022-10-22T08:03:06.996Z"
   },
   {
    "duration": 67,
    "start_time": "2022-10-22T08:03:13.076Z"
   },
   {
    "duration": 81,
    "start_time": "2022-10-22T08:03:16.882Z"
   },
   {
    "duration": 172,
    "start_time": "2022-10-22T08:05:31.401Z"
   },
   {
    "duration": 263,
    "start_time": "2022-10-22T08:06:06.579Z"
   },
   {
    "duration": 220,
    "start_time": "2022-10-22T08:07:54.308Z"
   },
   {
    "duration": 190,
    "start_time": "2022-10-22T08:08:38.663Z"
   },
   {
    "duration": 213,
    "start_time": "2022-10-22T08:09:44.952Z"
   },
   {
    "duration": 358,
    "start_time": "2022-10-22T08:10:03.144Z"
   },
   {
    "duration": 196,
    "start_time": "2022-10-22T08:10:13.839Z"
   },
   {
    "duration": 214,
    "start_time": "2022-10-22T08:10:24.036Z"
   },
   {
    "duration": 231,
    "start_time": "2022-10-22T08:10:34.285Z"
   },
   {
    "duration": 233,
    "start_time": "2022-10-22T08:10:43.151Z"
   },
   {
    "duration": 233,
    "start_time": "2022-10-22T08:10:49.430Z"
   },
   {
    "duration": 220,
    "start_time": "2022-10-22T08:11:06.892Z"
   },
   {
    "duration": 190,
    "start_time": "2022-10-22T08:11:12.058Z"
   },
   {
    "duration": 200,
    "start_time": "2022-10-22T08:11:15.418Z"
   },
   {
    "duration": 195,
    "start_time": "2022-10-22T08:11:26.209Z"
   },
   {
    "duration": 206,
    "start_time": "2022-10-22T08:11:29.445Z"
   },
   {
    "duration": 8,
    "start_time": "2022-10-22T08:11:44.243Z"
   },
   {
    "duration": 9,
    "start_time": "2022-10-22T08:15:55.989Z"
   },
   {
    "duration": 10,
    "start_time": "2022-10-22T08:16:03.969Z"
   },
   {
    "duration": 10,
    "start_time": "2022-10-22T08:16:12.527Z"
   },
   {
    "duration": 11,
    "start_time": "2022-10-22T08:16:33.101Z"
   },
   {
    "duration": 10,
    "start_time": "2022-10-22T08:17:07.258Z"
   },
   {
    "duration": 10,
    "start_time": "2022-10-22T08:17:17.688Z"
   },
   {
    "duration": 11,
    "start_time": "2022-10-22T08:17:53.683Z"
   },
   {
    "duration": 204,
    "start_time": "2022-10-22T08:17:58.323Z"
   },
   {
    "duration": 533,
    "start_time": "2022-10-22T08:22:48.908Z"
   },
   {
    "duration": 413,
    "start_time": "2022-10-22T08:23:00.217Z"
   },
   {
    "duration": 390,
    "start_time": "2022-10-22T08:23:10.115Z"
   },
   {
    "duration": 503,
    "start_time": "2022-10-22T08:23:59.901Z"
   },
   {
    "duration": 445,
    "start_time": "2022-10-22T08:24:23.297Z"
   },
   {
    "duration": 549,
    "start_time": "2022-10-22T08:24:58.633Z"
   },
   {
    "duration": 541,
    "start_time": "2022-10-22T08:25:15.827Z"
   },
   {
    "duration": 292,
    "start_time": "2022-10-22T08:32:46.719Z"
   },
   {
    "duration": 300,
    "start_time": "2022-10-22T08:32:59.260Z"
   },
   {
    "duration": 322,
    "start_time": "2022-10-22T08:35:02.820Z"
   },
   {
    "duration": 320,
    "start_time": "2022-10-22T08:35:32.642Z"
   },
   {
    "duration": 296,
    "start_time": "2022-10-22T08:39:30.838Z"
   },
   {
    "duration": 302,
    "start_time": "2022-10-22T08:41:29.089Z"
   },
   {
    "duration": 300,
    "start_time": "2022-10-22T08:41:37.504Z"
   },
   {
    "duration": 267,
    "start_time": "2022-10-22T08:41:44.611Z"
   },
   {
    "duration": 9,
    "start_time": "2022-10-22T08:48:17.677Z"
   },
   {
    "duration": 11,
    "start_time": "2022-10-22T08:48:52.613Z"
   },
   {
    "duration": 18,
    "start_time": "2022-10-22T08:50:13.526Z"
   },
   {
    "duration": 14,
    "start_time": "2022-10-22T08:50:24.756Z"
   },
   {
    "duration": 17,
    "start_time": "2022-10-22T08:50:44.161Z"
   },
   {
    "duration": 16,
    "start_time": "2022-10-22T08:50:57.833Z"
   },
   {
    "duration": 13,
    "start_time": "2022-10-22T08:51:15.415Z"
   },
   {
    "duration": 4,
    "start_time": "2022-10-22T08:52:27.761Z"
   },
   {
    "duration": 144,
    "start_time": "2022-10-22T08:52:30.199Z"
   },
   {
    "duration": 13,
    "start_time": "2022-10-22T08:52:56.665Z"
   },
   {
    "duration": 16,
    "start_time": "2022-10-22T08:53:16.352Z"
   },
   {
    "duration": 124,
    "start_time": "2022-10-22T08:53:28.996Z"
   },
   {
    "duration": 14,
    "start_time": "2022-10-22T08:53:42.295Z"
   },
   {
    "duration": 137,
    "start_time": "2022-10-22T08:54:03.119Z"
   },
   {
    "duration": 328,
    "start_time": "2022-10-22T08:54:32.489Z"
   },
   {
    "duration": 134,
    "start_time": "2022-10-22T08:54:46.817Z"
   },
   {
    "duration": 355,
    "start_time": "2022-10-22T08:55:31.947Z"
   },
   {
    "duration": 521,
    "start_time": "2022-10-22T08:55:41.895Z"
   },
   {
    "duration": 1125,
    "start_time": "2022-10-22T11:20:58.077Z"
   },
   {
    "duration": 56,
    "start_time": "2022-10-22T11:20:59.204Z"
   },
   {
    "duration": 15,
    "start_time": "2022-10-22T11:21:03.573Z"
   },
   {
    "duration": 4,
    "start_time": "2022-10-22T11:29:48.190Z"
   },
   {
    "duration": 61,
    "start_time": "2022-10-22T11:29:48.348Z"
   },
   {
    "duration": 12,
    "start_time": "2022-10-22T11:29:48.506Z"
   },
   {
    "duration": 6,
    "start_time": "2022-10-22T11:29:49.018Z"
   },
   {
    "duration": 5,
    "start_time": "2022-10-22T11:29:49.402Z"
   },
   {
    "duration": 4,
    "start_time": "2022-10-22T11:29:49.979Z"
   },
   {
    "duration": 6,
    "start_time": "2022-10-22T11:29:50.441Z"
   },
   {
    "duration": 9,
    "start_time": "2022-10-22T11:29:51.027Z"
   },
   {
    "duration": 5,
    "start_time": "2022-10-22T11:30:02.335Z"
   },
   {
    "duration": 63,
    "start_time": "2022-10-22T11:53:01.134Z"
   },
   {
    "duration": 51,
    "start_time": "2022-10-22T11:54:08.382Z"
   },
   {
    "duration": 1354,
    "start_time": "2022-10-23T05:36:29.266Z"
   },
   {
    "duration": 207,
    "start_time": "2022-10-23T05:36:30.623Z"
   },
   {
    "duration": 14,
    "start_time": "2022-10-23T05:36:31.952Z"
   },
   {
    "duration": 4,
    "start_time": "2022-10-23T05:36:38.522Z"
   },
   {
    "duration": 5,
    "start_time": "2022-10-23T05:36:39.528Z"
   },
   {
    "duration": 5,
    "start_time": "2022-10-23T05:36:40.844Z"
   },
   {
    "duration": 7,
    "start_time": "2022-10-23T05:36:41.176Z"
   },
   {
    "duration": 8,
    "start_time": "2022-10-23T05:36:42.022Z"
   },
   {
    "duration": 29838,
    "start_time": "2022-10-23T05:36:44.601Z"
   },
   {
    "duration": 6,
    "start_time": "2022-10-23T05:37:18.221Z"
   },
   {
    "duration": 4,
    "start_time": "2022-10-23T05:37:19.567Z"
   },
   {
    "duration": 5,
    "start_time": "2022-10-23T05:37:20.738Z"
   },
   {
    "duration": 14,
    "start_time": "2022-10-23T05:37:27.995Z"
   },
   {
    "duration": 4,
    "start_time": "2022-10-23T05:37:28.740Z"
   },
   {
    "duration": 186,
    "start_time": "2022-10-23T05:37:29.821Z"
   },
   {
    "duration": 13,
    "start_time": "2022-10-23T05:37:37.574Z"
   },
   {
    "duration": 8,
    "start_time": "2022-10-23T05:37:39.150Z"
   },
   {
    "duration": 15,
    "start_time": "2022-10-23T05:37:43.142Z"
   },
   {
    "duration": 196,
    "start_time": "2022-10-23T05:37:43.772Z"
   },
   {
    "duration": 5,
    "start_time": "2022-10-23T05:37:50.808Z"
   },
   {
    "duration": 12,
    "start_time": "2022-10-23T05:37:51.384Z"
   },
   {
    "duration": 14,
    "start_time": "2022-10-23T05:37:55.170Z"
   },
   {
    "duration": 229,
    "start_time": "2022-10-23T05:38:03.621Z"
   },
   {
    "duration": 258,
    "start_time": "2022-10-23T05:38:12.721Z"
   },
   {
    "duration": 214,
    "start_time": "2022-10-23T05:38:21.030Z"
   },
   {
    "duration": 126,
    "start_time": "2022-10-23T05:38:45.011Z"
   },
   {
    "duration": 5,
    "start_time": "2022-10-23T05:38:49.475Z"
   },
   {
    "duration": 131,
    "start_time": "2022-10-23T05:39:18.109Z"
   },
   {
    "duration": 7,
    "start_time": "2022-10-23T05:39:21.532Z"
   },
   {
    "duration": 201,
    "start_time": "2022-10-23T05:39:44.171Z"
   },
   {
    "duration": 6,
    "start_time": "2022-10-23T05:39:44.923Z"
   },
   {
    "duration": 1116,
    "start_time": "2022-10-23T05:50:37.856Z"
   },
   {
    "duration": 1172,
    "start_time": "2022-10-23T05:51:25.621Z"
   },
   {
    "duration": 1244,
    "start_time": "2022-10-23T05:53:34.038Z"
   },
   {
    "duration": 72,
    "start_time": "2022-10-23T05:54:16.058Z"
   },
   {
    "duration": 239,
    "start_time": "2022-10-23T05:54:23.883Z"
   },
   {
    "duration": 65,
    "start_time": "2022-10-23T05:54:32.526Z"
   },
   {
    "duration": 1145,
    "start_time": "2022-10-23T05:56:04.084Z"
   },
   {
    "duration": 1267,
    "start_time": "2022-10-23T05:56:42.701Z"
   },
   {
    "duration": 12,
    "start_time": "2022-10-23T06:01:22.322Z"
   },
   {
    "duration": 169,
    "start_time": "2022-10-23T06:01:22.824Z"
   },
   {
    "duration": 316,
    "start_time": "2022-10-23T06:01:26.004Z"
   },
   {
    "duration": 277,
    "start_time": "2022-10-23T06:01:29.524Z"
   },
   {
    "duration": 306,
    "start_time": "2022-10-23T06:01:31.190Z"
   },
   {
    "duration": 378,
    "start_time": "2022-10-23T06:01:33.461Z"
   },
   {
    "duration": 11,
    "start_time": "2022-10-23T06:01:36.000Z"
   },
   {
    "duration": 535,
    "start_time": "2022-10-23T06:01:36.932Z"
   },
   {
    "duration": 11,
    "start_time": "2022-10-23T06:04:11.847Z"
   },
   {
    "duration": 11,
    "start_time": "2022-10-23T06:04:19.699Z"
   },
   {
    "duration": 101,
    "start_time": "2022-10-23T09:46:30.484Z"
   }
  ],
  "kernelspec": {
   "display_name": "Python 3 (ipykernel)",
   "language": "python",
   "name": "python3"
  },
  "language_info": {
   "codemirror_mode": {
    "name": "ipython",
    "version": 3
   },
   "file_extension": ".py",
   "mimetype": "text/x-python",
   "name": "python",
   "nbconvert_exporter": "python",
   "pygments_lexer": "ipython3",
   "version": "3.9.13"
  },
  "toc": {
   "base_numbering": 1,
   "nav_menu": {},
   "number_sections": true,
   "sideBar": true,
   "skip_h1_title": true,
   "title_cell": "Table of Contents",
   "title_sidebar": "Contents",
   "toc_cell": false,
   "toc_position": {},
   "toc_section_display": true,
   "toc_window_display": false
  }
 },
 "nbformat": 4,
 "nbformat_minor": 2
}

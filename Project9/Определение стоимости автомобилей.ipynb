{
 "cells": [
  {
   "cell_type": "markdown",
   "metadata": {},
   "source": [
    "# Определение стоимости автомобилей"
   ]
  },
  {
   "cell_type": "markdown",
   "metadata": {},
   "source": [
    "Сервис по продаже автомобилей с пробегом «Не бит, не крашен» разрабатывает приложение для привлечения новых клиентов. В нём можно быстро узнать рыночную стоимость своего автомобиля. В вашем распоряжении исторические данные: технические характеристики, комплектации и цены автомобилей. Вам нужно построить модель для определения стоимости. \n",
    "\n",
    "Заказчику важны:\n",
    "\n",
    "- качество предсказания;\n",
    "- скорость предсказания;\n",
    "- время обучения."
   ]
  },
  {
   "cell_type": "markdown",
   "metadata": {},
   "source": [
    "## Подготовка данных"
   ]
  },
  {
   "cell_type": "markdown",
   "metadata": {},
   "source": [
    "### Изучение данных"
   ]
  },
  {
   "cell_type": "code",
   "execution_count": 1,
   "metadata": {},
   "outputs": [],
   "source": [
    "import pandas as pd\n",
    "from sklearn.ensemble import RandomForestRegressor\n",
    "from sklearn.model_selection import train_test_split\n",
    "from sklearn.metrics import mean_squared_error\n",
    "from sklearn.linear_model import LogisticRegression \n",
    "from sklearn.preprocessing import OrdinalEncoder\n",
    "import numpy as np\n",
    "from sklearn.preprocessing import OneHotEncoder\n",
    "import seaborn as sns\n",
    "from catboost import CatBoostRegressor\n",
    "from sklearn.metrics import mean_squared_error\n",
    "from sklearn.model_selection import GridSearchCV\n",
    "import lightgbm as lgb\n",
    "from sklearn.model_selection import cross_val_score"
   ]
  },
  {
   "cell_type": "code",
   "execution_count": 2,
   "metadata": {},
   "outputs": [],
   "source": [
    "pd.set_option('display.max_rows', None)\n",
    "pd.set_option('display.max_columns', None)"
   ]
  },
  {
   "cell_type": "code",
   "execution_count": 3,
   "metadata": {},
   "outputs": [],
   "source": [
    "autos = pd.read_csv('/datasets/autos.csv')"
   ]
  },
  {
   "cell_type": "code",
   "execution_count": 4,
   "metadata": {},
   "outputs": [
    {
     "name": "stdout",
     "output_type": "stream",
     "text": [
      "<class 'pandas.core.frame.DataFrame'>\n",
      "RangeIndex: 354369 entries, 0 to 354368\n",
      "Data columns (total 16 columns):\n",
      " #   Column             Non-Null Count   Dtype \n",
      "---  ------             --------------   ----- \n",
      " 0   DateCrawled        354369 non-null  object\n",
      " 1   Price              354369 non-null  int64 \n",
      " 2   VehicleType        316879 non-null  object\n",
      " 3   RegistrationYear   354369 non-null  int64 \n",
      " 4   Gearbox            334536 non-null  object\n",
      " 5   Power              354369 non-null  int64 \n",
      " 6   Model              334664 non-null  object\n",
      " 7   Kilometer          354369 non-null  int64 \n",
      " 8   RegistrationMonth  354369 non-null  int64 \n",
      " 9   FuelType           321474 non-null  object\n",
      " 10  Brand              354369 non-null  object\n",
      " 11  Repaired           283215 non-null  object\n",
      " 12  DateCreated        354369 non-null  object\n",
      " 13  NumberOfPictures   354369 non-null  int64 \n",
      " 14  PostalCode         354369 non-null  int64 \n",
      " 15  LastSeen           354369 non-null  object\n",
      "dtypes: int64(7), object(9)\n",
      "memory usage: 43.3+ MB\n"
     ]
    }
   ],
   "source": [
    "autos.info()"
   ]
  },
  {
   "cell_type": "markdown",
   "metadata": {},
   "source": [
    "В датасете присутствуют пропуски в данных с типом \"object\""
   ]
  },
  {
   "cell_type": "code",
   "execution_count": 5,
   "metadata": {},
   "outputs": [
    {
     "data": {
      "text/html": [
       "<div>\n",
       "<style scoped>\n",
       "    .dataframe tbody tr th:only-of-type {\n",
       "        vertical-align: middle;\n",
       "    }\n",
       "\n",
       "    .dataframe tbody tr th {\n",
       "        vertical-align: top;\n",
       "    }\n",
       "\n",
       "    .dataframe thead th {\n",
       "        text-align: right;\n",
       "    }\n",
       "</style>\n",
       "<table border=\"1\" class=\"dataframe\">\n",
       "  <thead>\n",
       "    <tr style=\"text-align: right;\">\n",
       "      <th></th>\n",
       "      <th>DateCrawled</th>\n",
       "      <th>Price</th>\n",
       "      <th>VehicleType</th>\n",
       "      <th>RegistrationYear</th>\n",
       "      <th>Gearbox</th>\n",
       "      <th>Power</th>\n",
       "      <th>Model</th>\n",
       "      <th>Kilometer</th>\n",
       "      <th>RegistrationMonth</th>\n",
       "      <th>FuelType</th>\n",
       "      <th>Brand</th>\n",
       "      <th>Repaired</th>\n",
       "      <th>DateCreated</th>\n",
       "      <th>NumberOfPictures</th>\n",
       "      <th>PostalCode</th>\n",
       "      <th>LastSeen</th>\n",
       "    </tr>\n",
       "  </thead>\n",
       "  <tbody>\n",
       "    <tr>\n",
       "      <th>0</th>\n",
       "      <td>2016-03-24 11:52:17</td>\n",
       "      <td>480</td>\n",
       "      <td>NaN</td>\n",
       "      <td>1993</td>\n",
       "      <td>manual</td>\n",
       "      <td>0</td>\n",
       "      <td>golf</td>\n",
       "      <td>150000</td>\n",
       "      <td>0</td>\n",
       "      <td>petrol</td>\n",
       "      <td>volkswagen</td>\n",
       "      <td>NaN</td>\n",
       "      <td>2016-03-24 00:00:00</td>\n",
       "      <td>0</td>\n",
       "      <td>70435</td>\n",
       "      <td>2016-04-07 03:16:57</td>\n",
       "    </tr>\n",
       "    <tr>\n",
       "      <th>1</th>\n",
       "      <td>2016-03-24 10:58:45</td>\n",
       "      <td>18300</td>\n",
       "      <td>coupe</td>\n",
       "      <td>2011</td>\n",
       "      <td>manual</td>\n",
       "      <td>190</td>\n",
       "      <td>NaN</td>\n",
       "      <td>125000</td>\n",
       "      <td>5</td>\n",
       "      <td>gasoline</td>\n",
       "      <td>audi</td>\n",
       "      <td>yes</td>\n",
       "      <td>2016-03-24 00:00:00</td>\n",
       "      <td>0</td>\n",
       "      <td>66954</td>\n",
       "      <td>2016-04-07 01:46:50</td>\n",
       "    </tr>\n",
       "    <tr>\n",
       "      <th>2</th>\n",
       "      <td>2016-03-14 12:52:21</td>\n",
       "      <td>9800</td>\n",
       "      <td>suv</td>\n",
       "      <td>2004</td>\n",
       "      <td>auto</td>\n",
       "      <td>163</td>\n",
       "      <td>grand</td>\n",
       "      <td>125000</td>\n",
       "      <td>8</td>\n",
       "      <td>gasoline</td>\n",
       "      <td>jeep</td>\n",
       "      <td>NaN</td>\n",
       "      <td>2016-03-14 00:00:00</td>\n",
       "      <td>0</td>\n",
       "      <td>90480</td>\n",
       "      <td>2016-04-05 12:47:46</td>\n",
       "    </tr>\n",
       "    <tr>\n",
       "      <th>3</th>\n",
       "      <td>2016-03-17 16:54:04</td>\n",
       "      <td>1500</td>\n",
       "      <td>small</td>\n",
       "      <td>2001</td>\n",
       "      <td>manual</td>\n",
       "      <td>75</td>\n",
       "      <td>golf</td>\n",
       "      <td>150000</td>\n",
       "      <td>6</td>\n",
       "      <td>petrol</td>\n",
       "      <td>volkswagen</td>\n",
       "      <td>no</td>\n",
       "      <td>2016-03-17 00:00:00</td>\n",
       "      <td>0</td>\n",
       "      <td>91074</td>\n",
       "      <td>2016-03-17 17:40:17</td>\n",
       "    </tr>\n",
       "    <tr>\n",
       "      <th>4</th>\n",
       "      <td>2016-03-31 17:25:20</td>\n",
       "      <td>3600</td>\n",
       "      <td>small</td>\n",
       "      <td>2008</td>\n",
       "      <td>manual</td>\n",
       "      <td>69</td>\n",
       "      <td>fabia</td>\n",
       "      <td>90000</td>\n",
       "      <td>7</td>\n",
       "      <td>gasoline</td>\n",
       "      <td>skoda</td>\n",
       "      <td>no</td>\n",
       "      <td>2016-03-31 00:00:00</td>\n",
       "      <td>0</td>\n",
       "      <td>60437</td>\n",
       "      <td>2016-04-06 10:17:21</td>\n",
       "    </tr>\n",
       "  </tbody>\n",
       "</table>\n",
       "</div>"
      ],
      "text/plain": [
       "           DateCrawled  Price VehicleType  RegistrationYear Gearbox  Power  \\\n",
       "0  2016-03-24 11:52:17    480         NaN              1993  manual      0   \n",
       "1  2016-03-24 10:58:45  18300       coupe              2011  manual    190   \n",
       "2  2016-03-14 12:52:21   9800         suv              2004    auto    163   \n",
       "3  2016-03-17 16:54:04   1500       small              2001  manual     75   \n",
       "4  2016-03-31 17:25:20   3600       small              2008  manual     69   \n",
       "\n",
       "   Model  Kilometer  RegistrationMonth  FuelType       Brand Repaired  \\\n",
       "0   golf     150000                  0    petrol  volkswagen      NaN   \n",
       "1    NaN     125000                  5  gasoline        audi      yes   \n",
       "2  grand     125000                  8  gasoline        jeep      NaN   \n",
       "3   golf     150000                  6    petrol  volkswagen       no   \n",
       "4  fabia      90000                  7  gasoline       skoda       no   \n",
       "\n",
       "           DateCreated  NumberOfPictures  PostalCode             LastSeen  \n",
       "0  2016-03-24 00:00:00                 0       70435  2016-04-07 03:16:57  \n",
       "1  2016-03-24 00:00:00                 0       66954  2016-04-07 01:46:50  \n",
       "2  2016-03-14 00:00:00                 0       90480  2016-04-05 12:47:46  \n",
       "3  2016-03-17 00:00:00                 0       91074  2016-03-17 17:40:17  \n",
       "4  2016-03-31 00:00:00                 0       60437  2016-04-06 10:17:21  "
      ]
     },
     "execution_count": 5,
     "metadata": {},
     "output_type": "execute_result"
    }
   ],
   "source": [
    "autos.head()"
   ]
  },
  {
   "cell_type": "code",
   "execution_count": 6,
   "metadata": {},
   "outputs": [
    {
     "data": {
      "text/html": [
       "<div>\n",
       "<style scoped>\n",
       "    .dataframe tbody tr th:only-of-type {\n",
       "        vertical-align: middle;\n",
       "    }\n",
       "\n",
       "    .dataframe tbody tr th {\n",
       "        vertical-align: top;\n",
       "    }\n",
       "\n",
       "    .dataframe thead th {\n",
       "        text-align: right;\n",
       "    }\n",
       "</style>\n",
       "<table border=\"1\" class=\"dataframe\">\n",
       "  <thead>\n",
       "    <tr style=\"text-align: right;\">\n",
       "      <th></th>\n",
       "      <th>Price</th>\n",
       "      <th>RegistrationYear</th>\n",
       "      <th>Power</th>\n",
       "      <th>Kilometer</th>\n",
       "      <th>RegistrationMonth</th>\n",
       "      <th>NumberOfPictures</th>\n",
       "      <th>PostalCode</th>\n",
       "    </tr>\n",
       "  </thead>\n",
       "  <tbody>\n",
       "    <tr>\n",
       "      <th>count</th>\n",
       "      <td>354369.000000</td>\n",
       "      <td>354369.000000</td>\n",
       "      <td>354369.000000</td>\n",
       "      <td>354369.000000</td>\n",
       "      <td>354369.000000</td>\n",
       "      <td>354369.0</td>\n",
       "      <td>354369.000000</td>\n",
       "    </tr>\n",
       "    <tr>\n",
       "      <th>mean</th>\n",
       "      <td>4416.656776</td>\n",
       "      <td>2004.234448</td>\n",
       "      <td>110.094337</td>\n",
       "      <td>128211.172535</td>\n",
       "      <td>5.714645</td>\n",
       "      <td>0.0</td>\n",
       "      <td>50508.689087</td>\n",
       "    </tr>\n",
       "    <tr>\n",
       "      <th>std</th>\n",
       "      <td>4514.158514</td>\n",
       "      <td>90.227958</td>\n",
       "      <td>189.850405</td>\n",
       "      <td>37905.341530</td>\n",
       "      <td>3.726421</td>\n",
       "      <td>0.0</td>\n",
       "      <td>25783.096248</td>\n",
       "    </tr>\n",
       "    <tr>\n",
       "      <th>min</th>\n",
       "      <td>0.000000</td>\n",
       "      <td>1000.000000</td>\n",
       "      <td>0.000000</td>\n",
       "      <td>5000.000000</td>\n",
       "      <td>0.000000</td>\n",
       "      <td>0.0</td>\n",
       "      <td>1067.000000</td>\n",
       "    </tr>\n",
       "    <tr>\n",
       "      <th>25%</th>\n",
       "      <td>1050.000000</td>\n",
       "      <td>1999.000000</td>\n",
       "      <td>69.000000</td>\n",
       "      <td>125000.000000</td>\n",
       "      <td>3.000000</td>\n",
       "      <td>0.0</td>\n",
       "      <td>30165.000000</td>\n",
       "    </tr>\n",
       "    <tr>\n",
       "      <th>50%</th>\n",
       "      <td>2700.000000</td>\n",
       "      <td>2003.000000</td>\n",
       "      <td>105.000000</td>\n",
       "      <td>150000.000000</td>\n",
       "      <td>6.000000</td>\n",
       "      <td>0.0</td>\n",
       "      <td>49413.000000</td>\n",
       "    </tr>\n",
       "    <tr>\n",
       "      <th>75%</th>\n",
       "      <td>6400.000000</td>\n",
       "      <td>2008.000000</td>\n",
       "      <td>143.000000</td>\n",
       "      <td>150000.000000</td>\n",
       "      <td>9.000000</td>\n",
       "      <td>0.0</td>\n",
       "      <td>71083.000000</td>\n",
       "    </tr>\n",
       "    <tr>\n",
       "      <th>max</th>\n",
       "      <td>20000.000000</td>\n",
       "      <td>9999.000000</td>\n",
       "      <td>20000.000000</td>\n",
       "      <td>150000.000000</td>\n",
       "      <td>12.000000</td>\n",
       "      <td>0.0</td>\n",
       "      <td>99998.000000</td>\n",
       "    </tr>\n",
       "  </tbody>\n",
       "</table>\n",
       "</div>"
      ],
      "text/plain": [
       "               Price  RegistrationYear          Power      Kilometer  \\\n",
       "count  354369.000000     354369.000000  354369.000000  354369.000000   \n",
       "mean     4416.656776       2004.234448     110.094337  128211.172535   \n",
       "std      4514.158514         90.227958     189.850405   37905.341530   \n",
       "min         0.000000       1000.000000       0.000000    5000.000000   \n",
       "25%      1050.000000       1999.000000      69.000000  125000.000000   \n",
       "50%      2700.000000       2003.000000     105.000000  150000.000000   \n",
       "75%      6400.000000       2008.000000     143.000000  150000.000000   \n",
       "max     20000.000000       9999.000000   20000.000000  150000.000000   \n",
       "\n",
       "       RegistrationMonth  NumberOfPictures     PostalCode  \n",
       "count      354369.000000          354369.0  354369.000000  \n",
       "mean            5.714645               0.0   50508.689087  \n",
       "std             3.726421               0.0   25783.096248  \n",
       "min             0.000000               0.0    1067.000000  \n",
       "25%             3.000000               0.0   30165.000000  \n",
       "50%             6.000000               0.0   49413.000000  \n",
       "75%             9.000000               0.0   71083.000000  \n",
       "max            12.000000               0.0   99998.000000  "
      ]
     },
     "execution_count": 6,
     "metadata": {},
     "output_type": "execute_result"
    }
   ],
   "source": [
    "autos.describe()"
   ]
  },
  {
   "cell_type": "markdown",
   "metadata": {},
   "source": [
    "В датасете требуется обработка выбросов:\n",
    "Price - целевой признак (не может ровняться 0 и слишком большое максимальное значение)\n",
    "RegistrationYear - год выпуска, значительный признак (вероятно, 1000 и 9999 год это опечатки)\n",
    "Power - самый значимый признак по корреляции с ценой (таблица ниже), равной 0 и 20 000 вероятно быть не может. "
   ]
  },
  {
   "cell_type": "code",
   "execution_count": 7,
   "metadata": {},
   "outputs": [
    {
     "data": {
      "text/html": [
       "<div>\n",
       "<style scoped>\n",
       "    .dataframe tbody tr th:only-of-type {\n",
       "        vertical-align: middle;\n",
       "    }\n",
       "\n",
       "    .dataframe tbody tr th {\n",
       "        vertical-align: top;\n",
       "    }\n",
       "\n",
       "    .dataframe thead th {\n",
       "        text-align: right;\n",
       "    }\n",
       "</style>\n",
       "<table border=\"1\" class=\"dataframe\">\n",
       "  <thead>\n",
       "    <tr style=\"text-align: right;\">\n",
       "      <th></th>\n",
       "      <th>Price</th>\n",
       "      <th>RegistrationYear</th>\n",
       "      <th>Power</th>\n",
       "      <th>Kilometer</th>\n",
       "      <th>RegistrationMonth</th>\n",
       "      <th>NumberOfPictures</th>\n",
       "      <th>PostalCode</th>\n",
       "    </tr>\n",
       "  </thead>\n",
       "  <tbody>\n",
       "    <tr>\n",
       "      <th>Price</th>\n",
       "      <td>1.000000</td>\n",
       "      <td>0.026916</td>\n",
       "      <td>0.158872</td>\n",
       "      <td>-0.333199</td>\n",
       "      <td>0.110581</td>\n",
       "      <td>NaN</td>\n",
       "      <td>0.076055</td>\n",
       "    </tr>\n",
       "    <tr>\n",
       "      <th>RegistrationYear</th>\n",
       "      <td>0.026916</td>\n",
       "      <td>1.000000</td>\n",
       "      <td>-0.000828</td>\n",
       "      <td>-0.053447</td>\n",
       "      <td>-0.011619</td>\n",
       "      <td>NaN</td>\n",
       "      <td>-0.003459</td>\n",
       "    </tr>\n",
       "    <tr>\n",
       "      <th>Power</th>\n",
       "      <td>0.158872</td>\n",
       "      <td>-0.000828</td>\n",
       "      <td>1.000000</td>\n",
       "      <td>0.024002</td>\n",
       "      <td>0.043380</td>\n",
       "      <td>NaN</td>\n",
       "      <td>0.021665</td>\n",
       "    </tr>\n",
       "    <tr>\n",
       "      <th>Kilometer</th>\n",
       "      <td>-0.333199</td>\n",
       "      <td>-0.053447</td>\n",
       "      <td>0.024002</td>\n",
       "      <td>1.000000</td>\n",
       "      <td>0.009571</td>\n",
       "      <td>NaN</td>\n",
       "      <td>-0.007698</td>\n",
       "    </tr>\n",
       "    <tr>\n",
       "      <th>RegistrationMonth</th>\n",
       "      <td>0.110581</td>\n",
       "      <td>-0.011619</td>\n",
       "      <td>0.043380</td>\n",
       "      <td>0.009571</td>\n",
       "      <td>1.000000</td>\n",
       "      <td>NaN</td>\n",
       "      <td>0.013995</td>\n",
       "    </tr>\n",
       "    <tr>\n",
       "      <th>NumberOfPictures</th>\n",
       "      <td>NaN</td>\n",
       "      <td>NaN</td>\n",
       "      <td>NaN</td>\n",
       "      <td>NaN</td>\n",
       "      <td>NaN</td>\n",
       "      <td>NaN</td>\n",
       "      <td>NaN</td>\n",
       "    </tr>\n",
       "    <tr>\n",
       "      <th>PostalCode</th>\n",
       "      <td>0.076055</td>\n",
       "      <td>-0.003459</td>\n",
       "      <td>0.021665</td>\n",
       "      <td>-0.007698</td>\n",
       "      <td>0.013995</td>\n",
       "      <td>NaN</td>\n",
       "      <td>1.000000</td>\n",
       "    </tr>\n",
       "  </tbody>\n",
       "</table>\n",
       "</div>"
      ],
      "text/plain": [
       "                      Price  RegistrationYear     Power  Kilometer  \\\n",
       "Price              1.000000          0.026916  0.158872  -0.333199   \n",
       "RegistrationYear   0.026916          1.000000 -0.000828  -0.053447   \n",
       "Power              0.158872         -0.000828  1.000000   0.024002   \n",
       "Kilometer         -0.333199         -0.053447  0.024002   1.000000   \n",
       "RegistrationMonth  0.110581         -0.011619  0.043380   0.009571   \n",
       "NumberOfPictures        NaN               NaN       NaN        NaN   \n",
       "PostalCode         0.076055         -0.003459  0.021665  -0.007698   \n",
       "\n",
       "                   RegistrationMonth  NumberOfPictures  PostalCode  \n",
       "Price                       0.110581               NaN    0.076055  \n",
       "RegistrationYear           -0.011619               NaN   -0.003459  \n",
       "Power                       0.043380               NaN    0.021665  \n",
       "Kilometer                   0.009571               NaN   -0.007698  \n",
       "RegistrationMonth           1.000000               NaN    0.013995  \n",
       "NumberOfPictures                 NaN               NaN         NaN  \n",
       "PostalCode                  0.013995               NaN    1.000000  "
      ]
     },
     "execution_count": 7,
     "metadata": {},
     "output_type": "execute_result"
    }
   ],
   "source": [
    "autos.corr()"
   ]
  },
  {
   "cell_type": "markdown",
   "metadata": {},
   "source": [
    "Наибольшее влияние на цену оказывает количество лошадей(прямая зависимость) и пробег(обратная зависимость)"
   ]
  },
  {
   "cell_type": "code",
   "execution_count": 8,
   "metadata": {},
   "outputs": [
    {
     "data": {
      "text/plain": [
       "DateCrawled              0\n",
       "Price                    0\n",
       "VehicleType          37490\n",
       "RegistrationYear         0\n",
       "Gearbox              19833\n",
       "Power                    0\n",
       "Model                19705\n",
       "Kilometer                0\n",
       "RegistrationMonth        0\n",
       "FuelType             32895\n",
       "Brand                    0\n",
       "Repaired             71154\n",
       "DateCreated              0\n",
       "NumberOfPictures         0\n",
       "PostalCode               0\n",
       "LastSeen                 0\n",
       "dtype: int64"
      ]
     },
     "execution_count": 8,
     "metadata": {},
     "output_type": "execute_result"
    }
   ],
   "source": [
    "autos.isna().sum()"
   ]
  },
  {
   "cell_type": "markdown",
   "metadata": {},
   "source": [
    "Обработка пропусков: \\\n",
    "VehicleType - тип кузова, поскольку признак категорией, можно создать новую категорию \"не указано\"\\\n",
    "Gearbox - тип коробки передач - важный показатель, наличие автоматической коробки (и ее аналогов) увеличивает стоимость автомобиля, при продаже этот признак не указывали, поскольку не акцентировали на этом внимание, предлагаю рискнуть и заменить пропущенные значение на механическую коробку передач\\\n",
    "Model - без указания модели сложно предположить как это скажется на обучении модели. введем категорию \"не указано\" (или удалить!!)\\\n",
    "FuelType - тип топлива - дизель и газ наименее популярен у легковых машин, думаю, лучше заполнить пропуски \"бензин\"\\\n",
    "Repaired - была машина в ремонте, поскольку не указано, лучше ввести \"не указано\"\\"
   ]
  },
  {
   "cell_type": "markdown",
   "metadata": {},
   "source": [
    "Для модели прогноза не представляют интереса следующие столбцы:\\\n",
    "DateCrawled\\\n",
    "RegistrationMonth \\\n",
    "DateCreated\\\n",
    "PostalCode\\\n",
    "LastSeen\\\n",
    "NumberOfPictures - в датасете одни нули\\"
   ]
  },
  {
   "cell_type": "markdown",
   "metadata": {},
   "source": [
    "### Проверка дубликатов, удаление столбцов"
   ]
  },
  {
   "cell_type": "code",
   "execution_count": 9,
   "metadata": {},
   "outputs": [
    {
     "data": {
      "text/plain": [
       "4"
      ]
     },
     "execution_count": 9,
     "metadata": {},
     "output_type": "execute_result"
    }
   ],
   "source": [
    "autos.duplicated().sum()"
   ]
  },
  {
   "cell_type": "code",
   "execution_count": 10,
   "metadata": {},
   "outputs": [],
   "source": [
    "autos = autos.drop_duplicates()"
   ]
  },
  {
   "cell_type": "markdown",
   "metadata": {},
   "source": [
    "4 но все равно есть =)"
   ]
  },
  {
   "cell_type": "code",
   "execution_count": 11,
   "metadata": {},
   "outputs": [],
   "source": [
    "del_col = ['DateCrawled', 'RegistrationMonth', 'DateCreated', 'PostalCode', \n",
    "           'LastSeen', 'NumberOfPictures']\n",
    "autos = autos.drop(del_col, axis=1)"
   ]
  },
  {
   "cell_type": "code",
   "execution_count": 12,
   "metadata": {},
   "outputs": [
    {
     "data": {
      "text/html": [
       "<div>\n",
       "<style scoped>\n",
       "    .dataframe tbody tr th:only-of-type {\n",
       "        vertical-align: middle;\n",
       "    }\n",
       "\n",
       "    .dataframe tbody tr th {\n",
       "        vertical-align: top;\n",
       "    }\n",
       "\n",
       "    .dataframe thead th {\n",
       "        text-align: right;\n",
       "    }\n",
       "</style>\n",
       "<table border=\"1\" class=\"dataframe\">\n",
       "  <thead>\n",
       "    <tr style=\"text-align: right;\">\n",
       "      <th></th>\n",
       "      <th>Price</th>\n",
       "      <th>VehicleType</th>\n",
       "      <th>RegistrationYear</th>\n",
       "      <th>Gearbox</th>\n",
       "      <th>Power</th>\n",
       "      <th>Model</th>\n",
       "      <th>Kilometer</th>\n",
       "      <th>FuelType</th>\n",
       "      <th>Brand</th>\n",
       "      <th>Repaired</th>\n",
       "    </tr>\n",
       "  </thead>\n",
       "  <tbody>\n",
       "    <tr>\n",
       "      <th>0</th>\n",
       "      <td>480</td>\n",
       "      <td>NaN</td>\n",
       "      <td>1993</td>\n",
       "      <td>manual</td>\n",
       "      <td>0</td>\n",
       "      <td>golf</td>\n",
       "      <td>150000</td>\n",
       "      <td>petrol</td>\n",
       "      <td>volkswagen</td>\n",
       "      <td>NaN</td>\n",
       "    </tr>\n",
       "    <tr>\n",
       "      <th>1</th>\n",
       "      <td>18300</td>\n",
       "      <td>coupe</td>\n",
       "      <td>2011</td>\n",
       "      <td>manual</td>\n",
       "      <td>190</td>\n",
       "      <td>NaN</td>\n",
       "      <td>125000</td>\n",
       "      <td>gasoline</td>\n",
       "      <td>audi</td>\n",
       "      <td>yes</td>\n",
       "    </tr>\n",
       "    <tr>\n",
       "      <th>2</th>\n",
       "      <td>9800</td>\n",
       "      <td>suv</td>\n",
       "      <td>2004</td>\n",
       "      <td>auto</td>\n",
       "      <td>163</td>\n",
       "      <td>grand</td>\n",
       "      <td>125000</td>\n",
       "      <td>gasoline</td>\n",
       "      <td>jeep</td>\n",
       "      <td>NaN</td>\n",
       "    </tr>\n",
       "    <tr>\n",
       "      <th>3</th>\n",
       "      <td>1500</td>\n",
       "      <td>small</td>\n",
       "      <td>2001</td>\n",
       "      <td>manual</td>\n",
       "      <td>75</td>\n",
       "      <td>golf</td>\n",
       "      <td>150000</td>\n",
       "      <td>petrol</td>\n",
       "      <td>volkswagen</td>\n",
       "      <td>no</td>\n",
       "    </tr>\n",
       "    <tr>\n",
       "      <th>4</th>\n",
       "      <td>3600</td>\n",
       "      <td>small</td>\n",
       "      <td>2008</td>\n",
       "      <td>manual</td>\n",
       "      <td>69</td>\n",
       "      <td>fabia</td>\n",
       "      <td>90000</td>\n",
       "      <td>gasoline</td>\n",
       "      <td>skoda</td>\n",
       "      <td>no</td>\n",
       "    </tr>\n",
       "    <tr>\n",
       "      <th>5</th>\n",
       "      <td>650</td>\n",
       "      <td>sedan</td>\n",
       "      <td>1995</td>\n",
       "      <td>manual</td>\n",
       "      <td>102</td>\n",
       "      <td>3er</td>\n",
       "      <td>150000</td>\n",
       "      <td>petrol</td>\n",
       "      <td>bmw</td>\n",
       "      <td>yes</td>\n",
       "    </tr>\n",
       "    <tr>\n",
       "      <th>6</th>\n",
       "      <td>2200</td>\n",
       "      <td>convertible</td>\n",
       "      <td>2004</td>\n",
       "      <td>manual</td>\n",
       "      <td>109</td>\n",
       "      <td>2_reihe</td>\n",
       "      <td>150000</td>\n",
       "      <td>petrol</td>\n",
       "      <td>peugeot</td>\n",
       "      <td>no</td>\n",
       "    </tr>\n",
       "    <tr>\n",
       "      <th>7</th>\n",
       "      <td>0</td>\n",
       "      <td>sedan</td>\n",
       "      <td>1980</td>\n",
       "      <td>manual</td>\n",
       "      <td>50</td>\n",
       "      <td>other</td>\n",
       "      <td>40000</td>\n",
       "      <td>petrol</td>\n",
       "      <td>volkswagen</td>\n",
       "      <td>no</td>\n",
       "    </tr>\n",
       "    <tr>\n",
       "      <th>8</th>\n",
       "      <td>14500</td>\n",
       "      <td>bus</td>\n",
       "      <td>2014</td>\n",
       "      <td>manual</td>\n",
       "      <td>125</td>\n",
       "      <td>c_max</td>\n",
       "      <td>30000</td>\n",
       "      <td>petrol</td>\n",
       "      <td>ford</td>\n",
       "      <td>NaN</td>\n",
       "    </tr>\n",
       "    <tr>\n",
       "      <th>9</th>\n",
       "      <td>999</td>\n",
       "      <td>small</td>\n",
       "      <td>1998</td>\n",
       "      <td>manual</td>\n",
       "      <td>101</td>\n",
       "      <td>golf</td>\n",
       "      <td>150000</td>\n",
       "      <td>NaN</td>\n",
       "      <td>volkswagen</td>\n",
       "      <td>NaN</td>\n",
       "    </tr>\n",
       "  </tbody>\n",
       "</table>\n",
       "</div>"
      ],
      "text/plain": [
       "   Price  VehicleType  RegistrationYear Gearbox  Power    Model  Kilometer  \\\n",
       "0    480          NaN              1993  manual      0     golf     150000   \n",
       "1  18300        coupe              2011  manual    190      NaN     125000   \n",
       "2   9800          suv              2004    auto    163    grand     125000   \n",
       "3   1500        small              2001  manual     75     golf     150000   \n",
       "4   3600        small              2008  manual     69    fabia      90000   \n",
       "5    650        sedan              1995  manual    102      3er     150000   \n",
       "6   2200  convertible              2004  manual    109  2_reihe     150000   \n",
       "7      0        sedan              1980  manual     50    other      40000   \n",
       "8  14500          bus              2014  manual    125    c_max      30000   \n",
       "9    999        small              1998  manual    101     golf     150000   \n",
       "\n",
       "   FuelType       Brand Repaired  \n",
       "0    petrol  volkswagen      NaN  \n",
       "1  gasoline        audi      yes  \n",
       "2  gasoline        jeep      NaN  \n",
       "3    petrol  volkswagen       no  \n",
       "4  gasoline       skoda       no  \n",
       "5    petrol         bmw      yes  \n",
       "6    petrol     peugeot       no  \n",
       "7    petrol  volkswagen       no  \n",
       "8    petrol        ford      NaN  \n",
       "9       NaN  volkswagen      NaN  "
      ]
     },
     "execution_count": 12,
     "metadata": {},
     "output_type": "execute_result"
    }
   ],
   "source": [
    "autos.head(10)"
   ]
  },
  {
   "cell_type": "markdown",
   "metadata": {},
   "source": [
    "### Обработка пропусков"
   ]
  },
  {
   "cell_type": "markdown",
   "metadata": {},
   "source": [
    "в категориях с пропусками, где необходимо добавим категорию \"not_ind\""
   ]
  },
  {
   "cell_type": "code",
   "execution_count": 13,
   "metadata": {},
   "outputs": [],
   "source": [
    "columns_not_ind = ['VehicleType', 'Model', 'Repaired']"
   ]
  },
  {
   "cell_type": "code",
   "execution_count": 14,
   "metadata": {},
   "outputs": [
    {
     "name": "stdout",
     "output_type": "stream",
     "text": [
      "[nan 'coupe' 'suv' 'small' 'sedan' 'convertible' 'bus' 'wagon' 'other']\n",
      "['golf' nan 'grand' 'fabia' '3er' '2_reihe' 'other' 'c_max' '3_reihe'\n",
      " 'passat' 'navara' 'ka' 'polo' 'twingo' 'a_klasse' 'scirocco' '5er'\n",
      " 'meriva' 'arosa' 'c4' 'civic' 'transporter' 'punto' 'e_klasse' 'clio'\n",
      " 'kadett' 'kangoo' 'corsa' 'one' 'fortwo' '1er' 'b_klasse' 'signum'\n",
      " 'astra' 'a8' 'jetta' 'fiesta' 'c_klasse' 'micra' 'vito' 'sprinter' '156'\n",
      " 'escort' 'forester' 'xc_reihe' 'scenic' 'a4' 'a1' 'insignia' 'combo'\n",
      " 'focus' 'tt' 'a6' 'jazz' 'omega' 'slk' '7er' '80' '147' '100' 'z_reihe'\n",
      " 'sportage' 'sorento' 'v40' 'ibiza' 'mustang' 'eos' 'touran' 'getz' 'a3'\n",
      " 'almera' 'megane' 'lupo' 'r19' 'zafira' 'caddy' 'mondeo' 'cordoba' 'colt'\n",
      " 'impreza' 'vectra' 'berlingo' 'tiguan' 'i_reihe' 'espace' 'sharan'\n",
      " '6_reihe' 'panda' 'up' 'seicento' 'ceed' '5_reihe' 'yeti' 'octavia' 'mii'\n",
      " 'rx_reihe' '6er' 'modus' 'fox' 'matiz' 'beetle' 'c1' 'rio' 'touareg'\n",
      " 'logan' 'spider' 'cuore' 's_max' 'a2' 'galaxy' 'c3' 'viano' 's_klasse'\n",
      " '1_reihe' 'avensis' 'roomster' 'sl' 'kaefer' 'santa' 'cooper' 'leon'\n",
      " '4_reihe' 'a5' '500' 'laguna' 'ptcruiser' 'clk' 'primera' 'x_reihe'\n",
      " 'exeo' '159' 'transit' 'juke' 'qashqai' 'carisma' 'accord' 'corolla'\n",
      " 'lanos' 'phaeton' 'verso' 'swift' 'rav' 'picanto' 'boxster' 'kalos'\n",
      " 'superb' 'stilo' 'alhambra' 'mx_reihe' 'roadster' 'ypsilon' 'cayenne'\n",
      " 'galant' 'justy' '90' 'sirion' 'crossfire' 'agila' 'duster' 'cr_reihe'\n",
      " 'v50' 'c_reihe' 'v_klasse' 'm_klasse' 'yaris' 'c5' 'aygo' 'cc' 'carnival'\n",
      " 'fusion' '911' 'bora' 'forfour' 'm_reihe' 'cl' 'tigra' '300c' 'spark'\n",
      " 'v70' 'kuga' 'x_type' 'ducato' 's_type' 'x_trail' 'toledo' 'altea'\n",
      " 'voyager' 'calibra' 'bravo' 'antara' 'tucson' 'citigo' 'jimny' 'wrangler'\n",
      " 'lybra' 'q7' 'lancer' 'captiva' 'c2' 'discovery' 'freelander' 'sandero'\n",
      " 'note' '900' 'cherokee' 'clubman' 'samara' 'defender' '601' 'cx_reihe'\n",
      " 'legacy' 'pajero' 'auris' 'niva' 's60' 'nubira' 'vivaro' 'g_klasse'\n",
      " 'lodgy' '850' 'range_rover' 'q3' 'serie_2' 'glk' 'charade' 'croma'\n",
      " 'outlander' 'doblo' 'musa' 'move' '9000' 'v60' '145' 'aveo' '200' 'b_max'\n",
      " 'range_rover_sport' 'terios' 'rangerover' 'q5' 'range_rover_evoque'\n",
      " 'materia' 'delta' 'gl' 'kalina' 'amarok' 'elefantino' 'i3' 'kappa'\n",
      " 'serie_3' 'serie_1']\n",
      "[nan 'yes' 'no']\n"
     ]
    }
   ],
   "source": [
    "for a in columns_not_ind:\n",
    "    print(autos[a].unique())"
   ]
  },
  {
   "cell_type": "markdown",
   "metadata": {},
   "source": [
    "VehicleType - пропуски заменим на \"other\"\\\n",
    "Model -  пропуски удалим\\\n",
    "Repaired - пропуски укажем \"not_ind\""
   ]
  },
  {
   "cell_type": "code",
   "execution_count": 15,
   "metadata": {},
   "outputs": [],
   "source": [
    "autos['VehicleType'] = autos['VehicleType'].fillna('other')\n",
    "autos = autos.dropna (subset=['Model'])\n",
    "autos['Repaired'] = autos['Repaired'].fillna('not_ind')"
   ]
  },
  {
   "cell_type": "code",
   "execution_count": 16,
   "metadata": {},
   "outputs": [],
   "source": [
    "columns_not_ind2 = ['Gearbox', 'FuelType']"
   ]
  },
  {
   "cell_type": "code",
   "execution_count": 17,
   "metadata": {},
   "outputs": [
    {
     "name": "stdout",
     "output_type": "stream",
     "text": [
      "['manual' 'auto' nan]\n",
      "['petrol' 'gasoline' nan 'lpg' 'other' 'hybrid' 'cng' 'electric']\n"
     ]
    }
   ],
   "source": [
    "for a in columns_not_ind2:\n",
    "    print(autos[a].unique())"
   ]
  },
  {
   "cell_type": "code",
   "execution_count": 18,
   "metadata": {},
   "outputs": [
    {
     "name": "stdout",
     "output_type": "stream",
     "text": [
      "Gearbox\n",
      "auto       63036\n",
      "manual    255922\n",
      "Name: Gearbox, dtype: int64\n",
      "FuelType\n",
      "cng            544\n",
      "electric        66\n",
      "gasoline     95856\n",
      "hybrid         208\n",
      "lpg           4962\n",
      "other          133\n",
      "petrol      207159\n",
      "Name: FuelType, dtype: int64\n"
     ]
    }
   ],
   "source": [
    "for a in columns_not_ind2:\n",
    "    print(autos.groupby(a)[a].count())"
   ]
  },
  {
   "cell_type": "markdown",
   "metadata": {},
   "source": [
    "Gearbox - заполним \"manual\"\n",
    "FuelType - заполним \"petrol\""
   ]
  },
  {
   "cell_type": "code",
   "execution_count": 19,
   "metadata": {},
   "outputs": [],
   "source": [
    "autos['Gearbox'] = autos['Gearbox'].fillna('manual')\n",
    "autos['FuelType'] = autos['FuelType'].fillna('petrol')"
   ]
  },
  {
   "cell_type": "code",
   "execution_count": 20,
   "metadata": {},
   "outputs": [
    {
     "data": {
      "text/plain": [
       "Price               0\n",
       "VehicleType         0\n",
       "RegistrationYear    0\n",
       "Gearbox             0\n",
       "Power               0\n",
       "Model               0\n",
       "Kilometer           0\n",
       "FuelType            0\n",
       "Brand               0\n",
       "Repaired            0\n",
       "dtype: int64"
      ]
     },
     "execution_count": 20,
     "metadata": {},
     "output_type": "execute_result"
    }
   ],
   "source": [
    "autos.isna().sum()"
   ]
  },
  {
   "cell_type": "markdown",
   "metadata": {},
   "source": [
    "на данный момент удалено 19709 строк"
   ]
  },
  {
   "cell_type": "markdown",
   "metadata": {},
   "source": [
    "### Обработка выбросов"
   ]
  },
  {
   "cell_type": "code",
   "execution_count": 21,
   "metadata": {},
   "outputs": [
    {
     "data": {
      "text/html": [
       "<div>\n",
       "<style scoped>\n",
       "    .dataframe tbody tr th:only-of-type {\n",
       "        vertical-align: middle;\n",
       "    }\n",
       "\n",
       "    .dataframe tbody tr th {\n",
       "        vertical-align: top;\n",
       "    }\n",
       "\n",
       "    .dataframe thead th {\n",
       "        text-align: right;\n",
       "    }\n",
       "</style>\n",
       "<table border=\"1\" class=\"dataframe\">\n",
       "  <thead>\n",
       "    <tr style=\"text-align: right;\">\n",
       "      <th></th>\n",
       "      <th>Price</th>\n",
       "      <th>Power</th>\n",
       "      <th>RegistrationYear</th>\n",
       "    </tr>\n",
       "  </thead>\n",
       "  <tbody>\n",
       "    <tr>\n",
       "      <th>count</th>\n",
       "      <td>334660.000000</td>\n",
       "      <td>334660.000000</td>\n",
       "      <td>334660.000000</td>\n",
       "    </tr>\n",
       "    <tr>\n",
       "      <th>mean</th>\n",
       "      <td>4504.372249</td>\n",
       "      <td>111.372659</td>\n",
       "      <td>2003.924024</td>\n",
       "    </tr>\n",
       "    <tr>\n",
       "      <th>std</th>\n",
       "      <td>4531.457109</td>\n",
       "      <td>185.157391</td>\n",
       "      <td>69.377633</td>\n",
       "    </tr>\n",
       "    <tr>\n",
       "      <th>min</th>\n",
       "      <td>0.000000</td>\n",
       "      <td>0.000000</td>\n",
       "      <td>1000.000000</td>\n",
       "    </tr>\n",
       "    <tr>\n",
       "      <th>25%</th>\n",
       "      <td>1150.000000</td>\n",
       "      <td>70.000000</td>\n",
       "      <td>1999.000000</td>\n",
       "    </tr>\n",
       "    <tr>\n",
       "      <th>50%</th>\n",
       "      <td>2800.000000</td>\n",
       "      <td>105.000000</td>\n",
       "      <td>2003.000000</td>\n",
       "    </tr>\n",
       "    <tr>\n",
       "      <th>75%</th>\n",
       "      <td>6500.000000</td>\n",
       "      <td>143.000000</td>\n",
       "      <td>2008.000000</td>\n",
       "    </tr>\n",
       "    <tr>\n",
       "      <th>max</th>\n",
       "      <td>20000.000000</td>\n",
       "      <td>20000.000000</td>\n",
       "      <td>9999.000000</td>\n",
       "    </tr>\n",
       "  </tbody>\n",
       "</table>\n",
       "</div>"
      ],
      "text/plain": [
       "               Price          Power  RegistrationYear\n",
       "count  334660.000000  334660.000000     334660.000000\n",
       "mean     4504.372249     111.372659       2003.924024\n",
       "std      4531.457109     185.157391         69.377633\n",
       "min         0.000000       0.000000       1000.000000\n",
       "25%      1150.000000      70.000000       1999.000000\n",
       "50%      2800.000000     105.000000       2003.000000\n",
       "75%      6500.000000     143.000000       2008.000000\n",
       "max     20000.000000   20000.000000       9999.000000"
      ]
     },
     "execution_count": 21,
     "metadata": {},
     "output_type": "execute_result"
    }
   ],
   "source": [
    "miss = ['Price', 'Power', 'RegistrationYear']\n",
    "autos[miss].describe()"
   ]
  },
  {
   "cell_type": "code",
   "execution_count": 22,
   "metadata": {},
   "outputs": [
    {
     "data": {
      "text/plain": [
       "<AxesSubplot:>"
      ]
     },
     "execution_count": 22,
     "metadata": {},
     "output_type": "execute_result"
    },
    {
     "data": {
      "image/png": "[encoded data removed]",
      "text/plain": [
       "<Figure size 432x288 with 1 Axes>"
      ]
     },
     "metadata": {
      "needs_background": "light"
     },
     "output_type": "display_data"
    }
   ],
   "source": [
    "sns.boxplot(data = autos['Price'])"
   ]
  },
  {
   "cell_type": "code",
   "execution_count": 23,
   "metadata": {},
   "outputs": [
    {
     "data": {
      "text/plain": [
       "<AxesSubplot:>"
      ]
     },
     "execution_count": 23,
     "metadata": {},
     "output_type": "execute_result"
    },
    {
     "data": {
      "image/png": "[encoded data removed]",
      "text/plain": [
       "<Figure size 432x288 with 1 Axes>"
      ]
     },
     "metadata": {
      "needs_background": "light"
     },
     "output_type": "display_data"
    }
   ],
   "source": [
    "sns.boxplot(data = autos['Power'])"
   ]
  },
  {
   "cell_type": "code",
   "execution_count": 24,
   "metadata": {},
   "outputs": [
    {
     "data": {
      "text/plain": [
       "<AxesSubplot:>"
      ]
     },
     "execution_count": 24,
     "metadata": {},
     "output_type": "execute_result"
    },
    {
     "data": {
      "image/png": "[encoded data removed]",
      "text/plain": [
       "<Figure size 432x288 with 1 Axes>"
      ]
     },
     "metadata": {
      "needs_background": "light"
     },
     "output_type": "display_data"
    }
   ],
   "source": [
    "sns.boxplot(data = autos['RegistrationYear'])"
   ]
  },
  {
   "cell_type": "code",
   "execution_count": 25,
   "metadata": {},
   "outputs": [
    {
     "data": {
      "text/plain": [
       "array([1000, 1001, 1111, 1200, 1234, 1300, 1400, 1500, 1600, 1602, 1800,\n",
       "       1910, 1919, 1923, 1927, 1928, 1929, 1930, 1931, 1932, 1933, 1934,\n",
       "       1935, 1936, 1937, 1938, 1941, 1942, 1943, 1945, 1947, 1949, 1950,\n",
       "       1951, 1952, 1953, 1954, 1955, 1956, 1957, 1958, 1959, 1960, 1961,\n",
       "       1962, 1963, 1964, 1965, 1966, 1967, 1968, 1969, 1970, 1971, 1972,\n",
       "       1973, 1974, 1975, 1976, 1977, 1978, 1979, 1980, 1981, 1982, 1983,\n",
       "       1984, 1985, 1986, 1987, 1988, 1989, 1990, 1991, 1992, 1993, 1994,\n",
       "       1995, 1996, 1997, 1998, 1999, 2000, 2001, 2002, 2003, 2004, 2005,\n",
       "       2006, 2007, 2008, 2009, 2010, 2011, 2012, 2013, 2014, 2015, 2016,\n",
       "       2017, 2018, 2019, 2066, 2200, 2290, 2500, 2900, 3000, 3700, 4000,\n",
       "       4500, 5000, 5555, 5900, 5911, 6000, 6500, 7000, 7100, 7500, 7800,\n",
       "       8000, 8200, 8500, 9000, 9999])"
      ]
     },
     "execution_count": 25,
     "metadata": {},
     "output_type": "execute_result"
    }
   ],
   "source": [
    "a = autos['RegistrationYear'].unique()\n",
    "a.sort()\n",
    "a"
   ]
  },
  {
   "cell_type": "markdown",
   "metadata": {},
   "source": [
    "Обработку выбросов будем проводить следующим образом: \\\n",
    "Price оставляем данные от 100 до 17000\\\n",
    "Power оставляем данные от 40 до 2000\\\n",
    "RegistrationYear оставляем данные от 1910 до 2016"
   ]
  },
  {
   "cell_type": "code",
   "execution_count": 26,
   "metadata": {},
   "outputs": [],
   "source": [
    "autos1 = autos[(autos['Price'] >= 100) & (autos['Price'] <= 17000)]\n",
    "autos1 = autos1[(autos1['Power'] >= 40) & (autos1['Power'] <= 2000)]\n",
    "autos1 = autos1[(autos1['RegistrationYear'] >= 1910) & (autos1['RegistrationYear'] <= 2016)]\n"
   ]
  },
  {
   "cell_type": "code",
   "execution_count": 27,
   "metadata": {},
   "outputs": [
    {
     "data": {
      "text/html": [
       "<div>\n",
       "<style scoped>\n",
       "    .dataframe tbody tr th:only-of-type {\n",
       "        vertical-align: middle;\n",
       "    }\n",
       "\n",
       "    .dataframe tbody tr th {\n",
       "        vertical-align: top;\n",
       "    }\n",
       "\n",
       "    .dataframe thead th {\n",
       "        text-align: right;\n",
       "    }\n",
       "</style>\n",
       "<table border=\"1\" class=\"dataframe\">\n",
       "  <thead>\n",
       "    <tr style=\"text-align: right;\">\n",
       "      <th></th>\n",
       "      <th>Price</th>\n",
       "      <th>VehicleType</th>\n",
       "      <th>RegistrationYear</th>\n",
       "      <th>Gearbox</th>\n",
       "      <th>Power</th>\n",
       "      <th>Model</th>\n",
       "      <th>Kilometer</th>\n",
       "      <th>FuelType</th>\n",
       "      <th>Brand</th>\n",
       "      <th>Repaired</th>\n",
       "    </tr>\n",
       "  </thead>\n",
       "  <tbody>\n",
       "    <tr>\n",
       "      <th>2</th>\n",
       "      <td>9800</td>\n",
       "      <td>suv</td>\n",
       "      <td>2004</td>\n",
       "      <td>auto</td>\n",
       "      <td>163</td>\n",
       "      <td>grand</td>\n",
       "      <td>125000</td>\n",
       "      <td>gasoline</td>\n",
       "      <td>jeep</td>\n",
       "      <td>not_ind</td>\n",
       "    </tr>\n",
       "    <tr>\n",
       "      <th>3</th>\n",
       "      <td>1500</td>\n",
       "      <td>small</td>\n",
       "      <td>2001</td>\n",
       "      <td>manual</td>\n",
       "      <td>75</td>\n",
       "      <td>golf</td>\n",
       "      <td>150000</td>\n",
       "      <td>petrol</td>\n",
       "      <td>volkswagen</td>\n",
       "      <td>no</td>\n",
       "    </tr>\n",
       "    <tr>\n",
       "      <th>4</th>\n",
       "      <td>3600</td>\n",
       "      <td>small</td>\n",
       "      <td>2008</td>\n",
       "      <td>manual</td>\n",
       "      <td>69</td>\n",
       "      <td>fabia</td>\n",
       "      <td>90000</td>\n",
       "      <td>gasoline</td>\n",
       "      <td>skoda</td>\n",
       "      <td>no</td>\n",
       "    </tr>\n",
       "    <tr>\n",
       "      <th>5</th>\n",
       "      <td>650</td>\n",
       "      <td>sedan</td>\n",
       "      <td>1995</td>\n",
       "      <td>manual</td>\n",
       "      <td>102</td>\n",
       "      <td>3er</td>\n",
       "      <td>150000</td>\n",
       "      <td>petrol</td>\n",
       "      <td>bmw</td>\n",
       "      <td>yes</td>\n",
       "    </tr>\n",
       "    <tr>\n",
       "      <th>6</th>\n",
       "      <td>2200</td>\n",
       "      <td>convertible</td>\n",
       "      <td>2004</td>\n",
       "      <td>manual</td>\n",
       "      <td>109</td>\n",
       "      <td>2_reihe</td>\n",
       "      <td>150000</td>\n",
       "      <td>petrol</td>\n",
       "      <td>peugeot</td>\n",
       "      <td>no</td>\n",
       "    </tr>\n",
       "  </tbody>\n",
       "</table>\n",
       "</div>"
      ],
      "text/plain": [
       "   Price  VehicleType  RegistrationYear Gearbox  Power    Model  Kilometer  \\\n",
       "2   9800          suv              2004    auto    163    grand     125000   \n",
       "3   1500        small              2001  manual     75     golf     150000   \n",
       "4   3600        small              2008  manual     69    fabia      90000   \n",
       "5    650        sedan              1995  manual    102      3er     150000   \n",
       "6   2200  convertible              2004  manual    109  2_reihe     150000   \n",
       "\n",
       "   FuelType       Brand Repaired  \n",
       "2  gasoline        jeep  not_ind  \n",
       "3    petrol  volkswagen       no  \n",
       "4  gasoline       skoda       no  \n",
       "5    petrol         bmw      yes  \n",
       "6    petrol     peugeot       no  "
      ]
     },
     "execution_count": 27,
     "metadata": {},
     "output_type": "execute_result"
    }
   ],
   "source": [
    "autos1.head()"
   ]
  },
  {
   "cell_type": "code",
   "execution_count": 28,
   "metadata": {},
   "outputs": [
    {
     "data": {
      "text/plain": [
       "array([2004, 2001, 2008, 1995, 2014, 1998, 2005, 2016, 2007, 2009, 2002,\n",
       "       1997, 1990, 1981, 2003, 1991, 1984, 2006, 1999, 2012, 2010, 2000,\n",
       "       1992, 2013, 1994, 1996, 1989, 2011, 2015, 1993, 1985, 1982, 1983,\n",
       "       1973, 1969, 1971, 1987, 1988, 1980, 1986, 1965, 1945, 1974, 1978,\n",
       "       1976, 1979, 1972, 1977, 1970, 1963, 1966, 1961, 1975, 1960, 1910,\n",
       "       1968, 1967, 1949, 1959, 1953, 1958, 1962, 1964, 1955, 1951, 1950,\n",
       "       1942, 1957, 1956, 1943, 1938, 1928, 1954, 1931, 1927, 1937])"
      ]
     },
     "execution_count": 28,
     "metadata": {},
     "output_type": "execute_result"
    }
   ],
   "source": [
    "autos1['RegistrationYear'].unique()"
   ]
  },
  {
   "cell_type": "code",
   "execution_count": 29,
   "metadata": {},
   "outputs": [
    {
     "name": "stdout",
     "output_type": "stream",
     "text": [
      "<class 'pandas.core.frame.DataFrame'>\n",
      "Int64Index: 276316 entries, 2 to 354368\n",
      "Data columns (total 10 columns):\n",
      " #   Column            Non-Null Count   Dtype \n",
      "---  ------            --------------   ----- \n",
      " 0   Price             276316 non-null  int64 \n",
      " 1   VehicleType       276316 non-null  object\n",
      " 2   RegistrationYear  276316 non-null  int64 \n",
      " 3   Gearbox           276316 non-null  object\n",
      " 4   Power             276316 non-null  int64 \n",
      " 5   Model             276316 non-null  object\n",
      " 6   Kilometer         276316 non-null  int64 \n",
      " 7   FuelType          276316 non-null  object\n",
      " 8   Brand             276316 non-null  object\n",
      " 9   Repaired          276316 non-null  object\n",
      "dtypes: int64(4), object(6)\n",
      "memory usage: 23.2+ MB\n"
     ]
    }
   ],
   "source": [
    "autos1.info()"
   ]
  },
  {
   "cell_type": "code",
   "execution_count": 30,
   "metadata": {},
   "outputs": [
    {
     "data": {
      "text/plain": [
       "0.1743381342257814"
      ]
     },
     "execution_count": 30,
     "metadata": {},
     "output_type": "execute_result"
    }
   ],
   "source": [
    "(autos['Price'].count() - autos1['Price'].count()) / autos['Price'].count()"
   ]
  },
  {
   "cell_type": "markdown",
   "metadata": {},
   "source": [
    "в ходе подготовки данных удалено 19 % данных, что является большим значением, но приемлемым. "
   ]
  },
  {
   "cell_type": "markdown",
   "metadata": {},
   "source": [
    "В ходе подготовки данных было выполнено: \n",
    "1. Изучены дынные: наибольший влияющий фактор на цену — это мощность и пробег\n",
    "2. Обработаны пропуски:\n",
    "VehicleType – пропуски заменили на категорию другие\n",
    "Gearbox -  пропуски заменили на механический тип\n",
    "Model – пропуски удалили\n",
    "FuelType – пропуски заполнили на бензин\n",
    "Repaired – заполнили как не указано\n",
    "Удалены следующие столбцы: DateCrawled RegistrationMonth DateCreated PostalCode LastSeen NumberOfPictures \n",
    "3. Удалены дубликаты\n",
    "4. Проведена обработка выбросов:\n",
    "Price оставляем данные от 100 до 17000\n",
    "Power оставляем данные от 40 до 2000\n",
    "RegistrationYear оставляем данные от 1910 до 2019\n",
    "\n",
    "\n",
    "Подготовленные данные составляют 81 % от исходных\n"
   ]
  },
  {
   "cell_type": "markdown",
   "metadata": {},
   "source": [
    "## Обучение моделей"
   ]
  },
  {
   "cell_type": "markdown",
   "metadata": {},
   "source": [
    "Для обучения были выбраны следующие модели: \n",
    "1. случайный лес\n",
    "2. LightGBM\n",
    "3. CatBoostRegressor"
   ]
  },
  {
   "cell_type": "code",
   "execution_count": 31,
   "metadata": {},
   "outputs": [
    {
     "data": {
      "text/plain": [
       "golf                  24101\n",
       "other                 19470\n",
       "3er                   16874\n",
       "polo                  10580\n",
       "corsa                 10009\n",
       "astra                  9022\n",
       "passat                 8619\n",
       "a4                     8510\n",
       "c_klasse               7003\n",
       "5er                    6821\n",
       "e_klasse               5681\n",
       "a3                     5054\n",
       "focus                  5005\n",
       "a6                     4778\n",
       "fiesta                 4755\n",
       "2_reihe                4347\n",
       "transporter            3894\n",
       "fortwo                 3775\n",
       "twingo                 3699\n",
       "vectra                 3468\n",
       "a_klasse               3337\n",
       "1er                    3084\n",
       "mondeo                 2995\n",
       "3_reihe                2963\n",
       "clio                   2817\n",
       "touran                 2806\n",
       "punto                  2618\n",
       "zafira                 2491\n",
       "megane                 2339\n",
       "ibiza                  2321\n",
       "lupo                   2119\n",
       "ka                     2028\n",
       "fabia                  1881\n",
       "octavia                1864\n",
       "cooper                 1643\n",
       "clk                    1585\n",
       "micra                  1370\n",
       "80                     1281\n",
       "caddy                  1268\n",
       "x_reihe                1201\n",
       "omega                  1160\n",
       "sharan                 1134\n",
       "scenic                 1125\n",
       "leon                   1120\n",
       "i_reihe                1114\n",
       "civic                  1114\n",
       "6_reihe                1110\n",
       "laguna                 1110\n",
       "1_reihe                1084\n",
       "slk                    1058\n",
       "galaxy                  931\n",
       "mx_reihe                926\n",
       "meriva                  922\n",
       "tt                      918\n",
       "yaris                   913\n",
       "7er                     831\n",
       "one                     813\n",
       "bora                    776\n",
       "m_klasse                775\n",
       "500                     763\n",
       "colt                    737\n",
       "b_klasse                718\n",
       "vito                    711\n",
       "arosa                   706\n",
       "kangoo                  706\n",
       "beetle                  700\n",
       "berlingo                684\n",
       "escort                  682\n",
       "tigra                   669\n",
       "s_klasse                659\n",
       "fox                     645\n",
       "z_reihe                 628\n",
       "v40                     622\n",
       "c_max                   600\n",
       "transit                 600\n",
       "swift                   596\n",
       "sprinter                579\n",
       "corolla                 577\n",
       "v70                     568\n",
       "4_reihe                 559\n",
       "panda                   556\n",
       "156                     537\n",
       "insignia                532\n",
       "avensis                 518\n",
       "grand                   506\n",
       "scirocco                504\n",
       "147                     498\n",
       "a1                      498\n",
       "primera                 496\n",
       "stilo                   486\n",
       "tiguan                  485\n",
       "almera                  473\n",
       "touareg                 465\n",
       "eos                     463\n",
       "espace                  460\n",
       "seicento                452\n",
       "a8                      449\n",
       "qashqai                 445\n",
       "c3                      441\n",
       "signum                  437\n",
       "c5                      427\n",
       "c4                      401\n",
       "5_reihe                 386\n",
       "s_max                   386\n",
       "aygo                    372\n",
       "100                     362\n",
       "c1                      348\n",
       "matiz                   345\n",
       "getz                    341\n",
       "agila                   337\n",
       "combo                   335\n",
       "up                      335\n",
       "forfour                 334\n",
       "c2                      333\n",
       "altea                   330\n",
       "carisma                 329\n",
       "picanto                 323\n",
       "a2                      319\n",
       "cordoba                 314\n",
       "ducato                  314\n",
       "accord                  305\n",
       "alhambra                303\n",
       "rav                     302\n",
       "cr_reihe                301\n",
       "superb                  299\n",
       "rio                     295\n",
       "jetta                   294\n",
       "a5                      292\n",
       "sorento                 291\n",
       "logan                   281\n",
       "santa                   279\n",
       "verso                   278\n",
       "cuore                   274\n",
       "jazz                    274\n",
       "doblo                   273\n",
       "toledo                  270\n",
       "sandero                 268\n",
       "modus                   267\n",
       "fusion                  266\n",
       "vivaro                  259\n",
       "sl                      256\n",
       "ptcruiser               255\n",
       "bravo                   254\n",
       "voyager                 253\n",
       "roomster                249\n",
       "kadett                  245\n",
       "v50                     241\n",
       "kuga                    238\n",
       "xc_reihe                223\n",
       "ceed                    221\n",
       "carnival                213\n",
       "tucson                  211\n",
       "galant                  207\n",
       "auris                   197\n",
       "159                     195\n",
       "cl                      193\n",
       "cayenne                 190\n",
       "jimny                   188\n",
       "duster                  186\n",
       "sportage                185\n",
       "clubman                 181\n",
       "viano                   180\n",
       "x_trail                 180\n",
       "phaeton                 180\n",
       "c_reihe                 180\n",
       "impreza                 179\n",
       "freelander              175\n",
       "850                     175\n",
       "lancer                  172\n",
       "ypsilon                 172\n",
       "pajero                  170\n",
       "boxster                 168\n",
       "roadster                166\n",
       "calibra                 160\n",
       "spider                  157\n",
       "kaefer                  156\n",
       "yeti                    153\n",
       "captiva                 146\n",
       "x_type                  140\n",
       "legacy                  139\n",
       "s60                     137\n",
       "q7                      131\n",
       "cherokee                130\n",
       "rx_reihe                125\n",
       "v_klasse                123\n",
       "sirion                  122\n",
       "300c                    116\n",
       "spark                   115\n",
       "justy                   115\n",
       "note                    114\n",
       "s_type                  113\n",
       "forester                111\n",
       "mustang                 103\n",
       "6er                     103\n",
       "outlander               102\n",
       "aveo                    102\n",
       "niva                    102\n",
       "exeo                     96\n",
       "900                      96\n",
       "juke                     93\n",
       "cc                       92\n",
       "r19                      92\n",
       "citigo                   89\n",
       "antara                   87\n",
       "m_reihe                  84\n",
       "mii                      81\n",
       "kalos                    77\n",
       "wrangler                 77\n",
       "90                       77\n",
       "navara                   73\n",
       "g_klasse                 67\n",
       "range_rover              66\n",
       "lanos                    63\n",
       "discovery                62\n",
       "defender                 57\n",
       "crossfire                55\n",
       "q5                       53\n",
       "nubira                   52\n",
       "cx_reihe                 44\n",
       "lybra                    39\n",
       "croma                    37\n",
       "range_rover_sport        35\n",
       "move                     34\n",
       "145                      34\n",
       "terios                   32\n",
       "911                      32\n",
       "lodgy                    30\n",
       "delta                    27\n",
       "v60                      25\n",
       "b_max                    24\n",
       "9000                     23\n",
       "glk                      22\n",
       "musa                     21\n",
       "charade                  20\n",
       "materia                  17\n",
       "200                      16\n",
       "kappa                    13\n",
       "elefantino                6\n",
       "q3                        5\n",
       "kalina                    5\n",
       "samara                    5\n",
       "serie_2                   5\n",
       "i3                        5\n",
       "amarok                    5\n",
       "601                       3\n",
       "range_rover_evoque        2\n",
       "gl                        2\n",
       "serie_3                   2\n",
       "rangerover                2\n",
       "Name: Model, dtype: int64"
      ]
     },
     "execution_count": 31,
     "metadata": {},
     "output_type": "execute_result"
    }
   ],
   "source": [
    "autos1['Model'].value_counts()"
   ]
  },
  {
   "cell_type": "code",
   "execution_count": 32,
   "metadata": {},
   "outputs": [],
   "source": [
    "target = autos1['Price']\n",
    "autos2 = autos1.drop('Price', axis = 1)\n",
    "autos_light = autos2\n",
    "autos_light = autos_light.astype({\"VehicleType\":'category',\n",
    "                                  \"Gearbox\":'category',\n",
    "                                  \"FuelType\":'category',\n",
    "                                  \"Brand\":'category',\n",
    "                                  \"Repaired\":'category',\n",
    "                                  \"Model\":'category'})"
   ]
  },
  {
   "cell_type": "code",
   "execution_count": 33,
   "metadata": {},
   "outputs": [],
   "source": [
    "features_train_l, features_test_l, target_train_l, target_test_l = train_test_split(\n",
    "    autos_light, target, test_size = 0.25, random_state = 12345)"
   ]
  },
  {
   "cell_type": "code",
   "execution_count": 34,
   "metadata": {},
   "outputs": [
    {
     "name": "stdout",
     "output_type": "stream",
     "text": [
      "Размер обучающей выборки 207237 75.0%\n",
      "Размер  валидационной выборки 69079 25.0%\n"
     ]
    }
   ],
   "source": [
    "features_train, features_test, target_train, target_test = train_test_split(\n",
    "    autos2, target, test_size = 0.25, random_state = 12345)\n",
    "print('Размер обучающей выборки', features_train.shape[0], f'{  features_train.shape[0]/autos1.shape[0]:.1%}')\n",
    "print('Размер  валидационной выборки', features_test.shape[0], f'{  features_test.shape[0]/autos1.shape[0]:.1%}')"
   ]
  },
  {
   "cell_type": "code",
   "execution_count": 35,
   "metadata": {},
   "outputs": [],
   "source": [
    "encoder = OrdinalEncoder()\n",
    "categ = ['VehicleType', 'Gearbox', 'FuelType', 'Brand', 'Repaired', 'Model']\n",
    "\n",
    "features = autos2[categ]\n",
    "features = pd.DataFrame(encoder.fit_transform(features),\n",
    "                        columns=features.columns, index=features.index) \n",
    "autos3 = autos2\n",
    "for column in categ:\n",
    "    autos3[column] = features[column]"
   ]
  },
  {
   "cell_type": "markdown",
   "metadata": {},
   "source": [
    "Было принято решение провести кодировку до разбития на выборки, поскольку при анализе столбца \"Model\" было выявлено, что некоторые значения категориальных признаков встречаются редко и могут попасть только в тестовую выборку."
   ]
  },
  {
   "cell_type": "code",
   "execution_count": 36,
   "metadata": {},
   "outputs": [],
   "source": [
    "features_train_OE, features_test_OE, target_train_OE, target_test_OE = train_test_split(\n",
    "    autos3, target, test_size = 0.25, random_state = 12345)"
   ]
  },
  {
   "cell_type": "code",
   "execution_count": 37,
   "metadata": {},
   "outputs": [],
   "source": [
    "params_RFR = {'n_estimators': [50, 70, 100], 'max_depth': [ 1, 5, 10]}\n",
    "\n",
    "#RFR = GridSearchCV(estimator = RandomForestRegressor(), param_grid = params_RFR, cv=5, n_jobs=-1, verbose=1)\n",
    "#RFR.fit(features_train_OE, target_train_OE)\n"
   ]
  },
  {
   "cell_type": "code",
   "execution_count": 38,
   "metadata": {},
   "outputs": [],
   "source": [
    "#RFR.best_params_"
   ]
  },
  {
   "cell_type": "markdown",
   "metadata": {},
   "source": [
    "Для случайного леса были определены следующие параметры\\\n",
    "(random_state=12345, n_estimators=100, max_depth=10)"
   ]
  },
  {
   "cell_type": "code",
   "execution_count": 39,
   "metadata": {},
   "outputs": [
    {
     "name": "stdout",
     "output_type": "stream",
     "text": [
      "CPU times: user 26 s, sys: 77.2 ms, total: 26.1 s\n",
      "Wall time: 26.1 s\n"
     ]
    },
    {
     "data": {
      "text/plain": [
       "RandomForestRegressor(max_depth=10, random_state=12345)"
      ]
     },
     "execution_count": 39,
     "metadata": {},
     "output_type": "execute_result"
    }
   ],
   "source": [
    "%%time\n",
    "RFR = RandomForestRegressor(random_state=12345, n_estimators=100, max_depth=10)\n",
    "RFR.fit(features_train_OE, target_train_OE)"
   ]
  },
  {
   "cell_type": "code",
   "execution_count": 40,
   "metadata": {},
   "outputs": [
    {
     "name": "stdout",
     "output_type": "stream",
     "text": [
      "CPU times: user 1.76 s, sys: 16.1 ms, total: 1.78 s\n",
      "Wall time: 1.79 s\n"
     ]
    }
   ],
   "source": [
    "%%time\n",
    "predictions_RFR = RFR.predict(features_train_OE)"
   ]
  },
  {
   "cell_type": "code",
   "execution_count": 41,
   "metadata": {},
   "outputs": [
    {
     "data": {
      "text/plain": [
       "1619.3384675910095"
      ]
     },
     "execution_count": 41,
     "metadata": {},
     "output_type": "execute_result"
    }
   ],
   "source": [
    "result_RFR = mean_squared_error(target_train_OE, predictions_RFR)**0.5 \n",
    "result_RFR"
   ]
  },
  {
   "cell_type": "code",
   "execution_count": 42,
   "metadata": {},
   "outputs": [],
   "source": [
    "def RMSE(model, features, target): \n",
    "    a = cross_val_score(model, features, target, cv=3, scoring='neg_mean_squared_error') \n",
    "    final_score = abs(sum(a) / len(a)) ** 0.5\n",
    "    return final_score"
   ]
  },
  {
   "cell_type": "code",
   "execution_count": 43,
   "metadata": {},
   "outputs": [],
   "source": [
    "result_RFR_cv = RMSE(RFR, features_train_OE, target_train_OE)"
   ]
  },
  {
   "cell_type": "code",
   "execution_count": 44,
   "metadata": {},
   "outputs": [
    {
     "data": {
      "text/plain": [
       "1677.746954216984"
      ]
     },
     "execution_count": 44,
     "metadata": {},
     "output_type": "execute_result"
    }
   ],
   "source": [
    "result_RFR_cv"
   ]
  },
  {
   "cell_type": "code",
   "execution_count": 45,
   "metadata": {},
   "outputs": [],
   "source": [
    "params_cat = {'iterations': [100], 'depth':[x for x in range (2,16,2)]}\n",
    "\n",
    "#cat = GridSearchCV(estimator = CatBoostRegressor(random_state=1234),\n",
    "#    param_grid = params_cat, cv=2, verbose=False, n_jobs=-1)\n",
    "#cat.fit(features_train_OE, target_train_OE)"
   ]
  },
  {
   "cell_type": "code",
   "execution_count": 46,
   "metadata": {},
   "outputs": [],
   "source": [
    "#cat.best_params_"
   ]
  },
  {
   "cell_type": "markdown",
   "metadata": {},
   "source": [
    "Для CatBoostRegressor были определены следующие гиперпараметры: \n",
    "(iterations = 100, depth = 12,  verbose=False)"
   ]
  },
  {
   "cell_type": "code",
   "execution_count": 47,
   "metadata": {},
   "outputs": [],
   "source": [
    "CatBoost = CatBoostRegressor(iterations = 100, depth = 12,  verbose=False)"
   ]
  },
  {
   "cell_type": "code",
   "execution_count": 48,
   "metadata": {},
   "outputs": [
    {
     "name": "stdout",
     "output_type": "stream",
     "text": [
      "CPU times: user 8.83 s, sys: 72.1 ms, total: 8.9 s\n",
      "Wall time: 9.41 s\n"
     ]
    },
    {
     "data": {
      "text/plain": [
       "<catboost.core.CatBoostRegressor at 0x7fc10c221070>"
      ]
     },
     "execution_count": 48,
     "metadata": {},
     "output_type": "execute_result"
    }
   ],
   "source": [
    "%%time\n",
    "CatBoost.fit(features_train_OE, target_train_OE)"
   ]
  },
  {
   "cell_type": "code",
   "execution_count": 49,
   "metadata": {},
   "outputs": [
    {
     "name": "stdout",
     "output_type": "stream",
     "text": [
      "CPU times: user 106 ms, sys: 0 ns, total: 106 ms\n",
      "Wall time: 112 ms\n"
     ]
    }
   ],
   "source": [
    "%%time\n",
    "predictions_cat = CatBoost.predict(features_train_OE)"
   ]
  },
  {
   "cell_type": "code",
   "execution_count": 50,
   "metadata": {},
   "outputs": [],
   "source": [
    "result_cat = mean_squared_error(target_train_OE, predictions_cat)**0.5 "
   ]
  },
  {
   "cell_type": "code",
   "execution_count": 51,
   "metadata": {},
   "outputs": [
    {
     "data": {
      "text/plain": [
       "1231.4696599468716"
      ]
     },
     "execution_count": 51,
     "metadata": {},
     "output_type": "execute_result"
    }
   ],
   "source": [
    "result_cat"
   ]
  },
  {
   "cell_type": "code",
   "execution_count": 52,
   "metadata": {},
   "outputs": [],
   "source": [
    "result_cat_cv = RMSE(CatBoost, features_train_OE, target_train_OE)"
   ]
  },
  {
   "cell_type": "code",
   "execution_count": 53,
   "metadata": {},
   "outputs": [
    {
     "data": {
      "text/plain": [
       "1428.9413850755284"
      ]
     },
     "execution_count": 53,
     "metadata": {},
     "output_type": "execute_result"
    }
   ],
   "source": [
    "result_cat_cv"
   ]
  },
  {
   "cell_type": "code",
   "execution_count": 54,
   "metadata": {},
   "outputs": [],
   "source": [
    "lgb_reg = lgb.LGBMRegressor()\n",
    "param = {\n",
    "    'num_leaves': [31, 100],\n",
    "    'random_state': [12345],\n",
    "    'n_estimators': [100, 150]\n",
    "    }\n",
    "\n",
    "#LGBMR1 = GridSearchCV(estimator = lgb_reg, param_grid = param, cv=2)\n",
    "\n",
    "#LGBMR1.fit(features_train_l, target_train_l)\n",
    "\n",
    "#print(LGBMR1.best_params_)"
   ]
  },
  {
   "cell_type": "markdown",
   "metadata": {},
   "source": [
    "для LGBMRegressor были определены следующие параметры\n",
    "{'n_estimators': 150, 'num_leaves': 100, 'random_state': 12345}"
   ]
  },
  {
   "cell_type": "code",
   "execution_count": 55,
   "metadata": {},
   "outputs": [
    {
     "name": "stdout",
     "output_type": "stream",
     "text": [
      "CPU times: user 11.7 s, sys: 168 ms, total: 11.8 s\n",
      "Wall time: 12 s\n"
     ]
    },
    {
     "data": {
      "text/plain": [
       "LGBMRegressor(n_estimators=150, num_leaves=100, random_state=12345)"
      ]
     },
     "execution_count": 55,
     "metadata": {},
     "output_type": "execute_result"
    }
   ],
   "source": [
    "%%time\n",
    "LGBMR = lgb.LGBMRegressor(num_leaves = 100,\n",
    "                          n_estimators = 150, random_state = 12345)\n",
    "LGBMR.fit(features_train_l, target_train_l)"
   ]
  },
  {
   "cell_type": "code",
   "execution_count": 56,
   "metadata": {},
   "outputs": [
    {
     "name": "stdout",
     "output_type": "stream",
     "text": [
      "CPU times: user 1.35 s, sys: 8.06 ms, total: 1.36 s\n",
      "Wall time: 1.4 s\n"
     ]
    }
   ],
   "source": [
    "%%time\n",
    "predictions_LGBMR = LGBMR.predict(features_test_l)"
   ]
  },
  {
   "cell_type": "code",
   "execution_count": 57,
   "metadata": {},
   "outputs": [],
   "source": [
    "result_LGBMR = mean_squared_error(target_test_l, predictions_LGBMR)**0.5 "
   ]
  },
  {
   "cell_type": "code",
   "execution_count": 58,
   "metadata": {},
   "outputs": [
    {
     "data": {
      "text/plain": [
       "1383.2149161178997"
      ]
     },
     "execution_count": 58,
     "metadata": {},
     "output_type": "execute_result"
    }
   ],
   "source": [
    "result_LGBMR"
   ]
  },
  {
   "cell_type": "code",
   "execution_count": 59,
   "metadata": {},
   "outputs": [],
   "source": [
    "result_LGBMR_cv = RMSE(LGBMR, features_train_l, target_train_l)"
   ]
  },
  {
   "cell_type": "code",
   "execution_count": 60,
   "metadata": {},
   "outputs": [
    {
     "data": {
      "text/plain": [
       "1391.7965728726513"
      ]
     },
     "execution_count": 60,
     "metadata": {},
     "output_type": "execute_result"
    }
   ],
   "source": [
    "result_LGBMR_cv"
   ]
  },
  {
   "cell_type": "markdown",
   "metadata": {},
   "source": [
    "На выходе получаем 3 модели:\\\n",
    "RFR - случайный лес (n_estimators=100, max_depth=10)\\\n",
    "LGBMR - LightGBM (n_estimators': 150, 'num_leaves': 100)\\\n",
    "cat - CatBoostRegressor (iterations = 100, depth = 12)"
   ]
  },
  {
   "cell_type": "markdown",
   "metadata": {},
   "source": [
    "## Анализ моделей"
   ]
  },
  {
   "cell_type": "code",
   "execution_count": 61,
   "metadata": {},
   "outputs": [
    {
     "data": {
      "text/html": [
       "<div>\n",
       "<style scoped>\n",
       "    .dataframe tbody tr th:only-of-type {\n",
       "        vertical-align: middle;\n",
       "    }\n",
       "\n",
       "    .dataframe tbody tr th {\n",
       "        vertical-align: top;\n",
       "    }\n",
       "\n",
       "    .dataframe thead th {\n",
       "        text-align: right;\n",
       "    }\n",
       "</style>\n",
       "<table border=\"1\" class=\"dataframe\">\n",
       "  <thead>\n",
       "    <tr style=\"text-align: right;\">\n",
       "      <th></th>\n",
       "      <th>RMSE</th>\n",
       "      <th>RMSE_cv</th>\n",
       "      <th>Time_fit</th>\n",
       "      <th>Time_predict</th>\n",
       "    </tr>\n",
       "  </thead>\n",
       "  <tbody>\n",
       "    <tr>\n",
       "      <th>CatBoost</th>\n",
       "      <td>1231.469660</td>\n",
       "      <td>1428.941385</td>\n",
       "      <td>10.1</td>\n",
       "      <td>0.10</td>\n",
       "    </tr>\n",
       "    <tr>\n",
       "      <th>LightGBM</th>\n",
       "      <td>1383.214916</td>\n",
       "      <td>1391.796573</td>\n",
       "      <td>11.6</td>\n",
       "      <td>1.42</td>\n",
       "    </tr>\n",
       "    <tr>\n",
       "      <th>RFR</th>\n",
       "      <td>1619.338468</td>\n",
       "      <td>1677.746954</td>\n",
       "      <td>27.8</td>\n",
       "      <td>1.82</td>\n",
       "    </tr>\n",
       "  </tbody>\n",
       "</table>\n",
       "</div>"
      ],
      "text/plain": [
       "                 RMSE      RMSE_cv  Time_fit  Time_predict\n",
       "CatBoost  1231.469660  1428.941385      10.1          0.10\n",
       "LightGBM  1383.214916  1391.796573      11.6          1.42\n",
       "RFR       1619.338468  1677.746954      27.8          1.82"
      ]
     },
     "execution_count": 61,
     "metadata": {},
     "output_type": "execute_result"
    }
   ],
   "source": [
    "summ = pd.DataFrame(\n",
    "    {'RMSE': [result_cat, result_LGBMR, result_RFR],\n",
    "     'RMSE_cv': [result_cat_cv, result_LGBMR_cv, result_RFR_cv],\n",
    "     'Time_fit': [10.1, 11.6, 27.8],\n",
    "     'Time_predict': [0.1, 1.42, 1.82]},\n",
    "    index = ['CatBoost', 'LightGBM', 'RFR'])\n",
    "summ"
   ]
  },
  {
   "cell_type": "markdown",
   "metadata": {},
   "source": [
    "Исходя из полученых данных у модели случайного леса показатели времени и качество предсказаний хуже. эта модель сильно уступает\\\n",
    "Значения метрики моделей CatBoost и LightGBM приблизительно одинаковые. CatBoost чуть быстрее, LightGBM лучше предсказывает. \\\n",
    "Поскольку для заказчика время важнее выбираем CatBoost. "
   ]
  },
  {
   "cell_type": "markdown",
   "metadata": {},
   "source": [
    "# Тестирование лучшей модели"
   ]
  },
  {
   "cell_type": "markdown",
   "metadata": {},
   "source": [
    " для прогноза была выбрана модель CatBoostRegressor со следующими гиперпараметрами (iterations = 100, depth = 12,  verbose=False)"
   ]
  },
  {
   "cell_type": "code",
   "execution_count": 62,
   "metadata": {},
   "outputs": [
    {
     "name": "stdout",
     "output_type": "stream",
     "text": [
      "CPU times: user 8.4 s, sys: 27.2 ms, total: 8.43 s\n",
      "Wall time: 8.86 s\n"
     ]
    },
    {
     "data": {
      "text/plain": [
       "<catboost.core.CatBoostRegressor at 0x7fc10c1d2eb0>"
      ]
     },
     "execution_count": 62,
     "metadata": {},
     "output_type": "execute_result"
    }
   ],
   "source": [
    "%%time\n",
    "CatBoost = CatBoostRegressor(iterations = 100, depth = 12,  verbose=False)\n",
    "CatBoost.fit(features_train_OE, target_train_OE)"
   ]
  },
  {
   "cell_type": "code",
   "execution_count": 63,
   "metadata": {},
   "outputs": [
    {
     "name": "stdout",
     "output_type": "stream",
     "text": [
      "CPU times: user 39.5 ms, sys: 0 ns, total: 39.5 ms\n",
      "Wall time: 37.4 ms\n"
     ]
    }
   ],
   "source": [
    "%%time\n",
    "predictions_cat = CatBoost.predict(features_test_OE)"
   ]
  },
  {
   "cell_type": "code",
   "execution_count": 64,
   "metadata": {},
   "outputs": [
    {
     "data": {
      "text/plain": [
       "1517.749930506367"
      ]
     },
     "execution_count": 64,
     "metadata": {},
     "output_type": "execute_result"
    }
   ],
   "source": [
    "result_cat_cv = RMSE(CatBoost, features_test_OE, target_test_OE)\n",
    "result_cat_cv"
   ]
  },
  {
   "cell_type": "markdown",
   "metadata": {},
   "source": [
    " Результаты выбранной модели (CatBoostRegressor) на тестовой выборке:\\\n",
    "    1. качество предсказания- RMSE = 1517.7\\\n",
    "    2. время обучения модели- 9.2 c\\\n",
    "    3. время предсказания модели - 0.035 c\n"
   ]
  },
  {
   "cell_type": "markdown",
   "metadata": {},
   "source": [
    "### Общий вывод"
   ]
  },
  {
   "cell_type": "markdown",
   "metadata": {},
   "source": [
    "1. В ходе подготовки данных было выполнено:\n",
    "Изучены дынные: наиболее влияющий фактор на цену — это мощность и пробег\\\n",
    "Обработаны пропуски: VehicleType – пропуски заменили на категорию другие\\\n",
    "Gearbox - пропуски заменили на механический тип Model – пропуски удалили\\\n",
    "FuelType – пропуски заполнили на бензин Repaired – заполнили как не указано\\\n",
    "Удалены следующие столбцы: DateCrawled RegistrationMonth DateCreated PostalCode LastSeen NumberOfPictures\\\n",
    "Удалены дубликаты\\\n",
    "Проведена обработка выбросов: Price оставляем данные от 100 до 17000 Power оставляем данные от 40 до 2000 RegistrationYear оставляем данные от 1910 до 2019\n",
    "2. В ходе кодирования данных было выполнено:\n",
    "Для моделей случайного леса и CatBoost применили методику OrdinalEncoder\n",
    "Для модели LightGBM ввели тип данных категорий\n",
    "Провели разбивку данных на 75 % для обучения и 25 % для теста\n",
    "3. Было изучено и подобраны гиперпараметры для случайного леса, CatBoost и  LightGBM.В ходе анализа моделей была выбрана модель CatBoost (с гиперпараметрами (n_estimators': 150, 'num_leaves': 100) с метрикой RMSE = 1453, с общим временем обучения и предсказания 10,5 с. \n",
    "4. Результаты выбранной модели (CatBoostRegressor) на тестовой выборке: качество предсказания- RMSE = 1517.7; время обучения модели- 9.2 c; время предсказания модели - 0.035 c"
   ]
  }
 ],
 "metadata": {
  "ExecuteTimeLog": [
   {
    "duration": 1147,
    "start_time": "2023-01-29T07:49:41.468Z"
   },
   {
    "duration": 2931,
    "start_time": "2023-01-29T07:49:43.197Z"
   },
   {
    "duration": 124,
    "start_time": "2023-01-29T07:49:47.203Z"
   },
   {
    "duration": 21,
    "start_time": "2023-01-29T07:49:53.847Z"
   },
   {
    "duration": 12,
    "start_time": "2023-01-29T07:50:03.005Z"
   },
   {
    "duration": 100,
    "start_time": "2023-01-29T07:50:06.457Z"
   },
   {
    "duration": 83,
    "start_time": "2023-01-29T07:50:09.293Z"
   },
   {
    "duration": 93,
    "start_time": "2023-01-29T07:50:16.640Z"
   },
   {
    "duration": 1239,
    "start_time": "2023-01-29T07:50:24.594Z"
   },
   {
    "duration": 8,
    "start_time": "2023-01-29T07:50:38.755Z"
   },
   {
    "duration": 4,
    "start_time": "2023-01-29T07:50:43.838Z"
   },
   {
    "duration": 137,
    "start_time": "2023-01-29T07:51:53.224Z"
   },
   {
    "duration": 108643,
    "start_time": "2023-01-29T08:09:02.775Z"
   },
   {
    "duration": 130,
    "start_time": "2023-01-29T08:10:57.947Z"
   },
   {
    "duration": 138,
    "start_time": "2023-01-29T08:11:22.272Z"
   },
   {
    "duration": 128,
    "start_time": "2023-01-29T08:11:31.027Z"
   },
   {
    "duration": 450,
    "start_time": "2023-01-29T08:23:21.461Z"
   },
   {
    "duration": 535,
    "start_time": "2023-01-29T08:23:56.201Z"
   },
   {
    "duration": 34,
    "start_time": "2023-01-29T08:30:07.017Z"
   },
   {
    "duration": 11,
    "start_time": "2023-01-29T08:30:31.896Z"
   },
   {
    "duration": 10,
    "start_time": "2023-01-29T08:30:35.672Z"
   },
   {
    "duration": 16,
    "start_time": "2023-01-29T08:46:58.578Z"
   },
   {
    "duration": 15,
    "start_time": "2023-01-29T08:47:14.126Z"
   },
   {
    "duration": 23,
    "start_time": "2023-01-29T08:47:24.822Z"
   },
   {
    "duration": 26,
    "start_time": "2023-01-29T08:47:41.447Z"
   },
   {
    "duration": 32,
    "start_time": "2023-01-29T08:48:00.642Z"
   },
   {
    "duration": 28,
    "start_time": "2023-01-29T08:48:10.126Z"
   },
   {
    "duration": 34,
    "start_time": "2023-01-29T08:51:01.857Z"
   },
   {
    "duration": 20,
    "start_time": "2023-01-29T08:52:02.946Z"
   },
   {
    "duration": 137,
    "start_time": "2023-01-29T08:53:16.069Z"
   },
   {
    "duration": 41,
    "start_time": "2023-01-29T08:53:32.275Z"
   },
   {
    "duration": 18,
    "start_time": "2023-01-29T08:54:56.079Z"
   },
   {
    "duration": 136,
    "start_time": "2023-01-29T08:55:05.084Z"
   },
   {
    "duration": 127,
    "start_time": "2023-01-29T08:55:16.572Z"
   },
   {
    "duration": 16,
    "start_time": "2023-01-29T08:56:03.462Z"
   },
   {
    "duration": 62,
    "start_time": "2023-01-29T08:56:48.352Z"
   },
   {
    "duration": 3,
    "start_time": "2023-01-29T08:58:39.830Z"
   },
   {
    "duration": 127,
    "start_time": "2023-01-29T09:05:15.533Z"
   },
   {
    "duration": 20,
    "start_time": "2023-01-29T09:05:39.423Z"
   },
   {
    "duration": 33,
    "start_time": "2023-01-29T09:05:54.336Z"
   },
   {
    "duration": 20,
    "start_time": "2023-01-29T09:06:12.239Z"
   },
   {
    "duration": 941,
    "start_time": "2023-01-29T09:08:51.934Z"
   },
   {
    "duration": 867,
    "start_time": "2023-01-29T09:09:07.025Z"
   },
   {
    "duration": 22,
    "start_time": "2023-01-29T09:09:20.395Z"
   },
   {
    "duration": 29,
    "start_time": "2023-01-29T09:09:32.773Z"
   },
   {
    "duration": 45,
    "start_time": "2023-01-29T09:10:10.783Z"
   },
   {
    "duration": 71,
    "start_time": "2023-01-29T09:10:15.695Z"
   },
   {
    "duration": 883,
    "start_time": "2023-01-29T09:10:38.617Z"
   },
   {
    "duration": 83,
    "start_time": "2023-01-29T09:11:03.964Z"
   },
   {
    "duration": 935,
    "start_time": "2023-01-29T09:11:15.672Z"
   },
   {
    "duration": 461,
    "start_time": "2023-01-29T09:11:23.859Z"
   },
   {
    "duration": 106,
    "start_time": "2023-01-29T09:11:34.443Z"
   },
   {
    "duration": 124,
    "start_time": "2023-01-29T09:11:56.677Z"
   },
   {
    "duration": 3,
    "start_time": "2023-01-29T09:12:44.219Z"
   },
   {
    "duration": 38,
    "start_time": "2023-01-29T09:13:00.370Z"
   },
   {
    "duration": 75,
    "start_time": "2023-01-29T09:14:59.639Z"
   },
   {
    "duration": 41,
    "start_time": "2023-01-29T09:16:54.347Z"
   },
   {
    "duration": 121,
    "start_time": "2023-01-29T09:16:55.698Z"
   },
   {
    "duration": 540,
    "start_time": "2023-01-29T09:20:13.622Z"
   },
   {
    "duration": 1284,
    "start_time": "2023-01-29T09:22:40.093Z"
   },
   {
    "duration": 162,
    "start_time": "2023-01-29T09:22:48.801Z"
   },
   {
    "duration": 229,
    "start_time": "2023-01-29T09:25:27.833Z"
   },
   {
    "duration": 155,
    "start_time": "2023-01-29T09:26:06.484Z"
   },
   {
    "duration": 11,
    "start_time": "2023-01-29T09:30:02.823Z"
   },
   {
    "duration": 8,
    "start_time": "2023-01-29T09:30:09.932Z"
   },
   {
    "duration": 12,
    "start_time": "2023-01-29T09:30:44.492Z"
   },
   {
    "duration": 6,
    "start_time": "2023-01-29T09:30:51.106Z"
   },
   {
    "duration": 5,
    "start_time": "2023-01-29T09:31:07.924Z"
   },
   {
    "duration": 11,
    "start_time": "2023-01-29T09:31:35.372Z"
   },
   {
    "duration": 10,
    "start_time": "2023-01-29T09:32:21.573Z"
   },
   {
    "duration": 9,
    "start_time": "2023-01-29T09:32:28.038Z"
   },
   {
    "duration": 16,
    "start_time": "2023-01-29T09:32:33.330Z"
   },
   {
    "duration": 223,
    "start_time": "2023-01-29T09:36:40.575Z"
   },
   {
    "duration": 73,
    "start_time": "2023-01-29T09:36:53.625Z"
   },
   {
    "duration": 133,
    "start_time": "2023-01-29T09:36:58.562Z"
   },
   {
    "duration": 190,
    "start_time": "2023-01-29T09:38:07.336Z"
   },
   {
    "duration": 50,
    "start_time": "2023-01-29T09:38:16.865Z"
   },
   {
    "duration": 156,
    "start_time": "2023-01-29T09:38:28.867Z"
   },
   {
    "duration": 180,
    "start_time": "2023-01-29T09:38:37.130Z"
   },
   {
    "duration": 159,
    "start_time": "2023-01-29T09:38:38.472Z"
   },
   {
    "duration": 187,
    "start_time": "2023-01-29T09:38:51.374Z"
   },
   {
    "duration": 199,
    "start_time": "2023-01-29T09:41:20.888Z"
   },
   {
    "duration": 166,
    "start_time": "2023-01-29T09:41:28.194Z"
   },
   {
    "duration": 140,
    "start_time": "2023-01-29T09:41:30.156Z"
   },
   {
    "duration": 121,
    "start_time": "2023-01-29T09:41:42.272Z"
   },
   {
    "duration": 6,
    "start_time": "2023-01-29T09:42:26.623Z"
   },
   {
    "duration": 5,
    "start_time": "2023-01-29T09:43:39.037Z"
   },
   {
    "duration": 5,
    "start_time": "2023-01-29T09:43:47.304Z"
   },
   {
    "duration": 5,
    "start_time": "2023-01-29T09:44:01.123Z"
   },
   {
    "duration": 6,
    "start_time": "2023-01-29T09:44:09.228Z"
   },
   {
    "duration": 7,
    "start_time": "2023-01-29T09:45:43.373Z"
   },
   {
    "duration": 8,
    "start_time": "2023-01-29T09:46:05.719Z"
   },
   {
    "duration": 68,
    "start_time": "2023-01-29T10:00:17.196Z"
   },
   {
    "duration": 4,
    "start_time": "2023-01-29T10:00:30.652Z"
   },
   {
    "duration": 11,
    "start_time": "2023-01-29T10:01:01.786Z"
   },
   {
    "duration": 14,
    "start_time": "2023-01-29T10:01:11.375Z"
   },
   {
    "duration": 19,
    "start_time": "2023-01-29T10:01:22.346Z"
   },
   {
    "duration": 9,
    "start_time": "2023-01-29T10:02:08.821Z"
   },
   {
    "duration": 3,
    "start_time": "2023-01-29T10:02:14.121Z"
   },
   {
    "duration": 67,
    "start_time": "2023-01-29T10:02:14.647Z"
   },
   {
    "duration": 70,
    "start_time": "2023-01-29T10:03:15.172Z"
   },
   {
    "duration": 131,
    "start_time": "2023-01-29T10:04:10.711Z"
   },
   {
    "duration": 13,
    "start_time": "2023-01-29T10:04:24.230Z"
   },
   {
    "duration": 6,
    "start_time": "2023-01-29T10:04:47.494Z"
   },
   {
    "duration": 122,
    "start_time": "2023-01-29T10:05:00.625Z"
   },
   {
    "duration": 6,
    "start_time": "2023-01-29T10:05:02.576Z"
   },
   {
    "duration": 115,
    "start_time": "2023-01-29T10:05:20.656Z"
   },
   {
    "duration": 7,
    "start_time": "2023-01-29T10:05:25.144Z"
   },
   {
    "duration": 96,
    "start_time": "2023-01-29T10:06:42.072Z"
   },
   {
    "duration": 14,
    "start_time": "2023-01-29T10:06:43.274Z"
   },
   {
    "duration": 5,
    "start_time": "2023-01-29T10:06:46.568Z"
   },
   {
    "duration": 84,
    "start_time": "2023-01-29T10:07:06.646Z"
   },
   {
    "duration": 1337,
    "start_time": "2023-01-29T10:07:42.342Z"
   },
   {
    "duration": 834,
    "start_time": "2023-01-29T10:07:43.680Z"
   },
   {
    "duration": 136,
    "start_time": "2023-01-29T10:07:44.516Z"
   },
   {
    "duration": 18,
    "start_time": "2023-01-29T10:07:44.654Z"
   },
   {
    "duration": 103,
    "start_time": "2023-01-29T10:07:44.674Z"
   },
   {
    "duration": 87,
    "start_time": "2023-01-29T10:07:44.779Z"
   },
   {
    "duration": 152,
    "start_time": "2023-01-29T10:07:44.867Z"
   },
   {
    "duration": 455,
    "start_time": "2023-01-29T10:07:45.022Z"
   },
   {
    "duration": 487,
    "start_time": "2023-01-29T10:07:45.478Z"
   },
   {
    "duration": 37,
    "start_time": "2023-01-29T10:07:45.966Z"
   },
   {
    "duration": 25,
    "start_time": "2023-01-29T10:07:46.005Z"
   },
   {
    "duration": 9,
    "start_time": "2023-01-29T10:07:46.032Z"
   },
   {
    "duration": 59,
    "start_time": "2023-01-29T10:07:46.043Z"
   },
   {
    "duration": 86,
    "start_time": "2023-01-29T10:07:46.105Z"
   },
   {
    "duration": 2,
    "start_time": "2023-01-29T10:07:46.193Z"
   },
   {
    "duration": 47,
    "start_time": "2023-01-29T10:07:46.197Z"
   },
   {
    "duration": 99,
    "start_time": "2023-01-29T10:07:46.245Z"
   },
   {
    "duration": 54,
    "start_time": "2023-01-29T10:07:46.346Z"
   },
   {
    "duration": 101,
    "start_time": "2023-01-29T10:07:46.402Z"
   },
   {
    "duration": 54,
    "start_time": "2023-01-29T10:07:46.504Z"
   },
   {
    "duration": 190,
    "start_time": "2023-01-29T10:07:46.560Z"
   },
   {
    "duration": 139,
    "start_time": "2023-01-29T10:07:46.752Z"
   },
   {
    "duration": 119,
    "start_time": "2023-01-29T10:07:46.893Z"
   },
   {
    "duration": 6,
    "start_time": "2023-01-29T10:07:47.013Z"
   },
   {
    "duration": 50,
    "start_time": "2023-01-29T10:07:47.020Z"
   },
   {
    "duration": 26,
    "start_time": "2023-01-29T10:07:47.072Z"
   },
   {
    "duration": 9,
    "start_time": "2023-01-29T10:07:47.099Z"
   },
   {
    "duration": 55,
    "start_time": "2023-01-29T10:07:47.110Z"
   },
   {
    "duration": 1375,
    "start_time": "2023-01-29T10:10:28.995Z"
   },
   {
    "duration": 778,
    "start_time": "2023-01-29T10:10:30.372Z"
   },
   {
    "duration": 128,
    "start_time": "2023-01-29T10:10:31.152Z"
   },
   {
    "duration": 26,
    "start_time": "2023-01-29T10:10:31.291Z"
   },
   {
    "duration": 113,
    "start_time": "2023-01-29T10:10:31.319Z"
   },
   {
    "duration": 78,
    "start_time": "2023-01-29T10:10:31.434Z"
   },
   {
    "duration": 124,
    "start_time": "2023-01-29T10:10:31.514Z"
   },
   {
    "duration": 434,
    "start_time": "2023-01-29T10:10:31.640Z"
   },
   {
    "duration": 442,
    "start_time": "2023-01-29T10:10:32.076Z"
   },
   {
    "duration": 34,
    "start_time": "2023-01-29T10:10:32.520Z"
   },
   {
    "duration": 15,
    "start_time": "2023-01-29T10:10:32.556Z"
   },
   {
    "duration": 18,
    "start_time": "2023-01-29T10:10:32.573Z"
   },
   {
    "duration": 64,
    "start_time": "2023-01-29T10:10:32.593Z"
   },
   {
    "duration": 84,
    "start_time": "2023-01-29T10:10:32.659Z"
   },
   {
    "duration": 3,
    "start_time": "2023-01-29T10:10:32.745Z"
   },
   {
    "duration": 45,
    "start_time": "2023-01-29T10:10:32.749Z"
   },
   {
    "duration": 67,
    "start_time": "2023-01-29T10:10:32.796Z"
   },
   {
    "duration": 53,
    "start_time": "2023-01-29T10:10:32.865Z"
   },
   {
    "duration": 91,
    "start_time": "2023-01-29T10:10:32.920Z"
   },
   {
    "duration": 51,
    "start_time": "2023-01-29T10:10:33.013Z"
   },
   {
    "duration": 169,
    "start_time": "2023-01-29T10:10:33.065Z"
   },
   {
    "duration": 128,
    "start_time": "2023-01-29T10:10:33.236Z"
   },
   {
    "duration": 113,
    "start_time": "2023-01-29T10:10:33.366Z"
   },
   {
    "duration": 14,
    "start_time": "2023-01-29T10:10:33.480Z"
   },
   {
    "duration": 62,
    "start_time": "2023-01-29T10:10:33.496Z"
   },
   {
    "duration": 10,
    "start_time": "2023-01-29T10:10:33.560Z"
   },
   {
    "duration": 21,
    "start_time": "2023-01-29T10:10:33.571Z"
   },
   {
    "duration": 81,
    "start_time": "2023-01-29T10:10:33.595Z"
   },
   {
    "duration": 5,
    "start_time": "2023-01-29T10:10:44.384Z"
   },
   {
    "duration": 56,
    "start_time": "2023-01-29T10:10:49.453Z"
   },
   {
    "duration": 62,
    "start_time": "2023-01-29T10:11:07.085Z"
   },
   {
    "duration": 11,
    "start_time": "2023-01-29T10:11:08.074Z"
   },
   {
    "duration": 7,
    "start_time": "2023-01-29T10:11:08.541Z"
   },
   {
    "duration": 68,
    "start_time": "2023-01-29T10:11:09.629Z"
   },
   {
    "duration": 67,
    "start_time": "2023-01-29T10:11:19.795Z"
   },
   {
    "duration": 10,
    "start_time": "2023-01-29T10:11:20.067Z"
   },
   {
    "duration": 6,
    "start_time": "2023-01-29T10:11:20.360Z"
   },
   {
    "duration": 66,
    "start_time": "2023-01-29T10:11:21.340Z"
   },
   {
    "duration": 57,
    "start_time": "2023-01-29T10:11:28.637Z"
   },
   {
    "duration": 10,
    "start_time": "2023-01-29T10:11:28.948Z"
   },
   {
    "duration": 6,
    "start_time": "2023-01-29T10:11:29.240Z"
   },
   {
    "duration": 67,
    "start_time": "2023-01-29T10:11:29.986Z"
   },
   {
    "duration": 59,
    "start_time": "2023-01-29T10:11:41.939Z"
   },
   {
    "duration": 11,
    "start_time": "2023-01-29T10:11:42.234Z"
   },
   {
    "duration": 6,
    "start_time": "2023-01-29T10:11:42.526Z"
   },
   {
    "duration": 71,
    "start_time": "2023-01-29T10:11:43.381Z"
   },
   {
    "duration": 60,
    "start_time": "2023-01-29T10:12:05.376Z"
   },
   {
    "duration": 10,
    "start_time": "2023-01-29T10:12:05.688Z"
   },
   {
    "duration": 6,
    "start_time": "2023-01-29T10:12:05.951Z"
   },
   {
    "duration": 68,
    "start_time": "2023-01-29T10:12:06.989Z"
   },
   {
    "duration": 67,
    "start_time": "2023-01-29T10:12:13.954Z"
   },
   {
    "duration": 11,
    "start_time": "2023-01-29T10:12:14.255Z"
   },
   {
    "duration": 7,
    "start_time": "2023-01-29T10:12:14.538Z"
   },
   {
    "duration": 73,
    "start_time": "2023-01-29T10:12:15.658Z"
   },
   {
    "duration": 75,
    "start_time": "2023-01-29T10:12:23.038Z"
   },
   {
    "duration": 12,
    "start_time": "2023-01-29T10:12:23.461Z"
   },
   {
    "duration": 7,
    "start_time": "2023-01-29T10:12:23.726Z"
   },
   {
    "duration": 69,
    "start_time": "2023-01-29T10:12:24.411Z"
   },
   {
    "duration": 61,
    "start_time": "2023-01-29T10:12:30.074Z"
   },
   {
    "duration": 11,
    "start_time": "2023-01-29T10:12:30.478Z"
   },
   {
    "duration": 6,
    "start_time": "2023-01-29T10:12:30.773Z"
   },
   {
    "duration": 67,
    "start_time": "2023-01-29T10:12:31.884Z"
   },
   {
    "duration": 64,
    "start_time": "2023-01-29T10:12:52.523Z"
   },
   {
    "duration": 12,
    "start_time": "2023-01-29T10:12:53.030Z"
   },
   {
    "duration": 6,
    "start_time": "2023-01-29T10:12:53.646Z"
   },
   {
    "duration": 67,
    "start_time": "2023-01-29T10:12:54.781Z"
   },
   {
    "duration": 60,
    "start_time": "2023-01-29T10:13:08.234Z"
   },
   {
    "duration": 11,
    "start_time": "2023-01-29T10:13:08.655Z"
   },
   {
    "duration": 6,
    "start_time": "2023-01-29T10:13:09.096Z"
   },
   {
    "duration": 72,
    "start_time": "2023-01-29T10:13:10.077Z"
   },
   {
    "duration": 60,
    "start_time": "2023-01-29T10:13:21.958Z"
   },
   {
    "duration": 11,
    "start_time": "2023-01-29T10:13:22.745Z"
   },
   {
    "duration": 6,
    "start_time": "2023-01-29T10:13:23.262Z"
   },
   {
    "duration": 74,
    "start_time": "2023-01-29T10:13:23.822Z"
   },
   {
    "duration": 73,
    "start_time": "2023-01-29T10:13:51.241Z"
   },
   {
    "duration": 77,
    "start_time": "2023-01-29T10:14:17.883Z"
   },
   {
    "duration": 4,
    "start_time": "2023-01-29T10:15:22.077Z"
   },
   {
    "duration": 5,
    "start_time": "2023-01-29T10:15:45.181Z"
   },
   {
    "duration": 6,
    "start_time": "2023-01-29T10:16:00.326Z"
   },
   {
    "duration": 185,
    "start_time": "2023-01-29T10:33:45.894Z"
   },
   {
    "duration": 881,
    "start_time": "2023-01-29T10:38:45.243Z"
   },
   {
    "duration": 840,
    "start_time": "2023-01-29T10:38:56.539Z"
   },
   {
    "duration": 679,
    "start_time": "2023-01-29T10:39:09.927Z"
   },
   {
    "duration": 15,
    "start_time": "2023-01-29T10:40:50.659Z"
   },
   {
    "duration": 65,
    "start_time": "2023-01-29T10:49:21.128Z"
   },
   {
    "duration": 1192,
    "start_time": "2023-01-29T10:50:07.064Z"
   },
   {
    "duration": 87,
    "start_time": "2023-01-29T10:50:33.882Z"
   },
   {
    "duration": 83,
    "start_time": "2023-01-29T10:51:01.796Z"
   },
   {
    "duration": 81,
    "start_time": "2023-01-29T10:55:50.826Z"
   },
   {
    "duration": 29,
    "start_time": "2023-01-29T10:56:17.681Z"
   },
   {
    "duration": 83,
    "start_time": "2023-01-29T10:56:21.636Z"
   },
   {
    "duration": 2735,
    "start_time": "2023-01-29T10:56:29.893Z"
   },
   {
    "duration": 2694,
    "start_time": "2023-01-29T10:57:34.893Z"
   },
   {
    "duration": 164762,
    "start_time": "2023-01-29T11:01:29.236Z"
   },
   {
    "duration": 273,
    "start_time": "2023-01-29T11:04:30.191Z"
   },
   {
    "duration": 37,
    "start_time": "2023-01-29T11:04:58.777Z"
   },
   {
    "duration": 38,
    "start_time": "2023-01-29T11:05:44.643Z"
   },
   {
    "duration": 101,
    "start_time": "2023-01-29T11:06:16.365Z"
   },
   {
    "duration": 76,
    "start_time": "2023-01-29T11:08:14.945Z"
   },
   {
    "duration": 2672,
    "start_time": "2023-01-29T11:08:22.161Z"
   },
   {
    "duration": 21296,
    "start_time": "2023-01-29T11:09:07.103Z"
   },
   {
    "duration": 449,
    "start_time": "2023-01-29T11:11:35.256Z"
   },
   {
    "duration": 29,
    "start_time": "2023-01-29T11:11:41.658Z"
   },
   {
    "duration": 295,
    "start_time": "2023-01-29T11:14:58.446Z"
   },
   {
    "duration": 67,
    "start_time": "2023-01-29T11:15:09.893Z"
   },
   {
    "duration": 804,
    "start_time": "2023-01-29T11:15:10.764Z"
   },
   {
    "duration": 399,
    "start_time": "2023-01-29T11:15:57.157Z"
   },
   {
    "duration": 71,
    "start_time": "2023-01-29T11:16:00.073Z"
   },
   {
    "duration": 393,
    "start_time": "2023-01-29T11:16:00.739Z"
   },
   {
    "duration": 393,
    "start_time": "2023-01-29T11:16:55.842Z"
   },
   {
    "duration": 403,
    "start_time": "2023-01-29T11:17:49.488Z"
   },
   {
    "duration": 72,
    "start_time": "2023-01-29T11:20:38.340Z"
   },
   {
    "duration": 701,
    "start_time": "2023-01-29T11:20:38.943Z"
   },
   {
    "duration": 3,
    "start_time": "2023-01-29T11:27:16.016Z"
   },
   {
    "duration": 8,
    "start_time": "2023-01-29T11:29:22.585Z"
   },
   {
    "duration": 1444,
    "start_time": "2023-01-29T11:29:30.130Z"
   },
   {
    "duration": 3081,
    "start_time": "2023-01-29T11:29:31.576Z"
   },
   {
    "duration": 141,
    "start_time": "2023-01-29T11:29:34.659Z"
   },
   {
    "duration": 16,
    "start_time": "2023-01-29T11:29:34.802Z"
   },
   {
    "duration": 110,
    "start_time": "2023-01-29T11:29:34.820Z"
   },
   {
    "duration": 91,
    "start_time": "2023-01-29T11:29:34.932Z"
   },
   {
    "duration": 153,
    "start_time": "2023-01-29T11:29:35.024Z"
   },
   {
    "duration": 477,
    "start_time": "2023-01-29T11:29:35.178Z"
   },
   {
    "duration": 547,
    "start_time": "2023-01-29T11:29:35.657Z"
   },
   {
    "duration": 43,
    "start_time": "2023-01-29T11:29:36.206Z"
   },
   {
    "duration": 26,
    "start_time": "2023-01-29T11:29:36.251Z"
   },
   {
    "duration": 12,
    "start_time": "2023-01-29T11:29:36.279Z"
   },
   {
    "duration": 76,
    "start_time": "2023-01-29T11:29:36.293Z"
   },
   {
    "duration": 111,
    "start_time": "2023-01-29T11:29:36.373Z"
   },
   {
    "duration": 4,
    "start_time": "2023-01-29T11:29:36.493Z"
   },
   {
    "duration": 56,
    "start_time": "2023-01-29T11:29:36.498Z"
   },
   {
    "duration": 88,
    "start_time": "2023-01-29T11:29:36.555Z"
   },
   {
    "duration": 60,
    "start_time": "2023-01-29T11:29:36.644Z"
   },
   {
    "duration": 87,
    "start_time": "2023-01-29T11:29:36.705Z"
   },
   {
    "duration": 54,
    "start_time": "2023-01-29T11:29:36.794Z"
   },
   {
    "duration": 186,
    "start_time": "2023-01-29T11:29:36.850Z"
   },
   {
    "duration": 148,
    "start_time": "2023-01-29T11:29:37.037Z"
   },
   {
    "duration": 131,
    "start_time": "2023-01-29T11:29:37.191Z"
   },
   {
    "duration": 8,
    "start_time": "2023-01-29T11:29:37.324Z"
   },
   {
    "duration": 94,
    "start_time": "2023-01-29T11:29:37.334Z"
   },
   {
    "duration": 10,
    "start_time": "2023-01-29T11:29:37.430Z"
   },
   {
    "duration": 12,
    "start_time": "2023-01-29T11:29:37.442Z"
   },
   {
    "duration": 83,
    "start_time": "2023-01-29T11:29:37.456Z"
   },
   {
    "duration": 6,
    "start_time": "2023-01-29T11:29:37.540Z"
   },
   {
    "duration": 122,
    "start_time": "2023-01-29T11:29:37.547Z"
   },
   {
    "duration": 87,
    "start_time": "2023-01-29T11:29:37.671Z"
   },
   {
    "duration": 2,
    "start_time": "2023-01-29T11:29:37.760Z"
   },
   {
    "duration": 718,
    "start_time": "2023-01-29T11:29:37.764Z"
   },
   {
    "duration": 48,
    "start_time": "2023-01-29T11:30:01.751Z"
   },
   {
    "duration": 1453,
    "start_time": "2023-01-29T11:30:08.288Z"
   },
   {
    "duration": 2914,
    "start_time": "2023-01-29T11:30:09.743Z"
   },
   {
    "duration": 150,
    "start_time": "2023-01-29T11:30:12.658Z"
   },
   {
    "duration": 16,
    "start_time": "2023-01-29T11:30:12.811Z"
   },
   {
    "duration": 124,
    "start_time": "2023-01-29T11:30:12.829Z"
   },
   {
    "duration": 92,
    "start_time": "2023-01-29T11:30:12.956Z"
   },
   {
    "duration": 142,
    "start_time": "2023-01-29T11:30:13.050Z"
   },
   {
    "duration": 462,
    "start_time": "2023-01-29T11:30:13.194Z"
   },
   {
    "duration": 456,
    "start_time": "2023-01-29T11:30:13.658Z"
   },
   {
    "duration": 32,
    "start_time": "2023-01-29T11:30:14.117Z"
   },
   {
    "duration": 13,
    "start_time": "2023-01-29T11:30:14.151Z"
   },
   {
    "duration": 26,
    "start_time": "2023-01-29T11:30:14.166Z"
   },
   {
    "duration": 60,
    "start_time": "2023-01-29T11:30:14.194Z"
   },
   {
    "duration": 92,
    "start_time": "2023-01-29T11:30:14.255Z"
   },
   {
    "duration": 3,
    "start_time": "2023-01-29T11:30:14.349Z"
   },
   {
    "duration": 51,
    "start_time": "2023-01-29T11:30:14.353Z"
   },
   {
    "duration": 92,
    "start_time": "2023-01-29T11:30:14.406Z"
   },
   {
    "duration": 34,
    "start_time": "2023-01-29T11:30:14.499Z"
   },
   {
    "duration": 92,
    "start_time": "2023-01-29T11:30:14.535Z"
   },
   {
    "duration": 63,
    "start_time": "2023-01-29T11:30:14.629Z"
   },
   {
    "duration": 173,
    "start_time": "2023-01-29T11:30:14.694Z"
   },
   {
    "duration": 153,
    "start_time": "2023-01-29T11:30:14.870Z"
   },
   {
    "duration": 126,
    "start_time": "2023-01-29T11:30:15.024Z"
   },
   {
    "duration": 6,
    "start_time": "2023-01-29T11:30:15.152Z"
   },
   {
    "duration": 90,
    "start_time": "2023-01-29T11:30:15.159Z"
   },
   {
    "duration": 12,
    "start_time": "2023-01-29T11:30:15.251Z"
   },
   {
    "duration": 11,
    "start_time": "2023-01-29T11:30:15.265Z"
   },
   {
    "duration": 80,
    "start_time": "2023-01-29T11:30:15.292Z"
   },
   {
    "duration": 18,
    "start_time": "2023-01-29T11:30:15.374Z"
   },
   {
    "duration": 133,
    "start_time": "2023-01-29T11:30:15.394Z"
   },
   {
    "duration": 79,
    "start_time": "2023-01-29T11:30:15.528Z"
   },
   {
    "duration": 3,
    "start_time": "2023-01-29T11:30:15.609Z"
   },
   {
    "duration": 737,
    "start_time": "2023-01-29T11:30:15.613Z"
   },
   {
    "duration": 1469,
    "start_time": "2023-01-29T11:30:38.695Z"
   },
   {
    "duration": 2912,
    "start_time": "2023-01-29T11:30:40.167Z"
   },
   {
    "duration": 133,
    "start_time": "2023-01-29T11:30:43.081Z"
   },
   {
    "duration": 16,
    "start_time": "2023-01-29T11:30:43.216Z"
   },
   {
    "duration": 122,
    "start_time": "2023-01-29T11:30:43.234Z"
   },
   {
    "duration": 94,
    "start_time": "2023-01-29T11:30:43.358Z"
   },
   {
    "duration": 167,
    "start_time": "2023-01-29T11:30:43.454Z"
   },
   {
    "duration": 497,
    "start_time": "2023-01-29T11:30:43.623Z"
   },
   {
    "duration": 541,
    "start_time": "2023-01-29T11:30:44.122Z"
   },
   {
    "duration": 41,
    "start_time": "2023-01-29T11:30:44.665Z"
   },
   {
    "duration": 15,
    "start_time": "2023-01-29T11:30:44.708Z"
   },
   {
    "duration": 10,
    "start_time": "2023-01-29T11:30:44.725Z"
   },
   {
    "duration": 75,
    "start_time": "2023-01-29T11:30:44.737Z"
   },
   {
    "duration": 89,
    "start_time": "2023-01-29T11:30:44.814Z"
   },
   {
    "duration": 3,
    "start_time": "2023-01-29T11:30:44.904Z"
   },
   {
    "duration": 37,
    "start_time": "2023-01-29T11:30:44.909Z"
   },
   {
    "duration": 92,
    "start_time": "2023-01-29T11:30:44.948Z"
   },
   {
    "duration": 51,
    "start_time": "2023-01-29T11:30:45.042Z"
   },
   {
    "duration": 79,
    "start_time": "2023-01-29T11:30:45.095Z"
   },
   {
    "duration": 65,
    "start_time": "2023-01-29T11:30:45.175Z"
   },
   {
    "duration": 177,
    "start_time": "2023-01-29T11:30:45.241Z"
   },
   {
    "duration": 147,
    "start_time": "2023-01-29T11:30:45.420Z"
   },
   {
    "duration": 124,
    "start_time": "2023-01-29T11:30:45.569Z"
   },
   {
    "duration": 6,
    "start_time": "2023-01-29T11:30:45.695Z"
   },
   {
    "duration": 92,
    "start_time": "2023-01-29T11:30:45.703Z"
   },
   {
    "duration": 11,
    "start_time": "2023-01-29T11:30:45.796Z"
   },
   {
    "duration": 24,
    "start_time": "2023-01-29T11:30:45.809Z"
   },
   {
    "duration": 79,
    "start_time": "2023-01-29T11:30:45.836Z"
   },
   {
    "duration": 6,
    "start_time": "2023-01-29T11:30:45.917Z"
   },
   {
    "duration": 127,
    "start_time": "2023-01-29T11:30:45.924Z"
   },
   {
    "duration": 84,
    "start_time": "2023-01-29T11:30:46.053Z"
   },
   {
    "duration": 3,
    "start_time": "2023-01-29T11:30:46.138Z"
   },
   {
    "duration": 749,
    "start_time": "2023-01-29T11:30:46.143Z"
   },
   {
    "duration": 1495,
    "start_time": "2023-01-29T11:31:39.937Z"
   },
   {
    "duration": 3124,
    "start_time": "2023-01-29T11:31:41.435Z"
   },
   {
    "duration": 159,
    "start_time": "2023-01-29T11:31:44.561Z"
   },
   {
    "duration": 16,
    "start_time": "2023-01-29T11:31:44.723Z"
   },
   {
    "duration": 116,
    "start_time": "2023-01-29T11:31:44.740Z"
   },
   {
    "duration": 93,
    "start_time": "2023-01-29T11:31:44.857Z"
   },
   {
    "duration": 166,
    "start_time": "2023-01-29T11:31:44.951Z"
   },
   {
    "duration": 467,
    "start_time": "2023-01-29T11:31:45.119Z"
   },
   {
    "duration": 0,
    "start_time": "2023-01-29T11:31:45.602Z"
   },
   {
    "duration": 0,
    "start_time": "2023-01-29T11:31:45.608Z"
   },
   {
    "duration": 0,
    "start_time": "2023-01-29T11:31:45.610Z"
   },
   {
    "duration": 0,
    "start_time": "2023-01-29T11:31:45.611Z"
   },
   {
    "duration": 0,
    "start_time": "2023-01-29T11:31:45.613Z"
   },
   {
    "duration": 0,
    "start_time": "2023-01-29T11:31:45.614Z"
   },
   {
    "duration": 0,
    "start_time": "2023-01-29T11:31:45.615Z"
   },
   {
    "duration": 0,
    "start_time": "2023-01-29T11:31:45.616Z"
   },
   {
    "duration": 0,
    "start_time": "2023-01-29T11:31:45.617Z"
   },
   {
    "duration": 0,
    "start_time": "2023-01-29T11:31:45.618Z"
   },
   {
    "duration": 0,
    "start_time": "2023-01-29T11:31:45.619Z"
   },
   {
    "duration": 0,
    "start_time": "2023-01-29T11:31:45.620Z"
   },
   {
    "duration": 0,
    "start_time": "2023-01-29T11:31:45.621Z"
   },
   {
    "duration": 0,
    "start_time": "2023-01-29T11:31:45.623Z"
   },
   {
    "duration": 0,
    "start_time": "2023-01-29T11:31:45.624Z"
   },
   {
    "duration": 0,
    "start_time": "2023-01-29T11:31:45.626Z"
   },
   {
    "duration": 0,
    "start_time": "2023-01-29T11:31:45.627Z"
   },
   {
    "duration": 0,
    "start_time": "2023-01-29T11:31:45.628Z"
   },
   {
    "duration": 0,
    "start_time": "2023-01-29T11:31:45.629Z"
   },
   {
    "duration": 0,
    "start_time": "2023-01-29T11:31:45.630Z"
   },
   {
    "duration": 0,
    "start_time": "2023-01-29T11:31:45.631Z"
   },
   {
    "duration": 0,
    "start_time": "2023-01-29T11:31:45.632Z"
   },
   {
    "duration": 0,
    "start_time": "2023-01-29T11:31:45.633Z"
   },
   {
    "duration": 0,
    "start_time": "2023-01-29T11:31:45.634Z"
   },
   {
    "duration": 0,
    "start_time": "2023-01-29T11:31:45.635Z"
   },
   {
    "duration": 0,
    "start_time": "2023-01-29T11:31:45.636Z"
   },
   {
    "duration": 0,
    "start_time": "2023-01-29T11:31:45.636Z"
   },
   {
    "duration": 3,
    "start_time": "2023-01-29T11:33:56.233Z"
   },
   {
    "duration": 1478,
    "start_time": "2023-01-29T11:34:17.299Z"
   },
   {
    "duration": 844,
    "start_time": "2023-01-29T11:34:18.779Z"
   },
   {
    "duration": 142,
    "start_time": "2023-01-29T11:34:19.625Z"
   },
   {
    "duration": 33,
    "start_time": "2023-01-29T11:34:19.769Z"
   },
   {
    "duration": 107,
    "start_time": "2023-01-29T11:34:19.804Z"
   },
   {
    "duration": 88,
    "start_time": "2023-01-29T11:34:19.913Z"
   },
   {
    "duration": 135,
    "start_time": "2023-01-29T11:34:20.003Z"
   },
   {
    "duration": 482,
    "start_time": "2023-01-29T11:34:20.140Z"
   },
   {
    "duration": 502,
    "start_time": "2023-01-29T11:34:20.624Z"
   },
   {
    "duration": 35,
    "start_time": "2023-01-29T11:34:21.129Z"
   },
   {
    "duration": 35,
    "start_time": "2023-01-29T11:34:21.166Z"
   },
   {
    "duration": 10,
    "start_time": "2023-01-29T11:34:21.203Z"
   },
   {
    "duration": 77,
    "start_time": "2023-01-29T11:34:21.214Z"
   },
   {
    "duration": 84,
    "start_time": "2023-01-29T11:34:21.293Z"
   },
   {
    "duration": 13,
    "start_time": "2023-01-29T11:34:21.379Z"
   },
   {
    "duration": 49,
    "start_time": "2023-01-29T11:34:21.393Z"
   },
   {
    "duration": 90,
    "start_time": "2023-01-29T11:34:21.444Z"
   },
   {
    "duration": 33,
    "start_time": "2023-01-29T11:34:21.536Z"
   },
   {
    "duration": 94,
    "start_time": "2023-01-29T11:34:21.571Z"
   },
   {
    "duration": 68,
    "start_time": "2023-01-29T11:34:21.666Z"
   },
   {
    "duration": 170,
    "start_time": "2023-01-29T11:34:21.736Z"
   },
   {
    "duration": 131,
    "start_time": "2023-01-29T11:34:21.908Z"
   },
   {
    "duration": 112,
    "start_time": "2023-01-29T11:34:22.041Z"
   },
   {
    "duration": 6,
    "start_time": "2023-01-29T11:34:22.155Z"
   },
   {
    "duration": 88,
    "start_time": "2023-01-29T11:34:22.163Z"
   },
   {
    "duration": 9,
    "start_time": "2023-01-29T11:34:22.253Z"
   },
   {
    "duration": 18,
    "start_time": "2023-01-29T11:34:22.263Z"
   },
   {
    "duration": 73,
    "start_time": "2023-01-29T11:34:22.291Z"
   },
   {
    "duration": 6,
    "start_time": "2023-01-29T11:34:22.366Z"
   },
   {
    "duration": 106,
    "start_time": "2023-01-29T11:34:22.391Z"
   },
   {
    "duration": 72,
    "start_time": "2023-01-29T11:34:22.499Z"
   },
   {
    "duration": 18,
    "start_time": "2023-01-29T11:34:22.573Z"
   },
   {
    "duration": 688,
    "start_time": "2023-01-29T11:34:22.593Z"
   },
   {
    "duration": 74,
    "start_time": "2023-01-29T11:34:23.283Z"
   },
   {
    "duration": 0,
    "start_time": "2023-01-29T11:34:23.359Z"
   },
   {
    "duration": 783780,
    "start_time": "2023-01-29T11:34:30.397Z"
   },
   {
    "duration": 7116,
    "start_time": "2023-01-29T11:48:08.866Z"
   },
   {
    "duration": 537,
    "start_time": "2023-01-29T11:48:26.396Z"
   },
   {
    "duration": 16014,
    "start_time": "2023-01-29T11:48:34.139Z"
   },
   {
    "duration": 560696,
    "start_time": "2023-01-29T11:48:59.229Z"
   },
   {
    "duration": 11,
    "start_time": "2023-01-29T11:58:32.247Z"
   },
   {
    "duration": 11,
    "start_time": "2023-01-29T11:58:57.447Z"
   },
   {
    "duration": 4,
    "start_time": "2023-01-29T11:59:09.058Z"
   },
   {
    "duration": 14,
    "start_time": "2023-01-29T11:59:33.418Z"
   },
   {
    "duration": 11,
    "start_time": "2023-01-29T11:59:59.565Z"
   },
   {
    "duration": 4,
    "start_time": "2023-01-29T12:00:06.139Z"
   },
   {
    "duration": 17,
    "start_time": "2023-01-29T12:00:12.821Z"
   },
   {
    "duration": 4564,
    "start_time": "2023-01-29T12:01:59.715Z"
   },
   {
    "duration": 3,
    "start_time": "2023-01-29T12:02:27.484Z"
   },
   {
    "duration": 4501,
    "start_time": "2023-01-29T12:02:37.382Z"
   },
   {
    "duration": 5120,
    "start_time": "2023-01-29T12:04:26.015Z"
   },
   {
    "duration": 1584,
    "start_time": "2023-01-29T14:41:24.757Z"
   },
   {
    "duration": 1071,
    "start_time": "2023-01-29T14:41:26.344Z"
   },
   {
    "duration": 129,
    "start_time": "2023-01-29T14:41:27.417Z"
   },
   {
    "duration": 16,
    "start_time": "2023-01-29T14:41:27.548Z"
   },
   {
    "duration": 122,
    "start_time": "2023-01-29T14:41:27.566Z"
   },
   {
    "duration": 84,
    "start_time": "2023-01-29T14:41:27.690Z"
   },
   {
    "duration": 111,
    "start_time": "2023-01-29T14:41:27.776Z"
   },
   {
    "duration": 453,
    "start_time": "2023-01-29T14:41:27.889Z"
   },
   {
    "duration": 469,
    "start_time": "2023-01-29T14:41:28.343Z"
   },
   {
    "duration": 36,
    "start_time": "2023-01-29T14:41:28.815Z"
   },
   {
    "duration": 20,
    "start_time": "2023-01-29T14:41:28.853Z"
   },
   {
    "duration": 24,
    "start_time": "2023-01-29T14:41:28.875Z"
   },
   {
    "duration": 63,
    "start_time": "2023-01-29T14:41:28.901Z"
   },
   {
    "duration": 68,
    "start_time": "2023-01-29T14:41:28.966Z"
   },
   {
    "duration": 2,
    "start_time": "2023-01-29T14:41:29.036Z"
   },
   {
    "duration": 41,
    "start_time": "2023-01-29T14:41:29.040Z"
   },
   {
    "duration": 75,
    "start_time": "2023-01-29T14:41:29.083Z"
   },
   {
    "duration": 31,
    "start_time": "2023-01-29T14:41:29.159Z"
   },
   {
    "duration": 76,
    "start_time": "2023-01-29T14:41:29.192Z"
   },
   {
    "duration": 70,
    "start_time": "2023-01-29T14:41:29.270Z"
   },
   {
    "duration": 174,
    "start_time": "2023-01-29T14:41:29.342Z"
   },
   {
    "duration": 144,
    "start_time": "2023-01-29T14:41:29.517Z"
   },
   {
    "duration": 126,
    "start_time": "2023-01-29T14:41:29.663Z"
   },
   {
    "duration": 6,
    "start_time": "2023-01-29T14:41:29.791Z"
   },
   {
    "duration": 83,
    "start_time": "2023-01-29T14:41:29.799Z"
   },
   {
    "duration": 12,
    "start_time": "2023-01-29T14:41:29.883Z"
   },
   {
    "duration": 18,
    "start_time": "2023-01-29T14:41:29.897Z"
   },
   {
    "duration": 72,
    "start_time": "2023-01-29T14:41:29.926Z"
   },
   {
    "duration": 7,
    "start_time": "2023-01-29T14:41:30.000Z"
   },
   {
    "duration": 115,
    "start_time": "2023-01-29T14:41:30.026Z"
   },
   {
    "duration": 91,
    "start_time": "2023-01-29T14:41:30.143Z"
   },
   {
    "duration": 3,
    "start_time": "2023-01-29T14:41:30.236Z"
   },
   {
    "duration": 706,
    "start_time": "2023-01-29T14:41:30.241Z"
   },
   {
    "duration": 770131,
    "start_time": "2023-01-29T14:41:30.949Z"
   },
   {
    "duration": 0,
    "start_time": "2023-01-29T14:54:21.082Z"
   },
   {
    "duration": 0,
    "start_time": "2023-01-29T14:54:21.084Z"
   },
   {
    "duration": 0,
    "start_time": "2023-01-29T14:54:21.085Z"
   },
   {
    "duration": 0,
    "start_time": "2023-01-29T14:54:21.086Z"
   },
   {
    "duration": 0,
    "start_time": "2023-01-29T14:54:21.087Z"
   },
   {
    "duration": 0,
    "start_time": "2023-01-29T14:54:21.088Z"
   },
   {
    "duration": 457,
    "start_time": "2023-01-29T14:54:26.256Z"
   },
   {
    "duration": 3,
    "start_time": "2023-01-29T14:54:52.445Z"
   },
   {
    "duration": 810,
    "start_time": "2023-01-29T14:54:52.610Z"
   },
   {
    "duration": 117,
    "start_time": "2023-01-29T14:54:53.423Z"
   },
   {
    "duration": 14,
    "start_time": "2023-01-29T14:54:53.542Z"
   },
   {
    "duration": 110,
    "start_time": "2023-01-29T14:54:53.558Z"
   },
   {
    "duration": 68,
    "start_time": "2023-01-29T14:54:53.759Z"
   },
   {
    "duration": 102,
    "start_time": "2023-01-29T14:54:54.105Z"
   },
   {
    "duration": 386,
    "start_time": "2023-01-29T14:54:55.212Z"
   },
   {
    "duration": 413,
    "start_time": "2023-01-29T14:54:55.600Z"
   },
   {
    "duration": 25,
    "start_time": "2023-01-29T14:54:56.015Z"
   },
   {
    "duration": 11,
    "start_time": "2023-01-29T14:54:56.045Z"
   },
   {
    "duration": 2,
    "start_time": "2023-01-29T14:54:56.697Z"
   },
   {
    "duration": 72,
    "start_time": "2023-01-29T14:54:56.952Z"
   },
   {
    "duration": 63,
    "start_time": "2023-01-29T14:54:57.402Z"
   },
   {
    "duration": 3,
    "start_time": "2023-01-29T14:54:57.702Z"
   },
   {
    "duration": 32,
    "start_time": "2023-01-29T14:54:57.966Z"
   },
   {
    "duration": 64,
    "start_time": "2023-01-29T14:54:58.285Z"
   },
   {
    "duration": 31,
    "start_time": "2023-01-29T14:54:58.940Z"
   },
   {
    "duration": 67,
    "start_time": "2023-01-29T14:54:59.357Z"
   },
   {
    "duration": 71,
    "start_time": "2023-01-29T14:55:00.379Z"
   },
   {
    "duration": 163,
    "start_time": "2023-01-29T14:55:00.782Z"
   },
   {
    "duration": 140,
    "start_time": "2023-01-29T14:55:01.074Z"
   },
   {
    "duration": 105,
    "start_time": "2023-01-29T14:55:01.399Z"
   },
   {
    "duration": 6,
    "start_time": "2023-01-29T14:55:01.785Z"
   },
   {
    "duration": 62,
    "start_time": "2023-01-29T14:55:02.390Z"
   },
   {
    "duration": 12,
    "start_time": "2023-01-29T14:55:02.691Z"
   },
   {
    "duration": 6,
    "start_time": "2023-01-29T14:55:02.975Z"
   },
   {
    "duration": 60,
    "start_time": "2023-01-29T14:55:03.344Z"
   },
   {
    "duration": 7,
    "start_time": "2023-01-29T14:55:03.648Z"
   },
   {
    "duration": 104,
    "start_time": "2023-01-29T14:55:10.055Z"
   },
   {
    "duration": 70,
    "start_time": "2023-01-29T14:55:11.708Z"
   },
   {
    "duration": 4,
    "start_time": "2023-01-29T14:55:12.982Z"
   },
   {
    "duration": 442,
    "start_time": "2023-01-29T14:55:13.688Z"
   },
   {
    "duration": 32,
    "start_time": "2023-01-29T14:55:31.552Z"
   },
   {
    "duration": 64,
    "start_time": "2023-01-29T14:57:00.467Z"
   },
   {
    "duration": 96377,
    "start_time": "2023-01-29T14:57:25.360Z"
   },
   {
    "duration": 0,
    "start_time": "2023-01-29T14:59:01.740Z"
   },
   {
    "duration": 19,
    "start_time": "2023-01-29T14:59:05.692Z"
   },
   {
    "duration": 2928,
    "start_time": "2023-01-29T15:00:37.312Z"
   },
   {
    "duration": 91751,
    "start_time": "2023-01-29T15:01:11.234Z"
   },
   {
    "duration": 5,
    "start_time": "2023-01-29T15:03:08.194Z"
   },
   {
    "duration": 3,
    "start_time": "2023-01-29T15:06:37.725Z"
   },
   {
    "duration": 3714,
    "start_time": "2023-01-29T15:08:33.589Z"
   },
   {
    "duration": 5,
    "start_time": "2023-01-29T15:09:35.251Z"
   },
   {
    "duration": 2785,
    "start_time": "2023-01-29T15:10:10.478Z"
   },
   {
    "duration": 4,
    "start_time": "2023-01-29T15:10:13.265Z"
   },
   {
    "duration": 147403,
    "start_time": "2023-01-29T15:12:15.905Z"
   },
   {
    "duration": 6990,
    "start_time": "2023-01-29T15:16:59.540Z"
   },
   {
    "duration": 152381,
    "start_time": "2023-01-29T15:17:15.156Z"
   },
   {
    "duration": 2631,
    "start_time": "2023-01-29T15:19:47.539Z"
   },
   {
    "duration": 15485,
    "start_time": "2023-01-29T15:20:37.621Z"
   },
   {
    "duration": 5349,
    "start_time": "2023-01-29T15:22:46.553Z"
   },
   {
    "duration": 1624991,
    "start_time": "2023-01-29T15:23:13.077Z"
   },
   {
    "duration": 13,
    "start_time": "2023-01-29T15:51:46.620Z"
   },
   {
    "duration": 32,
    "start_time": "2023-01-29T15:52:03.044Z"
   },
   {
    "duration": 4,
    "start_time": "2023-01-29T15:52:47.367Z"
   },
   {
    "duration": 33,
    "start_time": "2023-01-29T15:52:55.705Z"
   },
   {
    "duration": 11,
    "start_time": "2023-01-29T15:53:10.594Z"
   },
   {
    "duration": 26,
    "start_time": "2023-01-29T15:53:20.763Z"
   },
   {
    "duration": 27,
    "start_time": "2023-01-29T15:53:34.557Z"
   },
   {
    "duration": 30,
    "start_time": "2023-01-29T15:54:49.532Z"
   },
   {
    "duration": 26,
    "start_time": "2023-01-29T15:55:31.561Z"
   },
   {
    "duration": 27,
    "start_time": "2023-01-29T15:56:13.996Z"
   },
   {
    "duration": 24,
    "start_time": "2023-01-29T15:58:22.968Z"
   },
   {
    "duration": 28,
    "start_time": "2023-01-29T15:58:58.674Z"
   },
   {
    "duration": 24,
    "start_time": "2023-01-29T16:00:49.639Z"
   },
   {
    "duration": 30982,
    "start_time": "2023-01-29T16:01:02.945Z"
   },
   {
    "duration": 229013,
    "start_time": "2023-01-29T16:06:57.080Z"
   },
   {
    "duration": 1417,
    "start_time": "2023-01-29T16:10:46.096Z"
   },
   {
    "duration": 1486,
    "start_time": "2023-01-29T16:11:52.764Z"
   },
   {
    "duration": 5,
    "start_time": "2023-01-29T16:12:00.688Z"
   },
   {
    "duration": 6,
    "start_time": "2023-01-29T16:12:07.485Z"
   },
   {
    "duration": 14,
    "start_time": "2023-01-29T16:19:02.575Z"
   },
   {
    "duration": 10,
    "start_time": "2023-01-29T16:20:29.378Z"
   },
   {
    "duration": 61,
    "start_time": "2023-01-29T16:20:38.821Z"
   },
   {
    "duration": 58,
    "start_time": "2023-01-29T16:20:48.100Z"
   },
   {
    "duration": 15,
    "start_time": "2023-01-29T16:21:11.177Z"
   },
   {
    "duration": 22,
    "start_time": "2023-01-29T16:21:26.347Z"
   },
   {
    "duration": 29765,
    "start_time": "2023-01-29T16:21:52.549Z"
   },
   {
    "duration": 6725,
    "start_time": "2023-01-29T16:22:24.053Z"
   },
   {
    "duration": 17,
    "start_time": "2023-01-29T16:22:50.528Z"
   },
   {
    "duration": 19,
    "start_time": "2023-01-29T16:22:57.614Z"
   },
   {
    "duration": 12,
    "start_time": "2023-01-29T16:24:40.274Z"
   },
   {
    "duration": 188892,
    "start_time": "2023-01-29T16:27:19.516Z"
   },
   {
    "duration": 43611,
    "start_time": "2023-01-29T16:30:28.409Z"
   },
   {
    "duration": 6,
    "start_time": "2023-01-29T16:31:20.640Z"
   },
   {
    "duration": 8,
    "start_time": "2023-01-29T16:31:34.840Z"
   },
   {
    "duration": 42523,
    "start_time": "2023-01-29T16:34:04.582Z"
   },
   {
    "duration": 10,
    "start_time": "2023-01-29T16:35:12.664Z"
   },
   {
    "duration": 25,
    "start_time": "2023-01-29T16:35:57.164Z"
   },
   {
    "duration": 0,
    "start_time": "2023-01-29T16:42:12.350Z"
   },
   {
    "duration": 0,
    "start_time": "2023-01-29T16:46:38.447Z"
   },
   {
    "duration": 0,
    "start_time": "2023-01-29T16:46:38.448Z"
   },
   {
    "duration": 1473,
    "start_time": "2023-01-29T16:46:41.540Z"
   },
   {
    "duration": 798,
    "start_time": "2023-01-29T16:46:43.015Z"
   },
   {
    "duration": 115,
    "start_time": "2023-01-29T16:46:43.815Z"
   },
   {
    "duration": 15,
    "start_time": "2023-01-29T16:46:43.932Z"
   },
   {
    "duration": 114,
    "start_time": "2023-01-29T16:46:43.949Z"
   },
   {
    "duration": 99,
    "start_time": "2023-01-29T16:46:44.065Z"
   },
   {
    "duration": 122,
    "start_time": "2023-01-29T16:46:44.166Z"
   },
   {
    "duration": 454,
    "start_time": "2023-01-29T16:46:44.290Z"
   },
   {
    "duration": 424,
    "start_time": "2023-01-29T16:46:44.746Z"
   },
   {
    "duration": 27,
    "start_time": "2023-01-29T16:46:45.174Z"
   },
   {
    "duration": 27,
    "start_time": "2023-01-29T16:46:45.203Z"
   },
   {
    "duration": 28,
    "start_time": "2023-01-29T16:46:45.232Z"
   },
   {
    "duration": 78,
    "start_time": "2023-01-29T16:46:45.262Z"
   },
   {
    "duration": 87,
    "start_time": "2023-01-29T16:46:45.342Z"
   },
   {
    "duration": 2,
    "start_time": "2023-01-29T16:46:45.431Z"
   },
   {
    "duration": 54,
    "start_time": "2023-01-29T16:46:45.435Z"
   },
   {
    "duration": 81,
    "start_time": "2023-01-29T16:46:45.491Z"
   },
   {
    "duration": 30,
    "start_time": "2023-01-29T16:46:45.574Z"
   },
   {
    "duration": 78,
    "start_time": "2023-01-29T16:46:45.605Z"
   },
   {
    "duration": 59,
    "start_time": "2023-01-29T16:46:45.684Z"
   },
   {
    "duration": 169,
    "start_time": "2023-01-29T16:46:45.745Z"
   },
   {
    "duration": 136,
    "start_time": "2023-01-29T16:46:45.915Z"
   },
   {
    "duration": 117,
    "start_time": "2023-01-29T16:46:46.053Z"
   },
   {
    "duration": 5,
    "start_time": "2023-01-29T16:46:46.172Z"
   },
   {
    "duration": 84,
    "start_time": "2023-01-29T16:46:46.179Z"
   },
   {
    "duration": 12,
    "start_time": "2023-01-29T16:46:46.264Z"
   },
   {
    "duration": 33,
    "start_time": "2023-01-29T16:46:46.278Z"
   },
   {
    "duration": 105,
    "start_time": "2023-01-29T16:46:46.316Z"
   },
   {
    "duration": 8,
    "start_time": "2023-01-29T16:46:46.423Z"
   },
   {
    "duration": 111,
    "start_time": "2023-01-29T16:46:46.433Z"
   },
   {
    "duration": 165,
    "start_time": "2023-01-29T16:46:46.545Z"
   },
   {
    "duration": 426,
    "start_time": "2023-01-29T16:46:46.711Z"
   },
   {
    "duration": 44,
    "start_time": "2023-01-29T16:46:47.138Z"
   },
   {
    "duration": 181527,
    "start_time": "2023-01-29T16:46:47.184Z"
   },
   {
    "duration": 2,
    "start_time": "2023-01-29T16:49:48.713Z"
   },
   {
    "duration": 39098,
    "start_time": "2023-01-29T16:49:48.716Z"
   },
   {
    "duration": 5,
    "start_time": "2023-01-29T16:50:27.817Z"
   },
   {
    "duration": 73970,
    "start_time": "2023-01-29T16:50:27.827Z"
   },
   {
    "duration": 0,
    "start_time": "2023-01-29T16:51:41.799Z"
   },
   {
    "duration": 0,
    "start_time": "2023-01-29T16:51:41.800Z"
   },
   {
    "duration": 0,
    "start_time": "2023-01-29T16:51:41.801Z"
   },
   {
    "duration": 0,
    "start_time": "2023-01-29T16:51:41.802Z"
   },
   {
    "duration": 0,
    "start_time": "2023-01-29T16:51:41.803Z"
   },
   {
    "duration": 0,
    "start_time": "2023-01-29T16:51:41.805Z"
   },
   {
    "duration": 0,
    "start_time": "2023-01-29T16:51:41.806Z"
   },
   {
    "duration": 0,
    "start_time": "2023-01-29T16:51:41.807Z"
   },
   {
    "duration": 9,
    "start_time": "2023-01-29T16:51:47.072Z"
   },
   {
    "duration": 185660,
    "start_time": "2023-01-29T16:52:20.477Z"
   },
   {
    "duration": 3,
    "start_time": "2023-01-29T16:55:41.912Z"
   },
   {
    "duration": 430175,
    "start_time": "2023-01-29T16:56:15.282Z"
   },
   {
    "duration": 4,
    "start_time": "2023-01-29T17:03:52.469Z"
   },
   {
    "duration": 28649,
    "start_time": "2023-01-29T17:04:02.409Z"
   },
   {
    "duration": 5,
    "start_time": "2023-01-29T17:04:31.060Z"
   },
   {
    "duration": 38203,
    "start_time": "2023-01-29T17:04:31.067Z"
   },
   {
    "duration": 0,
    "start_time": "2023-01-29T17:05:09.273Z"
   },
   {
    "duration": 0,
    "start_time": "2023-01-29T17:05:09.275Z"
   },
   {
    "duration": 0,
    "start_time": "2023-01-29T17:05:09.276Z"
   },
   {
    "duration": 0,
    "start_time": "2023-01-29T17:05:09.277Z"
   },
   {
    "duration": 0,
    "start_time": "2023-01-29T17:05:09.279Z"
   },
   {
    "duration": 98281,
    "start_time": "2023-01-29T17:05:16.974Z"
   },
   {
    "duration": 4,
    "start_time": "2023-01-29T17:06:55.257Z"
   },
   {
    "duration": 8,
    "start_time": "2023-01-29T17:06:55.263Z"
   },
   {
    "duration": 2446,
    "start_time": "2023-01-29T17:06:55.273Z"
   },
   {
    "duration": 3,
    "start_time": "2023-01-29T17:06:57.721Z"
   },
   {
    "duration": 30835,
    "start_time": "2023-01-29T17:06:57.726Z"
   },
   {
    "duration": 0,
    "start_time": "2023-01-29T17:07:28.562Z"
   },
   {
    "duration": 0,
    "start_time": "2023-01-29T17:07:28.564Z"
   },
   {
    "duration": 3,
    "start_time": "2023-01-29T17:07:37.375Z"
   },
   {
    "duration": 9412,
    "start_time": "2023-01-29T17:07:38.173Z"
   },
   {
    "duration": 5,
    "start_time": "2023-01-29T17:07:47.587Z"
   },
   {
    "duration": 840492,
    "start_time": "2023-01-29T17:08:07.669Z"
   },
   {
    "duration": 5397031,
    "start_time": "2023-01-29T17:22:23.806Z"
   },
   {
    "duration": 1680,
    "start_time": "2023-01-30T07:06:33.843Z"
   },
   {
    "duration": 3123,
    "start_time": "2023-01-30T07:06:35.526Z"
   },
   {
    "duration": 142,
    "start_time": "2023-01-30T07:06:38.650Z"
   },
   {
    "duration": 27,
    "start_time": "2023-01-30T07:06:38.794Z"
   },
   {
    "duration": 110,
    "start_time": "2023-01-30T07:06:38.822Z"
   },
   {
    "duration": 89,
    "start_time": "2023-01-30T07:06:38.933Z"
   },
   {
    "duration": 149,
    "start_time": "2023-01-30T07:06:39.024Z"
   },
   {
    "duration": 483,
    "start_time": "2023-01-30T07:06:39.174Z"
   },
   {
    "duration": 455,
    "start_time": "2023-01-30T07:06:39.659Z"
   },
   {
    "duration": 29,
    "start_time": "2023-01-30T07:06:40.117Z"
   },
   {
    "duration": 11,
    "start_time": "2023-01-30T07:06:40.148Z"
   },
   {
    "duration": 5,
    "start_time": "2023-01-30T07:06:40.161Z"
   },
   {
    "duration": 84,
    "start_time": "2023-01-30T07:06:40.167Z"
   },
   {
    "duration": 91,
    "start_time": "2023-01-30T07:06:40.253Z"
   },
   {
    "duration": 2,
    "start_time": "2023-01-30T07:06:40.346Z"
   },
   {
    "duration": 37,
    "start_time": "2023-01-30T07:06:40.350Z"
   },
   {
    "duration": 90,
    "start_time": "2023-01-30T07:06:40.389Z"
   },
   {
    "duration": 55,
    "start_time": "2023-01-30T07:06:40.481Z"
   },
   {
    "duration": 85,
    "start_time": "2023-01-30T07:06:40.538Z"
   },
   {
    "duration": 46,
    "start_time": "2023-01-30T07:06:40.625Z"
   },
   {
    "duration": 184,
    "start_time": "2023-01-30T07:06:40.673Z"
   },
   {
    "duration": 148,
    "start_time": "2023-01-30T07:06:40.859Z"
   },
   {
    "duration": 204,
    "start_time": "2023-01-30T07:06:41.009Z"
   },
   {
    "duration": 7,
    "start_time": "2023-01-30T07:06:41.215Z"
   },
   {
    "duration": 68,
    "start_time": "2023-01-30T07:06:41.224Z"
   },
   {
    "duration": 29,
    "start_time": "2023-01-30T07:06:41.294Z"
   },
   {
    "duration": 8,
    "start_time": "2023-01-30T07:06:41.325Z"
   },
   {
    "duration": 94,
    "start_time": "2023-01-30T07:06:41.336Z"
   },
   {
    "duration": 6,
    "start_time": "2023-01-30T07:06:41.432Z"
   },
   {
    "duration": 127,
    "start_time": "2023-01-30T07:06:41.440Z"
   },
   {
    "duration": 88,
    "start_time": "2023-01-30T07:06:41.569Z"
   },
   {
    "duration": 472,
    "start_time": "2023-01-30T07:06:41.659Z"
   },
   {
    "duration": 44,
    "start_time": "2023-01-30T07:06:42.132Z"
   },
   {
    "duration": 3,
    "start_time": "2023-01-30T07:06:42.178Z"
   },
   {
    "duration": 5,
    "start_time": "2023-01-30T07:06:42.183Z"
   },
   {
    "duration": 32413,
    "start_time": "2023-01-30T07:06:42.190Z"
   },
   {
    "duration": 17,
    "start_time": "2023-01-30T07:07:14.605Z"
   },
   {
    "duration": 3,
    "start_time": "2023-01-30T07:07:14.624Z"
   },
   {
    "duration": 8,
    "start_time": "2023-01-30T07:07:14.628Z"
   },
   {
    "duration": 9,
    "start_time": "2023-01-30T07:07:14.637Z"
   },
   {
    "duration": 10552,
    "start_time": "2023-01-30T07:07:14.647Z"
   },
   {
    "duration": 4,
    "start_time": "2023-01-30T07:07:25.201Z"
   },
   {
    "duration": 107798,
    "start_time": "2023-01-30T07:07:25.207Z"
   },
   {
    "duration": 0,
    "start_time": "2023-01-30T07:09:13.007Z"
   },
   {
    "duration": 0,
    "start_time": "2023-01-30T07:09:13.008Z"
   },
   {
    "duration": 507078,
    "start_time": "2023-01-30T07:09:18.666Z"
   },
   {
    "duration": 41,
    "start_time": "2023-01-30T07:18:25.085Z"
   },
   {
    "duration": 2154494,
    "start_time": "2023-01-30T07:25:16.333Z"
   },
   {
    "duration": 257222,
    "start_time": "2023-01-30T08:04:42.044Z"
   },
   {
    "duration": 69,
    "start_time": "2023-01-30T08:08:59.269Z"
   },
   {
    "duration": 4,
    "start_time": "2023-01-30T08:09:08.177Z"
   },
   {
    "duration": 74,
    "start_time": "2023-01-30T08:10:12.042Z"
   },
   {
    "duration": 4,
    "start_time": "2023-01-30T08:10:29.640Z"
   },
   {
    "duration": 82,
    "start_time": "2023-01-30T08:10:36.737Z"
   },
   {
    "duration": 85,
    "start_time": "2023-01-30T08:10:45.838Z"
   },
   {
    "duration": 75,
    "start_time": "2023-01-30T08:10:55.476Z"
   },
   {
    "duration": 72,
    "start_time": "2023-01-30T08:11:05.612Z"
   },
   {
    "duration": 4,
    "start_time": "2023-01-30T08:12:13.900Z"
   },
   {
    "duration": 10,
    "start_time": "2023-01-30T08:12:25.457Z"
   },
   {
    "duration": 17617,
    "start_time": "2023-01-30T08:13:23.729Z"
   },
   {
    "duration": 14310,
    "start_time": "2023-01-30T08:15:48.912Z"
   },
   {
    "duration": 4,
    "start_time": "2023-01-30T08:16:37.247Z"
   },
   {
    "duration": 9,
    "start_time": "2023-01-30T08:16:51.123Z"
   },
   {
    "duration": 12,
    "start_time": "2023-01-30T08:25:54.045Z"
   },
   {
    "duration": 33,
    "start_time": "2023-01-30T08:26:11.532Z"
   },
   {
    "duration": 3,
    "start_time": "2023-01-30T08:27:20.847Z"
   },
   {
    "duration": 34,
    "start_time": "2023-01-30T08:27:28.507Z"
   },
   {
    "duration": 1683,
    "start_time": "2023-01-30T08:35:03.911Z"
   },
   {
    "duration": 3,
    "start_time": "2023-01-30T08:35:05.596Z"
   },
   {
    "duration": 943,
    "start_time": "2023-01-30T08:35:05.601Z"
   },
   {
    "duration": 156,
    "start_time": "2023-01-30T08:35:06.546Z"
   },
   {
    "duration": 34,
    "start_time": "2023-01-30T08:35:06.704Z"
   },
   {
    "duration": 127,
    "start_time": "2023-01-30T08:35:06.739Z"
   },
   {
    "duration": 108,
    "start_time": "2023-01-30T08:35:06.868Z"
   },
   {
    "duration": 170,
    "start_time": "2023-01-30T08:35:06.978Z"
   },
   {
    "duration": 554,
    "start_time": "2023-01-30T08:35:07.150Z"
   },
   {
    "duration": 519,
    "start_time": "2023-01-30T08:35:07.707Z"
   },
   {
    "duration": 30,
    "start_time": "2023-01-30T08:35:08.232Z"
   },
   {
    "duration": 13,
    "start_time": "2023-01-30T08:35:08.264Z"
   },
   {
    "duration": 14,
    "start_time": "2023-01-30T08:35:08.279Z"
   },
   {
    "duration": 123,
    "start_time": "2023-01-30T08:35:08.296Z"
   },
   {
    "duration": 80,
    "start_time": "2023-01-30T08:35:08.428Z"
   },
   {
    "duration": 3,
    "start_time": "2023-01-30T08:35:08.509Z"
   },
   {
    "duration": 49,
    "start_time": "2023-01-30T08:35:08.521Z"
   },
   {
    "duration": 95,
    "start_time": "2023-01-30T08:35:08.572Z"
   },
   {
    "duration": 55,
    "start_time": "2023-01-30T08:35:08.669Z"
   },
   {
    "duration": 87,
    "start_time": "2023-01-30T08:35:08.725Z"
   },
   {
    "duration": 52,
    "start_time": "2023-01-30T08:35:08.832Z"
   },
   {
    "duration": 186,
    "start_time": "2023-01-30T08:35:08.886Z"
   },
   {
    "duration": 163,
    "start_time": "2023-01-30T08:35:09.074Z"
   },
   {
    "duration": 114,
    "start_time": "2023-01-30T08:35:09.239Z"
   },
   {
    "duration": 7,
    "start_time": "2023-01-30T08:35:09.355Z"
   },
   {
    "duration": 94,
    "start_time": "2023-01-30T08:35:09.364Z"
   },
   {
    "duration": 12,
    "start_time": "2023-01-30T08:35:09.460Z"
   },
   {
    "duration": 10,
    "start_time": "2023-01-30T08:35:09.476Z"
   },
   {
    "duration": 104,
    "start_time": "2023-01-30T08:35:09.488Z"
   },
   {
    "duration": 6,
    "start_time": "2023-01-30T08:35:09.595Z"
   },
   {
    "duration": 135,
    "start_time": "2023-01-30T08:35:09.602Z"
   },
   {
    "duration": 128,
    "start_time": "2023-01-30T08:35:09.739Z"
   },
   {
    "duration": 234,
    "start_time": "2023-01-30T08:35:09.869Z"
   },
   {
    "duration": 0,
    "start_time": "2023-01-30T08:35:10.105Z"
   },
   {
    "duration": 0,
    "start_time": "2023-01-30T08:35:10.106Z"
   },
   {
    "duration": 0,
    "start_time": "2023-01-30T08:35:10.107Z"
   },
   {
    "duration": 0,
    "start_time": "2023-01-30T08:35:10.128Z"
   },
   {
    "duration": 0,
    "start_time": "2023-01-30T08:35:10.133Z"
   },
   {
    "duration": 1,
    "start_time": "2023-01-30T08:35:10.136Z"
   },
   {
    "duration": 0,
    "start_time": "2023-01-30T08:35:10.138Z"
   },
   {
    "duration": 0,
    "start_time": "2023-01-30T08:35:10.138Z"
   },
   {
    "duration": 0,
    "start_time": "2023-01-30T08:35:10.140Z"
   },
   {
    "duration": 0,
    "start_time": "2023-01-30T08:35:10.141Z"
   },
   {
    "duration": 0,
    "start_time": "2023-01-30T08:35:10.142Z"
   },
   {
    "duration": 1,
    "start_time": "2023-01-30T08:35:10.143Z"
   },
   {
    "duration": 0,
    "start_time": "2023-01-30T08:35:10.145Z"
   },
   {
    "duration": 0,
    "start_time": "2023-01-30T08:35:10.146Z"
   },
   {
    "duration": 0,
    "start_time": "2023-01-30T08:35:10.147Z"
   },
   {
    "duration": 0,
    "start_time": "2023-01-30T08:35:10.148Z"
   },
   {
    "duration": 134,
    "start_time": "2023-01-30T08:42:35.083Z"
   },
   {
    "duration": 42,
    "start_time": "2023-01-30T08:42:35.764Z"
   },
   {
    "duration": 72,
    "start_time": "2023-01-30T08:42:36.951Z"
   },
   {
    "duration": 1446,
    "start_time": "2023-01-30T08:42:41.972Z"
   },
   {
    "duration": 3,
    "start_time": "2023-01-30T08:42:43.420Z"
   },
   {
    "duration": 835,
    "start_time": "2023-01-30T08:42:43.425Z"
   },
   {
    "duration": 151,
    "start_time": "2023-01-30T08:42:44.262Z"
   },
   {
    "duration": 23,
    "start_time": "2023-01-30T08:42:44.420Z"
   },
   {
    "duration": 144,
    "start_time": "2023-01-30T08:42:44.445Z"
   },
   {
    "duration": 102,
    "start_time": "2023-01-30T08:42:44.591Z"
   },
   {
    "duration": 135,
    "start_time": "2023-01-30T08:42:44.694Z"
   },
   {
    "duration": 493,
    "start_time": "2023-01-30T08:42:44.830Z"
   },
   {
    "duration": 532,
    "start_time": "2023-01-30T08:42:45.326Z"
   },
   {
    "duration": 35,
    "start_time": "2023-01-30T08:42:45.860Z"
   },
   {
    "duration": 25,
    "start_time": "2023-01-30T08:42:45.897Z"
   },
   {
    "duration": 3,
    "start_time": "2023-01-30T08:42:45.924Z"
   },
   {
    "duration": 61,
    "start_time": "2023-01-30T08:42:45.929Z"
   },
   {
    "duration": 96,
    "start_time": "2023-01-30T08:42:45.992Z"
   },
   {
    "duration": 3,
    "start_time": "2023-01-30T08:42:46.090Z"
   },
   {
    "duration": 56,
    "start_time": "2023-01-30T08:42:46.094Z"
   },
   {
    "duration": 86,
    "start_time": "2023-01-30T08:42:46.152Z"
   },
   {
    "duration": 34,
    "start_time": "2023-01-30T08:42:46.239Z"
   },
   {
    "duration": 90,
    "start_time": "2023-01-30T08:42:46.274Z"
   },
   {
    "duration": 73,
    "start_time": "2023-01-30T08:42:46.366Z"
   },
   {
    "duration": 181,
    "start_time": "2023-01-30T08:42:46.441Z"
   },
   {
    "duration": 148,
    "start_time": "2023-01-30T08:42:46.623Z"
   },
   {
    "duration": 124,
    "start_time": "2023-01-30T08:42:46.772Z"
   },
   {
    "duration": 6,
    "start_time": "2023-01-30T08:42:46.898Z"
   },
   {
    "duration": 71,
    "start_time": "2023-01-30T08:42:46.921Z"
   },
   {
    "duration": 11,
    "start_time": "2023-01-30T08:42:46.994Z"
   },
   {
    "duration": 6,
    "start_time": "2023-01-30T08:42:47.022Z"
   },
   {
    "duration": 102,
    "start_time": "2023-01-30T08:42:47.030Z"
   },
   {
    "duration": 6,
    "start_time": "2023-01-30T08:42:47.133Z"
   },
   {
    "duration": 33,
    "start_time": "2023-01-30T08:42:47.140Z"
   },
   {
    "duration": 232,
    "start_time": "2023-01-30T08:42:47.174Z"
   },
   {
    "duration": 38,
    "start_time": "2023-01-30T08:42:47.408Z"
   },
   {
    "duration": 79,
    "start_time": "2023-01-30T08:42:47.448Z"
   },
   {
    "duration": 474,
    "start_time": "2023-01-30T08:42:47.529Z"
   },
   {
    "duration": 56,
    "start_time": "2023-01-30T08:42:48.005Z"
   },
   {
    "duration": 3,
    "start_time": "2023-01-30T08:42:48.063Z"
   },
   {
    "duration": 5,
    "start_time": "2023-01-30T08:42:48.067Z"
   },
   {
    "duration": 28426,
    "start_time": "2023-01-30T08:42:48.074Z"
   },
   {
    "duration": 5,
    "start_time": "2023-01-30T08:43:16.502Z"
   },
   {
    "duration": 13,
    "start_time": "2023-01-30T08:43:16.522Z"
   },
   {
    "duration": 20,
    "start_time": "2023-01-30T08:43:16.537Z"
   },
   {
    "duration": 14,
    "start_time": "2023-01-30T08:43:16.558Z"
   },
   {
    "duration": 10499,
    "start_time": "2023-01-30T08:43:16.574Z"
   },
   {
    "duration": 4,
    "start_time": "2023-01-30T08:43:27.075Z"
   },
   {
    "duration": 8,
    "start_time": "2023-01-30T08:43:27.080Z"
   },
   {
    "duration": 15855,
    "start_time": "2023-01-30T08:43:27.091Z"
   },
   {
    "duration": 6,
    "start_time": "2023-01-30T08:43:43.020Z"
   },
   {
    "duration": 12,
    "start_time": "2023-01-30T08:43:43.027Z"
   },
   {
    "duration": 120,
    "start_time": "2023-01-30T08:44:19.369Z"
   },
   {
    "duration": 10,
    "start_time": "2023-01-30T08:44:31.858Z"
   },
   {
    "duration": 1535,
    "start_time": "2023-01-31T11:34:04.791Z"
   },
   {
    "duration": 4,
    "start_time": "2023-01-31T11:34:07.076Z"
   },
   {
    "duration": 1082,
    "start_time": "2023-01-31T11:34:07.354Z"
   },
   {
    "duration": 137,
    "start_time": "2023-01-31T11:34:08.438Z"
   },
   {
    "duration": 23,
    "start_time": "2023-01-31T11:34:09.892Z"
   },
   {
    "duration": 96,
    "start_time": "2023-01-31T11:34:11.542Z"
   },
   {
    "duration": 81,
    "start_time": "2023-01-31T11:34:13.414Z"
   },
   {
    "duration": 126,
    "start_time": "2023-01-31T11:34:14.193Z"
   },
   {
    "duration": 476,
    "start_time": "2023-01-31T11:34:15.660Z"
   },
   {
    "duration": 432,
    "start_time": "2023-01-31T11:34:16.138Z"
   },
   {
    "duration": 27,
    "start_time": "2023-01-31T11:34:17.451Z"
   },
   {
    "duration": 12,
    "start_time": "2023-01-31T11:34:17.816Z"
   },
   {
    "duration": 3,
    "start_time": "2023-01-31T11:34:19.442Z"
   },
   {
    "duration": 58,
    "start_time": "2023-01-31T11:34:19.777Z"
   },
   {
    "duration": 77,
    "start_time": "2023-01-31T11:34:20.489Z"
   },
   {
    "duration": 3,
    "start_time": "2023-01-31T11:34:20.804Z"
   },
   {
    "duration": 35,
    "start_time": "2023-01-31T11:34:21.134Z"
   },
   {
    "duration": 80,
    "start_time": "2023-01-31T11:34:21.428Z"
   },
   {
    "duration": 35,
    "start_time": "2023-01-31T11:34:22.386Z"
   },
   {
    "duration": 77,
    "start_time": "2023-01-31T11:34:23.273Z"
   },
   {
    "duration": 49,
    "start_time": "2023-01-31T11:34:24.615Z"
   },
   {
    "duration": 167,
    "start_time": "2023-01-31T11:34:24.992Z"
   },
   {
    "duration": 124,
    "start_time": "2023-01-31T11:34:25.346Z"
   },
   {
    "duration": 180,
    "start_time": "2023-01-31T11:34:28.445Z"
   },
   {
    "duration": 6,
    "start_time": "2023-01-31T11:34:28.792Z"
   },
   {
    "duration": 65,
    "start_time": "2023-01-31T11:34:29.704Z"
   },
   {
    "duration": 10,
    "start_time": "2023-01-31T11:35:09.307Z"
   },
   {
    "duration": 8,
    "start_time": "2023-01-31T11:35:09.814Z"
   },
   {
    "duration": 66,
    "start_time": "2023-01-31T11:35:10.039Z"
   },
   {
    "duration": 6,
    "start_time": "2023-01-31T11:35:10.283Z"
   },
   {
    "duration": 30,
    "start_time": "2023-01-31T11:35:55.783Z"
   },
   {
    "duration": 132,
    "start_time": "2023-01-31T11:35:57.310Z"
   },
   {
    "duration": 32,
    "start_time": "2023-01-31T11:35:59.662Z"
   },
   {
    "duration": 71,
    "start_time": "2023-01-31T11:36:00.554Z"
   },
   {
    "duration": 474,
    "start_time": "2023-01-31T11:36:19.512Z"
   },
   {
    "duration": 46,
    "start_time": "2023-01-31T11:36:25.285Z"
   },
   {
    "duration": 80,
    "start_time": "2023-01-31T11:48:34.517Z"
   },
   {
    "duration": 16,
    "start_time": "2023-01-31T11:48:36.246Z"
   },
   {
    "duration": 11,
    "start_time": "2023-01-31T11:48:36.456Z"
   },
   {
    "duration": 84,
    "start_time": "2023-01-31T11:48:36.639Z"
   },
   {
    "duration": 6,
    "start_time": "2023-01-31T11:48:36.984Z"
   },
   {
    "duration": 41,
    "start_time": "2023-01-31T11:48:38.157Z"
   },
   {
    "duration": 120,
    "start_time": "2023-01-31T11:48:38.323Z"
   },
   {
    "duration": 30,
    "start_time": "2023-01-31T11:48:38.491Z"
   },
   {
    "duration": 71,
    "start_time": "2023-01-31T11:48:38.922Z"
   },
   {
    "duration": 474,
    "start_time": "2023-01-31T11:48:40.063Z"
   },
   {
    "duration": 46,
    "start_time": "2023-01-31T11:48:41.073Z"
   },
   {
    "duration": 3,
    "start_time": "2023-01-31T11:48:41.347Z"
   },
   {
    "duration": 2,
    "start_time": "2023-01-31T11:48:41.628Z"
   },
   {
    "duration": 27949,
    "start_time": "2023-01-31T11:51:01.292Z"
   },
   {
    "duration": 1946,
    "start_time": "2023-01-31T11:51:45.617Z"
   },
   {
    "duration": 6,
    "start_time": "2023-01-31T11:52:31.601Z"
   },
   {
    "duration": 3,
    "start_time": "2023-01-31T11:52:35.783Z"
   },
   {
    "duration": 126,
    "start_time": "2023-01-31T11:52:36.716Z"
   },
   {
    "duration": 4,
    "start_time": "2023-01-31T11:52:55.625Z"
   },
   {
    "duration": 16,
    "start_time": "2023-01-31T11:53:06.881Z"
   },
   {
    "duration": 52004,
    "start_time": "2023-01-31T11:53:24.206Z"
   },
   {
    "duration": 51084,
    "start_time": "2023-01-31T11:58:09.387Z"
   },
   {
    "duration": 50423,
    "start_time": "2023-01-31T12:00:43.112Z"
   },
   {
    "duration": 54322,
    "start_time": "2023-01-31T12:01:58.477Z"
   },
   {
    "duration": 54775,
    "start_time": "2023-01-31T12:03:36.411Z"
   },
   {
    "duration": 27841,
    "start_time": "2023-01-31T12:04:50.652Z"
   },
   {
    "duration": 1829,
    "start_time": "2023-01-31T12:05:18.495Z"
   },
   {
    "duration": 6,
    "start_time": "2023-01-31T12:05:20.326Z"
   },
   {
    "duration": 49581,
    "start_time": "2023-01-31T12:05:20.334Z"
   },
   {
    "duration": 56152,
    "start_time": "2023-01-31T12:06:12.572Z"
   },
   {
    "duration": 4,
    "start_time": "2023-01-31T12:08:00.036Z"
   },
   {
    "duration": 5,
    "start_time": "2023-01-31T12:08:14.406Z"
   },
   {
    "duration": 5,
    "start_time": "2023-01-31T12:08:20.179Z"
   },
   {
    "duration": 4,
    "start_time": "2023-01-31T12:09:26.360Z"
   },
   {
    "duration": 5,
    "start_time": "2023-01-31T12:09:57.356Z"
   },
   {
    "duration": 61754,
    "start_time": "2023-01-31T12:10:35.175Z"
   },
   {
    "duration": 55459,
    "start_time": "2023-01-31T12:12:26.919Z"
   },
   {
    "duration": 3,
    "start_time": "2023-01-31T12:13:22.381Z"
   },
   {
    "duration": 15,
    "start_time": "2023-01-31T12:13:22.386Z"
   },
   {
    "duration": 16,
    "start_time": "2023-01-31T12:13:22.403Z"
   },
   {
    "duration": 10149,
    "start_time": "2023-01-31T12:13:22.421Z"
   },
   {
    "duration": 116,
    "start_time": "2023-01-31T12:13:32.572Z"
   },
   {
    "duration": 4,
    "start_time": "2023-01-31T12:13:32.690Z"
   },
   {
    "duration": 7,
    "start_time": "2023-01-31T12:13:32.696Z"
   },
   {
    "duration": 23504,
    "start_time": "2023-01-31T12:13:32.706Z"
   },
   {
    "duration": 3,
    "start_time": "2023-01-31T12:13:56.213Z"
   },
   {
    "duration": 202762,
    "start_time": "2023-01-31T12:13:56.218Z"
   },
   {
    "duration": 1421,
    "start_time": "2023-01-31T12:17:19.054Z"
   },
   {
    "duration": 78,
    "start_time": "2023-01-31T12:17:20.477Z"
   },
   {
    "duration": 6,
    "start_time": "2023-01-31T12:17:20.558Z"
   },
   {
    "duration": 39299,
    "start_time": "2023-01-31T12:17:20.565Z"
   },
   {
    "duration": 11682,
    "start_time": "2023-01-31T12:19:26.072Z"
   },
   {
    "duration": 49,
    "start_time": "2023-01-31T12:21:43.993Z"
   },
   {
    "duration": 10,
    "start_time": "2023-01-31T12:21:51.803Z"
   },
   {
    "duration": 4,
    "start_time": "2023-01-31T12:22:41.873Z"
   },
   {
    "duration": 4,
    "start_time": "2023-01-31T12:23:44.425Z"
   },
   {
    "duration": 139,
    "start_time": "2023-01-31T12:24:37.558Z"
   },
   {
    "duration": 29,
    "start_time": "2023-01-31T12:24:37.975Z"
   },
   {
    "duration": 60,
    "start_time": "2023-01-31T12:24:38.344Z"
   },
   {
    "duration": 473,
    "start_time": "2023-01-31T12:24:39.387Z"
   },
   {
    "duration": 42,
    "start_time": "2023-01-31T12:24:46.778Z"
   },
   {
    "duration": 2,
    "start_time": "2023-01-31T12:24:47.440Z"
   },
   {
    "duration": 2,
    "start_time": "2023-01-31T12:24:48.245Z"
   },
   {
    "duration": 27316,
    "start_time": "2023-01-31T12:24:49.448Z"
   },
   {
    "duration": 1867,
    "start_time": "2023-01-31T12:25:16.765Z"
   },
   {
    "duration": 5,
    "start_time": "2023-01-31T12:25:18.633Z"
   },
   {
    "duration": 18,
    "start_time": "2023-01-31T12:25:18.640Z"
   },
   {
    "duration": 54123,
    "start_time": "2023-01-31T12:25:18.659Z"
   },
   {
    "duration": 4,
    "start_time": "2023-01-31T12:26:12.783Z"
   },
   {
    "duration": 3,
    "start_time": "2023-01-31T12:26:16.339Z"
   },
   {
    "duration": 54294,
    "start_time": "2023-01-31T12:26:17.052Z"
   },
   {
    "duration": 3,
    "start_time": "2023-01-31T12:27:11.353Z"
   },
   {
    "duration": 22951,
    "start_time": "2023-01-31T12:27:41.450Z"
   },
   {
    "duration": 6,
    "start_time": "2023-01-31T12:28:04.403Z"
   },
   {
    "duration": 33960,
    "start_time": "2023-01-31T12:28:04.411Z"
   },
   {
    "duration": 5,
    "start_time": "2023-01-31T12:28:38.373Z"
   },
   {
    "duration": 29,
    "start_time": "2023-01-31T12:28:38.379Z"
   },
   {
    "duration": 55,
    "start_time": "2023-01-31T12:32:15.547Z"
   },
   {
    "duration": 9209,
    "start_time": "2023-01-31T12:40:23.380Z"
   },
   {
    "duration": 107,
    "start_time": "2023-01-31T12:40:32.591Z"
   },
   {
    "duration": 22029,
    "start_time": "2023-01-31T12:40:32.700Z"
   },
   {
    "duration": 39,
    "start_time": "2023-01-31T12:41:23.939Z"
   },
   {
    "duration": 14368,
    "start_time": "2023-01-31T12:41:26.934Z"
   },
   {
    "duration": 1516,
    "start_time": "2023-01-31T12:48:18.361Z"
   },
   {
    "duration": 3,
    "start_time": "2023-01-31T12:48:19.879Z"
   },
   {
    "duration": 793,
    "start_time": "2023-01-31T12:48:19.883Z"
   },
   {
    "duration": 129,
    "start_time": "2023-01-31T12:48:20.677Z"
   },
   {
    "duration": 16,
    "start_time": "2023-01-31T12:48:20.807Z"
   },
   {
    "duration": 136,
    "start_time": "2023-01-31T12:48:20.824Z"
   },
   {
    "duration": 75,
    "start_time": "2023-01-31T12:48:20.961Z"
   },
   {
    "duration": 126,
    "start_time": "2023-01-31T12:48:21.037Z"
   },
   {
    "duration": 444,
    "start_time": "2023-01-31T12:48:21.164Z"
   },
   {
    "duration": 477,
    "start_time": "2023-01-31T12:48:21.611Z"
   },
   {
    "duration": 29,
    "start_time": "2023-01-31T12:48:22.090Z"
   },
   {
    "duration": 14,
    "start_time": "2023-01-31T12:48:22.122Z"
   },
   {
    "duration": 15,
    "start_time": "2023-01-31T12:48:22.138Z"
   },
   {
    "duration": 56,
    "start_time": "2023-01-31T12:48:22.155Z"
   },
   {
    "duration": 94,
    "start_time": "2023-01-31T12:48:22.214Z"
   },
   {
    "duration": 4,
    "start_time": "2023-01-31T12:48:22.310Z"
   },
   {
    "duration": 50,
    "start_time": "2023-01-31T12:48:22.315Z"
   },
   {
    "duration": 88,
    "start_time": "2023-01-31T12:48:22.367Z"
   },
   {
    "duration": 36,
    "start_time": "2023-01-31T12:48:22.456Z"
   },
   {
    "duration": 92,
    "start_time": "2023-01-31T12:48:22.494Z"
   },
   {
    "duration": 52,
    "start_time": "2023-01-31T12:48:22.588Z"
   },
   {
    "duration": 174,
    "start_time": "2023-01-31T12:48:22.654Z"
   },
   {
    "duration": 127,
    "start_time": "2023-01-31T12:48:22.829Z"
   },
   {
    "duration": 124,
    "start_time": "2023-01-31T12:48:22.958Z"
   },
   {
    "duration": 6,
    "start_time": "2023-01-31T12:48:23.084Z"
   },
   {
    "duration": 77,
    "start_time": "2023-01-31T12:48:23.092Z"
   },
   {
    "duration": 11,
    "start_time": "2023-01-31T12:48:23.171Z"
   },
   {
    "duration": 6,
    "start_time": "2023-01-31T12:48:23.186Z"
   },
   {
    "duration": 85,
    "start_time": "2023-01-31T12:48:23.194Z"
   },
   {
    "duration": 6,
    "start_time": "2023-01-31T12:48:23.280Z"
   },
   {
    "duration": 122,
    "start_time": "2023-01-31T12:48:23.288Z"
   },
   {
    "duration": 155,
    "start_time": "2023-01-31T12:48:23.412Z"
   },
   {
    "duration": 32,
    "start_time": "2023-01-31T12:48:23.569Z"
   },
   {
    "duration": 68,
    "start_time": "2023-01-31T12:48:23.602Z"
   },
   {
    "duration": 512,
    "start_time": "2023-01-31T12:48:23.672Z"
   },
   {
    "duration": 44,
    "start_time": "2023-01-31T12:48:24.185Z"
   },
   {
    "duration": 3,
    "start_time": "2023-01-31T12:48:24.231Z"
   },
   {
    "duration": 21,
    "start_time": "2023-01-31T12:48:24.236Z"
   },
   {
    "duration": 26096,
    "start_time": "2023-01-31T12:48:24.258Z"
   },
   {
    "duration": 1788,
    "start_time": "2023-01-31T12:48:50.356Z"
   },
   {
    "duration": 10,
    "start_time": "2023-01-31T12:48:52.146Z"
   },
   {
    "duration": 3,
    "start_time": "2023-01-31T12:48:52.158Z"
   },
   {
    "duration": 52115,
    "start_time": "2023-01-31T12:48:52.162Z"
   },
   {
    "duration": 4,
    "start_time": "2023-01-31T12:49:44.279Z"
   },
   {
    "duration": 26,
    "start_time": "2023-01-31T12:49:44.285Z"
   },
   {
    "duration": 11,
    "start_time": "2023-01-31T12:49:44.313Z"
   },
   {
    "duration": 7,
    "start_time": "2023-01-31T12:49:44.327Z"
   },
   {
    "duration": 9424,
    "start_time": "2023-01-31T12:49:44.336Z"
   },
   {
    "duration": 115,
    "start_time": "2023-01-31T12:49:53.761Z"
   },
   {
    "duration": 5,
    "start_time": "2023-01-31T12:49:53.877Z"
   },
   {
    "duration": 13,
    "start_time": "2023-01-31T12:49:53.883Z"
   },
   {
    "duration": 22949,
    "start_time": "2023-01-31T12:49:53.898Z"
   },
   {
    "duration": 4,
    "start_time": "2023-01-31T12:50:16.849Z"
   },
   {
    "duration": 16,
    "start_time": "2023-01-31T12:50:16.855Z"
   },
   {
    "duration": 11996,
    "start_time": "2023-01-31T12:50:16.872Z"
   },
   {
    "duration": 1402,
    "start_time": "2023-01-31T12:50:28.870Z"
   },
   {
    "duration": 4,
    "start_time": "2023-01-31T12:50:30.274Z"
   },
   {
    "duration": 46,
    "start_time": "2023-01-31T12:50:30.279Z"
   },
   {
    "duration": 37944,
    "start_time": "2023-01-31T12:50:30.327Z"
   },
   {
    "duration": 4,
    "start_time": "2023-01-31T12:51:08.273Z"
   },
   {
    "duration": 76,
    "start_time": "2023-01-31T12:51:08.279Z"
   },
   {
    "duration": 8887,
    "start_time": "2023-01-31T12:51:08.357Z"
   },
   {
    "duration": 41,
    "start_time": "2023-01-31T12:51:17.246Z"
   },
   {
    "duration": 14340,
    "start_time": "2023-01-31T12:51:17.288Z"
   }
  ],
  "kernelspec": {
   "display_name": "Python 3 (ipykernel)",
   "language": "python",
   "name": "python3"
  },
  "language_info": {
   "codemirror_mode": {
    "name": "ipython",
    "version": 3
   },
   "file_extension": ".py",
   "mimetype": "text/x-python",
   "name": "python",
   "nbconvert_exporter": "python",
   "pygments_lexer": "ipython3",
   "version": "3.9.13"
  },
  "toc": {
   "base_numbering": 1,
   "nav_menu": {},
   "number_sections": true,
   "sideBar": true,
   "skip_h1_title": true,
   "title_cell": "Table of Contents",
   "title_sidebar": "Contents",
   "toc_cell": false,
   "toc_position": {},
   "toc_section_display": true,
   "toc_window_display": false
  }
 },
 "nbformat": 4,
 "nbformat_minor": 2
}
